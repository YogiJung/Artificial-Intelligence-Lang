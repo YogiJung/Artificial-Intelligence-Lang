{
  "cells": [
    {
      "cell_type": "markdown",
      "metadata": {
        "id": "view-in-github",
        "colab_type": "text"
      },
      "source": [
        "<a href=\"https://colab.research.google.com/github/YogiJungHoonYeon/Artificial-Intelligence-Lang/blob/main/WaveGlow.ipynb\" target=\"_parent\"><img src=\"https://colab.research.google.com/assets/colab-badge.svg\" alt=\"Open In Colab\"/></a>"
      ]
    },
    {
      "cell_type": "markdown",
      "metadata": {
        "id": "vb3y56PnvRiK"
      },
      "source": [
        "# !pip"
      ]
    },
    {
      "cell_type": "code",
      "execution_count": null,
      "metadata": {
        "colab": {
          "base_uri": "https://localhost:8080/"
        },
        "id": "5qgzHAPPvTEY",
        "outputId": "5a7d15a7-a9fd-4337-ba5a-06e0c86b5f72"
      },
      "outputs": [
        {
          "output_type": "stream",
          "name": "stdout",
          "text": [
            "Collecting import_ipynb\n",
            "  Downloading import_ipynb-0.1.4-py3-none-any.whl (4.1 kB)\n",
            "Requirement already satisfied: IPython in /usr/local/lib/python3.10/dist-packages (from import_ipynb) (7.34.0)\n",
            "Requirement already satisfied: nbformat in /usr/local/lib/python3.10/dist-packages (from import_ipynb) (5.9.1)\n",
            "Requirement already satisfied: setuptools>=18.5 in /usr/local/lib/python3.10/dist-packages (from IPython->import_ipynb) (67.7.2)\n",
            "Collecting jedi>=0.16 (from IPython->import_ipynb)\n",
            "  Downloading jedi-0.19.0-py2.py3-none-any.whl (1.6 MB)\n",
            "\u001b[2K     \u001b[90m━━━━━━━━━━━━━━━━━━━━━━━━━━━━━━━━━━━━━━━━\u001b[0m \u001b[32m1.6/1.6 MB\u001b[0m \u001b[31m23.1 MB/s\u001b[0m eta \u001b[36m0:00:00\u001b[0m\n",
            "\u001b[?25hRequirement already satisfied: decorator in /usr/local/lib/python3.10/dist-packages (from IPython->import_ipynb) (4.4.2)\n",
            "Requirement already satisfied: pickleshare in /usr/local/lib/python3.10/dist-packages (from IPython->import_ipynb) (0.7.5)\n",
            "Requirement already satisfied: traitlets>=4.2 in /usr/local/lib/python3.10/dist-packages (from IPython->import_ipynb) (5.7.1)\n",
            "Requirement already satisfied: prompt-toolkit!=3.0.0,!=3.0.1,<3.1.0,>=2.0.0 in /usr/local/lib/python3.10/dist-packages (from IPython->import_ipynb) (3.0.39)\n",
            "Requirement already satisfied: pygments in /usr/local/lib/python3.10/dist-packages (from IPython->import_ipynb) (2.14.0)\n",
            "Requirement already satisfied: backcall in /usr/local/lib/python3.10/dist-packages (from IPython->import_ipynb) (0.2.0)\n",
            "Requirement already satisfied: matplotlib-inline in /usr/local/lib/python3.10/dist-packages (from IPython->import_ipynb) (0.1.6)\n",
            "Requirement already satisfied: pexpect>4.3 in /usr/local/lib/python3.10/dist-packages (from IPython->import_ipynb) (4.8.0)\n",
            "Requirement already satisfied: fastjsonschema in /usr/local/lib/python3.10/dist-packages (from nbformat->import_ipynb) (2.18.0)\n",
            "Requirement already satisfied: jsonschema>=2.6 in /usr/local/lib/python3.10/dist-packages (from nbformat->import_ipynb) (4.3.3)\n",
            "Requirement already satisfied: jupyter-core in /usr/local/lib/python3.10/dist-packages (from nbformat->import_ipynb) (5.3.1)\n",
            "Requirement already satisfied: parso<0.9.0,>=0.8.3 in /usr/local/lib/python3.10/dist-packages (from jedi>=0.16->IPython->import_ipynb) (0.8.3)\n",
            "Requirement already satisfied: attrs>=17.4.0 in /usr/local/lib/python3.10/dist-packages (from jsonschema>=2.6->nbformat->import_ipynb) (23.1.0)\n",
            "Requirement already satisfied: pyrsistent!=0.17.0,!=0.17.1,!=0.17.2,>=0.14.0 in /usr/local/lib/python3.10/dist-packages (from jsonschema>=2.6->nbformat->import_ipynb) (0.19.3)\n",
            "Requirement already satisfied: ptyprocess>=0.5 in /usr/local/lib/python3.10/dist-packages (from pexpect>4.3->IPython->import_ipynb) (0.7.0)\n",
            "Requirement already satisfied: wcwidth in /usr/local/lib/python3.10/dist-packages (from prompt-toolkit!=3.0.0,!=3.0.1,<3.1.0,>=2.0.0->IPython->import_ipynb) (0.2.6)\n",
            "Requirement already satisfied: platformdirs>=2.5 in /usr/local/lib/python3.10/dist-packages (from jupyter-core->nbformat->import_ipynb) (3.9.1)\n",
            "Installing collected packages: jedi, import_ipynb\n",
            "Successfully installed import_ipynb-0.1.4 jedi-0.19.0\n",
            "Collecting ffmpeg\n",
            "  Downloading ffmpeg-1.4.tar.gz (5.1 kB)\n",
            "  Preparing metadata (setup.py) ... \u001b[?25l\u001b[?25hdone\n",
            "Building wheels for collected packages: ffmpeg\n",
            "  Building wheel for ffmpeg (setup.py) ... \u001b[?25l\u001b[?25hdone\n",
            "  Created wheel for ffmpeg: filename=ffmpeg-1.4-py3-none-any.whl size=6082 sha256=cd71a371d6e19e4f75048b0c28d6acd0fd335990698b4ffeaca903cd80b75a8a\n",
            "  Stored in directory: /root/.cache/pip/wheels/8e/7a/69/cd6aeb83b126a7f04cbe7c9d929028dc52a6e7d525ff56003a\n",
            "Successfully built ffmpeg\n",
            "Installing collected packages: ffmpeg\n",
            "Successfully installed ffmpeg-1.4\n",
            "Collecting pydub\n",
            "  Downloading pydub-0.25.1-py2.py3-none-any.whl (32 kB)\n",
            "Installing collected packages: pydub\n",
            "Successfully installed pydub-0.25.1\n",
            "Collecting jamo\n",
            "  Downloading jamo-0.4.1-py3-none-any.whl (9.5 kB)\n",
            "Installing collected packages: jamo\n",
            "Successfully installed jamo-0.4.1\n"
          ]
        }
      ],
      "source": [
        "!pip install import_ipynb\n",
        "!pip install ffmpeg\n",
        "!pip install pydub\n",
        "!pip install jamo"
      ]
    },
    {
      "cell_type": "markdown",
      "metadata": {
        "id": "VbrVQ1b1vV4y"
      },
      "source": [
        "# Modules"
      ]
    },
    {
      "cell_type": "code",
      "execution_count": null,
      "metadata": {
        "id": "5Di9vYXwpAZm"
      },
      "outputs": [],
      "source": [
        "from google.colab import drive\n",
        "import os\n",
        "import numpy as np\n",
        "import matplotlib.pyplot as plt\n",
        "import tensorflow as tf\n",
        "import import_ipynb\n",
        "\n",
        "import os\n",
        "import numpy as np\n",
        "import tensorflow as tf\n",
        "import matplotlib.pyplot as plt\n",
        "from tensorflow.keras.models import Model\n",
        "from tensorflow.keras.callbacks import ModelCheckpoint, TensorBoard\n",
        "import re\n",
        "import pandas as pd\n",
        "from jamo import h2j, j2hcj\n",
        "from scipy.io import wavfile #입력\n",
        "import IPython.display as ipd #출력\n",
        "from pydub import AudioSegment #m4a -> wave file\n",
        "import librosa"
      ]
    },
    {
      "cell_type": "markdown",
      "metadata": {
        "id": "tSymFrYDPFEe"
      },
      "source": [
        "#mkdir"
      ]
    },
    {
      "cell_type": "code",
      "execution_count": null,
      "metadata": {
        "id": "vCTadi6FnK7r"
      },
      "outputs": [],
      "source": [
        "\n",
        "os.mkdir('m4a_folder')\n",
        "os.mkdir('wav_folder')"
      ]
    },
    {
      "cell_type": "markdown",
      "metadata": {
        "id": "zuYT6QwkvYGt"
      },
      "source": [
        "# import file"
      ]
    },
    {
      "cell_type": "code",
      "execution_count": null,
      "metadata": {
        "colab": {
          "base_uri": "https://localhost:8080/"
        },
        "id": "YwkM1I0KpYaq",
        "outputId": "eb561289-b624-4f87-bcc1-3b53bd6777f6"
      },
      "outputs": [
        {
          "output_type": "stream",
          "name": "stdout",
          "text": [
            "Mounted at /content/drive\n"
          ]
        }
      ],
      "source": [
        "def drive_mount(drive_name):\n",
        "  dir_name = os.getcwd()\n",
        "  drive_path = os.path.join(dir_name,drive_name)\n",
        "  drive.mount(drive_path)\n",
        "drive_mount('drive')\n"
      ]
    },
    {
      "cell_type": "markdown",
      "metadata": {
        "id": "CRtO6Xx7eMIs"
      },
      "source": [
        "#Preprocessing class"
      ]
    },
    {
      "cell_type": "code",
      "execution_count": null,
      "metadata": {
        "id": "gaX5iEdaePsE"
      },
      "outputs": [],
      "source": [
        "class ko_embedding_transformed():\n",
        "  def word_preprocessing(self,sentences):\n",
        "    vocab = []\n",
        "    stop_word = ['/', '?', '\"', \"'\", '~', ',', '`', '@', '!', '.', '#', '$', '%', '^', '&', '*', '()', '(', ')', '_', '-', '+', '=', '<', '>']\n",
        "\n",
        "    for sentence in sentences:\n",
        "\n",
        "      filter = re.compile('[a-zA-Z0-9]')\n",
        "      filter_list = filter.findall(sentence)\n",
        "\n",
        "      jamo_str = j2hcj(h2j(sentence))\n",
        "      jamo_str = list(jamo_str)\n",
        "      for b in range(len(filter_list)):\n",
        "        jamo_str.remove(filter_list[b])\n",
        "      index_of_stop_word = []\n",
        "      for j in range(len(jamo_str)):\n",
        "        for i in range(len(stop_word)):\n",
        "          if jamo_str[j] == stop_word[i]:\n",
        "            index_of_stop_word.append(j)\n",
        "\n",
        "      index_of_stop_word = sorted(index_of_stop_word)\n",
        "      index_of_stop_word = list(reversed(index_of_stop_word))\n",
        "      for k in range(len(index_of_stop_word)):\n",
        "        del jamo_str[index_of_stop_word[k]]\n",
        "\n",
        "      #stop 불용어\n",
        "      neutral = ['ㅏ','ㅐ','ㅑ','ㅒ','ㅓ','ㅔ','ㅕ','ㅖ','ㅗ','ㅘ','ㅙ','ㅚ','ㅛ','ㅜ','ㅝ','ㅞ','ㅟ','ㅠ','ㅡ','ㅢ','ㅣ']\n",
        "      index_box = []\n",
        "      for i in range(len(jamo_str)):\n",
        "        index_box.append(i+1) #1~ 20\n",
        "      for i in index_box:\n",
        "        if i % 3 == 0:\n",
        "          for j in range(len(neutral)):\n",
        "            if jamo_str[i] == neutral[j]:\n",
        "              jamo_str.insert(i-1,'')\n",
        "              index_box.append(len(index_box)) #max_length가 늘어남\n",
        "\n",
        "\n",
        "      for g in range(len(neutral)):\n",
        "        if jamo_str[len(jamo_str)-1] == neutral[g]:\n",
        "          jamo_str.append('')\n",
        "\n",
        "\n",
        "\n",
        "      vocab.append(jamo_str)\n",
        "\n",
        "\n",
        "\n",
        "    return vocab\n",
        "  def word_embedding(self,vocab):\n",
        "    initial = ['ㄱ', 'ㄴ', 'ㄷ', 'ㄹ', 'ㅁ', 'ㅂ', 'ㅅ', 'ㅇ', 'ㅈ' ,'ㅊ','ㅋ', 'ㅌ','ㅍ','ㅎ','ㄲ','ㅃ','ㅉ','ㅆ','ㄸ'] #19\n",
        "    neutral = ['ㅏ','ㅐ','ㅑ','ㅒ','ㅓ','ㅔ','ㅕ','ㅖ','ㅗ','ㅘ','ㅙ','ㅚ','ㅛ','ㅜ','ㅝ','ㅞ','ㅟ','ㅠ','ㅡ','ㅢ','ㅣ'] #21\n",
        "    final = ['ㄱ','ㄲ','ㄳ','ㄴ','ㄵ','ㄶ','ㄷ','ㄹ','ㄺ','ㄻ','ㄼ','ㄽ','ㄾ','ㄿ','ㅀ','ㅁ','ㅂ','ㅄ','ㅅ','ㅆ','ㅇ','ㅈ','ㅊ','ㅋ','ㅌ','ㅍ','ㅎ',''] #28\n",
        "    initial_dict = {}\n",
        "    neutral_dict = {}\n",
        "    final_dict = {}\n",
        "    for i , initial_word in enumerate(initial):\n",
        "      initial_dict[initial_word] = i\n",
        "    for j , neutral_word in enumerate(neutral):\n",
        "      neutral_dict[neutral_word] = j + len(initial)\n",
        "    for k, final_word in enumerate(final):\n",
        "      final_dict[final_word] = k + len(initial) + len(neutral)\n",
        "    i = 0\n",
        "    encoded_vocab = []\n",
        "    for sentence in vocab:\n",
        "      sentence_list = []\n",
        "\n",
        "      for word in sentence:\n",
        "        i = i + 1\n",
        "        if i == 1:\n",
        "          sentence_list.append(initial_dict[word])\n",
        "\n",
        "        elif i == 2:\n",
        "          sentence_list.append(neutral_dict[word])\n",
        "\n",
        "        elif i == 3:\n",
        "          sentence_list.append(final_dict[word])\n",
        "\n",
        "        if i % 3 ==0:\n",
        "          i = 0\n",
        "      encoded_vocab.append(sentence_list)\n",
        "\n",
        "    return encoded_vocab\n",
        "  def final_word_embedding(self,encoded_vocab,embedding_dim):\n",
        "\n",
        "      length_list = []\n",
        "      vocab_list = []\n",
        "      for encoded_sentence in encoded_vocab:\n",
        "        encoded_sentence.insert(0, 68) #<sos>\n",
        "        encoded_sentence.append(69) #<eos>\n",
        "        length_list.append(len(encoded_sentence))\n",
        "      max_length = max(length_list)\n",
        "\n",
        "      for encoded_sentence in encoded_vocab:\n",
        "        for _ in range(max_length - len(encoded_sentence)):\n",
        "          encoded_sentence.append(70) #<pad>\n",
        "        vocab_list.append(encoded_sentence)\n",
        "\n",
        "      word_vec = np.zeros(shape=(len(encoded_vocab), max_length, embedding_dim))\n",
        "\n",
        "      for k, encoded_sentence in enumerate(vocab_list):\n",
        "\n",
        "        for m, i in enumerate(encoded_sentence):\n",
        "\n",
        "          word_vec[k,m,i] = 1\n",
        "\n",
        "      return word_vec\n",
        "\n",
        "\n",
        "\n",
        "  def call(self,sentence_list):\n",
        "    vocab = self.word_preprocessing(sentence_list)\n",
        "    vocab = self.word_embedding(vocab)\n",
        "    word_vec = self.final_word_embedding(vocab, 512)\n",
        "    word_vec = np.asarray(word_vec)\n",
        "    return word_vec"
      ]
    },
    {
      "cell_type": "code",
      "execution_count": null,
      "metadata": {
        "id": "MSSnDKO7egrO"
      },
      "outputs": [],
      "source": [
        "class audio_data_preprocessing_transformed():\n",
        "  def m4a_to_wav(self, m4a_folder_name, wav_folder_name):\n",
        "    dir_path = os.getcwd()\n",
        "    m4a_folder_path = os.path.join(dir_path, m4a_folder_name)\n",
        "    wav_folder_path = os.path.join(dir_path, wav_folder_name)\n",
        "\n",
        "    for file_name in os.listdir(m4a_folder_path):\n",
        "      file_path = os.path.join(m4a_folder_path, file_name)\n",
        "      if os.path.isdir(file_path) != True:\n",
        "        audio_m4a = AudioSegment.from_file(file_path, format='m4a')\n",
        "\n",
        "        wav_file_path = os.path.join(wav_folder_name, file_name)\n",
        "        audio_m4a.export(wav_file_path, format='wav')\n",
        "      else:\n",
        "        pass;\n",
        "  def Mel_spectrogram(self,wav_folder_name, frame_length, frame_stride, n_mels):\n",
        "    mel_spectrogram_list = []\n",
        "    dir_name = os.getcwd()\n",
        "    wav_folder_path = os.path.join(dir_name, wav_folder_name)\n",
        "    for i, file_name in enumerate(os.listdir(wav_folder_path)):\n",
        "      if i == 0:\n",
        "        print('first file: {}'.format(file_name))\n",
        "      wav_file_path = os.path.join(wav_folder_path, file_name)\n",
        "      if os.path.isdir(wav_file_path) != True:\n",
        "        data, sampling_rate = librosa.load(wav_file_path)\n",
        "        n_fft = int(round(sampling_rate * frame_length))\n",
        "        stride = int(round(sampling_rate * frame_stride))\n",
        "      else:\n",
        "        pass;\n",
        "\n",
        "      mel_spectrogram = librosa.feature.melspectrogram(y=data, sr=sampling_rate, n_fft=n_fft,\n",
        "                                                      hop_length = stride,n_mels = n_mels )\n",
        "      log_mel_spectrogram = np.log1p(mel_spectrogram)\n",
        "      mel_spectrogram_list.append(log_mel_spectrogram)\n",
        "\n",
        "    return mel_spectrogram_list\n",
        "  def mel_spectrogram_list_pad(self,Mel_spectrogram_list, embedding_dim):\n",
        "    length_list = []\n",
        "    for mel_spectrogram in Mel_spectrogram_list:\n",
        "      #print(mel_spectrogram.shape)\n",
        "      length_list.append(mel_spectrogram.shape[1])\n",
        "    max_length = max(length_list)\n",
        "    mel_spectrogram_list = []\n",
        "    for mel_spectrogram in Mel_spectrogram_list:\n",
        "      if max_length > embedding_dim:\n",
        "\n",
        "        mel_spectrogram = np.pad(mel_spectrogram, pad_width = ((0,0), (0,max_length - mel_spectrogram.shape[1])),\n",
        "              mode = 'constant', constant_values=0)\n",
        "        mel_spectrogram_list.append(mel_spectrogram)\n",
        "      else:\n",
        "        mel_spectrogram = np.pad(mel_spectrogram, pad_width = ((0,0), (0,embedding_dim - mel_spectrogram.shape[1])),\n",
        "              mode = 'constant', constant_values=0)\n",
        "        mel_spectrogram_list.append(mel_spectrogram)\n",
        "\n",
        "    return mel_spectrogram_list\n",
        "  def mel_spectrogram_to_numpy(self,mel_spectrogram_list):\n",
        "    n_of_mel_spectrogram = len(mel_spectrogram_list)\n",
        "    mel_spectrogram_numpy = np.zeros((n_of_mel_spectrogram, mel_spectrogram_list[0].shape[0], mel_spectrogram_list[0].shape[1]))\n",
        "    for i, mel_spectrogram in enumerate(mel_spectrogram_list):\n",
        "      mel_spectrogram_numpy[i][:][:] = mel_spectrogram\n",
        "\n",
        "    return mel_spectrogram_numpy\n",
        "\n",
        "  def call(self,m4a_folder_name, wav_folder_name, frame_length, frame_stride, n_mels, embedding_dim):\n",
        "\n",
        "    #self.m4a_to_wav(m4a_folder_name, wav_folder_name)\n",
        "    mel_spectrogram_list = self.Mel_spectrogram(wav_folder_name, frame_length, frame_stride, n_mels)\n",
        "    mel_spectrogram_list = self.mel_spectrogram_list_pad(mel_spectrogram_list, embedding_dim)\n",
        "    mel_spectrogram = self.mel_spectrogram_to_numpy(mel_spectrogram_list)\n",
        "    return mel_spectrogram\n"
      ]
    },
    {
      "cell_type": "code",
      "execution_count": null,
      "metadata": {
        "id": "H6Jrt9KeevQX"
      },
      "outputs": [],
      "source": [
        "class train_data_generation_transformed():\n",
        "  def __init__(self, m4a_folder_name, wav_folder_name, frame_length, frame_stride, n_mels,excel_file_name\n",
        "               ,embedding_dim):\n",
        "    self.m4a_folder_name = m4a_folder_name\n",
        "    self.wav_folder_name = wav_folder_name\n",
        "    self.frame_length = frame_length\n",
        "    self.frame_stride = frame_stride\n",
        "    self.n_mels = n_mels\n",
        "    self.excel_file_name = excel_file_name\n",
        "    self.embedding_dim = embedding_dim\n",
        "    self.ko_embedding_transformed = ko_embedding_transformed()\n",
        "    self.audio_data_preprocessing_transformed = audio_data_preprocessing_transformed()\n",
        "\n",
        "  def call(self):\n",
        "    df = pd.read_excel(self.excel_file_name)\n",
        "    sentence_list = []\n",
        "    for sentence in df['sentence']:\n",
        "      sentence = sentence.replace(' ', \"\")\n",
        "      sentence_list.append(sentence)\n",
        "\n",
        "    word_vec = self.ko_embedding_transformed.call(sentence_list)\n",
        "    word_vec = tf.cast(word_vec, tf.dtypes.float32).numpy()\n",
        "    mel_spectrogram = self.audio_data_preprocessing_transformed.call(self.m4a_folder_name, self.wav_folder_name,\n",
        "                                                                     self.frame_length, self.frame_stride, self.n_mels, self.embedding_dim)\n",
        "    return word_vec , mel_spectrogram\n"
      ]
    },
    {
      "cell_type": "markdown",
      "metadata": {
        "id": "CFI8aoWswHNC"
      },
      "source": [
        "# Data Preprocessing"
      ]
    },
    {
      "cell_type": "code",
      "source": [
        "'''\n",
        "en_re = re.compile('[a-zA-Z]')\n",
        "folder_path = '/content/drive/MyDrive/wav_result_group/wav_result_1/wav_folder_6'\n",
        "for i, file_name in enumerate(os.listdir(folder_path)):\n",
        "  file_path = os.path.join(folder_path, file_name)\n",
        "  file_refine = file_name.replace('.wav','')\n",
        "  if en_re.search(file_refine) != None:\n",
        "    os.remove(file_path)\n",
        "'''"
      ],
      "metadata": {
        "colab": {
          "base_uri": "https://localhost:8080/",
          "height": 1000
        },
        "id": "9_jA97dJ2vTK",
        "outputId": "171902c4-da1a-4191-ea20-59da575d0570"
      },
      "execution_count": null,
      "outputs": [
        {
          "output_type": "execute_result",
          "data": {
            "text/plain": [
              "\"\\nen_re = re.compile('[a-zA-Z]')\\nfolder_path = '/content/drive/MyDrive/wav_result_group/wav_result_1/wav_folder_6'\\nfor i, file_name in enumerate(os.listdir(folder_path)):\\n  file_path = os.path.join(folder_path, file_name)\\n  file_refine = file_name.replace('.wav','')\\n  if en_re.search(file_refine) != None:\\n    os.remove(file_path)\\n\""
            ],
            "application/vnd.google.colaboratory.intrinsic+json": {
              "type": "string"
            }
          },
          "metadata": {},
          "execution_count": 10
        }
      ]
    },
    {
      "cell_type": "code",
      "execution_count": null,
      "metadata": {
        "id": "UutTSPg6_ogU",
        "colab": {
          "base_uri": "https://localhost:8080/"
        },
        "outputId": "659e4d3c-2d21-4452-f885-bc240502f94d"
      },
      "outputs": [
        {
          "output_type": "stream",
          "name": "stdout",
          "text": [
            "first file: 나중에들은 이야기지만.wav\n"
          ]
        }
      ],
      "source": [
        "audio_preprocessing = audio_data_preprocessing_transformed()\n",
        "mel_spectrogram = audio_preprocessing.call('m4a_folder','/content/drive/MyDrive/wav_result_group/wav_result_1/wav_folder_5',0.025,0.010,80,624)"
      ]
    },
    {
      "cell_type": "code",
      "source": [
        "print(mel_spectrogram.shape)"
      ],
      "metadata": {
        "colab": {
          "base_uri": "https://localhost:8080/"
        },
        "id": "XyVISBE248h8",
        "outputId": "528150a6-e67e-4a0a-ad93-54781703a0c1"
      },
      "execution_count": null,
      "outputs": [
        {
          "output_type": "stream",
          "name": "stdout",
          "text": [
            "(1206, 80, 949)\n"
          ]
        }
      ]
    },
    {
      "cell_type": "code",
      "source": [
        "mel_tempo = mel_spectrogram.shape[-1]\n",
        "raw_audio_embedding = 846 * 32\n",
        "print(raw_audio_embedding)"
      ],
      "metadata": {
        "colab": {
          "base_uri": "https://localhost:8080/"
        },
        "id": "Xbp8R4NihR2g",
        "outputId": "3273a32d-83ad-4172-f5b0-047ae4ef09d9"
      },
      "execution_count": null,
      "outputs": [
        {
          "output_type": "stream",
          "name": "stdout",
          "text": [
            "27072\n"
          ]
        }
      ]
    },
    {
      "cell_type": "code",
      "execution_count": null,
      "metadata": {
        "colab": {
          "base_uri": "https://localhost:8080/"
        },
        "id": "xmQ2BIZvk3Xx",
        "outputId": "cf679793-affa-4c13-bcea-36bd90c41001"
      },
      "outputs": [
        {
          "output_type": "stream",
          "name": "stdout",
          "text": [
            "sampling_rate:2756\n"
          ]
        }
      ],
      "source": [
        "class raw_audio_preprocessing():\n",
        "\n",
        "  def raw_audio_data(self,wav_folder_name):\n",
        "    dir_name = os.getcwd()\n",
        "    audio_data_list = []\n",
        "    sampling_rate_list = []\n",
        "    wav_folder_path = os.path.join(dir_name, wav_folder_name)\n",
        "    for audio in os.listdir(wav_folder_path):\n",
        "      if os.path.isdir(audio) == True:\n",
        "        pass;\n",
        "      else:\n",
        "        wav_file_path = os.path.join(wav_folder_path, audio)\n",
        "        data, sampling_rate = librosa.load(wav_file_path)\n",
        "        audio_data_list.append(data)\n",
        "        sampling_rate_list.append(sampling_rate)\n",
        "\n",
        "    return audio_data_list, sampling_rate_list\n",
        "\n",
        "  def audio_data_pad(self,audio_data_list,embedding_dim,sampling_rate_list):\n",
        "    length_list = []\n",
        "    audio_data_list_resampled = []\n",
        "    print('sampling_rate:{}'.format(sampling_rate_list[0]//8))\n",
        "    for i, data in enumerate(audio_data_list):\n",
        "      data_resampled = librosa.resample(y = data, orig_sr=sampling_rate_list[i], target_sr=sampling_rate_list[i]//8)\n",
        "      length_list.append(data_resampled.shape[0])\n",
        "      audio_data_list_resampled.append(data_resampled)\n",
        "    data_list = []\n",
        "    max_length = max(length_list)\n",
        "    if max_length < embedding_dim:\n",
        "      for data in audio_data_list_resampled:\n",
        "        data_numpy = np.expand_dims(data, axis = 0)\n",
        "        data_pad = np.pad(data_numpy, pad_width=((0,0),(0,embedding_dim - data_numpy.shape[1])), mode='constant', constant_values=0)\n",
        "        data_list.append(data_pad)\n",
        "    else:\n",
        "      for data in audio_data_list_resampled:\n",
        "        data_numpy = np.expand_dims(data, axis = 0)\n",
        "        data_pad = np.pad(data_numpy, pad_width=((0,0),(0,max_length - data_numpy.shape[1])), mode='constant', constant_values=0)\n",
        "        data_list.append(data_pad)\n",
        "\n",
        "\n",
        "    raw_audio_data = np.concatenate(data_list, axis = 0)\n",
        "\n",
        "    return raw_audio_data\n",
        "  def normalize(self, raw_audio_data):\n",
        "    max_val = tf.reduce_max(raw_audio_data)\n",
        "    min_val = tf.reduce_min(raw_audio_data)\n",
        "\n",
        "\n",
        "    normalized_audio_data = (raw_audio_data - min_val) / (max_val - min_val)\n",
        "    return normalized_audio_data\n",
        "\n",
        "  def call(self,wav_folder_name):\n",
        "    audio_data_list, sampling_rate_list = self.raw_audio_data(wav_folder_name)\n",
        "    raw_audio_data = self.audio_data_pad(audio_data_list, raw_audio_embedding, sampling_rate_list)\n",
        "    raw_audio_data = self.normalize(raw_audio_data)\n",
        "    return raw_audio_data\n",
        "\n",
        "raw_audio_preprocessing = raw_audio_preprocessing()\n",
        "raw_audio_data = raw_audio_preprocessing.call('/content/drive/MyDrive/wav_result_group/wav_result_1/wav_folder_5')\n",
        "\n",
        "#raw_audio_data를 낮은 sampling_rate로 resampling 해도 복구할때 같은 sampling_rate를 해주면 괜찮다"
      ]
    },
    {
      "cell_type": "code",
      "execution_count": null,
      "metadata": {
        "colab": {
          "base_uri": "https://localhost:8080/"
        },
        "id": "c5PmQiuks0Gy",
        "outputId": "7c90f674-ecaa-424f-dcfb-f328a107fb13"
      },
      "outputs": [
        {
          "output_type": "stream",
          "name": "stdout",
          "text": [
            "raw_audio_data.shape:(1206, 27072)\n",
            "mel_spectrogram.shape:(1206, 80, 949)\n"
          ]
        }
      ],
      "source": [
        "print('raw_audio_data.shape:{}'.format(raw_audio_data.shape)) #(B, T)\n",
        "print('mel_spectrogram.shape:{}'.format(mel_spectrogram.shape))"
      ]
    },
    {
      "cell_type": "markdown",
      "metadata": {
        "id": "h5ah1h34w6Mq"
      },
      "source": [
        "#Modules"
      ]
    },
    {
      "cell_type": "code",
      "execution_count": null,
      "metadata": {
        "id": "gwqdf0l6w7Ry"
      },
      "outputs": [],
      "source": [
        "from tensorflow.keras.activations import tanh, softmax, sigmoid, relu\n",
        "from tensorflow.random import uniform\n",
        "from tensorflow.keras.layers import Conv1D, BatchNormalization, Bidirectional, Dense, LSTM, Conv1DTranspose, UpSampling1D,Input, LayerNormalization,LeakyReLU,Dropout\n",
        "from tensorflow.keras.models import Model, load_model\n",
        "from tensorflow.keras.losses import MeanSquaredError, Loss\n",
        "from tensorflow.keras.optimizers import Adam\n",
        "from tensorflow.keras import Sequential\n",
        "import math"
      ]
    },
    {
      "cell_type": "code",
      "execution_count": null,
      "metadata": {
        "colab": {
          "base_uri": "https://localhost:8080/"
        },
        "id": "KaBhSp6_L7k1",
        "outputId": "517ae458-f01d-40de-efa2-f7b3ca232dbe"
      },
      "outputs": [
        {
          "output_type": "stream",
          "name": "stdout",
          "text": [
            "mel_spectrogram:(1206, 80, 949), raw_audio_data:(1206, 27072)\n"
          ]
        }
      ],
      "source": [
        "print('mel_spectrogram:{}, raw_audio_data:{}'.format(mel_spectrogram.shape, raw_audio_data.shape))"
      ]
    },
    {
      "cell_type": "code",
      "source": [
        "ipd.Audio(raw_audio_data[0],rate = 3000)"
      ],
      "metadata": {
        "colab": {
          "base_uri": "https://localhost:8080/",
          "height": 72
        },
        "id": "KxPjfsAoTXIe",
        "outputId": "f0e6310d-5d56-4a23-fe8a-5ab7925cd69c"
      },
      "execution_count": null,
      "outputs": [
        {
          "output_type": "execute_result",
          "data": {
            "text/plain": [
              "<IPython.lib.display.Audio object>"
            ],
            "text/html": [
              "\n",
              "                <audio  controls=\"controls\" >\n",
              "                    <source src=\"data:audio/wav;base64,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\" type=\"audio/wav\" />\n",
              "                    Your browser does not support the audio element.\n",
              "                </audio>\n",
              "              "
            ]
          },
          "metadata": {},
          "execution_count": 18
        }
      ]
    },
    {
      "cell_type": "markdown",
      "metadata": {
        "id": "kNokci3atVjl"
      },
      "source": [
        "#WaveGlow"
      ]
    },
    {
      "cell_type": "code",
      "execution_count": null,
      "metadata": {
        "id": "cZhFzwmURo8h"
      },
      "outputs": [],
      "source": [
        "class Invertible_Convolution_3(Model):\n",
        "  def __init__(self,n_channels,batch_size):\n",
        "    super(Invertible_Convolution_3, self).__init__()\n",
        "    self.n_channels = n_channels\n",
        "    self.invertible_conv = Conv1D(filters= n_channels, kernel_size =1 , use_bias = False,trainable=False)\n",
        "    W,r  = tf.linalg.qr(tf.random.normal(shape=(n_channels,n_channels)))\n",
        "    self.invertible_conv.set_weights = W\n",
        "    self.batch_size = batch_size\n",
        "  def reverse(self,z):\n",
        "    W = tf.squeeze(self.invertible_conv.weights[0])\n",
        "    W_inverse = tf.linalg.inv(W)\n",
        "    W_inverse = tf.expand_dims(W_inverse, axis = 0)\n",
        "\n",
        "    #print('Winverse,z:{},{}',W_inverse.shape, z.shape)\n",
        "    x = tf.nn.conv1d(z,filters=W_inverse, stride= 1,padding = 'VALID',dilations=1)\n",
        "\n",
        "    return x\n",
        "\n",
        "  def call(self,raw_audio_data, log_det_sum):\n",
        "\n",
        "    invertibled_audio = self.invertible_conv(raw_audio_data)\n",
        "    #print(invertibled_audio.shape)\n",
        "    B,T,C = invertibled_audio.shape\n",
        "\n",
        "    W = tf.squeeze(self.invertible_conv.weights[0], axis = 0)\n",
        "\n",
        "    det_W = tf.linalg.det(W)\n",
        "    #print('det_W의 값:{}'.format(det_W))\n",
        "    log_det_W = tf.math.log(tf.abs(det_W))\n",
        "    #print('log_det_W의 값:{}'.format(log_det_W))\n",
        "\n",
        "    computed_log_det_W = log_det_W * self.batch_size * T\n",
        "    #print('computed_lot_det_W: {}'.format(computed_log_det_W))\n",
        "    #print(computed_log_det_W,log_det_sum, 'computed_log_det_W, log_det_sum')\n",
        "    log_det_sum = log_det_sum + computed_log_det_W\n",
        "    return invertibled_audio, log_det_sum\n",
        "\n",
        "class WaveNet_3(Model):\n",
        "  def __init__(self,n_layers,n_channels,wave_net_filter):\n",
        "    super(WaveNet_3,self).__init__()\n",
        "    self.wave_sequential_dil_x = Sequential()\n",
        "    self.wave_sequential_dil_mel = Sequential()\n",
        "    self.wave_sequential_conv_x = Sequential()\n",
        "    self.wave_sequential_conv_mel = Sequential()\n",
        "\n",
        "    filter_num = n_channels // 2\n",
        "    self.wave_net_filter = wave_net_filter\n",
        "\n",
        "    self.skip_conv_1_x = Conv1D(filters = filter_num *4, kernel_size =31, padding = 'same', activation = 'relu')\n",
        "    self.skip_conv_2_x = Conv1D(filters = filter_num, kernel_size = 31, padding = 'same')\n",
        "\n",
        "    self.skip_conv_1_mel = Conv1D(filters = filter_num *4, kernel_size =31, padding = 'same', activation = 'relu')\n",
        "    self.skip_conv_2_mel = Conv1D(filters = filter_num, kernel_size =31, padding = 'same')\n",
        "\n",
        "    self.n_layers = n_layers\n",
        "    self.dropout = Dropout(rate=0.5)\n",
        "\n",
        "  def call(self,x_a, upsampled_mel):\n",
        "    dilation = 3\n",
        "\n",
        "    if len(self.wave_sequential_dil_x.layers) ==0:\n",
        "      self.wave_sequential_dil_x.add(Input(shape=(x_a.shape)))\n",
        "      self.wave_sequential_dil_mel.add(Input(shape=(upsampled_mel.shape)))\n",
        "      self.wave_sequential_conv_x.add(Input(shape=(x_a.shape[0], x_a.shape[1], self.wave_net_filter)))\n",
        "      self.wave_sequential_conv_mel.add(Input(shape=(upsampled_mel.shape[0], upsampled_mel.shape[1], self.wave_net_filter)))\n",
        "    #print(len(self.wave_sequential_dil_x.layers))\n",
        "    if len(self.wave_sequential_dil_x.layers) == 0:\n",
        "      for i in range(self.n_layers):\n",
        "\n",
        "        self.wave_sequential_dil_x.add(Conv1D(filters = self.wave_net_filter,kernel_size = 15, dilation_rate = dilation ** i\n",
        "                                              ,use_bias=False,padding = 'same'))\n",
        "\n",
        "        self.wave_sequential_conv_x.add(Conv1D(filters = self.wave_net_filter, kernel_size = 15, use_bias = False,\n",
        "                                                padding = 'same'))\n",
        "\n",
        "\n",
        "      for i in range(self.n_layers):\n",
        "\n",
        "\n",
        "        self.wave_sequential_dil_mel.add(Conv1D(filters = self.wave_net_filter,kernel_size = 15, dilation_rate = dilation ** i,\n",
        "                                                use_bias = False,padding = 'same'))\n",
        "\n",
        "        self.wave_sequential_conv_mel.add(Conv1D(filters = self.wave_net_filter, kernel_size = 15,use_bias = False,\n",
        "                                                  padding = 'same'))\n",
        "\n",
        "\n",
        "    #print('layer의 길이:{},{}'.format(len(self.wave_sequential_dil_x.layers), len(self.wave_sequential_conv_mel.layers)))\n",
        "    output_list_x = [x_a]\n",
        "    block_output_list_x = []\n",
        "    for i in range(self.n_layers):\n",
        "\n",
        "      after_dil = self.wave_sequential_dil_x.layers[i](output_list_x[i])\n",
        "      after_mul = tf.multiply(tanh(after_dil), sigmoid(after_dil))\n",
        "      one_block_output = self.wave_sequential_conv_x.layers[i](after_mul)\n",
        "      block_output_list_x.append(one_block_output)\n",
        "\n",
        "      if i !=0:\n",
        "        output = one_block_output + output_list_x[i]\n",
        "      else:\n",
        "        output = one_block_output\n",
        "      output = self.dropout(output)\n",
        "      output_list_x.append(output)\n",
        "    output_list_mel = [upsampled_mel]\n",
        "    block_output_list_mel = []\n",
        "    for i in range(self.n_layers):\n",
        "\n",
        "      after_dil = self.wave_sequential_dil_mel.layers[i](output_list_mel[i])\n",
        "      after_mul = tf.multiply(tanh(after_dil), sigmoid(after_dil))\n",
        "      one_block_output = self.wave_sequential_conv_mel.layers[i](after_mul)\n",
        "      block_output_list_mel.append(one_block_output)\n",
        "\n",
        "      if i !=0:\n",
        "        output = one_block_output + output_list_mel[i]\n",
        "      else:\n",
        "        output = one_block_output\n",
        "      output = self.dropout(output)\n",
        "      output_list_mel.append(output)\n",
        "    skip_x = sum(block_output_list_x)\n",
        "    skip_mel = sum(block_output_list_mel)\n",
        "\n",
        "    skip_x_2 = relu(skip_x)\n",
        "    skip_mel_2 = relu(skip_mel)\n",
        "\n",
        "    skip_x_3 = self.skip_conv_1_x(skip_x_2)\n",
        "    skip_mel_3 = self.skip_conv_1_mel(skip_mel_2)\n",
        "\n",
        "    skip_x_4 = self.skip_conv_2_x(skip_x_3)\n",
        "    skip_mel_4 = self.skip_conv_2_mel(skip_mel_3)\n",
        "\n",
        "\n",
        "    log_s = softmax(skip_x_4)\n",
        "    t = softmax(skip_mel_4)\n",
        "\n",
        "    return log_s, t\n",
        "\n",
        "class Affine_Coupling_Layer(Model):\n",
        "  def __init__(self,n_layers, n_channels,wave_net_filter):\n",
        "    super(Affine_Coupling_Layer,self).__init__()\n",
        "    self.wavenet = WaveNet_3(n_layers, n_channels,wave_net_filter)\n",
        "    self.dropout = Dropout(rate=0.5)\n",
        "\n",
        "  def reverse(self,z, c):\n",
        "    z_a, z_b = tf.split(z, num_or_size_splits=2, axis = -1)\n",
        "    log_s, t = self.wavenet.call(z_a, c)\n",
        "    z_b = tf.multiply(tf.exp(-log_s),(z_b - t))\n",
        "\n",
        "    x = tf.concat([z_a, z_b], axis = -1)\n",
        "\n",
        "\n",
        "    return x\n",
        "  def call(self, invertibled_audio, upsampled_mel,log_det_sum):\n",
        "    x_a, x_b = tf.split(invertibled_audio, num_or_size_splits=2, axis = -1)\n",
        "    log_s, t = self.wavenet.call(x_a, upsampled_mel)\n",
        "    #print('log_s.shape,t.shape,x_b.shap:{},{},{}'.format(log_s.shape,t.shape,x_b.shape))\n",
        "    x_b_prime = tf.multiply(tf.exp(log_s), x_b) + t\n",
        "    output = tf.concat([x_a, x_b_prime], axis = -1)\n",
        "    output = self.dropout(output)\n",
        "    log_det_sum = log_det_sum + tf.reduce_sum(log_s)\n",
        "    return output, log_det_sum\n",
        "\n",
        "\n",
        "\n",
        "class WaveGlow3(Model):\n",
        "  def __init__(self,n_channels, n_layers_wave, upsample_size, n_layers_glow,wave_net_filter,batch_size,squeeze_dim):\n",
        "\n",
        "    super(WaveGlow3, self).__init__()\n",
        "    self.batch_size = batch_size\n",
        "    self.upsampled_size = upsample_size\n",
        "    self.upsampling = UpSampling1D(size = upsample_size)\n",
        "    self.squeeze_dim = squeeze_dim\n",
        "    self.invertible_list = []\n",
        "    self.affine_list = []\n",
        "    for i in range(n_layers_glow):\n",
        "      self.invertible_list.append(Invertible_Convolution_3(n_channels,self.batch_size))\n",
        "      self.affine_list.append(Affine_Coupling_Layer(n_layers_wave, n_channels,wave_net_filter))\n",
        "\n",
        "    self.n_layers_glow = n_layers_glow\n",
        "  def UpSampling_3(self, mel_spectrogram):\n",
        "    mel_spectrogram = tf.transpose(mel_spectrogram, perm=[0,2,1])\n",
        "    upsampled_mel = self.upsampling(mel_spectrogram)\n",
        "    #print('upsampled_mel.shape:{}'.format(upsampled_mel.shape))\n",
        "    return upsampled_mel\n",
        "  def squeeze_vector(self,raw_audio_data):\n",
        "    #print(raw_audio_data.shape)\n",
        "    raw_audio_data = tf.reshape(raw_audio_data,[self.batch_size,raw_audio_data.shape[1]//self.squeeze_dim,self.squeeze_dim])\n",
        "    return raw_audio_data\n",
        "  def reverse(self,z,mel_spectrogram):\n",
        "    upsampled_mel = self.UpSampling_3(mel_spectrogram)\n",
        "    z_list = [z]\n",
        "    for i in range(self.n_layers_glow):\n",
        "      z_reverse= self.affine_list[-(i+1)].reverse(z_list[i], upsampled_mel)\n",
        "      x = self.invertible_list[-(i+1)].reverse(z_reverse)\n",
        "      z_list.append(x)\n",
        "    complete_audio_data = z_list[-1]\n",
        "    return complete_audio_data\n",
        "  def call(self,inputs):\n",
        "    raw_audio_data, mel_spectrogram = inputs\n",
        "    raw_audio_data = self.squeeze_vector(raw_audio_data)\n",
        "    upsampled_mel = self.UpSampling_3(mel_spectrogram)\n",
        "    log_det_conv_sum = [0.0]\n",
        "    log_det_affine_sum = [0.0]\n",
        "    z_list = [raw_audio_data]\n",
        "    for i in range(self.n_layers_glow):\n",
        "      invertibled_audio, log_det_conv = self.invertible_list[i].call(z_list[i], log_det_conv_sum[i])\n",
        "      output, log_det_affine = self.affine_list[i].call(invertibled_audio, upsampled_mel,log_det_affine_sum[i])\n",
        "      #print('layer의 개수 :{}'.format(len(self.affine_list[i].wavenet.wave_sequential_dil_x.layers)))\n",
        "      log_det_conv_sum.append(log_det_conv)\n",
        "      log_det_affine_sum.append(log_det_affine)\n",
        "      z_list.append(output)\n",
        "\n",
        "    output = z_list[-1]\n",
        "    #print(output.shape, 'output_shape')\n",
        "    log_det = log_det_conv_sum[-1] + log_det_affine_sum[-1]\n",
        "\n",
        "    value = self.batch_size * output.shape[1] * output.shape[2]\n",
        "\n",
        "    log_p = 0.5 * tf.reduce_sum((- tf.math.log(2.0 * math.pi) - output ** 2)) / value\n",
        "\n",
        "    log_det = log_det /  value\n",
        "\n",
        "    log_p, log_det = tf.reduce_mean(log_p), tf.reduce_mean(log_det)\n",
        "\n",
        "    loss =  - (log_p + log_det)\n",
        "    return loss, output\n",
        "\n",
        "\n",
        "\n",
        "\n",
        "#model = WaveGlow3(n_channels=8, n_layers_wave = 8, upsample_size=4,\n",
        "                  #n_layers_glow=12, wave_net_filter=32,batch_size = 32,squeeze_dim=8)\n",
        "\n",
        "\n",
        "#optimizer = Adam(learning_rate = 1e-3)\n",
        "\n",
        "\n",
        "#model.compile(optimizer=optimizer)\n",
        "\n",
        "\n",
        "\n",
        "\n",
        "#epochs = 10\n",
        "#batch_size = 3\n",
        "\n",
        "#train_dataset = tf.data.Dataset.from_tensor_slices((raw_audio_data, mel_spectrogram))\n",
        "#train_loader = train_dataset.shuffle(buffer_size=100).batch(batch_size=batch_size).prefetch(buffer_size=tf.data.experimental.AUTOTUNE)\n",
        "\n",
        "#output_list = training(epochs, train_loader)\n",
        "#output= model(inputs=(raw_audio_data[:1,:], mel_spectrogram[:1,:,:])) #build substittue\n",
        "\n",
        "#model.build((raw_audio_data.shape, mel_spectrogram.shape))\n",
        "#model.save('waveglow_model2', save_format='tf')\n",
        "\n",
        "\n",
        "\n",
        "\n",
        "\n",
        "\n",
        "\n"
      ]
    },
    {
      "cell_type": "code",
      "source": [
        "optimizer = Adam(learning_rate = 1e-5)\n",
        "def training(epochs, train_loader,model_name):\n",
        "  output_list = []\n",
        "  for epoch in range(epochs):\n",
        "    print('Epoch:{}/{}'.format(epoch+1,epochs))\n",
        "    for i, (raw_audio_data, mel_spectrogram) in enumerate(train_loader):\n",
        "      with tf.GradientTape() as tape:\n",
        "        #if i == 0 and epoch == 0:\n",
        "          #_ = model(inputs=(raw_audio_data, mel_spectrogram))\n",
        "        loss ,output= model_name.call(inputs=(raw_audio_data, mel_spectrogram))\n",
        "        output_list.append(output)\n",
        "        gradients = tape.gradient(loss, model_name.trainable_variables)\n",
        "        clipped_gradients, _ = tf.clip_by_global_norm(gradients,clip_norm = 1.0)\n",
        "        optimizer.apply_gradients(zip(clipped_gradients, model_name.trainable_variables))\n",
        "      if i % 2 ==0:\n",
        "        print('Loss:{:.3f}'.format(loss))\n",
        "      i = i + 1\n",
        "  return output_list"
      ],
      "metadata": {
        "id": "AscxFStkS9jT"
      },
      "execution_count": null,
      "outputs": []
    },
    {
      "cell_type": "markdown",
      "metadata": {
        "id": "SVdB148mCgj2"
      },
      "source": [
        "#August 2nd Model training"
      ]
    },
    {
      "cell_type": "code",
      "execution_count": null,
      "metadata": {
        "id": "WoApIkcwCjC_"
      },
      "outputs": [],
      "source": [
        "epochs = 10\n",
        "batch_size = 8\n",
        "raw_audio_data_refine = raw_audio_data[:batch_size,:]\n",
        "mel_refine = mel_spectrogram[:batch_size,:,:]\n",
        "train_dataset = tf.data.Dataset.from_tensor_slices((raw_audio_data[:batch_size * 3,:], mel_spectrogram[:batch_size * 3,:,:]))\n",
        "train_loader = train_dataset.shuffle(buffer_size=100).batch(batch_size=batch_size).prefetch(buffer_size=tf.data.experimental.AUTOTUNE)"
      ]
    },
    {
      "cell_type": "code",
      "execution_count": null,
      "metadata": {
        "colab": {
          "base_uri": "https://localhost:8080/"
        },
        "id": "f6KjLc5LCqUt",
        "outputId": "67546535-e6dc-435e-855a-5eb3704e6e93"
      },
      "outputs": [
        {
          "output_type": "stream",
          "name": "stdout",
          "text": [
            "Epoch:1/10\n"
          ]
        },
        {
          "output_type": "stream",
          "name": "stderr",
          "text": [
            "WARNING:tensorflow:5 out of the last 5 calls to <function _BaseOptimizer._update_step_xla at 0x7d9393b57eb0> triggered tf.function retracing. Tracing is expensive and the excessive number of tracings could be due to (1) creating @tf.function repeatedly in a loop, (2) passing tensors with different shapes, (3) passing Python objects instead of tensors. For (1), please define your @tf.function outside of the loop. For (2), @tf.function has reduce_retracing=True option that can avoid unnecessary retracing. For (3), please refer to https://www.tensorflow.org/guide/function#controlling_retracing and https://www.tensorflow.org/api_docs/python/tf/function for  more details.\n",
            "WARNING:tensorflow:6 out of the last 6 calls to <function _BaseOptimizer._update_step_xla at 0x7d9393b57eb0> triggered tf.function retracing. Tracing is expensive and the excessive number of tracings could be due to (1) creating @tf.function repeatedly in a loop, (2) passing tensors with different shapes, (3) passing Python objects instead of tensors. For (1), please define your @tf.function outside of the loop. For (2), @tf.function has reduce_retracing=True option that can avoid unnecessary retracing. For (3), please refer to https://www.tensorflow.org/guide/function#controlling_retracing and https://www.tensorflow.org/api_docs/python/tf/function for  more details.\n"
          ]
        },
        {
          "output_type": "stream",
          "name": "stdout",
          "text": [
            "Loss:7.021\n",
            "Loss:6.220\n",
            "Epoch:2/10\n",
            "Loss:5.965\n",
            "Loss:5.516\n",
            "Epoch:3/10\n",
            "Loss:5.313\n",
            "Loss:4.937\n",
            "Epoch:4/10\n",
            "Loss:4.763\n",
            "Loss:4.435\n",
            "Epoch:5/10\n",
            "Loss:4.281\n",
            "Loss:3.987\n",
            "Epoch:6/10\n",
            "Loss:3.847\n",
            "Loss:3.580\n",
            "Epoch:7/10\n",
            "Loss:3.452\n",
            "Loss:3.206\n",
            "Epoch:8/10\n",
            "Loss:3.088\n",
            "Loss:2.859\n",
            "Epoch:9/10\n",
            "Loss:2.749\n",
            "Loss:2.535\n",
            "Epoch:10/10\n",
            "Loss:2.431\n",
            "Loss:2.229\n"
          ]
        }
      ],
      "source": [
        "model(inputs=(raw_audio_data_refine, mel_refine))\n",
        "output_list = training(epochs, train_loader)"
      ]
    },
    {
      "cell_type": "code",
      "source": [
        "model.save('waveglow_model', save_format='tf')\n"
      ],
      "metadata": {
        "colab": {
          "base_uri": "https://localhost:8080/"
        },
        "id": "smmvDyuVJnXw",
        "outputId": "f12bab8a-1f4e-4561-b3aa-41dc4a263e9f"
      },
      "execution_count": null,
      "outputs": [
        {
          "output_type": "stream",
          "name": "stderr",
          "text": [
            "WARNING:tensorflow:Skipping full serialization of Keras layer <__main__.Invertible_Convolution_3 object at 0x7d9393755270>, because it is not built.\n",
            "WARNING:tensorflow:Skipping full serialization of Keras layer <__main__.Invertible_Convolution_3 object at 0x7d93939206a0>, because it is not built.\n",
            "WARNING:tensorflow:Skipping full serialization of Keras layer <__main__.Invertible_Convolution_3 object at 0x7d9393a66080>, because it is not built.\n",
            "WARNING:tensorflow:Skipping full serialization of Keras layer <__main__.Invertible_Convolution_3 object at 0x7d9393a26080>, because it is not built.\n",
            "WARNING:tensorflow:Skipping full serialization of Keras layer <__main__.Invertible_Convolution_3 object at 0x7d9393a0bf40>, because it is not built.\n",
            "WARNING:tensorflow:Skipping full serialization of Keras layer <__main__.Invertible_Convolution_3 object at 0x7d9393939840>, because it is not built.\n",
            "WARNING:tensorflow:Skipping full serialization of Keras layer <__main__.Invertible_Convolution_3 object at 0x7d9393a17be0>, because it is not built.\n",
            "WARNING:tensorflow:Skipping full serialization of Keras layer <__main__.Invertible_Convolution_3 object at 0x7d93937eed40>, because it is not built.\n",
            "WARNING:tensorflow:Skipping full serialization of Keras layer <__main__.Invertible_Convolution_3 object at 0x7d9393b3fe50>, because it is not built.\n",
            "WARNING:tensorflow:Skipping full serialization of Keras layer <__main__.Invertible_Convolution_3 object at 0x7d9393b2fa30>, because it is not built.\n",
            "WARNING:tensorflow:Skipping full serialization of Keras layer <__main__.Invertible_Convolution_3 object at 0x7d9394dc11e0>, because it is not built.\n",
            "WARNING:tensorflow:Skipping full serialization of Keras layer <__main__.Invertible_Convolution_3 object at 0x7d9393d141f0>, because it is not built.\n",
            "WARNING:tensorflow:Skipping full serialization of Keras layer <__main__.Affine_Coupling_Layer object at 0x7d9393756e00>, because it is not built.\n",
            "WARNING:tensorflow:Skipping full serialization of Keras layer <__main__.Affine_Coupling_Layer object at 0x7d93939222c0>, because it is not built.\n",
            "WARNING:tensorflow:Skipping full serialization of Keras layer <__main__.Affine_Coupling_Layer object at 0x7d9393a64760>, because it is not built.\n",
            "WARNING:tensorflow:Skipping full serialization of Keras layer <__main__.Affine_Coupling_Layer object at 0x7d9393a27b50>, because it is not built.\n",
            "WARNING:tensorflow:Skipping full serialization of Keras layer <__main__.Affine_Coupling_Layer object at 0x7d9393913160>, because it is not built.\n",
            "WARNING:tensorflow:Skipping full serialization of Keras layer <__main__.Affine_Coupling_Layer object at 0x7d93939137f0>, because it is not built.\n",
            "WARNING:tensorflow:Skipping full serialization of Keras layer <__main__.Affine_Coupling_Layer object at 0x7d9393938280>, because it is not built.\n",
            "WARNING:tensorflow:Skipping full serialization of Keras layer <__main__.Affine_Coupling_Layer object at 0x7d9393823430>, because it is not built.\n",
            "WARNING:tensorflow:Skipping full serialization of Keras layer <__main__.Affine_Coupling_Layer object at 0x7d9393b3d3c0>, because it is not built.\n",
            "WARNING:tensorflow:Skipping full serialization of Keras layer <__main__.Affine_Coupling_Layer object at 0x7d9394d96260>, because it is not built.\n",
            "WARNING:tensorflow:Skipping full serialization of Keras layer <__main__.Affine_Coupling_Layer object at 0x7d9394dc1060>, because it is not built.\n",
            "WARNING:tensorflow:Skipping full serialization of Keras layer <__main__.Affine_Coupling_Layer object at 0x7d9393d16da0>, because it is not built.\n",
            "WARNING:tensorflow:Skipping full serialization of Keras layer <__main__.WaveNet_3 object at 0x7d93937579a0>, because it is not built.\n",
            "WARNING:tensorflow:Skipping full serialization of Keras layer <__main__.WaveNet_3 object at 0x7d9393921060>, because it is not built.\n",
            "WARNING:tensorflow:Skipping full serialization of Keras layer <__main__.WaveNet_3 object at 0x7d9393a648e0>, because it is not built.\n",
            "WARNING:tensorflow:Skipping full serialization of Keras layer <__main__.WaveNet_3 object at 0x7d9393a27880>, because it is not built.\n",
            "WARNING:tensorflow:Skipping full serialization of Keras layer <__main__.WaveNet_3 object at 0x7d93939132b0>, because it is not built.\n",
            "WARNING:tensorflow:Skipping full serialization of Keras layer <__main__.WaveNet_3 object at 0x7d9393938310>, because it is not built.\n",
            "WARNING:tensorflow:Skipping full serialization of Keras layer <__main__.WaveNet_3 object at 0x7d93937eeb60>, because it is not built.\n",
            "WARNING:tensorflow:Skipping full serialization of Keras layer <__main__.WaveNet_3 object at 0x7d9393823550>, because it is not built.\n",
            "WARNING:tensorflow:Skipping full serialization of Keras layer <__main__.WaveNet_3 object at 0x7d9393b3d5d0>, because it is not built.\n",
            "WARNING:tensorflow:Skipping full serialization of Keras layer <__main__.WaveNet_3 object at 0x7d9394d95c90>, because it is not built.\n",
            "WARNING:tensorflow:Skipping full serialization of Keras layer <__main__.WaveNet_3 object at 0x7d9394da81c0>, because it is not built.\n",
            "WARNING:tensorflow:Skipping full serialization of Keras layer <__main__.WaveNet_3 object at 0x7d9393d16c20>, because it is not built.\n",
            "WARNING:absl:Found untraced functions such as conv1d_layer_call_fn, conv1d_layer_call_and_return_conditional_losses, _jit_compiled_convolution_op, conv1d_5_layer_call_fn, conv1d_5_layer_call_and_return_conditional_losses while saving (showing 5 of 756). These functions will not be directly callable after loading.\n"
          ]
        }
      ]
    },
    {
      "cell_type": "markdown",
      "source": [
        "#August 2nd Model training -2"
      ],
      "metadata": {
        "id": "KpIxJ0ThPeCF"
      }
    },
    {
      "cell_type": "code",
      "source": [
        "loaded_model = load_model('/content/drive/MyDrive/waveglow_model', custom_objects={\n",
        "    'Invertible_Convolution_3': Invertible_Convolution_3,\n",
        "    'WaveNet_3': WaveNet_3,\n",
        "    'Affine_Coupling_Layer': Affine_Coupling_Layer,\n",
        "    'WaveGlow3': WaveGlow3\n",
        "})"
      ],
      "metadata": {
        "id": "9Hsr7RyIPjD0"
      },
      "execution_count": null,
      "outputs": []
    },
    {
      "cell_type": "code",
      "source": [
        "epochs = 10\n",
        "batch_size = 8\n",
        "raw_audio_data_refine = raw_audio_data[:batch_size,:]\n",
        "mel_refine = mel_spectrogram[:batch_size,:,:]\n",
        "train_dataset = tf.data.Dataset.from_tensor_slices((raw_audio_data[batch_size * 3:batch_size*6,:], mel_spectrogram[batch_size * 3:batch_size * 6,:,:]))\n",
        "train_loader = train_dataset.shuffle(buffer_size=100).batch(batch_size=batch_size).prefetch(buffer_size=tf.data.experimental.AUTOTUNE)"
      ],
      "metadata": {
        "id": "HZEm1Hj-Q89Y"
      },
      "execution_count": null,
      "outputs": []
    },
    {
      "cell_type": "code",
      "source": [
        "loaded_model(inputs=(raw_audio_data_refine, mel_refine))\n",
        "output_list = training(epochs, train_loader,loaded_model)"
      ],
      "metadata": {
        "colab": {
          "base_uri": "https://localhost:8080/"
        },
        "id": "lD8rjW11RQEC",
        "outputId": "42f81fea-5c7a-4e1b-b314-82ddea0339ce"
      },
      "execution_count": null,
      "outputs": [
        {
          "output_type": "stream",
          "name": "stdout",
          "text": [
            "Epoch:1/10\n"
          ]
        },
        {
          "output_type": "stream",
          "name": "stderr",
          "text": [
            "WARNING:tensorflow:5 out of the last 5 calls to <function _BaseOptimizer._update_step_xla at 0x7975d2b41ab0> triggered tf.function retracing. Tracing is expensive and the excessive number of tracings could be due to (1) creating @tf.function repeatedly in a loop, (2) passing tensors with different shapes, (3) passing Python objects instead of tensors. For (1), please define your @tf.function outside of the loop. For (2), @tf.function has reduce_retracing=True option that can avoid unnecessary retracing. For (3), please refer to https://www.tensorflow.org/guide/function#controlling_retracing and https://www.tensorflow.org/api_docs/python/tf/function for  more details.\n",
            "WARNING:tensorflow:6 out of the last 6 calls to <function _BaseOptimizer._update_step_xla at 0x7975d2b41ab0> triggered tf.function retracing. Tracing is expensive and the excessive number of tracings could be due to (1) creating @tf.function repeatedly in a loop, (2) passing tensors with different shapes, (3) passing Python objects instead of tensors. For (1), please define your @tf.function outside of the loop. For (2), @tf.function has reduce_retracing=True option that can avoid unnecessary retracing. For (3), please refer to https://www.tensorflow.org/guide/function#controlling_retracing and https://www.tensorflow.org/api_docs/python/tf/function for  more details.\n"
          ]
        },
        {
          "output_type": "stream",
          "name": "stdout",
          "text": [
            "Loss:3.158\n",
            "Loss:2.930\n",
            "Epoch:2/10\n",
            "Loss:2.818\n",
            "Loss:2.600\n",
            "Epoch:3/10\n",
            "Loss:2.494\n",
            "Loss:2.285\n",
            "Epoch:4/10\n",
            "Loss:2.183\n",
            "Loss:1.983\n",
            "Epoch:5/10\n",
            "Loss:1.885\n",
            "Loss:1.693\n",
            "Epoch:6/10\n",
            "Loss:1.599\n",
            "Loss:1.414\n",
            "Epoch:7/10\n",
            "Loss:1.324\n",
            "Loss:1.146\n",
            "Epoch:8/10\n",
            "Loss:1.059\n",
            "Loss:0.887\n",
            "Epoch:9/10\n",
            "Loss:0.803\n",
            "Loss:0.638\n",
            "Epoch:10/10\n",
            "Loss:0.557\n",
            "Loss:0.396\n"
          ]
        }
      ]
    },
    {
      "cell_type": "code",
      "source": [
        "loaded_model.save('wave_glow_model_2',save_format='tf')"
      ],
      "metadata": {
        "id": "ZAtdhfmqSK7T",
        "colab": {
          "base_uri": "https://localhost:8080/"
        },
        "outputId": "d07ac286-c518-4796-ebb4-30a1e363f75c"
      },
      "execution_count": null,
      "outputs": [
        {
          "output_type": "stream",
          "name": "stderr",
          "text": [
            "WARNING:absl:Found untraced functions such as _update_step_xla, conv1d_60_layer_call_fn, conv1d_60_layer_call_and_return_conditional_losses, _jit_compiled_convolution_op, conv1d_65_layer_call_fn while saving (showing 5 of 781). These functions will not be directly callable after loading.\n"
          ]
        }
      ]
    },
    {
      "cell_type": "markdown",
      "source": [
        "#August 2nd Model training -3"
      ],
      "metadata": {
        "id": "HLSYhAeSTo3d"
      }
    },
    {
      "cell_type": "code",
      "source": [
        "loaded_model = load_model('/content/drive/MyDrive/wave_glow_model_2', custom_objects={\n",
        "    'Invertible_Convolution_3': Invertible_Convolution_3,\n",
        "    'WaveNet_3': WaveNet_3,\n",
        "    'Affine_Coupling_Layer': Affine_Coupling_Layer,\n",
        "    'WaveGlow3': WaveGlow3\n",
        "})"
      ],
      "metadata": {
        "id": "O9AkuFWwTret"
      },
      "execution_count": null,
      "outputs": []
    },
    {
      "cell_type": "code",
      "source": [
        "epochs = 10\n",
        "batch_size = 8\n",
        "raw_audio_data_refine = raw_audio_data[:batch_size,:]\n",
        "mel_refine = mel_spectrogram[:batch_size,:,:]\n",
        "train_dataset = tf.data.Dataset.from_tensor_slices((raw_audio_data[batch_size * 6:batch_size*9,:], mel_spectrogram[batch_size * 6:batch_size * 9,:,:]))\n",
        "train_loader = train_dataset.shuffle(buffer_size=100).batch(batch_size=batch_size).prefetch(buffer_size=tf.data.experimental.AUTOTUNE)"
      ],
      "metadata": {
        "id": "pBheAQVOT6rM"
      },
      "execution_count": null,
      "outputs": []
    },
    {
      "cell_type": "code",
      "source": [
        "loaded_model(inputs=(raw_audio_data_refine, mel_refine))\n",
        "output_list = training(epochs, train_loader,loaded_model)"
      ],
      "metadata": {
        "id": "IwU9oOPUUPZv",
        "colab": {
          "base_uri": "https://localhost:8080/"
        },
        "outputId": "826d069e-26e5-4c13-effe-28fe9ec4d0c3"
      },
      "execution_count": null,
      "outputs": [
        {
          "output_type": "stream",
          "name": "stdout",
          "text": [
            "Epoch:1/10\n"
          ]
        },
        {
          "output_type": "stream",
          "name": "stderr",
          "text": [
            "WARNING:tensorflow:5 out of the last 5 calls to <function _BaseOptimizer._update_step_xla at 0x79f72df19900> triggered tf.function retracing. Tracing is expensive and the excessive number of tracings could be due to (1) creating @tf.function repeatedly in a loop, (2) passing tensors with different shapes, (3) passing Python objects instead of tensors. For (1), please define your @tf.function outside of the loop. For (2), @tf.function has reduce_retracing=True option that can avoid unnecessary retracing. For (3), please refer to https://www.tensorflow.org/guide/function#controlling_retracing and https://www.tensorflow.org/api_docs/python/tf/function for  more details.\n",
            "WARNING:tensorflow:6 out of the last 6 calls to <function _BaseOptimizer._update_step_xla at 0x79f72df19900> triggered tf.function retracing. Tracing is expensive and the excessive number of tracings could be due to (1) creating @tf.function repeatedly in a loop, (2) passing tensors with different shapes, (3) passing Python objects instead of tensors. For (1), please define your @tf.function outside of the loop. For (2), @tf.function has reduce_retracing=True option that can avoid unnecessary retracing. For (3), please refer to https://www.tensorflow.org/guide/function#controlling_retracing and https://www.tensorflow.org/api_docs/python/tf/function for  more details.\n"
          ]
        },
        {
          "output_type": "stream",
          "name": "stdout",
          "text": [
            "Loss:0.318\n",
            "Loss:0.171\n",
            "Epoch:2/10\n",
            "Loss:0.098\n",
            "Loss:-0.042\n",
            "Epoch:3/10\n",
            "Loss:-0.111\n",
            "Loss:-0.250\n",
            "Epoch:4/10\n",
            "Loss:-0.316\n",
            "Loss:-0.449\n",
            "Epoch:5/10\n",
            "Loss:-0.514\n",
            "Loss:-0.647\n",
            "Epoch:6/10\n",
            "Loss:-0.708\n",
            "Loss:-0.832\n",
            "Epoch:7/10\n",
            "Loss:-0.892\n",
            "Loss:-1.008\n",
            "Epoch:8/10\n",
            "Loss:-1.066\n",
            "Loss:-1.180\n",
            "Epoch:9/10\n",
            "Loss:-1.236\n",
            "Loss:-1.340\n",
            "Epoch:10/10\n",
            "Loss:-1.393\n",
            "Loss:-1.501\n"
          ]
        }
      ]
    },
    {
      "cell_type": "code",
      "source": [
        "loaded_model.save('wave_glow_model_3',save_format='tf')"
      ],
      "metadata": {
        "id": "dKWCyDJUUVWW",
        "colab": {
          "base_uri": "https://localhost:8080/"
        },
        "outputId": "2855a141-526b-4c56-d776-26fb0f352a05"
      },
      "execution_count": null,
      "outputs": [
        {
          "output_type": "stream",
          "name": "stderr",
          "text": [
            "WARNING:absl:Found untraced functions such as _update_step_xla, conv1d_60_layer_call_fn, conv1d_60_layer_call_and_return_conditional_losses, _jit_compiled_convolution_op, conv1d_65_layer_call_fn while saving (showing 5 of 781). These functions will not be directly callable after loading.\n"
          ]
        }
      ]
    },
    {
      "cell_type": "markdown",
      "source": [
        "#August 2nd Model training -4"
      ],
      "metadata": {
        "id": "gwCSmIANUt2Z"
      }
    },
    {
      "cell_type": "code",
      "source": [
        "loaded_model = load_model('/content/drive/MyDrive/wave_glow_model_3', custom_objects={\n",
        "    'Invertible_Convolution_3': Invertible_Convolution_3,\n",
        "    'WaveNet_3': WaveNet_3,\n",
        "    'Affine_Coupling_Layer': Affine_Coupling_Layer,\n",
        "    'WaveGlow3': WaveGlow3\n",
        "})"
      ],
      "metadata": {
        "id": "A-te4pdOUv76",
        "colab": {
          "base_uri": "https://localhost:8080/",
          "height": 392
        },
        "outputId": "de0d283b-4204-4a8b-b173-37dad9b4915e"
      },
      "execution_count": null,
      "outputs": [
        {
          "output_type": "error",
          "ename": "KeyboardInterrupt",
          "evalue": "ignored",
          "traceback": [
            "\u001b[0;31m---------------------------------------------------------------------------\u001b[0m",
            "\u001b[0;31mKeyboardInterrupt\u001b[0m                         Traceback (most recent call last)",
            "\u001b[0;32m<ipython-input-112-c5ba856aca33>\u001b[0m in \u001b[0;36m<cell line: 1>\u001b[0;34m()\u001b[0m\n\u001b[0;32m----> 1\u001b[0;31m loaded_model = load_model('/content/drive/MyDrive/wave_glow_model_3', custom_objects={\n\u001b[0m\u001b[1;32m      2\u001b[0m     \u001b[0;34m'Invertible_Convolution_3'\u001b[0m\u001b[0;34m:\u001b[0m \u001b[0mInvertible_Convolution_3\u001b[0m\u001b[0;34m,\u001b[0m\u001b[0;34m\u001b[0m\u001b[0;34m\u001b[0m\u001b[0m\n\u001b[1;32m      3\u001b[0m     \u001b[0;34m'WaveNet_3'\u001b[0m\u001b[0;34m:\u001b[0m \u001b[0mWaveNet_3\u001b[0m\u001b[0;34m,\u001b[0m\u001b[0;34m\u001b[0m\u001b[0;34m\u001b[0m\u001b[0m\n\u001b[1;32m      4\u001b[0m     \u001b[0;34m'Affine_Coupling_Layer'\u001b[0m\u001b[0;34m:\u001b[0m \u001b[0mAffine_Coupling_Layer\u001b[0m\u001b[0;34m,\u001b[0m\u001b[0;34m\u001b[0m\u001b[0;34m\u001b[0m\u001b[0m\n\u001b[1;32m      5\u001b[0m     \u001b[0;34m'WaveGlow3'\u001b[0m\u001b[0;34m:\u001b[0m \u001b[0mWaveGlow3\u001b[0m\u001b[0;34m\u001b[0m\u001b[0;34m\u001b[0m\u001b[0m\n",
            "\u001b[0;32m/usr/local/lib/python3.10/dist-packages/keras/saving/saving_api.py\u001b[0m in \u001b[0;36mload_model\u001b[0;34m(filepath, custom_objects, compile, safe_mode, **kwargs)\u001b[0m\n\u001b[1;32m    210\u001b[0m \u001b[0;34m\u001b[0m\u001b[0m\n\u001b[1;32m    211\u001b[0m     \u001b[0;31m# Legacy case.\u001b[0m\u001b[0;34m\u001b[0m\u001b[0;34m\u001b[0m\u001b[0m\n\u001b[0;32m--> 212\u001b[0;31m     return legacy_sm_saving_lib.load_model(\n\u001b[0m\u001b[1;32m    213\u001b[0m         \u001b[0mfilepath\u001b[0m\u001b[0;34m,\u001b[0m \u001b[0mcustom_objects\u001b[0m\u001b[0;34m=\u001b[0m\u001b[0mcustom_objects\u001b[0m\u001b[0;34m,\u001b[0m \u001b[0mcompile\u001b[0m\u001b[0;34m=\u001b[0m\u001b[0mcompile\u001b[0m\u001b[0;34m,\u001b[0m \u001b[0;34m**\u001b[0m\u001b[0mkwargs\u001b[0m\u001b[0;34m\u001b[0m\u001b[0;34m\u001b[0m\u001b[0m\n\u001b[1;32m    214\u001b[0m     )\n",
            "\u001b[0;32m/usr/local/lib/python3.10/dist-packages/keras/utils/traceback_utils.py\u001b[0m in \u001b[0;36merror_handler\u001b[0;34m(*args, **kwargs)\u001b[0m\n\u001b[1;32m     63\u001b[0m         \u001b[0mfiltered_tb\u001b[0m \u001b[0;34m=\u001b[0m \u001b[0;32mNone\u001b[0m\u001b[0;34m\u001b[0m\u001b[0;34m\u001b[0m\u001b[0m\n\u001b[1;32m     64\u001b[0m         \u001b[0;32mtry\u001b[0m\u001b[0;34m:\u001b[0m\u001b[0;34m\u001b[0m\u001b[0;34m\u001b[0m\u001b[0m\n\u001b[0;32m---> 65\u001b[0;31m             \u001b[0;32mreturn\u001b[0m \u001b[0mfn\u001b[0m\u001b[0;34m(\u001b[0m\u001b[0;34m*\u001b[0m\u001b[0margs\u001b[0m\u001b[0;34m,\u001b[0m \u001b[0;34m**\u001b[0m\u001b[0mkwargs\u001b[0m\u001b[0;34m)\u001b[0m\u001b[0;34m\u001b[0m\u001b[0;34m\u001b[0m\u001b[0m\n\u001b[0m\u001b[1;32m     66\u001b[0m         \u001b[0;32mexcept\u001b[0m \u001b[0mException\u001b[0m \u001b[0;32mas\u001b[0m \u001b[0me\u001b[0m\u001b[0;34m:\u001b[0m\u001b[0;34m\u001b[0m\u001b[0;34m\u001b[0m\u001b[0m\n\u001b[1;32m     67\u001b[0m             \u001b[0mfiltered_tb\u001b[0m \u001b[0;34m=\u001b[0m \u001b[0m_process_traceback_frames\u001b[0m\u001b[0;34m(\u001b[0m\u001b[0me\u001b[0m\u001b[0;34m.\u001b[0m\u001b[0m__traceback__\u001b[0m\u001b[0;34m)\u001b[0m\u001b[0;34m\u001b[0m\u001b[0;34m\u001b[0m\u001b[0m\n",
            "\u001b[0;32m/usr/local/lib/python3.10/dist-packages/keras/saving/legacy/save.py\u001b[0m in \u001b[0;36mload_model\u001b[0;34m(filepath, custom_objects, compile, options)\u001b[0m\n\u001b[1;32m    233\u001b[0m \u001b[0;34m\u001b[0m\u001b[0m\n\u001b[1;32m    234\u001b[0m                         \u001b[0;32mif\u001b[0m \u001b[0mtf\u001b[0m\u001b[0;34m.\u001b[0m\u001b[0mio\u001b[0m\u001b[0;34m.\u001b[0m\u001b[0mgfile\u001b[0m\u001b[0;34m.\u001b[0m\u001b[0misdir\u001b[0m\u001b[0;34m(\u001b[0m\u001b[0mfilepath_str\u001b[0m\u001b[0;34m)\u001b[0m\u001b[0;34m:\u001b[0m\u001b[0;34m\u001b[0m\u001b[0;34m\u001b[0m\u001b[0m\n\u001b[0;32m--> 235\u001b[0;31m                             return saved_model_load.load(\n\u001b[0m\u001b[1;32m    236\u001b[0m                                 \u001b[0mfilepath_str\u001b[0m\u001b[0;34m,\u001b[0m \u001b[0mcompile\u001b[0m\u001b[0;34m,\u001b[0m \u001b[0moptions\u001b[0m\u001b[0;34m\u001b[0m\u001b[0;34m\u001b[0m\u001b[0m\n\u001b[1;32m    237\u001b[0m                             )\n",
            "\u001b[0;32m/usr/local/lib/python3.10/dist-packages/keras/saving/legacy/saved_model/load.py\u001b[0m in \u001b[0;36mload\u001b[0;34m(path, compile, options)\u001b[0m\n\u001b[1;32m    132\u001b[0m     \u001b[0;31m# Recreate layers and metrics using the info stored in the metadata.\u001b[0m\u001b[0;34m\u001b[0m\u001b[0;34m\u001b[0m\u001b[0m\n\u001b[1;32m    133\u001b[0m     \u001b[0mkeras_loader\u001b[0m \u001b[0;34m=\u001b[0m \u001b[0mKerasObjectLoader\u001b[0m\u001b[0;34m(\u001b[0m\u001b[0mmetadata\u001b[0m\u001b[0;34m,\u001b[0m \u001b[0mobject_graph_def\u001b[0m\u001b[0;34m)\u001b[0m\u001b[0;34m\u001b[0m\u001b[0;34m\u001b[0m\u001b[0m\n\u001b[0;32m--> 134\u001b[0;31m     \u001b[0mkeras_loader\u001b[0m\u001b[0;34m.\u001b[0m\u001b[0mload_layers\u001b[0m\u001b[0;34m(\u001b[0m\u001b[0mcompile\u001b[0m\u001b[0;34m=\u001b[0m\u001b[0mcompile\u001b[0m\u001b[0;34m)\u001b[0m\u001b[0;34m\u001b[0m\u001b[0;34m\u001b[0m\u001b[0m\n\u001b[0m\u001b[1;32m    135\u001b[0m \u001b[0;34m\u001b[0m\u001b[0m\n\u001b[1;32m    136\u001b[0m     \u001b[0;31m# Generate a dictionary of all loaded nodes.\u001b[0m\u001b[0;34m\u001b[0m\u001b[0;34m\u001b[0m\u001b[0m\n",
            "\u001b[0;32m/usr/local/lib/python3.10/dist-packages/keras/saving/legacy/saved_model/load.py\u001b[0m in \u001b[0;36mload_layers\u001b[0;34m(self, compile)\u001b[0m\n\u001b[1;32m    448\u001b[0m                 \u001b[0;32mcontinue\u001b[0m\u001b[0;34m\u001b[0m\u001b[0;34m\u001b[0m\u001b[0m\n\u001b[1;32m    449\u001b[0m \u001b[0;34m\u001b[0m\u001b[0m\n\u001b[0;32m--> 450\u001b[0;31m             self.loaded_nodes[node_metadata.node_id] = self._load_layer(\n\u001b[0m\u001b[1;32m    451\u001b[0m                 \u001b[0mnode_metadata\u001b[0m\u001b[0;34m.\u001b[0m\u001b[0mnode_id\u001b[0m\u001b[0;34m,\u001b[0m\u001b[0;34m\u001b[0m\u001b[0;34m\u001b[0m\u001b[0m\n\u001b[1;32m    452\u001b[0m                 \u001b[0mnode_metadata\u001b[0m\u001b[0;34m.\u001b[0m\u001b[0midentifier\u001b[0m\u001b[0;34m,\u001b[0m\u001b[0;34m\u001b[0m\u001b[0;34m\u001b[0m\u001b[0m\n",
            "\u001b[0;32m/usr/local/lib/python3.10/dist-packages/keras/saving/legacy/saved_model/load.py\u001b[0m in \u001b[0;36m_load_layer\u001b[0;34m(self, node_id, identifier, metadata)\u001b[0m\n\u001b[1;32m    499\u001b[0m         \u001b[0;31m# Detect whether this object can be revived from the config. If not,\u001b[0m\u001b[0;34m\u001b[0m\u001b[0;34m\u001b[0m\u001b[0m\n\u001b[1;32m    500\u001b[0m         \u001b[0;31m# then revive from the SavedModel instead.\u001b[0m\u001b[0;34m\u001b[0m\u001b[0;34m\u001b[0m\u001b[0m\n\u001b[0;32m--> 501\u001b[0;31m         \u001b[0mobj\u001b[0m\u001b[0;34m,\u001b[0m \u001b[0msetter\u001b[0m \u001b[0;34m=\u001b[0m \u001b[0mself\u001b[0m\u001b[0;34m.\u001b[0m\u001b[0m_revive_from_config\u001b[0m\u001b[0;34m(\u001b[0m\u001b[0midentifier\u001b[0m\u001b[0;34m,\u001b[0m \u001b[0mmetadata\u001b[0m\u001b[0;34m,\u001b[0m \u001b[0mnode_id\u001b[0m\u001b[0;34m)\u001b[0m\u001b[0;34m\u001b[0m\u001b[0;34m\u001b[0m\u001b[0m\n\u001b[0m\u001b[1;32m    502\u001b[0m         \u001b[0;32mif\u001b[0m \u001b[0mobj\u001b[0m \u001b[0;32mis\u001b[0m \u001b[0;32mNone\u001b[0m\u001b[0;34m:\u001b[0m\u001b[0;34m\u001b[0m\u001b[0;34m\u001b[0m\u001b[0m\n\u001b[1;32m    503\u001b[0m             \u001b[0mobj\u001b[0m\u001b[0;34m,\u001b[0m \u001b[0msetter\u001b[0m \u001b[0;34m=\u001b[0m \u001b[0mrevive_custom_object\u001b[0m\u001b[0;34m(\u001b[0m\u001b[0midentifier\u001b[0m\u001b[0;34m,\u001b[0m \u001b[0mmetadata\u001b[0m\u001b[0;34m)\u001b[0m\u001b[0;34m\u001b[0m\u001b[0;34m\u001b[0m\u001b[0m\n",
            "\u001b[0;32m/usr/local/lib/python3.10/dist-packages/keras/saving/legacy/saved_model/load.py\u001b[0m in \u001b[0;36m_revive_from_config\u001b[0;34m(self, identifier, metadata, node_id)\u001b[0m\n\u001b[1;32m    517\u001b[0m             obj = self._revive_graph_network(\n\u001b[1;32m    518\u001b[0m                 \u001b[0midentifier\u001b[0m\u001b[0;34m,\u001b[0m \u001b[0mmetadata\u001b[0m\u001b[0;34m,\u001b[0m \u001b[0mnode_id\u001b[0m\u001b[0;34m\u001b[0m\u001b[0;34m\u001b[0m\u001b[0m\n\u001b[0;32m--> 519\u001b[0;31m             ) or self._revive_layer_or_model_from_config(metadata, node_id)\n\u001b[0m\u001b[1;32m    520\u001b[0m \u001b[0;34m\u001b[0m\u001b[0m\n\u001b[1;32m    521\u001b[0m         \u001b[0;32mif\u001b[0m \u001b[0mobj\u001b[0m \u001b[0;32mis\u001b[0m \u001b[0;32mNone\u001b[0m\u001b[0;34m:\u001b[0m\u001b[0;34m\u001b[0m\u001b[0;34m\u001b[0m\u001b[0m\n",
            "\u001b[0;32m/usr/local/lib/python3.10/dist-packages/keras/saving/legacy/saved_model/load.py\u001b[0m in \u001b[0;36m_revive_layer_or_model_from_config\u001b[0;34m(self, metadata, node_id)\u001b[0m\n\u001b[1;32m    587\u001b[0m         \u001b[0;32mtry\u001b[0m\u001b[0;34m:\u001b[0m\u001b[0;34m\u001b[0m\u001b[0;34m\u001b[0m\u001b[0m\n\u001b[1;32m    588\u001b[0m             \u001b[0;32mtry\u001b[0m\u001b[0;34m:\u001b[0m\u001b[0;34m\u001b[0m\u001b[0;34m\u001b[0m\u001b[0m\n\u001b[0;32m--> 589\u001b[0;31m                 obj = layers_module.deserialize(\n\u001b[0m\u001b[1;32m    590\u001b[0m                     serialization.serialize_keras_class_and_config(\n\u001b[1;32m    591\u001b[0m                         \u001b[0mclass_name\u001b[0m\u001b[0;34m,\u001b[0m \u001b[0mconfig\u001b[0m\u001b[0;34m,\u001b[0m \u001b[0mshared_object_id\u001b[0m\u001b[0;34m=\u001b[0m\u001b[0mshared_object_id\u001b[0m\u001b[0;34m\u001b[0m\u001b[0;34m\u001b[0m\u001b[0m\n",
            "\u001b[0;32m/usr/local/lib/python3.10/dist-packages/keras/layers/serialization.py\u001b[0m in \u001b[0;36mdeserialize\u001b[0;34m(config, custom_objects, use_legacy_format)\u001b[0m\n\u001b[1;32m    263\u001b[0m \u001b[0;34m\u001b[0m\u001b[0m\n\u001b[1;32m    264\u001b[0m     \u001b[0;31m# To be replaced by new serialization_lib\u001b[0m\u001b[0;34m\u001b[0m\u001b[0;34m\u001b[0m\u001b[0m\n\u001b[0;32m--> 265\u001b[0;31m     return legacy_serialization.deserialize_keras_object(\n\u001b[0m\u001b[1;32m    266\u001b[0m         \u001b[0mconfig\u001b[0m\u001b[0;34m,\u001b[0m\u001b[0;34m\u001b[0m\u001b[0;34m\u001b[0m\u001b[0m\n\u001b[1;32m    267\u001b[0m         \u001b[0mmodule_objects\u001b[0m\u001b[0;34m=\u001b[0m\u001b[0mLOCAL\u001b[0m\u001b[0;34m.\u001b[0m\u001b[0mALL_OBJECTS\u001b[0m\u001b[0;34m,\u001b[0m\u001b[0;34m\u001b[0m\u001b[0;34m\u001b[0m\u001b[0m\n",
            "\u001b[0;32m/usr/local/lib/python3.10/dist-packages/keras/saving/legacy/serialization.py\u001b[0m in \u001b[0;36mdeserialize_keras_object\u001b[0;34m(identifier, module_objects, custom_objects, printable_module_name)\u001b[0m\n\u001b[1;32m    501\u001b[0m             \u001b[0;32mif\u001b[0m \u001b[0;34m\"custom_objects\"\u001b[0m \u001b[0;32min\u001b[0m \u001b[0marg_spec\u001b[0m\u001b[0;34m.\u001b[0m\u001b[0margs\u001b[0m\u001b[0;34m:\u001b[0m\u001b[0;34m\u001b[0m\u001b[0;34m\u001b[0m\u001b[0m\n\u001b[1;32m    502\u001b[0m                 \u001b[0mtlco\u001b[0m \u001b[0;34m=\u001b[0m \u001b[0mobject_registration\u001b[0m\u001b[0;34m.\u001b[0m\u001b[0m_THREAD_LOCAL_CUSTOM_OBJECTS\u001b[0m\u001b[0;34m.\u001b[0m\u001b[0m__dict__\u001b[0m\u001b[0;34m\u001b[0m\u001b[0;34m\u001b[0m\u001b[0m\n\u001b[0;32m--> 503\u001b[0;31m                 deserialized_obj = cls.from_config(\n\u001b[0m\u001b[1;32m    504\u001b[0m                     \u001b[0mcls_config\u001b[0m\u001b[0;34m,\u001b[0m\u001b[0;34m\u001b[0m\u001b[0;34m\u001b[0m\u001b[0m\n\u001b[1;32m    505\u001b[0m                     custom_objects={\n",
            "\u001b[0;32m/usr/local/lib/python3.10/dist-packages/keras/engine/training.py\u001b[0m in \u001b[0;36mfrom_config\u001b[0;34m(cls, config, custom_objects)\u001b[0m\n\u001b[1;32m   3068\u001b[0m                 \u001b[0;31m# constructor of the class.\u001b[0m\u001b[0;34m\u001b[0m\u001b[0;34m\u001b[0m\u001b[0m\n\u001b[1;32m   3069\u001b[0m                 \u001b[0;32mtry\u001b[0m\u001b[0;34m:\u001b[0m\u001b[0;34m\u001b[0m\u001b[0;34m\u001b[0m\u001b[0m\n\u001b[0;32m-> 3070\u001b[0;31m                     \u001b[0mmodel\u001b[0m \u001b[0;34m=\u001b[0m \u001b[0mcls\u001b[0m\u001b[0;34m(\u001b[0m\u001b[0;34m**\u001b[0m\u001b[0mconfig\u001b[0m\u001b[0;34m)\u001b[0m\u001b[0;34m\u001b[0m\u001b[0;34m\u001b[0m\u001b[0m\n\u001b[0m\u001b[1;32m   3071\u001b[0m                 \u001b[0;32mexcept\u001b[0m \u001b[0mTypeError\u001b[0m \u001b[0;32mas\u001b[0m \u001b[0me\u001b[0m\u001b[0;34m:\u001b[0m\u001b[0;34m\u001b[0m\u001b[0;34m\u001b[0m\u001b[0m\n\u001b[1;32m   3072\u001b[0m                     raise TypeError(\n",
            "\u001b[0;32m<ipython-input-111-79aabb476a45>\u001b[0m in \u001b[0;36m__init__\u001b[0;34m(self, n_channels, n_layers_wave, upsample_size, n_layers_glow, wave_net_filter)\u001b[0m\n\u001b[1;32m    171\u001b[0m     \u001b[0mself\u001b[0m\u001b[0;34m.\u001b[0m\u001b[0maffine_list\u001b[0m \u001b[0;34m=\u001b[0m \u001b[0;34m[\u001b[0m\u001b[0;34m]\u001b[0m\u001b[0;34m\u001b[0m\u001b[0;34m\u001b[0m\u001b[0m\n\u001b[1;32m    172\u001b[0m     \u001b[0;32mfor\u001b[0m \u001b[0mi\u001b[0m \u001b[0;32min\u001b[0m \u001b[0mrange\u001b[0m\u001b[0;34m(\u001b[0m\u001b[0mn_layers_glow\u001b[0m\u001b[0;34m)\u001b[0m\u001b[0;34m:\u001b[0m\u001b[0;34m\u001b[0m\u001b[0;34m\u001b[0m\u001b[0m\n\u001b[0;32m--> 173\u001b[0;31m       \u001b[0mself\u001b[0m\u001b[0;34m.\u001b[0m\u001b[0minvertible_list\u001b[0m\u001b[0;34m.\u001b[0m\u001b[0mappend\u001b[0m\u001b[0;34m(\u001b[0m\u001b[0mInvertible_Convolution_3\u001b[0m\u001b[0;34m(\u001b[0m\u001b[0mn_channels\u001b[0m\u001b[0;34m)\u001b[0m\u001b[0;34m)\u001b[0m\u001b[0;34m\u001b[0m\u001b[0;34m\u001b[0m\u001b[0m\n\u001b[0m\u001b[1;32m    174\u001b[0m       \u001b[0mself\u001b[0m\u001b[0;34m.\u001b[0m\u001b[0maffine_list\u001b[0m\u001b[0;34m.\u001b[0m\u001b[0mappend\u001b[0m\u001b[0;34m(\u001b[0m\u001b[0mAffine_Coupling_Layer\u001b[0m\u001b[0;34m(\u001b[0m\u001b[0mn_layers_wave\u001b[0m\u001b[0;34m,\u001b[0m \u001b[0mn_channels\u001b[0m\u001b[0;34m,\u001b[0m\u001b[0mwave_net_filter\u001b[0m\u001b[0;34m)\u001b[0m\u001b[0;34m)\u001b[0m\u001b[0;34m\u001b[0m\u001b[0;34m\u001b[0m\u001b[0m\n\u001b[1;32m    175\u001b[0m \u001b[0;34m\u001b[0m\u001b[0m\n",
            "\u001b[0;32m<ipython-input-111-79aabb476a45>\u001b[0m in \u001b[0;36m__init__\u001b[0;34m(self, n_channels)\u001b[0m\n\u001b[1;32m      4\u001b[0m     \u001b[0mself\u001b[0m\u001b[0;34m.\u001b[0m\u001b[0mn_channels\u001b[0m \u001b[0;34m=\u001b[0m \u001b[0mn_channels\u001b[0m\u001b[0;34m\u001b[0m\u001b[0;34m\u001b[0m\u001b[0m\n\u001b[1;32m      5\u001b[0m     \u001b[0mself\u001b[0m\u001b[0;34m.\u001b[0m\u001b[0minvertible_conv\u001b[0m \u001b[0;34m=\u001b[0m \u001b[0mConv1D\u001b[0m\u001b[0;34m(\u001b[0m\u001b[0mfilters\u001b[0m\u001b[0;34m=\u001b[0m \u001b[0mn_channels\u001b[0m\u001b[0;34m,\u001b[0m \u001b[0mkernel_size\u001b[0m \u001b[0;34m=\u001b[0m\u001b[0;36m1\u001b[0m \u001b[0;34m,\u001b[0m \u001b[0muse_bias\u001b[0m \u001b[0;34m=\u001b[0m \u001b[0;32mFalse\u001b[0m\u001b[0;34m)\u001b[0m\u001b[0;34m\u001b[0m\u001b[0;34m\u001b[0m\u001b[0m\n\u001b[0;32m----> 6\u001b[0;31m     \u001b[0mW\u001b[0m\u001b[0;34m,\u001b[0m\u001b[0mr\u001b[0m  \u001b[0;34m=\u001b[0m \u001b[0mtf\u001b[0m\u001b[0;34m.\u001b[0m\u001b[0mlinalg\u001b[0m\u001b[0;34m.\u001b[0m\u001b[0mqr\u001b[0m\u001b[0;34m(\u001b[0m\u001b[0mtf\u001b[0m\u001b[0;34m.\u001b[0m\u001b[0mrandom\u001b[0m\u001b[0;34m.\u001b[0m\u001b[0mnormal\u001b[0m\u001b[0;34m(\u001b[0m\u001b[0mshape\u001b[0m\u001b[0;34m=\u001b[0m\u001b[0;34m(\u001b[0m\u001b[0mn_channels\u001b[0m\u001b[0;34m,\u001b[0m\u001b[0mn_channels\u001b[0m\u001b[0;34m)\u001b[0m\u001b[0;34m)\u001b[0m\u001b[0;34m)\u001b[0m\u001b[0;34m\u001b[0m\u001b[0;34m\u001b[0m\u001b[0m\n\u001b[0m\u001b[1;32m      7\u001b[0m     \u001b[0mself\u001b[0m\u001b[0;34m.\u001b[0m\u001b[0minvertible_conv\u001b[0m\u001b[0;34m.\u001b[0m\u001b[0mset_weights\u001b[0m \u001b[0;34m=\u001b[0m \u001b[0mW\u001b[0m\u001b[0;34m\u001b[0m\u001b[0;34m\u001b[0m\u001b[0m\n\u001b[1;32m      8\u001b[0m \u001b[0;34m\u001b[0m\u001b[0m\n",
            "\u001b[0;32m/usr/local/lib/python3.10/dist-packages/tensorflow/python/util/traceback_utils.py\u001b[0m in \u001b[0;36merror_handler\u001b[0;34m(*args, **kwargs)\u001b[0m\n\u001b[1;32m    148\u001b[0m     \u001b[0mfiltered_tb\u001b[0m \u001b[0;34m=\u001b[0m \u001b[0;32mNone\u001b[0m\u001b[0;34m\u001b[0m\u001b[0;34m\u001b[0m\u001b[0m\n\u001b[1;32m    149\u001b[0m     \u001b[0;32mtry\u001b[0m\u001b[0;34m:\u001b[0m\u001b[0;34m\u001b[0m\u001b[0;34m\u001b[0m\u001b[0m\n\u001b[0;32m--> 150\u001b[0;31m       \u001b[0;32mreturn\u001b[0m \u001b[0mfn\u001b[0m\u001b[0;34m(\u001b[0m\u001b[0;34m*\u001b[0m\u001b[0margs\u001b[0m\u001b[0;34m,\u001b[0m \u001b[0;34m**\u001b[0m\u001b[0mkwargs\u001b[0m\u001b[0;34m)\u001b[0m\u001b[0;34m\u001b[0m\u001b[0;34m\u001b[0m\u001b[0m\n\u001b[0m\u001b[1;32m    151\u001b[0m     \u001b[0;32mexcept\u001b[0m \u001b[0mException\u001b[0m \u001b[0;32mas\u001b[0m \u001b[0me\u001b[0m\u001b[0;34m:\u001b[0m\u001b[0;34m\u001b[0m\u001b[0;34m\u001b[0m\u001b[0m\n\u001b[1;32m    152\u001b[0m       \u001b[0mfiltered_tb\u001b[0m \u001b[0;34m=\u001b[0m \u001b[0m_process_traceback_frames\u001b[0m\u001b[0;34m(\u001b[0m\u001b[0me\u001b[0m\u001b[0;34m.\u001b[0m\u001b[0m__traceback__\u001b[0m\u001b[0;34m)\u001b[0m\u001b[0;34m\u001b[0m\u001b[0;34m\u001b[0m\u001b[0m\n",
            "\u001b[0;32m/usr/local/lib/python3.10/dist-packages/tensorflow/python/util/dispatch.py\u001b[0m in \u001b[0;36mop_dispatch_handler\u001b[0;34m(*args, **kwargs)\u001b[0m\n\u001b[1;32m   1174\u001b[0m       \u001b[0;31m# Fallback dispatch system (dispatch v1):\u001b[0m\u001b[0;34m\u001b[0m\u001b[0;34m\u001b[0m\u001b[0m\n\u001b[1;32m   1175\u001b[0m       \u001b[0;32mtry\u001b[0m\u001b[0;34m:\u001b[0m\u001b[0;34m\u001b[0m\u001b[0;34m\u001b[0m\u001b[0m\n\u001b[0;32m-> 1176\u001b[0;31m         \u001b[0;32mreturn\u001b[0m \u001b[0mdispatch_target\u001b[0m\u001b[0;34m(\u001b[0m\u001b[0;34m*\u001b[0m\u001b[0margs\u001b[0m\u001b[0;34m,\u001b[0m \u001b[0;34m**\u001b[0m\u001b[0mkwargs\u001b[0m\u001b[0;34m)\u001b[0m\u001b[0;34m\u001b[0m\u001b[0;34m\u001b[0m\u001b[0m\n\u001b[0m\u001b[1;32m   1177\u001b[0m       \u001b[0;32mexcept\u001b[0m \u001b[0;34m(\u001b[0m\u001b[0mTypeError\u001b[0m\u001b[0;34m,\u001b[0m \u001b[0mValueError\u001b[0m\u001b[0;34m)\u001b[0m\u001b[0;34m:\u001b[0m\u001b[0;34m\u001b[0m\u001b[0;34m\u001b[0m\u001b[0m\n\u001b[1;32m   1178\u001b[0m         \u001b[0;31m# Note: convert_to_eager_tensor currently raises a ValueError, not a\u001b[0m\u001b[0;34m\u001b[0m\u001b[0;34m\u001b[0m\u001b[0m\n",
            "\u001b[0;32m/usr/local/lib/python3.10/dist-packages/tensorflow/python/ops/random_ops.py\u001b[0m in \u001b[0;36mrandom_normal\u001b[0;34m(shape, mean, stddev, dtype, seed, name)\u001b[0m\n\u001b[1;32m     89\u001b[0m     \u001b[0mstddev_tensor\u001b[0m \u001b[0;34m=\u001b[0m \u001b[0mops\u001b[0m\u001b[0;34m.\u001b[0m\u001b[0mconvert_to_tensor\u001b[0m\u001b[0;34m(\u001b[0m\u001b[0mstddev\u001b[0m\u001b[0;34m,\u001b[0m \u001b[0mdtype\u001b[0m\u001b[0;34m=\u001b[0m\u001b[0mdtype\u001b[0m\u001b[0;34m,\u001b[0m \u001b[0mname\u001b[0m\u001b[0;34m=\u001b[0m\u001b[0;34m\"stddev\"\u001b[0m\u001b[0;34m)\u001b[0m\u001b[0;34m\u001b[0m\u001b[0;34m\u001b[0m\u001b[0m\n\u001b[1;32m     90\u001b[0m     \u001b[0mseed1\u001b[0m\u001b[0;34m,\u001b[0m \u001b[0mseed2\u001b[0m \u001b[0;34m=\u001b[0m \u001b[0mrandom_seed\u001b[0m\u001b[0;34m.\u001b[0m\u001b[0mget_seed\u001b[0m\u001b[0;34m(\u001b[0m\u001b[0mseed\u001b[0m\u001b[0;34m)\u001b[0m\u001b[0;34m\u001b[0m\u001b[0;34m\u001b[0m\u001b[0m\n\u001b[0;32m---> 91\u001b[0;31m     rnd = gen_random_ops.random_standard_normal(\n\u001b[0m\u001b[1;32m     92\u001b[0m         shape_tensor, dtype, seed=seed1, seed2=seed2)\n\u001b[1;32m     93\u001b[0m     \u001b[0mmul\u001b[0m \u001b[0;34m=\u001b[0m \u001b[0mrnd\u001b[0m \u001b[0;34m*\u001b[0m \u001b[0mstddev_tensor\u001b[0m\u001b[0;34m\u001b[0m\u001b[0;34m\u001b[0m\u001b[0m\n",
            "\u001b[0;32m/usr/local/lib/python3.10/dist-packages/tensorflow/python/ops/gen_random_ops.py\u001b[0m in \u001b[0;36mrandom_standard_normal\u001b[0;34m(shape, dtype, seed, seed2, name)\u001b[0m\n\u001b[1;32m    629\u001b[0m   \u001b[0;32mif\u001b[0m \u001b[0mtld\u001b[0m\u001b[0;34m.\u001b[0m\u001b[0mis_eager\u001b[0m\u001b[0;34m:\u001b[0m\u001b[0;34m\u001b[0m\u001b[0;34m\u001b[0m\u001b[0m\n\u001b[1;32m    630\u001b[0m     \u001b[0;32mtry\u001b[0m\u001b[0;34m:\u001b[0m\u001b[0;34m\u001b[0m\u001b[0;34m\u001b[0m\u001b[0m\n\u001b[0;32m--> 631\u001b[0;31m       _result = pywrap_tfe.TFE_Py_FastPathExecute(\n\u001b[0m\u001b[1;32m    632\u001b[0m         \u001b[0m_ctx\u001b[0m\u001b[0;34m,\u001b[0m \u001b[0;34m\"RandomStandardNormal\"\u001b[0m\u001b[0;34m,\u001b[0m \u001b[0mname\u001b[0m\u001b[0;34m,\u001b[0m \u001b[0mshape\u001b[0m\u001b[0;34m,\u001b[0m \u001b[0;34m\"seed\"\u001b[0m\u001b[0;34m,\u001b[0m \u001b[0mseed\u001b[0m\u001b[0;34m,\u001b[0m \u001b[0;34m\"seed2\"\u001b[0m\u001b[0;34m,\u001b[0m\u001b[0;34m\u001b[0m\u001b[0;34m\u001b[0m\u001b[0m\n\u001b[1;32m    633\u001b[0m         seed2, \"dtype\", dtype)\n",
            "\u001b[0;31mKeyboardInterrupt\u001b[0m: "
          ]
        }
      ]
    },
    {
      "cell_type": "code",
      "source": [
        "epochs = 1\n",
        "batch_size = 8\n",
        "raw_audio_data_refine = raw_audio_data[:batch_size,:]\n",
        "mel_refine = mel_spectrogram[:batch_size,:,:]\n",
        "train_dataset = tf.data.Dataset.from_tensor_slices((raw_audio_data[batch_size * 9:batch_size*12,:], mel_spectrogram[batch_size * 9:batch_size * 12,:,:]))\n",
        "train_loader = train_dataset.shuffle(buffer_size=100).batch(batch_size=batch_size).prefetch(buffer_size=tf.data.experimental.AUTOTUNE)"
      ],
      "metadata": {
        "id": "LcgAczy3UzUj"
      },
      "execution_count": null,
      "outputs": []
    },
    {
      "cell_type": "code",
      "source": [
        "loaded_model(inputs=(raw_audio_data_refine, mel_refine))\n",
        "output_list = training(epochs, train_loader,loaded_model)"
      ],
      "metadata": {
        "id": "NWFaDk58U4mf",
        "colab": {
          "base_uri": "https://localhost:8080/"
        },
        "outputId": "39d7ea5c-fe9a-4f01-9bb8-78a4c314b0f9"
      },
      "execution_count": null,
      "outputs": [
        {
          "output_type": "stream",
          "name": "stdout",
          "text": [
            "Epoch:1/1\n"
          ]
        },
        {
          "output_type": "stream",
          "name": "stderr",
          "text": [
            "WARNING:tensorflow:5 out of the last 5 calls to <function _BaseOptimizer._update_step_xla at 0x78fdac468d30> triggered tf.function retracing. Tracing is expensive and the excessive number of tracings could be due to (1) creating @tf.function repeatedly in a loop, (2) passing tensors with different shapes, (3) passing Python objects instead of tensors. For (1), please define your @tf.function outside of the loop. For (2), @tf.function has reduce_retracing=True option that can avoid unnecessary retracing. For (3), please refer to https://www.tensorflow.org/guide/function#controlling_retracing and https://www.tensorflow.org/api_docs/python/tf/function for  more details.\n",
            "WARNING:tensorflow:6 out of the last 6 calls to <function _BaseOptimizer._update_step_xla at 0x78fdac468d30> triggered tf.function retracing. Tracing is expensive and the excessive number of tracings could be due to (1) creating @tf.function repeatedly in a loop, (2) passing tensors with different shapes, (3) passing Python objects instead of tensors. For (1), please define your @tf.function outside of the loop. For (2), @tf.function has reduce_retracing=True option that can avoid unnecessary retracing. For (3), please refer to https://www.tensorflow.org/guide/function#controlling_retracing and https://www.tensorflow.org/api_docs/python/tf/function for  more details.\n"
          ]
        },
        {
          "output_type": "stream",
          "name": "stdout",
          "text": [
            "Loss:-2.361\n",
            "Loss:-0.714\n"
          ]
        }
      ]
    },
    {
      "cell_type": "code",
      "source": [
        "loaded_model.save('wave_glow_model_4',save_format='tf')"
      ],
      "metadata": {
        "id": "HKHf2uXuU6lh",
        "colab": {
          "base_uri": "https://localhost:8080/"
        },
        "outputId": "9424a42e-fb4a-4398-c639-30860bf096db"
      },
      "execution_count": null,
      "outputs": [
        {
          "output_type": "stream",
          "name": "stderr",
          "text": [
            "WARNING:absl:Found untraced functions such as _update_step_xla, conv1d_60_layer_call_fn, conv1d_60_layer_call_and_return_conditional_losses, _jit_compiled_convolution_op, conv1d_65_layer_call_fn while saving (showing 5 of 781). These functions will not be directly callable after loading.\n"
          ]
        }
      ]
    },
    {
      "cell_type": "markdown",
      "source": [
        "#August 3rd"
      ],
      "metadata": {
        "id": "Y_iQVSQ96BCA"
      }
    },
    {
      "cell_type": "code",
      "source": [
        "raw_audio_data = raw_audio_data[:1216,:]\n",
        "mel_spectrogram = mel_spectrogram[:1216,:,:]"
      ],
      "metadata": {
        "id": "B8hBZFgu8kea"
      },
      "execution_count": null,
      "outputs": []
    },
    {
      "cell_type": "code",
      "source": [
        "epochs = 7\n",
        "batch_size = 32\n",
        "raw_audio_data_refine = raw_audio_data[:batch_size,:]\n",
        "mel_refine = mel_spectrogram[:batch_size,:,:]\n",
        "train_dataset = tf.data.Dataset.from_tensor_slices((raw_audio_data[:batch_size*19,:], mel_spectrogram[:batch_size*19,:,:]))\n",
        "train_loader = train_dataset.shuffle(buffer_size=100).batch(batch_size=batch_size).prefetch(buffer_size=tf.data.experimental.AUTOTUNE)"
      ],
      "metadata": {
        "id": "FwpSCJNe6coi"
      },
      "execution_count": null,
      "outputs": []
    },
    {
      "cell_type": "code",
      "source": [
        "output, loss = model(inputs=(raw_audio_data_refine, mel_refine))"
      ],
      "metadata": {
        "id": "unnyHU2q6Dg3"
      },
      "execution_count": null,
      "outputs": []
    },
    {
      "cell_type": "code",
      "source": [
        "output_list = training(epochs, train_loader, model)"
      ],
      "metadata": {
        "colab": {
          "base_uri": "https://localhost:8080/"
        },
        "id": "D8AQn88Q7N0Q",
        "outputId": "35a1434c-e6f2-47d1-9588-75cc57f9fbc2"
      },
      "execution_count": null,
      "outputs": [
        {
          "output_type": "stream",
          "name": "stdout",
          "text": [
            "Epoch:1/7\n"
          ]
        },
        {
          "output_type": "stream",
          "name": "stderr",
          "text": [
            "WARNING:tensorflow:5 out of the last 5 calls to <function _BaseOptimizer._update_step_xla at 0x79f298e81630> triggered tf.function retracing. Tracing is expensive and the excessive number of tracings could be due to (1) creating @tf.function repeatedly in a loop, (2) passing tensors with different shapes, (3) passing Python objects instead of tensors. For (1), please define your @tf.function outside of the loop. For (2), @tf.function has reduce_retracing=True option that can avoid unnecessary retracing. For (3), please refer to https://www.tensorflow.org/guide/function#controlling_retracing and https://www.tensorflow.org/api_docs/python/tf/function for  more details.\n",
            "WARNING:tensorflow:6 out of the last 6 calls to <function _BaseOptimizer._update_step_xla at 0x79f298e81630> triggered tf.function retracing. Tracing is expensive and the excessive number of tracings could be due to (1) creating @tf.function repeatedly in a loop, (2) passing tensors with different shapes, (3) passing Python objects instead of tensors. For (1), please define your @tf.function outside of the loop. For (2), @tf.function has reduce_retracing=True option that can avoid unnecessary retracing. For (3), please refer to https://www.tensorflow.org/guide/function#controlling_retracing and https://www.tensorflow.org/api_docs/python/tf/function for  more details.\n"
          ]
        },
        {
          "output_type": "stream",
          "name": "stdout",
          "text": [
            "Loss:8.717\n",
            "Loss:6.476\n",
            "Loss:6.642\n",
            "Loss:6.401\n",
            "Loss:6.370\n",
            "Loss:6.414\n",
            "Loss:6.368\n",
            "Loss:6.367\n",
            "Loss:6.366\n",
            "Loss:6.365\n",
            "Epoch:2/7\n",
            "Loss:6.363\n",
            "Loss:6.363\n",
            "Loss:6.363\n",
            "Loss:6.363\n",
            "Loss:6.363\n",
            "Loss:6.362\n",
            "Loss:6.362\n",
            "Loss:6.362\n",
            "Loss:6.362\n",
            "Loss:6.361\n",
            "Epoch:3/7\n",
            "Loss:6.362\n",
            "Loss:6.361\n",
            "Loss:6.362\n",
            "Loss:6.361\n",
            "Loss:6.361\n",
            "Loss:6.361\n",
            "Loss:6.361\n",
            "Loss:6.361\n",
            "Loss:6.361\n",
            "Loss:6.361\n",
            "Epoch:4/7\n",
            "Loss:6.361\n",
            "Loss:6.361\n",
            "Loss:6.361\n",
            "Loss:6.361\n",
            "Loss:6.361\n",
            "Loss:6.361\n",
            "Loss:6.361\n",
            "Loss:6.361\n",
            "Loss:6.361\n",
            "Loss:6.361\n",
            "Epoch:5/7\n",
            "Loss:6.361\n",
            "Loss:6.361\n",
            "Loss:6.361\n",
            "Loss:6.360\n",
            "Loss:6.360\n",
            "Loss:6.360\n",
            "Loss:6.360\n",
            "Loss:6.361\n",
            "Loss:6.360\n",
            "Loss:6.360\n",
            "Epoch:6/7\n",
            "Loss:6.360\n",
            "Loss:6.360\n",
            "Loss:6.360\n",
            "Loss:6.360\n",
            "Loss:6.361\n",
            "Loss:6.361\n",
            "Loss:6.361\n",
            "Loss:6.361\n",
            "Loss:6.361\n",
            "Loss:6.360\n",
            "Epoch:7/7\n",
            "Loss:6.360\n",
            "Loss:6.360\n",
            "Loss:6.361\n",
            "Loss:6.360\n",
            "Loss:6.360\n",
            "Loss:6.360\n",
            "Loss:6.360\n",
            "Loss:6.360\n",
            "Loss:6.360\n",
            "Loss:6.360\n"
          ]
        }
      ]
    },
    {
      "cell_type": "code",
      "source": [
        "model.save('waveglow_1',save_format='tf')"
      ],
      "metadata": {
        "id": "Qm1CIJct7d5F"
      },
      "execution_count": null,
      "outputs": []
    },
    {
      "cell_type": "markdown",
      "source": [
        "#August 4st"
      ],
      "metadata": {
        "id": "IyuoucXTZtAu"
      }
    },
    {
      "cell_type": "code",
      "source": [
        "loaded_model = load_model('/content/drive/MyDrive/glow_model/waveglow_1', custom_objects={\n",
        "    'Invertible_Convolution_3': Invertible_Convolution_3,\n",
        "    'WaveNet_3': WaveNet_3,\n",
        "    'Affine_Coupling_Layer': Affine_Coupling_Layer,\n",
        "    'WaveGlow3': WaveGlow3\n",
        "})"
      ],
      "metadata": {
        "id": "rRMNS5a9bJ0E"
      },
      "execution_count": null,
      "outputs": []
    },
    {
      "cell_type": "code",
      "source": [
        "raw_audio_data = raw_audio_data[:1216,:]\n",
        "mel_spectrogram = mel_spectrogram[:1216,:,:]"
      ],
      "metadata": {
        "id": "FmeKcNF0aCuV"
      },
      "execution_count": null,
      "outputs": []
    },
    {
      "cell_type": "code",
      "source": [
        "epochs = 7\n",
        "batch_size = 32\n",
        "raw_audio_data_refine = raw_audio_data[:batch_size,:]\n",
        "mel_refine = mel_spectrogram[:batch_size,:,:]\n",
        "train_dataset = tf.data.Dataset.from_tensor_slices((raw_audio_data[batch_size*19:,:], mel_spectrogram[batch_size*19:,:,:]))\n",
        "train_loader = train_dataset.shuffle(buffer_size=100).batch(batch_size=batch_size).prefetch(buffer_size=tf.data.experimental.AUTOTUNE)"
      ],
      "metadata": {
        "id": "pPpCj1gvaH2q"
      },
      "execution_count": null,
      "outputs": []
    },
    {
      "cell_type": "code",
      "source": [
        "output, loss = loaded_model(inputs=(raw_audio_data_refine, mel_refine))"
      ],
      "metadata": {
        "id": "r_6FAOrXaMZz"
      },
      "execution_count": null,
      "outputs": []
    },
    {
      "cell_type": "code",
      "source": [
        "output_list = training(epochs, train_loader, loaded_model)"
      ],
      "metadata": {
        "colab": {
          "base_uri": "https://localhost:8080/"
        },
        "id": "qhp4aBruaOV4",
        "outputId": "16a87efe-7a09-4630-9175-81133f72a12c"
      },
      "execution_count": null,
      "outputs": [
        {
          "output_type": "stream",
          "name": "stdout",
          "text": [
            "Epoch:1/7\n"
          ]
        },
        {
          "output_type": "stream",
          "name": "stderr",
          "text": [
            "WARNING:tensorflow:5 out of the last 5 calls to <function _BaseOptimizer._update_step_xla at 0x7c4c7c410820> triggered tf.function retracing. Tracing is expensive and the excessive number of tracings could be due to (1) creating @tf.function repeatedly in a loop, (2) passing tensors with different shapes, (3) passing Python objects instead of tensors. For (1), please define your @tf.function outside of the loop. For (2), @tf.function has reduce_retracing=True option that can avoid unnecessary retracing. For (3), please refer to https://www.tensorflow.org/guide/function#controlling_retracing and https://www.tensorflow.org/api_docs/python/tf/function for  more details.\n",
            "WARNING:tensorflow:6 out of the last 6 calls to <function _BaseOptimizer._update_step_xla at 0x7c4c7c410820> triggered tf.function retracing. Tracing is expensive and the excessive number of tracings could be due to (1) creating @tf.function repeatedly in a loop, (2) passing tensors with different shapes, (3) passing Python objects instead of tensors. For (1), please define your @tf.function outside of the loop. For (2), @tf.function has reduce_retracing=True option that can avoid unnecessary retracing. For (3), please refer to https://www.tensorflow.org/guide/function#controlling_retracing and https://www.tensorflow.org/api_docs/python/tf/function for  more details.\n"
          ]
        },
        {
          "output_type": "stream",
          "name": "stdout",
          "text": [
            "Loss:6.360\n",
            "Loss:6.049\n",
            "Loss:5.784\n",
            "Loss:5.548\n",
            "Loss:5.333\n",
            "Loss:5.135\n",
            "Loss:4.950\n",
            "Loss:4.775\n",
            "Loss:4.608\n",
            "Loss:4.449\n",
            "Epoch:2/7\n",
            "Loss:4.372\n",
            "Loss:4.222\n",
            "Loss:4.077\n",
            "Loss:3.937\n",
            "Loss:3.801\n",
            "Loss:3.669\n",
            "Loss:3.542\n",
            "Loss:3.415\n",
            "Loss:3.304\n",
            "Loss:3.182\n",
            "Epoch:3/7\n",
            "Loss:3.126\n",
            "Loss:3.013\n",
            "Loss:2.904\n",
            "Loss:2.795\n",
            "Loss:2.690\n",
            "Loss:2.588\n",
            "Loss:2.489\n",
            "Loss:2.398\n",
            "Loss:2.308\n",
            "Loss:2.217\n",
            "Epoch:4/7\n",
            "Loss:2.172\n",
            "Loss:2.081\n",
            "Loss:1.997\n",
            "Loss:1.907\n",
            "Loss:1.821\n",
            "Loss:1.740\n",
            "Loss:1.660\n",
            "Loss:1.583\n",
            "Loss:1.505\n",
            "Loss:1.443\n",
            "Epoch:5/7\n",
            "Loss:1.398\n",
            "Loss:1.329\n",
            "Loss:1.260\n",
            "Loss:1.189\n",
            "Loss:1.123\n",
            "Loss:1.053\n",
            "Loss:0.990\n",
            "Loss:0.920\n",
            "Loss:0.869\n",
            "Loss:0.794\n",
            "Epoch:6/7\n",
            "Loss:0.766\n",
            "Loss:0.714\n",
            "Loss:0.654\n",
            "Loss:0.587\n",
            "Loss:0.546\n",
            "Loss:0.499\n",
            "Loss:0.463\n",
            "Loss:0.401\n",
            "Loss:0.354\n",
            "Loss:0.333\n",
            "Epoch:7/7\n",
            "Loss:0.309\n",
            "Loss:0.273\n",
            "Loss:0.252\n",
            "Loss:0.216\n",
            "Loss:0.182\n",
            "Loss:0.150\n",
            "Loss:0.119\n",
            "Loss:0.082\n",
            "Loss:0.074\n",
            "Loss:0.049\n"
          ]
        }
      ]
    },
    {
      "cell_type": "code",
      "source": [
        "loaded_model.save('/content/drive/MyDrive/glow_model/waveglow_2',save_format='tf')"
      ],
      "metadata": {
        "colab": {
          "base_uri": "https://localhost:8080/"
        },
        "id": "jeHChus0aSrn",
        "outputId": "715a33db-5fdb-4085-8e94-0b423344b404"
      },
      "execution_count": null,
      "outputs": [
        {
          "output_type": "stream",
          "name": "stderr",
          "text": [
            "WARNING:absl:Found untraced functions such as _update_step_xla, conv1d_layer_call_fn, conv1d_layer_call_and_return_conditional_losses, _jit_compiled_convolution_op, conv1d_5_layer_call_fn while saving (showing 5 of 589). These functions will not be directly callable after loading.\n"
          ]
        }
      ]
    },
    {
      "cell_type": "markdown",
      "source": [
        "#August 4st -2"
      ],
      "metadata": {
        "id": "9ODgkG61hs70"
      }
    },
    {
      "cell_type": "code",
      "source": [
        "loaded_model = load_model('/content/drive/MyDrive/glow_model/waveglow_2', custom_objects={\n",
        "    'Invertible_Convolution_3': Invertible_Convolution_3,\n",
        "    'WaveNet_3': WaveNet_3,\n",
        "    'Affine_Coupling_Layer': Affine_Coupling_Layer,\n",
        "    'WaveGlow3': WaveGlow3\n",
        "})"
      ],
      "metadata": {
        "id": "80KMWLDJhvUG"
      },
      "execution_count": null,
      "outputs": []
    },
    {
      "cell_type": "code",
      "source": [
        "raw_audio_data = raw_audio_data[:928,:]\n",
        "mel_spectrogram = mel_spectrogram[:928,:,:]"
      ],
      "metadata": {
        "id": "NOomyjgLhzcx"
      },
      "execution_count": null,
      "outputs": []
    },
    {
      "cell_type": "code",
      "source": [
        "epochs = 7\n",
        "batch_size = 32\n",
        "raw_audio_data_refine = raw_audio_data[:batch_size,:]\n",
        "mel_refine = mel_spectrogram[:batch_size,:,:]\n",
        "train_dataset = tf.data.Dataset.from_tensor_slices((raw_audio_data[batch_size*15:,:], mel_spectrogram[batch_size*15:,:,:]))\n",
        "train_loader = train_dataset.shuffle(buffer_size=100).batch(batch_size=batch_size).prefetch(buffer_size=tf.data.experimental.AUTOTUNE)"
      ],
      "metadata": {
        "id": "ehZcf64OiGAw"
      },
      "execution_count": null,
      "outputs": []
    },
    {
      "cell_type": "code",
      "source": [
        "output, loss = loaded_model(inputs=(raw_audio_data_refine, mel_refine))"
      ],
      "metadata": {
        "id": "zKrC-mmjiNeg"
      },
      "execution_count": null,
      "outputs": []
    },
    {
      "cell_type": "code",
      "source": [
        "output_list = training(epochs, train_loader, loaded_model)"
      ],
      "metadata": {
        "colab": {
          "base_uri": "https://localhost:8080/"
        },
        "id": "pcq_Dbq8iPRB",
        "outputId": "6cc73153-b41a-49f1-ade0-780d8ad5eda8"
      },
      "execution_count": null,
      "outputs": [
        {
          "output_type": "stream",
          "name": "stdout",
          "text": [
            "Epoch:1/7\n"
          ]
        },
        {
          "output_type": "stream",
          "name": "stderr",
          "text": [
            "WARNING:tensorflow:5 out of the last 5 calls to <function _BaseOptimizer._update_step_xla at 0x7bfc3bf80430> triggered tf.function retracing. Tracing is expensive and the excessive number of tracings could be due to (1) creating @tf.function repeatedly in a loop, (2) passing tensors with different shapes, (3) passing Python objects instead of tensors. For (1), please define your @tf.function outside of the loop. For (2), @tf.function has reduce_retracing=True option that can avoid unnecessary retracing. For (3), please refer to https://www.tensorflow.org/guide/function#controlling_retracing and https://www.tensorflow.org/api_docs/python/tf/function for  more details.\n",
            "WARNING:tensorflow:6 out of the last 6 calls to <function _BaseOptimizer._update_step_xla at 0x7bfc3bf80430> triggered tf.function retracing. Tracing is expensive and the excessive number of tracings could be due to (1) creating @tf.function repeatedly in a loop, (2) passing tensors with different shapes, (3) passing Python objects instead of tensors. For (1), please define your @tf.function outside of the loop. For (2), @tf.function has reduce_retracing=True option that can avoid unnecessary retracing. For (3), please refer to https://www.tensorflow.org/guide/function#controlling_retracing and https://www.tensorflow.org/api_docs/python/tf/function for  more details.\n"
          ]
        },
        {
          "output_type": "stream",
          "name": "stdout",
          "text": [
            "Loss:6.336\n",
            "Loss:0.513\n",
            "Loss:3.802\n",
            "Loss:0.566\n",
            "Loss:0.295\n",
            "Loss:0.162\n",
            "Loss:0.044\n",
            "Epoch:2/7\n",
            "Loss:0.008\n",
            "Loss:-0.019\n",
            "Loss:-0.046\n",
            "Loss:-0.095\n",
            "Loss:-0.137\n",
            "Loss:-0.173\n",
            "Loss:-0.224\n",
            "Epoch:3/7\n",
            "Loss:-0.266\n",
            "Loss:-0.315\n",
            "Loss:-0.378\n",
            "Loss:-0.426\n",
            "Loss:-0.478\n",
            "Loss:-0.522\n",
            "Loss:-0.579\n",
            "Epoch:4/7\n",
            "Loss:-0.634\n",
            "Loss:-0.673\n",
            "Loss:-0.740\n",
            "Loss:-0.779\n",
            "Loss:-0.803\n",
            "Loss:-0.822\n",
            "Loss:-0.866\n",
            "Epoch:5/7\n",
            "Loss:-0.904\n",
            "Loss:-0.950\n",
            "Loss:-1.009\n",
            "Loss:-0.997\n",
            "Loss:-1.036\n",
            "Loss:-1.090\n",
            "Loss:-1.079\n",
            "Epoch:6/7\n",
            "Loss:-1.146\n",
            "Loss:-1.140\n",
            "Loss:-1.170\n",
            "Loss:-1.214\n",
            "Loss:-1.238\n",
            "Loss:-1.265\n",
            "Loss:-1.282\n",
            "Epoch:7/7\n",
            "Loss:-1.302\n",
            "Loss:-1.312\n",
            "Loss:-1.349\n",
            "Loss:-1.372\n",
            "Loss:-1.382\n",
            "Loss:-1.392\n",
            "Loss:-1.441\n"
          ]
        }
      ]
    },
    {
      "cell_type": "code",
      "source": [
        "loaded_model.save('/content/drive/MyDrive/glow_model/waveglow_3',save_format='tf')"
      ],
      "metadata": {
        "colab": {
          "base_uri": "https://localhost:8080/"
        },
        "id": "XJcdWg-6ihtH",
        "outputId": "b492ebf0-ee17-4dc3-b8c1-20ad28ad9c0d"
      },
      "execution_count": null,
      "outputs": [
        {
          "output_type": "stream",
          "name": "stderr",
          "text": [
            "WARNING:absl:Found untraced functions such as _update_step_xla, conv1d_layer_call_fn, conv1d_layer_call_and_return_conditional_losses, _jit_compiled_convolution_op, conv1d_5_layer_call_fn while saving (showing 5 of 589). These functions will not be directly callable after loading.\n"
          ]
        }
      ]
    },
    {
      "cell_type": "markdown",
      "source": [
        "#August 4st -3rd"
      ],
      "metadata": {
        "id": "GEGD5U57jn_Z"
      }
    },
    {
      "cell_type": "code",
      "source": [
        "loaded_model = load_model('/content/drive/MyDrive/glow_model/waveglow_3', custom_objects={\n",
        "    'Invertible_Convolution_3': Invertible_Convolution_3,\n",
        "    'WaveNet_3': WaveNet_3,\n",
        "    'Affine_Coupling_Layer': Affine_Coupling_Layer,\n",
        "    'WaveGlow3': WaveGlow3\n",
        "})"
      ],
      "metadata": {
        "id": "z97luIY_jqBx"
      },
      "execution_count": null,
      "outputs": []
    },
    {
      "cell_type": "code",
      "source": [
        "raw_audio_data = raw_audio_data[:928,:]\n",
        "mel_spectrogram = mel_spectrogram[:928,:,:]"
      ],
      "metadata": {
        "id": "oiZ-rRR_js8B"
      },
      "execution_count": null,
      "outputs": []
    },
    {
      "cell_type": "code",
      "source": [
        "epochs = 7\n",
        "batch_size = 32\n",
        "raw_audio_data_refine = raw_audio_data[:batch_size,:]\n",
        "mel_refine = mel_spectrogram[:batch_size,:,:]\n",
        "train_dataset = tf.data.Dataset.from_tensor_slices((raw_audio_data[:batch_size*15,:], mel_spectrogram[:batch_size*15,:,:]))\n",
        "train_loader = train_dataset.shuffle(buffer_size=100).batch(batch_size=batch_size).prefetch(buffer_size=tf.data.experimental.AUTOTUNE)"
      ],
      "metadata": {
        "id": "d9c9QRMXjuqk"
      },
      "execution_count": null,
      "outputs": []
    },
    {
      "cell_type": "code",
      "source": [
        "output, loss = loaded_model(inputs=(raw_audio_data_refine, mel_refine))"
      ],
      "metadata": {
        "id": "ueVb1-Yej1hF"
      },
      "execution_count": null,
      "outputs": []
    },
    {
      "cell_type": "code",
      "source": [
        "output_list = training(epochs, train_loader, loaded_model)"
      ],
      "metadata": {
        "colab": {
          "base_uri": "https://localhost:8080/"
        },
        "id": "-PnSnkSQj5Zi",
        "outputId": "b7a6a186-e5d7-4778-9a90-72568b79b3be"
      },
      "execution_count": null,
      "outputs": [
        {
          "output_type": "stream",
          "name": "stdout",
          "text": [
            "Epoch:1/7\n"
          ]
        },
        {
          "output_type": "stream",
          "name": "stderr",
          "text": [
            "WARNING:tensorflow:5 out of the last 5 calls to <function _BaseOptimizer._update_step_xla at 0x7e6d1dd1b520> triggered tf.function retracing. Tracing is expensive and the excessive number of tracings could be due to (1) creating @tf.function repeatedly in a loop, (2) passing tensors with different shapes, (3) passing Python objects instead of tensors. For (1), please define your @tf.function outside of the loop. For (2), @tf.function has reduce_retracing=True option that can avoid unnecessary retracing. For (3), please refer to https://www.tensorflow.org/guide/function#controlling_retracing and https://www.tensorflow.org/api_docs/python/tf/function for  more details.\n",
            "WARNING:tensorflow:6 out of the last 6 calls to <function _BaseOptimizer._update_step_xla at 0x7e6d1dd1b520> triggered tf.function retracing. Tracing is expensive and the excessive number of tracings could be due to (1) creating @tf.function repeatedly in a loop, (2) passing tensors with different shapes, (3) passing Python objects instead of tensors. For (1), please define your @tf.function outside of the loop. For (2), @tf.function has reduce_retracing=True option that can avoid unnecessary retracing. For (3), please refer to https://www.tensorflow.org/guide/function#controlling_retracing and https://www.tensorflow.org/api_docs/python/tf/function for  more details.\n"
          ]
        },
        {
          "output_type": "stream",
          "name": "stdout",
          "text": [
            "Loss:-1.483\n",
            "Loss:-0.265\n",
            "Loss:-0.839\n",
            "Loss:0.708\n",
            "Loss:0.298\n",
            "Loss:-0.792\n",
            "Loss:-1.166\n",
            "Loss:-1.340\n",
            "Epoch:2/7\n",
            "Loss:-1.351\n",
            "Loss:-1.446\n",
            "Loss:-1.472\n",
            "Loss:-1.490\n",
            "Loss:-1.536\n",
            "Loss:-1.577\n",
            "Loss:-1.608\n",
            "Loss:-1.628\n",
            "Epoch:3/7\n",
            "Loss:-1.647\n",
            "Loss:-1.690\n",
            "Loss:-1.716\n",
            "Loss:-1.737\n",
            "Loss:-1.782\n",
            "Loss:-1.800\n",
            "Loss:-1.844\n",
            "Loss:-1.882\n",
            "Epoch:4/7\n",
            "Loss:-1.902\n",
            "Loss:-1.971\n",
            "Loss:-1.998\n",
            "Loss:-2.002\n",
            "Loss:-2.047\n",
            "Loss:-2.096\n",
            "Loss:-2.076\n",
            "Loss:-2.092\n",
            "Epoch:5/7\n",
            "Loss:-2.142\n",
            "Loss:-2.167\n",
            "Loss:-2.199\n",
            "Loss:-2.201\n",
            "Loss:-2.231\n",
            "Loss:-2.270\n",
            "Loss:-2.241\n",
            "Loss:-2.208\n",
            "Epoch:6/7\n",
            "Loss:-2.288\n",
            "Loss:-2.246\n",
            "Loss:-2.282\n",
            "Loss:-2.311\n",
            "Loss:-2.334\n",
            "Loss:-2.300\n",
            "Loss:-2.332\n",
            "Loss:-2.313\n",
            "Epoch:7/7\n",
            "Loss:-2.409\n",
            "Loss:-2.386\n",
            "Loss:-2.420\n",
            "Loss:-2.399\n",
            "Loss:-2.356\n",
            "Loss:-2.471\n",
            "Loss:-1.979\n",
            "Loss:-2.390\n"
          ]
        }
      ]
    },
    {
      "cell_type": "code",
      "source": [
        "loaded_model.save('/content/drive/MyDrive/glow_model/waveglow_4',save_format='tf')"
      ],
      "metadata": {
        "colab": {
          "base_uri": "https://localhost:8080/"
        },
        "id": "y9bzHXuOkFaH",
        "outputId": "95f05fd2-5269-4944-9677-e85222991fd1"
      },
      "execution_count": null,
      "outputs": [
        {
          "output_type": "stream",
          "name": "stderr",
          "text": [
            "WARNING:absl:Found untraced functions such as _update_step_xla, conv1d_layer_call_fn, conv1d_layer_call_and_return_conditional_losses, _jit_compiled_convolution_op, conv1d_5_layer_call_fn while saving (showing 5 of 589). These functions will not be directly callable after loading.\n"
          ]
        }
      ]
    },
    {
      "cell_type": "markdown",
      "source": [
        "#August 4s4 -4"
      ],
      "metadata": {
        "id": "iLjeAdOMl_If"
      }
    },
    {
      "cell_type": "code",
      "source": [
        "loaded_model = load_model('/content/drive/MyDrive/glow_model/waveglow_4', custom_objects={\n",
        "    'Invertible_Convolution_3': Invertible_Convolution_3,\n",
        "    'WaveNet_3': WaveNet_3,\n",
        "    'Affine_Coupling_Layer': Affine_Coupling_Layer,\n",
        "    'WaveGlow3': WaveGlow3\n",
        "})"
      ],
      "metadata": {
        "id": "bg_y4hpumBpl"
      },
      "execution_count": null,
      "outputs": []
    },
    {
      "cell_type": "code",
      "source": [
        "batch_size = 32\n",
        "s_batch = raw_audio_data.shape[0] // batch_size\n",
        "\n",
        "raw_audio_data = raw_audio_data[:batch_size * s_batch,:]\n",
        "mel_spectrogram = mel_spectrogram[:batch_size * s_batch,:,:]"
      ],
      "metadata": {
        "id": "FtQY8c3XmXhT"
      },
      "execution_count": null,
      "outputs": []
    },
    {
      "cell_type": "code",
      "source": [
        "epochs = 7\n",
        "batch_size = 32\n",
        "raw_audio_data_refine = raw_audio_data[:batch_size,:]\n",
        "mel_refine = mel_spectrogram[:batch_size,:,:]\n",
        "train_dataset = tf.data.Dataset.from_tensor_slices((raw_audio_data[:batch_size*16,:], mel_spectrogram[:batch_size*16,:,:]))\n",
        "train_loader = train_dataset.shuffle(buffer_size=100).batch(batch_size=batch_size).prefetch(buffer_size=tf.data.experimental.AUTOTUNE)"
      ],
      "metadata": {
        "id": "kX1sH-RImFip"
      },
      "execution_count": null,
      "outputs": []
    },
    {
      "cell_type": "code",
      "source": [
        "output, loss = loaded_model(inputs=(raw_audio_data_refine, mel_refine))"
      ],
      "metadata": {
        "id": "HItBOJFNmI99"
      },
      "execution_count": null,
      "outputs": []
    },
    {
      "cell_type": "code",
      "source": [
        "output_list = training(epochs, train_loader, loaded_model)"
      ],
      "metadata": {
        "colab": {
          "base_uri": "https://localhost:8080/"
        },
        "id": "zjiPpKr-mKqx",
        "outputId": "9fa49af2-b4ee-49a5-8a6f-b0c2fa29cef9"
      },
      "execution_count": null,
      "outputs": [
        {
          "output_type": "stream",
          "name": "stdout",
          "text": [
            "Epoch:1/7\n"
          ]
        },
        {
          "output_type": "stream",
          "name": "stderr",
          "text": [
            "WARNING:tensorflow:5 out of the last 5 calls to <function _BaseOptimizer._update_step_xla at 0x789cb458ee60> triggered tf.function retracing. Tracing is expensive and the excessive number of tracings could be due to (1) creating @tf.function repeatedly in a loop, (2) passing tensors with different shapes, (3) passing Python objects instead of tensors. For (1), please define your @tf.function outside of the loop. For (2), @tf.function has reduce_retracing=True option that can avoid unnecessary retracing. For (3), please refer to https://www.tensorflow.org/guide/function#controlling_retracing and https://www.tensorflow.org/api_docs/python/tf/function for  more details.\n",
            "WARNING:tensorflow:6 out of the last 6 calls to <function _BaseOptimizer._update_step_xla at 0x789cb458ee60> triggered tf.function retracing. Tracing is expensive and the excessive number of tracings could be due to (1) creating @tf.function repeatedly in a loop, (2) passing tensors with different shapes, (3) passing Python objects instead of tensors. For (1), please define your @tf.function outside of the loop. For (2), @tf.function has reduce_retracing=True option that can avoid unnecessary retracing. For (3), please refer to https://www.tensorflow.org/guide/function#controlling_retracing and https://www.tensorflow.org/api_docs/python/tf/function for  more details.\n"
          ]
        },
        {
          "output_type": "stream",
          "name": "stdout",
          "text": [
            "Loss:58.710\n",
            "Loss:27.014\n",
            "Loss:14.760\n",
            "Loss:2.907\n",
            "Loss:1.263\n",
            "Loss:1.020\n",
            "Loss:-0.364\n",
            "Loss:-0.203\n",
            "Epoch:2/7\n",
            "Loss:-0.710\n",
            "Loss:-1.001\n",
            "Loss:-1.402\n",
            "Loss:-1.593\n",
            "Loss:-1.774\n",
            "Loss:-1.803\n",
            "Loss:-1.815\n",
            "Loss:-1.925\n",
            "Epoch:3/7\n",
            "Loss:-2.018\n",
            "Loss:-2.064\n",
            "Loss:-2.080\n",
            "Loss:-2.038\n",
            "Loss:-2.063\n",
            "Loss:-2.120\n",
            "Loss:-2.117\n",
            "Loss:-2.199\n",
            "Epoch:4/7\n",
            "Loss:-2.189\n",
            "Loss:-2.201\n",
            "Loss:-2.115\n",
            "Loss:-2.211\n",
            "Loss:-2.215\n",
            "Loss:-2.152\n",
            "Loss:-2.161\n",
            "Loss:-2.196\n",
            "Epoch:5/7\n",
            "Loss:-2.132\n",
            "Loss:-2.242\n",
            "Loss:-2.226\n",
            "Loss:-2.315\n",
            "Loss:-2.234\n",
            "Loss:-2.258\n",
            "Loss:-2.357\n",
            "Loss:-2.186\n",
            "Epoch:6/7\n",
            "Loss:-2.177\n",
            "Loss:-2.265\n",
            "Loss:-2.303\n",
            "Loss:-2.309\n",
            "Loss:-2.280\n",
            "Loss:-2.246\n",
            "Loss:-2.181\n",
            "Loss:-2.327\n",
            "Epoch:7/7\n",
            "Loss:-2.337\n",
            "Loss:-2.286\n",
            "Loss:-2.351\n",
            "Loss:-2.298\n",
            "Loss:-2.237\n",
            "Loss:-2.305\n",
            "Loss:-2.385\n",
            "Loss:-2.342\n"
          ]
        }
      ]
    },
    {
      "cell_type": "code",
      "source": [
        "loaded_model.save('/content/drive/MyDrive/glow_model/waveglow_5',save_format='tf')"
      ],
      "metadata": {
        "colab": {
          "base_uri": "https://localhost:8080/"
        },
        "id": "ZUQcVI_TmO-9",
        "outputId": "65024ce9-7327-4aed-ef18-b60fdbf4b324"
      },
      "execution_count": null,
      "outputs": [
        {
          "output_type": "stream",
          "name": "stderr",
          "text": [
            "WARNING:absl:Found untraced functions such as _update_step_xla, conv1d_layer_call_fn, conv1d_layer_call_and_return_conditional_losses, _jit_compiled_convolution_op, conv1d_5_layer_call_fn while saving (showing 5 of 589). These functions will not be directly callable after loading.\n"
          ]
        }
      ]
    },
    {
      "cell_type": "markdown",
      "source": [
        "#August 4st -5"
      ],
      "metadata": {
        "id": "_Wczmc5LpPUw"
      }
    },
    {
      "cell_type": "code",
      "source": [
        "loaded_model = load_model('/content/drive/MyDrive/glow_model/waveglow_5', custom_objects={\n",
        "    'Invertible_Convolution_3': Invertible_Convolution_3,\n",
        "    'WaveNet_3': WaveNet_3,\n",
        "    'Affine_Coupling_Layer': Affine_Coupling_Layer,\n",
        "    'WaveGlow3': WaveGlow3\n",
        "})"
      ],
      "metadata": {
        "id": "7dD9K0NTpUEZ"
      },
      "execution_count": null,
      "outputs": []
    },
    {
      "cell_type": "code",
      "source": [
        "batch_size = 32\n",
        "s_batch = raw_audio_data.shape[0] // batch_size\n",
        "\n",
        "raw_audio_data = raw_audio_data[:batch_size * s_batch,:]\n",
        "mel_spectrogram = mel_spectrogram[:batch_size * s_batch,:,:]"
      ],
      "metadata": {
        "id": "lasaW8RwpZXz"
      },
      "execution_count": null,
      "outputs": []
    },
    {
      "cell_type": "code",
      "source": [
        "epochs = 7\n",
        "batch_size = 32\n",
        "raw_audio_data_refine = raw_audio_data[:batch_size,:]\n",
        "mel_refine = mel_spectrogram[:batch_size,:,:]\n",
        "train_dataset = tf.data.Dataset.from_tensor_slices((raw_audio_data[batch_size *19:,:], mel_spectrogram[batch_size * 19:,:,:]))\n",
        "train_loader = train_dataset.shuffle(buffer_size=100).batch(batch_size=batch_size).prefetch(buffer_size=tf.data.experimental.AUTOTUNE)"
      ],
      "metadata": {
        "id": "v03y_O9XpbdD"
      },
      "execution_count": null,
      "outputs": []
    },
    {
      "cell_type": "code",
      "source": [
        "output, loss = loaded_model(inputs=(raw_audio_data_refine, mel_refine))"
      ],
      "metadata": {
        "id": "FPuQ5klwpeQx"
      },
      "execution_count": null,
      "outputs": []
    },
    {
      "cell_type": "code",
      "source": [
        "output_list = training(epochs, train_loader, loaded_model)"
      ],
      "metadata": {
        "colab": {
          "base_uri": "https://localhost:8080/"
        },
        "id": "9c_smOEwpf4G",
        "outputId": "a024199e-6559-465c-eb05-22bfb76585a6"
      },
      "execution_count": null,
      "outputs": [
        {
          "output_type": "stream",
          "name": "stdout",
          "text": [
            "Epoch:1/7\n",
            "Loss:-2.458\n",
            "Loss:-2.414\n",
            "Loss:-2.468\n",
            "Loss:-2.512\n",
            "Loss:-2.598\n",
            "Loss:-2.534\n",
            "Loss:-2.562\n",
            "Loss:-2.400\n",
            "Loss:-2.536\n",
            "Loss:-2.506\n",
            "Epoch:2/7\n",
            "Loss:-2.584\n",
            "Loss:-2.655\n",
            "Loss:-2.490\n",
            "Loss:-2.493\n",
            "Loss:-2.585\n",
            "Loss:-2.512\n",
            "Loss:-2.416\n",
            "Loss:-2.497\n",
            "Loss:-2.564\n",
            "Loss:-2.517\n",
            "Epoch:3/7\n",
            "Loss:-2.559\n",
            "Loss:-2.498\n",
            "Loss:-2.555\n",
            "Loss:-2.622\n",
            "Loss:-2.559\n",
            "Loss:-2.463\n",
            "Loss:-2.534\n",
            "Loss:-2.538\n",
            "Loss:-2.553\n",
            "Loss:-2.619\n",
            "Epoch:4/7\n",
            "Loss:-2.425\n",
            "Loss:-2.528\n",
            "Loss:-2.593\n",
            "Loss:-2.629\n",
            "Loss:-2.657\n",
            "Loss:-2.520\n",
            "Loss:-2.446\n",
            "Loss:-2.640\n",
            "Loss:-2.552\n",
            "Loss:-2.548\n",
            "Epoch:5/7\n",
            "Loss:-2.602\n",
            "Loss:-2.531\n",
            "Loss:-2.634\n",
            "Loss:-2.518\n",
            "Loss:-2.515\n",
            "Loss:-2.695\n",
            "Loss:-2.512\n",
            "Loss:-2.380\n",
            "Loss:-2.628\n",
            "Loss:-2.596\n",
            "Epoch:6/7\n",
            "Loss:-2.588\n",
            "Loss:-2.337\n",
            "Loss:-2.403\n",
            "Loss:-2.511\n",
            "Loss:-2.484\n",
            "Loss:-2.553\n",
            "Loss:-2.479\n",
            "Loss:-2.554\n",
            "Loss:-2.486\n",
            "Loss:-2.590\n",
            "Epoch:7/7\n",
            "Loss:-2.642\n",
            "Loss:-2.521\n",
            "Loss:-2.480\n",
            "Loss:-2.647\n",
            "Loss:-2.488\n",
            "Loss:-2.625\n",
            "Loss:-2.572\n",
            "Loss:-2.481\n",
            "Loss:-2.531\n",
            "Loss:-2.593\n"
          ]
        }
      ]
    },
    {
      "cell_type": "code",
      "source": [
        "loaded_model.save('/content/drive/MyDrive/glow_model/waveglow_6',save_format='tf')"
      ],
      "metadata": {
        "colab": {
          "base_uri": "https://localhost:8080/"
        },
        "id": "jFSZ_iskphp7",
        "outputId": "c17cfdae-2efb-465a-9139-d4b3b12b14b9"
      },
      "execution_count": null,
      "outputs": [
        {
          "output_type": "stream",
          "name": "stderr",
          "text": [
            "WARNING:absl:Found untraced functions such as _update_step_xla, conv1d_layer_call_fn, conv1d_layer_call_and_return_conditional_losses, _jit_compiled_convolution_op, conv1d_5_layer_call_fn while saving (showing 5 of 637). These functions will not be directly callable after loading.\n"
          ]
        }
      ]
    },
    {
      "cell_type": "markdown",
      "source": [
        "#August 4st -6"
      ],
      "metadata": {
        "id": "QR13-g4yrIkf"
      }
    },
    {
      "cell_type": "code",
      "source": [
        "loaded_model = load_model('/content/drive/MyDrive/glow_model/waveglow_6', custom_objects={\n",
        "    'Invertible_Convolution_3': Invertible_Convolution_3,\n",
        "    'WaveNet_3': WaveNet_3,\n",
        "    'Affine_Coupling_Layer': Affine_Coupling_Layer,\n",
        "    'WaveGlow3': WaveGlow3\n",
        "})"
      ],
      "metadata": {
        "id": "XyntlgSlrH5a"
      },
      "execution_count": null,
      "outputs": []
    },
    {
      "cell_type": "code",
      "source": [
        "batch_size = 32\n",
        "s_batch = raw_audio_data.shape[0] // batch_size\n",
        "\n",
        "raw_audio_data = raw_audio_data[:batch_size * s_batch,:]\n",
        "mel_spectrogram = mel_spectrogram[:batch_size * s_batch,:,:]"
      ],
      "metadata": {
        "id": "yA648sTirTvH"
      },
      "execution_count": null,
      "outputs": []
    },
    {
      "cell_type": "code",
      "source": [
        "epochs = 7\n",
        "batch_size = 32\n",
        "raw_audio_data_refine = raw_audio_data[:batch_size,:]\n",
        "mel_refine = mel_spectrogram[:batch_size,:,:]\n",
        "train_dataset = tf.data.Dataset.from_tensor_slices((raw_audio_data[:batch_size*19,:], mel_spectrogram[:batch_size*19,:,:]))\n",
        "train_loader = train_dataset.shuffle(buffer_size=100).batch(batch_size=batch_size).prefetch(buffer_size=tf.data.experimental.AUTOTUNE)"
      ],
      "metadata": {
        "id": "wQuPEyISrXRx"
      },
      "execution_count": null,
      "outputs": []
    },
    {
      "cell_type": "code",
      "source": [
        "output, loss = loaded_model(inputs=(raw_audio_data_refine, mel_refine))"
      ],
      "metadata": {
        "id": "x2b1WInkraqT"
      },
      "execution_count": null,
      "outputs": []
    },
    {
      "cell_type": "code",
      "source": [
        "output_list = training(epochs, train_loader, loaded_model)"
      ],
      "metadata": {
        "colab": {
          "base_uri": "https://localhost:8080/"
        },
        "id": "Q_L9PTrNrcUP",
        "outputId": "0442cca6-8218-4849-a7ac-f1abd6f6e515"
      },
      "execution_count": null,
      "outputs": [
        {
          "output_type": "stream",
          "name": "stdout",
          "text": [
            "Epoch:1/7\n"
          ]
        },
        {
          "output_type": "stream",
          "name": "stderr",
          "text": [
            "WARNING:tensorflow:5 out of the last 5 calls to <function _BaseOptimizer._update_step_xla at 0x7e7ee376dfc0> triggered tf.function retracing. Tracing is expensive and the excessive number of tracings could be due to (1) creating @tf.function repeatedly in a loop, (2) passing tensors with different shapes, (3) passing Python objects instead of tensors. For (1), please define your @tf.function outside of the loop. For (2), @tf.function has reduce_retracing=True option that can avoid unnecessary retracing. For (3), please refer to https://www.tensorflow.org/guide/function#controlling_retracing and https://www.tensorflow.org/api_docs/python/tf/function for  more details.\n",
            "WARNING:tensorflow:6 out of the last 6 calls to <function _BaseOptimizer._update_step_xla at 0x7e7ee376dfc0> triggered tf.function retracing. Tracing is expensive and the excessive number of tracings could be due to (1) creating @tf.function repeatedly in a loop, (2) passing tensors with different shapes, (3) passing Python objects instead of tensors. For (1), please define your @tf.function outside of the loop. For (2), @tf.function has reduce_retracing=True option that can avoid unnecessary retracing. For (3), please refer to https://www.tensorflow.org/guide/function#controlling_retracing and https://www.tensorflow.org/api_docs/python/tf/function for  more details.\n"
          ]
        },
        {
          "output_type": "stream",
          "name": "stdout",
          "text": [
            "Loss:-2.534\n",
            "Loss:1.537\n",
            "Loss:-2.286\n",
            "Loss:-2.387\n",
            "Loss:-2.246\n",
            "Loss:-2.375\n",
            "Loss:-2.377\n",
            "Loss:-2.403\n",
            "Loss:-2.497\n",
            "Loss:-2.444\n",
            "Epoch:2/7\n",
            "Loss:-2.401\n",
            "Loss:-2.528\n",
            "Loss:-2.569\n",
            "Loss:-2.452\n",
            "Loss:-2.464\n",
            "Loss:-2.450\n",
            "Loss:-2.490\n",
            "Loss:-2.572\n",
            "Loss:-2.572\n",
            "Loss:-2.590\n",
            "Epoch:3/7\n",
            "Loss:-2.482\n",
            "Loss:-2.524\n",
            "Loss:-2.557\n",
            "Loss:-2.453\n",
            "Loss:-2.567\n",
            "Loss:-2.626\n",
            "Loss:-2.550\n",
            "Loss:-2.636\n",
            "Loss:-2.647\n",
            "Loss:-2.543\n",
            "Epoch:4/7\n",
            "Loss:-2.561\n",
            "Loss:-2.629\n",
            "Loss:-2.613\n",
            "Loss:-2.469\n",
            "Loss:-2.491\n",
            "Loss:-2.536\n",
            "Loss:-2.505\n",
            "Loss:-2.553\n",
            "Loss:-2.562\n",
            "Loss:-2.549\n",
            "Epoch:5/7\n",
            "Loss:-2.574\n",
            "Loss:-2.503\n",
            "Loss:-2.667\n",
            "Loss:-2.620\n",
            "Loss:-2.401\n",
            "Loss:-2.445\n",
            "Loss:-2.468\n",
            "Loss:-2.532\n",
            "Loss:-2.562\n",
            "Loss:-2.643\n",
            "Epoch:6/7\n",
            "Loss:-2.549\n",
            "Loss:-2.669\n",
            "Loss:-2.505\n",
            "Loss:-2.512\n",
            "Loss:-2.603\n",
            "Loss:-2.634\n",
            "Loss:-2.592\n",
            "Loss:-2.481\n",
            "Loss:-2.649\n",
            "Loss:-2.630\n",
            "Epoch:7/7\n",
            "Loss:-2.552\n",
            "Loss:-2.616\n",
            "Loss:-2.526\n",
            "Loss:-2.634\n",
            "Loss:-2.672\n",
            "Loss:-2.488\n",
            "Loss:-2.516\n",
            "Loss:-2.674\n",
            "Loss:-2.759\n",
            "Loss:-2.532\n"
          ]
        }
      ]
    },
    {
      "cell_type": "code",
      "source": [
        "loaded_model.save('/content/drive/MyDrive/glow_model/waveglow_7',save_format='tf')"
      ],
      "metadata": {
        "colab": {
          "base_uri": "https://localhost:8080/"
        },
        "id": "WNBIbzSordyN",
        "outputId": "29e3c096-8c71-4e3a-cd41-8d800d78541f"
      },
      "execution_count": null,
      "outputs": [
        {
          "output_type": "stream",
          "name": "stderr",
          "text": [
            "WARNING:absl:Found untraced functions such as _update_step_xla, conv1d_layer_call_fn, conv1d_layer_call_and_return_conditional_losses, _jit_compiled_convolution_op, conv1d_5_layer_call_fn while saving (showing 5 of 637). These functions will not be directly callable after loading.\n"
          ]
        }
      ]
    },
    {
      "cell_type": "markdown",
      "source": [
        "#August 4st -7"
      ],
      "metadata": {
        "id": "SpVvSxYTw9SE"
      }
    },
    {
      "cell_type": "code",
      "source": [
        "loaded_model = load_model('/content/drive/MyDrive/glow_model/waveglow_7', custom_objects={\n",
        "    'Invertible_Convolution_3': Invertible_Convolution_3,\n",
        "    'WaveNet_3': WaveNet_3,\n",
        "    'Affine_Coupling_Layer': Affine_Coupling_Layer,\n",
        "    'WaveGlow3': WaveGlow3\n",
        "})"
      ],
      "metadata": {
        "id": "-fKAaIvzxDKZ"
      },
      "execution_count": null,
      "outputs": []
    },
    {
      "cell_type": "code",
      "source": [
        "batch_size = 32\n",
        "s_batch = raw_audio_data.shape[0] // batch_size\n",
        "\n",
        "raw_audio_data = raw_audio_data[:batch_size * s_batch,:]\n",
        "mel_spectrogram = mel_spectrogram[:batch_size * s_batch,:,:]"
      ],
      "metadata": {
        "id": "zfCIRPy2xHvx"
      },
      "execution_count": null,
      "outputs": []
    },
    {
      "cell_type": "code",
      "source": [
        "epochs = 7\n",
        "batch_size = 32\n",
        "raw_audio_data_refine = raw_audio_data[:batch_size,:]\n",
        "mel_refine = mel_spectrogram[:batch_size,:,:]\n",
        "train_dataset = tf.data.Dataset.from_tensor_slices((raw_audio_data[:batch_size*18,:], mel_spectrogram[:batch_size*18,:,:]))\n",
        "train_loader = train_dataset.shuffle(buffer_size=100).batch(batch_size=batch_size).prefetch(buffer_size=tf.data.experimental.AUTOTUNE)"
      ],
      "metadata": {
        "id": "zBYH2gx9xJd8"
      },
      "execution_count": null,
      "outputs": []
    },
    {
      "cell_type": "code",
      "source": [
        "output, loss = loaded_model(inputs=(raw_audio_data_refine, mel_refine))"
      ],
      "metadata": {
        "id": "zGExoK1uxRXV"
      },
      "execution_count": null,
      "outputs": []
    },
    {
      "cell_type": "code",
      "source": [
        "output_list = training(epochs, train_loader, loaded_model)"
      ],
      "metadata": {
        "colab": {
          "base_uri": "https://localhost:8080/"
        },
        "id": "YsQt1qKgxTww",
        "outputId": "f12de9a3-548c-4592-f3fd-56b5596f36c1"
      },
      "execution_count": null,
      "outputs": [
        {
          "output_type": "stream",
          "name": "stdout",
          "text": [
            "Epoch:1/7\n"
          ]
        },
        {
          "output_type": "stream",
          "name": "stderr",
          "text": [
            "WARNING:tensorflow:5 out of the last 5 calls to <function _BaseOptimizer._update_step_xla at 0x78d340b99fc0> triggered tf.function retracing. Tracing is expensive and the excessive number of tracings could be due to (1) creating @tf.function repeatedly in a loop, (2) passing tensors with different shapes, (3) passing Python objects instead of tensors. For (1), please define your @tf.function outside of the loop. For (2), @tf.function has reduce_retracing=True option that can avoid unnecessary retracing. For (3), please refer to https://www.tensorflow.org/guide/function#controlling_retracing and https://www.tensorflow.org/api_docs/python/tf/function for  more details.\n",
            "WARNING:tensorflow:6 out of the last 6 calls to <function _BaseOptimizer._update_step_xla at 0x78d340b99fc0> triggered tf.function retracing. Tracing is expensive and the excessive number of tracings could be due to (1) creating @tf.function repeatedly in a loop, (2) passing tensors with different shapes, (3) passing Python objects instead of tensors. For (1), please define your @tf.function outside of the loop. For (2), @tf.function has reduce_retracing=True option that can avoid unnecessary retracing. For (3), please refer to https://www.tensorflow.org/guide/function#controlling_retracing and https://www.tensorflow.org/api_docs/python/tf/function for  more details.\n"
          ]
        },
        {
          "output_type": "stream",
          "name": "stdout",
          "text": [
            "Loss:-2.084\n",
            "Loss:-0.658\n",
            "Loss:-2.371\n",
            "Loss:-2.475\n",
            "Loss:-2.575\n",
            "Loss:-2.697\n",
            "Loss:-2.361\n",
            "Loss:-2.645\n",
            "Loss:-2.639\n",
            "Epoch:2/7\n",
            "Loss:-2.672\n",
            "Loss:-2.746\n",
            "Loss:-2.741\n",
            "Loss:-2.801\n",
            "Loss:-2.577\n",
            "Loss:-2.766\n",
            "Loss:-2.714\n",
            "Loss:-2.817\n",
            "Loss:-2.776\n",
            "Epoch:3/7\n",
            "Loss:-2.823\n",
            "Loss:-2.697\n",
            "Loss:-2.797\n",
            "Loss:-2.832\n",
            "Loss:-2.837\n",
            "Loss:-2.815\n",
            "Loss:-2.788\n",
            "Loss:-2.790\n",
            "Loss:-2.883\n",
            "Epoch:4/7\n",
            "Loss:-2.855\n",
            "Loss:-2.823\n",
            "Loss:-2.792\n",
            "Loss:-2.808\n",
            "Loss:-2.743\n",
            "Loss:-2.855\n",
            "Loss:-2.855\n",
            "Loss:-2.885\n",
            "Loss:-2.875\n",
            "Epoch:5/7\n",
            "Loss:-2.841\n",
            "Loss:-2.801\n",
            "Loss:-2.834\n",
            "Loss:-2.674\n",
            "Loss:-2.867\n",
            "Loss:-2.867\n",
            "Loss:-2.885\n",
            "Loss:-2.746\n",
            "Loss:-2.715\n",
            "Epoch:6/7\n",
            "Loss:-2.882\n",
            "Loss:-2.759\n",
            "Loss:-2.690\n",
            "Loss:-2.732\n",
            "Loss:-2.566\n",
            "Loss:-2.781\n",
            "Loss:-2.816\n",
            "Loss:-2.726\n",
            "Loss:-2.711\n",
            "Epoch:7/7\n",
            "Loss:-2.834\n",
            "Loss:-2.837\n",
            "Loss:-2.773\n",
            "Loss:-2.733\n",
            "Loss:-2.907\n",
            "Loss:-2.819\n",
            "Loss:-2.840\n",
            "Loss:-2.799\n",
            "Loss:-2.738\n"
          ]
        }
      ]
    },
    {
      "cell_type": "code",
      "source": [
        "loaded_model.save('/content/drive/MyDrive/glow_model/waveglow_8',save_format='tf')"
      ],
      "metadata": {
        "colab": {
          "base_uri": "https://localhost:8080/"
        },
        "id": "PmX0R1KfxVN7",
        "outputId": "d419a8a4-8528-473b-f57d-a1368ae7a84a"
      },
      "execution_count": null,
      "outputs": [
        {
          "output_type": "stream",
          "name": "stderr",
          "text": [
            "WARNING:absl:Found untraced functions such as _update_step_xla, conv1d_layer_call_fn, conv1d_layer_call_and_return_conditional_losses, _jit_compiled_convolution_op, conv1d_5_layer_call_fn while saving (showing 5 of 637). These functions will not be directly callable after loading.\n"
          ]
        }
      ]
    },
    {
      "cell_type": "markdown",
      "source": [
        "#August 4st -8"
      ],
      "metadata": {
        "id": "s1di-QCQ00z1"
      }
    },
    {
      "cell_type": "code",
      "source": [
        "loaded_model = load_model('/content/drive/MyDrive/glow_model/waveglow_8', custom_objects={\n",
        "    'Invertible_Convolution_3': Invertible_Convolution_3,\n",
        "    'WaveNet_3': WaveNet_3,\n",
        "    'Affine_Coupling_Layer': Affine_Coupling_Layer,\n",
        "    'WaveGlow3': WaveGlow3\n",
        "})"
      ],
      "metadata": {
        "id": "nHZqkuYs02yW"
      },
      "execution_count": null,
      "outputs": []
    },
    {
      "cell_type": "code",
      "source": [
        "batch_size = 32\n",
        "s_batch = raw_audio_data.shape[0] // batch_size\n",
        "\n",
        "raw_audio_data = raw_audio_data[:batch_size * s_batch,:]\n",
        "mel_spectrogram = mel_spectrogram[:batch_size * s_batch,:,:]"
      ],
      "metadata": {
        "id": "N5ZSt6f-04uH"
      },
      "execution_count": null,
      "outputs": []
    },
    {
      "cell_type": "code",
      "source": [
        "epochs = 7\n",
        "batch_size = 32\n",
        "raw_audio_data_refine = raw_audio_data[:batch_size,:]\n",
        "mel_refine = mel_spectrogram[:batch_size,:,:]\n",
        "train_dataset = tf.data.Dataset.from_tensor_slices((raw_audio_data[batch_size*18:,:], mel_spectrogram[batch_size*18:,:,:]))\n",
        "train_loader = train_dataset.shuffle(buffer_size=100).batch(batch_size=batch_size).prefetch(buffer_size=tf.data.experimental.AUTOTUNE)"
      ],
      "metadata": {
        "id": "9FUK3zJF09JV"
      },
      "execution_count": null,
      "outputs": []
    },
    {
      "cell_type": "code",
      "source": [
        "output, loss = loaded_model(inputs=(raw_audio_data_refine, mel_refine))"
      ],
      "metadata": {
        "id": "wX9Q4rJ809Fo"
      },
      "execution_count": null,
      "outputs": []
    },
    {
      "cell_type": "code",
      "source": [
        "output_list = training(epochs, train_loader, loaded_model)"
      ],
      "metadata": {
        "colab": {
          "base_uri": "https://localhost:8080/"
        },
        "id": "vcOCopLG1D6w",
        "outputId": "d4150188-a712-40bd-d41d-3d033976901f"
      },
      "execution_count": null,
      "outputs": [
        {
          "output_type": "stream",
          "name": "stdout",
          "text": [
            "Epoch:1/7\n"
          ]
        },
        {
          "output_type": "stream",
          "name": "stderr",
          "text": [
            "WARNING:tensorflow:5 out of the last 5 calls to <function _BaseOptimizer._update_step_xla at 0x7b3add206dd0> triggered tf.function retracing. Tracing is expensive and the excessive number of tracings could be due to (1) creating @tf.function repeatedly in a loop, (2) passing tensors with different shapes, (3) passing Python objects instead of tensors. For (1), please define your @tf.function outside of the loop. For (2), @tf.function has reduce_retracing=True option that can avoid unnecessary retracing. For (3), please refer to https://www.tensorflow.org/guide/function#controlling_retracing and https://www.tensorflow.org/api_docs/python/tf/function for  more details.\n",
            "WARNING:tensorflow:6 out of the last 6 calls to <function _BaseOptimizer._update_step_xla at 0x7b3add206dd0> triggered tf.function retracing. Tracing is expensive and the excessive number of tracings could be due to (1) creating @tf.function repeatedly in a loop, (2) passing tensors with different shapes, (3) passing Python objects instead of tensors. For (1), please define your @tf.function outside of the loop. For (2), @tf.function has reduce_retracing=True option that can avoid unnecessary retracing. For (3), please refer to https://www.tensorflow.org/guide/function#controlling_retracing and https://www.tensorflow.org/api_docs/python/tf/function for  more details.\n"
          ]
        },
        {
          "output_type": "stream",
          "name": "stdout",
          "text": [
            "Loss:-2.954\n",
            "Loss:0.847\n",
            "Loss:-2.101\n",
            "Loss:-2.445\n",
            "Loss:-2.704\n",
            "Loss:-2.576\n",
            "Loss:-2.324\n",
            "Loss:-2.603\n",
            "Loss:-2.572\n",
            "Loss:-2.716\n",
            "Epoch:2/7\n",
            "Loss:-2.757\n",
            "Loss:-2.658\n",
            "Loss:-2.780\n",
            "Loss:-2.762\n",
            "Loss:-2.726\n",
            "Loss:-2.831\n",
            "Loss:-2.792\n",
            "Loss:-2.806\n",
            "Loss:-2.837\n",
            "Loss:-2.852\n",
            "Epoch:3/7\n",
            "Loss:-2.875\n",
            "Loss:-2.900\n",
            "Loss:-2.852\n",
            "Loss:-2.914\n",
            "Loss:-2.762\n",
            "Loss:-2.815\n",
            "Loss:-2.731\n",
            "Loss:-2.756\n",
            "Loss:-2.879\n",
            "Loss:-2.737\n",
            "Epoch:4/7\n",
            "Loss:-2.820\n",
            "Loss:-2.791\n",
            "Loss:-2.900\n",
            "Loss:-2.902\n",
            "Loss:-2.785\n",
            "Loss:-2.872\n",
            "Loss:-2.865\n",
            "Loss:-2.860\n",
            "Loss:-2.789\n",
            "Loss:-2.803\n",
            "Epoch:5/7\n",
            "Loss:-2.850\n",
            "Loss:-2.765\n",
            "Loss:-2.930\n",
            "Loss:-2.872\n",
            "Loss:-2.872\n",
            "Loss:-2.838\n",
            "Loss:-2.757\n",
            "Loss:-2.853\n",
            "Loss:-2.708\n",
            "Loss:-2.846\n",
            "Epoch:6/7\n",
            "Loss:-2.955\n",
            "Loss:-2.864\n",
            "Loss:-2.859\n",
            "Loss:-2.908\n",
            "Loss:-2.789\n",
            "Loss:-2.833\n",
            "Loss:-2.782\n",
            "Loss:-2.859\n",
            "Loss:-2.819\n",
            "Loss:-2.877\n",
            "Epoch:7/7\n",
            "Loss:-2.939\n",
            "Loss:-2.891\n",
            "Loss:-2.760\n",
            "Loss:-2.873\n",
            "Loss:-2.854\n",
            "Loss:-2.843\n",
            "Loss:-2.846\n",
            "Loss:-2.873\n",
            "Loss:-2.903\n",
            "Loss:-2.688\n"
          ]
        }
      ]
    },
    {
      "cell_type": "code",
      "source": [
        "loaded_model.save('/content/drive/MyDrive/glow_model/waveglow_9',save_format='tf')"
      ],
      "metadata": {
        "colab": {
          "base_uri": "https://localhost:8080/"
        },
        "id": "NluvT0Xu1D4e",
        "outputId": "701138c0-2c01-4cd0-c43b-43e6660b4929"
      },
      "execution_count": null,
      "outputs": [
        {
          "output_type": "stream",
          "name": "stderr",
          "text": [
            "WARNING:absl:Found untraced functions such as _update_step_xla, conv1d_layer_call_fn, conv1d_layer_call_and_return_conditional_losses, _jit_compiled_convolution_op, conv1d_5_layer_call_fn while saving (showing 5 of 637). These functions will not be directly callable after loading.\n"
          ]
        }
      ]
    },
    {
      "cell_type": "markdown",
      "source": [
        "#August 4st -9"
      ],
      "metadata": {
        "id": "JoEkRGRN1WJm"
      }
    },
    {
      "cell_type": "code",
      "source": [
        "loaded_model = load_model('/content/drive/MyDrive/glow_model/waveglow_9', custom_objects={\n",
        "    'Invertible_Convolution_3': Invertible_Convolution_3,\n",
        "    'WaveNet_3': WaveNet_3,\n",
        "    'Affine_Coupling_Layer': Affine_Coupling_Layer,\n",
        "    'WaveGlow3': WaveGlow3\n",
        "})"
      ],
      "metadata": {
        "id": "lZm58Reh1XzI"
      },
      "execution_count": null,
      "outputs": []
    },
    {
      "cell_type": "code",
      "source": [
        "batch_size = 32\n",
        "s_batch = raw_audio_data.shape[0] // batch_size\n",
        "\n",
        "raw_audio_data = raw_audio_data[:batch_size * s_batch,:]\n",
        "mel_spectrogram = mel_spectrogram[:batch_size * s_batch,:,:]"
      ],
      "metadata": {
        "id": "U2RHJSua1YpB"
      },
      "execution_count": null,
      "outputs": []
    },
    {
      "cell_type": "code",
      "source": [
        "epochs = 7\n",
        "batch_size = 32\n",
        "raw_audio_data_refine = raw_audio_data[:batch_size,:]\n",
        "mel_refine = mel_spectrogram[:batch_size,:,:]\n",
        "train_dataset = tf.data.Dataset.from_tensor_slices((raw_audio_data[batch_size*18:,:], mel_spectrogram[batch_size*18:,:,:]))\n",
        "train_loader = train_dataset.shuffle(buffer_size=100).batch(batch_size=batch_size).prefetch(buffer_size=tf.data.experimental.AUTOTUNE)"
      ],
      "metadata": {
        "id": "7xA4n1Dk1Yji"
      },
      "execution_count": null,
      "outputs": []
    },
    {
      "cell_type": "code",
      "source": [
        "output, loss = loaded_model(inputs=(raw_audio_data_refine, mel_refine))"
      ],
      "metadata": {
        "id": "wYfL4Tol1Ydh"
      },
      "execution_count": null,
      "outputs": []
    },
    {
      "cell_type": "code",
      "source": [
        "output_list = training(epochs, train_loader, loaded_model)"
      ],
      "metadata": {
        "id": "zR04zsT21YY-"
      },
      "execution_count": null,
      "outputs": []
    },
    {
      "cell_type": "code",
      "source": [
        "loaded_model.save('/content/drive/MyDrive/glow_model/waveglow_10',save_format='tf')"
      ],
      "metadata": {
        "id": "HBsGpx9d1YT8"
      },
      "execution_count": null,
      "outputs": []
    },
    {
      "cell_type": "markdown",
      "source": [
        "#August 4st -10"
      ],
      "metadata": {
        "id": "8IIZ83921hM7"
      }
    },
    {
      "cell_type": "code",
      "source": [
        "loaded_model = load_model('/content/drive/MyDrive/glow_model/waveglow_10', custom_objects={\n",
        "    'Invertible_Convolution_3': Invertible_Convolution_3,\n",
        "    'WaveNet_3': WaveNet_3,\n",
        "    'Affine_Coupling_Layer': Affine_Coupling_Layer,\n",
        "    'WaveGlow3': WaveGlow3\n",
        "})"
      ],
      "metadata": {
        "id": "ZWWy70Y71jQO"
      },
      "execution_count": null,
      "outputs": []
    },
    {
      "cell_type": "code",
      "source": [
        "batch_size = 32\n",
        "s_batch = raw_audio_data.shape[0] // batch_size\n",
        "\n",
        "raw_audio_data = raw_audio_data[:batch_size * s_batch,:]\n",
        "mel_spectrogram = mel_spectrogram[:batch_size * s_batch,:,:]"
      ],
      "metadata": {
        "id": "IRbWw7cN1jNp"
      },
      "execution_count": null,
      "outputs": []
    },
    {
      "cell_type": "code",
      "source": [
        "epochs = 7\n",
        "batch_size = 32\n",
        "raw_audio_data_refine = raw_audio_data[:batch_size,:]\n",
        "mel_refine = mel_spectrogram[:batch_size,:,:]\n",
        "train_dataset = tf.data.Dataset.from_tensor_slices((raw_audio_data[batch_size*18:,:], mel_spectrogram[batch_size*18:,:,:]))\n",
        "train_loader = train_dataset.shuffle(buffer_size=100).batch(batch_size=batch_size).prefetch(buffer_size=tf.data.experimental.AUTOTUNE)"
      ],
      "metadata": {
        "id": "nE5Z0nyT1jLM"
      },
      "execution_count": null,
      "outputs": []
    },
    {
      "cell_type": "code",
      "source": [
        "output, loss = loaded_model(inputs=(raw_audio_data_refine, mel_refine))"
      ],
      "metadata": {
        "id": "nfQm54Bg1jIu"
      },
      "execution_count": null,
      "outputs": []
    },
    {
      "cell_type": "code",
      "source": [
        "output_list = training(epochs, train_loader, loaded_model)"
      ],
      "metadata": {
        "id": "-pKLjOgV1jFO"
      },
      "execution_count": null,
      "outputs": []
    },
    {
      "cell_type": "code",
      "source": [
        "loaded_model.save('/content/drive/MyDrive/glow_model/waveglow_11',save_format='tf')"
      ],
      "metadata": {
        "id": "6y380XEu1i09"
      },
      "execution_count": null,
      "outputs": []
    },
    {
      "cell_type": "markdown",
      "metadata": {
        "id": "B_n2HOhLCfF5"
      },
      "source": [
        "#Model Load"
      ]
    },
    {
      "cell_type": "code",
      "execution_count": null,
      "metadata": {
        "id": "_WZ4i-lSTq8K"
      },
      "outputs": [],
      "source": [
        "#loaded_model = load_model('waveglow_model')\n",
        "loaded_model = load_model('waveglow_model2', custom_objects={\n",
        "    'Invertible_Convolution_3': Invertible_Convolution_3,\n",
        "    'WaveNet_3': WaveNet_3,\n",
        "    'Affine_Coupling_Layer': Affine_Coupling_Layer,\n",
        "    'WaveGlow3': WaveGlow3\n",
        "})"
      ]
    },
    {
      "cell_type": "code",
      "execution_count": null,
      "metadata": {
        "colab": {
          "base_uri": "https://localhost:8080/"
        },
        "id": "Q1dpbBL6Tymg",
        "outputId": "d4c0ef3a-ea32-40ab-9a85-34e3c0de5dc1"
      },
      "outputs": [
        {
          "name": "stdout",
          "output_type": "stream",
          "text": [
            "Model: \"wave_glow3_64\"\n",
            "_________________________________________________________________\n",
            " Layer (type)                Output Shape              Param #   \n",
            "=================================================================\n",
            " up_sampling1d_65 (UpSamplin  multiple                 0         \n",
            " g1D)                                                            \n",
            "                                                                 \n",
            " invertible__convolution_3_4  multiple                 16384     \n",
            " 40 (Invertible_Convolution_                                     \n",
            " 3)                                                              \n",
            "                                                                 \n",
            " invertible__convolution_3_4  multiple                 16384     \n",
            " 41 (Invertible_Convolution_                                     \n",
            " 3)                                                              \n",
            "                                                                 \n",
            " affine__coupling__layer_440  multiple                 56736     \n",
            "  (Affine_Coupling_Layer)                                        \n",
            "                                                                 \n",
            " affine__coupling__layer_441  multiple                 56736     \n",
            "  (Affine_Coupling_Layer)                                        \n",
            "                                                                 \n",
            "=================================================================\n",
            "Total params: 146,240\n",
            "Trainable params: 146,240\n",
            "Non-trainable params: 0\n",
            "_________________________________________________________________\n"
          ]
        }
      ],
      "source": [
        "loaded_model.summary()"
      ]
    },
    {
      "cell_type": "code",
      "execution_count": null,
      "metadata": {
        "colab": {
          "base_uri": "https://localhost:8080/"
        },
        "id": "AQbAs0p4UX0S",
        "outputId": "32daf080-08ab-446e-fa9d-b95069a51ebe"
      },
      "outputs": [
        {
          "name": "stdout",
          "output_type": "stream",
          "text": [
            "(3, 14528, 128)\n"
          ]
        }
      ],
      "source": [
        "print(output_list[-1].shape)\n",
        "z = output_list[-1]"
      ]
    },
    {
      "cell_type": "code",
      "execution_count": null,
      "metadata": {
        "id": "LX74WpbhT7Mh"
      },
      "outputs": [],
      "source": [
        "complete_wav_form = loaded_model.reverse(z, mel_spectrogram)"
      ]
    },
    {
      "cell_type": "code",
      "execution_count": null,
      "metadata": {
        "colab": {
          "base_uri": "https://localhost:8080/"
        },
        "id": "1Tr04q7XVkyI",
        "outputId": "e1e88bea-a25d-4f72-bc4f-6a8df0fa94f6"
      },
      "outputs": [
        {
          "name": "stdout",
          "output_type": "stream",
          "text": [
            "(3, 14528, 128)\n",
            "(14528,)\n"
          ]
        }
      ],
      "source": [
        "print(complete_wav_form.shape)\n",
        "refined_audio = complete_wav_form[0,:,0]\n",
        "print(refined_audio.shape)"
      ]
    },
    {
      "cell_type": "code",
      "execution_count": null,
      "metadata": {
        "colab": {
          "base_uri": "https://localhost:8080/"
        },
        "id": "KjwjvEBNVz13",
        "outputId": "a31e54e1-ea64-495d-c022-b9a592d50a03"
      },
      "outputs": [
        {
          "name": "stdout",
          "output_type": "stream",
          "text": [
            "3000\n"
          ]
        }
      ],
      "source": [
        "ipd.Audio(refined_audio, rate= sampling_rate//4)\n"
      ]
    },
    {
      "cell_type": "code",
      "execution_count": null,
      "metadata": {
        "id": "BL6Cy_ggWeGc"
      },
      "outputs": [],
      "source": [
        "import wave\n",
        "\n",
        "# refined_audio: 저장할 음성 데이터\n",
        "# rate: 샘플링 주파수 (예: 16000)\n",
        "# output_file: 저장할 WAV 파일 이름\n",
        "def save_as_wav(refined_audio, rate, output_file):\n",
        "    with wave.open(output_file, 'wb') as wav_file:\n",
        "        n_channels = 1  # 모노 오디오, 채널 개수 1로 설정\n",
        "        sampwidth = 2    # 2바이트로 샘플링\n",
        "        n_frames = len(refined_audio)\n",
        "        comptype = 'NONE'\n",
        "        compname = 'not compressed'\n",
        "        wav_file.setparams((n_channels, sampwidth, rate, n_frames, comptype, compname))\n",
        "\n",
        "        # 샘플링 데이터를 16비트로 변환하여 저장\n",
        "        for sample in refined_audio:\n",
        "            sample = max(-32768, min(sample * 32767, 32767))\n",
        "            wav_file.writeframesraw(int(sample).to_bytes(2, byteorder='little', signed=True))\n",
        "\n",
        "# 예시 사용법\n",
        "  # 저장할 음성 데이터 (numpy 배열 등)\n",
        "sampling_rate = 12000 //4  # 샘플링 주파수\n",
        "output_file = 'output.wav'  # 저장할 WAV 파일 이름\n",
        "\n",
        "save_as_wav(refined_audio, sampling_rate, output_file)"
      ]
    },
    {
      "cell_type": "markdown",
      "metadata": {
        "id": "z1lclk_YT1dG"
      },
      "source": [
        "#WaveGlow Test"
      ]
    },
    {
      "cell_type": "markdown",
      "metadata": {
        "id": "-xhNmli6aI5o"
      },
      "source": [
        "![waveglow_diagram.png](data:image/png;base64,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)"
      ]
    },
    {
      "cell_type": "code",
      "execution_count": null,
      "metadata": {
        "colab": {
          "base_uri": "https://localhost:8080/"
        },
        "id": "MfIwWip9oUih",
        "outputId": "557077b3-cd47-4793-eb5c-e166536985c0"
      },
      "outputs": [
        {
          "name": "stdout",
          "output_type": "stream",
          "text": [
            "Epoch:1/10\n",
            "Loss:5.892\n",
            "Epoch:2/10\n",
            "Loss:5.404\n",
            "Epoch:3/10\n",
            "Loss:5.119\n",
            "Epoch:4/10\n",
            "Loss:4.872\n",
            "Epoch:5/10\n",
            "Loss:4.648\n",
            "Epoch:6/10\n",
            "Loss:4.441\n",
            "Epoch:7/10\n",
            "Loss:4.246\n",
            "Epoch:8/10\n",
            "Loss:4.061\n",
            "Epoch:9/10\n",
            "Loss:3.885\n",
            "Epoch:10/10\n",
            "Loss:3.717\n"
          ]
        }
      ],
      "source": [
        "\n",
        "\n",
        "class WaveGlow2(Model):\n",
        "  def __init__(self, upsampled_size, n_channels,time=0):\n",
        "    super(WaveGlow2, self).__init__()\n",
        "    self.upsample = UpSampling1D(size=upsampled_size)\n",
        "\n",
        "\n",
        "\n",
        "    self.invertible_conv = Conv1D(filters= n_channels, kernel_size =1 , use_bias = False)\n",
        "    W,r  = tf.linalg.qr(tf.random.normal(shape=(n_channels,n_channels)))\n",
        "    self.invertible_conv.set_weights = W\n",
        "    self.n_channels = n_channels\n",
        "    self.time = time\n",
        "    self.wave_sequential_dil_x = Sequential()\n",
        "    self.wave_sequential_conv_x = Sequential()\n",
        "\n",
        "    self.wave_sequential_dil_mel = Sequential()\n",
        "    self.wave_sequential_conv_mel = Sequential()\n",
        "\n",
        "    self.LayerNorm_x = LayerNormalization()\n",
        "    self.LayerNorm_mel = LayerNormalization()\n",
        "\n",
        "    self.batch_norm = BatchNormalization()\n",
        "\n",
        "\n",
        "    skip_fil = n_channels//2\n",
        "    self.wave_skip_conv_1_x = Conv1D(filters = skip_fil, kernel_size = 1, activation = 'relu')\n",
        "    self.wave_skip_conv_2_x = Conv1D(filters = skip_fil, kernel_size = 1)\n",
        "\n",
        "    self.wave_skip_conv_1_mel = Conv1D(filters = skip_fil, kernel_size = 1, activation = 'relu')\n",
        "    self.wave_skip_conv_2_mel = Conv1D(filters = skip_fil, kernel_size = 1)\n",
        "\n",
        "    self.gated_activation = tf.keras.layers.Multiply()\n",
        "\n",
        "  def upsampling(self, mel_spectrogram):\n",
        "    #mel_spectrogram => (B,T,C)\n",
        "    mel_spectrogram = tf.transpose(mel_spectrogram, perm=[0,2,1])\n",
        "    upsampled_mel_spectrogram = self.upsample(mel_spectrogram)\n",
        "    return upsampled_mel_spectrogram\n",
        "\n",
        "  def Invertible_convolution(self, raw_audio_data, log_det_sum):\n",
        "\n",
        "\n",
        "    #raw_audio_data = (1,58112) (B,T)\n",
        "    if tf.rank(raw_audio_data) == 2:\n",
        "      raw_audio_data= tf.expand_dims(raw_audio_data, axis = -1) # => (1,58112,1) (B,T,C)\n",
        "      raw_audio_data = tf.tile(raw_audio_data, [1,1,self.n_channels])\n",
        "\n",
        "    invertibled_audio = self.invertible_conv(raw_audio_data)\n",
        "    #print(invertibled_audio.shape)\n",
        "    B,T,C = invertibled_audio.shape\n",
        "    W = tf.squeeze(self.invertible_conv.weights[0], axis = 0)\n",
        "\n",
        "    det_W = tf.linalg.det(W)\n",
        "\n",
        "    log_det_W = tf.math.log(tf.abs(det_W))\n",
        "\n",
        "    log_det_W = log_det_W * B * T\n",
        "    log_det_sum = log_det_sum + log_det_W\n",
        "    return invertibled_audio, log_det_sum\n",
        "\n",
        "  def Wavenet(self, x_a, upsampled_mel,n_layers,filter,time):\n",
        "    dilation = 2\n",
        "    if time==0:\n",
        "      self.wave_sequential_dil_x.add(Input(shape=(x_a.shape)))\n",
        "      self.wave_sequential_dil_mel.add(Input(shape=(upsampled_mel.shape)))\n",
        "      self.wave_sequential_conv_x.add(Input(shape=(x_a.shape[0], x_a.shape[1], filter)))\n",
        "      self.wave_sequential_conv_mel.add(Input(shape=(upsampled_mel.shape[0], upsampled_mel.shape[1], filter)))\n",
        "\n",
        "\n",
        "\n",
        "    if len(self.wave_sequential_dil_x.layers) ==0:\n",
        "      for i in range(n_layers):\n",
        "\n",
        "        self.wave_sequential_dil_x.add(Conv1D(filters = filter,kernel_size = 31, dilation_rate = dilation ** 1\n",
        "                                              ,use_bias=False,padding = 'same'))\n",
        "\n",
        "        self.wave_sequential_conv_x.add(Conv1D(filters = filter, kernel_size = 31, use_bias = False,\n",
        "                                               padding = 'same'))\n",
        "\n",
        "\n",
        "      for i in range(n_layers):\n",
        "\n",
        "\n",
        "        self.wave_sequential_dil_mel.add(Conv1D(filters = filter,kernel_size = 31, dilation_rate = dilation ** i,\n",
        "                                                use_bias = False,padding = 'same'))\n",
        "\n",
        "        self.wave_sequential_conv_mel.add(Conv1D(filters = filter, kernel_size = 31,use_bias = False,\n",
        "                                                 padding = 'same'))\n",
        "\n",
        "    output_list_x = [x_a]\n",
        "    #print('layer의 길이:{},{}'.format(len(self.wave_sequential_dil_x.layers), len(self.wave_sequential_conv_mel.layers)))\n",
        "    for i in range(n_layers):\n",
        "      after_dil = self.wave_sequential_dil_x.layers[i](output_list_x[i])\n",
        "\n",
        "      after_mul = self.gated_activation([tanh(after_dil), sigmoid(after_dil)])\n",
        "      #after_mul 1,58112,4\n",
        "      one_block_output = self.wave_sequential_conv_x.layers[i](after_mul)\n",
        "      if i !=0:\n",
        "        output = one_block_output + output_list_x[i]\n",
        "      else:\n",
        "        output = one_block_output\n",
        "      output_list_x.append(output)\n",
        "\n",
        "    output_list_mel = [upsampled_mel]\n",
        "    for i in range(n_layers):\n",
        "\n",
        "      after_dil = self.wave_sequential_dil_mel.layers[i](output_list_mel[i])\n",
        "\n",
        "\n",
        "      after_mul = self.gated_activation([tanh(after_dil) , sigmoid(after_dil)])\n",
        "\n",
        "      one_block_output = self.wave_sequential_conv_mel.layers[i](after_mul)\n",
        "\n",
        "      if i !=0:\n",
        "        output = one_block_output + output_list_mel[i]\n",
        "      else:\n",
        "        output = one_block_output\n",
        "\n",
        "      output_list_mel.append(output)\n",
        "\n",
        "    del output_list_x[0]\n",
        "    del output_list_mel[0]\n",
        "    skip_x = sum(output_list_x)\n",
        "\n",
        "    skip_mel = sum(output_list_mel)\n",
        "\n",
        "\n",
        "    skip_x_2 = relu(skip_x)\n",
        "\n",
        "    skip_mel_2 = relu(skip_mel)\n",
        "\n",
        "    skip_x_3 = self.wave_skip_conv_1_x(skip_x_2)\n",
        "\n",
        "    skip_x_4 = self.wave_skip_conv_2_x(skip_x_3) + skip_x_3\n",
        "\n",
        "\n",
        "    skip_mel_3 = self.wave_skip_conv_1_x(skip_mel_2)\n",
        "    skip_mel_4 = self.wave_skip_conv_2_x(skip_mel_3) +skip_mel_3\n",
        "\n",
        "    log_s = softmax(skip_x_4)\n",
        "    t = softmax(skip_mel_4)\n",
        "\n",
        "    return log_s, t\n",
        "\n",
        "  def Affine(self, invertibled_audio,upsampled_mel,n_layer_wave, filter,log_det_sum,time):\n",
        "    x_a, x_b = tf.split(invertibled_audio, num_or_size_splits=2, axis = -1)\n",
        "    log_s, t = self.Wavenet(x_a, upsampled_mel, n_layer_wave, filter,time)\n",
        "    x_b_prime = tf.multiply(tf.exp(log_s), x_b) + t + x_a\n",
        "    output = tf.concat([x_a, x_b_prime], axis = -1)\n",
        "\n",
        "    log_det_sum = log_det_sum + tf.reduce_sum(log_s)\n",
        "    return output, log_det_sum\n",
        "  def reverse_conv(self,z):\n",
        "    W = tf.squeeze(self.invertible_layer.weights[0])\n",
        "    W_inverse = tf.linalg.inv(W)\n",
        "\n",
        "    x = tf.nn.conv1d(z,filters=W_inverse, stride= 1)\n",
        "    return x\n",
        "  def reverse_affine(self, z, c):\n",
        "    z_a, z_b = tf.split(z, num_or_size_splits=2, axis = -1)\n",
        "    log_s, t = self.Wavenet(z,c,None, None)\n",
        "    z_b = tf.exp(-log_s) * (z_b - t)\n",
        "\n",
        "    x = tf.catenate((z_a, z_b), dim=-1)\n",
        "\n",
        "    return x, c\n",
        "\n",
        "  def call(self, inputs):\n",
        "    n_layers, n_layer_wave, filter = 4,12,4\n",
        "    log_det_sum_conv, log_det_sum_affine = [0.0], [0.0]\n",
        "    raw_audio_data, mel_spectrogram = inputs\n",
        "    output_list = [raw_audio_data]\n",
        "    upsampled_mel = self.upsampling(mel_spectrogram)\n",
        "    #print('upsampled_mel.shape:{}'.format(upsampled_mel.shape))\n",
        "    for i in range(n_layers):\n",
        "      invertibled_audio, log_det_conv = self.Invertible_convolution(output_list[i], log_det_sum_conv[i])\n",
        "\n",
        "      log_det_sum_conv.append(log_det_conv)\n",
        "      output, log_det_affine = self.Affine(invertibled_audio, upsampled_mel,n_layer_wave, filter, log_det_sum_affine[i],self.time)\n",
        "      log_det_sum_affine.append(log_det_affine)\n",
        "      output_list.append(output)\n",
        "      self.time = self.time + 1\n",
        "    z = output_list[-1]\n",
        "    value = z.shape[0] * z.shape[1] * z.shape[2]\n",
        "    log_det_sum_affine = sum(log_det_sum_affine)\n",
        "    log_det_sum_conv = sum(log_det_sum_conv)\n",
        "    #print(log_det_sum_affine, log_det_sum_conv) #conv nan 값\n",
        "    #log_det_sum = tf.reduce_sum(log_det_sum_conv) + tf.reduce_sum(log_det_sum_affine)\n",
        "    log_det_sum =log_det_sum_affine + log_det_sum_conv\n",
        "    #print('z.shape:{}'.format(z.shape))\n",
        "    log_p = 0.5 * tf.reduce_sum((- tf.math.log(2.0 * math.pi) - z ** 2)) / value\n",
        "\n",
        "    log_det = log_det_sum /  value\n",
        "\n",
        "    log_p, log_det = tf.reduce_mean(log_p), tf.reduce_mean(log_det)\n",
        "\n",
        "    loss =  - (log_p + log_det)\n",
        "    return loss\n",
        "\n",
        "model = WaveGlow2(128, 128)\n",
        "\n",
        "\n",
        "\n",
        "\n",
        "optimizer = Adam(learning_rate = 1e-3)\n",
        "train_dataset = tf.data.Dataset.from_tensor_slices((raw_audio_data, mel_spectrogram))\n",
        "batch_size = 3\n",
        "model.compile(optimizer=optimizer,loss = MeanSquaredError())\n",
        "train_loader = train_dataset.shuffle(buffer_size=100).batch(batch_size=batch_size).prefetch(buffer_size=tf.data.experimental.AUTOTUNE)\n",
        "epochs = 10\n",
        "\n",
        "for epoch in range(epochs):\n",
        "  print('Epoch:{}/{}'.format(epoch+1,epochs))\n",
        "  for i, (raw_audio_data, mel_spectrogram) in enumerate(train_loader):\n",
        "    with tf.GradientTape() as tape:\n",
        "\n",
        "      loss = model(inputs=(raw_audio_data, mel_spectrogram))\n",
        "\n",
        "      gradients = tape.gradient(loss, model.trainable_variables)\n",
        "      clipped_gradients, _ = tf.clip_by_global_norm(gradients,clip_norm = 1.0)\n",
        "      optimizer.apply_gradients(zip(clipped_gradients, model.trainable_variables))\n",
        "    if i % 2 ==0:\n",
        "      print('Loss:{:.3f}'.format(loss))\n",
        "    i = i + 1\n",
        "\n",
        "\n",
        "\n",
        "\n",
        "\n",
        "\n",
        "\n",
        "\n",
        "\n"
      ]
    },
    {
      "cell_type": "code",
      "execution_count": null,
      "metadata": {
        "colab": {
          "base_uri": "https://localhost:8080/"
        },
        "id": "3yy1UcFjJPM1",
        "outputId": "f908770a-f651-401a-e6e1-4cffd6e64c29"
      },
      "outputs": [
        {
          "name": "stdout",
          "output_type": "stream",
          "text": [
            "(3, 7264, 128)\n"
          ]
        }
      ],
      "source": [
        "#word_vec.shape:(3, 128, 512), mel_spectrogram.shape:(3, 128, 454), raw_audio_data.shape:(3, 58112)\n",
        "class UpSampling(Model):\n",
        "  def __init__(self):\n",
        "    super(UpSampling,self).__init__()\n",
        "    self.upsampling_layer = UpSampling1D(size = 16)\n",
        "\n",
        "\n",
        "  def call(self,mel_spectrogram):\n",
        "    mel_spectrogram = tf.transpose(mel_spectrogram, perm=[0,2,1])\n",
        "    upsampled_mel_spectrogram = self.upsampling_layer(mel_spectrogram)\n",
        "    return upsampled_mel_spectrogram\n",
        "upsampling = UpSampling()\n",
        "upsampled_mel_spectrogram = upsampling.call(mel_spectrogram)\n",
        "print(upsampled_mel_spectrogram.shape)\n"
      ]
    },
    {
      "cell_type": "code",
      "execution_count": null,
      "metadata": {
        "id": "UWdqRE4RxQ8e"
      },
      "outputs": [],
      "source": [
        "class Invertible_Convolution(Model):\n",
        "  def __init__(self,n_channels):\n",
        "    super(Invertible_Convolution,self).__init__()\n",
        "    self.invertible_layer = Conv1D(filters = n_channels, kernel_size=1, strides = 1, padding = 'valid', use_bias= False, dtype=tf.float32 )\n",
        "    self.n_channels = tf.cast(n_channels, dtype = tf.int32)\n",
        "    W,r  = tf.linalg.qr(tf.random.normal(shape=(n_channels, n_channels))) # W = orthonormal matrix\n",
        "    self.invertible_layer.set_weights = W\n",
        "\n",
        "\n",
        "  def squeeze_to_vector(self,raw_audio_data):\n",
        "    if tf.rank(raw_audio_data) == 2:\n",
        "      raw_audio_data= tf.expand_dims(raw_audio_data, axis = -1)\n",
        "\n",
        "    if raw_audio_data.shape[1] < raw_audio_data.shape[2]:\n",
        "      raw_audio_data = tf.transpose(raw_audio_data, perm=[0,2,1])\n",
        "\n",
        "    temporal = int(raw_audio_data.shape[1]/self.n_channels)\n",
        "    raw_audio_data = tf.reshape(raw_audio_data, [raw_audio_data.shape[0], temporal, self.n_channels])\n",
        "    return raw_audio_data\n",
        "\n",
        "  def call(self,inputs):\n",
        "    raw_audio_data,log_det_sum = inputs\n",
        "    raw_audio_data = self.squeeze_to_vector(raw_audio_data)\n",
        "    invertibled_audio_data = self.invertible_layer(raw_audio_data)\n",
        "\n",
        "    B, T, C = invertibled_audio_data.shape\n",
        "    W = tf.squeeze(self.invertible_layer.weights[0])\n",
        "\n",
        "\n",
        "    _,log_det_W = tf.linalg.slogdet(W)\n",
        "    log_det_W = log_det_W * B * T\n",
        "    log_det_sum = log_det_sum + log_det_W\n",
        "    return invertibled_audio_data, log_det_sum\n",
        "\n",
        "  def reverse(self,z):\n",
        "    W = tf.squeeze(self.invertible_layer.weights[0])\n",
        "    W_inverse = tf.linalg.inv(W)\n",
        "    print(W_inverse.shape)\n",
        "    x = tf.nn.conv1d(z,filters=W_inverse, stride= 1, padding = \"VALID\")\n",
        "    return x\n",
        "\n",
        "\n",
        "\n",
        "invertible_Convolution = Invertible_Convolution(8)\n"
      ]
    },
    {
      "cell_type": "code",
      "execution_count": null,
      "metadata": {
        "id": "2kcTl3A4LMdz"
      },
      "outputs": [],
      "source": [
        "class WaveNet(Model):\n",
        "  def __init__(self,n_channels, skip_channels,n_layers):\n",
        "    super(WaveNet, self).__init__()\n",
        "    self.conv_dilation_layers = Sequential()\n",
        "    self.conv_layers = Sequential()\n",
        "    self.n_channels = n_channels\n",
        "\n",
        "\n",
        "    self.n_layers = n_layers\n",
        "    self.after_skip_connection_conv_1 = Conv1D(filters = skip_channels, kernel_size = 1, activation = 'relu')\n",
        "    self.after_skip_connection_conv_2 = Conv1D(filters = skip_channels, kernel_size = 1)\n",
        "\n",
        "    self.tan_conv = Conv1D(filters = n_channels, kernel_size =1)\n",
        "    self.sigmoid_conv = Conv1D(filters = n_channels, kernel_size =1)\n",
        "\n",
        "    dilation = 1\n",
        "    for _ in range(n_layers):\n",
        "      dilation = dilation * 2\n",
        "      self.conv_dilation_layers.add(Conv1D(filters = self.n_channels, kernel_size=1,dilation_rate = dilation))\n",
        "      self.conv_layers.add(Conv1D(filters = self.n_channels, kernel_size =1))\n",
        "\n",
        "  def tanh_sigmoid_multiply(self,input):\n",
        "    tan_input = self.tan_conv(input)\n",
        "    sigmoid_input = self.sigmoid_conv(input)\n",
        "    tanh_act = tanh(tan_input)\n",
        "    sigmoid_act = sigmoid(sigmoid_input)\n",
        "    return tf.multiply(tanh_act , sigmoid_act)\n",
        "\n",
        "  def call(self,input):\n",
        "    output_list = []\n",
        "    for i in range(self.n_layers):\n",
        "      if i==0:\n",
        "        after_dilation = self.conv_dilation_layers.layers[i](input)\n",
        "        after_multiply = self.tanh_sigmoid_multiply(after_dilation)\n",
        "        output = self.conv_layers.layers[i](after_multiply)\n",
        "        output = output + input\n",
        "      else:\n",
        "        after_dilation = self.conv_dilation_layers.layers[i](output_list[i-1])\n",
        "        after_multiply = self.tanh_sigmoid_multiply(after_dilation)\n",
        "        output = self.conv_layers.layers[i](after_multiply)\n",
        "        output = output + output_list[i-1]\n",
        "\n",
        "\n",
        "      output_list.append(output)\n",
        "\n",
        "    output_sum = sum(output_list)\n",
        "    after_skip_connection_1 = relu(output_sum)\n",
        "    after_skip_connection_2 = self.after_skip_connection_conv_1(after_skip_connection_1)\n",
        "    wavenet_output = self.after_skip_connection_conv_2(after_skip_connection_2)\n",
        "\n",
        "\n",
        "    return wavenet_output\n",
        "\n",
        "class Affine_coupling_layer(Model):\n",
        "  def __init__(self):\n",
        "    super(Affine_coupling_layer, self).__init__()\n",
        "    self.WaveNet_1 = WaveNet(4,4,12)\n",
        "    self.WaveNet_2 = WaveNet(128,4,12)\n",
        "  def call(self,inputs):\n",
        "\n",
        "    z_init, upsampled_mel_spectrogram,log_det_sum = inputs\n",
        "    x_a, x_b = tf.split(z_init, 2, axis = -1)\n",
        "    log_s, t = self.WaveNet_1.call(x_a), self.WaveNet_2.call(upsampled_mel_spectrogram)\n",
        "    x_b_prime = tf.multiply(np.exp(log_s) , x_b) + t\n",
        "    z = tf.concat([x_a, x_b_prime], axis = -1)\n",
        "\n",
        "    log_det_sum = log_det_sum + tf.reduce_sum(log_s)\n",
        "    return z, log_det_sum\n",
        "\n",
        "  def reverse(self,z, c):\n",
        "    z_a, z_b = tf.split(z, 2, axis = -1)\n",
        "    log_s, t = self.WaveNet(z_a, c)\n",
        "    x_b = tf.multiply((z_b-t) , np.exp(-1 * log_s))\n",
        "    x = tf.concat([z_a, x_b], axis = -1)\n",
        "    return x\n",
        "\n",
        "\n",
        "\n",
        "\n",
        "class WaveGlow(Model):\n",
        "  def __init__(self, n_layers):\n",
        "    super(WaveGlow, self).__init__()\n",
        "    self.n_layers = n_layers\n",
        "    self.Invertible_Convolution = Invertible_Convolution(8)\n",
        "    self.Affine_coupling_layer = Affine_coupling_layer()\n",
        "    self.UpSampling = UpSampling()\n",
        "\n",
        "\n",
        "  def call(self, inputs):\n",
        "    log_conv_det_list = [0]\n",
        "    log_affine_det_list = [0]\n",
        "    mel_spectrogram, raw_audio_data = inputs\n",
        "    upsampled_mel_spectrogram = self.UpSampling.call(mel_spectrogram)\n",
        "\n",
        "    for i in range(self.n_layers):\n",
        "      invertibled_audio_data, log_conv_det_sum = self.Invertible_Convolution.call([raw_audio_data, log_conv_det_list[i]])\n",
        "      log_conv_det_list.append(log_conv_det_sum)\n",
        "      z, log_affine_det_sum = self.Affine_coupling_layer.call([ invertibled_audio_data,upsampled_mel_spectrogram, log_affine_det_list[i]])\n",
        "      log_affine_det_list.append(log_affine_det_sum)\n",
        "    log_det_sum = sum(log_conv_det_list) + sum(log_affine_det_list)\n",
        "    log_p = 0.5 * tf.reduce_sum((- np.log(2.0 * np.pi) - tf.math.square(z))) / (z.shape[0] * z.shape[1] * z.shape[2])\n",
        "    log_det = log_det_sum /  (z.shape[0] * z.shape[1] * z.shape[2])\n",
        "    return log_p, log_det\n",
        "\n",
        "\n",
        "\n",
        "\n",
        "model = WaveGlow(12)\n",
        "\n",
        "\n",
        "\n",
        "# 모델에 입력 데이터를 전달하여 사용\n",
        "\n",
        "#model.build(input_shape=([mel_spectrogram.shape, raw_audio_data.shape]))\n",
        "\n",
        "\n",
        "\n",
        "\n"
      ]
    },
    {
      "cell_type": "code",
      "execution_count": null,
      "metadata": {
        "id": "BKJdim1A0IJI"
      },
      "outputs": [],
      "source": [
        "dataset = tf.data.Dataset.from_tensor_slices((mel_spectrogram, raw_audio_data))\n",
        "\n",
        "\n",
        "batch_size = 1\n",
        "shuffle_buffer_size = len(mel_spectrogram)\n",
        "dataset = dataset.shuffle(shuffle_buffer_size)\n",
        "dataset = dataset.batch(batch_size)\n",
        "dataset = dataset.prefetch(buffer_size=tf.data.AUTOTUNE)\n",
        "\n",
        "\n",
        "train_loader = iter(dataset)\n",
        "\n"
      ]
    },
    {
      "cell_type": "code",
      "execution_count": null,
      "metadata": {
        "id": "8VZEZ1uez2Ny"
      },
      "outputs": [],
      "source": [
        "learning_rate = 1e-3\n",
        "optimizer = Adam(learning_rate = learning_rate)"
      ]
    },
    {
      "cell_type": "code",
      "execution_count": null,
      "metadata": {
        "colab": {
          "base_uri": "https://localhost:8080/",
          "height": 358
        },
        "id": "v4-PpFn41BQc",
        "outputId": "3c8b6762-b884-47a6-99c3-28aaaf4ef1e7"
      },
      "outputs": [
        {
          "ename": "ValueError",
          "evalue": "ignored",
          "output_type": "error",
          "traceback": [
            "\u001b[0;31m---------------------------------------------------------------------------\u001b[0m",
            "\u001b[0;31mValueError\u001b[0m                                Traceback (most recent call last)",
            "\u001b[0;32m<ipython-input-18-653fa3b45d1f>\u001b[0m in \u001b[0;36m<cell line: 26>\u001b[0;34m()\u001b[0m\n\u001b[1;32m     24\u001b[0m \u001b[0;34m\u001b[0m\u001b[0m\n\u001b[1;32m     25\u001b[0m \u001b[0;34m\u001b[0m\u001b[0m\n\u001b[0;32m---> 26\u001b[0;31m \u001b[0mtraining\u001b[0m\u001b[0;34m(\u001b[0m\u001b[0;36m100\u001b[0m\u001b[0;34m,\u001b[0m\u001b[0;36m1\u001b[0m\u001b[0;34m)\u001b[0m\u001b[0;34m\u001b[0m\u001b[0;34m\u001b[0m\u001b[0m\n\u001b[0m",
            "\u001b[0;32m<ipython-input-18-653fa3b45d1f>\u001b[0m in \u001b[0;36mtraining\u001b[0;34m(num_epochs, print_interval)\u001b[0m\n\u001b[1;32m     11\u001b[0m \u001b[0;34m\u001b[0m\u001b[0m\n\u001b[1;32m     12\u001b[0m       \u001b[0;31m# 그래디언트 계산\u001b[0m\u001b[0;34m\u001b[0m\u001b[0;34m\u001b[0m\u001b[0m\n\u001b[0;32m---> 13\u001b[0;31m       \u001b[0mgradients\u001b[0m \u001b[0;34m=\u001b[0m \u001b[0mtape\u001b[0m\u001b[0;34m.\u001b[0m\u001b[0mgradient\u001b[0m\u001b[0;34m(\u001b[0m\u001b[0mloss\u001b[0m\u001b[0;34m,\u001b[0m \u001b[0mmodel\u001b[0m\u001b[0;34m.\u001b[0m\u001b[0mtrainable_variables\u001b[0m\u001b[0;34m)\u001b[0m\u001b[0;34m\u001b[0m\u001b[0;34m\u001b[0m\u001b[0m\n\u001b[0m\u001b[1;32m     14\u001b[0m \u001b[0;34m\u001b[0m\u001b[0m\n\u001b[1;32m     15\u001b[0m       \u001b[0;31m# 그래디언트 클리핑\u001b[0m\u001b[0;34m\u001b[0m\u001b[0;34m\u001b[0m\u001b[0m\n",
            "\u001b[0;32m/usr/local/lib/python3.10/dist-packages/keras/engine/base_layer.py\u001b[0m in \u001b[0;36mtrainable_variables\u001b[0;34m(self)\u001b[0m\n\u001b[1;32m   2274\u001b[0m     \u001b[0;34m@\u001b[0m\u001b[0mdoc_controls\u001b[0m\u001b[0;34m.\u001b[0m\u001b[0mdo_not_generate_docs\u001b[0m\u001b[0;34m\u001b[0m\u001b[0;34m\u001b[0m\u001b[0m\n\u001b[1;32m   2275\u001b[0m     \u001b[0;32mdef\u001b[0m \u001b[0mtrainable_variables\u001b[0m\u001b[0;34m(\u001b[0m\u001b[0mself\u001b[0m\u001b[0;34m)\u001b[0m\u001b[0;34m:\u001b[0m\u001b[0;34m\u001b[0m\u001b[0;34m\u001b[0m\u001b[0m\n\u001b[0;32m-> 2276\u001b[0;31m         \u001b[0;32mreturn\u001b[0m \u001b[0mself\u001b[0m\u001b[0;34m.\u001b[0m\u001b[0mtrainable_weights\u001b[0m\u001b[0;34m\u001b[0m\u001b[0;34m\u001b[0m\u001b[0m\n\u001b[0m\u001b[1;32m   2277\u001b[0m \u001b[0;34m\u001b[0m\u001b[0m\n\u001b[1;32m   2278\u001b[0m     \u001b[0;34m@\u001b[0m\u001b[0mproperty\u001b[0m\u001b[0;34m\u001b[0m\u001b[0;34m\u001b[0m\u001b[0m\n",
            "\u001b[0;32m/usr/local/lib/python3.10/dist-packages/keras/engine/training.py\u001b[0m in \u001b[0;36mtrainable_weights\u001b[0;34m(self)\u001b[0m\n\u001b[1;32m   2731\u001b[0m         \u001b[0mtrainable_variables\u001b[0m \u001b[0;34m=\u001b[0m \u001b[0;34m[\u001b[0m\u001b[0;34m]\u001b[0m\u001b[0;34m\u001b[0m\u001b[0;34m\u001b[0m\u001b[0m\n\u001b[1;32m   2732\u001b[0m         \u001b[0;32mfor\u001b[0m \u001b[0mtrackable_obj\u001b[0m \u001b[0;32min\u001b[0m \u001b[0mself\u001b[0m\u001b[0;34m.\u001b[0m\u001b[0m_self_tracked_trackables\u001b[0m\u001b[0;34m:\u001b[0m\u001b[0;34m\u001b[0m\u001b[0;34m\u001b[0m\u001b[0m\n\u001b[0;32m-> 2733\u001b[0;31m             \u001b[0mtrainable_variables\u001b[0m \u001b[0;34m+=\u001b[0m \u001b[0mtrackable_obj\u001b[0m\u001b[0;34m.\u001b[0m\u001b[0mtrainable_variables\u001b[0m\u001b[0;34m\u001b[0m\u001b[0;34m\u001b[0m\u001b[0m\n\u001b[0m\u001b[1;32m   2734\u001b[0m         \u001b[0mtrainable_variables\u001b[0m \u001b[0;34m+=\u001b[0m \u001b[0mself\u001b[0m\u001b[0;34m.\u001b[0m\u001b[0m_trainable_weights\u001b[0m\u001b[0;34m\u001b[0m\u001b[0;34m\u001b[0m\u001b[0m\n\u001b[1;32m   2735\u001b[0m         \u001b[0;32mreturn\u001b[0m \u001b[0mself\u001b[0m\u001b[0;34m.\u001b[0m\u001b[0m_dedup_weights\u001b[0m\u001b[0;34m(\u001b[0m\u001b[0mtrainable_variables\u001b[0m\u001b[0;34m)\u001b[0m\u001b[0;34m\u001b[0m\u001b[0;34m\u001b[0m\u001b[0m\n",
            "\u001b[0;32m/usr/local/lib/python3.10/dist-packages/keras/engine/base_layer.py\u001b[0m in \u001b[0;36mtrainable_variables\u001b[0;34m(self)\u001b[0m\n\u001b[1;32m   2274\u001b[0m     \u001b[0;34m@\u001b[0m\u001b[0mdoc_controls\u001b[0m\u001b[0;34m.\u001b[0m\u001b[0mdo_not_generate_docs\u001b[0m\u001b[0;34m\u001b[0m\u001b[0;34m\u001b[0m\u001b[0m\n\u001b[1;32m   2275\u001b[0m     \u001b[0;32mdef\u001b[0m \u001b[0mtrainable_variables\u001b[0m\u001b[0;34m(\u001b[0m\u001b[0mself\u001b[0m\u001b[0;34m)\u001b[0m\u001b[0;34m:\u001b[0m\u001b[0;34m\u001b[0m\u001b[0;34m\u001b[0m\u001b[0m\n\u001b[0;32m-> 2276\u001b[0;31m         \u001b[0;32mreturn\u001b[0m \u001b[0mself\u001b[0m\u001b[0;34m.\u001b[0m\u001b[0mtrainable_weights\u001b[0m\u001b[0;34m\u001b[0m\u001b[0;34m\u001b[0m\u001b[0m\n\u001b[0m\u001b[1;32m   2277\u001b[0m \u001b[0;34m\u001b[0m\u001b[0m\n\u001b[1;32m   2278\u001b[0m     \u001b[0;34m@\u001b[0m\u001b[0mproperty\u001b[0m\u001b[0;34m\u001b[0m\u001b[0;34m\u001b[0m\u001b[0m\n",
            "\u001b[0;32m/usr/local/lib/python3.10/dist-packages/keras/engine/training.py\u001b[0m in \u001b[0;36mtrainable_weights\u001b[0;34m(self)\u001b[0m\n\u001b[1;32m   2731\u001b[0m         \u001b[0mtrainable_variables\u001b[0m \u001b[0;34m=\u001b[0m \u001b[0;34m[\u001b[0m\u001b[0;34m]\u001b[0m\u001b[0;34m\u001b[0m\u001b[0;34m\u001b[0m\u001b[0m\n\u001b[1;32m   2732\u001b[0m         \u001b[0;32mfor\u001b[0m \u001b[0mtrackable_obj\u001b[0m \u001b[0;32min\u001b[0m \u001b[0mself\u001b[0m\u001b[0;34m.\u001b[0m\u001b[0m_self_tracked_trackables\u001b[0m\u001b[0;34m:\u001b[0m\u001b[0;34m\u001b[0m\u001b[0;34m\u001b[0m\u001b[0m\n\u001b[0;32m-> 2733\u001b[0;31m             \u001b[0mtrainable_variables\u001b[0m \u001b[0;34m+=\u001b[0m \u001b[0mtrackable_obj\u001b[0m\u001b[0;34m.\u001b[0m\u001b[0mtrainable_variables\u001b[0m\u001b[0;34m\u001b[0m\u001b[0;34m\u001b[0m\u001b[0m\n\u001b[0m\u001b[1;32m   2734\u001b[0m         \u001b[0mtrainable_variables\u001b[0m \u001b[0;34m+=\u001b[0m \u001b[0mself\u001b[0m\u001b[0;34m.\u001b[0m\u001b[0m_trainable_weights\u001b[0m\u001b[0;34m\u001b[0m\u001b[0;34m\u001b[0m\u001b[0m\n\u001b[1;32m   2735\u001b[0m         \u001b[0;32mreturn\u001b[0m \u001b[0mself\u001b[0m\u001b[0;34m.\u001b[0m\u001b[0m_dedup_weights\u001b[0m\u001b[0;34m(\u001b[0m\u001b[0mtrainable_variables\u001b[0m\u001b[0;34m)\u001b[0m\u001b[0;34m\u001b[0m\u001b[0;34m\u001b[0m\u001b[0m\n",
            "\u001b[0;32m/usr/local/lib/python3.10/dist-packages/keras/engine/base_layer.py\u001b[0m in \u001b[0;36mtrainable_variables\u001b[0;34m(self)\u001b[0m\n\u001b[1;32m   2274\u001b[0m     \u001b[0;34m@\u001b[0m\u001b[0mdoc_controls\u001b[0m\u001b[0;34m.\u001b[0m\u001b[0mdo_not_generate_docs\u001b[0m\u001b[0;34m\u001b[0m\u001b[0;34m\u001b[0m\u001b[0m\n\u001b[1;32m   2275\u001b[0m     \u001b[0;32mdef\u001b[0m \u001b[0mtrainable_variables\u001b[0m\u001b[0;34m(\u001b[0m\u001b[0mself\u001b[0m\u001b[0;34m)\u001b[0m\u001b[0;34m:\u001b[0m\u001b[0;34m\u001b[0m\u001b[0;34m\u001b[0m\u001b[0m\n\u001b[0;32m-> 2276\u001b[0;31m         \u001b[0;32mreturn\u001b[0m \u001b[0mself\u001b[0m\u001b[0;34m.\u001b[0m\u001b[0mtrainable_weights\u001b[0m\u001b[0;34m\u001b[0m\u001b[0;34m\u001b[0m\u001b[0m\n\u001b[0m\u001b[1;32m   2277\u001b[0m \u001b[0;34m\u001b[0m\u001b[0m\n\u001b[1;32m   2278\u001b[0m     \u001b[0;34m@\u001b[0m\u001b[0mproperty\u001b[0m\u001b[0;34m\u001b[0m\u001b[0;34m\u001b[0m\u001b[0m\n",
            "\u001b[0;32m/usr/local/lib/python3.10/dist-packages/keras/engine/training.py\u001b[0m in \u001b[0;36mtrainable_weights\u001b[0;34m(self)\u001b[0m\n\u001b[1;32m   2731\u001b[0m         \u001b[0mtrainable_variables\u001b[0m \u001b[0;34m=\u001b[0m \u001b[0;34m[\u001b[0m\u001b[0;34m]\u001b[0m\u001b[0;34m\u001b[0m\u001b[0;34m\u001b[0m\u001b[0m\n\u001b[1;32m   2732\u001b[0m         \u001b[0;32mfor\u001b[0m \u001b[0mtrackable_obj\u001b[0m \u001b[0;32min\u001b[0m \u001b[0mself\u001b[0m\u001b[0;34m.\u001b[0m\u001b[0m_self_tracked_trackables\u001b[0m\u001b[0;34m:\u001b[0m\u001b[0;34m\u001b[0m\u001b[0;34m\u001b[0m\u001b[0m\n\u001b[0;32m-> 2733\u001b[0;31m             \u001b[0mtrainable_variables\u001b[0m \u001b[0;34m+=\u001b[0m \u001b[0mtrackable_obj\u001b[0m\u001b[0;34m.\u001b[0m\u001b[0mtrainable_variables\u001b[0m\u001b[0;34m\u001b[0m\u001b[0;34m\u001b[0m\u001b[0m\n\u001b[0m\u001b[1;32m   2734\u001b[0m         \u001b[0mtrainable_variables\u001b[0m \u001b[0;34m+=\u001b[0m \u001b[0mself\u001b[0m\u001b[0;34m.\u001b[0m\u001b[0m_trainable_weights\u001b[0m\u001b[0;34m\u001b[0m\u001b[0;34m\u001b[0m\u001b[0m\n\u001b[1;32m   2735\u001b[0m         \u001b[0;32mreturn\u001b[0m \u001b[0mself\u001b[0m\u001b[0;34m.\u001b[0m\u001b[0m_dedup_weights\u001b[0m\u001b[0;34m(\u001b[0m\u001b[0mtrainable_variables\u001b[0m\u001b[0;34m)\u001b[0m\u001b[0;34m\u001b[0m\u001b[0;34m\u001b[0m\u001b[0m\n",
            "\u001b[0;32m/usr/local/lib/python3.10/dist-packages/keras/engine/base_layer.py\u001b[0m in \u001b[0;36mtrainable_variables\u001b[0;34m(self)\u001b[0m\n\u001b[1;32m   2274\u001b[0m     \u001b[0;34m@\u001b[0m\u001b[0mdoc_controls\u001b[0m\u001b[0;34m.\u001b[0m\u001b[0mdo_not_generate_docs\u001b[0m\u001b[0;34m\u001b[0m\u001b[0;34m\u001b[0m\u001b[0m\n\u001b[1;32m   2275\u001b[0m     \u001b[0;32mdef\u001b[0m \u001b[0mtrainable_variables\u001b[0m\u001b[0;34m(\u001b[0m\u001b[0mself\u001b[0m\u001b[0;34m)\u001b[0m\u001b[0;34m:\u001b[0m\u001b[0;34m\u001b[0m\u001b[0;34m\u001b[0m\u001b[0m\n\u001b[0;32m-> 2276\u001b[0;31m         \u001b[0;32mreturn\u001b[0m \u001b[0mself\u001b[0m\u001b[0;34m.\u001b[0m\u001b[0mtrainable_weights\u001b[0m\u001b[0;34m\u001b[0m\u001b[0;34m\u001b[0m\u001b[0m\n\u001b[0m\u001b[1;32m   2277\u001b[0m \u001b[0;34m\u001b[0m\u001b[0m\n\u001b[1;32m   2278\u001b[0m     \u001b[0;34m@\u001b[0m\u001b[0mproperty\u001b[0m\u001b[0;34m\u001b[0m\u001b[0;34m\u001b[0m\u001b[0m\n",
            "\u001b[0;32m/usr/local/lib/python3.10/dist-packages/keras/engine/training.py\u001b[0m in \u001b[0;36mtrainable_weights\u001b[0;34m(self)\u001b[0m\n\u001b[1;32m   2726\u001b[0m     \u001b[0;34m@\u001b[0m\u001b[0mproperty\u001b[0m\u001b[0;34m\u001b[0m\u001b[0;34m\u001b[0m\u001b[0m\n\u001b[1;32m   2727\u001b[0m     \u001b[0;32mdef\u001b[0m \u001b[0mtrainable_weights\u001b[0m\u001b[0;34m(\u001b[0m\u001b[0mself\u001b[0m\u001b[0;34m)\u001b[0m\u001b[0;34m:\u001b[0m\u001b[0;34m\u001b[0m\u001b[0;34m\u001b[0m\u001b[0m\n\u001b[0;32m-> 2728\u001b[0;31m         \u001b[0mself\u001b[0m\u001b[0;34m.\u001b[0m\u001b[0m_assert_weights_created\u001b[0m\u001b[0;34m(\u001b[0m\u001b[0;34m)\u001b[0m\u001b[0;34m\u001b[0m\u001b[0;34m\u001b[0m\u001b[0m\n\u001b[0m\u001b[1;32m   2729\u001b[0m         \u001b[0;32mif\u001b[0m \u001b[0;32mnot\u001b[0m \u001b[0mself\u001b[0m\u001b[0;34m.\u001b[0m\u001b[0m_trainable\u001b[0m\u001b[0;34m:\u001b[0m\u001b[0;34m\u001b[0m\u001b[0;34m\u001b[0m\u001b[0m\n\u001b[1;32m   2730\u001b[0m             \u001b[0;32mreturn\u001b[0m \u001b[0;34m[\u001b[0m\u001b[0;34m]\u001b[0m\u001b[0;34m\u001b[0m\u001b[0;34m\u001b[0m\u001b[0m\n",
            "\u001b[0;32m/usr/local/lib/python3.10/dist-packages/keras/engine/sequential.py\u001b[0m in \u001b[0;36m_assert_weights_created\u001b[0;34m(self)\u001b[0m\n\u001b[1;32m    515\u001b[0m         \u001b[0;31m# When the graph has not been initialized, use the Model's\u001b[0m\u001b[0;34m\u001b[0m\u001b[0;34m\u001b[0m\u001b[0m\n\u001b[1;32m    516\u001b[0m         \u001b[0;31m# implementation to to check if the weights has been created.\u001b[0m\u001b[0;34m\u001b[0m\u001b[0;34m\u001b[0m\u001b[0m\n\u001b[0;32m--> 517\u001b[0;31m         \u001b[0msuper\u001b[0m\u001b[0;34m(\u001b[0m\u001b[0mfunctional\u001b[0m\u001b[0;34m.\u001b[0m\u001b[0mFunctional\u001b[0m\u001b[0;34m,\u001b[0m \u001b[0mself\u001b[0m\u001b[0;34m)\u001b[0m\u001b[0;34m.\u001b[0m\u001b[0m_assert_weights_created\u001b[0m\u001b[0;34m(\u001b[0m\u001b[0;34m)\u001b[0m\u001b[0;34m\u001b[0m\u001b[0;34m\u001b[0m\u001b[0m\n\u001b[0m\u001b[1;32m    518\u001b[0m \u001b[0;34m\u001b[0m\u001b[0m\n\u001b[1;32m    519\u001b[0m \u001b[0;34m\u001b[0m\u001b[0m\n",
            "\u001b[0;32m/usr/local/lib/python3.10/dist-packages/keras/engine/training.py\u001b[0m in \u001b[0;36m_assert_weights_created\u001b[0;34m(self)\u001b[0m\n\u001b[1;32m   3538\u001b[0m             \u001b[0;31m# Also make sure to exclude Model class itself which has build()\u001b[0m\u001b[0;34m\u001b[0m\u001b[0;34m\u001b[0m\u001b[0m\n\u001b[1;32m   3539\u001b[0m             \u001b[0;31m# defined.\u001b[0m\u001b[0;34m\u001b[0m\u001b[0;34m\u001b[0m\u001b[0m\n\u001b[0;32m-> 3540\u001b[0;31m             raise ValueError(\n\u001b[0m\u001b[1;32m   3541\u001b[0m                 \u001b[0;34mf\"Weights for model '{self.name}' have not yet been \"\u001b[0m\u001b[0;34m\u001b[0m\u001b[0;34m\u001b[0m\u001b[0m\n\u001b[1;32m   3542\u001b[0m                 \u001b[0;34m\"created. \"\u001b[0m\u001b[0;34m\u001b[0m\u001b[0;34m\u001b[0m\u001b[0m\n",
            "\u001b[0;31mValueError\u001b[0m: Weights for model 'sequential' have not yet been created. Weights are created when the model is first called on inputs or `build()` is called with an `input_shape`."
          ]
        }
      ],
      "source": [
        "def training(num_epochs, print_interval):\n",
        "  for epoch in range(num_epochs):\n",
        "    for step, (mel_spectrogram, raw_audio_data) in enumerate(train_loader):\n",
        "      # 모델에 입력할 데이터를 텐서로 변환\n",
        "      mel_spectrogram, raw_audio_data = tf.convert_to_tensor(mel_spectrogram), tf.convert_to_tensor(raw_audio_data)\n",
        "      # 그래디언트 초기화\n",
        "      with tf.GradientTape() as tape:\n",
        "        log_p, log_det = model([mel_spectrogram, raw_audio_data])\n",
        "        log_p, log_det = tf.reduce_mean(log_p), tf.reduce_mean(log_det)\n",
        "        loss = -(log_p + log_det)\n",
        "\n",
        "      # 그래디언트 계산\n",
        "      gradients = tape.gradient(loss, model.trainable_variables)\n",
        "\n",
        "      # 그래디언트 클리핑\n",
        "      gradients, _ = tf.clip_by_global_norm(gradients, 1.0)\n",
        "\n",
        "      # 파라미터 업데이트\n",
        "      optimizer.apply_gradients(zip(gradients, model.trainable_variables))\n",
        "\n",
        "      if step % print_interval == 0:\n",
        "          print(\"Epoch: {} Step: {} Loss: {:.4f}\".format(epoch, step, loss.numpy()))\n",
        "      print(step)\n",
        "\n",
        "\n",
        "training(100,1)"
      ]
    },
    {
      "cell_type": "markdown",
      "metadata": {
        "id": "ycfGcpySxEGc"
      },
      "source": [
        "#Test"
      ]
    },
    {
      "cell_type": "code",
      "execution_count": null,
      "metadata": {
        "colab": {
          "base_uri": "https://localhost:8080/"
        },
        "id": "3o1ny2omxMID",
        "outputId": "4b21a1ab-6139-43dd-acb8-5d365052a065"
      },
      "outputs": [
        {
          "name": "stdout",
          "output_type": "stream",
          "text": [
            "78087 22050\n"
          ]
        }
      ],
      "source": [
        "wav_list = []\n",
        "for i in os.listdir('wav_folder'):\n",
        "  wav_list.append(i)\n",
        "wav_file_path = os.path.join('wav_folder', wav_list[1])\n",
        "data, sampling_rate = librosa.load(wav_file_path)\n",
        "print(len(data), sampling_rate)"
      ]
    },
    {
      "cell_type": "code",
      "execution_count": null,
      "metadata": {
        "colab": {
          "base_uri": "https://localhost:8080/",
          "height": 52
        },
        "id": "k1tCJkDzxl5d",
        "outputId": "4a7e7a77-78b5-48de-d341-1ec4a95e3b7a"
      },
      "outputs": [
        {
          "data": {
            "text/html": [
              "\n",
              "                <audio  controls=\"controls\" >\n",
              "                    <source src=\"data:audio/wav;base64,UklGRjJiAgBXQVZFZm10IBAAAAABAAEAIlYAAESsAAACABAAZGF0YQ5iAgAAAAAAAAAAAAAAAAAAAAAAAAAAAAAAAAAAAAAAAAAAAAAAAAAAAAAAAAAAAAAAAAAAAAAAAAAAAAAAAAAAAAAAAAAAAAAAAAAAAAAAAAAAAAAAAAAAAAAAAAAAAAAAAAAAAAAAAAAAAAAAAAAAAAAAAAAAAAAAAAAAAAAAAAAAAAAAAAAAAAAAAAAAAAAAAAAAAAAAAAAAAAAAAAAAAAAAAAAAAAAAAAAAAAAAAAAAAAAAAAAAAAAAAAAAAAAAAAAAAAAAAAAAAAAAAAAAAAAAAAAAAAAAAAAAAAAAAAAAAAAAAAAAAAAAAAAAAAAAAAAAAAAAAAAAAAAAAAAAAAAAAAAAAAAAAAAAAAAAAAAAAAAAAAAAAAAAAAAAAAAAAAAAAAAAAAAAAAAAAAAAAAAAAAAAAAAAAAAAAAAAAAAAAAAAAAAAAAAAAAAAAAAAAAAAAAAAAAAAAAAAAAAAAAAAAAAAAAAAAAAAAAAAAAAAAAAAAAAAAAAAAAAAAAAAAAAAAAAAAAAAAAAAAAAAAAAAAAAAAAAAAAAAAAAAAAAAAAAAAAAAAAAAAAAAAAAAAAAAAAAAAAAAAAAAAAAAAAAAAAAAAAAAAAAAAAAAAAAAAAAAAAAAAAAAAAAAAAAAAAAAAAAAAAAAAAAAAAAAAAAAAAAAAAAAAAAAAAAAAAAAAAAAAAAAAAAAAAAAAAAAAAAAAAAAAAAAAAAAAAAAAAAAAAAAAAAAAAAAAAAAAAAAAAAAAAAAAAAAAAAAAAAAAAAAAAAAAAAAAAAAAAAAAAAAAAAAAAAAAAAAAAAAAAAAAAAAAAAAAAAAAAAAAAAAAAAAAAAAAAAAAAAAAAAAAAAAAAAAAAAAAAAAAAAAAAAAAAAAAAAAAAAAAAAAAAAAAAAAAAAAAAAAAAAAAAAAAAAAAAAAAAAAAAAAAAAAAAAAAAAAAAAAAAAAAAAAAAAAAAAAAAAAAAAAAAAAAAAAAAAAAAAAAAAAAAAAAAAAAAAAAAAAAAAAAAAAAAAAAAAAAAAAAAAAAAAAAAAAAAAAAAAAAAAAAAAAAAAAAAAAAAAAAAAAAAAAAAAAAAAAAAAAAAAAAAAAAAAAAAAAAAAAAAAAAAAAAAAAAAAAAAAAAAAAAAAAAAAAAAAAAAAAAAAAAAAAAAAAAAAAAAAAAAAAAAAAAAAAAAAAAAAAAAAAAAAAAAAAAAAAAAAAAAAAAAAAAAAAAAAAAAAAAAAAAAAAAAAAAAAAAAAAAAAAAAAAAAAAAAAAAAAAAAAAAAAAAAAAAAAAAAAAAAAAAAAAAAAAAAAAAAAAAAAAAAAAAAAAAAAAAAAAAAAAAAAAAAAAAAAAAAAAAAAAAAAAAAAAAAAAAAAAAAAAAAAAAAAAAAAAAAAAAAAAAAAAAAAAAAAAAAAAAAAAAAAAAAAAAAAAAAAAAAAAAAAAAAAAAAAAAAAAAAAAAAAAAAAAAAAAAAAAAAAAAAAAAAAAAAAAAAAAAAAAAAAAAAAAAAAAAAAAAAAAAAAAAAAAAAAAAAAAAAAAAAAAAAAAAAAAAAAAAAAAAAAAAAAAAAAAAAAAAAAAAAAAAAAAAAAAAAAAAAAAAAAAAAAAAAAAAAAAAAAAAAAAAAAAAAAAAAAAAAAAAAAAAAAAAAAAAAAAAAAAAAAAAAAAAAAAAAAAAAAAAAAAAAAAAAAAAAAAAAAAAAAAAAAAAAAAAAAAAAAAAAAAAAAAAAAAAAAAAAAAAAAAAAAAAAAAAAAAAAAAAAAAAAAAAAAAAAAAAAAAAAAAAAAAAAAAAAAAAAAAAAAAAAAAAAAAAAAAAAAAAAAAAAAAAAAAAAAAAAAAAAAAAAAAAAAAAAAAAAAAAAAAAAAAAAAAAAAAAAAAAAAAAAAAAAAAAAAAAAAAAAAAAAAAAAAAAAAAAAAAAAAAAAAAAAAAAAAAAAAAAAAAAAAAAAAAAAAAAAAAAAAAAAAAAAAAAAAAAAAAAAAAAAAAAAAAAAAAAAAAAAAAAAAAAAAAAAAAAAAAAAAAAAAAAAAAAAAAAAAAAAAAAAAAAAAAAAAAAAAAAAAAAAAAAAAAAAAAAAAAAAAAAAAAAAAAAAAAAAAAAAAAAAAAAAAAAAAAAAAAAAAAAAAAAAAAAAAAAAAAAAAAAAAAAAAAAAAAAAAAAAAAAAAAAAAAAAAAAAAAAAAAAAAAAAAAAAAAAAAAAAAAAAAAAAAAAAAAAAAAAAAAAAAAAAAAAAAAAAAAAAAAAAAAAAAAAAAAAAAAAAAAAAAAAAAAAAAAAAAAAAAAAAAAAAAAAAAAAAAAAAAAAAAAAAAAAAAAAAAAAAAAAAAAAAAAAAAAAAAAAAAAAAAAAAAAAAAAAAAAAAAAAAAAAAAAAAAAAAAAAAAAAAAAAAAAAAAAAAAAAAAAAAAAAAAAAAAAAAAAAAAAAAAAAAAAAAAAAAAAAAAAAAAAAAAAAAAAAAAAAAAAAAAAAAAAAAAAAAAAAAAAAAAAAAAAAAAAAAAAAAAAAAAAAAAAAAAAAAAAAAAAAAAAAAAAAAAAAAAAAAAAAAAAAAAAAAAAAAAAAAAAAAAAAAAAAAAAAAAAAAAAAAAAAAAAAAAAAAAAAAAAAAAAAAAAAAAAAAAAAAAAAAAAAAAAAAAAAAAAAAAAAAAAAAAAAAAAAAAAAAAAAAAAAAAAAAAAAAAAAAAAAAAAAAAAAAAAAAAAAAAAAAAAAAAAAAAAAAAAAAAAAAAAAAAAAAAAAAAAAAAAAAAAAAAAAAAAAAAAAAAAAAAAAAAAAAAAAAAAAAAAAAAAAAAAAAAAAAAAAAAAAAAAAAAAAAAAAAAAAAAAAAAAAAAAAAAAAAAAAAAAAAAAAAAAAAAAAAAAAAAAAAAAAAAAAAAAAAAAAAAAAAAAAAAAAAAAAAAAAAAAAAAAAAAAAAAAAAAAAAAAAAAAAAAAAAAAAAAAAAAAAAAAAAAAAAAAAAAAAAAAAAAAAAAAAAAAAAAAAAAAAAAAAAAAAAAAAAAAAAAAAAAAAAAAAAAAAAAAAAAAAAAAAAAAAAAAAAAAAAAAAAAAAAAAAAAAAAAAAAAAAAAAAAAAAAAAAAAAAAAAAAAAAAAAAAAAAAAAAAAAAAAAAAAAAAAAAAAAAAAAAAAAAAAAAAAAAAAAAAAAAAAAAAAAAAAAAAAAAAAAAAAAAAAAAAAAAAAAAAAAAAAAAAAAAAAAAAAAAAAAAAAAAAAAAAAAAAAAAAAAAAAAAAAAAAAAAAAAAAAAAAAAAAAAAAAAAAAAAAAAAAAAAAAAAAAAAAAAAAAAAAAAAAAAAAAAAAAAAAAAAAAAAAAAAAAAAAAAAAAAAAAAAAAAAAAAAAAAAAAAAAAAAAAAAAAAAAAAAAAAAAAAAAAAAAAAAAAAAAAAAAAAAAAAAAAAAAAAAAAAAAAAAAAAAAAAAAAAAAAAAAAAAAAAAAAAAAAAAAAAAAAAAAAAAAAAAAAAAAAAAAAAAAAAAAAAAAAAAAAAAAAAAAAAAAAAAAAAAAAAAAAAAAAAAAAAAAAAAAAAAAAAAAAAAAAAAAAAAAAAAAAAAAAAAAAAAAAAAAAAAAAAAAAAAAAAAAAAAAAAAAAAAAAAAAAAAAAAAAAAAAAAAAAAAAAAAAAAAAAAAAAAAAAAAAAAAAAAAAAAAAAAAAAAAAAAAAAAAAAAAAAAAAAAAAAAAAAAAAAAAAAAAAAAAAAAAAAAAAAAAAAAAAAAAAAAAAAAAAAAAAAAAAAAAAAAAAAAAAAAAAAAAAAAAAAAAAAAAAAAAAAAAAAAAAAAAAAAAAAAAAAAAAAAAAAAAAAAAAAAAAAAAAAAAAAAAAAAAAAAAAAAAAAAAAAAAAAAAAAAAAAAAAAAAAAAAAAAAAAAAAAAAAAAAAAAAAAAAAAAAAAAAAAAAAAAAAAAAAAAAAAAAAAAAAAAAAAAAAAAAAAAAAAAAAAAAAAAAAAAAAAAAAAAAAAAAAAAAAAAAAAAAAAAAAAAAAAAAAAAAAAAAAAAAAAAAAAAAAAAAAAAAAAAAAAAAAAAAAAAAAAAAAAAAAAAAAAAAAAAAAAAAAAAAAAAAAAAAAAAAAAAAAAAAAAAAAAAAAAAAAAAAAAAAAAAAAAAAAAAAAAAAAAAAAAAAAAAAAAAAAAAAAAAAAAAAAAAAAAAAAAAAAAAAAAAAAAAAAAAAAAAAAAAAAAAAAAAAAAAAAAAAAAAAAAAAAAAAAAAAAAAAAAAAAAAAAAAAAAAAAAAAAAAAAAAAAAAAAAAAAAAAAAAAAAAAAAAAAAAAAAAAAAAAAAAAAAAAAAAAAAAAAAAAAAAAAAAAAAAAAAAAAAAAAAAAAAAAAAAAAAAAAAAAAAAAAAAAAAAAAAAAAAAAAAAAAAAAAAAAAAAAAAAAAAAAAAAAAAAAAAAAAAAAAAAAAAAAAAAAAAAAAAAAAAAAAAAAAAAAAAAAAAAAAAAAAAAAAAAAAAAAAAAAAAAAAAAAAAAAAAAAAAAAAAAAAAAAAAAAAAAAAAAAAAAAAAAAAAAAAAAAAAAAAAAAAAAAAAAAAAAAAAAAAAAAAAAAAAAAAAAAAAAAAAAAAAAAAAAAAAAAAAAAAAAAAAAAAAAAAAAAAAAAAAAAAAAAAAAAAAAAAAAAAAAAAAAAAAAAAAAAAAAAAAAAAAAAAAAAAAAAAAAAAAAAAAAAAAAAAAAAAAAAAAAAAAAAAAAAAAAAAAAAAAAAAAAAAAAAAAAAAAAAAAAAAAAAAAAAAAAAAAAAAAAAAAAAAAAAAAAAAAAAAAAAAAAAAAAAAAAAAAAAAAAAAAAAAAAAAAAAAAAAAAAAAAAAAAAAAAAAAAAAAAAAAAAAAAAAAAAAAAAAAAAAAAAAAAAAAAAAAAAAAAAAAAAAAAAAAAAAAAAAAAAAAAAAAAAAAAAAAAAAAAAAAAAAAAAAAAAAAAAAAAAAAAAAAAAAAAAAAAAAAAAAAAAAAAAAAAAAAAAAAAAAAAAAAAAAAAAAAAAAAAAAAAAAAAAAAAAAAAAAAAAAAAAAAAAAAAAAAAAAAAAAAAAAAAAAAAAAAAAAAAAAAAAAAAAAAAAAAAAAAAAAAAAAAAAAAAAAAAAAAAAAAAAAAAAAAAAAAAAAAAAAAAAAAAAAAAAAAAAAAAAAAAAAAAAAAAAAAAAAAAAAAAAAAAAAAAAAAAAAAAAAAAAAAAAAAAAAAAAAAAAAAAAAAAAAAAAAAAAAAAAAAAAAAAAAAAAAAAAAAAAAAAAAAAAAAAAAAAAAAAAAAAAAAAAAAAAAAAAAAAAAAAAAAAAAAAAAAAAAAAAAAAAAAAAAAAAAAAAAAAAAAAAAAAAAAAAAAAAAAAAAAAAAAAAAAAAAAAAAAAAAAAAAAAAAAAAAAAAAAAAAAAAAAAAAAAAAAAAAAAAAAAAAAAAAAAAAAAAAAAAAAAAAAAAAAAAAAAAAAAAAAAAAAAAAAAAAAAAAAAAAAAAAAAAAAAAAAAAAAAAAAAAAAAAAAAAAAAAAAAAAAAAAAAAAAAAAAAAAAAAAAAAAAAAAAAAAAAAAAAAAAAAAAAAAAAAAAAAAAAAAAAAAAAAAAAAAAAAAAAAAAAAAAAAAAAAAAAAAAAAAAAAAAAAAAAAAAAAAAAAAAAAAAAAAAAAAAAAAAAAAAAAAAAAAAAAAAAAAAAAAAAAAAAAAAAAAAAAAAAAAAAAAAAAAAAAAAAAAAAAAAAAAAAAAAAAAAAAAAAAAAAAAAAAAAAAAAAAAAAAAAAAAAAAAAAAAAAAAAAAAAAAAAAAAAAAAAAAAAAAAAAAAAAAAAAAAAAAAAAAAAAAAAAAAAAAAAAAAAAAAAAAAAAAAAAAAAAAAAAAAAAAAAAAAAAAAAAAAAAAAAAAAAAAAAAAAAAAAAAAAAAAAAAAAAAAAAAAAAAAAAAAAAAAAAAAAAAAAAAAAAAAAAAAAAAAAAAAAAAAAAAAAAAAAAAAAAAAAAAAAAAAAAAAAAAAAAAAAAAAAAAAAAAAAAAAAAAAAAAAAAAAAAAAAAAAAAAAAAAAAAAAAAAAAAAAAAAAAAAAAAAAAAAAAAAAAAAAAAAAAAAAAAAAAAAAAAAAAAAAAAAAAAAAAAAAAAAAAAAAAAAAAAAAAAAAAAAAAAAAAAAAAAAAAAAAAAAAAAAAAAAAAAAAAAAAAAAAAAAAAAAAAAAAAAAAAAAAAAAAAAAAAAAAAAAAAAAAAAAAAAAAAAAAAAAAAAAAAAAAAAAAAAAAAAAAAAAAAAAAAAAAAAAAAAAAAAAAAAAAAAAAAAAAAAAAAAAAAAAAAAAAAAAAAAAAAAAAAAAAAAAAAAAAAAAAAAAAAAAAAAAAAAAAAAAAAAAAAAAAAAAAAAAAAAAAAAAAAAAAAAAAAAAAAAAAAAAAAAAAAAAAAAAAAAAAAAAAAAAAAAAAAAAAAAAAAAAAAAAAAAAAAAAAAAAAAAAAAAAAAAAAAAAAAAAAAAAAAAAAAAAAAAAAAAAAAAAAAAAAAAAAAAAAAAAAAAAAAAAAAAAAAAAAAAAAAAAAAAAAAAAAAAAAAAAAAAAAAAAAAAAAAAAAAAAAAAAAAAAAAAAAAAAAAAAAAAAAAAAAAAAAAAAAAAAAAAAAAAAAAAAAAAAAAAAAAAAAAAAAAAAAAAAAAAAAAAAAAAAAAAAAAAAAAAAAAAAAAAAAAAAAAAAAAAAAAAAAAAAAAAAAAAAAAAAAAAAAAAAAAAAAAAAAAAAAAAAAAAAAAAAAAAAAAAAAAAAAAAAAAAAAAAAAAAAAAAAAAAAAAAAAAAAAAAAAAAAAAAAAAAAAAAAAAAAAAAAAAAAAAAAAAAAAAAAAAAAAAAAAAAAAAAAAAAAAAAAAAAAAAAAAAAAAAAAAAAAAAAAAAAAAAAAAAAAAAAAAAAAAAAAAAAAAAAAAAAAAAAAAAAAAAAAAAAAAAAAAAAAAAAAAAAAAAAAAAAAAAAAAAAAAAAAAAAAAAAAAAAAAAAAAAAAAAAAAAAAAAAAAAAAAAAAAAAAAAAAAAAAAAAAAAAAAAAAAAAAAAAAAAAAAAAAAAAAAAAAAAAAAAAAAAAAAAAAAAAAAAAAAAAAAAAAAAAAAAAAAAAAAAAAAAAAAAAAAAAAAAAAAAAAAAAAAAAAAAAAAAAAAAAAAAAAAAAAAAAAAAAAAAAAAAAAAAAAAAAAAAAAAAAAAAAAAAAAAAAAAAAAAAAAAAAAAAAAAAAAAAAAAAAAAAAAAAAAAAAAAAAAAAAAAAAAAAAAAAAAAAAAAAAAAAAAAAAAAAAAAAAAAAAAAAAAAAAAAAAAAAAAAAAAAAAAAAAAAAAAAAAAAAAAAAAAAAAAAAAAAAAAAAAAAAAAAAAAAAAAAAAAAAAAAAAAAAAAAAAAAAAAAAAAAAAAAAAAAAAAAAAAAAAAAAAAAAAAAAAAAAAAAAAAAAAAAAAAAAAAAAAAAAAAAAAAAAAAAAAAAAAAAAAAAAAAAAAAAAAAAAAAAAAAAAAAAAAAAAAAAAAAAAAAAAAAAAAAAAAAAAAAAAAAAAAAAAAAAAAAAAAAAAAAAAAAAAAAAAAAAAAAAAAAAAAAAAAAAAAAAAAAAAAAAAAAAAAAAAAAAAAAAAAAAAAAAAAAAAAAAAAAAAAAAAAAAAAAAAAAAAAAAAAAAAAAAAAAAAAAAAAAAAAAAAAAAAAAAAAAAAAAAAAAAAAAAAAAAAAAAAAAAAAAAAAAAAAAAAAAAAAAAAAAAAAAAAAAAAAAAAAAAAAAAAAAAAAAAAAAAAAAAAAAAAAAAAAAAAAAAAAAAAAAAAAAAAAAAAAAAAAAAAAAAAAAAAAAAAAAAAAAAAAAAAAAAAAAAAAAAAAAAAAAAAAAAAAAAAAAAAAAAAAAAAAAAAAAAAAAAAAAAAAAAAAAAAAAAAAAAAAAAAAAAAAAAAAAAAAAAAAAAAAAAAAAAAAAAAAAAAAAAAAAAAAAAAAAAAAAAAAAAAAAAAAAAAAAAAAAAAAAAAAAAAAAAAAAAAAAAAAAAAAAAAAAAAAAAAAAAAAAAAAAAAAAAAAAAAAAAAAAAAAAAAAAAAAAAAAAAAAAAAAAAAAAAAAAAAAAAAAAAAAAAAAAAAAAAAAAAAAAAAAAAAAAAAAAAAAAAAAAAAAAAAAAAAAAAAAAAAAAAAAAAAAAAAAAAAAAAAAAAAAAAAAAAAAAAAAAAAAAAAAAAAAAAAAAAAAAAAAAAAAAAAAAAAAAAAAAAAAAAAAAAAAAAAAAAAAAAAAAAAAAAAAAAAAAAAAAAAAAAAAAAAAAAAAAAAAAAAAAAAAAAAAAAAAAAAAAAAAAAAAAAAAAAAAAAAAAAAAAAAAAAAAAAAAAAAAAAAAAAAAAAAAAAAAAAAAAAAAAAAAAAAAAAAAAAAAAAAAAAAAAAAAAAAAAAAAAAAAAAAAAAAAAAAAAAAAAAAAAAAAAAAAAAAAAAAAAAAAAAAAAAAAAAAAAAAAAAAAAAAAAAAAAAAAAAAAAAAAAAAAAAAAAAAAAAAAAAAAAAAAAAAAAAAAAAAAAAAAAAAAAAAAAAAAAAAAAAAAAAAAAAAAAAAAAAAAAAAAAAAAAAAAAAAAAAAAAAAAAAAAAAAAAAAAAAAAAAAAAAAAAAAAAAAAAAAAAAAAAAAAAAAAAAAAAAAAAAAAAAAAAAAAAAAAAAAAAAAAAAAAAAAAAAAAAAAAAAAAAAAAAAAAAAAAAAAAAAAAAAAAAAAAAAAAAAAAAAAAAAAAAAAAAAAAAAAAAAAAAAAAAAAAAAAAAAAAAAAAAAAAAAAAAAAAAAAAAAAAAAAAAAAAAAAAAAAAAAAAAAAAAAAAAAAAAAAAAAAAAAAAAAAAAAAAAAAAAAAAAAAAAAAAAAAAAAAAAAAAAAAAAAAAAAAAAAAAAAAAAAAAAAAAAAAAAAAAAAAAAAAAAAAAAAAAAAAAAAAAAAAAAAAAAAAAAAAAAAAAAAAAAAAAAAAAAAAAAAAAAAAAAAAAAAAAAAAAAAAAAAAAAAAAAAAAAAAAAAAAAAAAAAAAAAAAAAAAAAAAAAAAAAAAAAAAAAAAAAAAAAAAAAAAAAAAAAAAAAAAAAAAAAAAAAAAAAAAAAAAAAAAAAAAAAAAAAAAAAAAAAAAAAAAAAAAAAAAAAAAAAAAAAAAAAAAAAAAAAAAAAAAAAAAAAAAAAAAAAAAAAAAAAAAAAAAAAAAAAAAAAAAAAAAAAAAAAAAAAAAAAAAAAAAAAAAAAAAAAAAAAAAAAAAAAAAAAAAAAAAAAAAAAAAAAAAAAAAAAAAAAAAAAAAAAAAAAAAAAAAAAAAAAAAAAAAAAAAAAAAAAAAAAAAAAAAAAAAAAAAAAAAAAAAAAAAAAAAAAAAAAAAAAAAAAAAAAAAAAAAAAAAAAAAAAAAAAAAAAAAAAAAAAAAAAAAAAAAAAAAAAAAAAAAAAAAAAAAAAAAAAAAAAAAAAAAAAAAAAAAAAAAAAAAAAAAAAAAAAAAAAAAAAAAAAAAAAAAAAAAAAAAAAAAAAAAAAAAAAAAAAAAAAAAAAAAAAAAAAAAAAAAAAAAAAAAAAAAAAAAAAAAAAAAAAAAAAAAAAAAAAAAAAAAAAAAAAAAAAAAAAAAAAAAAAAAAAAAAAAAAAAAAAAAAAAAAAAAAAAAAAAAAAAAAAAAAAAAAAAAAAAAAAAAAAAAAAAAAAAAAAAAAAAAAAAAAAAAAAAAAAAAAAAAAAAAAAAAAAAAAAAAAAAAAAAAAAAAAAAAAAAAAAAAAAAAAAAAAAAAAAAAAAAAAAAAAAAAAAAAAAAAAAAAAAAAAAAAAAAAAAAAAAAAAAAAAAAAAAAAAAAAAAAAAAAAAAAAAAAAAAAAAAAAAAAAAAAAAAAAAAAAAAAAAAAAAAAAAAAAAAAAAAAAAAAAAAAAAAAAAAAAAAAAAAAAAAAAAAAAAAAAAAAAAAAAAAAAAAAAAAAAAAAAAAAAAAAAAAAAAAAAAAAAAAAAAAAAAAAAAAAAAAAAAAAAAAAAAAAAAAAAAAAAAAAAAAAAAAAAAAAAAAAAAAAAAAAAAAAAAAAAAAAAAAAAAAAAAAAAAAAAAAAAAAAAAAAAAAAAAAAAAAAAAAAAAAAAAAAAAAAAAAAAAAAAAAAAAAAAAAAAAAAAAAAAAAAAAAAAAAAAAAAAAAAAAAAAAAAAAAAAAAAAAAAAAAAAAAAAAAAAAAAAAAAAAAAAAAAAAAAAAAAAAAAAAAAAAAAAAAAAAAAAAAAAAAAAAAAAAAAAAAAAAAAAAAAAAAAAAAAAAAAAAAAAAAAAAAAAAAAAAAAAAAAAAAAAAAAAAAAAAAAAAAAAAAAAAAAAAAAAAAAAAAAAAAAAAAAAAAAAAAAAAAAAAAAAAAAAAAAAAAAAAAAAAAAAAAAAAAAAAAAAAAAAAAAAAAAAAAAAAAAAAAAAAAAAAAAAAAAAAAAAAAAAAAAAAAAAAAAAAAAAAAAAAAAAAAAAAAAAAAAAAAAAAAAAAAAAAAAAAAAAAAAAAAAAAAAAAAAAAAAAAAAAAAAAAAAAAAAAAAAAAAAAAAAAAAAAAAAAAAAAAAAAAAAAAAAAAAAAAAAAAAAAAAAAAAAAAAAAAAAAAAAAAAAAAAAAAAAAAAAAAAAAAAAAAAAAAAAAAAAAAAAAAAAAAAAAAAAAAAAAAAAAAAAAAAAAAAAAAAAAAAAAAAAAAAAAAAAAAAAAAAAAAAAAAAAAAAAAAAAAAAAAAAAAAAAAAAAAAAAAAAAAAAAAAAAAAAAAAAAAAAAAAAAAAAAAAAAAAAAAAAAAAAAAAAAAAAAAAAAAAAAAAAAAAAAAAAAAAAAAAAAAAAAAAAAAAAAAAAAAAAAAAAAAAAAAAAAAAAAAAAAAAAAAAAAAAAAAAAAAAAAAAAAAAAAAAAAAAAAAAAAAAAAAAAAAAAAAAAAAAAAAAAAAAAAAAAAAAAAAAAAAAAAAAAAAAAAAAAAAAAAAAAAAAAAAAAAAAAAAAAAAAAAAAAAAAAAAAAAAAAAAAAAAAAAAAAAAAAAAAAAAAAAAAAAAAAAAAAAAAAAAAAAAAAAAAAAAAAAAAAAAAAAAAAAAAAAAAAAAAAAAAAAAAAAAAAAAAAAAAAAAAAAAAAAAAAAAAAAAAAAAAAAAAAAAAAAAAAAAAAAAAAAAAAAAAAAAAAAAAAAAAAAAAAAAAAAAAAAAAAAAAAAAAAAAAAAAAAAAAAAAAAAAAAAAAAAAAAAAAAAAAAAAAAAAAAAAAAAAAAAAAAAAAAAAAAAAAAAAAAAAAAAAAAAAAAAAAAAAAAAAAAAAAAAAAAAAAAAAAAAAAAAAAAAAAAAAAAAAAAAAAAAAAAAAAAAAAAAAAAAAAAAAAAAAAAAAAAAAAAAAAAAAAAAAAAAAAAAAAAAAAAAAAAAAAAAAAAAAAAAAAAAAAAAAAAAAAAAAAAAAAAAAAAAAAAAAAAAAAAAAAAAAAAAAAAAAAAAAAAAAAAAAAAAAAAAAAAAAAAAAAAAAAAAAAAAAAAAAAAAAAAAAAAAAAAAAAAAAAAAAAAAAAAAAAAAAAAAAAAAAAAAAAAAAAAAAAAAAAAAAAAAAAAAAAAAAAAAAAAAAAAAAAAAAAAAAAAAAAAAAAAAAAAAAAAAAAAAAAAAAAAAAAAAAAAAAAAAAAAAAAAAAAAAAAAAAAAAAAAAAAAAAAAAAAAAAAAAAAAAAAAAAAAAAAAAAAAAAAAAAAAAAAAAAAAAAAAAAAAAAAAAAAAAAAAAAAAAAAAAAAAAAAAAAAAAAAAAAAAAAAAAAAAAAAAAAAAAAAAAAAAAAAAAAAAAAAAAAAAAAAAAAAAAAAAAAAAAAAAAAAAAAAAAAAAAAAAAAAAAAAAAAAAAAAAAAAAAAAAAAAAAAAAAAAAAAAAAAAAAAAAAAAAAAAAAAAAAAAAAAAAAAAAAAAAAAAAAAAAAAAAAAAAAAAAAAAAAAAAAAAAAAAAAAAAAAAAAAAAAAAAAAAAAAAAAAAAAAAAAAAAAAAAAAAAAAAAAAAAAAAAAAAAAAAAAAAAAAAAAAAAAAAAAAAAAAAAAAAAAAAAAAAAAAAAAAAAAAAAAAAAAAAAAAAAAAAAAAAAAAAAAAAAAAAAAAAAAAAAAAAAAAAAAAAAAAAAAAAAAAAAAAAAAAAAAAAAAAAAAAAAAAAAAAAAAAAAAAAAAAAAAAAAAAAAAAAAAAAAAAAAAAAAAAAAAAAAAAAAAAAAAAAAAAAAAAAAAAAAAAAAAAAAAAAAAAAAAAAAAAAAAAAAAAAAAAAAAAAAAAAAAAAAAAAAAAAAAAAAAAAAAAAAAAAAAAAAAAAAAAAAAAAAAAAAAAAAAAAAAAAAAAAAAAAAAAAAAAAAAAAAAAAAAAAAAAAAAAAAAAAAAAAAAAAAAAAAAAAAAAAAAAAAAAAAAAAAAAAAAAAAAAAAAAAAAAAAAAAAAAAAAAAAAAAAAAAAAAAAAAAAAAAAAAAAAAAAAAAAAAAAAAAAAAAAAAAAAAAAAAAAAAAAAAAAAAAAAAAAAAAAAAAAAAAAAAAAAAAAAAAAAAAAAAAAAAAAAAAAAAAAAAAAAAAAAAAAAAAAAAAAAAAAAAAAAAAAAAAAAAAAAAAAAAAAAAAAAAAAAAAAAAAAAAAAAAAAAAAAAAAAAAAAAAAAAAAAAAAAAAAAAAAAAAAAAAAAAAAAAAAAAAAAAAAAAAAAAAAAAAAAAAAAAAAAAAAAAAAAAAAAAAAAAAAAAAAAAAAAAAAAAAAAAAAAAAAAAAAAAAAAAAAAAAAAAAAAAAAAAAAAAAAAAAAAAAAAAAAAAAAAAAAAAAAAAAAAAAAAAAAAAAAAAAAAAAAAAAAAAAAAAAAAAAAAAAAAAAAAAAAAAAAAAAAAAAAAAAAAAAAAAAAAAAAAAAAAAAAAAAAAAAAAAAAAAAAAAAAAAAAAAAAAAAAAAAAAAAAAAAAAAAAAAAAAAAAAAAAAAAAAAAAAAAAAAAAAAAAAAAAAAAAAAAAAAAAAAAAAAAAAAAAAAAAAAAAAAAAAAAAAAAAAAAAAAAAAAAAAAAAAAAAAAAAAAAAAAAAAAAAAAAAAAAAAAAAAAAAAAAAAAAAAAAAAAAAAAAAAAAAAAAAAAAAAAAAAAAAAAAAAAAAAAAAAAAAAAAAAAAAAAAAAAAAAAAAAAAAAAAAAAAAAAAAAAAAAAAAAAAAAAAAAAAAAAAAAAAAAAAAAAAAAAAAAAAAAAAAAAAAAAAAAAAAAAAAAAAAAAAAAAAAAAAAAAAAAAAAAAAAAAAAAAAAAAAAAAAAAAAAAAAAAAAAAAAAAAAAAAAAAAAAAAAAAAAAAAAAAAAAAAAAAAAAAAAAAAAAAAAAAAAAAAAAAAAAAAAAAAAAAAAAAAAAAAAAAAAAAAAAAAAAAAAAAAAAAAAAAAAAAAAAAAAAAAAAAAAAAAAAAAAAAAAAAAAAAAAAAAAAAAAAAAAAAAAAAAAAAAAAAAAAAAAAAAAAAAAAAAAAAAAAAAAAAAAAAAAAAAAAAAAAAAAAAAAAAAAAAAAAAAAAAAAAAAAAAAAAAAAAAAAAAAAAAAAAAAAAAAAAAAAAAAAAAAAAAAAAAAAAAAAAAAAAAAAAAAAAAAAAAAAAAAAAAAAAAAAAAAAAAAAAAAAAAAAAAAAAAAAAAAAAAAAAAAAAAAAAAAAAAAAAAAAAAAAAAAAAAAAAAAAAAAAAAAAAAAAAAAAAAAAAAAAAAAAAAAAAAAAAAAAAAAAAAAAAAAAAAAAAAAAAAAAAAAAAAAAAAAAAAAAAAAAAAAAAAAAAAAAAAAAAAAAAAAAAAAAAAAAAAAAAAAAAAAAAAAAAAAAAAAAAAAAAAAAAAAAAAAAAAAAAAAAAAAAAAAAAAAAAAAAAAAAAAAAAAAAAAAAAAAAAAAAAAAAAAAAAAAAAAAAAAAAAAAAAAAAAAAAAAAAAAAAAAAAAAAAAAAAAAAAAAAAAAAAAAAAAAAAAAAAAAAAAAAAAAAAAAAAAAAAAAAAAAAAAAAAAAAAAAAAAAAAAAAAAAAAAAAAAAAAAAAAAAAAAAAAAAAAAAAAAAAAAAAAAAAAAAAAAAAAAAAAAAAAAAAAAAAAAAAAAAAAAAAAAAAAAAAAAAAAAAAAAAAAAAAAAAAAAAAAAAAAAAAAAAAAAAAAAAAAAAAAAAAAAAAAAAAAAAAAAAAAAAAAAAAAAAAAAAAAAAAAAAAAAAAAAAAAAAAAAAAAAAAAAAAAAAAAAAAAAAAAAAAAAAAAAAAAAAAAAAAAAAAAAAAAAAAAAAAAAAAAAAAAAAAAAAAAAAAAAAAAAAAAAAAAAAAAAAAAAAAAAAAAAAAAAAAAAAAAAAAAAAAAAAAAAAAAAAAAAAAAAAAAAAAAAAAAAAAAAAAAAAAAAAAAAAAAAAAAAAAAAAAAAAAAAAAAAAAAAAAAAAAAAAAAAAAAAAAAAAAAAAAAAAAAAAAAAAAAAAAAAAAAAAAAAAAAAAAAAAAAAAAAAAAAAAAAAAAAAAAAAAAAAAAAAAAAAAAAAAAAAAAAAAAAAAAAAAAAAAAAAAAAAAAAAAAAAAAAAAAAAAAAAAAAAAAAAAAAAAAAAAAAAAAAAAAAAAAAAAAAAAAAAAAAAAAAAAAAAAAAAAAAAAAAAAAAAAAAAAAAAAAAAAAAAAAAAAAAAAAAAAAAAAAAAAAAAAAAAAAAAAAAAAAAAAAAAAAAAAAAAAAAAAAAAAAAAAAAAAAAAAAAAAAAAAAAAAAAAAAAAAAAAAAAAAAAAAAAAAAAAAAAAAAAAAAAAAAAAAAAAAAAAAAAAAAAAAAAAAAAAAAAAAAAAAAAAAAAAAAAAAAAAAAAAAAAAAAAAAAAAAAAAAAAAAAAAAAAMABAADAAAAAAAAAAAAAAAAAAAAAAAAAAAAAwAAAAAAAAAAAAAAAAAAAAAAAAAAAAAAAAAAAAAAAAAAAAAAAAAAAAAAAAADAAAAAAADAAAAAAAAAAAAAAAAAAAAAAAAAAAAAAAAAAAAAAAAAAAAAAAAAAAAAAAAAAAAAAAAAAAAAAAAAAAAAAAAAAAABAADAAAAAAAAAAAAAAAAAAAAAwABAAAAAAAAAAAAAAAAAAAAAAAAAAAAAAAAAAAAAAAAAP///P/+/wEA/f///wQAAAD8//3/AAAAAPv///////v/AQAFAAAAAAADAAQAAwD///z/BAAIAAgAAgD8/wMABwAAAPz//v8AAAAAAAD///j/AQAJAPz/+P/9/wEABAADAPv/+f8AAAAAAAADAAQA9v/x/wAACAD///7/AwACAPn//P8IAAMA/P8DAAYA+//5/wMAEAAHAPz//f/7////CQAAAP3/AQD//wMABAD+//z/AAD6//T/9P/8/wIABwABAPH/8//8//T/8P/0//P/7f/v/wAAAwD3//b//f/3//D/7//x//v/+/8BAA0AAgDt/+7/AAAEAPb/+P8HAAkAEQAWAA4ADwAOAP3/AAAMAP3/AQAdAB4AIwAqAAAA4f8IADcALwDx/83///9LAGcAWAAoAP//+f/8/xYACwDw/ycAPAD3//H/DgD+/wkACgDd/9T/5////xEAIAAgAO//zv/T/8r/5P///8D/ov/E/9P/8/8MAN//pv+I/4r/tP/h//r/1f+o/+j/KgAaABIA8P+t/7z/AgAUAAQACwAiACEAIQA9ACYA7v/9/yQANABBADkALABCAF4AXABNAEgALgAGABEAPABbAFoAGQD3/1QAjgBIACEAIQAJABkANAAXABEAJAD9/9X/6P/s/8H/u//P/7L/sP/L/6T/rv/X/6L/iP+Y/3//h/+d/5v/n/9+/3r/s/+t/6L/tP+k/7D/yP+8/7P/sP/F/9z/vP/Z/wkA3f/W//H/8/8sAFgANAAcACsASwBkAFgAPQAzAFoAkACIAGgAWQBNAG4AowB/AGsAoQCGAGsAhABcAGIAowB4AC8AWQCCAGwAiACeAHAAXwBNACUALQBaAGcAIQD4/xsAAQDd/xYANgAFAPL/6v+x/7P/BQAQAO//4P+v/5//1v/b/6r/m/+b/63/vP+h/5r/sf+4/53/b/9x/53/z//J/1j/Lv+B/7P/lf9t/3P/iv9p/37/6//d/5b/r//I/8T/yP/N/+H/7f/d/8L/vf/M/+3/HAAaAAUABADw/wAAUQBLAPP/AgApAPP/9v83AEsANQDu/+D/PABYACAA7//4/ycAPwBhAFIAKABCADgAEABSAI8ASwANADsAbgB2AGMAWQBwAGIAVABUAF4AjABrAEAAdgCAAFcAWwBVAFQAeABxAFcAPgA1AGEAcwA3ABMAGwADACEARgAgAAcA9v/7/wgA9P/d/9n/9v/3/7f/g/+u/8v/kP+E/2j/U/+f/6P/ef9f/3f/p/9r/2r/rP+J/3P/cf9t/6z/v/+b/5L/e/9t/7z/3f+4/8b/rP+z////FQACAPL/BgAQAAIAEAAxAFoASgAZAC4AXwBlAEYAVgBoAC4AJgBDAGkAdgAWAAAAHQA4AG0AUAAhAAkA7/8YAFgALgAAACUAEwDv/wwAEgAWABMA7f/H/8b/7//w/+n//v/j/6T/pv/Z/wgA+f+g/43/v/+u/6P/8f8AANv/8P/K/7L/DgBDABwA2P/0/y8AHgAdACQAOQBqAFcAEwAWAFEAXgBKAFAASgBKAEgAXwChAJcARAAGACIAfACRAG4AMQAHAFAAgABhAEUABgDa/+b/AAD+/+3/8/++/6r/6v/d/7b/ov98/4n/0f/W/3D/QP90/6b/jv9E/yL/av+f/0T/MP99/6D/rP+X/3X/Zf+R/9T/0f/c/+z/yP/U/xUAHAAYAFsAWADy//r/WwCgAKAAVQBBAHsAjACGAJ4AkgCTAMAAjwBlAL4AzQCtAKQAXQBlAL0AvQBXACIAPgBGAJEAsgAGALj/8/8dAC4AFgDI/2X/wv8YAJ7/gv+x/4r/pv+2/2n/Wf98/5v/sf+K/1v/if+b/1P/UP9m/3v/s/9d/xD/gf/T/6r/kv+y/7H/nv+x/9v/EAAkAPv/2P8DADIAQwA+AOb/7f9tAG4ANQBKAGYAiwB/ADcAaQCqAIAAmgCjAEwAYgCiAJAAiQB7ADgAaQDAAG0AHwBAAGEAUQA2AEsAXQArAPn/8P8HADkAFwC+/9b/6v+0/9H/BADO/5//u/+j/4T/y//0/9f/e/9N/9T/9P+l/8b/uf9a/37/8f8AAMz/kf9w/7D/6f/n/+n/yv/T//n/DQA2ACwACAAmAE4AWQBdAEYAKABTAF8AOABdAGsAUAAvACsAXQBWAGwAkQA5AAsAPQBZADgAHgAlAAgA4P/J/83/2P/X/73/lv+S/7H/yv+w/37/bP9+/5D/wP/G/2//ZP+P/5z/uf+p/3X/d/9+/5f/w/+K/4b/3v+1/7b/AADa/+n/QwA8APf/+v9RAIkAcQBBACsAUABtAFwAaAB4AGcAWQCLAJ8ASgBaAMgAvABjAGcAgwBzAJQAnwB2AGUAZQBqAGcAXQBYAGEAOwAGAC8ATwBHABwAv//Y/yYA7f+//wgA+f+u/8P/1v/X/8f/qv/E/8f/kv9k/27/m/+P/0z/I/8d/x7/Qf9Y/zL/H/8W/yX/eP+Y/2H/Kv9K/6b/vv/K/73/k/+5/+D/7//0/+L/+P8ZAAYAAQA6AEcAKgBSAIAAgwBnAHsAxgCiAJMA7QDwANAA6ADmAM8A0wDlANUAwQCXAHgAsgCVAD0AOgAvADMAPQATAOf/7f8QAAsAJgAXANT/7/8dAA0A3f/f/9b/2v/4/4T/RP+T/7f/vf94/z7/dP+U/5H/u//G/6f/vP/A/7v/4P/N/8P/7//N/6D/s//V/+f/xP+s/63/u//b/9v/0P/O/9j/1P+5/9f/BADk/7z/yv/6//b/0P/d/+//AQAKAN//5f8UAPX/EgBBABEAEwAjABcAJQA6AGoAbQApADEAVgBxAI4AgAB5AHoAhQCdAHIAbQC0AJYAVgBvAFwAOgBtAFwAFAAQAB0AJAA6ACYA+f8OADgAKwAEABwAHADs/xUA9f+9/wYA8P+p/53/sP/K/7r/rP+W/7D/y/+e/6f/uP/B/9P/zv/W/8//uP/Y/0oASwDV/+P/HAAmADUALgAKAP3/FAA7AEoA7f/W/0AAIQD9/xYAAAAQAP3/CgA3APz/BQAJAKn/3f89AA4Awv+s/7f/6P/0/7L/vP/B/4v/mf/J/9f/t/+a/4X/j//1//j/eP+S//T/3f/G/7n/wP/d/9z/+//k/8P/4//3/wAA3f/j/wgA5v/s/xIA8v/n//7/9P8CAAsA6f/T/w8ANQDL/8X/FAAOAAoAAQDT/9P/HgAuAO7/+P8oABkAHABgAF8AOQCNAMYAhwB/AJ8AmwC9AKsAdgCkAK8AlACEAGkAsgDjAI0AcQCWAKwAzACdAFAAkQDCAIgAVwBCADQAQgA1AAkA8v/T/8H/zv/k/87/eP8//17/jv+i/4n/Rf8C/xr/Y/92/2v/Hv/0/kX/N/8N/2v/X//5/hf/ZP9Y/y//Uf+f/4X/QP+H/9T/nf+S/9z/7f/s/xYADQDU/wkAXgBVABkAJABmADoAOgB2AFQAawB3AFMAdwCAAIEAoACeAHkAUgBnAKEAyQCeACwANACMAI8AfgB4AGAANAAeAEEAbgBjADYAEgAYADwAPgBBACsA2v/j/yIAEADW/87/4//a//j/2P+p/wYACwCg/6P/8f/a/6P/z//W/6D/lP+k/5z/kP+Y/4r/b/96/7P/z//N/7T/lP/K//X/1//W/w8AFAC8/7v/+/8aACAA0P+6//n/8P8WAE8A+//k/0gAWQBSAEsAJgBCAH0AeQAsABkAVACPAKUAQQAAAGEAhABQAEoAZABlADsAKwBMAGIARwAmACwAMgApACYACQAqAEsAFAAbAP//k//T/yoA6P+7/5L/g//J/9j/rv+Z/5n/o/+m/8b/wv+V/6D/wP/J/5v/df+4//T/pf9r/6D/sP/L/9r/af92/wIA9v++/8v/1v/7/x0A/P8QAEMAGQAXADkADwAAADIAVgA9AAgAHgBMAFQAbQBXABcAIgBZAHcAUQAiADAAIwAkAHkAVAAKADAAIQBIAFUA8/8IABsAEQBKABIAyP8QACsA9f8WABsAx/+9//v/IgAEAND/pf/D/xkA8//G/+f/wP+y/xAAKADF/6j/xf/d/xAA8/++/6f/tP8kADgA2f/J/9f/CQBKAB0A/P8QAAUAGQAxAAcAIwA4APj/AQA/AEwAGQDz/xcAOwA4AA0A/P8WAOj/4v8hAAcAzP/k/wQA3f/P/wUABgDD/6H/3v8RAN7/tP/a/9z/rP/X//7/5f/X/7X/wv/a/8j/AgANAKz/jv/j/zwACwC7/8D/6f8WAAoA6//1/+v/5/8HAAIA4f/4/w4ABwAJAPT/CQAuAPH/5/8zADoAGAAYABUAHwA2ADYAKwALAB4ANgAPAC4AWwBDAD4AOwBIAEQANgCCAI8ARgA6AFAAXAB4AJMAeQBJADkAOABdAIMAYQAlAAYAHwAzABYAHwA3AAcAyv/X//X/3f/V//j/xf9u/43/tv/A/73/gP91/2z/Vv+Y/53/d/9S/yr/ef/E/5L/Vv9n/6f/oP9+/63/nP97/8f/4v+1/7X/uP/A/8n/4f8xACMAx//C/w8AVgBSACwAJwAtADgAXwB2AFwATABfAEkALgBQAIYAdgA5ADcARwBUAFcANQAsADMANQA6ABQACwAyACoACAApAEAABwD1//P/6P8kAD0A+v/G/6H/tv8YADUA7v+n/5P/zf/7//z/EwDq/5r/y/8nAB8A7//x/9r/uf8VADQA0f/F//r/CgAiABYA6P/r/wgAKgA2ABUAEwAmAA0ADQAmAC0ASAA1AOP/6v87AEkAPwBBABQAAgAwAFYAVABcAFgAFwAEAEYAagBxAEcA9f8IADIANABDABQA0f/l/wUAEQAfAAsA8f/t/w0AFADy//f/4v/F/+L/2P+//8L/xv/f/8j/lv+i/7//zv/D/6P/kv+i/6T/uP8OANL/NP+K/x8A6/+0/9j/8f/J/63/GwB7ADQAzP/T/0UAhABfAC0AAwAxAG4AdgCFADAALQCsAHAANgB8AG4AgwCdADcA//9OAKsAZADs//f/IwAwABoA6v////j/uP/Q//P/6/+4/4H/y//V/3r/pf/B/3n/j//F/7D/rf+S/3T/w//R/5j/xv+j/1r/xP8VANX/nf+8/+X/1v/p/wwA5P/M/+P/AwACAN3/+v8dABYAIwD2/9v/PgBGAPf/+f8MAA0AHQAXAAAACQAkACsABwDy/ygAIgDt/ykAPQACABMAGAARACYA8v/x/ycABgAHACoADgDr//P/IQAiAP3/DwALAOX//P8qABoA2v/c/xEAFQACAPn/6P8MADcA+P/c/xcAGAAWABMA4P8FABoA1f/5/yIAFgA7AAUA0f8/AF4AIwApABgADgAvACgAIAA1ACEAAwAnADsAGgAqADQACgADAB0ALQAgAAcA9v8AADkAPAD9/9////86ADUA7v+8/7v/CAA5AND/pP+x/3z/1P8VAJT/if+s/4f/sv+7/6j/l/9k/5H/uf+B/2n/dv+k/7D/g/+T/5T/cP+a/9z/AADE/3f/yv8AAPH/JwAoAOP/tP/g/24AgQAaAP7/BQAhAGwAkwBUADgAhAB2ADQAZQCxAMMAkgBJAHEAzQC9AH8AdACGAJIAjACVAHgAWgCMAJIASwA8AGgAawBMAEcALQADAP7/8P8aAEEA8P+L/5D/9v8GALr/xf/X/4z/ff+9/8X/qP+p/5v/jP+c/43/pv/m/6T/Sf95/7r/qf+5/8T/jf+L/7b/zP/i/9X/r//P//D/BwAfANb/yf8ZADUALQD4/wEAOQAYAEEAbgAWAAAALwBJAG8AbgA3AAUANwCXAH8AOQAqAB0AUgCkAFcACwAvADMAMgBAACAADgAzAD0AAwAAAC4A9/+m/9z/CADX/93/wf+E/8r/+f/X/6z/dP+M/+P///+4/3L/mv/c/+b/x/+b/63/3//3//D/r/+F/87/DAAAABcA+/+G/53/GwAvAA0AAADH/6f/AwBoAGoACQC7/8X/BABhAFoA+v/p//j/AwA9AEAA+f/4/yYACwDw/xEAKQBAAEkA+v+x//v/UgApAAkA9f/L//X/MAA+AEAAKgAGAPn/HgBWAF0AQgAmAAUAIgCCAIEALgAbAD8AZABcAEMAOwA1AFYATwAiACoAIwAnAFAAPQATAA0AGQAfAA8ADgAyAAgAsv/r/y4AAADf/93/v/+l/9r/CQDO/7z/xP+L/6H/9v/6/8j/p/9+/3v/yP/o/6H/hP+n/6j/tv/O/6P/sf/s/7D/if/o/wAAwv/Y/+v/0v/t//H/BgAqAP3/3v/m/wsAMAD7/9j/+//+//j/AgBGAFgAvf+g/zgARgA9ADQAxP/G/xUAQwBNAAYA4v/n/xMAbQD9/6P/BwAYAAgAGADm/9L/DQBKADkA2//O/x8AKQAgAEgAKwD+//L/BwBpAJ0AQwDk/wQATgBcAHkAXgDh/9H/SQCIAEQAEQAYABwAKQAgACsAUQAxAA8AGgAbAEkAQwDz/xcAQgAKAAoAFgDz//D////9/+///v/r/5r/xP8ZAAsA5v+n/4X/wv/o/93/zP+b/37/tf/m/7f/jf+6/7j/mv+6/5//af+c//n/7v+E/1n/gP+//+f/rv+T/6X/jv+9/93/wP/O/8v/wP/M/7v/zf8UACYA4P+0/9D/CgBKACoA6P/x/yAAVQBRACwAMQBKAHEAeQBPAEgAawB0AFkAOwBJAGYAXQBJACwAOQBwAHIARgA6ADoAVQCIAF8AFQA6AHYAdQBbACsAHQBAAFAAXQBDAAEAJABcAAsA3P9FAEYA2f8GAB0Auv/t/zMABwD//8v/uv8TABkA5P/k/+H/xv/M//7/EgD3/8L/p//o//z/3v/5/8n/nP/W/+z/2P/F/8//xf+m/9n/1/+i/8f/yv+w/9D/3//I/9L/+f/u/9L/4v/8/wEA5P/p/wcA9/8AAAkA3f/b//7/EAA3ABkAs//Z/zQAKwAHAN7/5v8MAN3/wP/1/xAABQDf/8X/+P8aAPr/4//o//f/BgD4//P/DwATABAACwDx/wAAFAD5/x4AQgDw/9P/JwA9ACoAKwARABcAMwAfACEARgAvAAoAJABIAC4AJQBHAEAAGQARAEEAVgBHAD4AOAA+AA8ACgCNAJYACwDX//T/QABsACAA3v/g/wsAEgDg/+H/+//L/6L/+P8kAN3/yf+6/7f/GAAkAN3/tP+Z/+T/MgDT/3z/u//i/5L/jv/p/9j/nf+b/6T/uP/d//T/0v+e/7////8NAAoAAAAUABcA8f8UAFcANwAAAAkAIwAsAD4AUAAYAPn/KQA+AEAAMgAKAP7/JwBCACYAFgD5//z/YAA2AKb/3v8pAPD/xP/U/+f/sf+q/+H/u/+o/7P/j/+J/5L/qv+9/5b/cf+M/7v/xv/Q/9H/hv9e/8v/KADx/67/1//p/+z/QgBLAAMACQATABwAUwBtAIMAeAAbAAgAgADEAJMAXQBMAFwAhACdAIYAcgCLAH0APQBYALUAtgBtAFMARABcAIMAUABGAG0ASQAkAB8AJABIAEwAEACz/7//MQAjAKn/of/3//3/wv+t/7D/6f8SALz/kP+u/9b/FgDG/zT/jv8WANX/Z/9z/7r/0//B/4T/dv/G/8L/fv+r/9j/rP+l/7//rv+8/wwA3/92/9j/KQDb/7j/tv8EAGAA2/+V/xcAVQBZACwA6/8kAH8AcQBDAGMAfgBhAG8AeQBiAGYAeQBpAC8ARQBwAFkAbQBRACwAfQBbACsAlgCAABoAHwBAAFMAKwDe/+//EgDc/6X/vv/c/8H/jv9k/17/qP/H/2r/TP9S/zb/df+h/1f/L/9E/1L/cf+J/2b/Sf9l/2j/jP+7/43/gP+0/8X/zf/X/87/4f8KABwACgAfAEUATgBqAHQATwBdAJAAoQCiAHkAYgCKAKIAtADCAKcAgQCEALAA1ADLAKAAbQBtAKMAxACWADEARgCcAGQALgA8ADoANwAQAAAADADk/9D/8v/8/8T/qP+4/6n/t//a/7T/gP95/6r/1/+r/3X/dP+S/63/iv9T/3v/t/9+/1v/kP+B/4P/w/+5/6H/n/++//b/4//l/wcA6P/u/wwACAAiAAcA2v8gADcA+//w/woAMAAnAO7/GgBsAD4ALwBpAGYAdQCOAG0AYQBnAH4AjgBIAD0AZgAMAAcAZgAbANT/7//9/xoADADQ/8r/8f8XACEAFAAKAOj/wv/r/z0AIAC2/5r/yf/j/8P/sv/R/8f/m/+3/9P/p//O/xkA2v+t/83/6f8/AEAA4P/N//b/HQAfACQAHQDs/wAACwACAEYAIADe/w0AGgD3/+//DwAaAAgAFgDn/+3/MQD0/wQAIQDH/+f/DgDy/xQA/P/S//f/BwDh/83/CAAcAPL/+//x//f/IgAOABoAAADN/xYALgAUAAEAy/8NAEAADwAIAP3/IgBLADMAFgDk/0AAqAAUAPv/bABVAD8AKwAYAEQAXABFACoAIQACABcAUwARAPD/IQD5/wQALgD5/+//EwD7/7X/4v9FAOP/gv/S/9j/wP/g/7b/ov/L/8//uv+j/9n/HgDG/2f/p/8EAPb/nP+V/7X/sv/J/83/wv/J/7f/o/+j/9H/6v+z/8L/9//Q/8f/BAAJANv/7v8vABkA4P/o/xAALQATAOj/7v8nADoAAwABACAAIQBCAEIAJgBfAHoARABhAI8AagBMAFgAfwCYAHIAYgCNAJMAcABvAIcAfAByAGoASwA/AEgAaQBlAA0A3v8JACwABQDG/97/AQDI/6T/s//B/8z/w/+q/4b/gv+w/+D/2/+D/2z/vv/E/5n/i/+i/8r/kv9p/6b/qv+O/6//4P/C/3H/s/8VAN3/zv8KAA8A4f/B//r/PwA4ABEA5//r/x0AMABMADkA8P8AAC4ALQA1ACIARAA/AO3/HwA+ADYAYQAqAP7/AQAlAF0AIQA2AC8Axf8cAE4ADgD7/+D/6f/v/wMADADX//3/DADD/8P/BAAZAP3/8/8FAAMA7f/z/w0ABgAFAO3/vv/Z/+r/5v/m/9H/wv/G/+L/3//k/xcA8v+w/9//KQAhABAAFADu/woALgAAAPr/BwD///b/+f8IAPj/5//u/wYAFQD7/+b//v82AE8AKQDx//v/PQBPAEMAIADt//n//P8EADYA9/+f/83/4//H//T/DADS/5D/t//9/wAA/f/c//H/GgD4//X/CAAcABoA7//W//r/IgARAAwA7f/d/x0AFwAOAB4AFgAJAAAANABAADoAOgDq/xsAlgB0ABIA4v8uAIoAbwA0ABsAFgAnAEAASAAmAPj/6//2/w8AEQDq/9H/v/+1/+T//f+2/6X/2P/K/8r/1v/N/9b/2P/q/7//mP/m//z/0v+W/6D/EQAAAK3/qf/J//L/6f/n/+7/2P/h/xcAPwApAPH/5/8hAFEAUQAnAPb/FgBaAFgAMwAfACgAKQA6AEgAIQApAEMAEQALAEkAKQAAADUALgDm/xIAVQANANb/2P/7/xgA3v/R/+b/0v/e/9D/yP/h/9L/3//I/4z/u//S/7D/xP+4/6D/vv/E/8P/0P/f//L/7P/f/+L/9P8cAC4AFgABANz/5v8QAC4ATgAdAPj/BAAFAEUAggBrAEIAJgAyAEsAcQCoAJEAVABHAE0AWgCBAJUAVQAtADIAOABcAEwAJABGADwABQAYAC8AOwA7AB8AJQA2AB0A+f/1/yMAEQC8/8//4P+1/9j/2f+5/9L/v/+t/7z/qf+4/9f/tv+V/8f/1v+Q/8D/+v+r/57/2v/b/7P/pf/d/9L/mP+7/7r/x/8RANj/if/Z/x0ABQD9//7/1//l/zYAQQD8//L/IAAaAAcANwAxAPT/MgBXAA4ABAA8AGoAWQAhAAAABQA8AHIAcgAaANH/IABKAD8ARAD+/wcAPwD8//z/RAAEAMn/KgBCALv/tv8wACkA1v/x//P/xf8KAAEAqf/b/xwADAC4/8D/DgD7/xcADADl/xQA8f/4/zIAHAA4ABwA1P///xcAGAAbAAUACwABABEANgAHACwAUADy/xgAQgAXADYAKgAIAA4AKgAXAM7/DgBGAAcA/P/z/+H/xv/f/y8A8P+z/+3/2f+u/9X/CAD+/8v/uf+w/9H/AgDg/7P/t//A/7D/rP/b/87/mf+6/8v/u//D/7f/2P/4/73/lv+0/+v/IwANAKf/qf8PAAoA8/8vAB4A5/8HADkAPwBFADAAAAAvAHEAMQALAEAARwAxAEsAWgAPACEAfQBMABkASgBHADIASQBHABUADgBfAEgA9P8SADoAVQBZACQALgA6AAMA9v9AAFcAAADn////1//+/ysA1//K//n//v/f/7f/7/8QAKf/o//y/9T/m/+k/67/pv/b/9f/nP+a/5P/uf8SAMz/j//8/9f/kv8hAEEAt/+9/wAA6f/+/yIA7P/T//b/DQAeAAsAFQBDABYA0f8LAHoARADO//3/TABEACwALQAxAP3/DABlACYA8f9JACEA1P9hAH0Awf/A/xgABAAXABkA2//1//L/y/85ADsArf8EAFUAxv/P/zYABgAJACEAvv+v/wAALAANALL/zf8PAPf/AADz/8n/7f/8/woAUwAWAF3/rf+/AIEAt//2//T/vv+5AKIAWv/4/6YA9v/4/1MANwD7/9X/OAB2ABsA8v8NACgANQBaAFYA0f+p/1gAoQD//+7/NgCN/4H/wAAqAU3/Hv46AAkBo/+r/3X/bf6y/wACq/+j/AIAFgJX/5/+sP9IAEIA1P+4/43/w/87APH/YP+K//j/x/+H/6b/+P/3/23/Xf/P/1MAVwB7/6b/zwAfABX/VABcAWYAZf9x/zUAEwHmAJf/P/9RAJ0AIgAcAOT/qv+pABUB3v95/9//XgCUAVEBJf9c/l8AUwIiAf/+Fv8bAHMABAHuANP+nv6AAWsB3f4///0A+gBz/wX/egDCADcAw/8H/wMAjwDR/1sA8f8W/ysAdwCg//D/WwDE/8P/JgDk/xwAPQDO//r/LACP/0X/YQDPAMD/Zv+m//f/ewBOAJP/c/8tAIcADgCk/9n/agBQAOv/BADp/xQAcwAlAPP/1/8JAJEAFgCE/8n/gwDKAML/af8GADoAfAAxAI3/xf9QAEQAy//1/zIAz//F/wQAMAArAKj/lf8zADcAqv+x/yoAPAC2/5z/MQAyAMf/vv/f/9T/5P8MANb/3f8HAL//u//w/+L/z//e/8P/lv/a/xUA5f/I/67/g/8BAG8At/9g/9n//f8OABoA0P98/9j/ZQDm/6X/9P+0//3/NACz/+T/7/+P/x8ATQCk/8v/JgD//wgAEwAEACcAIQAnAFwALQAhAFUAOABMACMA8f9TADQA8f8YADoAWAAcAML/IQC2AF0APABLAAQAagBzALwAtwDA/0oAUQDx/9kAUQDE/0wAyv+K/3sAlQDP/47/s/8+AC4AtP8ZAOv/nv9DAPj/mf81AKn/iP+JALr/WP/k/4j/1f/9/8//WP8B/y0ABQCA/9//Of/5/3IARf+i/yEAxv/i/zQAlf9n/1QAu/9HAEoAhv6mALMA9v7EAAMA6P7/AM8Apf4TAKIAQv99AXj/Jf7nAQEA2v+3AE3+TgB7AYH/qP9hAMr/YAAQAOv+NwH8ANn+dgAgAMT+GwFkATn/+P8cAAP/twBVAX7/zv+p/wD/XgG7AMv+WwABAJv/ogDL/8r/sgDD/xQAlQFg/VD+hAXZ/+v89gAB/kwB9AIj/oMAY/93/OMCIwOF/pMA8Pwj/nUFnwBL/1L/TPyxApMDW/64/2r/ef7AAYIBQgCd/+j9Xf8zAR8C8ACx/Xv9tQCeAbr/6ADr/hX9VgKLAcv8L/9WATQAgQGv/in8aAAEAUMC0P6A+jkFUAGx+PUDyf7Q+/8JFQFG94b8qgCCCNcE6vnE/IL9OP97ChUDufcGAO3/X/6/BmYCP/xe/h3/SgLfA9v/+P0w/v8ALgTh/1n9BgFpAJb/3AAYAZoAp/3G/u8AnQJ/AcT6fv97AXP/1AJx/UgAW/6b+/MGgP82/VEBO/yoAB8CmwFv/FD9SgM+AIcEcPpU+L4GRQSfA8L2o/ZNC1oFPfxW+c//rAVz/f0A1P+o/MsAqP+fAlQA//t2/3wCYQGS/mb/4/5nAKQCwv0m/hEC/P70/roBqP5i/zsA//0gAbYAWP9H/0v/TAGK/8YAjv9r/pEC7/4q/9ABQv+8AIYAGP/GANAApP7P/zcDvwAS/hcA4P9aARcDef41/64Ah/6eA2gDS/1k/ugBPwKQAEf/L/+2AZ0BNP/EAHwBrP90/5EB1wAEAHoBDwCxANn/Xv0FAvsDf/6Q/SYBLACaAHUBn/3G/mgB+gCoAOT9cv3ZAe8BjP5E/6r/WP/TAL0Awv4V/gMB9/8Z/v7/Zf5hAJ4BiPzo/FT/yP/VAfAA3vwZ/aP/egDIAEf/4v7l/yoARAAIADL/8/0WAOYAG//kABUBcf6R/TwAbgEo/7n/RADv/3YA8f+x/wIAJQAMAKsAqQDBAOEAxf9lACUAT//VAOABiAA+/ycAGABoALwAW//a/54AgACw/yX/WAD9ACQAOv/w/10Au//9/yUAbP8k/xcAXADy/47/L//5/+D/AQCTAMj++f/9ASQAwP8m/3D/9gGLACT/EQBrALcAJAD0/+EALQFUABsAyQCrAJ4AeACMANoAvP/V/64ANwDkAC4BCgAgADoBpAEEABL/swDpAIH/df9oAAUA1v5J/z0AbgDa/9b+cf+bAKX/E/8MAJ3/p/4B/83/Vf9r/t3+gv/8/3P/1P5L/0j/4v/c/0P/bf/T/u7+T/84/2n/oP8AACz/d/55/5oA0AB1/77+y/+WAHoAdv9R/ykAIQCDAJwAv//8/3AAxQDvADEAp//R/6wAHgGpACMAxf9UANgAtAB8ABIAXwCkANMAjwDL/68AmADo/1YAKQDbAJYAfP87AIYAcADX/2H/hgD4AJ0Az/9A/9H/VwBRALX/8f+oACgAqv+l//L/FwD6/0MAGgCa/2P/1/8GAHf/sv88/wL/qwA0AN7+dP8TALkAUgAW/5b/EgDC/34AKgD8/vP/SQCn/1wALACZ//j/UwDlADAAI//8/4wAAADk//X/jP8YAKIA8v8hABMAzv87AOn/TwApACP/CQBiAIf/Yf/D/yoATQAAADP/tf9dAOj/FgDG/+H/SwCG//T/VQDH/8D/5v9CADEABQDH/7P/YwAAAMb/UAAdACwA9v8TAMEAIwC1/+z/dAD6ACkAtv/t/xoAiwA9AAwAbwA/AM3/FgB3AB0ADwCu/9j/sgDk/5D/0P/a/1cAw//G/yAAAgAmAFn/tP9DAI//8f/I/5X/IQB8/4v/RQDK/0H/TP/B/5MAhgBQ/+b+l/8aAB8Avf+i//f/DgC2/0X/sP9EACAADQCV/3T/NwAZABAANAB8/4//6f/7/3MAQQDG//L/VAB2AFMABADY/1MAwwCLACsA1P8OAEUASwC1AE4A3f9dAJMAIgAIAKcAugC7/yP/JgABAXIA9v+E/8//twAuAIT/5f9uAF4A2P9j/5X/PwAoALP/lP+P/8r/+/8NAPz/O/9J/4UASgCz/+D/Xf/0/5oA9v8YAKD/Vv+BAI4AFQD5/5P/l/8cALgAgABS/0X/uQANAbD/cf9wADQAsv+ZALwARv+i/+4AQwCS/+7/cAAkAKL/cQDAAJz/5/61/7EAWACQ/xv/vP9mAPL/q/8k/2L/ogBtAGz/6f4v/zwAvwDa/6T++v5mAOgASACD/1D/4P+WAMAAv//1/kIAJwH//zX/yf8nAAYAbACmACoAvP/3/4wAswBoANH/NQDhAE8AKwAwAIIA7wDv/y8AGgGfAFAABQBXALgAHAAEAPP/KQCPABoAwP/s/40AgQDi/6b//f+mANf/k/8QAP/+qv/VAAYAP//g/qr/bQANAIv/Tv+h/5T/4P8YAET/P/9W/7T/MwBy/2//2v+R/4L/9P/Z/y3/2/8ZAK3/PACr/1r//f/j/yIA8v+//xkA7P85AHQAFQC5/9n/zQDMAAcA+v8DAF0AtgB9AAcAxf+QACYBgQAfAEAAngAGAXsA0/88AJcAgAChAB4A8P+fABYAAAAEAXAA2P8IAOP/ZQBJAH7/zf/L/7b/HACa/5D/zP+j/w0Anf9W//L/kf9O/1v/bP+o/5P/q/82/xb/v//O/9P/h/+A/97/e/+P/9//tP9v/5r/zf+F/0cACgAq//n/0v/4/2MAf//T/xcAAABOAPX/7v8WADcAOwAnAEQAFQAiADUAcgCEAA4ACQDJ/1sANAFSAMz/9/89AM4A1AANAJ3/ggB4ABwAxgAoAPf/nwApAOz/ZwCYADgARgAyAP//nQAjAOT/aQDg/wkAVQDk/wIAJwCs/5b/bABkAPn/JQDP/wQANQDn/wQArv/W/zkA5v/A/63/4/8oACEADAD8/+//wf8fADMAyv/r/1L/Vf97AGIA1v+Y/7v/HQAvAIAARwCY/5j/BABcAN3/df+h/8v/JwC+/5H/QgA5AAQAyf/e/ygAzP/c/7v/lP8RALD/Uf/j/zcAzP+K/9X/2v8TAEQA+/+W/yj/1P86AKL/zv97/3b/hgBXAL//1f/T/xkA1gA+AE7/AAAaAOb/UQD8/9P/8P8gAH0AewBIAA4AeQBFAML/nABmANX/LwC+/87/egBBAPP/SABKABIAbwBFAEoAewDB/x8AmQD2/+3/GwBAACYAx/9UAHcAyP8VAFoAIwBuAC0As//x/zQAZQAIAKz/6v/n/0UAbAC5/8v/QwD//83/KAALAND/9//G/9z/xv9t/8P/tv+O/7L/xP/V/3v/of8QAPP/AACM/yv/6v8iAJ7/kv+k/6D/3f/8/93/1f8dAE8AMQAOAMr/DgBdAM7/HgBGAIv//v+KAGYAOAAqAE0AXgCFAJAAggA5APP/MgAJABYAPwD1/38ATQCz/zAAXABGAO//4/9EAPn/t//A/wUA7P9q/+L/JQD9/yEAxv+9/y8AFgCe/5X/+v/Y/77/9v+q/4j/y//6//r/8v/n/8n/RwBeAJb/fv/R/1AAPQBQ/57/WgAzAOL/kP/G/04AZADr/3X/wv8VAFcAJABk/6z/GQBIAFoAvv+r/+7/GwBNAAoA1v/5/0sAGgC6/xMAbACjABsAeP8JAEIATgB7AOL/ff8VAIQA3f/+/6gAEwDS/wMAEgBZADEA2//r/wYA7P8bAOv/zf+jAEoA3P85ALr/4v84ABcAFQBl/2f/8P/z/w8AFwD7/6n/l/8QAIYAVQCv/9j/wP9m/zsAfwDc/5j/zv8FAOT/LwCwAHMAyP+T/xwAdwB3AE4A2P+N/wsAugCNACsAzf8AAJQAGQBIAMoAHgD//xsACABBAGYASgD1//j/4P9TAKsAn//x/04Agf/m/wEACgBOAK//iv+X/+v/TgCs/6P/IQDG/3H/KgCBAIT/WP/w/yYA+v9P/67/MAC4/7b/g/92//3/BQCa/y3/8v9aAE//nP87AND/c/9W/wwAMQBi/33/BwDb/2n/t/8aAPT/qP9//w4AKACR/4X/z/85ANz/p/8lAOP//v/8/wEAZQCz/wQAYQDH/xsA3v81AAkB7P9n/3MAygA2ADsAfwBnAFMA7v+IADIBbwARAAsAzwA3ASIAkwAaATYABwCNAB0BuwBAAIYAdwCMAGsAXAAtAa8ArP8DACoAdADEAAgAyv/O/1v/AAC4ACgAov9A/y3/BwAAAEv/xf++//v+BP+m/xcAL//N/t3/xf/0/qj+gv9bAE3/nP5b/9r/P//j/h4A/v+9/mj/WgDf/wP/hf9FAOn/bP9Y/yEAGwBn/xUAMAD3/xEA3/9sAFMAAgCpAHwAyP/j/3QAUwAwAKkAKgDg/8sA5gBdAF4A1QAiAYUA7v+GACIBnAAOAHsAtwAyAD8AwgDcAGIA+P+SANsAVgAuADoAiQBGAML/PgBzADQA6v/k/3wATwCY/53/PAA1AHb/1v8vAHz/Wv/J/zYA9P8h/y7/yf/+/6T/eP/I/1f/Mf81AAgAQv+F/3T/Y//l//n/jP9Q/7H/4f/O/8//3P8PAH//Y/9GACsA9P/V/2b/4f9RAOj/uf8mAPv/f//2/zoADAD6/+T/9f/Z/97/BQAQACAA5P/B/7r/0f9eACsAb/+7/w8A3v9AADkAuv/O/7L/BQCWAO3/W//N/1MATwATAND/xf+WALAA2P++/z4AsQBFAMX/IAB/AFQAEwCcAK0A4P8WAN8A6QAGANz/pQBvAE0AhQAdAPL/RACTAEQACgAfAAIARAAcAA8AfADr/5n/JgBuAPj/Rf/N/5AA9v9W/6r/8v+Y/6L/4/+J/33/0P/X/6D/c/+7/9v/lP/C/7n/qv8RAJb/dv9tAO//xf62/7sAov98/zIAdP+s/3gA3P91/+3/RADk/83/JwABAOL/+v99AGQAhf8PAMAAOgDt/ywAYAA+AEMATgAKAA8AbQCZADsAJwBXADMAagCIAHEAWQD9/1MAmQADADkA9QCUAOv/GABOAIcAwwBGAOj/8f/m/04AsAAxAKX/0v8hAAYA//9PADMA3//v/6z/u/98ACIAUv/E/yoAif9t/w4ACgC8/4//af+g/8T//P8RAFH/+/6f/xkAv/9Y/7r/pP86/6v/p/9q//r/zv8s/47/lf9B/ywACQC3/jf/1v/l/yYAbv9V/83/nv8RAAMAdv/X/wEAtf+Y/xkAeADd/5r/MwBzACEAQABQANr/KgB8AB4ANgBFACgAgQCQAB4AKACXAJQAYQBKAF0AcgBqAGgAQgCDAKUAOABeAHMAPAB8AJIAKgDe/1gAxAAvAOv/NgBTAFQAEwD9/z4APAAzADIA5f/1/xYA5v8cACIA1f/R/8r/4P8YABIA0//L/xQALgDw/+P/DQDj//f/NwAIABIADwDh//3/EwAuAAsA0//m/xAAbQAgAJH/x/8XAFIAJgCv/6P///8qAAoA+v+j/7z/PADr/67/0v/V/6b/iv8XABYAdP90/9H/9/+Z/23/1/8IAKz/S/+1/xYA9P/e/5n/mv/0/xAACADS/6j/4f/q/+P/JADx/8H/AwAKACQA7f+4/zMAOQAZABUAAgA2ACEAPQBVAPf/8v8lAFQAPQDl/+X/NgBhAAgA8/86AAMA//9gAEEA1f/h/xkANAD7/6L/OgBwAK//r//z/08AiwDH/4P/9P84AEEA5f+8/wkAJQDQ/7H/KQBDAMP/of/r/ysAEADE/+D/EgDx////KwAFALD/y/9ZADsAwf/P/wMAIQAEAOj/DAD8/83/8P8oAA0Az//T/wAACQD2/w4AKgD//8X/6/9WABsAo//4/0oAEQDm/woAPwBFABwA6f/s/0QAZAAUABAAHwDn/zsAjAApAA0AIgD+/xMAYgA1ALr/EAB7APv/s/8sAFoABADo//b/8P/o/xAAIQDd/+//5f+7/w8AIQDn/5D/mv8ZAN//pf+s/6P/6f/a/9j/of9i//b/CwDo/+v/kv+x//T/AADs/87/2//I/+n/HwAYAAgA8P/N/xIAYQD6/+v/VAD+/8z/QwBlAAwA5/85AEMAIQA3AEQAKQDd/zIAsAAzAPX/KwAAAD4AhQAlAPT/BwA9AC0A8f9AAEgABQDl/8X/WACRAAQAzP+y/w4AjAA1ALT/2/8sAO7/AwBOAPf/5P/D/7j/QQApALn/pv/k/zsAAACD/6j//P/0/xAABACR/7r////Q/wgA/P9Z/63/MwDH/6z/2v/S/+T/0P/Q//L/EwAPAM//x//X/xgAHQDw/xcAzf+2//3/GgBXAOn/mf8NADcAFgD//zoA8/+h/0gAOgDa/xUAHwDX/8f/NAAWAPv/XgD3/5P/1v9dAGkA3f/r/9//DABRANn/UwBWAJf/EgBMADQALwAAADkAEwD9/zkASQBZACMAFQAKAAQAVgBFAC0AAQD3/1QAEAD9/0YAOgBFAAMABwA8AAwAZQBEALL/HQBTAPb/BAAEAPT/YgAvAH7/yP9DAEwABwCT/63/8/8NABkAv/+7/+j/vf/M//H/8P/E/4//tv/x/9f/wf/V/8n/j/+j/wwAHgDZ/5z/lv/j//7/9P/o/7L/uP/O////LADr/6v/xP/6/8v/wP88APj/qv/p/9r/BQD//97/IQDq/7r/DQBNACcAw//Y/x8AJQArADIADgDJ/+v/LQBAAEUA/P/8/0oAQQA3ADMAOgBSACkALgA+ACUAOwBAAFAAQgAFABcALQBSAG0AAADt/0cAJADw/yYALgAuAFgA+v/M/ycAWQBgAPD/8P+BAAcA3v97AGEABwDr/wgAOgA7AAcABQA+ACAAKgAyAN7/AABSAFAA5P/D/y4ABADu/wQA5f8kANP/ZP/k/yMAx/+L/5D/uv/3/7j/c//G/6X/gv+w/4X/of+d/1n/iv+w/33/ff/G/4j/YP+r/3r/j/+T/zX/uP/1/1v/Wv+1/7D/x/8QAMv/fv+7/+7/KgD4/5//CgADAKX/IQCPAEEAx//M/00AkgCGAFEA9P8YAKMAwQBvACcAQQB9AIUAgwB8AHYAmwCgAF0ATACUAKQAfAB6AFIAMwCHAMoAhwBCADoAKgBBAIIAlwBkAOr/5v9lAGoAGwAEAPf/0P/7/ykA3P/U/wMAz/+8/97/0P+5/8L/w/+7/+b/zP90/5//2v/R/7H/nv+6/4j/hv8EANv/Tf+C/9n/wf/o/9j/Xv+o/w4A7f/p/7z/k//L/+r/FAAmALD/lf8OACcABgD7/7j/3P9EAPX/mf/+/0wAHgAAANv/6P8mADoAUAARAKv/9f9WADUAMwAhAMf/AwCBABgA2f9MACEA9P9FACMA9P8fABYAEQAXAPb/EQBOAC8A7P/o/y8AfAA5AK3/z/9RAD8AJgAsANb/4/9PAD8ADQD7/+7/IAAqAOP/0P/5/yoAPQD//8L/5f88AEsAFADp/9j/FQBKAPz/xf8FAC0A+f/U/+3/6f/1/wAA0f/c/wIA2v/C//H/EQDR/5X/4v8LAL//sP/c/93///8fAMT/c//k/2sALACx/6L/4/8eABsAEwApAPL/tP8PAG4AJADb/ygAcwA/AP7/LQCGAGgALABZAGMAKQBGAHMATQBsAIsAJQARAGIAbQBcAGUAUAAKABkAYwAzAA4ATQBCAPr/AAAdAAYACAAdAPn/1P/D/97/GAD3/7v/1//r/5z/fP/j/wwAqv9j/5r/1v+5/4j/ev+a/5v/fv+M/3j/hP+6/5r/Z/+G/+f/vP88/3T/2//Z/67/gP+B/7L//P/a/4v/6v8AAKz/w//x/xsAHADm/+L/BgApABwAOQBlAAIA4P9QAJMAagAxAEAASABFAIkAgABFAFgAbgCEAFQAOwCsAIsAEQAcAGUAoQBbAAsATAA2APn/PgBOABkAIwAMALv/DgB4APn/zv8WAMz/u/8MABgACAC//5f/7P/9/97/6f/n/7//l//q/zEA1/+t/9r/BwDV/5//BgDy/7r/EgDP/4r/7P8jABAAvf+x//H/HwAmAN7/+P8gANX/FwBQAPb/3//5/xgAKgAiAAQAvv/k/0YAGwDp/wUA/P/w/woAEQAMAPn/4f/4/y0AEADr/wwA+P8YAEoA7v8VAGwA+f8EAFYAOQA6AAcA+f9HAC8A9/8iABwA4v8eACoA1f8LADMA0//H/xQAOgAJALv/wf8nAFIA5f+3/+v/9P/4/+P/w//e//r/0//c/w4Ayv+3/w4A/P/f/8b/v/8cABQA0f/O/97/BQAdAP//x//W/yIAJgAAAOz/6/8FADIAKQDI/+f/RgAjAAwA///0/yoAHgD1/wAAFwAdAA4A4//b/zIAHQCg/8H/EgD9/9L/uf/H/9n//v8AAKX/of/6/xAA7f/B/7v/9f/9/9v/6P/g/+P/8f/Y//3/JwAAANb/7P8tABgAAwAYAPf/EQAeAOr/CQBHADYA2P8DAH8AOgARAEwAagBIAP7/SQClAHYARAAlAFEAiAB0AGkAawBvAFYARwBlAJ0AmgAiACMAhQB7AGQAPAA4AFMATQBhADIACQAnAEQATQD5/+T/EQDx//n/9P/W/8r/wP+2/3D/jP+p/1D/cf9z/x3/N/9D/0L/Z/8q/97+D/9L/y3/If82/xz/Iv9b/1X/Rv9c/2f/ff9l/1P/lv+a/3n/t//d/7r/of/b/y0ANgALAPX/OgBPAD4AgwB7AE8AdQCnALwAoQCxAJUAawABARwBlACXAMIAwQDkAOcAiACZANAAfwClALUAdgCpAFkASgCxAGUAQABZAFgAOQAYAFUARADw//X/MABTAOb/of/Q/9//+v+7/3v/p/+b/4z/nv+g/5T/aP9p/4T/gv9u/2b/hP9X/zf/p/+y/1H/gP+3/6H/s/+p/7b/5/+u/6f/FQAgAN//7v8HAB8AeQBSAPz/aQCRAEwAcABxAHYA4QDKAFwAjQDZAMMA2ADIAJcAoQCdANIAzABgAHEAgAByAJsAZwAtADQANgA+AC4A9/8AABcAt/+v//D/tf+y/6H/Uf94/3v/Zf9f/zj/Xv9u/y//GP8o/0b/Yf9F/xP/J/9A/z//Tf8r/0n/fP8z/zT/df93/4//nv9//2b/oP/n/8v/yv/g/9v//P8HAPv/BAAUAD4ARQANAAoAVQCDAFsAOQBlAHwAYABtAMkA0ABFAFIA3wDKAJQApQCJAHoAkwCvAKAAZQBMADMAeQC6AEYAFQA6AEgAUQAvACYAIQD0//j/IgArAMD/hv8cAE8Av/9k/7f/AACb/2r/1v/7/47/R/+a/wMA+P+S/33/1P/5/+D/yv+e/7T/IQAaAMn/v//M/wcASgAnAO7/9P89AHAARgAdACsATwBeAGgAZABHAD0ARQBsAJwAZwAkADgAbQB8AFYARQA7AEMAdABRAAoAHAA3ADYAPwBKABQA1v/5/y4AJgDn/8D/AAD6/5v/z/8aAOj/t/+9/8X/z//j/+b/yv+a/3v/o//J/7L/nv+E/4b/0f/K/3D/hv/a/9z/o/+Z/5D/bv+l/wIA/v+C/zz/qf/r/9T/5f/d/7//m/+u/wkADwDX/+f/BADO/9L/LAAiAPz/DAAgAB0A+/8nAGEAOgAiAC4ATwBQABoAHQBCADEAKQAUAO7/GQA6AA4ADQAtAPf/vf8VAGUADgDh/xAAFQASABEABgAXAAcAyv/g////yP/o/yYA8v/M/8X/3/8YAOD/yP8AAO3/AgAKANr/EgAvABYAMwA3ABgAGABBADcANABEACUAPwBGABcAGABEAIUANwDy/0cASwBvAHUACgAuAEoAPwBzAD0AEwBNAEcAJgAzAFwAMADn/yMAPQACAAkABQD6/xQAAgDU/9T/+P/+/+b/yP/V/wsA7/+7/7//1f8GAAcAp/9+/8j/AADk/53/tP/j/3X/fv8dANr/gf+4/8b/4//Z/6v/3P/9//v/3P+o/9P/DQAOAOD/yf8DAN//xP8pABwA/f8KAOf//P8MABcAJAAYADIAAADh/yUAOwAuABcACAAVACIAFwAeAEsAJQD1/y0AIwDo/xkAPAD9/+X/CgApAAcA4v8iAA4Azv8EAPL/2f/t/9X/3P+9/7P/0P+r/7j/u/+O/5L/kf+v/9z/q/90/5D/zP/Y/7j/zP+q/4f/+//5/43/8P9DANf/qf/y/xEAIwArAOL/7P8kABoAPwAhAAcAWAAvAA8AZgBoAGAAWAA+AJMAjABOAHUAYgBVAIUAcgBZAG0AhAB+AGYAZQBZAG8ApQBpAEgAcgBWAHsAgAA4AFkAYwBcAGgAOwAuAGEAhAAeAAUAVQD6/+7/QwAdANz/z/8PAOv/tv8WAPr/wf/i/8z/xv/Z//v/8/+c/6//9P+//57/z/+y/4L/qf+3/1v/SP+u/5v/Xv9K/z//g/+k/5v/hP9V/2//lP+6/8//k/+I/6z/yf/J/6D/qv+x/6n/sf+e/7T/0P+y/6L/wv/W/8j/1f/o/9D/9/8xAPv/zv8TAHEAXwD1/9T/NABeABcAJABGAA0ABQARACwAXwAtAAAAPQBUABgAIQB0AG4AMABIAHMAVABAAGgArwCSACgASwB8AHAAiwBJADIAfQBQAC0AUQBdADkAPwBQABoAKABHADEAIQAMAA8ALwAvAPb/9P8xAPb/2v8mACcA5f/m/y0ABwDk/yAADQDz//f/4f/8/zwAYAALAL3/CwBlAHQAPQALACcAQQBOAGgARQAAAAoARgAzAPX/AQAOAOr/BgAQANv/3//Y/8f/8v/v/7D/l/+y/7j/lv+k/6X/Wf9w/6T/eP9+/2z/L/9g/3//VP9Z/1T/Lv9Z/2r/P/90/4//Rf9Q/6n/vf97/0//ef+8/7T/iv+j/7P/oP+2/+n/9f/x/9L/vf8TAEwAMAASANf/CwCKAGAANwBPAB8ARADEAJYAQgCDAKYArgCkAIQAsQC7AKwAqgCTAK8AlgCEAK4AmwCUAIkAfABpAG0AnABlACMAQABZAF8AKAD3/xIAIAAkAOr/z/8DAMz/tf/m/7n/oP+h/5j/pP+i/77/m/9z/7L/zf/T/6H/ef/X//H/pf+b/87/5P/v/+D/vP/a/+T/7/9CABEAxf8SAD0AGwAwAGkAUQAPAC0AggB6AEAASQBhAGIAfwCAAGIAWQBLAGsAswB6ACoAZwCKAHUAcQBbADoAUACEAGkAMQAeACYAQgAwAPn/3P/g/+3/9P/p/8n/sf98/2n/1v/0/37/O/9o/9P/2v90/1b/Yf96/67/iP9U/3D/gv+C/33/cf91/3X/Y/9T/3b/m/91/1f/kf+v/3v/j//F/6r/k/+x/8r/mf+i/woA8P+j/7z/+v8AAO3/HgATANv/6v8BAEYAOQDv/yMAMgDr//3/eQB6APb/+f8qADgAZwBeACoALwBPAGsAdwBKAGQAmwBFACQAbwB7AGAAPwA/AFAATgBnAE4AJABMAGAARQA2ABMAJwB6AGYA+f8DAGMALgDy/1oAWwDw/wkAMQA7AD8AFQAqAGsALwDT/yYAkABeABUAJgBjAFUAHABXAIIAWABNACEAPgCNAHQAaAApAPf/XQBkABAALwBYAAEA5/9iAGAADwAKAPT/7P8NABwA6v/H//r/BQDl/7n/qv/E/6H/ov+8/47/cP9e/1D/hP+W/z//QP9z/13/Uv84/0L/dv9o/z//B/8w/37/UP8w/0v/Vf8z/0H/fv9o/1r/Zv9w/3f/Tv9n/5z/rP94/yb/d//m/83/of+b/9H/5v+z/+L/MgD5/8n/IQA4AOL/9/9hAD8ACQBQAGYAOQA9AE8AawCDAIAAewBvAIcAmQCLAJwAngCHAHMAXQCJAK4ArwC3AGAAEwBpAL8AjwBhAGQAMgA3AKUApgBXAE8ASAA8AHcAkwBDABcAVgBnACQAJwBMAC8AOABKACYABQAOADsANgAjAPL/4P9JAFgAIgATABEATgBSAAQACABSAFEAKQBOABwA+f9LAEMAPAAuAAgAQgBjAEgAIgA0AHIAZgBMAEIAMgBTAGgANAAlAEoANgATACcAKwDu/+X/HgD0/6j/0v8AAOz/xv+Q/4f/tf+r/4j/pf+5/2P/Gv9p/73/l/9N/yz/Uf9s/0//Z/91/yr/Hv9U/1H/Sf9I/wb/Jf9q/wj/8f5M/0L/Of9C/xn/CP8X/0z/bv83/x//N/9M/2j/Vv9N/3n/mP9i/1T/yv/K/33/of+8/77/sP+U/9X/BQDr//D/+//v/wEAJwBTAGwAIQDs/0MAhABHAEAAiwBqAEEAaAByAIsAlQCNAJUAaQCJALcAtADMAIcAdADhANUAnwDIANAArAC3AOgA5wC2AMIA4AD0APAAugDQABoBHwHiAM0AHwE9AQgBKgFZAQAB7QB1AXIBFAEfAUEBRgE7AVcBXwEXAQUBJAFLAWkBIQHYAPUAJwEIAdIA4gDlANsAogBNAIkAvwBeACIAIAANAPb/7f/7/8j/dP9K/zf/Pf9D/xr/+f7r/or+Pf6t/s7+Pv4c/hP+FP41/g/+KP4W/tv9+P39/SH+G/7w/TP+Of4o/g7+9P11/n7+F/4+/kz+Qf5c/nP+lv5q/k3+kf7l/uT+l/7N/gf/6/4F/xH/R/95/zH/Qv+X/6j/tP+t/77/5v/v//b//P8ZAFAANwAOAEkAgQB3AFMATwCTAKcAtgDWAH0AZgDOAO4A2QDOAKYAqgDfANoA2QAGAdsAoQAIAUMB7wAEATsBMAFTAUcBMQFZAVUBTQF2AbUBqQEuASQB7QFUAsABYAGzAcIBuAEjAjACpAFDAYMBBAL1AY4BjAGEAVUBlgHBAXUBUgGYAbgBcwFGATkBOQGcAbMBEgGfALQA7wD2AN4ApQD8/5v/BQBQACsAu/9O/0v/Z/9s/1z/I//s/qv+gv6u/qz+W/4S/tb9rf2d/Yj9cP1B/Rf9Hv0h/Q79Fv0s/Vz9rf29/YT9h/3b/f/9Af4o/iX+1f3n/Vr+VP4M/hv+Qv4//lH+kP6X/nn+qv7j/t7+9v4v/0T/Vf+K/4r/Wf9+/9L/w/9//6P/5/+v/6v/NQBOAPj/IgCGAHgAbwCXAIoAlgDLALcAfACBALMAwQCOAI8AyQC6AMoAHQELAc8APQHQAaEBTgGOAeYB8AHmAe4B4gHlAR0CGQL1ARMCMQIlAiQCYAKVApoC5gINA7sCwgIWAzADKQPoAqICnwKhAowCgQJxAhYC2QEdAoMCnAJ3AoUCDQNSA0ADswMgBA8EHgRZBGsEUwQ1BC0E5QOWA2oD3wJBAu8BnQEYAWgAt/8M/5X+YP6s/cf8Qvy4+yz7uPpp+v/5S/kF+fv4z/jq+M74pvjL+AP5lfkA+uv5JPrx+q37wvvD+y78jvwC/W79Uf0a/Tv9l/3v/ej9jf2E/cT9yv3r/Qj+1P3B/dX9Nv6H/kf+SP6N/rz+AP8c/0L/bf+Q/9//CgBIAIUAngAZAWoBewHWARQCMgJ4AsIC3QLKAskCvALVAi4D+AJzAlACggLDAoQCBgLsAdkBtQHSAcgBhgFzAUwBJgFXAXYBUgEsAToBUgFCAXEBsgGzAbEBsgEBAkkCRQKIAp8CbQJ5ApACrgKuAnsCYgIyAgcCBwLzAcEBiwGDAVkBNwFnAUMB+QD1AOQA2wCzAHQAbQBaAEoAHADL/8j/1//C/7T/pf+D/4D/sf+v/6j/1f+s/2j/mv/O/6n/Qv/T/sb+yP6H/lT+6/1O/Rz9O/0d/af8Pvwr/Ef8VPwk/Nf7t/vO+yL8HPyh+5b7xfvw+z/8CPzW+0n8ofzM/Oz8M/3K/ST+Qf6b/hn/g//Q/wIAFAA2AJcAzQDVANoAxgDVAAsBLgE6ARgB9QA9AXoBaAFpAZcBxAHDAaYBvwHyAfoB8QHPAbQBrQG8AdkBwAGaAYgBXAFTAYgBlwFWAfsA6AAkAVIBHwHAAKkAzQD9APUAxwDUAM8AvwAOAT8BGAEbAU4BhgGhAXQBagG/AeEBpAFZAVQBhwGOAVIBIwEoAR8BDwEDAewA+QAWAfMAxADQAPAABgH5AN0AqQB5AKUAzwCcAFoAHQDv/yUAYgAbAMD/wv/X/8L/qf/K/+L/av///jL/aP9W/xH/vP6H/oD+sP6f/lH+Uv4q/uj9+f0G/gD+9v3S/an9mf3E/eX9rf1q/Yb9jf1M/aL95/2D/Xv9jv3M/UL+Ev4O/lb+dP7u/hv/Fv9p/3D/i//w/wsABwBMAHIAHAAgAH0AhwB5AFkARwBPADkAUABPADAAOAD7/+j/LwAoAO7/zf/j//3/8v8EAOz/1/8MABIAIwA/AC4AQgBaAHAAugDXALMAuwD6ACQBLgE0ATgBPQFBAU4BVQFRAVYBNAEzAVIBNQFYAZEBNwHxADkBdQFFAfwA/AAMARkBGgHsANwA7AAAAfsA0wAMAU4BBAEYAYcBYAExAX4BuQGUAWYBawF1AVIBKwELAeIAuQCmAHQAGgAIAPH/0//Y/4f/af+c/2n/Rf9w/3v/X/9C/zL/PP9M/zj/Mv8U/8z+xP7c/v/++f53/jv+jP7E/pD+P/5f/nf+R/5p/of+aP5x/k/+LP5z/p7+e/5Q/kn+dv6F/ln+Xv5p/k7+Xf5n/nP+kv55/or+sP6u/tT+D/83/zf/Tv+N/7H/2//m////RwApABgAVgBZAGsAhwB5AIAAZgBtANcACwHBAI0A6QA4ASIBRgFeATUBQQFZAWkBYQFEAWEBegE1AQ8BIgH2ABMBLgGzALcA1ACKANkA+ACHAJUA2QC8AJgAkQCWAL4AuQCJAIcAaAB0AMgAoQBHAF4AlQCnAKAAeQCKAJ0AUwBlAKoAdgA1APb//v9UABAAwf/W/8n/2v/M/5//yf/X/87/+P8HANX/z/8WAAoA1//j/+H/7P+j/0v/pf+r/0j/Lf8c/zr/Tf/4/v7+Mf8h/xb/Af81/0n/2f74/kD///7//hf///4M/x3/D//0/vf+GP8r/zr/Mv8d/0H/Xf9F/1L/Yf9o/43/lv+T/5P/qf/K/+b/DwDg/8T/EwAlACUASQA9ABMAFwBPAGsAWAArABQALwBCAGgAWAAPAEIAZgAtADQAbgC3AHUA9f9sAMsAlwCvAKAAmgCkAHAAmgDnANwAcwARAHgAzgB+AIsAngBVAEgAhgDrAMwATQBuAJMAigDKAL0AQwAUAH8AsABAAA4ANgAcAO///v8eABIAzf+5/+//4f/5/wUAmv/D//T/qf+6/8//yf/O/7P/k/+Q/9n/6/+9/7f/pv/C/+3/9P/4/+P/s//Z/0wAHQDN/zoAEACj/zcAfwD0/5f/2v9dAE0A5v++//H/MgARABcALQD7//z/+P8hAHEAMwDg/8T/GACOAC4A4P8sADIAKABdAEsAFwAqAE8ANgARADIARAAOAOj/4v/Y/7r/lP9x/3L/k/9w/xL/DP85/yr/Tf9t/yj/Nv96/3b/ZP9o/6//yf+g/5n/g/+1/+D/w/+3/4H/n//V/3z/WP+S/4z/ZP+J/5n/Rv9R/63/w/+Y/3//vP/Y/9f/DwBCAEQABgAPAIcAqgCRAG8AZwDTAN0AhQCuANAAvQDHALMAsADuABYB8wC/AOsALQEWAQkBNgE7AT0BIAEFASsBFQEnARABngC2ANEAegBEAFoAXQDa/5b/7P/F/23/Zf9B/zT/Uf8w//r+1/79/kL/KP8I/+H+6f4//z7/Of84/yn/TP9E/0//kv+m/4P/U/+B/9T/uP+l/+T/6f+//+P/CgAYADIAKAAlAFYAXwBJAFQAZwBkAF4AewBuAPr/7P9kAFoA8f/W//r/GADn/6X/vP/O/9T/zv+D/3H/vv/V/6D/bf97/6//wf+2/6L/tf/a/+z/4v/Q/xMATgAZAAgAOgA8AD8ASQAgACMAMgAjAPz/0P8XADwA5//M/+//FAAIABAAOgAGAP//IQAiAE0ATAANAAkANwAiADUAnABPAOP/LAB9AIQAYgBAAFEAfQCHAHkAkACYAGAAWACSAJoAZABWAF0AZgB/AE4AGQApAD8AUgBBAP7/3v/8/0oAZwD0/7L/DgBPACMA8//p/87/uv/d/wUAxv9I/2P/sf+F/4X/ov9b/xP/Q/+R/4b/V/87/0n/ef+b/37/hv+3/4z/lf/w//T/2P/A/7j/8//9/8H/zv/d/+D/FgDj/7//GwARAOv///8AABoABQDR/wcAOQDz//T/QgAeAAwAMwAnADIAawCCAGEAOQBYAMoA4QBzAGQAmgCeAIgAMgAOADEAHAD2/9r/tv+t/77/xP+w/7D/sv+q//f/KQAAABoAUwA3ABIAWACHAEEALQAqAAEAEwAOALz/qf/Q/6L/a/98/2T/af+R/5b/pP+X/9n/LQAiACsATACHAKoAhwCPALkAwQDOANQAawBTANcApAAvAD4AQQA2AAoA7v8oAAMAs//L/+X/DAAPANL/CwA1APz/CAA3AEcARwAUAA8AVgA5AAUAUAAxANH//v/9/+f/+v/B/4b/n/+6/5z/k/+K/1b/Uf94/5H/df9f/4X/V/8y/5v/wf9//2H/Zv+f//z/CQC3/7f/GAAhABoAFAADAEYAOgAQADAACQDl/yUATADl/6r/5//i/+b/+v/o//H/z//b/xMAPABJAAkAIgBtAFIAUwB3AGUAZgBjADsAbwBrAOX/EgBaAP3/1v/m/wUAFwDk/+X/5v+y//T/QgAcAO7/xv/e/1wAaQDi/6///f8SANz/z//f/9v/p/+Y/9f/xf+l/+H/4f/E//H/AQAJAC0AUAA7AMv/3/9lADQA3f8eABsAvP+w/9b/AwAGAKT/qv8HAOz/5P8UABwAFAAEAAIATgCKAEMAKwBuAJIAnQB+AHsAvgDOAKwAjwCmAKQAiwDCAMEAZwBCAFcAZgB2AEIA3P/c/wUA7//F/7H/mf9z/2//cv91/3T/Vv9e/0v/Vf+L/3T/i/+z/53/qv+1/7D/x//y/wEAw/+a/8H/9f/b/6H/s/+4/6L/rP+u/6r/y//N/5j/qf/K/8j/BgAKAMX/4/8NACUAMwAXAAUA7f8DAFwASADu/wsATgAUAA4AYQAyAAQA/v8TAGMAHADo/xgA4P/2/ygAw/+z//H/6f/I/7X/5P8IANf/3v/6//b/LQAMAOj/PwA5AAQALwBpAFkAHQAiAHoATwDk/zUAawAYAPr/JQBFACQACwAkAP7/9f89ACYA2v8NAF4AGQDw/zAANAAxAEMAOwA6ABUAJQBtAEkAGwAmAD8AVgAfABAAVwBMABYACQAkAE8AWwA/AEkAVgAKABoAZgA0AP3/7f/9//3/6v/0/8D/sP/C/7D/yf/R/9X/vv+k/+//CADN/9//FgCx/3f/GgARAJb/kf+H/8D/xP+L/43/WP9X/3//f/+M/1n/M/+A/4//RP9k/6z/mf9y/3P/wf/R/4H/pP/K/+//EQC5/+j/NgABAC0ARAApAHAAggBVAHgAsQB/AJEA/AC2AHsAwwDgANsAuACqAMoApgCQAK0AhQCEAKMAbABQAGcAYwBjAGYATwAzAAkABwA7AD4A+v+//73/x/+y/7z/qP9s/3f/bP9o/4f/VP9L/4L/iv+A/2L/bv+h/8P/nv+D/7n/tv+3/8H/pP+x/6r/sf+5/5f/uv/O/8P/2//a/83/8/8VABsANQA/AEIASQBLAHsAigCMAJwAYwBpAGwAcwDHAJwAWQBaAD0AWwCSAIYAYQBJAEEATACCAJ4AhgB2AHUAgACUAJMAoQC0AIAASQBUAI0AogA5AB4AZQAkAPj/5v/D/+n/xf+g/6j/U/9H/3b/Wv9G/yr/Df8m/zX/Hf8l/yP/Dv85/1j/Rf9L/2D/Zf9n/4T/pv+K/27/kv+0/7j/tP+o/5H/lP+z/8L/vf+p/5T/ov/Q//b/7P/z/wsA7f8PAEcAJQAhACsAJQBHAEwANQAlACoALAAzAEwAGAD9/yoAMgBGACgAEgBUAE0ALgA3AF8AhQB7AFIASgCCAI4AgACrAIEAPQBQAGAAlQCJACsAGABJAGoAUAAnABkAKgAqAAoAFABBADUAGQAXADAAJAAZAFcAOQAOADoAKwAcAEUAMQD+/wkAGgDs/9r//P8FAN3/0v8BAOv/4v/+/+j/DgACAMT/+v8RAPH/2P/p/wwAzf+z/97/8v8CANP/m/+w//j/DADK/77/s/+s/wUAAACf/5H/vv/R/6r/lP+r/5b/cf+e/7L/Yv9b/5z/lP+C/3//dP+W/7//vf/I/9T/w//N/+7/AQAIAPL/4v/6/xYADgDw/xAAPwASAAMANwAzACYAMwAyAEUAUQBOAGoAjAB+AFQAYQCEAJQAmQCVAI8AfACLAKUAgwBzAIAAcwBTAD4AYgCHAFUADwAkAC0AJABDACsAIAAoAAcAEgAWAAQABAD4//j//f/4/8z/s//h////4P+c/7P/6v/V/9L/xf/B/9n/w//H/97/2v/D/8X/1f+w/7L/zv/B/6//uf+1/53/vP/D/5v/tf++/6//sP+5/9P/w//i/+D/rf/S/+3/BAD0/7n/1f/r//P/9v/j/+T/4v/k/+3/EwAhAPD/4v8UAE4AQgAWACwAUABYAEgATwBqAEcAOgBrAHQAWAA9ADIAXQBeACkAMgA4ADMANwAoAB8AEQAZAC4ALgAtABIA/v8NABkAEgADAA8A/v/j//b/8f/q/9z/2v/i/8D/1P/t/+r/+P/f/8P/zP/0//j/6//t/+n//P8FAPz/7//u/wkACQADAPf/9v8dAAAA8f8IAAQABwDu/+v/8f/b/+D/4//j/9z/zv/f/+b/zf/C/9b/4f/Y/7n/tP/Y/9f/zv/N/7v/wv/Y/+f/1P/C/9j/1P/R/+L/+f/0/8v/4v8PAAAA5v8GACMAGwA9ADEAFQA/AEMAPQBDAD8AQgAoADIAPAAdABkAHQAXABYAKQAeABoANAAdABsALQAmADIAHwAXACQAHwAlABAABAAYABEADQAVAA8A/v/t//7/AgDw/+j/5P/i//T/8v/h/97/0//g//n/7f/r/w0AAADj/wIAHwAgABIA//8FAAoAEwAFANP/0P8CAA0A3P/A/+P/8f/Y/+r/6f/c//f/7//k//b/8f/9/w8AAQASABcAHAA2ACEAFgAtADAAIAAjADsAIwAbACMAAQAPACoAKgAoAAoA//8jADcAHwAHAB0AKwAYAAgACQAOABEAEQAdABwACwAbABoAFQAhAA0ADAAhAA4AAAD2//v/BQAAAPX/4//y/+z/7P8IAAAA9f/r/+3/CwD+/+z//v/z/+H/7P/t/+L/6f/n/9v/3v/f/+P/6P/s/+L/3P/0//L/4//s//z//P/i/9b/4//q/+j/7P/d/9L/6v/y/9j/zv/m/+j/2P/f/+///P/r/9z/8P/1//f//f/3//P/5v/l/+P/zv/I/9D/2v/G/7r/5/8AAOv/1P/X//j/CwD7//f/AAAEAAwABwASAB4AFgAdABUADgAcABYAHQAXAP//FAAbABsAGgAMAAMAFgA6ACYAFgAxACkALABHAEAAKgAWACAAMgAiAAwAHAAoABMAFAAYABAABQALACMALgAhAP7/IgBMABwAHwAjAAkAGAAOABMAHQAQAAYA/P8SABoAAgAGABQADQD1//z/AAD5/wYABwALAA4A9f/4/w8ADQAAAAAAFgAGAPn/EgAVAAUABgAMAAkAAAD0/wEAEQD4/+3/9v/z/wUACgDy/+//8P/a/93/+P/p/7r/wv/k/9X/xf/T/+P/2f+7/73/1//I/73/z//S/9j/3P/O/8r/yf/M/9f/yP/K/8n/wf/c/9L/yP/q/+v/4v/l/+7/7//z//n/6f/w//b/5//5/wQAAwD5/wMAEgAHAB4AKAAkADYAMgAcACsASABAAC4ALQAmADsATQBAAEIAPwBAAEgAPwA8AEEAQgAzACgANQAzACkAEgAKAB0ADgDx//v/GwANAOb/7f8RAA4A+v/5//X/7//9//v/6P/r/+D/6/8FAP7/7P/i/+7/8v/g/9n/4f/o/8//xv/s/+r/0P/I/83/2P/X/8r/1P/i/+j/5//w/wgA/f/3/xUALAAqABEAAAAZAC4AIwAeADAANQAlABcAKgA9ACQAIAAvACgAIQAbABwALAAdABEAHwAmABYAEAAgACQADgAFABkAHAAQAPr/AQAJAPT/9P/5/wQAAQDe/+b/AAD5/+P/2f/v//P/3P/X/+P/5P/T/9v/6v/Z/9b/2v/g/+b/0v/R/93/zP/H/9z/6f/S/8T/5//9//H/5v/s////+f/o/wIAFwAIAAAA/P8HAAgA8v/8/wMA8P/u/wcAEgAAAPj/DAAZABQAFgAcABcABwACABgAJwALAPj/DgAkABYACQAIAAgABQAAAAoAIgAWAPv/CgAbAAsA/P8BABMADAADABQAHgAbAA4AFgArABoAEgAmACsAHAAFAAwAIwAeAAwACwAYAAsAAQAOAA4ADwANAAwAFgALAAAACAANAAoAAAD0//v/AADz/wAADAACAAcABQD6//j/+/8DAP3//P8EAP//AAD1/+z//P/2//n/AADx/+//8P/q/+3/7f/m//P/6f/V/97/2//b/9r/zf/b/+D/0//S/9b/4v/g/9f/2v/j/93/3f/o/93/1f/b/+X/5v/U/9X/7P/r/+3/7//1/w4ACAD+/wYACwAQABAAEQAPAAcAEQAcABwAEQAKABkAIgAhAB0AHQAdABgAJAA8ADcAIwAgAC8AMAAgAB4AIQAoACgAKQA6ADEAIgAhACgAJgATABcAIgAhACAAGQATABkADQD5/wAACAD4/+f/8//v/+X/7P/k/9j/0//S/87/2P/Y/83/1//h/9f/0v/g/+f/5//r/+f/3v/g/+P/4f/f/+r/4//g/+//7//w/+7/7P/q/+j/7v/y//f/+f/t/+v/9P/9////9v/z//b/AwAJAAcADwAUABEAEAAMAAUA//8AAP7/AAALAA8AGAAZABAAFgAfACEAGwAhABkABwAPAA0AEAAVAAsACAAHAAoADAAOABIACgAHAAwAFAAVAAkABQAIAAoACwAGAA4AFwAdACEAFQAVABkAEwAYABUADwAUABEAFAAVABAAEAAKAAkADgAQAAYABQANAAUABwAMAAAAAQADAP//+v/5//7/9f/3//j/9P/8//z/8f/r/+3/8//x//H/+//8/wMAAAD4//3//P/5/+f/5f/o/+b/6//o/+v/6//n/+D/2f/d/+D/2f/Y/+L/6v/1//z/9//s/+j/7f/p/+r/+v/6//f//P/z//H/+P/r/+n/6f/g/+z/8P/2/wAAAAAFAAwADgAZAB8AJAAjACAAIgAdAB4AJQAmACUAJAAZAB4AHgAOAA8AFQAQAAwADAASABMACAADAAgAFAAMAAMACAALAAMA+v/z//f///8CAAUAAAADAAAAAAANAAoA//8IAAoA///5//j/+P/8//3//f8KAAoA/f8AAAYACwAHAAIADwAYABUADwAMAAUA//8BAPr/7f/o/+P/5//o/+f/4v/e/+b/5P/q//z/9v/w//P/9P/0//T/+P/p/+X/7//v//P/9f/w//D/7//w/+//8v/4//D/9P/5//f/+f/4//T/7v/n/+n/8//6//7/BwAUABcAIQAhAB0AIgAbABwAKAAfABUAEwADAAIADQAQABUADQAKABsAIwAaABAAEwAcABoACwAJABYAGAAMAAoAFwASAAIA/f8AAAQAAwAAAAoACgAAAPv///8AAP3/+P/4/wQAAwD6//n//v/2/+3/+f/+//X/8P/n//L/9f/f/+j/9P/7//z//f/5//T/+P/0//T/8v/q/+3/5v/k/+z/5//v/+z/4//z/wMAFgAcAA0ABwALAAwADAAMAAMAAAAKAAoAAADy//X/AQD2//P//P/9//z/AQADAAAABQAAAP3/BAD+//z/BwAIAAMABAACAAAA///5//3/CgAJAP3/BQARAAoAAgAAAAIABQABAAAAAAD9//j/9P/0//P/9f/6//3//P///wMAAAD4//X//f8AAAAA+f/y//r/+//t//L/+f/3//T/9P8BAAcAAwAGAAsADwAUABUAHQAdAB4AIgAgABkAEwAaAB4AGQAcAB0AFAAWABgAFQAaABcAEQAQAA0ADwARAAMACgAJAPn////z/+z/8v/r//D/5P/f/+j/6//s/+v/7f/o/+//9P/j/+f/7//s//X/+P/5//7/AgAAAPX/9P/z//n/AAD3//T//P8AAPn/+v/9//v/AwAAAPz/BQD+/wAAAQDz//r/+v/6/wAA/P/9//z//f/z/+f/+P/7//X/8//6/wQAAwD8//3/BgAOABEAEQAbABsAFAAcAB4ADwAOABkAEQAMABUADwAOAA8ACAAIAAcA9//2/wkACQD6//H/7//z//H/6//4//v/9P/0//z/AAD5//r/AgAEAAMACAANABAAEQAOAAYACQABAPf////6/+//+f8EAP7/8f/5/wIABgAIAAoAGgAiABQADQALAAgAAAD8//v/9f/z//f//P/9//f/+v8AAAAABQABAAAA/v/7/wYABQAAAAUABwD+//X/9f/7//3/9v/v//f/+P/5/wEA//8DAAgAAAAEAAwACQAEAAMAAAD7//7/+f/r/+b/6//m/97/4v/n/+z/9P/z//f/AwABAAIAAgD8/wAABwAIAAwACwD9////BwASABMADgAcABYAEAAZAA8ADQAYABYAFwAVAAwAEAARAAkAAADz//f/AQAAAAAA/v/5//r/AAAAAP3/AAAAAAAABgD///b/+v/x//P/8P/r//D/8f/7/wIACgADAAEACAAEAAQABAAAAPz/+P///wUAAgD8//T/+f8GABAAEQAQABAACQACAP7//P/8//z//P/9//z/9P/v//L/+f/u/+T/5f/t//D/7//w/+//9f/z//7/DAAKAAUABgAGAPz/AAAAAPj//f/9/wMACQAIAAgACwANAAgAAAAEAA4ACQAFAAgAAAD5//r/AAD9//j//P/9/wAA///+/wgABQAGAAkABAAQABkADwAHAAkABgAGAAcAAAACAAgAAAD8//f/+/8EAP7//v8DAAIA/f///wgABAAFAA0ADAAMAAwACgAFAAEA/f8AAAAA9//r//P/BAAAAP7/AAD2//P/+P/8/wAA9v/x/wAACwAAAPX//v8BAPn/+P8AAAAAAAABAAYAEgAQAAAABQAMAAwACQAHAAgAAQD2//b/AwAIAPz/9/8AAAMABAD///3//P/9//n//P8AAPj//P/8//T/7//x//v/AQD//wQADAAMABAADQAEAAQABAAEAAMA+//w//L/9P/z//f//P8EAAMAAAABAAUAAQD0/+z/6P/q/+z/6//x//j/8v/q/+//+P8AAAAABgAMAAgACAAIAA0ACwAHAAkAEAALAAEA/f/8//3/AAAAAAkAGQAVAA0ADAAQAA0ACwAJAAwADAAMAAwADQAKAAoADgAFAAAAAAAEAAMABAD9//j/AAD+//n/+v8DAAQABAADAAAA+v/6/wUACAAKABMAFQAJAPv/7//w//D/9v/3//D/9f/5//T/8P/3//3/9f/q/+b/7P/4//T/+f/+//j/9P/r/+3/9P/z/+//8v/0//T/9v8CABAAFQAZAB0AFgAQAA8ACgATABIAEAAYAB4AKgApACUAJQAeAB4AFgAJAAgABAADAAgABwD//wIAAQD4//r//f/5//j/9P/4//f/7//u/+P/5v/j/9//6//r/+j/5v/t//j/8f/q/+3/9P/6//H/7//3//D/4v/g/+T/8P/y//D/+f8AAP3/AQAQABQAEAALAA4AEAAJAAoADwARAAoAAAD9/wAAAAD8/wwAEwAGAAQAAQAAAAcADAAHAAQACQAIABEAFAAPABUACwADABQAGAAQABAAAwD8/wMAAgD//wkAEQAMAAwABwAEAAgAAAD8//v/9P/0//D/7//0//T/+f/2//f/BQAIAAgABQADAAQABAAIAP///v////b/8v/v//D/7f/k/+L/7f/9//z/AgAIAAEADAAQAAgADAAMAAQADQAUAAkACwASAA0ADQAGAAYACQADAAkABwD///z//P/+/wIABgALAA0ABAD8/wAAAwAAAAAA+f/6/+7/4f/x//j/8//m/9n/3P/f/+L/+v8HAPn/6f/q/+z/8P/5//n//f/0//D//P8EAAQABAAIAAgAAwAFAAgAAQABAAQAAwAEAAAA/P8AAAgA/v/6/wEA9////wMA/v8HAAgADAAMAA4AFQAUABYAGgAWABIADQAMAAwADQALAAoAGAAVAA4ABwADAAEAAgAQABAADAALAAgADgAIAAMABAADAAUA9v/z//n/+P/2/+f/6//w//H/+//2//b//f/7/wIABwD+//3/+f/w/+//8//q/+L/7P/w//X/8f/q/+3/8v/3//j/+P/8//z/AAAEAAUADwAPAAsADwATABwAGgAMAAgACAAIAAgABwABAAIAAgD+/wsABAD9/wgAAQD7////BwAEAP3//f/8/wMACAAAAAEACgAEAAAAAAAAAAAABgAFAPz/8//r//L/8//t/+v/7f/0/+7/5//v//n/BQAGAAAACAANAAsAAAD7/wAAAAAIAAcABAAKAAwADQAUABAACAAIAAQAAAAEAAgA/v/+/////P/4/+//9v/8//n/AAAAAPf/+v/8////AAAAAP3///8EAAAA+//0//r//P/2/wAAAwD8//r/9P/0//P/8f8AAAQAAwD8//n/AgAHABAADAAEAAkADAAEAAEADgAPAAYAAAD9/wMAEQAPAAcACwAQAAsADgAGAAMAAQD0/wAACAADAP//9v/7//n/7//2//n/+/8AAPz/9P8AAA0AAwAAAAIABAAEAAEA/P8AAAMA/P/9//v/+f8LABAABwAPABEAEAAVAAoACwAXABAAAgAAAP3//P/8//T/+P/z/+//8f/2//f/7v/s//j/8f/w//z//f/6//T/+v/+/wIABwAFAAcADAAMAAgACAAGAPf/9//+//n/+P/4//j/+P/m/+D/6P/w/wEAAwD5/+//8P/v//j/AwD1/+b/8P/7//7/AgAGAA4AGAASABAAFQAOAA4AEAAUABsAEwAPABcAHQAUAAMABAAEAAsAEAAJAAkAAAD6/wsADAAIAAcABQAOAAgAAwAEAAIA9//y/wAAAAD9/wQA//8CAAEA+f8GABYAHQASAAQACAD9/+7/+f8AAPb/6f/q/+//8//w/+v/7P/r/+r/5//z//f/7//z//T/8P/v//b/BQABAPT/+P///wAA/f8CAAwABAD7//n/AgAIAPn/9/8AAP7/+f/7/wwAFQAKAAMABQAJAAQA/v8GAAMA9f/s//n/CQANAAoAAgAGAP3/9v8BAAsACQD4//r/CgAMAA0ACwARABQACQALABQAEQADAAsADwANAAYA+P8HAAkA9v/3//3/CAD+//H/DQAJAPb/8f/0//3//P/9/wQADQAAAPP///8MAAgA/P/2//3/9f/o//H/+P/z//z/AQAJAAcA8v/2//z/AAADAAAACgAKAAEACgASAAsAAAAGAAUAAAAAAPb/+//4/+7/+//3//X//f/8/wAABwADAAUADwAOAAkA+//9/wEA+f/4//3////x//L/+v/y//P//P/8//3//P8AAPv///8BAPX/9P/3/wIAAAD0//z//P/4//f/9f/3//L/9v/6/wIABAAHAA0ABwAKAAsACAAHAAsACgAEAAQABAAHAA0ABgAAAAYADwARABkAEQAKABEACAAIAAwADQARAAgA/f/+/wAA+//z////AAAAAAMA9P/w//b/+f/1//j/BAD9//H/+P/9//r/9f8BAAIAAQACAP//BAAAAAkACgAAAAoAAgD9/wAA6v/v//3/9f/0/+//8f////b/8/8BAPr//f8HAAQABwAIAAMACgAQAAgAAgD9/wAACQAEAAAA/P8CABIADwALAAcACwAMABIAGQAVABEABwAJAAYACAASAAcADgAMAAAABwAJAAcA///y//D/8P/5//z////8/+z/+/8IAA0ACgADAAoAAwADAA0ABgABAPX/7P/m/+D/6f/t//L/9//0/+j/6v/z//D//f////H/8v/7/wUABwAAAAMA/v/w//T/8//w//T/6//p//r/AAD0//v/AwAAAAAAAgAIAAEAAAD+//3/BQD6//v/CAADAAQACQAOAA4ABAAHAAYA/f///wAAAAAFAAwABQAHABUABAD3//z//P8AAPz//f8FAAIAAAD5//z/AQD//w0AFQAQABUADgAOABUADAAFAAQABAAEAAAAAwAIAAIA/P/8//T/+/8MAAsAEwAOAAQACAAIAAkADAAGAAIA/f/6//H/7//z/+z/9P/5//b/7v/0//n/+f8CAAQABwAZABcAAgABABEAEAAEAAQABAABAAAAAAAEAAMA+v/6/wIA+//s/+P/6P/z//T/+P/3/+//7//q/+//+P/1//n/AAD9//j/BQARAAUACQAYAA0ABwAIAAsAEAARABAADQAQAAMA9P8AAAkA+//6/wMAAAD9/wAA/P/+/wYAAQACAAAA9f/0//v/AAD2/+3/+v/8//3/+v/7/wwAFAAVABgAJgAoABsAGQAXABUADwAAAAIACwACAOr/8//6/+n/7//2//v/+P/v//f//P/4//P/9f/9//P/6v/w//j/8P/j/+r/9P/v/97/5//3//b/8//4/wAA+v/3/wAAAADx/+j/8v/z/+7/8//w//j/BAADABUAHAAVACEAJAAgABcADgAYABYAFAAZAAwACAAIAAEAAgANAAMA9v8FAAwADAAAAPn//P/+////8//8/w0A/v/y/wcACAAAAAkABgALAAMA6P/x//3/+f/x/+//AQD9//X/BAAJAAMA8//x//z/8v/j/+T/9f/y//D/9v/8/wIA9f/w/wYACQAAAPj///8CAPz/DAANAAQAAwARABoACAAIAP3/8P/6/+//+f8AAPr/AwAEAAQACAD///j/BAAPAA8ADQAXABYAEQAFAAgAGgANABcAKAAiABUADwAUABUAEQAMAAwAEgATAAMAAQAHAAgACAALAA0ACAAEAP///f/7//f/7f/n//X/+f/0/wIAAADu//L/9v/f/9//7f/y//X/7f/r//D/9P/5//3/AwAGAPv/BAAHAP3//P/8//z//f/6//T/BAALAPv//f8EAAAAAAD9//f/+v/7//j/AAD8//r/+f/q//z////1//f/6P/p/+r/5v/n/+z/+v8DAAAA/P8GAAwABwAUAB4AEgASACIAKAARABYAIQAZACUAIAAYABYABAD8//z/AAD4//P/8//o/+L/3P/d/9//3//c/9r/5//n/+n/8P/x//3/AAAIABoADgAPAB0AFQAaACEAFAAKAAUABAABAAIACAAEAPj/+P/9//b//P8BAAkACwAGAA8AEQAQABAACwAIAAkAEAAWABIADgAFAAoAFQAQABAADAANAAsABgANAA8ACwAQABAADAARAAkA+P/0//n/5//e/+3/8//w/+P/3//p/+P/3P/v//P/7P/s/+v/+v/9/+7/6f/2/+//5v/y//7/AQD6//T///8AAPv/+f/+/wYA9v/2/wwAAwD8/wMACAADAPb/+/8BAAcABAAAAAgACAAIAAAAAAAOAA4ABwAIAAoADQAJAAoAFAAVABUAFQAUAA4ABgAGABUAFQAIAA8AEQAHAP3//P8CAAAA8v/p//T/9//s/+//+P/7/+7/8v8AAP//+v/4/wgACAD1//z/BAADAPP/6P/7//b/7v/z//n/BADy/+f/AAAGAPT/+f8MABAABgACAAsADQD8/+v/8v/8//f/+//8///////3/wYADAAIAAIA/f8HAAUACAAZABIAFgAWABQAHQAOAAkADAANAAgABQAXABMACQAAAPz/AADx/+z/8f/4//7/+f/6/wMA/v/0/wEADAAGAP7//f8EAAcA/v/8/wAA/f/z//X//v8AAPL/7f8HABEABAAIAAgA/f/3//X/+f/+//b/8f8BAAIA/P/8//T/+f/8//j//v/7/wAAAgD//wEA/P8DAAMA+//t//X/AADw/+3/8//5/woABQAAAA0AEAAQAAkAAwAGAAkAAwD1//f/AAADAP//9/8AAAMAAAACAAoACgADABAAIgAhAB0AFQALABYAFQAHAAAA/v/w/+j/+f/x/+f/7v/y//3/9f/o/+r/8//4//D/AAARAAkABwD///3/CQATABwAFQAHAPv///8RABIACAANABAAAQAAAAMA+P/q/+n/8v/z/+v/5//0//r/8f/z/wAACAACAPv///8HAAUABgAIAAgA///s//T/+P/7/w4ACgD7//T/7f/9/wQA/f/4//T/+P/x//v/BgACAAgAAAD3/wMADAADAP3/DgATABIAEwABAAYAAADv//z/AAAEAP3/9P8BAAMACQAPABcAEgAPABoAHQAcABIAGwAqACUAHAAPAAsAFAARAAsAAwD///T/8P/4//X/9v/5/+3/4//t//f/4//q//z/8//4/+3/4v/r/+z/6//s//D/7v/s//7/AgDy/+7//f8MABAAFQAPABQAFwAMAA8AEQAOAAAA9P/4//3/+//y//n/CgAIAAAA8//u//j/9P/0//7/BAD8//H/+P/z//H/+P/4//z//P8FAAwAAQABAAQABwARAA0ACQAAAP3/DQAQAAQAAQALAAsABAAGAAkABwAQABAAAwAFAAIAAgAPABsAHAAPAAUAAAD8//z/9//0//T/9v8EAAcA/v/5//j//P/4//r/CAALAP////8PABYAEAARAAwA/P/4//j/8v/7/wcA/P/3//b/6f/f/+D/9v/7//L/7v/u//n/8P/p//3/AQD7//3/AAAMABAAEwATAA4ABgACAAwAAAD9/woACQD9//3/+v/6/wAA/f/8//3/AAD4////CAD4/+///P8GAAwABgD1//T//f/7//P//v8LAAAA8//3//j/+P/4//T/9P/z/+3/7f/y//f/+P/+/wgAEAAZAA0ACwAdABkACgAJAAAA+P/8/wMAAwDy/+z/8f/t/+3/8v/1//H/7//w//D/AQADAAIAFwAJAPr/CgAMABMADgALABkACQARAB0AGAAXAAYA/P8CAAUA/P8AAAcAAAAAAPj/8//0/+b/6v/8//z//f8EABUAKAAhAB8AKwAiAB0ALQAnACEAIAALABMACQD5/wAA+//4/+//4//X/83/1P/n//b/+P/4//X/4//i//r/BwAIAAAAAQAIAPn/7P/t//f/BAD4/+v/+P8IAAIA9f/v/+//5v/m//X//P/y/+f/6P/s//z////7//f//f8FABQAKAAqACAADwANABEACAAFAAcA/v/8//n/+//9//v/+P/y//f/9P/n/+v/5//d//H//f/8/wsAFAALABYAFwAYACUAIAASAAwADAARAA4AAQAHAAQAAQAVABgABgADABEACwAFAA8AFwAXAAgABQANAAMA7v/e/9v/5P/n/+P/9P/+/+v/3f/o//b//f/8/wEABwD4//T/8//5//n/6f/j/+f/4//b//H/+//p/9j/0P/a/+D/4/////j/7P/0//b/DQAiACgAOABIAFAATABTAFwASQBEAEcANQAQAPT/6//V/7v/ov+K/4b/e/9+/5f/pP+3/9L///85AHUAtADdAOkA+QABAfoA6gDDAIwASQD6/6r/Zv8l/+b+uf6l/pz+s/7f/v/+N/+O/+T/LgB8AMgAAgEnATMBMgEgAeoAtACHAFMADQC//4L/V/8o/xH/Iv8+/1X/dP+i/8v/9f8iAEcAaACBAI0AjQCAAHYAbQBUADUAGgAJAAcA/v/z//r/+v/p/+f/+v8AAAAA/v/3//v/+f/p/+r/6P/j/+P/2f/j/+r/3v/c//H//f/8////DwAmACoAJgA6AD8AKwAnABUAEAALAPL/3v/W/8v/v/+2/7X/sf+1/77/0f/m//P//P/9/w0AHQAqAC4AJAAhAB4AGQAhABkACwAIAAEA/P/9//3/BAD7//f/AAD9//v/8//0//T/8//s/+//+//5//j/7P/s//r//P8HACIALgA4AD4ARwBjAF0ATwBPAD4AJwARAAEA9v/f/8X/uf+8/8H/zP/j//n/CgAfADIAOQBAAFEAWABUADwAIgAQAPf/1v/C/7T/mv+B/3z/lv+o/67/wv/Y/+v/DAAjADoAUABGADMAJQAcAAcA5v/H/6f/k/+G/3//k/+g/6P/rf+7/9D/7f/6//n/AQAFAP7/AgARAAIA6P/R/7v/q/+d/5H/if+C/4n/lv+c/6n/t/+4/77/0//e/+D/7f/z//j/BwAXACgAPABKAFYAawB3AIIAjgCSAIwAhQB4AGsAaQBgAFwAWgBXAF4AZQBkAGUAZQBrAHQAiACgAKoAvQDFAMwA2gDXANIA0gDNAMkAwQCvAJQAewBkAE4ANgAbAAQA6f/O/7v/uP+r/5z/nv+n/6T/m/+g/57/m/+i/5r/m/+i/5f/of+l/5b/k/+H/37/jf+S/4z/g/95/3r/ef91/3r/h/+F/4L/jP+Z/6z/wf/Y//3/FAAmAD4AVABuAI0AoAC1AMcA0wDmAPcAIQFRAX4BwAEAAj8CbAKcAtQC8wILAwQD3gKpAl0CFQK7AUABrQASAJT/H//F/nz+M/7u/bz9u/3f/RD+Mf5P/mr+d/6X/sX+7f7z/tb+vv6l/o3+hf5//mL+J/7w/b79mv2C/VT9FP2z/Ef86vuu+4n7ZftE+yD7E/su+2r7zvtI/Lj8Kf2o/UD+3P53/wQAeADRAB4BeQHOASICVgJ0ApUCqwLKAuQC7QLbAp0CbwJOAiAC5gGbAV8BQQFnAdoBeAImA8YDbAQ+BRsG5AZ7B8MHqQcuB1sGOAW5A94B2P/G/dH7CPpe+On2qfW39DL0F/R09BP1xvV89jH3+PfW+Mr50/rm+y/9+v59Aa4ENAjTC38PVROxF60c0SFyJs4psytmLCAs9iq/KCwlGiDPGekS3gvGBIT9D/bZ7lroC+NM3wDdrNvM2j/aIdrI2m/c8N4A4hnl1+c/6nns8O698YT0CvdU+bb7bP6OAcgEgAc+CfcJOAqTChwLVgueCpwIYAV5AZ79JfoX9zD0UvGh7nXsMuv06pTrn+zK7TbvAfF487L2P/pw/aX/FAF7AoEEdQf4ClMOzRA/EmITDhWPF0QaQBwTHcMcxBu9GtMZfRgFFjoSzw3GCbAGVQT2AfP+MPtg97T0q/Ps83/0f/Ti8z3zP/NA9O71o/cB+Sz6nfuy/ToAjAIvBC0FFQZzB1AJXgvgDCANMQyeCv0IrQePBloF6wMoAh8AL/5o/Kj6Dvna91X3qPei+Or5+/po+z77/vpK+0L8oP3v/sD/z/8i/07+sv0s/Zf8APy1++j7k/xk/e792v0l/Yf82vxN/jsAvwFQAuQB0wDJ/1D/OP8K/27+j/3y/JP8NfzE+xH7I/p2+Yf5d/rr+yX9rv2v/Xz9i/07/nb/7AAjAtgCQgOVA+wDSASUBLYEsAStBMcEAgUZBawEpwNZAiIBVQAgACQAAQBt/3D+g/3o/MX8C/1s/cb9Gf6b/m//cgBeAQQCfALtApEDgQSlBZEG4AalBjAGyQWBBUUF8gRLBDsDCwIOAUEAff+V/nz9Y/xm+7D6VfoL+pb5Aflz+CP4Lvhu+ML4+vgc+XP5H/oF+w/8Bf3E/WD+CP/o/+YAzAF+AhcDkQPtA0MEmATABK0EkQSIBJcElgR5BD8E2gNXA9cCYgLzAYkBKAG5AEYAy/9D/9f+c/4z/ij+K/4z/k7+eP6y/vz+Pf98/8//IwCQACIBrgEmAm8CkQK1AtwCAwMqAz4DOAMYA9kCqQKHAj8CywFLAcYANgC4/0X/0P5E/p/9B/2b/E/8Dvzn+8j7tfvI+wL8UPyw/Pj8Kf1e/Zr95v1F/o7+xv4O/2D/vf8uAKQA/wBKAZIB9AFqAtYCLwNeA1gDPQMIA9AClgI9As0BSgHCAE0A4f91/xj/vP5m/jr+Pf5i/qX+5v4u/37/y/8VAF4AnwDPAOwA/gACAdcAkwBFAPj/sf9p/yj/AP/O/qH+i/6C/n7+gP6r/vX+VP+o/+j/KQBzAMMAIwGYAQkCVAKUAtwCEwMzAyAD+ALYArEClAKHAm4CLAK/AT4BxwBjACEAAQDt/8z/f/8Y/7X+df5n/mz+b/5d/iz+FP4c/jv+YP5U/if+B/4O/kb+nP67/on+Rv4U/h/+dP7V/hf/Kv8Y/yH/a//g/0QAegCxANwA9gA1AWkBagE/AewAlQBlAEcAIwDz/67/Q//Y/p/+lv6r/s3+7f7m/tD+y/7W/vj+E/8U/wv/9P7l/vj+J/9W/2v/c/+O/73/AABeAL4ABgEaAQ4BHQFDAWIBegGSAY8BUgElAR8BIwEYAfkA7ADbAMgAxADeAP0A5QDOAM4A0gDoAPUADAEYAfkA0ACuAJcAewBmAGYAaQBpAFoARAAuAAwA9v/j/+P/4f/S/7z/j/9e/zP/DP/u/uH+9v4b/0v/i/++/+z/DQAoAFUAigCrAKUAkwCEAFsAMAACAM7/rf+K/4H/of/L/9v/6f/6/wMAFwASAPX/0f+b/1f/Gf/j/qb+bf5E/hn+Gv5J/oj+5P5X/9T/PwCWAO4ARQGiAd8B9wELAvsBwwF5ATgB9wCqAGwASgBLAGMAdACCAIoAjgCIAIoAowC7AL0ApwByABsAyv9//zX/B//2/ur+5v7y/v3+Av8M/wX/+/4S/yv/Rf9Y/1b/PP8E/9L+pP6Z/r3+3/4W/0j/df+n/8z/DQBKAHcAoQC5AM8A1ADCAIkAMgDW/3L/Kf/7/s7+pv59/mj+bf6P/s7+Gf9r/7r/HACFAPQAYgGzAesBDQItAkwCaAJzAlACGwLUAX0BNQHwAKwAVgD3/6b/X/87/yL/Av/q/tf+1/7i/hH/TP9s/4v/k/+n/8n/3P/m/9b/yP+n/5L/qv+7/9D/1f/g//z/FQBLAHQAlwDFANgA9QAGAf4A3gCiAHsAQgAfAAoA3P/F/53/dP9d/1H/ff+y//v/PwBfAH4AeQCGAJcAlACTAGsAWQBNADgARwA8ADsALAAwAHQAoQDrACABTAF2AV4BVgE2AQgBywBcAAsAof81/9b+b/40/tj9nv2H/X79v/39/V/+sP73/mX/tP8SAFQAlwDdANoA7gDjANgAwAByAFkAIQD9/+z/5f8ZABEAJQA0ACsASwBDAGkAZABGAD4ABwDz/6b/Yv8z/9P+p/55/on+lf58/sH+4P4W/0j/h/8IADsAiQDBAPcAPAEnAWEBhwF7AWYBHwEVAd8AswCbAGIAVwAVAAUAFwAHABsA/f8BAOj/sv+n/2j/Uv8h/wD/CP/S/sL+qf6v/tD+2f4j/1H/jv/a/wkAVwBnAG4AeACBAK4AuADRANIArQCmAKMA1QAFAS4BXQFxAaMBvwHTAeMBuwGFAUEBGAH0ALgAhAARAJT/L//i/sj+tv6z/qX+nv6i/pn+yf7y/gD/Ef8S/y//Q/9Y/2f/Tf8m/9/+u/7E/s7+9v4W/y//Rf9b/6b/8f8qAEYAVABzAHAAewB/AF4AKQDR/47/af9Z/0z/LP8q/yH/Iv9C/2b/mP+w/9j/+v8OADMAMAAeAPz/y/+i/4L/e/91/3//lf+x/+j/HQBdAKYA6gAsAVUBfAGFAVgBEAGiAD8A3f93/yL/wP5o/h3+Af4I/i3+g/7R/ib/gP/S/x0AKwD7/6T/K/+K/tP9KP1i/H37m/ri+Xn5Tvlv+d35iPpz+6n8Tf40AC4CQQRWBo0I+QqCDRUQVBIpFLQVGBdnGIEZXxqRGu0ZuBgPFyIVzxL5D60M5wjRBLQA1Pwj+YH1B/LP7gjs7Omh6BHo9ecM6FHo3ujC6QProuxp7v7vYfG78if0oPX59hb44/h++TP6EPsI/OT8a/2O/V79Mf0z/WD9Xv36/Fz8gfuZ+uj5b/kq+dH4Y/gv+IL4kfkV+9D8bv7c/2YBLgNqBfEHMQqkCx8MMQw7DD8MHwyXC7cKcwkGCDIHHAdnB4gHaAd4B+EHyQgUCoELhwx+DLELrgrQCQYJ3QdMBjwE4QGx//r98Pwu/Fn7gPoD+kT6KPt5/Nf94/6T//j/mQCXAZ4CXAOTA3UDGAO5Ao0CYQIrApsB1wBEAND/jP80/4j+gv1J/D77f/oz+hb6wflJ+Zr4Jfg6+Jf4OfkD+sr6ffs8/EL9YP5R/9L/+f8hAEYAeACnAHwAqv8w/mj8x/p4+Un4EPe99Un06PLv8YvxkfGw8dPxEfLK8hD0v/Wt93H5+vpr/C/+wgAZBPUHAwwnEH8UNhl9HiMkwynTLusyBjY4OHg5ajmqNwk0my7KJysgKRjzD4EHw/4Q9hHuT+cI4ifeUNs52cbXH9d3183Yttqt3IveP+AV4kTk0eaW6Tbsme7W8EbzPvaT+fX8CAB9AnkEDgZmB4cIJwkBCeMHCAa5AzUBlP7d+wf5/PUA823wke527dHsnOzM7FPtWe7v7x7ymvT89h75FPsY/SD/SAGDA4EFQAepCBYKygujDXoPIBGaEuUTJBWHFugXHRnZGeoZkxkLGVcYXRfzFe8TLBH0DYAKBQeEA8z/8/se+Jb0i/Ej727tOux762HrMewK7sDwHPTD93j7Jv/MApwGUgqTDRUQrRF4EngSzhGYEL4ONAwECZkFSwI6/4n8B/qy94j1oPNR8rrxrPHU8SbygvLN8kTz8PPC9Jn1VfYe9xb4SPmh+i78wP0d/2gAygFeAwcFjAbnBwEJvgkqCnMKtQq4CnIK7QlFCXMIWAchBr4ECwMQAQP/HP09+1n5d/eR9bLz2fFS8C3vTO6d7RDtxOy07NXsRe0D7tnumO9o8GzxnPL/83n1DPeJ+OL5VvsH/QX/IQFXA5kFzgccCrAMoA+0Ep0VVhjbGk4dwB8iIlskECYHJ0knESeHJpUlGiToIdceDhveFpYSUQ7nCSkFMwBA+6L2t/KP7xftE+tH6evnLucu5/jnL+l46pzrk+ye7evuVfCR8WjysvKc8oTyr/Iv87/z8POs8zfz3PLe8jvzrvPW85vzMPPx8hzzhfP180b0b/TA9HP1ivb49175dPpN+yv8Rf2c/vv/FQH3AdkC8wOLBZ0H5gk5DHIOtRA6E+kVcxiFGtIbFRxyGzEaURjkFccS8A6pClQGQgKn/p37FPkc99H1VPW79ev2lfha+gj8lv0p/9kAjwIQBDIFzgX/BRUGMQZgBoIGbwYgBqAFFAWdBDEEtwPuAr4BZgAe/xH+Qv2A/LX72foH+n/5S/lx+db5Pfqa+gL7p/uB/GT9Pf7j/kj/mv8RAMkAlwFDArUC9gI2A3cDtwMMBD4EHASlAxIDdAKLAVYAz/7t/Pf6Kvmi90729fR58/Txo/Cn7wTvqe5P7srtIe157P/r0uvn6zbs7ew47mDwvfNV+O/9kQQkDHwUfB3iJlIwRzk/QQBIE00iUAVRdU+GS11FSD2uM+goQx0LEdYEPPmQ7k3li91F15bSac/Zza/Nls420DTSb9TV1nrZbdxz31ri+eR05xfq9uw18NrznvdI+9b+XQLkBQ8JjgtUDTkOLQ5cDR4McgoTCAQFbQGx/RP6s/b789Dx9e947l/t8+wH7WztHO7r7tzvyfDb8UjzwfQ19pH3+fil+nn8tf47AekDsQZoCTIM+Q6KEe0TEBYGGNEZUhttHPkcCB2QHLUbmRoqGTQXehQVETsNFwnOBFAAofvX9hXy0u2F6k7o9OZN5oHmtucb6tTttPJE+N39NANvCJUNixIGF4sauxyDHRwd9Bs3GrkXSRT1DxcLJgaXAaT9Ifq99l3zUPAL7srsfOzK7Dntg+3S7YXu2u+q8ZHzRfWx9vD3YvlC+1f9T//LAMoBogKcA+gEXgaXB0oIbQhaCGcIxghWCaIJhAnqCOkHxQaOBScEOwKl/6P8ePmB9sjzL/GX7uTrYelo51nmSObk5snnuOil6ZPqsOsK7ZvuNvCp8RPznPRh9m743PrQ/YoBNAbVC4YS+RmnISgpNTDCNsI8CUJ0RpBJ0UrNSVpG2ECqOSwx0ifvHa0TMQnZ/gv1GexB5JrdaNjY1PHStNLZ09HVDdhg2tncqd8H4+vmBevY7gbyhvSe9pf4ivqD/HD+JQCCAYgCQwN2A+ACjgGg/0n92fph+NT1BfOs793rFujp5L7iuuG14VbibePu5PXmtukg7fjw1/R2+NT72v5+AaIDAwWlBaUFewWxBXMGkAemCKQJxAqDDFMPThMQGOQcHSFpJP8mDSl6KgcrOCrJJ+Ij0R76GHESUgu/AxP8DfVf73HrAumC563mYuYE5wfpjexN8Uv2xfp1/nMBLAS8BhMJ/QpBDOUMLA1qDZ8Nbw2BDMAKiQhuBscElANaApsAHP4y+4T4c/Yo9WX02PNi8xvzOfPG84n0LvWV9c31TfaF92/5mftu/a/+hf9eALQBwgNMBssIyQoFDJkMswxcDIgLKwo8CNoFMwNyAHf99Pnp9Z/xpu1j6hzo1uYd5oXl0uQv5OHjFeQL5ZrmeeiP6rrsCO948ejzufZV+v7+/wREDF0UtxzyJOAslTRHPMlDp0o+UNdT61RuU6JPpUm9QUc4mC07Io0W7QqU/6T0aepC4anZ/tNt0NnOps4uzxfQM9GO0krUkNZg2X/c0N8s42Hma+lc7HvvJ/Nm9xD8EQHvBSwKdQ2jD9EQBxFXEMgOYAwtCR4FSwDd+vf0/u5t6cXkReHH3iHdHdyx27HbHtxQ3SHffOFG5GDnxOo27sTxT/Xa+LL87wCuBdoKERDvFCoZsRykHxciIiTbJSInuCdkJzkmfCSBIp0g/B6MHRocZBpCGNIVMBNhEGAN9gkMBrgBJf2r+GX0QPBR7N7oZ+Zt5Q7mF+gm68zuzfI29zb8yAGPB/kMgBHNFPoWMBh6GOkXgxZrFMwR9w4sDEoJLwboApH/dPzP+b33RPYK9cPzUPLN8H3vn+5Q7mnuyu50717wb/Gx8in0v/VS9+j4q/qY/IH+PwCcAXEC0ALfAu0CBAMHA7wC/AHeAHP/u/3r+yv6ifgP97r1nfSo883yAvJt8STxN/GQ8e/xKvL98UHxDPBn7ors0Opo6Y/oVuie6IDpU+ud7gT00Pu9BQIR4xy/KEI0fT9eSmRU2FzNYqRlfGWQYgtdL1U5S10/JjJxJAcXWwp4/iLzZuiv3o7Wg9DBzPDKOMr4yfTJTspry33NddAt1ETYftzn4InlX+oy79fzOPhe/GYAQASoBxcKLQvMCiEJpgbYA90Am/0S+kP2cvIJ7yPsDurI6DXoeeif6dTrwe7F8Y/06/bQ+Gb62fto/eH+1P8iAPb/gP/z/p/+yf6a/+YAjQKIBMUGQgnQC1gO3hAmExEVkBbMFx4ZJhpjGuIZvRgZF24VOhSQExcTMhKVEL4OCA10CxgKuAjiBowEBQK5/+n9RfxN+v/3zfVF9N/zwPSA9mP4C/qN+0j9q/91AiEFOwdqCMkIqAgiCBwHQAWIAl3/LPx0+XP31fU99KjyRfGR8AjxkfLC9D73oPnF++T9MwCeAr0EUAZMB8oH4AfFB4kH3walBeMD2AETAML+7/1n/b784PvH+uf5ePlk+ZD5iPkh+Vv4UPda9nT1T/Tb8hTxRO+17Ybsu+sY6zXq8ejF5/bmhuZ35sPmOuew51TofelT6+ntO/Gz9an7+QKjC3UV0x8zKns0yj4OSd1SdlstYlFmSGdIZcBg8FnoUMpF/zjvKiYcYQ0p/8nxZOVj2njRCMssx4TFhcWTxinIVMpfzUDRsNU/2mfeA+JC5U/oYOt17njxefSR9wX71v6oAvIFXQjOCU8KQAreCfUIJQcrBDcAifub9gby2O1U6kDnpeQg44bizuLj42PlAed26Abq5+sH7inw7fEz89HzFvSZ9Lz1qvcV+uH8GwCSA34HAAzPEG8VnBl6HSIhkCSSJ8spviowKokoniYLJaQj6iGVH0scSxhGFLIQsw25CkUHSwMi/0j7A/hV9fDyuvDd7tDtJu7079byHPZg+cf8fQCnBPoI7AzqD3QRoxH5ENoPIw5gC4IHzALA/Qv5IvUf8ojv1ewc6vbn6eYI5zzoA+rF61nt6+798L7z2fb5+fD8vv+tAtcFHAkiDGkOxQ9vEN0QWBGoETERhQ+fDNQIrwS2ADD9vPnp9bbxdu2k6YHmGOSB4oPh1OCj4ELh0uLr5EPn0Olu7BLv1fHd9Nf3Gvpl++b79Pv5+0f8EP3z/Zj+Vf/fAOwD1Ah2D0wXhh+oJ/UvyzgAQrhKAFICV0hZ6liLVoxSnExCRIg5Fi3+HzsTMgcP/JDxiuec3rzXU9Mc0TbQ9M/ozzfQcdG+08nW5Nlj3DjeAOBK4mnlMun27FXwePOT9gj6/P30ATYFKQfNB4EHpgZSBTMDOQAh/OD2TPH760fnFuMk34zbatgZ1hzVj9Uw12PZuttd3oThcOUo6jTvGPRu+FP8KAAnBG8IuwyVELsTehZuGZMcqh+VIuMkPybzJnMn+Sc0KJon8iV1I1cg0xxbGf0VYxJXDjgKhgZ0AwUBEf9h/cz7Zfp5+UP5ivn4+TT6G/re+cH5Dfq9+o77RPzj/Jr9qv5RAHwCuQSYBgwIRgluCpwLvQx0DVgNQgx5CncIXQYkBMkBJ/9K/Hr5+/bz9CLzMvEm70nt8etN61PruesB7N/ru+sM7CXtB+9f8Qn0pvYZ+cn7xf70AQcFtQcsCl0MPA7eDxMRdRG/EBQP3QxbCqIHuQSKAef9wvlk9TnxdO0T6jTn4+Qd49ThIOEi4YvhEOKp4lnjLuQ05ZTme+iM6nrsXO5x8AXza/Yr+5gBXAkCEk8bFyUlL0o5eUNmTXZW6V0/Y29mKmcuZY9gR1mHT6hDUDZ8KJwa0AxZ/17yPeZ927fSacxvyFbGocX3xRrH4MhFyyHOK9FD1HjX4tqC3i7ixeUS6R3sMe/B8vn2lvsyACQEAQe+CIAJkQkFCb4HgAUbAtT9EvkS9DDvoOpk5q7iz98p3gbeK98K4VTj2uWF6IfrAO/l8rz27Plu/Hr+UwAbAuYDvgWPB2YJgQtCDpUR7BTnF1saZBxIHiEg7iFLI6oj7CJMIT8fRh1oG3QZYBcvFTETlhFjEJ4PyA6ODRgMpwp2CWIIFwdUBegCAwAm/dD6KfkA+Bv3efZB9o72rfeP+bT7yf2h/1UB8QJnBJwFOAYFBtYECAMsAWL/tP36+zH6Vvhk9tX0zPM38/vy5PLn8gPzUPO38y/0tvQ29cj1ffZa94D4x/kN+0z8qP0x/5AA4gEoAyYE0QQrBVEFLwWPBHkDEAJlAF/+Lvz0+ZL3FfWi8lzwQ+5b7MPqiump6C3oQujv6N/p5+os7KHtEe+I8BnyffNe9NX0UPUl9lX37fgT+4f9NwDRAw8JHBB9GLYhMCtrNE89LEY1T5lXJ14ZYkBjv2EHXrpYsFE9SC88FS5EH+MQoQOX9yTsBOGd1h3OmMgZxtzFv8boxznJXssbzy7UptmI3i/i7+Se5/Lq4+6a8jj1kPZO9z74//lg/E/++f4H/gL82fkH+H32ifSO8ZLtUunE5TXjnOGt4NjfEt8H35LgpeOV56brKu8L8n70Hfdn+vT9+gDOAqcDAARTBE8F8Qb9CBYL+gwaD9ARIhW3GBIc2x7gIGAiriPJJHwlISVaI2Yg0hxpGZMWXhRzEmMQEw6rC7AJagi2B1EHtAagBSkEVQJGAPj9Uvtv+JH1JfOa8STxrvHE8jn0Nfbe+F38nwBQBdoJmQ02EK0RKxLOEZMQcg5xC+kHEgQOACD8Vfib9AHxwO0967Lp+Oi16IvoaOgz6BXoYehU6ezq5ewR72Px6fOr9n35VvxV/1kCIQWwBxgKCwwuDVENswykCyQKWAiBBosEDQLV/nP7QPgv9WDy4u+y7YrrXOmW54TmxeX85Ejks+Mj49jiEuOy4yPkDeTl4xjkAuXd5p3pAe2j8Mz0TfrDASELxxXyIPkrrjZXQVVMWldZYUtpeG6dcDpw1G1RaTtiNliNSxU97S3eHikQwgE388rk49eTzRTGK8ESvgu84rruusG8fsBfxUfKzs4x08/XIN0n40Ppre718oT2L/qG/kEDoQf/Cs4MMg29DMoLhAptCCAFzwDr+w73XvLH7SLpZuQg4ALdn9sJ3HXdCd844Dvhw+I15Z3oe+wQ8MnyovQw9hv4hPoh/bD/PwI+BegIdg3REjAY6xyxILwjvCa/KU8s9y06Ltks2inUJXYhBh1+GPET1Q+ADPUJ4wcoBr0EYgNGAuwBVQIIA1IDowL9AKv+FPyp+cH3UPYY9Uz0FPRq9Gj11vZw+EL6PvyD/vsAGwOLBO0EHARvAlEAKv4A/Kr5Mveu9EHyMPCt7svtSu0m7YLtau7p78DxuPOO9S33w/iW+sn8NP+xAfUDwgVEB7EICAooC+MLQgxGDNQLDAv9CX0IWgafA7cA9v1X+9n4bfbx83DxGO8+7ebr7OpR6uTp1OlY6mHr1exO7pHv0fAS8nDz3fQl9gz3Q/cW9yr3sveN+Ir5jfrL+739JAFlBjsNCxUrHUglhS0mNiM/5kd+T/JU8VewWCxXsFNuThVHfD0YMvcl8BlSDkUD1/hU7/fmMOCl20TZY9gJ2OvXQ9gV2XTaQtwf3pXfS+Cq4D3hfuI85NrlYOfV6J3qC+098CT0y/dK+pL7Avwp/Bf8k/uA+p/4yPUt8qXup+v06D/m2OM94p7hQuIE5Grm9ugW6yTtxO8v8yr3//pH/qUARwL6AwAGeQgkC6YN2g/UEUIULRcUGnkc/B3JHi0fWB+EH5MfuR5PHN0YVRV1EokQag/fDkgORA1ODAgMuQzHDXoOgg61DV8MrQrPCLUGtAOu/zT7Kfdv9B/zwfLD8sfy/vIJ9H32avoA/xMDJAYzCLgJIgtYDPoMUAw7CmUHjARDAkEA7P35+lH3tPM68VnwgvCr8Czw8+6X7d7sVO3c7prw1fGQ8lPzmfRh9oj4svps/NL9TP8tAU0D+QSrBWcFnwSwA/kCnAINAtAAuv4o/N35Ifjh9vj1F/UH9NDy5/HH8UnyCPO48yz0UvRr9M/0ePXs9Wn1y/Nf8Xnuw+vO6XPoJeeX5VjkhOQN52zsovTy/lAKYRZqI9oxdEEeUZFfhGs0dLB5THwzfOt41HHIZm1YOUh8N/cm0BbHBvD2uOc12q3Pgcj9w+nA0r6TvTW9Fr5iwPHDxMcZy17OKdK51uzbgOEV5yHstPBq9dP6sgAgBncKKA0iDvINLw0hDDgK7AYqAjD8wfW173Xqq+Xk4E7cbNje1RfVBdYR2C7aE9xv3u/hmOa166rw6/QN+JD6nf3JAXQGiwqxDVIQKxOxFsIaAx+pIugk4iWGJpsn5ShHKQcodiVZIlkf2BwUG7QZqRerFKsRkg9FDuAM7wprCE8FuwFJ/kz7WfjC9I3w0OxZ6jbpZOma6lfsVe7F8Ez08/gg/iMDdAfpCoINXQ+9EGMR7RBZD+sMDQoAB9wDugBx/bz5Dfb58sXwVe9O7ort7OxW7CHswuw67ibw/vG184b1f/ez+Tj8rP59AIwBPwLpArADdQTQBGoEEQMnAVb/8v3L/ID73vnz99X15/OU8sHxBfEg8EjvxO7K7kvvLfBH8WPykfPP9B32dvd4+AH5E/mM+Gz3q/Vd88zwY+5l7P/qVuqv6mfs+u8Q9q/+MgndFBMh2y1OOyJJnlZ3Ym9rlnAHcqBw9WzwZr5dGlGtQZowix+CD8EA/PKq5TrZ7M46yDrFosQhxa3FKsZqx0LKrc7r06DYttuk3YLfGOK35YLppuzt7tLwVvPE9tj6aP5kAHUAHP+//cz8GPzi+vz3vPPw7oPqWOdx5WDkYOOg4priDuRa51DrJu878p307fZg+Yf8hP9aAd0B4wDD/y3/b/9tAD8BAAK+Aj8E7AZPCkEOnxEuFHAW2hgXHGofESJeIwEjqiH/HxUfwh4HHoIc7RncFsATCBGoDsYLYQhlBLIA+/2w+7z5a/en9AfyLPA28PnxqfR89/r5m/yd/0MDdQesC3QPTBJoFBcWWhfJF94W7hRBEjsPSgxTCTYGaQK5/cP4I/RN8D/tkur654jlm+Nc4uzhOOLq4gzkdeVM5zPq/+0J8uD1XvmI/Gb/LAIQBd4HHApeC8ILnAv8Ch8KUQl4CFkH2AUsBJIC9QBU/7v96PuU+db2E/SU8T3vAu3p6vXoJud15TPkuuPM4x/kRuQA5JbjJOMR46XjwORm5mro6eqp7lD0SvxdBgMSsB7aK3U5bEeSVTRjCm8ReLx9/38cf1R7rXTrav1dRE7CPLAq4BjfB8b3VOja2R7N3sJhu2O2LrMgsSCwV7Aisoy1EboXvyjEY8nuzhDVD9w44+Lp3O9w9Q770ACNBncLKw+CEV0SfRIlEikRMw/JCy0HsQEp/Cv3y/I079zr2+in5ozlJOa95+XpNezl7VvviPDV8UDzGfSb9Fj0v/OR89bzMvU696D5iPzn/2YE4wnpD90V3BrZHs8hQCSwJhIpAitlK/gpPyfiI58gpR3hGr0XzBNjD6wKBwadASb9pPga9P7v1Ozi6hXq4+lS6mLrKe0v8K70hvq0AG4GmAvxD78TAhe7Geob3Bx1HMIaRBiMFTgSSw6nCXIEYf/P+lP3lPQT8p/vFe1B647qBOt87Gruf/CC8qr0I/fb+Zn80/6nAB8CjwMoBTQGmgb+BXIEqwLJAFb/JP6x/N/6fvhG9l70+/JX8q/xC/FO8IzvVu+G78nv2e+W7xvvyu4V7+zvM/GC8mnzDfSz9Lr1JPfi+Hb6T/t0+xL7z/rX+rP6Vfq1+f345fgz+pD94AJpCXYQ7hc+IKgpQzSCPx5KyFLFWARcsFwNWwBXOVDDRu86oS3rH3oSmAUv+Vntr+IL2k3Uk9Em0QTSLtNp1C/W7ti+3OngwuTE55jp3+oM7GLtwe5w73zvBu/E7j/v/O/T8ODw8O+E7uXs9OuF6zjrs+pK6cjnleYv5hbnhOg+6tDroO2A8FL0Evmy/S0BbQOpBOkFegcVCSgKwQnjB/sENgKiAAEA//8BAPz/cACCAb8D1QbzCdEMIg9wEfMTvxbHGSMcux2BHrweVR9AIIIhaCLxIVIgsR2+GrcXVhSeEPELhwblALn7svdV9MbxDvAN70jv6/AM9Oj3lPvm/twByARwB68Jbgv0CzkLaAn1BnEE4gFk/+T8U/qq9y31QvO38WPwMe//7c7s1+uR6/zr3uzF7bDuHvAX8r/0HPgG/AgAbAOFBtoJVQ11EIsSpRPUE0YTXRJOEe8Peg24CVsFBQEH/XL5R/ZG8wLwx+xT6uzoJ+iW50/nZufC54ro6Om663zt7u6T8IbyYPQo9vv3t/nT+hP7xfrH+S34WPbF9Izz7/Ej8Cvvsu9O8m/3SP/nCDYTWR7oKhM57kc1Vr9iU2xKcgZ1NXWVcn5s2WIKVthGLjaGJd0V6AaO+A7rJ99b1eXNB8kNxibEksI2wcHAP8G8wvXEa8fFyQTM6c7I0rvXb90y4wfp1e7y9Hj73gGqB+ULfw61D7kP5A7BDHYJCgVL//H4mfLz7BDoyeOs4MXeB95L3pDfsOHR47zluOfa6cDrM+2M7qTvHvAn8H/wt/Gk81X27/lT/hcDGAi+DeIT/hn2H70lKCv+Lxw0hjf6OTY7QDtyOhI5OzftNO4x5C25KLwiPhyIFbIOsAdwAAf5zfEX6xbl9d/q2zfZ89dp2KbaL95+4hvnAewV8Wb2F/yrAX8GLwrADIEOhg/yDwYQyA/5DncNwAv6Cf0HzAVnA8QA6f08+xj5j/dv9n31v/Qg9Jrzn/N89Bj2/fcK+jP8A/5U/0wAHgGpAb8BggEXAXMAZ/8I/rL8RvvF+Yb42fec93z3fPdB94j2aPU99JLzPPPe8nTyB/K78YvxqfFe8l/zhvTa9X73Q/mt+qT78/uX+9z63fm0+D/3T/X58rPw8u747ULuQvAc9PP58QHnC0QXhSNGMBk9h0nBVAZexGRQaEdotGQmXvZUXUkUPOstgB9YEQkEH/if7XLk1twg13LTcNGt0OjQnNE80uLS9tOQ1ZLX1Nks3FjeYOCp4nPl0uhj7BLw6PNq94H6Mf1p/9UAEQFLAKb+Zvyq+YL2ZfMR8KTsgen85pHl6+T75KrlqOb/53zpT+tR7RXvvPA78u/z5/Xc9+v5vfsh/WH+CgB3AmcFfAhzCzYOkBCgEqwUrBZmGHIZExqFGuEaZRu+G/AbwBsdG9YaJRsiHE8dzx1NHWEbchjpFCARUA0DCUYEUv+g+p/2U/Ph8C3vYO6d7hXwFPPM9qH6C/7YAFQDiAX9B2sKYAysDdsNUw0XDE0KjQilBpoEaAJsAMX+8/wj+x359fb09DfzYfI/8mLyivKH8n7yhfIc81D0pPXq9tP3VPiD+Fz4/PdY91L2GvU09PzzdfRt9Zn2s/fC+BX6B/zF/gECFQVsB8MIbAnHCewJzQkcCZwHGQXlAZP+U/su+Pf02PH97qvsR+va6jnryesm7F3sQezy65zrI+t36oPpq+iO6MTpt+ym8Yr41wBtCnQVziEuL9E8ikkzVB9cRWHfY0BkHGIgXT1VjErmPV0w4SKtFbwITPyx8IvmVd4/2BTUKNECz4XN08wnzWTOM9AW0sLTQtXf1gzZ9Ntz30PjL+cj63HvQfRQ+U7+eAKHBZoHqgg4CVsJsAgYB0YEhABb/Bz4GvQ48KDsSOlM5kTkQeMf43rj8eOR5IDlAudY6VLsV+/I8WLzk/Tm9aD3Bfrd/Jz/KQKXBEcHgAriDSgRMxQHFxUa4x1rIgQnvCoXLWIuKS8pMIsxrTKFMh4wsisHJtEfoRlQE7sMpAVA/qD3DfJ37ZjpIeaE4z3i4+KV5YHpoe0Z8SL0Yfc3+8X/YAQ9CMcKEQzBDCkNgA1uDZIMGQsoCW0HJAbjBFoD/wD5/bb6yvfy9fX0ZPTI87vyu/E18Y3x2PKY9GT2vvfA+Pb5Ufuu/KL9sf0p/aH8gPwR/f39bf7s/bn8qvtv+z/8wP0b/8//3f/C/w8ApAAOAdIAlP+L/TH7Bfkh9w71oPIC8Jnt+et86w/sEe3e7S/uNe4/7lrueO5P7oHtAexf6oXpHOp/7LTwj/b3/dEGSxGEHSArVzkIR2lT413sZUJrjm2pbHBo7WC2VnpK7TxeLgofpQ/JABLzLudk3YfVJc/rye3FNMPFwYXBG8JawxzFYcd9ymXO7tLz11PdBOPP6OTuG/X6+lYAzwRmCAQLaAzXDFwMBAvOCN8FrQIg/2L7sPcp9BDxGu6I67LpdujD50TnDuf35qrmgOZ/5s3mS+et527ojOke60nt++9U8/727Pps/1oEnQndDuATZhgEHNke3yBDIj4j2SNyJO4k+SSYJMEjwiLpIWohayF3Ifggdh//HMcZ0BVoEYMMFwdLAU/7zfUe8TPt7ulW59PlfeWq5o3pq+1q8uX27fqq/h8CfwV4CPoKygxzDVANtwzKC5AK8ggVBxwFRgPCAbQABwAw//D9aPzm+qr57Pi6+Kz4d/je9wX3Sfav9XD1evW79R32hfZQ9yz42fhr+av54/ko+qn6o/uh/F/9jf1j/TX96Pz5/Gv98P04/vP9af2T/G37Cvpr+Nn2LvWL82nyxPFr8SzxGfFK8cTxsvL983z1xPZZ9zf3WPbM9MrylPCe7jbtuOyc7e3vqvPp+Ln/JggyErwdXSpFN4VDSE4TV1tdwGB5YYRf+VoAVMRK1j+FMxMmJhhvCob9v/GO513f7Njy0xbQJs0uyxjKIsqEy/nNM9G01EnY/9u837Hjz+f06w7w8POo9/f6if1M/+L/bP9g/gv9zftm+rX4w/aC9Fzya/D77h/ua+0c7T/t8e0c7xXw5/BF8S3xIvEn8afxOPJq8mjyHvIB8jDyxfIF9KL1yfdZ+kj9swAeBJ4HHwuXDi8SlRW7GJIbFx5/ILQisSRTJlUnvie9J6wnmSc7Jxgm0iN3IC8ccBekEtsN+AjRA5f+pfl59VDyG/Dm7pLuHe+28FTzw/aN+jb+fAFwBEcH9wk0DLwNXA7zDcwMPgtyCV8HowRNAa39Jvob91j04/F2787sVep56K7nx+dd6E/pVeqj603tVO/l8YD0Afd4+en7gP7mANMCIATQBBIFKgViBXwFKwVEBKECoACj/vT8uvu/+gz6dvkB+eP4B/mH+Tj63vp++wn8pPwo/VT9Sv3J/NX7v/qs+er4Xfiv9+T22fWy9ITzUPJT8VnwS+967kfuFO/n8MDzvffi/FoDRwu1FFMfeCpPNVc/WUjMT0pVf1gSWfFWIFIWS2dCTTg9LXAhcxXtCUv/NPbD7vHokuQl4Yreb9yj2kHZMNh31+jWf9Y91vjV9tWB1q7XlNkx3JLfruNZ6ETtBvJa9tb5RvwM/mj/ZQDkAMoAIACw/q38f/pZ+KD2OfUm9KrzV/MO84nyt/H28A7wiu+Q7+nvv/CD8U7yKfPg8+70RfYt+Mf6sP3/AC0EKQfrCUYMxA5RETcUlhcIG34ehyHoI3clYSY5J/UnwyhOKd4oaieZJLQgQxxVF0IS7QyAB0UCSP22+FD0JPBy7HDpr+dd51HoK+oy7DbuXfDd8tL1F/mr/F4A3gM9B1sK9wzoDusPVBCKEKIQfBDpD8gOzwwECugGrAOJAKL9CPsN+Yz3T/Yn9fnz7PIu8hTy8/Jm9Pj1cPeE+FL5CvrE+qf7lfxp/TX+4v5C/zD/sP7i/dL8zfsM+4T6I/qn+Q75bvjB9yv3G/e197H4vvmB+sz6lPou+gz6Jvo4+sn5nPhT9xz2LfWu9PXzu/L68BnvtO2o7JTrLeqj6Nbnqei766Twcva4/N4DBg0PGZ0n3TZvRNZODVZLW6tf42JzY7Bf5lYSSow7WC32H+4SngUU+Nfri+K73OnZRNg61vvTktIo0+zVYdnI28vb29np15fX1dmr3YHhnuT55uPphu6v9C/7PAADA+wDGwSaBE0FIAXGAhL+M/gf8yzwPe9Y7/7uoO0Z7Hnrt+wn7zjxIfJ28W/wXvBa8QbzqvN48l3wtO5S71TyY/YY+jn8SP3J/tkBvAYODG4QehOXFVAYLxyLIG8kcCalJoUmRyeQKVgs1S3XLEQpeST1H1wcPxk/FZAPlAhdASX7UPZe8pzuy+qT5xfm5+aL6bXsG+9u8FzxNPPJ9of7SgCvAzMFpAX6BRIHxQgiCmAKRgmiB1oGoQUtBQgEpgF8/n77v/l8+d75rvlR+Cr2PfSC8zH0jfV49lH2V/WF9Jj0aPVc9rD2CfYN9Yf0EvWf9j74L/l0+aT5efpL/Nf+WwEIA7gD2wMaBLwEZAWcBTYFGQS3AoQBhACm/0D+Svw++kn45fYP9nr17/QI9Cjzx/IB89nzzfRz9Xn1uPSh84jyk/HD8Pnvf++k78TwhPMj+G7+9QVzDtcX3SExLFo2rz9dR6JMS0+ST6dNmUmMQ9470DKgKAoewBMdClABbfm98mDtFOns5bHj/uGD4Mbe+9xM27fZodga2BfYetgU2Urac9yb3/zjOOm57gb0o/i4/DUA4gKsBDQFgQTVAqAAkP6L/DH6e/dU9EPx1O5T7fTs8OyH7MPr1+pN6oXqW+u/7DDuU++K8A7yGvRd9mT4bPpE/Az+RQDLApkFNQhEClIMiw44EXIU+ReXG6ceGCE8IzslSychKW4q7SoRKvsnEiVwIVwdvhhsE6oNlweOATn8tvf68/Xwre5m7SDt8u3E7wzyafSV9qf49vpW/cX/DALaAyIFvwUNBj4GEAafBekEDQQPA8IBXwDT/gr9RPud+XP4tPcN97L2ffZR9kL2Uva59nL3X/il+TD7pfy6/Un+ev5t/jD+//3A/TL9QPzg+pT5mfji98D3CPis+MT5OvtJ/Zr/pgFTA2YEJgXXBWoGEAc9B20GoAQEAjj/o/xv+rz4Pvex9Sj01PL68ZnxgvGO8ZrxkPFe8fbwMvDj7gnt/epO6aHoVul86wrv5PMR+pwBfAqeFIofkioqNc8+EEeITaRRH1MDUolOLkl1QtA6UjLnKL4eXBRvCnwByPll8xPubulM5aHhpd493B/aZtj91g/WztU51n7Xadm724Pe3OEB5u7qTfDd9QT7YP+rAsoEDwZ3Bi4GZgULBFICJACF/cH6//ef9bnzR/JO8YPwru/M7u7tTe377OLsA+187TjuMu9o8LbxFvNX9If1AffU+O76Bf3a/n0A1AEvA/EEPgcGCtcMkQ9SEhkV+RfrGvAd3iBGIykleCYYJ7UmASUgIkQexxnrFPkPCAvTBWkAIvuP9j/zQPGK8NjwrfHW8kL0KPaT+Eb7Hf7pAIUD7gUNCOcJaAtxDAMNOA0zDe8MYAxeC+gJBgjQBYwDRQEM/+r80frl+Db33/Xi9Cb0rPNf81fzofMs9An1Bfb69uH3gPjQ+NX4jPg3+Aj4BvhA+JX41/gE+VD5//lD+xr9MP85AfUCNwQuBRAGvwYPB+UGJQYQBdADdAIpAZz/lf1H+/T4HPfR9dP02POD8svw5O5F7SbsPus86tboM+fk5WDlG+Yi6CfrAu+988P5bQGXCs4UOB8eKTEyWTqXQcFHTkyhTl9Oq0sfR2NBxDo6M70qYSF5F50NewRp/DP1jO5Z6PLiit4y2/rYgNd+1tTVnNV41nrYL9se3tjgaeMB5uPodOxt8BP0z/aC+KT5hfpJ++D7Bfx9+z76tviS9wb3p/YD9uv0iPMt8kbx/fAZ8QHxN/Ds7rntDu0W7ZvtWO4V78Xvx/By8r70Pvd0+U/7Iv1E/+QB5QTpB2UKPAzgDe0PwBIlFoMZYxyaHmAgOiJfJJsmTijiKCMogCZfJPQhQR+7GzUX/BF7DHQHTgPv/wP9L/q99xX2kfUx9ln3mfh7+eH5U/oh+2X8o/1i/rD+r/7j/qD/3wBvArgDgQQXBc0FxAalBw8IvgeoBicFpwOPAqMBbwDa/gD9V/sq+p75hfld+fH4NPiZ93D3bfdu9zL3hPa/9Tz1afU39jD3Jfjx+Nj5G/va/A//NwHsAvYDjgT4BBYF9gR7BHMDAgJSALv+TP3M+yT6Rvhv9tP0mvPu8pjyXPIL8pnxL/HG8G/wJPC57x3vNu757Gfrtek56GLnief56OLrLvDC9Yr8aARdDQAXwyB4KpozkjvsQUtGZ0j2RxxFi0AEO+g0Oi7sJigf8ha6DlAHRAF9/FD4YfSX8ATtxukA57TkjeI/4CLe7dwG3VTeLODw4XLjv+SI5oTpiO3A8SH1G/fm9zD4s/iY+Yb69vqX+uP5hvnT+aP6NPvu+sT5RPht9273yPex92f2+fMv8SHvge727qbv/O8C8DTwEPGg8pD0O/YW96T30vgI+wf+5gAWA6gEOgbtCGUNVRNsGUEekiHqIx8mmygEK6oslCx6KjUnsyN9IEcdThluFBMPEgpJBuADPAJOAGD95fnl9jH19/SF9fv14/U69bL0C/VV9h/4tPnu+jX8yP2y/5sB1gIEAzcCMwHcAFEBGAJxAt4BnQA+/2D+fP4m/8P/EwAAAO7/BgAQANf/+f6u/ZD8AfxT/Pf8M/3B/H/7NPqV+cH5sPqf+x38NPwS/Cn8jvwe/ab9Cv6U/nz/1gBRAkkDcAPqAhoCcwFQAWsBLgFCAJj+tfwY++T5MvnE+FX41fdm9zj3APdv9i31IfO98D3uDexu6hDpEOiO59TnlekK7UvyJfkbAfEJPROZHJYl1S0GNdA6Iz8GQmpDG0MVQYg9xDhHM14tTSczIdcaTBSyDTAH/gAP+131+O/06onm0OL+3wnettwW3CPc9dyE3nDgg+Jm5Mzl0eZ55+/nLugt6CDoCOgu6NPo8emL62jtY++q8Q30Yvag+Hr6s/sc/OP7W/uJ+m75O/gn9zH2XvXu9Oj0LPWZ9TX2N/eI+N75FvsV/M38RP3D/YT+oP/uAD8C2wP8BbYIFgzaD8YTlRfzGhseQSEzJKEmFyh0KN4nayZtJCgikh9iHH8YPxT9D+8LDwhQBKcA8fxZ+V32RfT38jDyt/Fz8ZTxQvKY85r15Pcc+hP81/15/+cAEgLHAvwCzgJwAjMCLAIlAgACpQE3Af0AFwGFARICawJNAsMB+QATABn//P2z/Df7nPkX+MH2oPWN9HHzcfKj8S7xJPF68Q7ynPIf857zLfTp9L71vvbS99T4yfmn+n77TvwY/f79+v71/9AAdQHWAc8BhwERAWgAs//s/h7+Vv2H/LX71PrR+a34gPc59s/0SvOM8Zzvx+1V7KnrFeyx7Y7wrfT9+W8A/AdWEAcZqCHJKQMx+jZ8O2I+cj+jPlI85zi/NB8wPiszJtsgShu+FXQQdAuNBqkBrvx/9yny4+zi50jjLt/O23nZXNhZ2CzZe9rt22rd5N6S4KDi4+QL5+voluoZ7KPtXO9a8Znz8/Vf+Oj6c/2r/yUBxQGYAdkACQBy/xv/yf4j/g79uPt0+pT5EPmk+DL4e/d29kz1D/Tf8pXxIPDo7knuee6i73nxv/Mv9qH4d/sA/2IDWwhgDRoSURbyGSsdFSDGIvwkZCb4JtUmFyafJGUigB8AHAsY9xMpEMkMlgk6BrUCQ/8J/FD5bfdY9tX1gfVN9U/1fvXs9Zv2h/et+Pn5Y/vR/Bn+A/9Z/0n/G/8Y/3v/LAD+AMUBNgJVAmQCiALYAjsDmgP6A0AEWgQvBJsDlQITAWT/4f3M/DL8sfv4+tv5T/io9kf1WfTn867zaPMS88vyq/Kw8rryv/K/8tTyaPOo9FL2//dL+fj5PfqO+kb7dfzX/fz+kv+p/3f/Q/8h/+P+Vf5h/TL8E/sJ+ub4X/ct9WDye+9D7SPsNuxF7QrvkPH59JP5oP/fBtcO7ha5HjEmHS0bM983HDuZPJg8mDsiOmc4KDYaMywvmiqhJZYguhvPFm8RlgtbBQf/2/jY8v3saOdI4hHeE9tP2XDY8Ndz19vWjtbK1o7XxNgE2hbbHdw93cje5OBX4/flruiu6xPvr/I79jT5PvtY/O/8hf1q/qP/tAB0AdsB/QE6AoYCxwLSAj0CKwHc/1f+pfyK+u/3GvVp8mXwie/H773wA/Jq8w31Jvfe+RL9iAADBGMHygpjDhkSthX7GL4bJR55IPEiXyVQJ2IoVSg7J2slWSMaIWoePhuNF4cTkA/XC34IZQVHAkz/ufzA+mz5fvid9332DvWo863yNvIm8i/yGvLR8XfxbvHJ8V3yBvOV8xr0v/Sm9er2YPjC+fL6GPxo/fL+tQB/AugDwAQRBQcF5wTMBJsELwRkA0gCBgGo/07+Av2e+yX6tPhq92n2lPXg9Cj0VfOY8g3y4PE68urytvOI9Ev1EPbs9gP4VfnA+iH8Y/1//oL/WgD1AEQBQwH0AGgAxP8N/yH+y/z1+sT4dPZd9PvyYfKU8oTzHfWG98j68v7nA0oJxQ4YFCYZ4R0nItQltyigKqMrJiyBLNEs9CyoLJ0roSnfJrMjPyCLHGUYoRNwDgEJswPZ/nj6aPaY8iDvMuwB6n3oUucU5m/kaOJX4Jjeat263EDcu9tE2zfb09tJ3Xrf9OF75PfmdekY7MXuPfEy85f0nfXI9nT4j/rn/Af/qQDcAc4C2gP0BKwFugX2BJID6wFDANz+pv1k/Cj7TPol+sL62Pv5/Oj9iv4V//r/cAFaA04F+QZoCPoJyAvnDVgQwBK9FDkWlxceGZIamxv8G54bpxpUGRQYChfHFesTghHaDj0MAAo/CMwGWQWsAwgCswC4/wb/Rv5P/RX82foG+on5Nfmv+K/3Wvbt9MPzHvPa8rPyb/Iz8lLyCvNf9An20veP+UL7Bv31/uYAWgIZAz4DDAO9ApUCuwLMAl8CnAHEACkA1v+J/z7/rf7a/Sf9q/xo/Bb8YftY+iD5Avhk90P3Qff/9nn23fVf9WD13fWL9g73U/e391P4Evnc+WP6WPq/+QT5ofiN+IH4Lfhc9yH28vRi9L/09/XQ9yb6Bf2VAOsE3gnpDpwTzReEG+0eOSI1JXgnxygvKf8ooShYKDUo8SceJ6klrCN0IRIfURwVGXAVhxGHDb8JQwbwApX/Hvyy+Hj1nvJG8CzuDezK6W/nS+WB4yDiJOFK4JrfRt9E36nfbeBD4R7iGOMm5Gbl4uZ+6BHqbeuc7MztOO8I8QrzIfUq9wj54Pqn/EX+o/+XAEQBvwEGAjgCSQIkArABEAF0APL/rf+f/53/jf9u/2H/nf8wACcBfgIiBBMGcQj+CnQNwQ+uEUETjhSNFVcWHBeyF94XsBdKF+IWbBbcFUkVpxTRE84SthFsEOYOLw1kC6kJ+gdoBhIF1QOhAmgBMQAH/+39+vwW/Df7ZfqQ+cr4A/gn91X2i/X59Jj0TPQb9AT0FPRM9Jr09vRk9ff1p/Zk9zH4D/kB+gn7DPz8/P39/v78//8A2QGFAgYDQANXA0wDCgOcAhYClgH7AB4AIf8q/jb9LvwO+//5FvlD+JP3Avdn9tD1VvUA9cj0rfS49NL05/QB9Rn1QfWi9SD2p/Y/9+v3sPhZ+dT5Pvq0+kH7+Pv4/Fj+6/+XAXMDbgWRB7sJzgveDe0P3hGpE20VDBdcGHQZaBosG80bVhyyHM0cpBxEHK8b4RrGGVMYmxasFKISnxCIDjYMzQlpB+MEIQJV/6z8Hvqg9yn1zfKp8LHu0uwY627p4OeB5lDlSuRO42ziweFJ4fPguuDL4DHhtuFK4gjj9+Mq5azmc+hN6iPsF+4I8MXxevNH9Sf38PiS+in8xf1F/44AwwHsAv8DGgU+BloHYwg6CegJcArcCigLagvSC00MqgzpDBINOw2CDeENKw5iDqEO4g4dD0kPUg8kD7wOFw5hDaEM2QslC48K8AksCW0I1wc3B4UGywX9BEsEvANOA+YCWgKtAecAHAB//wz/n/4//uL9ef0P/a78Pfyt+wr7fPok+t35pvl++VD5Mvkg+TP5hPnr+V763/pk+9z7UPzP/En9mf2z/dr9KP55/sn+KP+L/9f/HgB+AMUAxACMADUAs//7/i7+Uv1c/F37dvqv+fL4YPj096P3b/ct9/j21vam9oD2efZx9nX2hfag9tz2Ivd59/X3bfje+Fn50flE+s/6n/uj/J79oP7X/zABjgLnA0sF0waUCHIKcQyRDpkQehJbFBgWnhcUGXIatxvYHKwdUx7IHsEeTR5/HYYcbxsVGo0YxRaxFHESCRBzDa4K7QclBVMCk//k/Hr6L/io9RbzrfBh7jrsNepO6Hzm0ORa4wLi1+Dw3zzfuN5i3kzekd4B35vffOCf4e7iZeQJ5sHnbOkH67XsiO6E8H3yevSX9r/42/rW/J7+UQD+AZEDDAVzBt0HLwlTCk0LMQwGDdINqQ57Dy4QxhBTEcERDxJIEmoSkBK0EsQSzBK2EnwSQBLyEXERxxADEDsPgQ6uDb8M1QvWCscJuAieB4EGXQVDBDkDKwIjATsAbf+n/vb9Yv33/L78mPxj/CP8+/vR+5P7Uvsg+/369/oP+yn7Sfty+6377fsY/En8m/zo/Cf9b/22/fP9Pv6O/sz+CP9H/43/3/8lAFgAhgCwANMA6ADgAMEAjwBdADIA8f+r/1H/7v6c/jv+7P2v/V39E/3D/Ev81ftn++b6R/qb+Qf5ifgU+LH3X/cV98f2iPZg9kT2LvYU9vP1yvWk9ab10fUa9o72M/f59+/4Q/rI+2n9OP8iASUDNQVBB10JlQvGDd4P+hEjFDgWNxgQGrQbIh1JHi0f1R8oICQg3R9GH2QeOx3RGx0aRhheFi8U0xFvD+8MQgqJB9EEAwI//3D8nfnq9jv0w/GN70Dt6urE6M7m6eQZ43Dh+t/D3s/dHN2t3Izct9wt3d7dzt7832nhDOO65IHmgOiz6vbsKO9U8Y/zzPUS+G76q/zD/soAuwKiBHkGNgjUCU0LrAzlDQMPFBD6EKIRHhJ2Er0S9hIjEzwTMBP9ErwShhJAEuwRmxE2EaIQ6w8qD2AOfg2MDLUL9AotClcJegisB9YG9QUTBUEEkgPxAl8C6AFvAe4AhAAtAOH/of90/1L/MP8E/8n+lf5f/h/+5P29/aP9hv1u/V/9T/08/Sz9Kv0//Vv9e/2b/cT9+v0v/l/+jf64/uD+Hv9R/2b/c/9u/1z/O/8X/+v+rv5p/iH+0v12/Q79k/wN/JX7NfvW+nv6Ivq6+UT51vh1+AP4j/c09+r2n/Zd9jD2Evb/9fH13/XZ9ef1APYb9in2KfZB9nH2r/YT95T3LvgA+QH6L/uJ/AX+m/9PATEDIgUWBwsJAQsADfEOyBB6EhwUtxUwF3sYkRlrGhkbgRudG4obLhuEGrAZsRhsF/AVPBRbEnEQZQ4xDPEJtwd3BS0D4ACi/nH8SPo4+Dr2SPRb8n3wu+4R7Xbr3ulY6B/nD+bw5OTjC+Nh4ujhs+HD4frhYOL54rPjmeSo5dfmGOh36QLrqexl7jfwF/L489z1v/eL+U/7Lv0E/7UAWwIGBKcFGgdeCI4JnQqTC4EMWQ0NDqIOLg+gD/cPUBCnENUQ9BASERoR+BCyEF0Qyg8GDz0Oag2GDKELtQq9CccI5AccB28G4gVyBREFngQyBNcDhwNUAyAD+AL4AvsCEgMyAzcDNAMcA/AC0QKuAnwCQgL9AbwBawERAdAAmABbACUA8f+//6L/lv+J/2b/P/8h/xn/K/9B/1H/cf+l/9b/+f8LABwAIAACAOL/xv+g/2v/Fv+s/j7+wf1I/dr8WfzC+zT7sPoz+sH5VPnt+JP4Rfj295z3P/fa9mz2BPal9V/1LfXx9K30fvRS9CD09fPd89HzzfPz80L0vvRw9VT2X/ei+Bz6yfue/Yv/lQG6A+IFBQgyCmIMjQ64EM0SzBTGFqEYShrGGxIdFx7fHmsfsx+1H3Uf/B46HjwdDRynGgoZOhc2FQsTrhArDp8L6wgoBnsD1wA+/qn7Ivm49kz04fGP70vtJOsm6UfniuXx44fiU+FV4JvfKd8B3wDfId993wLgu+Ct4cziFeSD5SPn6+jH6rrsq+6f8KLymfSD9m/4T/oc/Nn9gP8TAZ4CHAR5Bb0G8QcMCRcKFwsFDN4MpA1ZDvwOkw8hEJ0QChFtEawR2RH4EQQS+RHJEXwREBGHEOYPOQ+ADq4NxwzcC/UKFwo8CVoIkAfRBg4GXgXDBD8EvwNDA9wCgwI2AvUBrwFYAQQBqwBJAOf/a//z/ov+JP68/Wj9Lf31/Mn8p/yK/HT8Zvxc/D/8GfwG/Pz79Pvz+wf8JPxG/H/8tPzi/BP9Lf05/UH9Rv1Q/T39F/32/Nb8vfye/GT8Ifzn+6/7cPsy+/X6s/p6+kP6DPrR+ab5g/lL+Qn5zPiN+FX4J/j899T3rveV94r3j/eo98n37vcs+H744fhS+dX5gPpM+zj8Pf1d/qf/CAF+AgEEhgUSB68IVwr2C5YNMw/EEE4SwRMTFT8WPhcdGL0YDBk4GTwZ/xiRGPAXGRccFv4UrhM4EqwQ8A4SDR8LIwkbBwUF9ALnAOL+3vzk+gH5I/dK9Yzz4PFG8LnuS+0S7PTq7Okg6YboBOir53XnV+dk55fn5+db6O/ojuk66vbq4ev37BvuWu+z8B3yjfP79Gj23vde+dL6M/yY/fr+SgCaAdcCBwQpBTYGPgc8CCIJ7wm2CnYLJgzMDGMN6Q1xDuAOPg+HD6gPvQ+6D5oPaA8gD8EOTA7JDUENpQz2CzwLhQrMCR0JdgjKBzQHpAYNBoYFBQWJBBYEpgNHA/gCpgJZAhQCyQGNAVgBCAGxAGcAHQDN/2j/AP+e/i3+w/1b/ez8jPw0/OD7nftm+0f7PPs/+1H7dfum+937Hfxg/LT8Gf1+/d79OP6Z/gH/UP+S/8n/+/8mAE4AZgBeAEAAFADm/6//Yv8E/5f+Iv6t/Sb9mfwD/GH7wfod+nH5z/g4+Jz3DveX9jH2zvWA9Ur1KvUe9Rr1MvVc9aH1BPaB9iX37ffW+N35APs6/If96/5lAOMBZAPxBIsGIQinCSoLtAw5DqYP/hBCEmoTbRRPFQsWlRbxFhwXHBfoFoUWBRZRFXgUfBNSEgwRtQ9DDrwMGwtjCa4H8gUnBGICswD8/j/9gfvS+TL4mvYQ9ZrzL/Lj8Mbvxu7d7RLtXOzB603r5eqa6mzqVepa6orq1upG69zrgew87RPuCe8c8DzxZvKt8/T0P/aM9874EvpX+4n8uP3s/h4ATAFwApoDvgTQBdsG1AfCCLIJhwpNCwwMvQxbDdINOw6rDv4OKQ9CD0UPLQ8CD8IOag4IDpENAA1zDMsLFAtYCosJxQj0ByMHYgadBdMEFgRnA8sCPAKyATIBtgBAAM7/Xv/7/qf+Xf4Z/uz9zP2n/Y79h/2I/Yb9gv2J/Zz9pP2r/cH94f0K/i/+W/6P/sD+9/41/2r/nP/O/wQAJwA6AFAAUwBNAD8AKgAOAOb/tv96/zv//f61/nb+Mv7n/Z79Q/3h/IH8HfzA+2T7A/ul+k364/ly+Q75pfhC+Or3l/dS9xL30vaT9m72ZPZY9mH2gva59gz3Z/fm9474OvkH+gL7Efw3/Wj+rv8FAV0CwQM3Ba8GIQiSCQULbwzPDRsPSRBhEWESTRMkFNMUVRWoFdcV6hXUFZAVFxV5FLgTxRK9EZgQPA/JDUAMmArwCEIHiQW/A98B//8h/jj8Svpt+Jz23fQr85fxI/DG7obtX+xj64vqyukx6bnoXegx6C7oTuiJ6NzoXekM6t3qzOvW7P/tTe+k8O/xR/O49DL2s/c++cT6P/yx/RP/dADLAREDVAR/BZQGlQeDCGoJSgoPC8ELZwzwDGANuA3/DT4OaQ5xDlkOOQ4RDtANYQ3cDGIM2Qs5C5MK7Ak1CXMIwgcYB2AGsAURBXAE2wNaA+UChAIwAuUBoQFgASsB/gDfAMcArgCnAKwApgCZAIMAcABcADsAGwD8/9z/vf+U/2X/NP8I//b+6P7b/sv+tf63/rz+u/7A/tn+8v7z/gH/Df8X/yX/K/8y/zr/Mv8f/wr/6v7A/o3+W/4g/tT9ef0p/db8dvwh/Mv7WPvi+m767/lm+dn4Xfjl93X3A/eX9i/2z/WP9V71O/Uq9Sn1Q/V29bT1C/aC9gv3rfd0+Fj5S/pR+2r8nv3k/i8AjAHyAmQE4AVaB9YITgq6CyQNlA7vDzgRYhJrE18UJhXAFT4WkBa0FrUWjhZJFtMVMhV0FIQTaRIxEd0Pbg7oDFYLrwn6B0UGfgTEAgwBQf96/bf78Pk8+JD28fRZ89TxbfAO79fttOyk67Tq5ek26aToMOjb567nrufL5wLobOj36JjpY+ph62/sku3V7iLwgPHy8nP04vU596r4TPrz+5X9Mv/EAEUCvgMtBX4GxgcECRwKFQv4C8UMhA0tDqwO/w5CD2QPYQ9RDygP2w56DgsOlw0WDYoM9wtQC7AKHwp9CdcINgiWBwoHdwbdBVoF6gSHBCoE2wOjA2wDNQMDA98CyQKfAmwCRQIjAg0C9QHUAb4BpQGRAXoBWgFCASgBDwH0AMMAjABsAFQAKAADAN7/q/+P/3P/Uf8y/xH/9v7Z/sf+wf6x/p7+jf50/lv+Qv4i/vX9x/2j/Xb9PP37/Lr8fPw//Pf7qvtj+xP7yPqF+j/6BfrC+Vv57fiO+DP42/eI9zv39/a/9pP2ZfZG9kD2TfZr9pr24PY295r3GPi7+HD5M/oZ+xH8Hv1D/nX/wAAZAngD2QRHBssHQwmwCicMmQ34DjoQaBGFEnwTVRQJFY0V4BUQFiUWAxaoFSkVcRSCE3QSRBHrD2sO1gwpC2MJjAe6BdwD8wEOAC/+XvyS+s74HPd09dbzTvLZ8IzvV+427TvsYOue6vbpdukO6bzolOiF6Jjo1egp6anpTeoQ6+Xr0OzZ7fLuGvBR8Z7yBPRs9dj2VfjP+T37n/z3/Sv/TgCNAdICDwQzBTkGRAc9CBgJ4QmPCiwLqAsKDGYMpAzLDNsM2QzFDKAMbQwhDM4LcgsKC5IKEgqRCe4IQQitBxoHiAb4BWEF2ARdBOUDcQP+ApUCRQL8AbwBhQFDARcB/wDoANMAyAC/ALIApACvALkAtgDAAMAAuQC0ALgAugCyALAAowCVAIEAZgBYAEQAJgAOAP7/7//L/5//ff9U/yr/AP/N/pn+cP5A/hD+7/3F/Y/9aP1C/SD9/PzT/LP8jPxi/EH8Ifzp+6r7eftD+wf7zfqW+k36APrK+ZX5Qfnn+I/4SfgU+Of3xfes96X3q/e198v3/PdD+J/4B/mN+SP6x/qQ+2n8Xf1n/oH/qwDoATADhgThBTIHjQjoCTULdwyuDcoO0A/FEKMRTxLWEkQTkxO6E60TfxMyE7MSERJTEWgQWQ8zDuEMcQv4CXMI3AYxBX8DygELAEb+hfy/+vv4RPeV9e7zUfK08C7vz+2A7EjrLeos6VropecF55vmWuYu5ivmW+a65jPn0eeq6KfpwOrv6z/tou4O8IvxEvOs9Er26veN+Sf7u/xK/tT/TgG2AhkEWQVbBmMHigifCZgKdgs9DOkMfw0HDnUOxg4ADyAPKw8mDxIP4Q6XDjsO2A1nDesMcAzqC18L3gphCtIJRQnBCDEIqAc9B8kGQwbJBVsF8AR+BBgEwgNgA/gCnQI3AtYBfAEfAcUAcQAkAM//hP9E/wT/w/6K/lL+Lv4f/gT+6P3b/d394/3v/f39Cv4i/j/+Tv5b/nT+kv6S/n7+dv5v/mP+UP4m/v/96P3G/Z39bf0y/fP8wvyE/Dr89Pu3+3f7IPvJ+nf6HPq8+WP5Cvmo+ET48Peq92X3Iffv9tH2sPae9qP2tPbW9v72OPeO9/b3dPgD+Zz5TPor+xz8FP0m/lP/oAD+AVoDvgQeBpAHEgmDCvELUQ2fDtwPEBE4EkETLBTwFIoVERZ7FqgWsBaYFlcW7xVZFZsUqhObEmcRARBzDsMM9wodCTAHMAUaA/4A6v7Q/MP6ufi89tn0EvNU8ajvIO657HDrT+pO6WnosecZ56fmUuYs5h/mI+ZZ5rPmJOez52noSek/6krrf+zI7SfvovAo8sHzX/UA97r4bvoT/MH9fP8cAakCJgR9BdQGHgheCY8KoguSDFIN/w3EDoYPKhC6EB4RVRFvEX0RcBE7EeoQgxAAEHQP0w4aDlUNgwyrC88K8gkSCTsIYweUBs4FJAWABM0DJAOZAiECugFdAQYBtwBpADkAIAAFAOv/zv+9/7f/tv+3/7f/vv+v/6L/rf+0/7X/o/+J/4b/eP9j/1X/M/8H/9P+m/5k/iT+5P2u/Xv9Qf0B/dj8wPyf/IX8evxu/F/8XPxm/G78c/x//I78l/yX/JT8h/xs/Eb8GPzc+5D7Qfvm+nn6CPqX+Sv5v/hX+PH3lfdE9//2wPaQ9nn2avZn9mj2g/a99gj3bff096L4cflT+lf7dPyj/fz+bwD1AZIDQwX2BrQIdgokDM4Nfg8IEXsSzhP2FP8V2BaFF/UXKhgtGPUXjhf6FjAWOhUTFLgSQBGtD+oNCgwlCi4ILwYoBBsCEgAa/i78P/pY+Ij2x/QW82rx1O9u7hft3uvX6vvpNOmI6BDoxeeW53vndeeZ59/nM+ip6ETp+OnF6rXrz+z17TDve/DP8TTzkPTp9T/3k/jj+Sv7X/yP/bL+1//zAPIB9wLuA9IErwWIBmAHLgjjCI4JOwrbCmoL5gtJDKMMAA1LDX4NnA2QDW0NNg3vDJgMKwy1CyYLfwrdCUYJpwj1B0cHngbmBUMFuAQnBJcDFgOVAiACvQFcAf4ArwBgAAkA0/+o/3//Vf8o/wD/8v77/g3/Jf88/2r/lv/G/w4ATACHANcAEwFKAYkBuwHlAe0B8QEKAhgCCwL7AeIBvQGhAX8BUAEmAQQB3QCkAGwARwAFAKz/Xv8B/6b+UP7x/Yn9Fv2a/B78p/sm+6T6Kvqr+Sf5pPgz+M73avca9+L2svaY9oz2kPa19ub2FfdO94f3v/co+Mf4Rvmg+Rz6vPpz+4b85v0k/0IAYwGvAl0EUgZPCC8K4Qt4DUcPTREjE7kUFRYYFwwYJhkPGpga0Rq4GlYa3hlVGYAYRhfFFRcUSxJuEFIO3wtUCeIGegQHAn3/1/wt+qb3XvU+8xLx0e6S7JHq/+jB55zmYeUi5DHju+Kp4sLi1uLo4irj2ePs5C7mZeea6N3pSOsa7RbvB/Hh8pz0a/Z/+KH6j/xF/tP/VAEHA98EhwbwBwEJzAm5CuQLEA35DXMOmg68DgoPfA/ZD+QPhQ/2Do8Ocw5cDvUNTg2ODN0LWQv/CqgKHwpwCdcIVQjXB2AHygY0BrUFOwW+BBgEXwPFAkcC4gF8Ad4AHQBs//v+yP6s/nH+Af6N/Tv9NP1p/Zb9pP2M/Xz9sf0V/n/+0v79/hz/UP+1/zgAlQDLAPgAKQFpAc4BMgJjAnwCigKSApcCjQJrAjkCCQLWAYgBGgGmAEgA+/+i/zn/tf4q/sv9m/19/UX9zvw3/Lf7Z/s4+/f6kPr2+UL5uvhc+AP4l/f99lP2rfUM9YX0G/TP85LzX/Mw8wnzAvNL8/bz3fTL9cD2xvfW+E/6X/yQ/pQAewJQBFoGzwiRC0YOjxBlEhsU9xUFGBAasRuiHCIdix0IHocevB52HrcdtRyrG54aTBmYF6AVeBM0EdwOTwycCdgGFgR0Ac7+/fv9+Aj2a/Mi8enuluwR6pHnd+Xy4+bi9eHm4NvfCt/C3hjfsd834JjgBeHR4Sbj3uS85nDo7+mB63jt5+938tX04Paj+HT6j/zO/gUB7wJiBLEFJwfRCJ4KSgx8DTYOzQ5qDx4Q2xBTEXURTxHyEKsQkhB5ED4Qyw8CDx4OSw19DLoL8ArxCdMIwAfCBt8FIAWCBNcDGgNiArwBIgGcADUA2/+L/07/Hf/3/vP+Gf9V/5D/wP/j/wQANQCFAOUAMwF5Aa8BxwHyATMCcwKnAqwCjAJRAhIC2AGVAUcB4wByAPb/b//2/or+Kv7S/Vv95fx3/A78wfuC+1L7EPuq+mD6PPot+lj6e/pl+kL6MfpG+pX68voo+0n7Sfs/+2D7ofvW+/D78PvZ+7X7kvti+wT7hfoO+rD5R/nA+B/4cffV9mz2KPbb9Xv1FvXn9Cz16PXl9uD3z/gE+qT73v1wAM4C/wQVB1YJ+AvcDsMRRBRiFnkYtRoVHUEf5iD6IXsivSLrItUiaCKPIU0g0B44HW8bYRkCF00UcBFaDvsKfQfeA0UA0vx/+Uz2I/MC8PTsFeqK5yblxuJ34E7ecNz32u7ZStnk2KzYtNgB2a/ZsdrZ2x/dc97c34nhh+PF5TToteox7b3vdPJM9R34wvok/V//gwG2A/wFJgj9CZcLOg32DtcQjhLYE50UChWDFRoWpxb6FssWOhaWFQ8V0xSZFBEUNRMtEiERNBBZD3AOZQ1IDDoLVwqlCQYJgAgLCKMHQAfHBkYG3QV3BSUF8QSPBBAEmQNAAzUDXQNvA1IDAQOdAmYCYgJtAkgC9gGdAWwBYQFuAX8BcAE3Ad4AmwBxAC0Ax/9R/93+ZP7a/V/96vxr/An8qvtD+9L6V/r2+bb5h/li+TT5Avna+LH4nfif+JD4Yvgo+Oj3sPd+91j3RPc/90r3b/eu9/X3Mvh1+LL4yPjT+N34zfix+J34gPh1+IH4kPiR+H/4Yfgg+ML3Sve79kL26PXC9Qv2zvYE+J75ivu+/UAA9wK7BXAIEAubDR4QphIyFcoXehocHYgfxyGlIwcl8CVIJhwmhSVoJOwiTiGDH7Qd9RsGGtEXUhWIEnsPIgyCCJMEfABU/D34XfTC8G7tVOpw57HkDuKE3wPdlNpk2IbWCNXe0//SiNKd0i7TNNSK1QvXtdh42l3clt4D4YTjM+YD6err8u4W8jj1U/hN+xT+kADCAscEnQZLCPYJegunDLYN2A4gEIIR0hLuE60UERVYFZwVzRW/FV4VshTYExATeBIFEoURzxAEEDgPUw5cDVoMSgs5CioJSQikBxsHwwazBrwGvwaxBmcG/AWUBSkFvAQ7BJwD+QKBAl4CfgKnAsECxwKdAmECJALYAXMB4AA+AK3/Kf+6/mf+AP6J/QL9Wvyz+xn7g/r1+Wj51Phe+P33qfeG94n3oPfX9yD4ffjj+DT5cfm4+Qr6T/p6+oj6b/pI+jX6M/oy+kP6cPqd+tr6IftX+4P7qfu1+6/7ovuV+4P7ePt8+4b7ovuv+537eftH+/L6W/qF+Xb4Rvcd9uX0qfOh8vPx0vFV8n/zO/V59zv6Z/0GAf4E3QhgDLcP8RIIFjUZXBxPHx0izCRfJ8UpqCu5LPQsXSwnK28pRCewJLkhrB6tG+EYYBa3E5EQKA13CWUFAQFv/Mf3G/Oq7pXq4OaH447gDd4C3Dfaj9gB15LVUtRQ07TSadJn0trS3NNs1XfXzdli3DXfE+IT5Rbo8ere7dPw0PPv9u352fzY/8gCmwVNCL4KqAwBDvcOqg/1D9EPdQ8jDw0POA+lDzYQlBCqEJ4QWxDZDwgP4w2UDCgLvQmiCP8HoAdpB3IHmwewB54HWQfiBmUG7AV3BS8FLAVnBfMFxQagB14IzAjsCMcIcggOCIQHugbrBTQFngQ+BPcDswNrAw4DgQLIAfYAEgAW/yb+RP1q/Kv7/Pp8+jb6Afrk+cj5g/lf+X75q/nY+dv5t/mt+cL5A/pm+tD6Wvvh+2v8MP3w/Zj+Rf/d/1oAqQC1AJ4AhwBQAAkAzv9r//D+ov6D/n3+cP47/tT9PP13/If7hfpr+SD40vaj9Yz0rfMV87XybvIV8n3xm/B17yDuq+wl6/DpT+ls6Zvq8OxH8Jf0oPkS/7cESwpyDyYUjRiaHFAgviP0JhUqJC0qMDQz0DWVN344fjiMN8I1DzOYL5UrFidKIncdzxhAFMgPfQs/B+ICYP62+cP0i++F6rHllOBW24rWWdLWzizMN8reyB3I0cf5x5LIeMmDypnL+MyzztjQltPU1pLa396Q44Doh+148iv3bfs6/38CSAXNB/4J3AueDUkPsRDoEd8SchOzE5cTRxPiEjkSfRHnEFkQ3w9mD9AOHg5bDYwMtAvhCusJ5QgCCFYH7QbiBhcHdQcECKkIXQkGCpsKLQvHC2sMIA3aDYoOTg8nEO0QhhHmER8SHhKqEdIQsw91DhcNfgvhCU4IrAYnBbMDOwLNAFT/6P2Y/FP7G/r4+OP39vZO9t31nfVx9Wr1jfWu9ff1gfYH97v3v/i9+cf69vsp/XH+wf/fAN8B0AKTA0EE6gSABfQFOwZfBmQGRgYMBogFtQShAz4CtwAh/439HfzF+oT5P/jr9pv1HfRX8oPwm+6X7MnqO+n75zjn+OYr55Tn/edU6GnoKejF50nn1ebk5tLn8el77VHydvjA/7kHEhBFGPAf6ibPLHwxMTXrN885TjtlPDU98z1OPjw+tz1uPEg6FTfGMnMtMCdLIP0YgBFFCmMD5Pz29pfxuexi6Hvk5+B83f7Zf9YV08bPuswVyuPHScZixWPFcMZDyKHKfs2X0NLTSdfX2l/e0+H45N/nzurO7QTxcPQK+MP7Xv/TAg4G1Ag7Cz0NrA6DD7QPXw+WDmcNHAzMCnwJgAgPCFoIYwniCn4M2A3LDmYPtA/GD6APLw+JDtINIQ3LDAENpg2xDgUQhhEQE4MUwxWYFtoWlRbYFcoUwRPrEioSXRF8EGIPCA6YDDEL+QnYCIMH3QW9Ax4BY/7h+6n5B/gN94v2bvae9v72Yvex99j3wfeb95X3tPcT+J74CflT+Zf51vlW+i/7Xvy2/bX+Nf9S/wr/qP52/nz+qv7g/v3++v7a/r7+vv7E/rn+df4A/nP90vwn/GL7Tfr7+KH3Zval9YT13/VZ9qT2vPa99tf2Ffdi96D3lfdC97b2E/as9b31Nfbp9rv3e/gH+Vb5Wfn5+BT4sPZA9Ur0VPSt9Xv4sPzxAQMIsg7EFSYdaiTeKj8wSzSoNq43zzcyN142dzU5NMsyQjGDL4AtIStFKMkklSC5G3cW7xArCxoF9v4P+X3zr+7l6gbo5+Ue5ETiOODc3S/be9jd1U7TydBezjrMscr2yS7Khcu+zZzQ8dOG11rbRd/V4unltuhK67ntM/DG8ob1W/gk+9T9TgDOAlYFwAf8CagLtAwiDc8MHgxQC2EKVwkhCPgGEgZ0BUcFnAVHBkAHZAh9CY8KdAsjDLsMEQ0NDb4MPQzPC6QL9QvFDL8Nxg74D1gR2hJbFKMVexa3FmsWwhXvFCQUTxNkEnMRZxA0D/QNrgxfCxEKrAgKB1AFgQOcAe3/av7n/H37N/od+WX4FPj99wf4E/gS+CD4YPji+J/5SvrH+i37gvu/++/7F/wa/An8Dfwc/DD8Yvyi/OL8D/0p/TT9Ov0p/dn8fPwI/GH7sPr/+Uv5yfiT+Ij4iPiA+Hn4bfge+Jn3Fvd+9un1YPW79Bb0nPNe82/zyfNs9Fj1XvZj90H4r/ij+CL4EPed9QP0ffJs8RfxvPGg87X25PpJAL8G5g1hFcUcsyPnKTEvgTO2Ntg46zniORM5xDf4NdYzijESL3cswinYJpYj9x/kG1gXVRLMDNEGrgCe+pP0w+6E6dLkx+Bu3b7axNhE1yfWXNWz1B/UrNNX0w/T4dLZ0hTTiNMg1A7VgdZ32Ovar92V4JTji+aD6avs3e/U8oL16fcn+kX8/v2A/yMBkQKeA3wENgXKBUkGtwbbBqsGVAbxBd0FTAYJBx4IlAkWC6gMdQ5LECcSBxSCFVkWpBZjFsUVJRV1FIkTZBIFEb4P5A5TDigOYA6mDtQO7g75DgAPFA//DpoO3A22DCwLmQl1CJgHrwaeBVYE8wKQAVQAfP/a/gb+6vyF+x76G/l8+Bn4z/d19+X2Svbu9QT2mPZc9wz4pfgd+aP5YPpk+5D8Y/3W/Sn+TP5z/tT+Kv97/+j/IQBHAM4AxgHyAg4E0wQzBSoFyAQ5BIkDwQKrATMAjP7z/Jn7evpz+Wn4TPcQ9pz0DfOO8Rzww+5k7eLrZeo76Y3oU+iN6BfpqukZ6nTq1eoq64LrCuzG7N3tuO+B8mH2gPu8AbIIKhDjF6UfbSfdLns1FzthPyZCkUOzQ71CyECzPYs5mDQvL74pfyR/H6YatxXFEOoLIQeFAvT9Jfkk9PHujulw5PTfPtxN2fTWQNU21PTTkNTO1XzXV9kK25fcHN6q3zThqOIJ5ETlZOaW5wPp1uoA7UnvmPHX8wv2Tvim+vX8Bf+pANEBfALIAtMCiQL9AVcBhQCt/w7/vP7A/vD+V////7gAkgGeAssD/gQjBioHCQjPCJQJPAq2ChELWguNC7ML6gtNDOYMkQ0lDqUOEA9sD+APZBDMEAMREBHoEIgQGhC5D1IP1w5ADo4NtwzPC+gK+QkLCRAI9AaxBWUE/wKEAQgAa/6q/OT6LPmh92v2iPXy9KP0j/S59Bf1pfVV9vP2bPfR9zv4mfj0+Gb51/lO+rz6DfuB+zX8F/0m/lL/cgB2AVsCOQMIBJYE3QThBHoEngNeAs0AEP81/T77Nfkx92b17fO88szxJvG08E3wBvDp793v4O/z7w/wUPC08EvxOPJU84D0mvVm9tT29Pa09jf2svU29Qz1e/W89hD5f/zxAHQG6wz+E4gbXiMIKzIylji9PXdBnEMDRM9CCED2O+02LzEkKyIlQR/JGdsUahCeDG8JsgZFBO8BeP/E/LL5NPZE8vnteunU5D3g+tsa2MzUUdKs0PHPMNBT0ULTzdWz2M7b994H4tfkXued6YXr+ewq7jnvLfAe8RryQ/O69If2lPjf+jv9X/8eAXwCTgOWA3YD6wLtAY0AAf95/Sv8Sfv1+jz7JvyZ/Yb/4gGhBIAHOwq/DA0P9BBlEn0TQRSYFHQU8BM9E40SAhLEEdkRVRIjExQUKxVeFoAXfBglGT8ZvBh+F5gVLxNJEBANuglZBv8C2/8C/ZH6qvhD91b22vWf9Z/15PVE9qH2APdG93D3hPeI94n3rfcH+If4Pvk2+mD7r/wu/s3/XwHMAgwEFwXPBTEGQwb7BXwF0QQKBD8DhwLqAVEBxAA4AK3/IP+A/sH9+vwM/OT6p/lJ+ND2U/Xc82/yJ/EU8Crvbu767c/t1u0l7r/ui++T8Lrx9/JI9In1lfZW96D3cfff9tn1ivQq8+rx/PCS8O7wQPKh9Bb4mPz1AQoIvw64FcsczyNnKk8wXTVeOTI8uj3rPcw8bjoKN8wy3S2aKEcj7h21GNMTYA9NC5wHQwQkAQr+1/qH9//zSvBq7E3oC+TF347bmNcV1DHRHM/nzZPNJ86Zz9DRt9Qq2AvcJOAr5Ajoo+vp7sbxM/Q59s73+/ju+cL6g/tw/K39If+uAFoCIQTdBWIHoAhtCawJUAlMCM4G/ATgAqcAhf6R/P/65vmE+eH54fqt/BH/xwHlBEcIngvUDqUR4hOCFX8W7hbNFi8WWxWDFJsTyxI8EusRzBHlETYSrxJNE+ETSxRsFA4UExOCEWgPvwycCR4GWwJ8/tj6pvfk9MHySPFy8EHwoPB98b3yWvQy9gv4zPl1++H8C/4D/6X/AQA6AFMAagCZAMYA9wA/AaIBIgKyAk4D9QOEBNUE9wToBJ0E/gMOA9QBUQCN/qr80/ob+aX3fval9Q/12vTl9BL1XvWa9bX1rPVw9Rn1svQf9JLzIfOp8kDyHfJQ8sXyb/NM9Cr16vWF9tv23faL9sL1ePT18nbxEvAa797ua+8E8dTzn/d+/LEC5QnLESMaZyJNKpUxwzeoPCNA4EHYQSBAzDwpOIoyJCxIJUweXhfIENYKswWFATb+pfuk+Sz4H/c59kr1FfSA8n3w8O346qXn8uMh4GDc2tjR1YHTAdJN0X/RstLU1KvXJNs735Pj2Of566vvzPJ39Xv34vjO+Sn6LfoO+tL5nvmF+Y358vmo+pj78vx0/vP/jQH9AksEmQWkBnAHEghVCF8IWwhTCHIIuggVCYkJQgpbC88MdQ4wEAMSxBNcFc0WABjLGDYZTRkAGWYYmhenFpkVixSSE5USlBHNECwQgA/nDkoOYg1ODAwLgAnTB+YFlAMIAUr+V/t4+MT1OvMP8UDvz+327L3sGu0P7n7vT/F28+/1j/gO+1r9dv8jAWICWAPlAy4ERwQYBMwDlQNrA2cDrQMoBMcEfQVEBhIH0wdQCI4Iiwg0CHsHUwbwBHADuwHZ/+r96fvi+eb3BvZP9MDyXPEy8ErvoO4y7vTty+287c7t/e1W7rXuE++J7xbwm/AK8WjxqPGn8WnxG/G38FTwMfBd8C3x3/Je9b/4E/1KAlkIBA82FuYdkiX4LBI0fDrUP/VDpEayRwlHvETiQJQ7FjWkLZ8lbx1YFZYNdwYuAM/6gfZC8+HwO+887qrtY+047c3s+eun6ufovOb64+vg092e2p3XKdVC0xbS49GT0ivUuNYJ2t/dKeK35irrau9x8+b2sfkA/I39U/6o/nz+4v09/X78pPsT+8n6q/rd+k/79Pvi/Pr9N/+RAOIBPAOiBPcFMAc0CBgJDwrrCrULlwxxDUcOPQ9MEHURjBJ8E1YUABWTFRsWXxZGFu0VThWOFMwT/hITEgYR7w/DDpMNmQy3C8EKyAm2CIIHTQYCBXIDrAHM/839tPuZ+aL39PWf9KbzHPMJ82fzP/SF9Tn3Rvlt+5P9qP+RAVkD/QRMBiQHlQekB0wHqAbkBekEtgOXAocBjADN/zP/rv5V/gf+pP1C/eD8afzN+yD7W/p3+Yn4n/e/9gD2ZfXT9ED0r/NA8/7y4PLy8hTzRPOU8/DziPRY9RX2vfZd9wT4t/hm+Q/6gPqw+qD6Sfq++f34Efj59tD12vQp9NPzJ/Qi9c/2W/m3/NMAwQVTC2cR1hdDHockZCp9L6AzpjZhOLg4szdhNcgxMC3eJ+8htBuGFVMPYgkjBK3/CPwt+Qz3i/Wh9CT02/OX8xTzNPLw8FHvPO2r6tnn0uSu4breCty52QXY9Nak1jvXoti32njdz+CS5Kvo3uzr8Lr0L/gy+8b91/9OAT8CtQKvAlUCvgEHAToASv94/ur9mP2U/dj9Yf4w/yoAZwHZAkUEvwUyB3QImwmICj0L4AtSDJMMuQy6DKUMhQxkDEYMOgxNDHMMtQwRDZINKg65DlYP2A8pEGMQZhBBEOYPLQ8xDg0NxAtKCpUIrQayBKwCmQCO/qr88fpK+dj3zvYQ9o71YfWO9QX2v/aw99b4HPpr+8n8Gf5l/6AAsgGtAnID9QNXBIcEhARsBC8E6gOzA3UDMgPvArQCiwJjAkYCJQLNAV0B4QBWAK7/yf7D/ab8dftX+iP51PeU9kr1BfTU8r/x3fAo8I3vJ+8A7xzvde/775vwRfHz8a3yevM09MX0GvU/9VL1OfXj9Ej0afOE8rbxD/G68NfwffHN8vb0/ffR+4cA8gXhC1sSMxkQILYm8yyCMic3ozrqPOQ9bT2TO3Y4KzTkLuQoXCKLG74UMQ4ACFsCb/1E+c/1/fLV8HjvpO7S7fHsH+w76xTqsugX5y7lEOPQ4H3eNNwr2oPYQ9eH1mzWCdde2GDa+Nwl4MvjuOfO6+/v7vOv9xj7B/5rAEICfwMXBCUEsAPPAqgBNACp/jb94vvT+g76k/mV+RP66fot/N/9xv/VAQUELQZUCF0KIAyPDb4OpQ87EJEQiRAqEKgPJQ+oDjsO2w2SDXQNjQ3UDUQO2Q59DxoQuxBZEdQRJhI0EvARYRF7ECkPaQ1eCx0JtgY+BMEBUv8B/ez6J/m496X2B/bi9ST2zPbK9w/5kPo4/PH9m/8hAWICaQMkBHUEgwRUBN4DSQOUAsUBBQFKAJL/+v6Q/kD+J/47/l/+pf74/j7/Y/9g/0z/BP+G/vX9L/06/DT7CPrT+J/3cPZI9Rb0BfMN8jfxkPAM8L/vpe+v79jvKPCW8BvxuvF38hvztvNR9ML0EfU09R712PRo9N3zXvPv8qHyvPJl87H0xvaq+UP9pAHWBr4MLBMAGggh6id6Lmk0ZjlPPek/FEHDQNo+jjsUN3Ex2CqpIzMcqRRjDbEGuACQ+zT3v/NJ8b/v8+647t/uFO8570bvAe8/7gXtfOu+6YTnvuTf4THfxdzU2nnZzNje2LDZV9vD3djgX+Q76GHsmvCx9H34xPtz/n4A3QF4Ak0CigFRAKT+kvxn+k74c/b99O3zZvOP81n0uvW19y36BP0jAFUDfgaiCX0M8Q7/EIwSnRNQFI4UURTDE/sSDRIdEUEQgA/vDo0Odw6nDgAPfw8OEKIQLxGREaoRgBEZEVgQQQ/rDVoMkQqACD4G8wOmAXf/Yv13++j5nvis9yT37PYB9233JPgU+S36YfvB/DH+h//NAAcCGQMBBKME/AQhBf4EnwQaBGUDlAK4AeMAKgB4/87+Uv73/cP9wf3J/ef9Ff4//mz+jf6L/kT+1v1Q/aL8rft9+i750fd69jr1GfQd8z7yc/H98OnwI/G+8Z7ynfPG9Aj2U/ea+Mr5yPp6+/b7KfwG/IX7ufqq+WT4FffT9c30EfSu8+zz7vSx9lr52/wQAfgFcAtDEVQXbh1QI90ozy3pMe00sTYqN1c2SDQVMdsswicJIvgbuRWND7oJXQSn/7H7fvgJ9l70XPPb8tTyAPMu81TzP/PL8vDxqfD27t3scurh52vlIuMc4YDfZ9733TreFd+h4O3iv+UF6ZjsQPDr82L3Yfrd/Nz+NADqABABkgCK/xD+Tfxt+pL46vZy9T/0c/Ms85DzfPTj9ef3SfrF/Gr/GAKxBBwHSQkvC7UM3g3ADloPkw+CDzMPvg5GDsMNVA0HDdsM3gwCDUgNqA0RDnUOwQ7uDu8Oxg58DgAOXQ2GDGQLGAqzCB0HXAWZA+cBMwCQ/h/92vvT+g76f/kq+SP5bvny+bD6rPvp/FL+1/9gAc8CHQQ6BQ4GrgYkB0QHFgeuBhgGVAV8BJgDpQLAAe4AOQC+/3X/WP9l/4n/u//t/wgAEgAAAKv/J/9//on9cfxa+yf66fih91r2L/Uf9EDzl/Ic8tfx3PEe8pTyOfPy86n0YvUi9u72nvcS+F34d/hu+ED43fct91H2WfVQ9GjzqvIv8iHym/LV89T1o/hN/LMA4wW9CyES8hjwH9Imay1cM2k4ajwcP31AekDyPgU83DekMqEsBiYlHxoYPxHqCiUFIQD2+534HvZX9CXzgPIY8rjxTPG98MXvWO6U7Hbq8uct5Vvihd/P3ITatdhx19rW/tbe127ZyNvH3jPiD+Yk6kruS/LW9QH53vtC/hUAUgHfAdUBSwFWACb/2P11/P/6qvmZ+N/3kve69034Xfnv+uP8Fv9iAcoDPAaiCPkKDg3PDkcQYhEnEqwS3hK2EmAS7xGCETwRCRHaEL8QwBDlEEQRzRE8EoUSvxLIEp8SShKzEeEQyA9oDr4M3ArSCKUGWgQIAtH/rP2f+7b5CPid9nH1kPT9867zu/My9P/0DPZU99n4gvpF/CT+BwDSAVwDoQSoBVcGzQYQB/EGfwbvBTAFSQRJA0kCegG6ABYAl/8k/9f+oP5U/gr+t/0T/Tn8Uvs8+vL4fvfT9Rn0bPLY8GzvOu5T7a3sYexz7Pfs5+0m763wUvIX9Oj1lvc1+aP6rvtb/KL8n/xO/Kn7vPp8+R74ufZf9VD0qvOJ8/zzD/X69rD5Df1HAVMG1Au6EeMX/B37I6Eply7AMu817ze0OEs4pDbIM98vHyu9JfUf9RnzEzAOwgjoA8n/OfxE+f/2SvUL9P3yC/Ij8RXww+4d7R7roujh5fTiyt/E3PbZbdd51RrUcdOS04vUZNbr2CTcDuBv5A3pze2I8gX3HPul/owB7AOWBXEGtQZ3BogFDgRoAqAA1P4W/XL7+PnA+Ov3j/eo9zH4Cfkq+qD7QP0J/+0AwwKUBFYG9QeWCRwLegy8Dc4O2w/SEKwRfBI+E/kThhTnFDoVbhWJFXYVIRWMFLcTzRLZEbgQaQ8QDqwMPwvkCX0IEgekBSwEuwI0Aa3/NP6f/BD7n/lJ+CL3LPZ09Qr1BPVc9RD2N/fQ+K/6x/z//jsBagNbBfkGPggMCXEJbgndCN8HkAb1BDQDawGS/8/9Rvzy+uL5Hfmm+Gb4Pfgz+Eb4a/iO+JD4ffhL+An4x/eE90b3HPcf9033mfcA+JP4Tvkv+ij7GPwE/er9ov4k/2n/XP8H/2j+fv1l/B37oPkA+FX2pvQP87nxmPC870fvSu/u70LxN/PW9R/5F/3RARcHqwyAEmcYPR7mIwwpjC1GMfsziDX7NWg1wjMVMWQt9igUJNgehRlGFCMPXgoZBj4C8f4i/Jz5VvdH9WrzpPG075PtPeuf6OTlJ+Nk4L/dW9tL2cfX/NbW1mLXqdiW2hvdMuCq41vnKevn7mfylvVv+Mn6lvzZ/Z3+2/66/mD+vP3f/PX7D/s9+rb5Zfkd+Rz5Vfl++fT5wvqZ+6T8zv0K/5EALgKzA0wFDQcCCQYL/AzsDs0QjhIxFLkV+hbnF2UYdxhVGOUXHxcMFqIUAhNGEYUP6w1bDNoKfQk2CCIHTwaeBQEFfAT6A3EDzQL2AQAB1/9y/vz8afvg+XP4HPfx9QD1ZvQ49GP05vTc9TX32Pio+pH8eP5pAE0C8QNiBYAGMQeQB6oHgwcpB5oG1AXhBO4D/wL0AeQA3v/G/rz92vz2+//6BPoN+Tj4l/fz9lr23/WA9VP1ZPXC9T321vaX93P4aPll+lP7I/zP/GP92/04/nH+Uv76/YD94vwm/FX7ZPpP+TL4C/fh9cb0wfPh8iPykfFJ8VTx0vHc8mz0lPZg+br8rgAqBQ4KXA/KFCoaVR8UJFUo9SvTLrwwkzGEMX0wgS7UK4UosCR5IBQctReAE5QP+wuvCJkFwQIgAKn9W/sQ+aj2G/RZ8XTuguuk6NLl/OJ34F7ettyc2yXbUtsK3GDdMd9Y4d/jiuY16b7r9+3u753x+vIB9K/0EfU39Tz1M/Un9S/1WfWq9Rz2tfaH93b4b/lS+i37CfzE/Hn9Lf7Q/nr/SgAwAScCWgPQBHsGWghbCpMM2w7pEMESZRTGFesWoRfPF5IXvhaCFSoUvhI/EZ4P5g1tDE0LfQr8CZoJWwkyCQQJ1wiPCCIIkQetBnAF8wM8AmwAqf7j/DL71/nd+Fb4XfjX+LP5+fqI/Fr+VQBGAiQE1wU7By0IpgiyCGEIvQfPBpcFNgTWAlcB2/+i/pj9sPzn+xz7aPrc+T75bfh391v2IPXN82fyAPG476Puy+0z7ffsOu3m7QHvl/B38ov01vY2+YX7pf18//QAHwLtAkIDTQMjA8ACKwJxAa0A3v8N/z/+df2v/NL75PrU+aP4WfcD9sj0o/Op8gvy8fGI8tjz5fXK+KD8TgGzBq0M/xJ1GcUfmCXGKiQvejKcNIs1UTXPMy8xsy2DKeMkAiAHGyYWhRFnDd0JuAbsA1QB3/6b/FH62/cy9T3y9u5r68TnOuTc4Kfd2dqh2DDXrtYC1wjYxdkk3ArfYOLW5Ujpl+yG7/nx7PNt9Yv2PfeP96X3mfd991/3effS90r45viL+Sf6yvpt+wb8f/yx/JL8W/wq/A38HfxL/JX8I/00/t3/8wFPBNEGaQkXDNIOfRHjE98VUxdKGOIYORlRGQsZchikF8UWAxZoFecUdBQOFKkTKBOaEvsRFxHkD2kOmQyTCmUIEAagAysBzv6N/J76Kvkh+IL3Q/dY98r3dfhr+Zr6wfvw/P390/6X/yoAlgD1AA0B7ADIALkAxwDHAL4AvQCoAJAAkwCHAGoAMgC8/yL/iv7a/Qr9Jvww+zX6O/lg+Kr3BPeO9jT20/Wc9ZD1nfXU9Qn2QPaP9u72Zvfr9334DfmP+Rf6u/pz+xX8i/zk/Cv9eP29/dX9xP16/fn8Yvy/+wX7IPoP+ej3oPZv9X/0q/MD853yhvIQ81r0T/br+Cf8DQCbBKkJGA+7FFUasB+nJAUpkSw5L+gwnzFhMSQwEi5gKzUo1CRPIaYd+RlWFtgSkA93DFwJFgaQAsH+u/qL9hryYe2D6MfjTd9G2+zXK9Up0wrSqdEa0mPTZdX719ba0t3l4Pzj8eao6QvsLe418DXyIvT09bn3dPkw+/P8sP5sAAcCTgM5BMkEGwUhBcUEFwQkAwgCCgE9AKj/TP8c/zL/pP93ALEBNAPHBFUGAgitCTwLwwwfDlcPdBB4EXkSchNKFA8VwhVVFrsW/xYhFxMXwxYoFkIVChSXEv8QWQ+WDbkL5QkdCGMG0QRTA/ABvACJ/27+hP2R/KT7z/ry+Tn5nPgM+K33ifek9wL4iPgn+fX55/rv+w/9Hf4Q/+//gwDWAAQBAwHKAF0Axv8i/4/+AP52/ez8a/wA/LT7a/sg+9z6ffoL+qT5Hvlo+L33Cfdl9vL1n/WT9cH1Cva09qj3tPjq+Sj7Xvyl/dP+z/+NAPsAJwEVAdQAdwAAAHf/8/56/gj+pP1l/Sb9yvyQ/Fn8/PuP+xn7pfpB+vP5yPnR+Sr6DPuQ/Lj+ggHPBHEIfQzsEJIVPxqwHs4iYiZOKYsrAS2tLXgtdCzYKqwo7iXSInkf8Bs4GGEUdxBzDH0IfwR9AJD8jfh29FvwY+yX6Afl1uH33nncgdoB2QLYiNeC187Xc9ho2YXaz9sy3bbeSuDF4ULj4OSZ5ororerm7EXvtfEt9Lj2Qvmk+8D9gv/vAAACswIGAwsDywJoAvUBcAELAdkAAQGcAYwCxgMgBX8GDQjHCYULNQ2uDsEPgxAhEbARMhKDEooShxKFEosS0hIhE1sThBNqEx8TtRIoEpgRxRC4D4QOGg2iCyMKvgiHB1IGEAXZA9YCJQJ8AaEAp/+E/kz9MfxG+3z6t/nv+Cb4ofd+95339Pdz+Cf5Cvoi+0n8Qv0k/uH+Zf++//7/VgCMAIcAhwByAF0AVgA8AC4AFQDz/9v/p/9a/+X+Lf47/R38Dfsi+kb5efiu9/T2g/ZQ9kf2bPa69jH3v/dt+EP5D/qp+hz7afum++z7H/w3/Ev8U/xP/E/8UPxN/E78ZfyF/Lr8+Pw2/XP9lf2T/Yv9lf2o/bv94f00/pv+Hf8CAEsBzQKnBNAGNAn5Cy8PmxL1FQsZzRtBHmkgOSKHIz8kUiS+I6oiSCGcH5QdShvhGGoW9BOQER8PlQztCQoH+wPjALv9gfpK9wH0o/BZ7UrqkOdC5UzjmeFF4FPfvt6N3o7enN643ujeOd/X38zg8+E044bkD+YB6FXq9OzP77/yuvWF+Bz7pv3y/+YBewOgBHgFCQZ3BhEHowcSCFYIfAjJCEoJ+AmlCiYLYAtHC/MKjgoiCpkJAAlRCJIH9waSBoYGxQYIB2EH4QeGCEsJDwqrCikLdwuJC3kLTQsZC+sKuAp0CiAK1gmkCX0JSQnhCEcIjge9BtYFvgR/AyMCuwBQ//n93/z6+0T7vfp8+nP6ivrC+hr7gPvd+0b8svwe/ZD9B/6C/hL/vf9iAOoAhwE8AscCJgNfA2sDMwOtAvMBBAH5/+7+2f2+/Mf7B/uA+hP6q/ln+Uf5PflQ+Wf5YPk6+QL5v/h5+FL4SfhL+Hz45Phy+Sv6/PrR+5D8Jv2t/fL96v3V/X39z/z2+wv7Kvpm+b74Wfg8+E34m/gV+bT5fPpl+0D8A/3A/YP+X/9qAKcB8QI4BKUFZweOCRQMuA48EZkT3xX/F+0ZmBvdHK0d9x3ZHXsd+xxVHHEbMhqdGMkW3RT7Et8QWw6GC10ICQWpAUj++/qf9zP0/vAu7tTr4ukg6IrmFOXL49biG+Jt4b3g/N9G39nest7S3jTfuN934JvhNeNJ5Zfn6ekr7FjukfDZ8h/1TPdg+Uz7/fzC/ukANwNtBX4HZQlCCzsNIA+3EO0RiRKQEmYSDBKFEfkQNxAnD/8N/gxWDPYLpAs0C54KCgp3CeUIQAhpB0EG7wSkA4MCrQEWAbYAfABoAKsAUgEoAhAD5wOCBOUEKAU9BSAFzQRCBJAD3gJHAtYBjwFjAVQBTQFWAYoB2AEdAkwCLQLGAVAB9ACtAEEAt/8h/5P+Of4L/uL9t/16/UD9Cf23/Fj85Ptl+9/6Rfq4+VT5M/k++Uf5avmy+RL6kPok+7b7MfyX/Oz8Sf2g/c/9+/0l/kD+ff7q/kn/gf+h/53/e/9X/yr/yv41/lv9Wfx9+7P68Pk1+Yz4FfjU9+f3W/j9+LP5bPoY+7/7evxt/Vz+IP+n//H/WADtAJoBagIzA8cDYARLBZ0GJAiiCeEK+QsiDW4O8Q+KEcsSlhMaFI4UIhWkFdwVshUkFUkUbxPCEvkR9BCFD6kNzQs2CskISQeFBVUD6QCi/oj8gvpo+Pf1QvON8BPu/es16mPoeeaa5AHj6uFY4Sbh++DA4I7gn+Ac4RfiVeOG5IHldebI57TpCexS7oHwnvLf9Jv3xfoZ/lIBPgTwBpMJVAw4D+URERSmFeAW9xfgGJ4ZHRomGqgZzhj9F0wXhxaQFSEUPRJFEIUOCg2QC9wJ2ge+BdADRgI3ATwAF//n/dz8OPwQ/BP8+fux+0H71fqz+vP6SPt9+5/7rvvZ+1/8TP1e/kL//f/EAKgBrQKyA6MEaAXSBToGzwZmBwMIgAi6CMoI3wjzCN8IvQh1COcHMwdBBjYFKwT9AsQBaAD5/sH9vPzY++L67/kq+Yn4Ffi593T3UfcX9932zvbh9gX3IPdC92T3jffb9zb4jvja+BH5ZPnP+TL6p/oi+5j7EPyH/Af9g/0E/m/+uP4G/1v/xP8iAE0AcQCWAMkAHQFsAaIBvAHBAccB2AH6ARcCBQLXAaUBfwF4AY0BmAFrATQBKgFPAasBMAKcAs8C/gJnA/0DrQRkBfMFOAZZBo0G9wZ7B8cHuAd9Bz4HGQcvB1AHPwfrBl0GwwVkBSEFvgQWBAMDrwFvAF3/Xf5R/Qv8kfoy+Rz4Q/ew9i72aPVr9IDz4PJ68iTypvHD8MTvFe/N7ubuDe8W7xXvQ+/E75nwy/EA8+/z0/To9Sv3mfgT+m37lvzB/Rr/lgAlAqAD4QTqBeAG4QflCLkJSQqhCscK3grzCgULFQsTC9EKXwr/CbEJcwkjCZEIzwcIB1EGvQUtBXcEtAMJA3YCEgL8Ad8BqAF6AVYBbwHAAfYBIwJQAncCzAI9A6MD5AMBBCsEcwTABBMFVQV7BY4FmgWXBZAFlwWFBToF5gSPBCIEzANhA9ICRAKhARsByQBuAP7/b//p/n7+H/7Y/YP9F/2H/OL7ZvsH+6z6VPru+Xn5Fvn5+Bf5HvkU+RL5CPkV+V75zPkv+mT6ZPp9+uz6f/sO/H38vvzm/CD9Z/2V/ab9jv1R/Q79y/yL/G38bfxr/FP8NPw5/H/89PxM/X39lv2e/cT9BP5D/mz+c/5x/pv++f5s/+n/eAD9AHABEwLmAsYDigQuBb4FMAaYBkAH5gdJCJcI2ggICSIJUgmICYYJTwnjCFkI+gemBx0HXgaOBa4EyAP9AjECVgFqAFn/VP52/ZD8rfvg+hn6RvmP+AX4i/c89xH36fbY9t32/PZC95/3Avhm+Lz4B/lQ+YT5wvkV+ln6f/p5+oP6yvo4+8/7Uvyx/CL9n/01/uP+jv8aAF8AjgDAAOsALwF7AZkBZQEmAS0BWAGwASkCWwIbAsQBuAH5AVgCbwIpAr8BawF4Ad0BPQJrAn0CkgLQAlADEQTHBDcFWwVBBUAFwQWIBhAHDAecBlkGpwZXB9kHtQccB4QGLwYnBhIGswUNBTQEdAPiAmYCGALJAUgBmgDH/xj/3f74/g3/qP65/ej8wPwz/bf9qP32/C/8L/zx/Gz9PP2x/D38VvzT/EL9df1+/az9EP59/rT+0v40/7j/7f+Q/7v+Hv5G/sn+xv71/dn8TPzV/OL9OP5x/Uv8zvs//Nj8s/yZ+1f6qvm++UP6dPoZ+sj5BPrf+vT7sPwG/Vv95v2X/jP/dP+K//P/rwBWAYIBZwGqAYoCrQNbBCYEhQNVAwYE2wTHBL0DlAJaAjMDHgQxBG4DsQLwAvkDvASCBJwD4QKvAsAClgL+ATYBsQByADkAAADZ/87/6//5/8T/Yv8f/y//Xf87/4r+2P3b/V3+0v7z/sP+nf7X/lb/zv/3/8z/jv9w/2L/WP9u/4j/c/8j/9r+8v5a/8n/AACt/+f+Xf5//uj+0v4g/kv9/fxU/dz9OP4d/tP90/0v/qf+0/6o/mv+Mv4X/hf+Fv4n/lX+kf6z/sr+Hf+0/zsAhQCyAMwA6gA3AYIBlgFRAR0BXwGiAZUBcAFiAW0BngHJAZ8BIwHrAEkBmAE9AXsAJwCXAEsBnQE8AXIAYABVAU4CaAKMAbMA6wD9AcMCegJjAaMAKwF2AgwDWQJIASIBCgIHAxQD8wG1ALUA6AGwAugBSgBk/+P/EAFZAQsAJP5x/Yv+1f+g//z9gPyg/C/+WP+Z/r389/sv/Q//b/8I/q/87fyS/sj/SP/B/fH81/2i/4cAov8b/v39jP8rARoBc/9//mz/6ABIASIApf5o/m3/ZgA3AOj+0P0L/jz/AABz/xr+gP2W/i0AaQBq/6r+Bf8UALYAUwC6/7T/WAAWARUBdAAoAMYA1wFtAhECWgFsAVoCFQOfAjgBjwA7AfIB5gEhARIAm/8uAPIAcwD6/k3+V/+pAC0Ah/6w/TH+df9JALb/Tv7i/T7/+wApAcP/yf5T/64AAAJaAkkBEgCJACMChQI9ATMAvACnAXcBiQDi/9T/CgAKAGL/Nv7V/bD+df8H/4/9nfwj/Wr+V/8O/9n9MP01/gIAjQCm/7f+rv6o//kAfQGVAH7/xP/hAFcB0wBQAGMAwQDBAFIAKwBKAD4A/P+i/7X/BgC6/xX/GP+4/+n/cP8c/4D/TwC/AIEACwDX/xEAxQCeAZQBgAAhABYBAgI4AgICYwHnAH8BsAICAwYCygBjAMkASAFDAWgAGP+k/mD/6f8//zb+DP5n/on+2f40/3b+Nv2S/TL/q/+w/tj9Wv7Q/80AmwCs/5H/5wABAgQC9wHwAU4BBgEDAqsCdwHI/+3/iwHUAQEA0f6U/wwAUf8I/y3/aP6X/YD+tv93/n/8Ef3l/gr/8f3K/Xr+kP4//pb+V/+K/xz/ov7Y/jIAMAEVAKn+hP++AUIC0gAsAEIB5QEjAdYA+QBVAC4AJwFBAcD/1f4HAFQBmAAN//T+EwDSANoAMgBF/0H/PAC5ABYAdv+r/wsAGQBbAMsAXwCS/y0AcAEsAen/+f8CAZMAdP8TAAkB7v9z/vL+VQCxAO//CP/V/o//hACdAJP/sf4d/93////w/4j/5P71/rr/ZQBWAMH/1P+HAD4AaP8iAIUB2wA2/1D/twBzARMBRgB1/zL/fgBlAukBOf98/hUBJgOhASj/Jf+PAHQBfgE/AIz+xP7sAOcBGAAG/qf+1ABKAQkACf/A/vL+v/+AAKT/ov0t/Q//nABd/3r9Q/48AJwA3/90/4f/2v+JAGcBFwFf/8f+8P98AB4AFwC0/63+Rv+NAf8BRACs/5QA0wCGAAMBGgGM/8P+ZQDSAXEAX/4N//YAOgG5AHwAlP/Q/uj/EAGm/1j9hf2V/xIAif5q/qYA4AHOAPH/1gBrAvkCXQKRAfgA/QAPAqYCBQHx/mT/kgHvAQcAFf8mAL4A2/8x/2v/E/8a/nn+bv+B/uL8Dv2Z/oH/+f5M/nv+0f7y/rD/5wBtAOf9BP14/7oB4wC8/qT+iwCrAZ4B7AECAu0ApQBeAjMDPAGL/4sA5wE9AYz/1f57/5oAWgEUAbb/t/5g//oAxgF8AEP+G/4GAHkArP47/gEAKgDU/db87v57AbYB5P8q/vz9of+5AdoBFACr/o3+YP+xAOgB6wGZAKf/MQBhAS0CPQKGAXYA0f8dALgAiADn/wAATwBv/0r+CP/DALUAIf9E/jj+yP3W/dL/ogHc/zb8zfsh/5gBzQBY/93+Xv6o/gsB5AKgAeD/rgAWAsEBAgIyBKgE4wGq/3IAbwIwA2kCrQDc/qb+KQApATYAUP5v/ff9WP59/Vz8rPz7/dz9BPz1+j78x/5CAIT/jP1r/Gf9NACVAucBvP7u/MX+4gHXAtoB9QBYAD0A+AFdBA0EIQGe/98AKALKAe8AiQAAAHH/2f98APf/C/+y/7ABHALg/yf+R/9CAYIBMwAe/63+W/4z/2IBDgLT/2v9A/6dAMYBIAFOAEf/T/7I/goANQBj/4D/cQA2AJz/yQChAvoCpQH4/6H/6gDdAmcDQQH1/uP+z/8fAM3/h/92/3X/vv/Q/wz/bf4P/8//Lf8R/lL+0f8GAWsBEAFW/0r93P0lAWQDIwKq/6r+3v62/3ABHwIl/6P7L/0XAoUDNQCb/Rb+0f4h/4oApAGXAH7/0gBLAvMAKP+w/64AsQBGAS8CHgEM/3n/lAH/ABf+YP1P/58AggBGAJr/wf25/Db+8v/W/1f/zf8hAJH/P//T//3/Qv9X/5wALAGvAK8ATgEMAXz/kP5u/6wAgQHjAQkBk//5/q7/sABxAOL/TQB7AC8AmgBLAQQBrf+5/uL+Wv+VACgCjAFH/0n+Rf/G/4j+wv71APUA8/7e/o8AiwB8/i7+9v/m/1H+e/4LAFUBmQE4AM39qvwS/w4DlQNqADn+Df+0APwAiQD3/5f+A/4EAGcC4AEZ/5D9f/7W/+X/YP9v/+f/OgAuAKP/1f7G/uv/GgELAQYAJf8K/3IA9gJEA5n/O/zS/doCcQXtAiv/Ff4H/z4AVQHXAR8Bs/8j/8j/lQDqABwBdQHFAO7+Q/5//wwB4QGmATwADv64/G3+CgL2A6QCp/8v/kH/qgAdAfUAIgDG/vb9sP79/1kA5f8L/w7+zv3O/jUAjgCQ/47+Yf6F/qP+Jf/d/+j/xv82AIMAkwDuABEBXABE/1f/8gA8AiECNwFhAEgAQwAXAAkBjQIuApz/C/56/z8BhQCn/qf+UQC/AAcAnwDJAS4B4P58/f7+YAH5AdAA8f7n/aD+SwAPAdj/mP5T/2kAZgAgAFEAXgBN/+L93/02/64AHAHF/xL+//1x/4gAJQCL/xkAzwBiAL3/8v+WAGoB5gH5AEX/1/4AAcEDrAMeARD/af+rAQ0DKgIiAML+cP/yAA4BOQDw/xoAdv/n/ZD9Iv+zANMAif+n/Tv8ePyw/u0A5wDP/ir9Gv6MABkCWgHb/lD9Yf7LAEMCuwFIAFz/IP9O/8D/PwCyAEIBbAFFAFf+cf21/p0AtgAd/8z99f0//1EAYwCx/6X+Sf5k/woB1AEvAQwA9P+jAEQBjAFPASUBbwEPAlMCSQHZ/57/jABLAfgACQA5/9v+LP/W/9X/8v5y/gn/2f/I/yD/Bv9q/4P/Iv+o/uv+VgD9AVkCCQGD/5j/KAF/ArEC6AHkAE0ALQCCAOEAtwA8AOL/2v8TAEYAPgDZ/xr/hP7F/qH/gAAbARwBfwCI/9r+Yv+NAAIBZQCD/5j/dACRALL/Av8g/+D/tABYAWkBRgDj/vH+5f8WAEr/3P7U/+IAzQAwAMj/qP/y/4oA3gBxAIf/Jf+P/8T/if8f/7b+8/6z/y0AAwCA/2f/zf/T/4D/hv+q/4b/Kf///rH/kQCOAO7/Lf/q/n3/RgDbAMsAu//y/ln/IwCUAFcAIgCAAHgAcQA2AcYBcQFhAMf/MwB6AIMAwwC7APj/zv5b/vL+1f8+AMT/vP4V/qf+IwAMAa4A2/+h/yEApgC3ALEAJwETArMCCgJ6AOL/8QApAtUBYACw/ykArABQAET/gP65/qP/HACx/zP/Lv8L/0j+mv3l/cn+ff+w/zr/Of59/eD93f47/6T++v0i/vr+wv/H//7+Zf7u/hEAywCcANz/c/+Z/wMAMAC+/2n/4//hAOUBCgITAc7/i/++ALUBOgFDADwAEgFmAQoBqwCKABEB0wHbAfcA+P8MALUAkADW/2L/TP9z/8L/IQBAANH/Vv9S/5X/EwCoAM0AlACiAPwAEwG6AL8ApQEzAlEBFwArAGABMAKkAaUAgQADAVwBEAEQABL/s/7q/nP/lP8I/4P+hP5H/yoADAA7/8T+G/+Q/y3/cv5x/iP/pf+M/1//zP/ZAJsBYwG+AJcAFwFKAboAJADm/8b/2P9pADcBewEgAeYA+QC9ACQAzP/h/wAA4/+a/z7/5f7c/lT/8P8JALn/ov8EAGQA+f/d/hL+S/4d/4v/PP/q/jH/nP+V/0f/Ov+e//T/GABtAKsAnQB2AFQARwAuAEEAwQAnAQ8B4QDsAPoAqQAJAML/BgBBADsA+/+u/6L/Zf/7/r7+qf7o/kv/g/91/wn/lf45/of9tvyX/Gr9Yv6Z/hn+rv2v/fb9Uv51/lr+UP6P/gD/QP8m/9H+gP6F/uT+c//8/5IAGQH9AC8AU/8k/4//6P/v/+z/TAD8AGYBCQEZAHj/l/86AMsA3QCvAKcAwwCuAE0AIAB6ABQBbQGGAY4BRwHOAFsAMQBgALAASgHcARUCIQIfAioCEQK9AYUBiAHrAWkCggIoAqoBowHwASICJQIcAhgC5QGJAUsBMAELAcIAmQD1AKQBJgIRAokBFQEBASgBPAElAfwA8AAHARkB+ACkAGcASwAWAKz/SP8s/zT//f6C/iD+Dv4x/lX+Y/5c/kH+Dv7W/Zf9bf1y/aD92/3p/cD9h/2a/RX+a/48/uH93P1C/pT+o/6i/p/+tv71/kD/Wv9A/y7/Gf/t/tr+Nf/H/zUAlwAQAXcBfwFZAY0BGgK2AhsDPQNjA7ADDwRFBEUEVASeBAIFXgWNBYEFTQVDBY0F2AXSBa4FzQUlBm0GVAbdBUgFywR8BCAEgwO3Av8BogFIAX0AU/8p/jv9W/xR+zP6U/m8+DP4Vvcm9iD1jPQv9JHzsfI38l7yjvI98pTxNPFd8djxXPLM8kDz4/Ox9JP1ZvYE94X3Qfh6+Q/7mfzp/TD/mgDdAcUCmwO6BAoGPAdeCF4JCwpXCosK8ApHC1wLRAs6C2kLjgttC78KnQm5CFcIPQjPB/kGQgbLBVAFuAT3AyUDZwLgAaYBeQE2AfMAwgCdAHgATwA7AG8A0QAeATEBFAEpAXEBrwHmARQCTgKhAv0CTANUAwYDrgKEAnoCZAI1Au4BoQFfARcBjwDF//z+Xf6+/eP80vuj+mf5Ifjq9rn1WPTc8pvxt/AI8ELvRe6G7WTtte0d7ovuge9B8YLzA/bM+Nf7Ef9fAqwFBAlpDOQPZROSFlQZ0hsdHjsgGSKbI5ck7CS+JGAk0iPZIiUhux4KHH0ZBhdxFIYRDg4OCs4FvAHI/aT5TPXf8HbsLOgX5FngudwZ2cPVxNIF0KLN68vlyuDJgsh3x1jHP8jmydjL881D0BHTkdZs2nLeouLx5mDr/+/X9OT5DP8mBBwJvg0PEl4W8RqhH94jNCffKVMski6CMPwx4TIZM78yJDI8Me4vSi5ELMYpnSYnI9gfoxw3GVEVJhHRDG4IPgRfAL/8HPlO9ZnxQO6D61LpTOdv5dnjweJD4kXiuOJ/42vkT+Us5mbnTOnJ63Hu6/A68571VPhd+3b+LAFMAz4FVgd+CX0LNg2sDsYPkxAlEWIRZxGAEVkRfhD0DioNjgsKCkYIMwblA5ABmv8B/oz89Poo+WX31/Wc9MXzPvP78tfyv/L/8qnzk/R09SP22va296743/kW++r7WfyF/I78cPwq/Or7evud+lb5vPc79hT1UPQR9FD0N/X29qP5Jf3tAI0E6gc5C9YOxBLSFsMaRh5WIRIkzyaqKX0sNC+TMTozAjQYNHcz0TEfL7MrwyehI5MftBvgF+8TuQ8UCxMG7wDw+zH3ZfIL7Qzn0eCr2s7UXc9MyqvFgcH+vVq7VrmIt7q1K7Q5s8myD7NftKK2qrlGvW3B+8UUyynRF9h/3yDnmO7W9cL8WwOgCXgPxhRcGcwdiSJKJ6MrMi/sMe0zJDW9Nb41bDXcNKsz6jG3LyAtRypbJ5ok3yH6Hgsc6xjdFd4Seg+SCzMHDwOI/2v8uPku99v0w/Kx8BfvNu4Q7ozuZe/S8NvyR/W89wj6k/wz/6QBFQR2BtcIJAskDZkOPQ9sD3IPVw84D9gOKw4ZDZIL6glBCJAGvgTJAvsAV/+0/QT8RPpN+CH2B/Qc8nnwbu8M7xHvL+8871jvb++T7/zvovBk8STy4/Lb8+r00/Wp9lr3Cfjx+B36Z/uU/Lf9uP4i/wP/2/7v/hP/Pf+u/1AAuQCjAEcA2P9J/6n+3v3e/MP7Ofoo+Jb1hfJK7yDsbunE54rn9uiw6yTvI/OW91P8QgFUBn0L0hAqFkEbCSB6JNoobi0UMsk2Yzu2P55DpUZ0SKlIEUcURG1AlTy0OOI0RTHJLQUquSXXIG4brRWlDykJMwK6+szyeerW4S3Z2tBSyc3CWL3puDy13bGHrier4KcMpf+i9aEioo2j8qUCqXysirBntSe72MFhyYjR+tl64trqtvL5+cMAYAcZDvAUDhwpI9op3C+yNCo4mzpqPOE9Ej/4PxFA9z4UPa869zfMNGQxBC6XKlonYCR2IXYe2hqSFv4RgQ2pCYkGKQQgAs3/Nf1X+nz3NfWf84/ymfG+8FfwR/B88L3wsPCA8IPwM/Hy8p71w/je+4r+igADAmUDBQXXBn4IigkACicKCwp/CXwIEwd9BQIEuwKfAX4AKv9z/RH7KPg/9fvylvG28C7w3++V72bvY+9876Tv5e9t8ErxVPJo86D0+fVd95P4hvme+iz8C/7X/3MBHgPPBGkG2QcMCUMKfAthDNUM5wzWDJgM+AsKC+cJpwhCB9gFiAT2AtMAJ/7o+hT32fJi7uDp1OXh4jjh2eDe4V7kDehd7ADxBfZr+8sABAYeC+gPhBQiGfQdVSMuKU4viTWUOyVBuUXNSC9K+0mGSCFGGkPYP7I8njlKNoQyNC5XKekj1x0KF4wPhQfm/pb17etb4gTZDNDix9HA3LrOtTix1ayNqICk1aC4nZObrpovmxudPKBgpCCpVa4dtFy6QsG3yGnQSNgs4PrnZO9A9gH9twNoCkERPRhXHyUmJCwHMZY03jY2OPc4izkYOk864Dm5OPY21TRQMoEvsyzIKdomCCRtIQsfUxxOGSAWnBJQD5sMkwo1CRcIxAbjBJMCGgDR/UT8kvt++7j7F/yw/F79Jv4M/9n/iQA4AU8CJQSLBiUJbAv3DJMNZQ0BDeMMKw1yDWYN1AyOC80J3gf1BS0EXQJ2AJb+t/zS+uP44PaN9PDxYu9b7TbsAOxr7N3s6exf7H3rtOop6gXqg+rG64ntRu/g8HfyKPTG9fz28/f/+CT6hPsq/e7+lgD9ATUDSwQ9BQ4G0QaBB80HWwf8BfMDoQE7/wX9HfuF+Q34efaZ9CfyJe+h62HnqOI63vbatdmi2p3dPeKT5yTt3PLd+KL/GAeVDrkVTxxUIg0o2C3sMzQ6bEBdRv5LLlGtVeFYA1q7WBxVyU8LSv1E/UCfPeg5IDXBLt4mPx6MFfoMRQQQ+yjxqOYd3P/RYshlvzm3J7BPqqWlC6JBn9WcFJrKlryTKJLOkr+VuJoQoZWnla1ns6a5zsD9yCnSFdz55UzvI/iQALQIihAgGJkf1SYLLiY1hTu1QEJED0ZtRrFFoUT2Q6dDQEMJQr4/VDz+N1gz2C68Kq0mLyJWHVYYJhPiDQkJBQXFAVn/1/0B/Yf8BPwX+1755/ZI9ALyj/Ax8Ljw0fH88tnzg/Q29ST2OPde+KX5Avt7/Pr9qP+cAY8DiwW3BxAKbgxYDrMPiBBkEDIPfQ0BDAgLUAqwCRsJPAjSBvAEugJYAPj9pfuK+cT3ZvZ59b70C/RL83zy0vFv8VLxafF98YXxVvEp8XHx7vGd8rHz9fQK9nf2ZfZx9o72k/ak9hT32fed+F75DPpv+m36F/q4+YT5afkq+af4BPg09xT24/Tg8/Ly4/F/8JXuG+w06SvmZuNr4d/gLuJQ5fzp0u9g9lT9UwQqC/YRrBhIH5klQyssMIg0pzj4PKhBnUa4S55Q6FTtVyZZcFjgVf9Rc03KSENE2j9dO1M2ZzB9KZQhDxlAEDkHCP6T9NPqyeCi1rnMcMMVu8Kzkq1qqO+j05/Xm/mXXZSpkZqQYpH+kxWYJ53OopWoZq6ZtH+7R8Pwy2nVXN9Q6QbzKPyUBHMM5BMiG0AiACkjL1k0dThdOww95T1PPpo+6z77Pkw+tDwnOsg28TLjLgor5yeFJX8jaSHYHsAbHBjbEzcPkwptBtUCnP/K/Dr6m/fq9DPyzO8E7ufsjOzf7KDtcu4w7xfwSPHW8uD0UfcZ+h79CQCTAqEETwaZB5gIkAmiCtgLDA3zDVcOBg7+DLYLVgrjCKUHpgaxBaYEdQP+ATsAUv5q/Gj6QfgZ9gf0BfIM8Dvu1Ozz65Drt+s77MnsU+2L7XDtMu317Cftze3P7k3wI/IB9Jv16vYO+D75qvoz/ML9Pf+JAKABYQLkAlIDuAMsBIEEmQRsBNcD/QLvAbkAfP8g/rz8Q/tv+TL3gfRv8W/uHOz56nTrje318F71XfqM/88E9gn/DtcTPxhTHBUgjSPhJksqGi5aMuw2xDt3QH9EWkeGSOpHnkUCQt89xjn+NaUyhC8rLCwoZyPjHZcXbhCmCH0A/fc070nmlN1O1YPNjsaswMq7y7c3tNewn604qrKmlaNkoYigOaEwowumo6mnreKxW7Y4u8LAIMdRzkHWut6O50PwcfgdAFIHPw4fFfkbziJrKV4vKTTNN446bjyaPUk+qj6ePrU94jtjOT82TzLQLUkp8iQgIfkdIhtcGD4VexEkDZEIMARXACf9d/on+Bj2K/R98k7xrvCK8N/wt/H98pf0ePZB+Mj5O/u//ID+tQCVAwUHbApcDZMPBBHzEbkSqBOaFEEVkhViFbgUnhMHEhMQvw0cC2IIfgUuAqv+Q/vj93f0NPFW7gfsNOq56IHnMeaZ5NXiPeEj4K7fCuD/4DTinOMR5ZPmIOjm6VvsQ+9Y8pD1rviV+07+2ABGA2IFDgeYCB4KigvtDDoOJg+FD2MP8A43DlINXgwdC3MJWQfpBGgCo/+O/Dn5WvXr8DXscech4+bfE96/3e3eleGf5dLqzfAy95v9ogMdCUAOKxPjF6wcoCHaJmosEDLMN1s9R0JXRi9Jk0qNSjdJ3EbQQ11AujzVOOU04jCZLCwobCMKHuEXrhBeCD7/ovXd61riXdka0anJ/sImvfi3HbNlrq2pH6UUoaSdH5vOmduZNJuKnfOgnqWcq+2yKLvcw6/MfNVS3iHn+u+f+AgBYQlKEfAYniDeJ4cuQzS+OAk8Fj5WPxFAC0BXPwI+7DtJOYM2tTPjMNotXSqFJi8ioR1AGdwUhRArDLQHeQNq/+T7XPli95319/OU8o3x0vBq8DrwQPB+8NHwgfG38nr0qPb/+Hv7xP2p/6gB/QOLBjwJxAsODhwQzhEWE/oTYxRVFNoT6hKxERwQPw46DNAJ7wa7A4MAp/31+kb4x/U982zwSO0S6lbnAeUy42TiSeKd4m/jmOSk5UDmw+Z850zoRemk6pXsz+7g8N7y3vTI9s74G/uJ/QkAgwLLBLwGJAgFCYYJqQm9CekJAQr0CaQJ7wiVB48FFQNeALH9HfuF+NH1yPJJ73vrc+dI44rfldzA2nLaoNtv3t3ieegE71X2BP6HBZUMMRNAGb8erCMlKLAscTGbNmY8UUK2R09M0U+zUctRQ1BuTatJJkVDQF47WTZSMUssPyczImUcphVFDjoGnP1p9KjqrODj1szNsMW5vu64FrT2rzqsrqhhpYiiKqBgnqCdE56KnxuitKVHqq6viLXIu3jC28kJ0rPalON37Br1Vv0pBb0MAxTiGjwh7iYULLcw1DRyOF87oT1KP0FAq0B/QLU/Sj4xPH05SjbRMnMvXSxyKWcmCiM+H+8aRBasEV0NDwnjBB4BqP2k+h341vUB9ITySfFS8IzvHO/47hjvdO/877Lws/E680b1pfc/+tr8R/9iAS8D4ASGBg0IXwl1ChwLJgveCmsKxQn3COAHkAYfBXgDwgELAFP+fvx7+m34gfbQ9Enz/fH/8D7weu/J7nPune5q74/ws/HV8tnzlPQo9d71+/Ze+Lz5IPu8/Jz+tQDfAvIE0wZFCGgJfgptCykMmAyeDEkMpwvHCskJxQibByMGUQT7AU3/svxR+g34sfUe82Dwee186qjnA+Vq4g/gY97S3V/eNOC042/o2u0N9L/6hQEjCGQORhR8GQceTiKRJtwqPi/WM2Y4YzzCP4pCbERQRStF5EN9QfQ9oDkwNb8wKiyKJ84i7B2aGL4SmAz4BbL+2Paf7r/m/d7N1uLOyseTwTO8dbc5s4uveawJqimo2qY0pjam9qZ3qL2qKK6jsvC3SL56xVDNrNUU3nLmxe689jP+GgWvCywSgRiSHmAk3inuLn4zizcXOwM+EkAdQUVBwkCQP9c9GDxnOq84ljbxMyIxCi5FKvIlRyE3HLEW4xAhC6AFkwDo+5T3rvNB8FLtsepX6H7mEOX242rje+Mb5CrlsObT6GPrT+6H8cj0/Pct+2f+hwFVBOEGZwmnC2MNtw6rDzEQGhB4D88ODQ4CDfQL4wrKCaQIYwc2BgUFsQNUAuQATv+F/bH76/lD+M72evVm9KbzBfOZ8izyhfEH8bHwYPBM8JDwBPGQ8VPydvPL9BX2hPco+c/6UPyS/br+vf92ADYBDgLTAn4D7QMYBOwDUQN2AmYBFQCv/j79u/tQ+g351ved9mv1B/Rf8oPwWu4c7D/qGunj6Krpf+u97kPzqviz/i8F3wsoEqYXihzrIMAkJSg9K0MuUzF9NMI3IDtEPrBAK0KKQqZBkD9fPE44hjMhLosoACNzHdsXYxIKDW0HiwGS+1T1vu7+5x/hPdqC0wfNHsf6wXC9yrklt/e0NbMMspixzrF2spuzRrWAt3a6PL7CwsnHPM1202/ax+Fc6Qfxofju/6IG3gzAEjUYPB3HIfcl6ClYLTUwizJJNHc13TVYNSk0ijJ6MAkubyvDKOkl3yLPH8QcoxlRFq8SzA7LCqQGnQLm/pb73/ip9u70j/Nz8pzx0vAf8J7vVu9r767vCfDD8PDxe/Ne9av3PvrW/GL/zwH1A74FSAeWCJIJNwp4Cp4KuAqECjcKqwnDCM8H2gb+BRIF+QPsArwBVgD4/rf9jvxm+zf6CfnI95f2s/X29GL0LvQv9C/0OfQ+9Hb04/Qc9VL1zfWI9mz3dvjA+RL7YPy6/RX/gwDiAQ4D/QOkBBUFcgWpBekFYwbiBiQHAAedBhYGSgUrBMICDwEh/yH9Qvul+Sz4r/Yv9ZHzzPHp7wnuPuxy6t3ox+dt50XocerI7WHyEPhS/tYEaQuzEX0XwRx0IWgliCgzK7ktDTBMMn80hDYeOPs4KDmiOC83rjRTMT0tVyjyInwd+xdtEgYNzweoAnf9TPgu8wXumOj74mjd0ddQ0hzNR8gGxH7Avr29u3C68rk+uky74rzMvh3B0cPuxnzKf84H0w3Yjt1447HpN/Dh9oX96gPkCV4PPxSZGHUczR+mIvok9SaVKK0pTyqlKqIqDCoHKc8naybUJBwjWCGRH7IdshuuGZ0XTxXKEjkQiQ3DCg4IiwVpA4QBtv8W/qT8YvtI+iT5Bvj39ur1AfVM9PDzCPSC9HX1tfYU+LP5Y/sd/cn+PgCTAaECWgPgAzIEZASMBJQElQR+BB8ElAPpAg4C+QCp/zj+w/xL+9L5Wvj29r31rfTh80jz2vLB8tbyAvNV88TzefRT9T32ZveQ+LX55foT/ED9X/55/5oAwgHrAhEENgVLBj4HFgjCCCQJWQlzCVQJIwnxCKwISQiwByEHrwYABgkFxwMpAkYAOf4N/PD5CfhQ9pn0y/La8MPuo+xZ6tPnOuWf4jHgdd7K3UfeB+BX4z/oYu5k9ev8lwQdDDsTmxkzHw4kQijkKyovRjI2Nfw3lDrVPKI+xj8GQGQ/qz20OrY26DGKLMQmoiBaGioUGQ4MCBUCIvwk9iPwGeoU5APe89cS0nTMPceHwme+CruBuMG257UAtsm2JLggupm8W792wufFscnOzULSz9ZF2zHgq+WL68DxDvhq/qoEgwr8D/kUTxntHOgfbyJaJMQl3CbHJ8EouSm8KsgrmCwRLSctySzPKyAqtifCJHQhux25GbwV+RF9DkELYAjiBaIDqwHH/+D9EvxN+rv4UPfv9db0FPSp877zU/RY9bz2bvhT+lb8df6UAGgC7QM8BScGvwY3B3UHjgeLB4cHrQfWB9sH1AfRB5UH4QbHBXUE2QLfAJ/+Y/yL+gv5uvfN9jf29vX+9RL2SfZ39lz2J/bf9XP18/Rx9BL04vPu81X0APXb9QT3WPiu+Qz7cvzW/QX////nAJkBCwJ0AtkCPgOsAzoE4QRTBZYFxAXIBZwFEQUjBPMCdQHc/z3+c/yp+hH5k/cB9kD0WvJi8FnuTexD6mToHOeT5vbmfug46y7vLvQW+sIAzAfFDnMVlhsJIbUlZik3LHguQTC0Md0ywTOSNBY1FjW2NOczcjIeMOAs0CgDJHseYhgMEn8L0wRG/tv3tfEG7LzmzuEx3b7YcdRM0EnMZcjKxI3Bob4YvCO6CbnEuFW537onvQ/Al8OexzDMF9H31cLaf99E5BHpve118nj3zPwVAtEGVAsrEAUVcBk2HTAgdCLtI60kASUJJcckSSSoIwUjeiLZIR0hZiCRH0ceVBzsGTwXMBTXEFEN2QmZBpsD8ADI/jj9Kfxn++j6wfrT+vj6D/s1+3H7nfu4+9v7QPz3/On9Df99ADgC9QOsBW4HEgmDCqMLUgynDKYMOgxpC3cKfwlZCAYHvAWFBFsDKAIAARYAOP8k/hL9C/zr+sj5gfhE9zP2OvVZ9K3zXfNc85jzHPTW9Kz1mPaT9534p/m9+s374Pwd/nz/4QBJAs0DVgXIBiUIOQnxCVAKOQq5CcYIewcNBmoEmQKjAKn+t/y7+t74GvdJ9W7znfHs72Hu4uxh69DpS+jS5mDl9eOb4onhsOBI4MLgNeLC5JDohO1u8xz6ZQEPCd4QcxhpH58lBiulL4UzxzadORA8Iz7eP0JBSULVQupCaUIhQeM+izs3N/Qx2isKJaYd6BXhDbAFs/3u9YTusudN4TbbbNXxz8nKDcbAwdK9VLo/t6a0zbLQsbSxg7I4tNe2R7p2vl3D2sjDzuTULttw4YDnlu2g8335O//dBH8K/A8HFbsZIB74IRAlVSfBKFcpCCnZJ0wmsSToIvUgBR81HaEbNxrzGN4XphYWFToTKxHTDjAMWwmFBtEDQgHs/gf9q/vR+nL6afqt+i370PuM/EH97f22/o//ZQBHAUYCTANYBIUFwgYBCD4JWApGCxIMyQxdDacNpw1PDaIMsguKCjMJswcVBmEEvwJEAeD/iv5V/Tz8Gvv1+cP4ffc99g/15vPI8sfx5/A68Mnvo+/O7y/ws/BH8ffxuPJ18y/00/RW9cX1R/b79s73zfgE+mb75vxX/pz/swB4AeMBEALyAYUB2gAIABr/Ef78/NX7mfor+Yz34/Ul9FPyoPAP74/tFeyU6inp0ueM5lXlNuRl4y/jveMs5bPnbetp8Iz2nf1PBWsNnxV+HcskaSscMcU1jDmKPL4+PEBBQeFBDkLSQStBBEBjPic8HjlRNcAwbCtjJcUeqBcpEFsIYgBt+JDwF+ka4o3bldVN0KjLmscuxEnBxr6ZvLa6KbnztyK377Zzt8C487oFvvPB0MaAzL7SXNk44CDnCu7U9FD7mAGQBxMNGRKUFqEaQB5RIdsj5SVbJ0UovSjUKIgo0yevJkclhCNHIcceFRw2GVQWjBPTEBcOcQv/CL0GrwTNAikBv/+L/pf9zPwx/ND7ePst+/v61Pq7+sf6HPuj+2r8hv36/sEAyQLSBMcGoAhPCq0LoQxNDbgN3w27DVsN6QxlDLcL+gobChEJ0gc8BoUEuQLIAMf+v/zZ+hz5ivco9iD1l/RK9DL0Y/TF9FL1+fWo9mL3G/jM+G/5+vlw+tz6Ufu8+w78S/xr/I38tPzd/CP9b/2y/fn9Nf5Q/ln+X/5V/ir+1/14/SH9t/xF/Nj7Z/vn+lH6uvkl+YT43fcs94P25vVM9bP0DvRG82HygPGj8M3vEu+c7p3uQO+18B/zlvYe+5sA5wbUDRoVghysIzAq4y95NNk3DjosO1o7sDpfOaY3szW7M9gx7i/vLekrrSnjJn0jiR/+Gs4V9g+HCaQCffs99AntIuae34/ZJ9SDz5XLTsiwxZ3D3sFjwDi/Sb6MvQu937w2vTi+4L9EwoDFj8lgzurT59ka4Gjmx+wc80r5O//WBBcK5w4/EwYXTxoiHW4fEiEYIqcinCIiIoAhsyC+H50eQB3KGzcajxjvFlIVtBMTEnAQxg4xDcQLawoyCQQIzAbEBdwE/QM9A7QCYwImAgwCDQIqAmkCogLlAjUDcgOmA8kD+QNKBK8ELQWrBRcGdAbOBgUH+Qa8BjQGYQVkBDQD7wGWAE//Hf7m/NT74foY+n/54fhQ+Nb3j/d392f3Zfd097T3GfiG+CD51/mO+kf7A/zg/NH9w/6S/zwA2AA/AWcBSgHwAGAAj//D/h/+j/1G/UP9iP0S/sn+yv/2ACUCGAPMA0gEWgQMBFgDQwL3AGH/g/2B+2n5Xvd59bnzEPJx8N3uW+3w65HqQOkX6Pnm/+Vy5WjlF+bM54jqKe7I8l74yf7SBSoNoRQAHOIiGCllLpkywTXqNx85cDnlOIA3fjUVM1AwVC1dKkgn5SM3IC4czhc7E3AOOAluAyf9n/bj7wnpa+Iu3FTW/tBLzDXI6MRvwrLAuL9Xv1S/k79EwGLBwMKWxOPGhMl0zMTPsNNC2FTd2eKu6Kvu3vQl+1sBZAcTDTkSuhZyGjYdKx9YIMogmiDdH8AeZh34G6Manhn+GH0Y6BdMF4kWmhVvFAYTYxFMD/MMlAo4COoF1AMbAr4Av/8G/4z+ff7N/lz/FgDlAL4BkQJgAw4EogRbBR4G2AZ+Bx0I4Ai8CcYK9QsiDSkO8w6JD+kPCxDXD0gPYA4ODWELfAlcBykF+gLAAJj+hPyi+un4afdO9nT1uvQm9MDzi/N283vzoPPf8zP0l/QK9Yb1CPae9lD3EPja+K/5jfqD+4r8bP0y/ur+gP8YALQASQHpAX8CHwO8A0wE5wR9BfEFNQZABvYFSQVLBPMCRwF7/3z9Vfsz+Q737PQG83DxEPDY7qXtcOxX60jqSOmA6M/nN+cH53jnyOgW62ruzPI2+H/+cAXbDIUUNRyxI6QqpzCXNWw5STw9PhY/9j4EPkY8DjqHN7A0pDGCLj8rvifuI9offhvgFucRdQyaBlkA2fkg81TsouUn3+TY7NJgzWHIC8RywKa9frvoufO4vrg+uW+6MrxavgPBKsTKx/XLktCc1SnbGeFB54bt+/Ob+jYBtQf0DcET3Rg1HeQgxiO6Jd0mLyelJm8lxyPvIR4gPh5bHKIaFBmNFyIW4RSKE/YRCBC+DTALawiGBZgCpv/L/B/6xvft9bP0HPQM9IT0evXX9ov4hvq4/AT/LAEqAxoF+Aa6CE8KxQsaDUEOKQ/dD3sQERGDEboRphFZEdIQCxAND84NcgziCgMJ3gaSBEEC4f+D/T37C/nx9gn1XfPr8dTwIPCd7z7vKe9R76HvJ/DX8KTxdvI88wr0AfUD9gv3KvhZ+aT6/vtJ/aX+JgCiAQADSwSgBdkG1webCCEJaAlLCd0IOwhkB1kGHQWpA/4BIAAx/lb8gfqc+Lj22vT58jDxf+/m7X/sPusx6l/pwehw6I3oO+mD6nrsPO/X8jn3WPw+AswI3A88F5AeiyUOLN0xvTaQOlA93D4nP0U+XjyOOe01tDENLTMogCPrHisabxXpEIIMRwglBOj/kfsr947yt+3B6K3jrN7g2UPV/tAtzcbJ+8bYxFHDlMKGwgnDIsTBxe3HnsqdzeDQg9R52KfcD+GO5Sbq9e6281L4+vyMAdUFyglTDYIQVBOWFWYXuRhHGUcZABlJGEMXJhbWFFYT6BGaEF4PRQ5cDcEMbgwjDOILsQtxCysL5wqNCiIKpwkbCXYIwQcbB6UGZwZLBmcGvwZIBwQI4QjOCb8KjwtCDNQMIg0tDfwMgwzCC9gKwAlsCPYGjQU7BOsCiQEVAJj+F/2e+zT6xvhE96z1CfR48hXx5e/W7u/tau1O7Xvt9+3P7gzwgfED85v0V/YY+LL5L/uJ/JX9fP5S/wgAuABQAdEBbgI3AxQEIAVgBqgH9AhQCo4LjgxoDQwOLw7UDRoN6QsXCr4HFwUsAgz/4vvD+Lz1z/IU8LHtoevU6VvoGufq5drk7OMi43riBeLG4dfheeLE4/DlF+ki7SzyNPgW/7YG+Q6nF2IgziicMJ83mz1NQrxF3EeeSA1IQkZ2QwdALzz7N3QzvS7oKQ4lUyCvGwQXHxL+DIwHqgFe+5v0nO0B58rgStqZ033NHciDw/G/Pr1qu4C6Xrr+umW8f74ewTPEtsd/y3rPjtPH1zfc0eCb5XbqJu/j89H43P33AvUHwgxOEXYVNBmoHLEfISLvIwElayVWJakkYyPIIdgflh0tG6kYHxbiE9QRyQ/zDT4MjgoGCcoHxwbRBcgEtwOjAqIB1QBDAOD/tP/G/9v/DACRAFABIwILA/wDtwQ+BbkFNgaJBrYGygafBkgGBgbfBbMFlAV5BVIFEwW+BFkE9AN8A9gCEQIjAQ4A2f6n/Yb8cftv+oL5mvjR90L36fbE9r/2zvb19jr3iPfn94X4Rfny+Zn6Q/v2+7D8Y/0j/u3+q/9lADYBGAL7AuED0QTPBdUG1wfOCJYJHwpXCj8K0gkECecHZAaABEQC0P9M/dH6afgX9tbzufHY7yPuk+wU67rpaugY5+LlveTa413jXeMF5IjlA+iC6xLwm/Uh/JYDxAthFCwdtCWnLd80GTsaQLZD2kWGRuhFDkQZQVg99DghNAkvxymSJJMfuBoAFmERowzDB8ACiv0f+HvyfOxE5vDfkdl6077NW8h7w2O/LrzpuaC4SrjjuES6OrzivkDCHMY9yl7Oi9Ld1j7bmd/z413ozOw/8c71ivp1/10EOgkGDn8SoRZlGpodESDJIbgi0SIwIuIgEh/iHHQaFxjMFZkTwhFaEGoP5Q6pDq4O3A4PDyIPAA+zDkIOoQ2pDHMLRwopCTAIcgfnBpoGiwa3Bi4H1Ad1CAUJZgl5CVUJ/ghkCKAHtwa5BbsEsgOxAuYBWAH3AMcApwB1ACwAvf8n/3X+ev0t/K/6Fvls96v1APSV8nfxlfAL8AjwfvB28d/ygvRZ9lv4cPqK/JX+hwA7ApEDkAQ3BY4FqQWqBYcFRQUFBbwEjwSfBOUESQWvBRMGeAbABsMGhQb6Bf8EdANgAfL+Tvx++YL2d/Nv8JHt6eqR6K7mJuXN44biUeEy4CbfNd5O3Ync9NuV27/blNw43v/g7+T06QnwOvd6/4wILBIAHKIlwS4VN2A+YUT9SB9MpU2fTQdMDEkHRUNA+zpeNZAvmimiI8kdKxjnEsgNuAjLA8H+evkF9H7u2uge41HdaNeN0QfMCMepwve+Fbwgugi5+LgDug28Er/nwjzH88sC0VfWytsz4Xrml+uA8EL13/n1/bIBtgXpCekNpREvFXUYbRsLHiAgkiFDIioiZCECIAYedxtiGAIVrBF6Dm0L1gjLBh8FBARjAyMDWAPOA20EFAWNBeMFIAZGBlgGSwYaBs8FkAVoBYYFDQa2BmEHQgg9CRsKBAsHDOYMmg0UDigO+g2TDfgMOgw2C+oJewj4BmUFvQMVAl8AmP7b/CH7efnb90j2zvR08z/yNfFa8Jrv/u6m7onulu7j7ofvg/C58SLzxPSM9mP4VvpZ/ET+FgDYAWsDzATaBY8GMweyBwYITwiECKwIxgjJCLsIkQhWCPwHVQdvBjYFiwOLAVT/5vw9+pD36fRK8tzvve3+64fqSulC6IPn9uaA5kTmGebp5dbl3uUi5tvmF+gA6tfsgvDo9Dz6kQC2B34PshcFIDAo4i/pNh09QUISRmlIUknUSAVHHkQ6QIg7TjaZMKIqnSSKHr0YUBMKDvwIDQQE/+X5tfSA70bq4ORX39LZVdQBzwbKisWhwYG+WLwWu8C6Yrv6vJu/FcMKx2jLBNC91JbZYN4B43jnpOuS71jz7/aI+jT+6QG8BbIJrA2OEWEVABlEHAofISF1IvAiliKfIQMgrh3rGt0XlhRoEW4OxAuSCckHZQZ3BegEpwShBJ4EgwRLBPMDXAOIAr0B8AARAEj/lP4V/vb9T/4s/1YAzQGSA3UFdweQCYsLVw3SDuIPjBDUEMEQUBByDzoOzQwiC0oJcgesBd4DIAKSAAz/i/0w/O/6u/mR+Fv3Ivb09NPzxPLZ8SHxjvAa8OnvFPCK8HHxrvIT9Jz1TPca+eT6m/wi/nv/ogCJASwClwLpAkUDrwMLBHUE8QR9BR8GyQZnB9wHFAgDCJQHuAZzBcsDzwF6/8788fkS91300vFu707tdOvX6YrogefB5lDmEOb85TXm2eYH6NTpRex0713zHPi0/SUEUAv4EhUbTyNYK/gy9jkVQAlFp0jkSpxL2ErISI5FYEFMPHs2LDCWKfAiaRwkFicQYQrOBHv/Tfoo9Q7w4+qB5f3fStpv1JjO38h/w5a+K7pttoazoLHbsEOx1rKFtUW5671Qw2DJ3c+P1knd9+N96rXwl/Ya/D0B/wVmCpgOlhJMFsIZ6hzKH1oicyQMJiMnmidpJ4km9iTFIgUgvhxCGasV+hF4DiALDAhqBTsDkwF5AL7/Jv+1/nv+XP5O/kT+J/4H/sP9Xf0U/ev86fwn/bX9lP7F/08BKwNYBcYHNgqcDP8OLREFE4cUoBU0FjYWshWmFBoTIhHtDo0M+glUB7kEQgL2/9b97/tT+uL4hfdL9jH1J/Q381/ylvHj8Evw5e/H7+3vYPAq8S7yePP89KD2cPhK+gT8iv3H/rT/SwCKAJEAaAAGAIP/9f5p/vH9o/1+/Xf9if2x/dX95f3o/dn9qv1K/bT86/v8+v359vjx9/X2DPY59XX00fNN8+Lyp/KP8o/yuvI881X01PWe9x76U/0sAc4FEwveEB0XmR0zJKsqsjBDNhc75T6lQSVDU0NCQvQ/kjxIOCozYy0aJ30gyxkyE84MwAb/AJD7gvbC8VftOuld5arhBd512ubWY9P6z7jMwMkGx6jE2cKFwebAF8EIwsXDQsZ3yWDN1tHC1gnchuEr58DsLvJb9zP8ugDeBJ8IDwwiD9ERLRQtFtsXNhk/GvUaYBtqGxAbahpmGRcYjhbWFPcS9xDoDuIMHwuACQoI7QYKBnQFJwXvBPUEWQXNBUwG3wZjB90HUwi8CAcJOglmCX8JeAldCVQJZAl5CZgJxAn4CTQKkwoDC1wLogvHC8ALggv3CjsKRAkACH0GrQTFAtkA1/7X/Pb6KvmQ90L2E/Uc9IfzIfPv8uLy0vL18j3zqPNF9O/0pvWJ9ov3mPim+br60vvb/NT9p/5f//n/XwCbAKgAlgBxAD8ACQDb/8P/rP+a/4b/Xf8n/9T+Wv6x/d383fu6+ov5XPgi9+j10vTy8zTzjvIx8vTxxfGy8Z/xiPFl8SfxzfB68FHwcPAC8SHy3fM59kb5H/29ARgHHg2dE0sa4yA+Jy0tajLQNio6WTxrPVM9HjzxOec2KDPgLjMqSSVIIFEbbBazESwNygiVBHEATPwn+N/za+/p6lLmluHb3C3YetMFz+/KQscrxL/BEsA3vym/+L+XwevD9sakyuXOjtOK2NHdIuNp6Kzt0fLM94/8DQFUBU4J3gwfEAsTkhXDF4kZ5xrjG2UcfhxAHJkbixo8GcQXHxZYFIQSqxD0Dm0NAQytCoAJdwijBwwHlwZDBgkGzQWKBVwFNAUGBe0E4wTcBOYE+AT9BCUFegXjBWwGCQeqB2EIJgntCawKTAvAC/0LGwzuC4EL5QrwCaQIGwdNBTUDDAHW/o38Ofry9+H17fMj8rDweO9+7uztt+3M7RPurO6l79fwP/Lm88D1rve9+d773f24/2YB5QI5BD4FAgagBgEHHAcWB+4GmQZJBgMGugV6BScF0ASEBBIEjgPtAgcC5wCR/xj+g/zF+gH5TPer9Sn02/LY8f3wWvAE8NDvle9f7ynv0e5k7gPuwe2z7d/taO6a73Lx6PMx90r7JwDLBewLbBIkGbof5SV/K04wGzTnNoI46Tg3OIM28DObMJ4sRSjDIxIfWhrQFXgRlw1ICgEHcAPC/yP8m/gO9WHxmu3B6ejl9+Hr3fPZI9aI0lTPr8yayivJh8iqyInJIctvzXHQ6NPM1wrcVuCn5BLpau2a8av1l/ku/X4ArgOgBmoJDAx/Dr4QwBJ3FOMVBBfPFxYY4xdWF0oWzRT9EgMR/g4GDSsLgAkyCEAHnQZXBlUGggbuBn4HBQiLCPgILQlhCZQJjgluCWIJTgk7CTgJSAlXCWwJpwkKCnwK5ApJC58L1wv0C90LhAsBCzQKGwnRBzkGXwR6AooAkP6R/Jj6vvj49kT12vO68tvxUfHz8KPwevB88Hzwl/Dm8FHxyvFW8gnz7vMC9Tj2o/dZ+Sr7Cv37/scAawLxA0YFUQYLB5IH5wf+BwcIFQgdCCQIQQhwCJ4ItQijCGYI5QcqB0AGCgWRA9kB2//J/av7kfmP96j18PNw8jfxOvBv77XuCe5x7d3sWuwD7NvrAOyS7KTtQe938Wv0Jvie/LoBYgeODQsUfBrJILkmDiy1MH80Vzc4OQA6uzmQOHE2eTPfL8QrQCd5IpkduxjvE0EPtApQBiQCF/4D+vH11/GU7SnpnuT53z/bgdbq0aTNsckNxu/CtMBgv+y+f7/rwDzDeMZXytTO2NMh2ZPeKeS16RbvQvQp+ez9fwLQBu8KzQ5pEsUVzRiFG9odpx/kIJkhyyFeIVcg1x7tHJca7hcYFSUSKg9PDKIJIgfqBP0CUwH7//D+DP5M/bX8PfzZ+5T7cvt0+5f75vts/Bz9+/0J/1MAzgFiA/IEmAZMCOEJVgu4DNwNsA5ED28PPQ/FDgoOGQ3bC1UKsAjsBhUFMwNEAWP/kP3W+zr6pPgr9+b1xfSo86jy5PEt8Y7wRPAx8Djwb/Dm8JnxWvIo8yH0OvVW9nz3vfjm+e/6Cvwp/S7+EP/n/9kAygGaAl8DIwTWBGoFCAaJBqMGgwY2BqYFyASdAz0CwQAx/4f93ftK+sn4Xvcp9jT1avTQ81/z5fJr8h7y5/Gi8V7xRPFX8aHxUfJ/8z/1kveC+jL+jQJxB9gMthLBGKIeUyS6KYoukzK0NfA3JDksOSY4MDZiM9wv3St4J7Ui1B0IGU4Uog8KC5sGZgJC/ij6G/YA8trtqOla5QHhs9x82FfUPdBlzA7JQMbrw0rCg8GKwWLCC8R6xqrJa82x0WDWDduo33TkjOmH7jHzpPfV+8f/fQMHB0sKOA38D4kSyhTNFnMYwRm4GisbLRvIGuQZjhjlFvsU7RLSELEOrQzXCigJuAeUBqoF6ARdBAAEsQNuAz8DJQMhAxcDHQNHA4UDxQMVBIMEGQXUBZ4Ggwd6CGYJWwpUCycM8gyeDSIOjA7BDscOnA4yDp0N1QzXC7cKbgkHCH4G5ARDA4wB2v9B/r38U/sI+tr42PcD91H2xfVH9dv0lfRg9Ej0UPR59Mv0OfWu9UD27faX91n4LvkK+uH6mvtH/Pb8j/0S/or+9v5n/87/OgCuAP0AQQGBAYUBVgEBAX4A6v8q/zD+Hf3v+6v6bPlX+Fr3ZPag9QD1avTV81rzCfPN8onyO/ID8uDxwvHS8T/y/fI/9BD2bfhO+6j+sAJdB2kMvBExF3wchyFJJpcqHi7NMLMyrjOsM8IyDTGNLl0rsCesI2Yf+xqdFnMSaw6LCuUGegM7AA799PnS9n7zEvCS7ODo/+QI4QjdEtlQ1eLR886MzM/K4cm9yVvKssvRzaHQ7NOl17DbzN/w4/3n7uu/70LzlPbd+Qv9GAAcAyAGKAkBDIIO7hByE8YVzRd1GYcaARvxGlcaIhlpF10VDxODENINNwvICJAGqwQXA9IB7QBjAAwA8/8QAE4AsgAHAVEBkwHPAQ8CSgKFAr0CEAOSAy8E2ASsBaoGtAexCLMJsQqMCycMfwyvDIgM/AspCxIKxghNB7UFGARiAroAO//I/XL8TPtg+pz59fh5+DD4/vfP97/3ufe097z3z/f09yX4ePjv+Hj5Gvrf+sP7w/y+/bX+qv+PAFwBBQKMAuYCHQM1AyUD+wLKAogCNQLtAbYBeAE6Ae8AggAQAJb/Cv9//uL9Lv1g/GD7W/pt+YP4p/fd9iX2lvUR9aL0ZPQy9Bz0MPRh9Mf0YfUy9lT30/iy+vn8s//aAnUGXQp+Dt4STBeRG54fZCPPJqEprysMLZctRy0zLGgq7SfjJGQhiR15GVAVHRHxDN8I9wQ2AZv9Kfrh9rvzq/Ci7ZnqgudZ5DThDd7s2v7XUtXv0urQas95zhjOYc4+z7jQ3tKA1YjY+Nuc31vjSuc16wHvvfJF9qP50vy7/3wCEwV0B6cJqAt+DSQPlxDOEboSVBOjE6cTXBPKEvQR7BDKD6IOdg1QDD8LQApvCd4Iagj1B6UHegdbB1cHXAdRB0kHRgc4ByoHBgfuBvMG9Qb4BhsHXgeiB/oHZwjJCDIJjAnICQ4KPQpMCkMKDwq6CTsJrQgOCEwHcwaBBY4EpwPGAuwBAQERACP/Ov5f/YH8r/vb+vz5JflY+Jf37PZO9sf1ZvU39TX1R/V89df1X/YH98r3oPiG+XH6Yvtg/FD9NP4O/9z/mABNAQ4C0wJ/AxEEmwQABTYFNgX3BIsE5wMFA/0BvABM/+T9gvwa+7j5cvhP91T2kPX/9Jb0RvQW9A70GvQr9En0jvTm9DD1sPVw9nD32Pig+t38iP+TAh4GEQo4DnQStBbWGqUeEyL+JE4n4iisKcApESmkJ5YlAyMGILQcJRl4FdcRSQ7hCr4HvATWASH/jPzj+S33avR+8W/uMuu+50LkuOAd3bzZkdal0y/RQc/zzVTNYs01zsLP59Gi1OzXqNur3+TjQ+iY7L/wt/SE+Ab8OP8/AgoFlQf3CTsMcA6TEJwSjBRYFugXPhlnGlAb0BsTHBUcrBvyGucZkRgAF0AVbBOXEcQP+w0uDHsK7Ah/B0kGNAUzBF8DkQK4ARABngBCAAMA6P/6/0IAtQBZASQCCwMVBEsFmAbWBwMJNQpFCzAM9wx9DbINiA0iDXoMbgsBCk4IcQZsBC4C3v+S/UT7Gvko92v10PNy8mTxhvDb723vOe8o7yvvVe+u7wXwV/DY8HfxLfID8/vzHPVe9sn3b/kw+/n82/7OAK8CcwQXBpIHuwiYCTgKjgqPCisKhQmdCFsH4AVKBH8CnAC//t78Kfud+S349fbc9ff0ZfQK9Nzz2PPz8x/0TfR79K301/QP9Wr11vVe9i/3Wfjp+dj7Nf4cAXgENQhGDKQQGRVnGY0dWCF8JPImrSiiKcEp3SgWJ7IkqyEcHksaQhYREvcNFQpxBgMD2/8D/XH67vdZ9d7yVvCQ7aDqlOdi5Ajhr92D2nTXgdT00Q7Qys4JzurNjs7kz9TRY9SN1wfbtt6q4tLm9erw7tryofYx+or9vADSA5kGHAmRC+UNCBD8Eb0TTRWhFqoXcBjlGAAZ4hiIGNkX6ha2FU4U3RJQEb0PLA6nDDsL4gm0CKoHuwboBScFlwQkBJYDHgPIAoYCVQJBAmcCngLYAjkD2QOYBFMFFAbzBskHeQgwCdkJNwpICi0K7AlnCZcImgd1BioFtANDAtIAPP/K/Z78gPtw+o/54fhr+An4xves96P3nfez99n38/cL+DH4U/ha+F74cPh3+Gj4cvib+OX4RPm2+Uf68fq0+5j8jf1//nX/agBQARACugI7A30DjwN6AzgDzwI7ApEB3wAKADT/df7F/Sz9s/xO/P37s/tk+xf7ufpL+tn5Uvmi+OT3Kfdm9qT1C/Wx9JL0zfSA9bz2hPi1+nP9yAB4BHUItgwWEVwVcBlFHZ0gVCNcJakmPSfuJuYlZyRJInwfKxysGBEVXBGyDSIKtwZyA10Akv3g+in4i/UA82Dwlu3N6gLoDeUZ4kDfldwf2unXK9YA1V3UQtTX1CfW/9dL2jLdgOAR5MvnhutH79nyEfYO+dD7Pf5ZADAC0wMzBXQGpAfQCPwJBQsmDGANgw6ND4MQaBEZEogSyxLSEo0S9RFKEaUQ0A/bDuEN8wwODDMLgQr0CXAJAAmtCF8I9geOBzcHzAY7BpwFDQWDBO8DcAMaA+QCyALNAgEDSgOoAyYEtgRGBcgFNgaABqMGrAaDBgwGaAWeBKsDpAKRAXsAbP9J/jT9XPyP+9P6XvoR+sn5pPm1+c75z/nB+cz53/nI+Zv5ifls+Rz54PjS+L74oPi/+CH5k/kb+vT6BPwA/fn9J/9zAIIBXQJHAwMEQAQ3BC0E0wMJAycCRQFAAOb+j/2A/FP7Afr2+Db4Zfd/9uL1hfUA9XH0MvQZ9L7zTvNM82rzWPN08xP08/TM9QT37/gr+3n9UQDnA4wHDgvvDjYTUBf3Go8eDCKxJIgmFCghKSQpNSgKJ4UlEyMNIBcdDhpyFq0SUQ/7C24ICgUBAhD/2fvc+GP2l/Mo8MXswOmv5nrjouAm3q/bWdmY15HWwtU91Y3Vgtah1yXZaNsT3sLgn+Pk5kvqh+3R8FL0o/eW+nH9VAAFA1YFhwenCV8LwgwVDhwPug8lEIQQtRCLEEAQABCgDxIPig4RDmENfgzBCxwLSgpxCcMIIwhhB58GIwbRBWkFJgU0BTkFJQU9BYEFrwXDBQ0GdgaiBp4G3QZbB5cHuAchCJoI5ggnCaEJFwo+CmUKnAqHCvwJWAnYCOUHawYQBdMDZgK7AD7/If78/OD7Ivuz+kb63vnY+Qr6GPom+mD6kvqE+o361foA+/T6+vpB+5X72PtF/Pr8pf0z/v3+8P/CAH0BTgIqA9kDUwS/BBYFQgVABR0FxAQfBFcDfwJ4AUMA9/6P/RT8iPr1+F33xfVb9CvzKPJY8avwIvDH75zvqe/I7+7vR/Da8H7xLPIT8z70kPUn9yL5gPsq/iABhAQpCPML8Q8VFCIY3xtaH5kiPyUcJ1co/SjcKOgnXSZBJHkhJR6aGvMWBRPpDvwKWgfEA1EAQf1w+r33MPXt8tbwoe5V7CXq++e95YHjduGO36ndDdzY2vLZR9kJ2XPZatrT277dLuDx4tzlA+lo7L7v2PLc9cv4fvvL/dX/xQFwA8gE9AUZBwIIrghYCQQKkgrzCkkLuAv9C/4L9QvoC7wLbQshC+gKqwpZCh0KGgozCjMKTQqPCswK8QoTCzQLLwv5CpcKIQp7CZkIsgf4BjUGWQW1BFQECgTVA9cDGwR8BM4ENwXKBTsGagabBrYGcQbiBTUFcQSDA1gCKgEXAOr+x/35/GD8z/tq+0b7Vvtp+4z79ft1/Mv8E/1h/Y79l/2J/YD9Xf3y/GX89PuK+xX7rPpY+iH6/vn1+RX6Z/rV+ln7Afyd/C/9x/1k/vf+Vf98/6D/sv91/wj/of4u/o/90vwf/Ij7yPoC+ov5Kfmk+Cr48PfD92f3EPf79t/2e/Yj9ib2Ivbp9e31Yvbv9n/3jfgv+vX70v09AEMDUQZkCQEN4RBaFHwXwhr2HWYgKSLJI/MkCyVlJIsjOSL/H1IdsRrHF0MUrRB6DToKpwZTA48Az/3H+gn4v/VP85bwJO4K7JnpzOZU5E7iIODe3Rvc49q42bbYgdjd2GLZPdrS2/DdJuCX4oDlqui769fuKvI59dD3ePpI/db/CQILBA8GywcYCVwKoguWDEIN7w2KDuIOAQ8hDzEPBQ+uDlQO9A1rDdAMUwzkC2EL0QpSCtoJXgnxCJMINAjSB1QH0gZqBv8FgQUHBaoEUAT9A8wDywPxAwcEJQSZBCkFlAUSBrUGSAepB+4HLghQCBMIjQcDB04GSAUxBCwDEALZALT/rf61/b785vti+//6h/o3+hz6/vnV+cX50fnZ+br5j/mR+ZL5Wvkn+Sz5MfkL+eX48vgc+SL5Iflq+c/5D/pf+uf6j/sV/J78Zf0h/pP+FP/K/0gAWwBLAGYAUwDO/zX/yf43/lr9ovwr/Jf71fpU+hv6wfk8+er44viY+Az4vveY9x/3evY99k72UvaC9mf35/iO+oj8XP/NAk0G+QktDpMSnRaGGnUe1yE/JP8lZicYKKUnhCYoJS4jayBqHXsaMheQEysQMQ0oCvMGHQTEAUX/gPwX+un3XvWI8vDvfO2h6pHnzOQ34mnfqNyS2uXYOdf21ZPVvdUT1u/WnNjC2hHdtt/94nLmv+k77dvwTvRt92X6VP3w/zICVgRRBgMIeQnTCg4MCQ3jDakOPg/BDzoQpBDbENoQyhCOEP4PUg+8DgkOOQ15DLILyArDCdcICQghBzgGmwURBUAEggMSA64CJwK8AboB1QG/AdgBZgIRA5UDRQRGBSYGwAaEB3EIEwlQCY4J1AmgCfwIaAjgB/IGwQXEBN4DqgJoAYIAxf/T/u79e/0n/Y/8IfwZ/A/8yPuK+5f7kftE+xr7Hvvy+o/6Qfoc+sf5YPlA+Uv5NPkZ+VX5vfkU+oj6S/sy/AX96v33/gMA5wC5AYYCCgNHA3ADYQMGA4sCBAJbAYsAuv8A/zf+Tv2g/DP8uftK+w778PrE+nb6Qfoa+sL5avkw+Qj54Pjh+Cv5svmG+s/7mP3C/08CYQXSCGsMOhA6FDEY5RtOH14i2ySqJtMnVygPKP8mbCVKI4IgTR3qGVMWiRLDDicLqQc2BN8AzP3f+ur3IPV68q7vz+wI6k3nhuSs4e3eV9zP2XnXj9Ul1BDTY9Jd0t3SzNNE1UbXt9l03H/f5+KH5iXqxO188Rr1hvjO++j+1wF9BOkGNgk/CwsNkA7dDxcRDxLIElgTpBPGE8MThhMtE7US/hEqEVEQWA9MDk0NWgxjC1cKUAlwCKkH2gYrBrIFLAWYBDcECwTTA4kDaQOAA5ADjAPCAzYEhQS+BDwF5wVdBq0GOwfeBzEITgh+CJgITAjJB2AH3AbwBdEE4APbAoABLgAd/xD+6/z3+0X7qPoE+pb5ePlJ+Qj5Cfkr+TX5Pvls+aj5ufnL+f75OPpc+oD60Po8+5b7Dfyq/Dv91/2O/k//CADIAIUBMwK7AigDjAOxA6IDgQMtA5sC5wEnAUoAMv8O/gj9/PvZ+tr5Fvla+Kv3Mvf29rD2avZi9oD2k/aY9tH2N/d99873afgs+f/5Efue/H3+ggDdAqYFpgi0C/AOXRKrFbgYmBsuHjogqCGlIhgj0CLjIY4g4x6uHAsaRxd2FHoRdw6PC6oIxQUJA3kA9f1e+7f4Mvak8/PwRO6H68joJeab40zhMN9S3eHbxdoe2gXaXtou22jcBt4A4EPixOR450jqF+3z78fycvUS+LD6Hv1N/1kBbANdBQYHkAgMCmgLdgxYDUcO4w4cD1IPdw9gDw8Pqw5DDpsNxwwbDJALyAraCSoJjwi0B8oGBgZCBVsEggPZAjUCZAGaABsApv8q/+T+2/7q/hX/iv80AOIAoQGKAoYDYQQ9BToGDwedBwIITgh0CF8IFwi0ByoHiAbtBTsFdwTNA0IDwgI5AsgBdgEoAeIAtwCKADAAw/9Y/+X+Pv6F/ej8Hfw2+4v6/vlm+cn4TPgQ+N/3vff/93L41fhO+f/5t/o8+9T7mPw0/Zz9Dv6N/tb+yP60/tj+vP5I/vX9pP0I/VD8tfsu+3n6o/kR+Zf45vdT9yH3BPe89pf21/Yp90v3kPcp+MP4Ifmn+Xf6LPvI+7j8E/57/+4A2QJFBbwHSApUDacQ0hPzFkIaZh3nH+EhnyPVJBklpSTTI1ciDSBtHakaeRfiE1UQ+gyWCR0GAgNQAJD9yvpi+BX2cPO38DTuuevr6ALmZePo4Ene4dsP2pLYWtfK1vjWiNd82CXagtwo3/nhTuX06HTs3+9s8/r2O/on/fP/bgJyBDgG7QdhCYAKdgtZDB4Nvg1aDu4OaQ/vD4kQBhFmEbwRABISEvcR0RFyEcAQBhBmD5sOdw1IDEsLQgocCSsIdwesBtUFXwUrBb8EOQQWBBYEyANpA2IDegM8A+YC4gLRAlUC8AH0AeYBYAHhAMsAkgAGAJ3/ev8u/4j+/v21/TH9efwd/Bj81ftc+zz7bPtu+0L7cPvk+yT8Q/yf/Br9Wf1z/dH9Sf5m/mn+qv4E/yz/Mv9t/8L/4P/l/ywAgACDAF8AWwB3AHMAUwBdAI0AgABKADkANwAAAJH/Qv8N/5X+4P09/bj8EPxA+576Mfqy+T35Kflf+X75hfnF+TD6Yfpo+q36+vrt+q76r/rh+uL68PqW+7P81v1D/3YBOgQpB2gKOg49EggWvRmAHdkgZSOBJU4nQCgXKE0nFSYdJFAhLh4AG24XlBMWEOEMZAnABYsC1f8G/QX6TPe99Nrxsu6y677oceX/4efeEdwo2Y7WuNSH05zSJdKe0uLTdNV01zDabd264Ankp+du69ju6fEX9Sb4pPq5/Nv+DQHaAkwE/AXZB1IJmgo3DPQNOQ8cED0RchL4EvwSHxM0E5ESehGyEPcPpg4WDfgLAAukCUUIgQfuBugF8gSuBJQECwSKA5QDqwNdAzEDjQPmA9AD3wNrBNAEtwTBBDgFhAVbBUoFkQWbBTkFDAU+BSsFrARZBEoE7gMsA5wCWwLHAcwAGAC+/y3/YP7c/bT9U/3A/Jf8tfxs/OD7rvu7+137s/p8+nH63PkC+af4pfg/+LH3xfdB+Fr4ZfgS+ff5afqq+nj7ifwR/Xz9bv5g/6v/zv9fAOoA0gCCAKQApgDt/xP/tf5D/if9//ty+wL7JPpq+Ub5KPml+Fj4tvgU+fv4FPm5+S/6GvoZ+pH66frn+kv7Z/yH/YD+GgCGAhUFmgewCmgOAxJbFfAYhBxcH4ghiiMDJVsl1yQIJLAiaCCUHcgatBcBFF4QMQ0JCrUGugNTAQL/fPw0+kD48vVB88jwce7P6wfpfeYC5CPhT94x3JbaDtn318PXK9jR2P/Z/dtN3qfgYuOZ5tjp6ewP8GDzWPbN+DX7nf22/3sBQgMXBb4GGQhsCcsK3gumDHoNaQ5CD94PVRDNEA4R/RC5EFUQvA/nDggOMw0/DP8KpQloCCYHqwU1BAwDDgIVAVgA9P+t/13/Nv94/9b/EACIAHwBkAJuA0oEWwVlBjEH+Af+CPoJogopC7oLBQzXC20L/ApgCmsJXgh4B38GKwXSA7ECkwFfAEf/kP4U/oD9AP3f/Mr8d/wm/B78J/zW+237WPtM+9j6R/oU+gz6ufld+YL56vke+mf6KPsR/K/8Uv1y/pv/PwDgANwBoALGArsC9gL3AkkChQEjAYQAWP9B/o39qfxP+y/6kvnO+LH39/a49jr2evUp9UL1EfWh9J307vTr9Mz0RfUg9r/2efft+Nf6s/zq/uoBRAV9CAEMKhBdFBkYuhtyH6giHCUwJ98okylAKXooSyc0JU8iSx8zHIIYdxSzEB0NRQlwBRcCBf/I+5T42/VJ82rwjO0A63notuX64o3gMd6925fZBNil1m3Vw9TC1CrV1tUd1wjZIdtQ3QTgWOPY5j3qze2g8UX1lPjW+x//JgK+BCUHdQlbC8EMCA4qD9cPLxB6EM8Q5xCwEJUQkhAyEJ0PQg8RD6YOBQ5/DRQNYAxtC68KDgo5CUoIkwflBgAGIgWRBBkEewP4As0CwgKiAqcC8AIxAzYDVwO0A/sDEQQfBEgEWAQxBAQE0QOCAyID2AKeAloCIQIBAt8BqgF3AVkBTAE5ATQBQgFMAUkBTQFXAV4BVQE9ATYBIgEGAdsAiwA4AN7/W/+5/hT+dv3i/Fn85/uX+0n78Pq2+pf6f/p4+pL6yfoA+zT7bfuc+677tvvJ++n7/fsV/D/8Svw1/Bb87/uk+0D74/qp+nL6HPrI+Y75S/kC+dv4zPjM+Mz43/gF+Sz5RflV+Wz5i/nG+U36IPsy/JH9Qf9EAZIDJwYcCV8MuQ8SE14WgBlSHKUeZCCLIQUi5CExIfUfOR4AHGYZfhZPEwAQogxQCScGFgM1AIr97vpi+Oj1cvMY8cXufuxg6kPoLuY95GvizeBW3wveLd253JXc4dym3dveZuAa4gDkLeaS6Bfrp+0z8L/yL/V895/5k/uD/XD/QgH1AoIE+wWNBxkJgQrCC9YMxA2TDkAPzw8qEDAQ/A+iDxUPYQ6cDdEM+Av9Cv0JCAkQCAsHEwY+BYIE2QNMA+kCjAIeAscBjAFJAQoB+gAfAUcBYwGdAfABOgJqAq0CDwNTA6EDKgTABC0FYwWJBZcFdAUuBewEpAQnBKMDPQPEAhgCawHmAHMABgDC/6v/tf/C/9f/BQAPAPP/8v/x/77/e/8+//T+hv4R/sP9eP0L/cP81/wF/TX9kf01/s/+OP/S/6IAUQHNAUQCswLQAo4CYgI5ArAB+gBdAL7/0/7E/f38Uvxj+4b6APp8+cb4Kvj39+H3hfdA91H3OPfl9tP2Ivdq93P3sfdW+PH4jvmg+iX8u/1V/3YBEwSbBjsJUAylD84SuhWhGFUbcR0VH4YgciGAIf8gLyDRHsEcURrGF9wUlxFgDl4LaghkBZECIACr/TD75vix9mb0CvLT76rtXevu6JPmWOQi4hrge94g3Q7cbdtH25PbK9wp3ZzeWOBf4pbk4uZI6bHrKO6c8PPyP/WN98H55PsB/u3/tgGHA0sF/AaRCAYKYwuBDGANQQ4TD4IPpw/dDxoQCxC6D18P/Q5oDqYN+wxJDF4LUApuCaYInAeRBrUF2gT5AzwDygKEAiQCzwHTAe8B8gEgAqMCHQNhA6QDBQRkBJYEqwTKBNcErAR/BF8E/wNrA/gCnQItApsBEQHAAHYACgC7/5//gf8+/xv/O/9C/x//C////uX+mv4w/uf9jv0J/aH8UfzL+yz7vfp6+jP62Pm0+ej5EPoX+mL67Ppt+8r7UvwW/bD9NP7T/m7/0v8BADAAYAAvALH/Uf/d/g3+IP1T/If7lPp5+Zz47vc+97n2bfZH9hn2BfY99nT2ivbJ9jT3nvf693T4MfkM+vH6JPzE/Yf/gQHxA70GpAmHDJQPtxKrFVsYzRrrHHYedR8NICUglh95HhUdZBteGScX1RR4EgQQiA0tC+kIpQZzBE8CIwDs/ab7T/nj9l30zfE375fsDOqX51flTuOH4RzgAt9K3g/eRd7i3uHfMeHb4sfk4uYz6Z7rBO5r8MTyFPVC90z5P/sO/dP+hQAXApwDEwV0BsIH8ggICgEL1QuFDBsNlg3cDQYODg7YDYINKw3LDGEM8guJC0ML6ApnCvkJmgkmCZwIFwijBxYHdgboBWUF1wRBBMQDeQM4AwADHAN3A8MDGQSWBCYFrwUTBn0G5wYeBxIH9wa/BiYGWAV8BJUDiQJQASAAI/8x/kb9ePzc+1/7+vrM+r36w/rV+vb6DfsO+/T6zPql+mD69fmT+Sb5pvgp+LT3ZPcl9/b29PYg93H31fdn+Cz59vnL+rj7vvzH/bf+r/+mAHYBDwKHAtkC7ALSApMCLQKNAb8A8f8k/z7+Uv2W/Bf8tPtu+2D7i/vU+y/8sfxK/dX9Nv6E/sz+7v7p/tD+ov50/l7+ev7w/rD/sAAWAuUDDQadCHQLhw6zEboUjRcfGk8c8h30HmEfOh9lHvQcABuuGBEWLRMsEDUNOwpSB6MENALj/6n9k/uW+ab3svW988bxr+9/7WjrVulF51flqeM74gThFeCS33jfnN8d4BPhYOLa44HleeeZ6aXrxe0B8Ejyf/SN9pn4k/po/Cf+2v9wAeYCYgTUBR0HUQh+CaIKsAuiDIkNaQ4eD58PBxBHEFUQLxD7D6UPEg9kDqoN2Az5CwgLJQpbCYEItAcEB2EGwgUsBbAESgToA4wDQwMOA+gC1gLaAvcCHgNPA5ID3gNBBKUE4gQKBScFMQULBbUEVQTfA1UDowLdASoBZQCU/+X+Wv73/aj9Xf03/SP9Fv0R/Rf9Gf0T/QX93/yo/FT89/uL+wH7cPrb+VL54vh3+C/4EvgA+Bf4V/jA+Ff5/fmv+nj7RfwI/dL9gP71/kn/f/+b/5n/Zv8U/7v+TP7L/VD97vyT/D38CPzy+/77IPxN/JL84fwz/Yv96P1L/p7+6f4w/2z/rv/0/00AzQBrARkC8QL9Az8FtwZHCPoJ5QvcDcwPwxGcE0UVtBbXF5kY6hjVGHQYwheoFhoVQBMrEdMObAwICpcHMgXdAq4Aov6Z/Lb6Bvlo9871Q/TY8mbx6u+K7j7t8+us6nrpd+ij5+/meeZJ5kbmeuYA57Dnduhr6ZzqAOxe7bjuLvC48UTzu/Q09q73H/mV+gj8fv3s/lgAvgEJA0kEiwW/Bt8H6QjsCdsKngs+DNEMYg3jDV0Otw7jDu0O7Q7yDtMOeQ4CDnENywwPDDQLRwpKCUUIQgc9BjMFTASFA98CWALYAWkBIwHyAMUAmgBuAFEAMAD7/8X/jP9O/wn/vf57/j7+E/79/fr9C/4z/m3+tf4P/23/1P9FAKwABAFaAZoBvgHPAc0BuwGFAT8B9gCLAAcAfv8A/3r+3v1G/cP8U/zm+5T7WPsk+/z65/ry+g77LPtj+6373fv5+xX8LPw2/Cb8Efz6+8f7g/tB+wH7wPqG+l/6TPpD+kD6VPqG+sr6Evtp+8f7F/xs/M38Nv2j/fr9RP6e/v7+Zv/r/4cAMwH2AdgC4QMGBUYGoQcTCasKPwy/DTEPpBD6EQATxhNJFIgUdxQBFEcTQhL1EHIPog2wC6oJgwdnBU4DNwFF/2X9m/sP+sT4jfdJ9v/0y/O+8sLx1vDo7wXvMu5S7X/szOsr67LqbOo86j7qfur26p/raOxw7aTu5+818ZryE/ST9RP3ePjQ+SD7UPxu/YP+jv+VAIwBggKGA4kEhwWKBpUHngibCYYKXQsTDKgMKw2PDaUNjA1WDQYNmQz+C1ELngroCTQJiQjpB2QH6waFBjsGEgYHBvwF7AXdBegFBAYEBvQF8AXYBaAFZAUhBcwEXATYA1gD4AJvAgICkwEcAaUAQADw/7D/e/9f/0v/QP8z/y3/RP9P/0T/TP9a/1L/Qv88/yn/Av/n/s/+qv5+/kf+IP77/dD9vP2h/XX9Uv07/Rr9/Pzr/OH85vzm/Oz88/zz/Pv8Af0J/Rn9G/0Q/RH9Bf3t/M38mvxl/Cz86vui+2P7PPsb+wH7/voM+yX7S/t5+7n7CPxg/L78LP2U/fX9Tf6o/hn/ef/s/3kAKQH2Ac0CwQPnBCsGhgcFCZ8KUgzvDXYP+BBFEmMTThTbFBcVFBXFFCAUJhPTET8QfA6KDHIKTwg5BjAEJgIkAEv+k/z7+of5Ivjj9r71mPSG837ycvFp8HDvgu6T7bvs+utD67HqT+oU6gzqOeqo6lDrKOw17Wrus+8T8YTy5/M/9Zj26Pca+UD6T/sz/AH9y/2R/k3/CQDMAKMBkgKMA5oEswXMBukH+AjxCdUKlAsqDIoMsAy4DIEMFwyZC+YKJApaCYYIvwcCB0sGqgU2BfYE0wS2BLoE2wQFBSMFOQVMBVIFOgUaBeEEeAQABGIDpAL0AT4BeQDR/yb/gv77/X/9Fv3D/JP8hvyN/K786fwx/YP90/0u/oj+2/4y/33/sf/b////FwAQAO//uv9y/xz/vP5Z/u/9iv0t/dj8l/xp/EH8NfxE/Gn8pvzq/Dv9ff25/Qn+RP5e/mj+W/5Q/i7+6/2m/VD98Pyh/GD8G/zt+/L7A/wZ/FD8k/zu/FL9qv0M/nf+1f4i/2n/sP/4/zAAZwCzAAwBdQELArACagNbBGgFjgbSBx8JcAq4C/EMFw4LD+EPfRDOEOkQvhBSEMEP/g77DdQMiAsbCpUIDAeGBf4DhgInAcL/U/76/Kz7Y/oe+eP3tPaE9WL0XvNi8nDxovDs70Xvye5n7hbu7e3p7fTtKe6A7uTua+8A8K7wfvFF8hnzDfTq9Lz1sPbB9+T4/PkN+y/8Pf0z/if/FgD5AMQBjgJTAxkE0gRvBRcG2gaJBxoIswhRCeIJbgrxClULqwvmCwAMAwzZC5ALJwuNCuEJMQlrCLQHAgdbBtgFeAU7BSQFNgVmBbQFEAZnBsgGKQdwB5EHfQdWB/wGYwaxBdUE2wPNArABnACk/9T+Mv6w/Vn9Ov0//W39x/0w/qT+GP92/7f/2v/V/6H/TP/S/jf+gP3F/BH8X/vF+kv65vmj+ZX5xfkd+pL6LPvK+2n8C/2k/S7+k/7U/vP++/7i/pr+U/4S/sj9g/06/Qz9Dv0Z/TX9ZP2r/QH+Tv6m/gT/SP96/5P/hv9n/zT/+f6r/lr+C/6y/Xb9Yf11/bD9Ef6k/mf/PwAyAVYCiwO6BO4FIQdBCEwJLgrrCokL+gtODGkMPgzoC3ML5Qo3CnQJqwi9B78GwQW7BLkDsAKiAZsAjf9//nr9avxp+3b6ffmc+MH31/b79Tf1iPTc8zzzwPJi8ibyCPL98QzyOvKP8v/yc/P285P0PfX09bP2Zvcp+Pf4tPl2+jn76fup/F39/v2t/mv/KQDkAKEBXAIOA7UDUATWBFMFvQUMBkYGZQZpBkEGAAbFBXcFFwW5BGEEHATdA6cDjwOLA6MD1AMXBHoE6wRVBcQFNgaYBuwGIQc2BzEHFAfjBpMGKAa5BS8FlQQPBHcD3AJPAskBYQEEAZ0ATAAEALf/cP85/wH/vP58/jX+7P2q/W79Pv0Q/er82vzS/Nj8Af0+/Xr9w/0q/pf+Af+A//3/eADyAFQBqQH8AUwCjAK0AsoCzwKyAoQCTAIFArQBQwHMAF8A3f9H/77+JP6A/fX8gvwe/L/7Zfsc+9/6qvqV+o36j/qw+t76Gftd+5/7+/tq/Nj8Yf0M/sP+hP9WACwBFwISAxEEDQX5BeEGuQd1CB4JmQnxCSEKDgrMCWcJ4AgsCFIHXQZLBSEE5wK/AaQAdf9P/lL9bfyY+9z6Pvq3+S/5w/iO+GH4MfgN+PH31/fP98v3uvex97732ffq9xH4RPht+KX4D/mF+e35dPoL+6T7Qvzr/JL9Ov7J/j7/v/8nAHAAtADcAO0A8wDbAMIAqAB5AEkAHADm/7X/nP+J/4P/kf+q/9H//f82AIsA4wA/AaoBGQKFAugCUQO0AwgEWASfBM8E7wQUBT4FWQVrBW0FWAVRBVcFVAVIBTQFGgUBBeAEuQSEBD0E8QOfA1AD+wKKAhwCyAF3ARgBvQCEAFYAHADq/8n/qf+W/5L/gv9+/3r/d/+G/5H/r//h/w4APAB0ALYA/wBDAYoByQEFAjcCTAJTAj0CGQLyAbIBZQENAagASAD2/7T/bP8m/+b+sv6l/on+Wv4z/gX+3f21/XP9Mf3//MH8ePxC/B78CPwD/Bf8TPyW/Af9kv0c/tP+n/9ZACcB9QG4An4DIwS1BEkFugUFBjgGSQZHBjcG/gW+BXYFDQWNBAQEZQPBAhcCZgG9AAcAUf+W/tn9Hf1d/K/7Dvtq+uD5Xvne+H34M/gC+Pj3Cvgc+Eb4lPjn+Ez5uPkX+oL65/pN+7H7+Ps3/HT8pPzJ/N/88/wM/TH9Xf19/av95v0X/lT+lf7H/ub+/f4e/zX/Nv86/zn/LP8W/wb/B//9/gH/Kf9Y/4L/v/8SAHIA5QBZAckBRgLEAkgD0AM3BKEEFgVyBcgFEwZNBnMGiAabBqgGowaCBk8GCwa1BVoFAwWtBFEE6wN+AxIDtAJlAhcC1AGkAWwBMAEWAf8A6QDjAMYArQCgAKAAnwCVAJUAmACZAJ0AlQCPAJIAlACIAHQAaQBMACgACADg/7f/jf9d/yn//f7M/p/+hf5e/j/+Pv41/ib+G/4f/jD+MP4m/iz+Pv5C/k/+a/5z/nr+hP6a/sn+9f4a/zv/Uf9z/5f/wf/0/yEAXAChAOAAIwF8AdMBHQJoAr4CDwNYA5oDyAPdA+QD2AOgA00D3wJhAtQBLwF0ALT/Av9Y/rf9M/3F/GP8GPzf+7/7rPud+4f7fPuB+3X7VPsj++z6vvqK+lH6K/r5+cP5rvm7+eL5Fvpo+tn6VPve+3P89/xz/dj9Kf54/qL+r/6m/on+Yv4w/uz9mf1O/Rb97fzl/Pz8Hv1X/aX9D/6L/gz/lf8YAIoA9ABVAZoBxwHhAeoB6AHZAc8B4gH2AQ4COQKGAgIDdwPpA30EFQWeBRIGcAbDBvwGFgf4BqcGRgbJBTsFqAQbBJgDIAPCAo8CdAJ4Ap8CyALuAhsDUwN7A4EDawM7A+4ClQIlArYBOAGmADEA4/+g/4v/o//S/ysAkwAaAa8BOAK6AjMDnwPgA+QDzgOQAykDoQL+AXAB0gAvAJf///6G/iv+4P20/aj9s/3R/f/9Nf5k/p7+1f73/gv/Cf8C//j+7P7Y/rr+qf6t/r7+2f4J/1D/qv8UAJUAHAGXARMCiALnAjgDcANyA1ADCgOlAjICpQHrADEAef/O/jT+jP38/Ij8IfzZ+6r7fftO+yj7F/sF+9/6n/pi+if65Pmt+XX5O/kb+Qb5CPkc+Tr5jPnp+Uf6wPpK+8/7T/zI/D39uf0c/l/+pv7k/gH/Ef8e/zH/O/9B/0r/TP9Y/3X/lP+i/8H/8/8VADwAagCUAM4A/wAaAT0BXAFyAY4BowGzAcgBygHIAdMB4QHrAfsBDwIXAiICLgJAAmUCggKTArACwALAAtIC9AINAxYDGQMhAzIDTQNjA3gDgQNyA24DXwNKAzoDDgPfArECaQIrAvYBtwGJAWoBTgFLAV8BcgGVAcwBCwJQAqIC4wIIAykDNgMeA/YCwwJ0Ag8CnQEdAZkAGwC0/2f/Jf/x/tf+2f7x/hr/UP+E/7b/8v8rAFMAbwB0AFsAPQAIALn/dP8r/93+rP6R/nb+Y/5p/n/+m/7Q/hj/W/+K/7j/7/8XACoALgAkABIA8P/I/5v/Xv86/w3/2f6v/oH+W/44/h3+Cf7c/af9e/0v/d/8i/ws/NX7avv4+qX6Yfoi+vz56vnd+en5GPpM+pH65vpU+9X7R/y8/EL9tv0V/m7+wf4O/0P/av+R/7z/1f/k/wcAGgAiAEMAXQBsAIwAuQDWAPkAIgFDAXEBhAGIAaYBrQGtAbgBsAGnAY0BZQFUAUMBGQHwAN4A1QDFALkAowCQAJcArwC/ANIA/AAsAW0BuwEJAlcCqAL8Aj8DfAOvA9AD5APSA60DhQNCA+wCiAIaAsEBeAElAdQAoACBAHIAfACcAMMA/wBDAXgBpAG+Ac4B1gHLAaYBZgEUAcEAaQAUAMb/f/9U/yj///7y/vX+CP81/3H/tv/5/zMAcACoANcAAwEdASUBMAEqARMB8QDMAJgAZQBEABsA2v+X/2r/S/8v/yD/Ev/2/u7++f4J/x//Ov9O/1v/Zf9z/3n/cf9X/zT/Kf8T/+P+sf6C/ln+Kv4F/uv9vv2o/av9o/2f/aj9qf2p/an9rv2r/Zv9hf1r/V79Tf07/SH9/Pzd/NH80/zX/N786fwL/UL9eP23/ff9NP6D/tv+KP9e/5D/xv/4/yEAQABWAGYAYwBWAE4ATQBYAFMAUwBiAHIAkAC5ANkABgFAAV0BgQGrAbUBvwHIAb0BqgGGAWgBUwEcAfEA1QC3AKoApwCyAM0A8gAkAVcBmAHfARQCRwJ5AqsCxgLYAuoC5gLiAtwCywKvAoQCWgI8AiECDAIHAvQB3wHdAdwB3gHhAd0B0AHcAeYBzQGxAZEBaQE+AREB3gCpAHUAPwAOAOr/zf+y/5z/kf+Y/7T/zP/t/xYAMQBRAGwAdwCIAIMAZwBJAC0AAQDC/4L/SP8e//D+w/6g/o7+jf6O/pn+pP6p/rT+xP7U/t7+1f6+/p7+cf5E/g/+zv2U/WL9J/0H/fT84Pzm/Pj8Hf1S/YT9tP3r/Sr+Yf56/pX+t/7A/sD+vf6l/oP+Wv4l/vr93P3J/br9t/3F/d79Bv4o/lL+hf6v/tT+/f4a/0P/dP+D/5j/p/+r/7T/vP/H/9n/8v8SACwALQBGAHYAnADEAO4ABQEPASMBNwE2ATYBRQFIAT4BMgEnASwBNAE/AUoBUAFrAXsBfwGOAZoBqQGxAa8BvAHKAdEB1wHhAekB4gHMAbwBswGlAZwBjAF1AV4BUgFOAT4BLgEkAR4BGwEQAQ8BGAEcASIBOAFFAUYBVgFfAVUBTQFBASsBGQEEAeYAzwCzAI4AZgAwAAsA7//B/6b/lf+L/47/nv+w/8n/4v/4/wUADQAWABEACQD4/8f/lf9p/zL/6/6h/mL+Jv73/ez97P3m/fX9GP5B/mL+hv62/uD++P4C/wr//P7r/uj+2P6y/oj+bP5F/iD+Ff4Q/hL+Hf4i/jD+U/53/qL+wv7S/vH+GP8x/zH/Nf80/yb/Gf8K//n+9/70/uT+2v7b/uP+8v4J/yP/Vf+M/8T//v8mAE0AgQC4AN0A8gD4AAEBGAEjARsBFgEWARgBGwEVAQ0BGQEvATkBTAFiAWwBegGLAZgBpAGjAaABrQG7Ab8BxAHBAbgBtQGwAaYBnQGeAZUBfAFpAVYBOgEuASYBCgHwAOUA4wDoAOcA3wDgAOkA5ADWANIA0QDGALgAowCPAIsAewBZADUAFwDx/8P/of9+/1v/T/9L/0L/RP9H/1D/Zv9u/2r/Y/9h/3//m/+g/57/jv+G/4P/b/9m/1j/N/8m/x3/C//9/u/+6v7n/uD+5P7o/vD+AP8Q/xz/J/8v/zn/P/8+/z7/Pf8x/yb/Hv8M//7++v7v/uP+4f7Y/tT+1f7V/tj+8f4F/wz/GP8x/0z/X/9o/2r/ev+C/4X/j/+b/5X/lf+d/5n/lv+e/6n/pP+r/7n/uf/F/9v/5//4/xQAMABFAGAAdQB2AH8AkQCNAI0AngClAKUAsQC/AMkA1gDgAO0A+wAEAR8BQQFPAWYBfQGDAYgBkQGZAZgBjgGMAYABaQFmAV8BRAE7AUUBOwEpASIBIwEaARcBHQEPAf4A/QDxAN8A2gDEAKQAiQBwAGMATAAyAB0A/v/0/+//2//R/8v/w//L/8r/wP/I/9H/1//W/8f/tf+h/5X/mf+M/2z/Vv9F/zb/Kf8g/xv/Cf/0/u3+8P73/gL/AP/7/gT/Ef8V/yH/NP9H/2L/ev9//4D/jv+S/5T/lv+T/5n/kP92/3T/cf9o/23/af9S/0f/Uv9Y/1r/b/93/4b/m/+Q/5n/sf+5/8n/xf+v/7n/wv+x/6X/p/+l/5//oP+j/5f/j/+q/8v/1v/Y/+T/9v8QACcAMwA9AEwAWABgAFsARwA/ADsANwA6ADYAPQBCADcAOgBDAE8AXgBrAH0AhgCHAJEApwDBANAA2wDZANYA2wDGAKwApACPAIMAlACNAHwAdwBzAGsAaABxAHoAeQBwAHMAdABdAFIAUwBGAD8ANAAgABQACQD3/93/xv/A/8L/vP+x/7D/rP+o/7H/qP+g/7D/vf+7/7P/pv+c/5v/l/+Z/6z/tf+v/77/xP+y/7P/tf+0/8v/5P/h/9T/3f/0/+v/4v/4/wAAAwAEAPv/+f/8//X/7f/t//T//f/4/wEAFAAeACYAIAAeACsANAAwAD0ATgBQAEwARwA5ADcAOgAsACYALwAyACEAHAAiACEAJwApACUAJQAfACAALQAnABMACQD4/+f/3f/V/8r/vf+0/7H/uf+z/6H/n/+o/7H/tP+w/7H/uP+2/7b/v//I/8r/vf+r/6j/pv+d/5v/m/+h/7X/t/+h/6P/w//N/9D/1//W/9f/0//U/+D/8v/0/+v/AAAXAAsADQAfACQANAA0ADQARwBTAFkAUQBHAE4AWgBjAFkATABSAFEASwBLADwANwA8ADcALwAwADYANgA2AEIAUQBOAE4AXABgAFcAVQBaAE8APQA2ADcAMQAvADEAJgAgABgAEwAbACEAIQAuAEAAQgBGAFsAZwBgAFsAXgBSAE8AVABCADUAMQAmACAAFgAEAAoABwAAAAQAAAAAAPj/6v/y/+j/3P/m/+X/3//X/8n/y//S/9P/3v/d/+b/9f/Y/8H/wv+9/77/xf+//7//0v/b/8//1f/m/+T/4//j/97/4P/c/9P/yP+7/7j/vP+9/7n/rP+g/6//uf+y/7T/x//S/8//zf/V/+P/8f/9//X/6v/w//7//f/z//f/+P/4//P/6//3//X/6f/w//f/+/8AAP7/9P/4/wUADQARAAcA/P/1//T/8f/v//T/8P/r/+3/AAAJAAYAAwAWADAALwAxADcAMgA4ADIAHgAoAC0AJwAhABMACQAEAAAA+//+////9v/7//z///8AAP3/AgANAAYA+//+/wgACwD7/+//8v/6/wcABADv//f/CwAEAPv//v/4/wAABgD5//j/AAADAPb//P8GAAAA+////wUAFgAlAB0ADwANABEADgANABMAFwAfACIAGgAZAB0AIgAmACUAHwAdABkADgALABAADAAIAAIA/P/8//3/BQATAA4A/v/8//j/9P/u/+L/3v/Z/9X/2f/Y/9X/2v/b/9r/4P/j/+P/4//s/+z/5f/u/+7/4//j/+b/5P/n/+f/5//n/+n/7f/i/93/6//n//L/BQD3//j/AgD8/wQAFwAZAB0AHQAdABwADQAIAAYA+P/4////9f/0//j/+P/9/wYADgARABEADgANABoAIQAaABAABwADAAQACwAUABIAEAAOAAUAAAAAAPz/7P/c/9v/4f/l/+r/7P/r//P/9P/v/+v/7P/w/+//9f8DAP////8AAAAABAAAAPz/AwAQAA0ABgAQABYADQAIAAMA9//w//z/BgAKAAsABgARABYADQAMAAwAEgAaAB4AIwAdABUAFwAdAB0AFQAMAA0ACwAKABsAIwApACUAHwApACoAIQAdAB4AIQAaABwAIgASAAcAEgAZABUAEAAHAAgA///w//L/9P/2//z/+f/4//j/7//2//3//f8CAAQABAAEAAQAAAD0/+r/4v/f/+f/7P/q/+L/2//a/+L/8P/0/+//8v8AAPr/6//x//X/7f/r/+j/3v/a/9z/3//f/9z/0P/Q/9j/4v/g/9L/2P/k/+n/7P/q/+X/7//4//j/9f/z//X/+P/3/+z/7f/p//r/EAAKAAAAAwARAB8AJQAaAB0AKwAsACQAGwASAAwAEAAQAAsAAgD///r/+P/2//L//v8EAAgAEQAUAAkADAAYABgAGwAcAAsABAAIABEADgADAAkABQD9/wAABgD9/wUAEQAMABcAIgAhABoAGgAgACIAHgAdABUADAARABsAGwASABkAHAAWABEAEwAVABgAGQAUABYAGAASABIAEwANAAcA+f8AABUACQD8/wkACQACAAcABQAGAAwACAD4/+b/6v/1/+v/6P/t/+T/2v/Y/9H/2//Y/8n/0P/a/+D/5v/l/+L/5//k/9r/0v/c/+//8//t/+z/8v/p/+f/6//k/9r/3P/o/+3/8P/t/+L/3v/i/+b/7//s/97/5f/l/9f/2v/f/+D/6//7//b/4//k//f/BQAKABUAGwAfACQAJgAlAC0ANwA6ADsAQABEAEAAMgAfACMAJgAlACIAIQAlABQADgAZABMABAD3//b/AAADAAkABgAAAA0ACgDz//3/DAAGAAAA+f/4//3/+v/z//X/+v/+/wUACQABAPz//P/4//j/+f8AAA8AFgAOAPz/8f/s/+//+f8AAPr/+v8MAA0ABgAJAAcAEAAUAAMA9//6/wAA///6//X/9v/8//n/8P/v//D/+/8GAA4ACAACAPb/7f/4//T/+P8FAAgACgAaACQAJAAaAAsABwAPABUAFAALAAMABAAEAAsACgAGAPz/8P/z/wAAAAD3/+z/5//m/+//AAD3/+//9//9//v/8//u/+z/9f8CAAAA5f/W/93/6//0//X/CgAUAAoAEAAMAAcABwDv/+L/9P/y/+f/9v8KAAkAAAAAAAAAAwAEAAAACQAQAAQACQAZABQADQAPABQAGAAdABgADwAMABQAGgAYABkAFgAUABUADQAAAAoAGwAbABIADwAGAPj/7f/n/+f/4//f/+T/4v/e/+D/5f/s//f/8v/n/+//6//o/+v/5f/j/+P/4v/m/+f/7v/4/+//4v/l//L/8v/u//T//P/4/wMAHQAUAA0ADwAGAAMA/P/1//H/8v/4//j/9P/9/wkABgAFAAkABgAPABcADQAMABgAIgAlACEAIQAiACEAJAAkAB0AIAAiABQADAAGAAUACAAIAAQA/P8BAAUA/f8IABUADwAMAAMA+v8AAP7//v8FAPb/7/8AAAMA+//5//7/AAD8//L/7P/r//D/+P/4//H/7P/w/+f/7v/3/+r/5v/z//T/7//w//b///////j/8P/z//T/9P/0/+//9v8HAAsAAAACAAIAAAAAAAAAAAAAAAUAEgAUABYAGQAZABQACQAIAAwACAAAAPz/AgACAPn/+P/4//j/9f/w//T/+f8AAPr/8//1//v/+P/v//T/7f/r//D/6//t//b/8f/0/wIABAAGAAwADAAIAAgADwAaABYADAAJABIAEwAJAAgAEAAaABwAEgATABgACgAMABcAFwANAAQAAAAAAPn/7v/y//b/CAAWABAAFwAhABkADwANABIAFAANAA0ABwACAAgABAD8/+//9v/8//b/9f/8//r/+v/+/+3/6//w//T////+//f/+f/2//D/8P/s/+///P/3//X/+P/y//n/+//2/wAACAAIAAwAAwD8//b/9f/4//D/8v/3//b/7P/r//T/+P/4//f/8v/6/xAAEwANAAkABAAEABcAIQAWABUAEwANAAwADAAQAA0ABAAJABEADwAMAAwADQAJAAoAFAAVABUAFAALAAkAFAAHAPn/AgAEAAYADAAAAAAAEQAEAAQAFAAIAPz/AQAFAAAA+f/3//j/8v/w/+3/4//f/+j/3P/O/9L/1v/g/+3/6f/b/97/4//X/83/1//f/+b/7P/m/+//+v/2//T/8//8/wEA//8EAAAA/f8AAPn/7f/s//b/AgAHAAsADQAMABEACQAGABQAEQAAAAcAEgAfABsAAAAAAA4AEAATABoAFwASABAAFgAeABkAGgAmAB8AFAAnADQALgAiABYAFAAgACIAEwARAA4ACAAOAAkACgARAAcAAAAIAAcA8f/t//T/6//o/+//6v/m/+//7P/f/9r/1v/Z//D/9v/r/+z/6//v//D/3//b/+X/5v/j/+v/8//0//L/5v/a/+v/9P/q/+7/9f/9/woADQAKAAcADAAbAB4AHAAkACEADwAQACUAKQAbABgAIQAuACkAJQAcAAAAAgASAAoAEAAdABYADAARAAoA//8CAAwABwD6//j/+P/4//z//P/u/+H/4P/l/+n/7f/l/+j/9P/w//T/AAAAAAEAAwD+//3/+P/s//X/AAD0/+v/4f/n//D/6v/x/wMACAD8/wMABAD8/wYAFwASAAkA/v/4/wMAAAAJABkACwD3//7////8//v/+P8JABcAAwD0//z/BQANAAsAAAD6//T/7P/p/+D/4v/j/9//5//h/+H/9P///wIABQD8/+n/6/8AAAMA/P8CAAMABwASABMADAAQAAkA/f8JABEACgACAAcADgAHAAAAAgAIAAAA+P/+/wQABgAXABMACwAgACoAJgAeABQAEAAJAPj//f8GAAIADAAYABUAHAAqACUAKAA0AC4AIgAkACYAIAASAAwAGAAnAC0AIgAXACUAMgAuAB4AFAAVAAwABAD7//n/9f/v/+7/6v/u//P/7v/j/+j/6//n/+7/7f/j/9r/1P/K/7r/tf+0/7n/uP/B/9H/x/+3/8P/0f/V/9f/0v/K/8r/1P/U/8r/wv/E/9X/4v/g/+b/8P/q//D/AgD9/wAADwAOAAsAEwAdABQAAwABABEAGgAXABUAIQAqACkAOAA/ADEANAA7ADMALAAoACQAKwA1ADoAOwA6ADYANgA3ADUAMQAoACcAKwAjABkAJQAyACEAFAASAAAA///9//P/+//5/+v/7f/5//z/7f/i/+v/5//f/9//3v/n/+//7P/r/+b/4v/l/9r/yP/F/8n/1f/s//T/8v/j/+H/6//r//D//f8EAP3/AwARAAQA8f/5/wsAEwAVABIAEAAUAB0AHQAJAAAAAwD5/wMABQD7/wYABQAAAAgABwD5//b/BAD///X/AQASABUAEQAIAAgABwDz//z/EgAIAPv/AgAEAAQAAwD5/wYACwD6//T/8f/z/wAA+P/v//D/7//6//r/9P/6//3/BQAIAA0AGQAKAPz//f/8//z/7v/p//b/9v/w//b/+f/0/+//6//3//v/+v8FAAYAAAADAAEA/P8AAAQACQAGAP//AwABAAEABQAAAAAAAwAAAAUADQAEAP7/+v/z/+v/7//z//T//P/8//7/BgAAAP7/CwAHAAAAAAAAAAAAAAAFAAkABQD1//r/BgAOABUAEQAMAA0AEQAQAAkAAQAAAAAAAAADAAgACAAIAAcA/v/+/wYA//8AAAYA/f8CABAAAwD3//P/7//y/wAAEAAJAPr/8f/v//3/AwD2//v/AQAJABUAEgAKAA0AHQAcABAAEQAbABUAEAAQAAEA6f/t//D/6//0//P/7//w/+3/7/8CAPv/6//z//j/AAAIAP7/+P/3//P/9//4//f////+/+//8f/4//n/AwABAPn/+P/2/+3/5//r//D/7v/n/+7/7//q//D/+f8DAAQADAAUAAsACAANAAwAFQAKAPj//P/5////CAACAPf/+/8QABsAFQAZAB8AGQAZABkAGQAYAAcA+/8FABAADAABAAIACwAMABUAHQAXABYAIgAjABcAFAAYABYACAAEAAgAAgD6/wAACwAOABYAGgAPAAQACAAIAAMACwAQAAkAAAD7////BgAPABEABwD8//3/+//2//P/9P/v/+T/3//e/9b/yP/I/+H/4//P/9X/3//e/+X/7P/j/+j/7//y//n/7//s//P/8//4//X/9P8AAPr/7v/z/wAAAgD1//n//f/4//j/9P/0//n/+P/6//z/8v/x//r/AgAEAPj/8P/6//v/+f8FAAgACgAQAA0ADwARAAAAAQAIAAoAEwAMAAgAFQAdAB0AIQAiACYAJQAfAB4AIwAbAA0AEgAWAA0ACAAMAAsABgD8//n///8AAAAA/f/4//j//P/8//z//f8DAAoAEwAeABYAEQAQAAgA//8CAA4ACAADAAIA/f///wcADAAIAAAABgATABMAEwAcAA4ABAABAPj//P8EAAIA7//n/+T/2//c/+j/7f/n/+v/+f/8//f/8f/p/+j/7//o/9v/2//T/8X/x//U/9X/0v/a/+L/5f/w//j//P/5//P/+v8CABAACgD6//j/+v8CAAgACAAVABMACwAEAPD/7v/8/wYADAAJAAcADAAMAA0AEgAeACkAGwAGAAMADQAdABwABwAFAA0AAwACAAsADgAUABgAGQAYAB4AGwAJAAoAEwAVABIAEgAZABYABQADAA4AFQAaABcAFAAVABIAEAAUABkAGQAPAAcACQAFAP3/8//x//v/+v/w//D/7//2//z/9v/y/+3/6//u/+3/5P/f/9r/4f/s/+v/7f/x/+3/7f/3//X/8P/n/+P/6P/t/+3/5P/k/+//+/8AAP3/AAAIAAIA+//4//j/+P/5/wQADAAPABEABwAKABAACwAGAAMABgAKABIAFgAJAAQADQAWABIADAAVAAwA//8EAAAABwAPAPz/8//w//j/AwABAAAAAAD+//v/AAAIABIAEwAKAAcACQADAAAAAAAAAAQA/P/5//z/9v/z//b/+P/6/wAAAAADAAwAEAALAAEA+//+/wIACQAOAAEAAwAIAAkAFgATAAkAAAD7/wAA/v/5//T/8P/4//3/9f/q/+//9P/r//H/9f/t/+v/8P/r/+z/8f/1//H/8//9//f/7f/y/wAA//8CAAYA//8CAA4ADQABAP3/AgAMABAAFQATABAAEAASABoAHwAWABEACAAIABAAEQAUAAgABAALAAoABAAEAAAA+P/1//f/9P/6//z/AAAOAAIABQANAAAA+P/8//z//f/7//n/AAD7//f//P/8/wAAAAD9//v/+P/3/+//5//t//P/+/8AAPz/9v/q//X//P/1////+f/x/wMA+f/0/wcADAANAAIA/f8BAP7/+/8GAAkADAAfACoAIwAbABYACwAHAAsADQAIAAgACQASAA4ADgAOAAIAAQAKAAoA/v/0//n/DwAUAAgABgAPAAIA9/8BAAEA/P/9//H/5//u/+//6v/w//j/8//o/+v/8//0//j/8f/q/+//9//4//v//f/4//j//f/2/+r/5f/d/+L/3//U/9H/2f/n/+f/4//j/+P/7f8AAAMA+//2/wIAAAAAAAgA//8BAAwAEQARAA8AGgAZAAgABQADAAsAFQAWABcACAADAAcACwANAP3/9P/5//3/AwARABQACQAAAAMABwAQABUAFQAZABAAAAACAAIA//8BAPn//P8DAA4AFAAQAA4ABAD9/wAACwAJAAcADAAIAA0ADwAFAP//AwAKAAEABQAKAPn/+P8AAAsAFwARABUAFgALABMAEgAJAAwADQAPAAAA+P///wEABgD7//r//f/0//n/9v/s////AADz//f/+P/2/+z/6//r/+z/7v/f/9r/2f/W/+T/6v/2/wAA/P/4//n/9f/x/wYAEgACAAUADAAMAAgABAATABMAEQAWABwAJgAbAAwACQALABIACQD8//r/+v8EAAsADAAMAAYA9f/0//j/+P/3//P/9/8BAP//7P/y//X/4//f/+n/6//u//b/8P/0/////v/x/+//AAADAPv/AAARAAwABwAIAAgACwANABAAEQAVABQAFgAaABQADQAKAAAACgANAAwAGwAVAAwAEgAKAAAAAwAHAAwADAAMAP7/9P/y/+v/9v/2//X/AQAEAAcAEQAOAP//AgAJAAYAAwAHAAMA9f/7/wAA9//5//b/9/8EAAAA/v8BAP3/9f/v//n/+//0//P/7//y//T/9v/5//D/9P/8//j/+P/3//L/7v/0//n/9P/0//T/+P/4//T/AAD7/+v/+/8HAPr/+P/4//z/DQAFAPD/9f8DAPr/8P/y//f///8EAPv/+v8FAAMA/f/1//X//v8DAAAAAAAEAA0AFgASAAoACQAOAAQA/v8OAA4AAwAOABUAIgAvACMAGgAWABQAFQAUABUAFAAQABEACAD9//P/8f/1//P/9f/s//T/BQANABEABgD4//v//P8BAAUA/f/w//T//f/7//f/8//1/+//5//r/+j/5//w/+//6//y//L/9P8DAP////8EAP3/+P/5//z//v8IAA0ACAD+//v/AgAQAAwA/P8BAP3/9P8DAAYABQAJAAQABAAMAAcAAAAAAPr/+v8EAP3/9v///wMAAAD8//f/7v/y//z/CwASAAsABAAEAAMABAADAAUADAAEAP//BAAMAAoAAQD8/wQAEQAaABcADwARAA0AAQAFAAcA+f/4//z/AQAIAAEA+f/5//X/9v/4//7/CAAIAAgABwAEAAwAEQAOAAcA/v/8/wAA/P/4//L/6//s//P//P8FAAcA/f/8/wAA+P/z//T/7v/8/wMA8v/0/wAA/f/8/wAA/P/9//v/+v8DAAEAAAAAAP3/AAAEAPv/8//u/+3/+/8MABQAEwAJAAQAAwAAAAAA+//4/wAABQADAAcAAgD8/wAAAwAAAPH/8/////f/9/8CAAQABAADAP3/+P8DAAcABQAKAA8ADQABAAIACAAMAAgAAwAGAAcADAAQAAgACwANAAgAEAAVABQACQAGABMACgD///n//f8PAAkA/P/8//f/9f8AAP3/9f/v/+T/5f/v/+z/4//k/+j/5v/h/+D/6v/5//3//P/8//z/AAAAAAAABQD3//D/9v/w//P/+P/0/wEACAAEAAoACwADAAAAAAACAAUA/P8CABcAHgAcACAAHgAVABUAFwAdABkAEAAHAAkADQALAAIA9/8EABsAFwAIAAQAAAAFAAgACQANAAoABwAOABUADQAIAAgADQARAA4ABAAIAA0ADAAKAAMABAAHAPr/9P///////f8GAAEA8f/s/+f/6P/0//T/+//5/+v/8P/z/+X/4v/q//T/9//v//H/+v/z//P/+v/y/+b/3v/o/+b/6f/u/+H/8f8IAAEA9v/v//7/EAAIAP7/9P8AAAwACAABAPv/9P/3//z/AAAEAAMABAD9//n/CQAVAA4ACQD+/wAADgAUAA4ABwARABUAFAAaACIAHgAVABQACwAIAAcAAgAJABcAFAAMABAACQAAAAQAAgAAAPf/7//8/wEA+//x/+//7P/j/+3/7v/s/+j/2f/l/+v/4v/k/97/6f/z/+X/5f/n/+r/9f/7//3/+f/0//j//f8BAAsAGQAeAB4AKAAlABwAJQAlACIAJQAaABwAIQAaABsAIwAmACIAGQAZABwAEgALAAUA+//4//P/6//v/+z/6//2//v/8//3/wAA/P/0//T/8//4//P/5//m/9z/3f/m/+X/4v/m/+7/9//0/+v/7f/v//D/7P/k/+P/4//l/+z/6//x//f/+v8AAPv//v8FAAcAAAAGABAADQAMAA4AFgAUABkAKgAtACMAHQAgACYAIQAiACYAJgAkAB8AHQAbAA8ABwAUABkAHgAbAA0ABgACAPz/9//+/wQA9f/0//3/9//6//T/8f8BAA0ABAD1//P/+P/u/9z/1v/e/+b/7//r/+D/3v/j/+f/6P/r/+f/6P/t//H/6//l//T//f/8/wAAAAAAAP///P/+/wMAAgD//wcABQD8/wEADQARAA8AFQAiABgABgADAAoAGQAUAAwACwAQABIAAAD9/wYACAAIAP3/BAAMAAMAEQAYAAkAAQAAAAMAAQAAABAAEAAGAP7/9v/y/+//8v/3//j/+P/4//3/AAD2//T/8v/w//r///8GAAkAAAAEAAMA+////wUADAASAAsAAQACAAUA/P/5//3/AAAAAAgAAAD1//3/9v/v/+z/6//3/wUACQADAPf/7//q//P/8f/n//T/AAD6//T/+v////3/8/8AABAACQAMABAADQAQAAoABwAKAA8AEQANAAgAAAD8/wEACQAHAAIAAAABAAoACgAHAAkAEAAMAAgADQACAPv/AAAIAAUA/f8AAAAAAAAAAPn/8v/u//P/8v/v//b/+f/4/wYACwAPABsAFQALAAcACwANAAkAAAD4//7/CQD///L/+P8AAP3/AQACAPj/+f/4//n//v8AAPn/+//6//f///8HABQACwD6////AwD2/+//+v/q/93/8f/9/wAABQACAAcADAAEAPv/9f/x/+z/7//r/+z/8P/x//z/+v/6//3//P/9//z//f8AAAAAAAACAAsACQAAAAEA+v/0//P/8P/0//r//P/1//X//f8GAAkAAQAAAAQABAAKAAsACQAPAA8ACQAGAPr/8P/3//n//P/8//z//P///w0AEQAQABUAFAAVABMAGAAiACQALAAjACMAKgAmACEAIgAqAB4AEwAWABsAIAAfACEANQA6AC4AGgAMAAwACwD7/+r/8f/1/+3/6//o/97/2//g/+P/4v/X/8T/w//M/9L/1v/S/9L/2P/b/9z/4v/j/+b/6P/g/9r/4//n/+j/7P/y//T/9P/z//n/BgAJAAAA/f8EAP///v8KABQAEgANAAwAEAAMAAwAFgAkACIAFQAXABsAHgAXABQAFQAHAP3/BQAHAAIACAAQAA4ACAALABAAEQAaACEAGwAYABIAEQAbABsAGAAaABAABQANAAsAAQAAAAAAAAD+//j//P/1/+v/7P/k/9H/y//Y/9v/2//a/97/5v/j/9n/1//W/+D/6f/m/+3/8//3//n/9P/9//r/6P/r//r/AwAEAAQABAAEAAMACQARAA8ABQAHAAwAAgABAA4AFQARAAwADgAbABwAFwATAA0AFAAvAC0AJAAvACgAIgAfABcAEwAQABEACwAAAAMABAAAAPb/8P/0/+z/5v/p/+H/4P/r/+T/4//s/+r/5//m/9//2f/e/+H/6v/z//T//f8DAPr/+f/1//f////1//3/CAAEAAkAEAALAA4ACAAFAAkACgARAA0ACAAVAB0AGAAbACQAIwAXABUAEQAZAC4AKQAmACQAIgAlAB0AGQAiABkADQAIAAgADAAMAAUA+f/5//T//f8FAO7/6//z/+P/3v/Z/9D/1v/d/+D/3P/a/97/4//j/+j/4P/c/+T/4f/c/9r/2v/j//f//P/9//v/+P///wYACgARABkAEgAMAAgACAAMAAUA+v8AAAsAAgABAAgACAAEAAQAAwAFAAgACQAPABEADgAMAA8AFQAQAA0ADwAGAAUAEgAQAA0AFwAcAB0AHQAQABEAFAAKAA4ABgD9//r/9//8/wAABAAEAAMA///7/wAABwAIAAYA+//w/+z/4v/a/87/zP/c/9z/3P/g/9f/2f/r//D/9P/z//f/AgD7//f//f8HAAQABAAMAA0AGwAWABEAFgAPAAsADwAUABEACAAJAAYA+v/3//T/AAAFAAMAAQAAAAgABwAJAAsACAAQAAsA/v/6//b/AwD9//D///8JAAAA9/8CAAgA/v///wQA+v/v/+z/9f/3/+7/+v/3//b/9P/n/+//8//+/wgAAwANABQABAAAAAAAAwABAPj/AAD7//r/AQD///v///8AAAUACQAAAAAAFwAcABoAIwAUAAoAEAAOAAgADAAMABEADwAHAA8ADgACAAMAEgAZABIACAAJAAwACAAJAA8ADwAHAP//9f/0/+z/4//j/+P/6//4//3//P/6//T/+v8AAPz/8//1//7/+f/z/wAAAwD5//v//f/8//z//P/9/wAAAAAKABMABgAJAA4AAAD5//f/+v8IAAwADgAOAP3/9v8AAPn/8P/v//H/+P/q/+L/7//1//P/9P/0//T/9P/5/wEABAAMAA4AAQAFAAwADwARAAsABAAQABgADAASABwADQAEAP//9/8AAPr/+v////f/AwAQAA8AFAAVABEADAANAAkA+//9//D/3v/z/wEA/f/5/+z/7P/5//b/7f/m/+n/7P/q//f/BAAHAAAA8v/x//X/+f/4/wQAFgAXABQAEgALAA0ADwAGAAIA9v/w//b/7//2//n/8P/4//z/+f8EAAcABAAOAA4ADAAJAAAACAAHAPv//v/4//X//P8GAAUAAwAEAPj/7//1//H/6//r//H/AAAHAAsADQAIAA0AEAALAAAA/P8GABMAEwAHAAAABAADAPz/9//0//n/9P/s/+v/8f///wAA+P/5/wAA///0/+//7v/o/+n/9f8AAAcACQAHAAoAEQAQABAAEwAVABUAEQAQABEABgAGAAwABgANAA0ABAACAPX/9P/8/wUADQARAA4ABgANAA8AAwD2//f/+f/z//b//f8BAAQAAQD1//r/+v/z//z/8//r//H/7v/t//L/+P8AAAAAAAD9//3/DgAZABgAGgAhACcAIAAZACAAHwAQAAMA9f/x//n/7v/y/wcAAgD9//n/9P/8//z//f8HAA0ADAAMAAwADwARABAADAARAA8AAAD6/+7/8f/+//L/8v/8//j//f8AAAQAAgAAAAcABAD0//H/AAD0/+P/7f/t/+H/5//t/+j/7P/3//z/AAAIAAcABAARABsAFAAEAPv/8f/y//z/AwD7/+r/+/8BAPX//v8AAAMA/P/r//j/+P/0//P/5v/d/+L/7v/t/+v/7P/j/9//6P/t//3/AwAAAA4AGQATAAkADwAZAA4A/v/3/wEAEAAOAAkACAAFAAMACQAVAB8AHgALAAMABAADAAcACAALACAAHQAVACQAJAAhACQAMgA2ACoALgAiABUACgD7//3/+v/6/wUA+v/y//7/CwAQAAgABwACAPn/+v/6//n/AAAAAAAA/P/4/wEAAwD4/+3/7P/p/+T/5v/r/+v/8P/0/+7/7P/y//X/8v/t/+j/5//k/9v/0f/J/8r/yP/E/8v/3f/v//v/AAAEAAgADgAVAAwAAgAFAAEAAQALAAkAAwAFAA0AEQAOAAYAAgD+/wAADwAHAPj/AAAJAAcACgALAAcACQASABAABAAHAAwAEQAbACMALQArACQAKwAyADAAJgAlACoAKgApACMADwD6//j/+P/1//D/6P/v//3/9P/f/+P/5f/c/+P/4P/e/+r/8P/w//T/8//t/+X/4v/l/+r/9f/9//j//f8IAAIAAQADAP3/AAAIAAUABAD5/+P/5P/n/+n/9P/6/wIAEAAcABQABwANAAsADgATAAMAAAD9//T/+f8AAAAABAAEAAkACwABAAAACAAOAAYACAAYABEA/P/9/wcAEgANAAUAAgD9/////v/0//T/9P/6/wEA/v/+/wIABwADAPz//f8DAAAA/P/9//v/9v///xAADgAJAAgA/v/8/wAAAAABAAQAAgD8//H/8v/4//z//P/9/wAA+v/5/wAACAADAPz///8DAAgACAAHAAAACQAXAAUA+f8EABIAHQAZABQAFQAZABEABQANAA0AAQACAAQAAAAAAAAAAAAAAAAA/v/8//r/9//8//z/9P/4//f/7v/y//T/9v/8/wkACwD6//D/9P/0//T/8v/n/+P/4//j/+L/6v/w/+v/8f/y/+P/4v/w/+7/+P8CAAcADAABAAQADgACAPj/AAAHAAgACwAMAA8AFQAUABUAFAAcACEAGwAiACkAJwAlACoAHQAKAAQAAgD3//j/BgD6/+//9//1//P/8P/7/wQA9v/y////CAAFAAAAAAAIAAwAEgANAP3//v8AAPX/6//s/+v/8P/0//n//P/8//v/9P/s/+7/9v/9//X/5//d/9L/2v/m/+X/5v/y//T/8P/v//j//P/9/wEABQAIAP7/9v/7//3//P8HABUAFAAQABAAEQAOAAwADAAPABcAIQAqACkAJQAsACUAHAAeABsAEwAJAAAAAAAEAAkAEgANAAgAEwAdABsADwAIAAgABwADAP//9v/8/wgAAwD+//b/8//1/+//6//a/87/2//f/97/4f/m/+v/7//w/+v/4v/e/9j/1//c/9f/2f/f/9j/1v/b/+X/+P8BAAYAEwAbABUAGAAaABUAFQAUABsAIQAcACAAIAAbACQAJgAlAC4ALgApACQAIQAqACIAEQARAAwAEAAUABAABQD6//H/8//4/+//5f/m/+j/5//s/+z/8f/6//z//v8EAAwACQAEAAsACAD7//3/+v/z//L/4//k//f/8v/k/9//3//t/+7/5//v/+7/6v/w/wAACQADAAAAAAACAAkACAARABQACgAKABEADAAIAAMAAQAJAAYAAgAAAAIABwAOABkAFQAaACYAHgAaAB4AHQAZAAsAAQAAAPn/9//+//r/9P/z/+z/4f/g/+3/8f/r//D/8P/6//n/5f/l/+f/7v8AAAgAAAD9/wAACgALAAkACwAGAA0AEgAGAAYAEAADAPz/9v/t/+T/3P/Z/9P/0v/Z/9//2v/h//P///8GAAcAAQD+//n/9P/3//j/8//v//f/AgAFAAoAEQAYABwAHQAZABQAFQAZABgAEwAbACYAIwAhACEAJQAmACAAHgAiACEAIwAnACMAHgAWAAkAAAAKABUAAAD0/wIACwAPABQADwAAAAAACAAHAP7/9v/y//D/+v/4/+b/3v/g/+L/5P/i/+z/6//X/87/1P/p/+z/4//n//D/6v/o/+3/8P/t/+v/6//u//T/7P/e/+X/6v/i/+///P/6//f//P/5//z/BAASAB4AGwASABQAHQAdAB4AFgAQABAABwAGABMAFAAVABEACAAOABEADAAJABEAFQAOAAYAAgAAAAIABgAPABQAFQALAAkACwABAAAACAALAAIA/f/8/wAAAAAAAAkADQASAAwABQACAPr/9//1/+//+v////f/+P/w/+z/9v/2//D/7//0/wQABwD4/+//8v/+//3/9P/y/+T/6//4/+7/7P/q/+f/5//d/93/3f/Y//L//P/0//n/9//0////EQAVABQAFQAYABUAGAATAAYADAAQAAgAAAABAA4AEQAMABUAHQAcABgAHAAjABwAGwAcAAcA/P/8/wAACQAGAP//AgAEAAUA/P/2/wAA/P/0//n//P/v/+X/4v/p//r//f/8//3/8//1//z/9//7/wAA9P/x//v/AAD1/+v/9f/2/+//+f8AAPj//P/5//7/BAAAAAQABAD+//f/+/8HAA4ACwAQAA0AFAAdABgAFAANAAcACwALAAMA9//2/wQAAwABAAgAAgAIABUAEgAOAAYAAwAIAAgACAD+//T/AQAIAAoADgAGAAMABAADAAAAAAAFAAgABwAMABIACgAEAAcABAAAAPf/7v/r/+3/8v/1//H/8v/4//H/4//f/9//3//m//D/9f/x/+//7//z//T/8P/1//n/+P8AAPz/+/8HAAgACAAMABEAFQATABEAFQALAAgABgAAAP3//P8AAAAAAQADAAAAAAAAAAAAAgALABAAFAAQAAwADAAHAAoAAgD4//j/+P/8//z/7//x//P/7//w//L////+//v/AAD5//j/AAD2//3/CwAEAAcAAgDx/+//8//8/wQACQANAAsABgAAAPb/9v///wAAAAAAAPv/+P/3//T/8v/u//X///8AAAcADQAWAB4AHQAdABwAEwASABkAFgANAAwAEAALAAcABAAMABEADgAJAAQABAAEAAAA/P/4/wAACQD8//D/8P/w/+z/6//w//T/9f/4//H/8f/0//b///8AAPz/BAARABUADgAHAAoADgAUABIAEAARABQAFQAOAAEA+//+/wAA/P/0//f//P/4//T/9P/z/+//+f/4/+v/7v/y//j/+P/0//T/7v/n//D/+//+/wMABgAMABMAFgAOAP///P8DAAgABwD+/////v/7//3/AAAAAPv/+P/5/wAABwAGAAAAAwAEAPj/8P/v/+v/9P8AAAQAAgD8/wIAAQD8//3//P8BAAMA/f/1//b//P/5//v/CAD///n/AAD5//T/+v/v/9//4f/q/+z/5//x//n///8GAAkABQAGAAwADAAIAAQAAAD4//7////x/+z/9v/7/wAAAwAEABEAGQAUAB4ALQAhABQAGAAaABEAFAAVABUAGQATABkAHAAUAAgAAAAEAAMABQAMAAgACQANAAAA8//6//j/6P/n/+//+v8AAP3/BwAFAP3///8AAP3/AgAQABAADAAHAAEA+f/6//3/+/8CAAUA/f/4//j//f8AAPz/BQADAPL/8P/q/9//2//n/+z/6//0/wEADAAKAAcACwANAAQACAAIAAMADAAPAA0AFgAaABIAEwAVAAwA///9/wcADgARAA4ADAAKAP//7f/q//H/7f/b/9f/3P/X/9j/4P/q/+v/7P/0/+//5f/k/+n/4//f/+z/9//1//f/BAAIAAcAAwAFAA0AHAAoACcAJQAjABgAFQAJAP//+v/5//7/+P8AAAkABAD9/wAABAD3//L/AAD+//z//f/3/+j/6/8AAAAABgATAAwACwAUABQAFQAUABwAIQAhACYAJQAnACoAKwAyAC0AIgAhACEAIQAXABEAHQAVAAAA+P/v//P/8P/o/+f/4//i/+D/7f/3//j/9P/n//L/8f/v/+r/1P/b/+T/4P/X/9v/6P/v//f/+f/z//X/9//8/wcABwALAAsA///7/wMA/P/5/wEA//8DAAkABgAAAAAA/f8DAAgABAAJAAUA9//4/woAFwAaABIADAARABkADgAJAAsAAAAAAP7/+f/7//3/AwAEAAMAAAD8//z//v8BAPj/7//3//j/+P/3/+7/8v/0//T/8f/x//j/9f/0//T/+P/x/+D/6P/w/+n/8v/u/+3///8EAAkAGwAhACMAJgAmACUAKAAoABoAHAAZABQACgD+//3/+f/t//L/AgAIAAEAAAD8/+7/+P/7//r/AwD3//n//v/0//T/+P8CAAgAAgAAAAAAAAD+//z//f/8/wAACQANAAsACAAQAAoA/f///wEA8f/n/+z/7P/y//v/+v/6//7/9//s/+//8P/r/+L/5f/m/+P/7v/4//X/8//4//T//P8AAAAABgAOAAcABwASAAkACwAQAAgABAAOAA8AFAAXAAgAAgAHAAUAAAD8//3/CgARAA4ABAD9//7/CAAUABEAEAAQABEAGwAcABYADQARABYAEQANAAwAEQAPAAcACAAAAPb//P/5//3/BQD5/+z/5v/j/+L/5f/n/+f/5//o/+D/2//m//H/+P/5//3/+//2//H/8v/x//L/BAALAAMABQAOAAoABwAMABcAGQAcAB4AFAAWABgAFQAaAB8AFwAKAAQACgANAAwAAwD3//r//f/7//P/7v/z//f///8LAAwACAAIAAEA+v/3//D/9P/8//z/+f/v//X/+//s//D/+f/5/wAAAgALAA0AAAAAAAMAAAAEAPz/+f/9//v/AgAIAAQACAACAPf/+v/+/wIABgALAA8AFAAVAAwA///y//f//P/1//T/9v/8////BAAAAPT/+f/9/wQADwAHAAUADAAMABMAHQAcAAUAAQAKAAYAAgD7//X/8f/r//f/AADt/+P/4f/Z/9z/4P/b/+L/9v8AAAAA/f8AAAUAAQDx/+z/9P/r/+L/7v/w/+v/9v/8//b/9f/8/wkAHQApACoAIgAhACYAHQAGAAAACAANAAkACgATABkAFAARABoAGAAZABcAFAAVABIADQAQABEAAwD8//z//P/7//X/9v/5//j/9f/z/wEABwAFAA4AAQD//wUA9v/2//z//P8AAPb/7P/2/+7/4P/q//T/8f/s/+v/7//1//f/8//2/wAA/f/1//P/+v8HABQADAD7/wQAEgAPAAkADAAVABEAEAAUAAwACAD9/+3/9P8BAAIA8P/v/wAAAAAEAP//+f8BAP7//f/6//z/BwAFAP3/+P/0//j/8f/s//D/8f/5/wAA+P/v//j/BAANAAwAEgANAAUAAwAHAAgACwANAAMACQAMAA0ACgAIABEAFAAHAAAAAwAAAPj/+f/8/+//8f8CAAYACwAQAA0ADAAIAAMAAAAGAAAAAAAOAAEA9//8/wAACQALAAMA///8//z//P/7//H/9v/2/+v/8f8BAP3/8v/3/wAA+//5/wIACwARAAMAAAAFAAMACAAKAP7////+//v/BwAAAP3/BgAGAP3/+P8CAAAA+v8AAPz/AAAAAPj//f/0//H/9v/5//D/5v/v//T/9P/v/+r/7v/9/wAAAQAHAAsAEwAdAB0AGQAYABQAHQAgABEACQAEAAoADQAAAPj/8v/y/wAA/P/t//D/9f/x/+X/3v/k/+L/3//e/9n/4v/1//v/AgABAPz/CQAUABAAGAAbAAYAAgANAAUACQAYAB0AIgArACcAGgAZABoAIQAfABYAFAARABQADwABAAMACAAAAPn/9v/t/+r/9P/z//D/7//w/+7/6//s/+v/7//w//P/7P/n//L/8f/t//n/+f/v//P/8//7/wAA9//1/wQAEwATAA4ACQALAAoABwAFAAMABAADAP///f8CAAYACAAKABAADQAAAPL/6//m/+r/8v/2//v///8AAAAAAAADAAAADAAeAB8AEgAIAAsADQAFAAMAAAD7////CwAJAAUAFwAhACIAHgASAAAA+P/4/wUACgAAAAAAAAD4//L//f8AAAEAAwAEAPz/+f/y/+v/+v///wcADAADAAUAEgAEAO3/7//4//X/9v8AAAMABAAAAAEABAAEAAAA+f/5//X/9//8//z/+P/4//f/9P/y//D/+//4/+n/6v/s/+f/8f/z/+//8P/x//v/BQD7//D/9P/0//7////9/wkAEgALAAMA9//2/wsAFQALAAMAAAAHAA0ADQAXABMAEgAWAAMA+f8AAP///v8IABAACwAKAAoABgANAAIA+P/+/////P/8/wAABQAAAPr///8NABMADAAZABoACgAJAAUABgAMAAwADAARAA8AAQD9/wsAEAAHAPr/6//2//3/+P/z/+7/6v/l/+L/5//v/+//8/////T/4v/w//b/7v/x//j/AAAAAAAAAAD9//z//P/3//v/+f/z//X/8f/s/+//8P/n/+3/8//v//D/8f/5/wAA/f/8/wAACQALAAQACQANAAsAEQAVABcAHAAhACEAJwAtAB0AGwAmACoAKQAtACsAIgAZABQADwAHAAkADQAHAPr/+P/7//n/+/8BAAMABAD+//7/9v/u//P/9P/0//f/BAADAPf/+f/1//j/BgAGAAAA/f/4//j/7v/o//H/7P/d/9//8//6//H/7P/r/+f/5P/t/+n/6f/0//D/5//t//v//f/v/+L/3//k/+D/2v/n/+z/7f/3//j//P8EAAMABQANAPv/+P8HAAgAAgD8//z/AAAOABcAJQAqAB8AFwAfAB8AGAAhACEAHgAcAB8AHwAWABIAEAANAA8AEQAMAAwABwAEAAkADwAXAAwABgAJAP3/AwARAAcAEAARAAYACwAKAAQABgAMAAgAAAAAAAAAAQAEAPv/7f/w//b/8v/5//b/6P/s//f//P/9//r/+P/3/+b/5f/4//f/9f/4//L/8f8AAAMA/v8LAAIA+P8HAAkADQASAAsAAQD9/wMACgAAAAAAAADy/+b/4//q//L/9v/9/wYACAAIAAQA+P/0////9//x//7////5//v//f8AAAAA+//+/wAA+v/4/wMADgAXABoAEQAMAAgAAwAAAAAAAAABAAkAEAANAAwABAD4//7/AAD7/wAABQACAAgAAgD8/wQAAwAAAA8ADQABAAAAAQAGAPj/7//0//P/+v/7//r/AgAGAAkABQD///L/6//4//z/9//0//T/8//2//n/9f/2/wYACADy/+f/5//n/+j/5v/t//v///8HAAwACQAMAAcAAwAGAAcAAAACAAQAAAAAAAAAAAABAAQACwASABkAIQAhACQAJgAhABkADgD+//b/9P/0//T/8//3//X/9//9//z/AwATABMAEAARAA4ABgAAAAcADAAIAP3/8//z/+3/7//5//H/9f8AAPz/AAAJAAwA///6/w8AEAD5//L//P/5//P/9P/n/+H/8P/r/+b/6f/g/+j/9P/r//H/+P/5//7/AQAJAAsAAAD1//T/9P/0//j/8f/0/wYABQAJABsAFwAQABkAGAAQAAsADgAZAB8AGgAdACkAJAAVABUAGAAVAAwA+//y//n/+f/p/+b/6//v//X/AgANAAUABgAKABAACQD8/wMACAANABUAEwAJAAIA//8DAP3/8v8BAAUA9//1//3/AAAAAAAA9f/r/+//6v/i/+j/5v/Z/9H/2//l/93/3v/o/+P/4//r//X/CgAQAAwACwAHAAkABQADAAsACQAAAAAAAAAAAAUAAQABAAUAAwAHAA8AHQAlACAAEAAAAP3/BQAEAPn/+P/0//D/9P/0/+7/7v///wYADAAaACEAIgAOAAMAEwAdAB4AIQAYABcAFwARAAsA+f/0/wUAEgAOAP//+P8AAAAAAAD9//j//P8AAPz/9v/s/+X/4//j/+H/2v/l//T/9P/1//7/+P/t//T//f8GAAgACwAJAPv/+f/8/wMABwADABEAEQAJABUACQAAAAgABwD9/wAAFAAXAAkACwAGAPz/BwARAA8ABwAKABIADAAHAAsADQAJAAAAAAAEAP///f8BAP7//P/6//X/9P/0//P/9f/4//r/CQASAA0AEAAcACAAIgARAAgAEQADAO//7f/u/+r/7//w//D/8P/0//T/9P/6/wMAAADu/+D/4//8/xAABAD3//L/4//g/+P/1//X/+//+/8DAAQAAAAKABcAHgAbABcAEAAGAAAAAwAAAPz//P/y//H/8//r/+X/7f/z//f//P/4//z//P/9/wEABQABAAEACgAQAA0ADAAMAAMABQAHAAMABwASABMADAAQABgAGQAYABUAGwAcAA4AEwAbABUAFQAUAAwADQARAAoACgAKAP3/AwALAPr/+/8EAPv/8P/1//H/5//e/9j/5v/2/wAA+f/m/+7/+P/0//v/+//z/+n/5//h/9b/2//j/+//+P/y//f/9P/t//z/CAAEAAAAAAAKAAoAAwABAPb/9f8DAA0ACwARABgAFAARABsADQANABoAFQAVAAoABwAVAAoABQAMAAAA/f/6//r/+//w//D/8//5//v/8v/x//7//f/y//H/AQAFAPz/9P/v//H/8//u//X/BgATABYAEAARAAsA/P8DABUADwAIABIAEQABAAIADAARAA8AAADx//L/+//9//r/9P/6/wcAAADv//b//P///w4AGQAUAA8AFwAdABkAFQAUABUAEwAIAAEAAgADAPn/+P/8//3/9v/x//r//f8DAAAA+f8GAAYA+f/7//j/7f/h/9//5//u//D/7//2/wIAAQD7//n/9//8/wcACAAIAAkABQABAPX/9P8FAAEA9v/z//X/8f/y//T/9//5//j/+P/4//f/8//9//7/8//8/wcABQAAAAAA+v/6/wAA/P8IABYACQAAAAMABwARABQACwAPABUACwALABYABgD3/wcAEAAMAAcAAgD///v///8CAAcABQD6/+//8f/+/wUACgAUABEABgABAP3///8AAPz//v8EAP//AgADAAgADAD5//L/AAAHAAkABgAAAAUAAADs/+3//f/1//v/BAD8//P/7//p/+n/7f/1//b/9f8DAAgACAAEAAQACgAKAAsAFQANAAAABgAJAAAA/P/2/+j/6v/x/+7/9/8CAAQAAAAAAAAAAQAJAAcACgALAAQABgAJAAQACAAMABIAGgAdAA0ADQAUAAAA/v8IAAAA/P/8////EQARAAAA+v/z/+j/7v/t/+b/6f/w/+7/5f/r//H/7f/r/+n/4//j/+P/7f/7/wEABgAIAAYAAAAGAAkABAAIAAIA9//6//3/BQATABMADQAJAAsAEQAZAB8AIQAcACEAKQAsACwAIgAeABwAEAABAAAA9//x//z/9v/l/+b/6//z//3//P/8//f/+/8CAAMA9f/u//D/8/8AAAgADAAGAAQAAQD4//v//P8BABAADAAIAAgAAwAGAAYA+P/n//L//v/t/+//+P/z//T/9P/9//7/8v/s/+7/9/8AAAAA9//v//L/AwAMAAIA//8GAAYA/f/0//n/AAAAAPr/+f///wIACAACAPz/BAADAAAABAAEAAEA+f/6/wAAAgALABQAFQAPAA0AEgAVABQAFQAUABUAFAAVABAAAwAAAAUAAAD7//3//P/9//n/+P/8//P/8f8EAAYA/f/+/wIABAABAP3/+P/0//T/7v/m//H/+f/2//H/8v/7/wAAAADy/+f/7v/0/+3/7f/z//T/9P/0//T/8P/1//n///8GAAAABgAWABwAIQAhABgAFQAZABMAGQAbAA4ADQAJAA4AFQAQAA0AEQAVAAsAAwABAPX/+f8DAAAAAAAAAPv/+P/v/+X/7P/z//T/9P/0//T/+P/9//v/+P8AAP3/9P/m/+T/7//s/+v/8f/z//f/+//x//3/CQACAPz/AAAEAAgADQAFAAAACAAMAAIAAAAAAP3/+P/9/wQABAACAAIADAAKAAUABgAMAAwAEQAQABIAGgAgACgAIgAiABgADQAIAAAABAAJAA0AEgALAAAABAAMAAkAAAAAAAkACwACAAAA///8//z//P/5//j/8f/r/+3/9f///wYABgD5//v/+f/4//T/6//n/+L/3v/o//L/9v/3/+v/4P/X/9r/2//V/9//7f/q//L/CQAYABkAHAAWABAAEQAPAAwACwAFAAkAFgAKAAoAEQADAAUADAAIAA4ABgAAAA0ADwAIAAkAAAABAAcA+f/0//r//f/6//T/9//5/+z/5//2//z/+f8FAAUA/f/8////AAD8//3/AAALABcAEAAFAAQAAgD6//f//P/4//7/AwD7////BwARABcACQABAA8AGAAZAA8ADgAbABQACAD///3/CgAKAAMACQD+//r/+v/0//j/7v/t//H/6//3//z/9P/5//z//v8AAAEABQD+//z//f/0//n/8v/t//b/+/8EAA0AFAASAAwACQAHAAkAAQD9/wAA+P/y/+r/6//7/wAA+f/8//3/AQAAAOn/5f/3//7/+/8AAAAA/f/2//D/9//9//r/9//+/wQABAD9/wAADQAEAPv/9P/x/wIABwAAAAoAEAAMAAwACAAPABUADAAGAAEAAAADAAgACAAJAAwABgD9//b/8//3//T/6P/u//z/AAAEAAIA+v/6/wUABwD+/wMAGAANAPz//P/9/wgAEgAMAAYACwAMABAAFAAdACUAFgAFAAcADAACAPT/7v/5/wMAAAAAAAAAAQAJAAYADQAOAAAAAAD9/wAACAADAPv//v/9/+T/5v/4//f//P8AAP3//P/4//L/8P/6/wEAAAAAAP3/9f/z//3/AAACAA8ABAD8/wIA+v/4//z//f8AAAAABAALABgAFgAYACAAEwATAB0AGQAVABMABAAAAP7/8f/m/9//5f/w/+//7P/w//b//v8CAAMA/f/8//z/AAADAA0ACgD6/wAAEgAcABsAFAAJAAsACQAAAP3/AAAAAAIACQD7/+3/6f/j/+r/9P/0//T/8//2/wEACAD7/+r/6f/0//f/+f/3//X/+f8AAAUAAwAEAAEAAAAEAAcABAD///f/+f/2//b/BQAGAAAABwAQAAsAAgABABQAHAANABQAFgABAAMAAADz//D/7//y//L/7//u/+r/8v/1/+v/8P/v//f/AQAHAAMA+P/7//r/8////wQA/P8BAAQABAADAAUA/f/1/wIACwAFAP//9//1//3/6//s//f/6v/m/+j/4//f/+T/5//i/+b/7f/n/+7//v8NABkAEAASAB8AIQAiAB4AGQAkACAAFgAUABUAFAALAAgACAAIAAgABQAFABIAGQAZABkAHQAcABkAHgARAA0AEgAKAAgABQD4/+//6v/o//P/8v/v/+7/6v/5/wQAAwAIAAEA/v8FAPr/8v/5/wAAAAAAAAAABAADAAAA///z//P//f8GAAYAAAAAAAQAAwAAAAYABwAAAPn/+v8BAAgA/v/4//3/8f/y//j/8P/q//H/9//5//T/+P/8/+//+P8AAPz/BAD/////EgAPAAcAEQAYABQADwAKAAAA/P/9//f/6f/j/+P/1f/P/97/5P/r//X/+////wYAFAANAAAABQAHAAQAAgAAAP//+v8JAA0ACAAVAA8ADgAWABQAFAAKAAoAEAAQABAABAAJABAAAAAAAAIA+f8GABEAEAARAAQAAAAJAAcACgAVABgADwAIAA4AEgAHAAUACwACAPr/AAAKAAQACAAOAAQABAAHAPz/9//6//v/9//x/wAADgACAPz/AAD8//3/+f/m/+X/5v/f/9H/zf/S/9L/2//k/+b/4v/c/97/5v/q/+z/6//7/wQA9v/8/wMAAQANABMAEwAKAAQACwANAAIABgALAAIABQADAAgAEwAPAAAADAAdAB0AKAAnACIANAA4ACgAIgAeABUAFAAUAAoACQALAAcACgD///D/9//5//j//f/w/+L/7P/4////AgAEAAYAEAAMAAMABAADAAQAAwAGAAUA9f/l/+L/5//v//D/9f/+//f/7f/1//P/3P/g//P/7P/m/+j/7f/4//P/6f/v/+3/5//q//z/BAD1//H/+/8CAAQABAADAAcADAAQABQAFQAUABwAHwAVABkAJAAjAB0AHQAZABkAHAALAAQACQAIAAoAEwAMAPz/BAAHAPv///8EAAMABQAOAA0A+//w//P/+P/y/+v/8f/r/9//4f/m/+j/4//n//D/+f/3//X////2/+3/9v/5//j/8f/r//X/+P///wUAAgD///j//v/+//j/+P/4//3/AAAFAAgACQAOAAYABgAWAB4AEwAIAAcABAAMAA8AAAAAAAwAAwDx/+f/7P/q/+j/8//7//z///8CAA0AFQAMAAQAEwAcAAoABAALAAoABQABAPz/AwANABAADAAaACEAGwASAAkAFAARAAkACwAcACQAFQAQAA4AAwAMABAAAQD9//j/8//l/+b/6v/g/9//3//h/+3/7f/f/9v/4P/p//L/+//7//b/AQAWABYACQAIAAMA+v/5//3/BAATABIAFQAkACIAGQAUAAsACAANAAIA+f/0/+b/5f/s/+P/5P/s//f/AADy//P/+f/3//v/AAAAAP3/9//0//L/8P/t/+3/8//3//j/9P/v/+z/6//y//H/7P/x/+7/9v/2/+//+P/8/wEAAwAAAAkACAD5//v///8HAAwABAAAAAoAAwD1////BQACAAoAEwAVABAADAAHAAUADwANAAQABgAMAAMAAQAVABwAGgAdABcAHwAwACcAKQAkABYAEAAVACIAJwApACIAGQASAA0ADAANAAgABAAEAP//9//x/+j/6f/t/+L/2v/b/97/6P/m/+L/5P/p/+z/6v/y//H/9v/5/+//6//n/+3/6v/m/+r/6//u//D/9/8EAP//+P/x/+7/BgAKAAoACwAAAAcABAD8//z/9/8AAAsADQAJAAwAGAAZABkAJQAmACUAHwAWABUAEgAOAAUACgARAAcAAAAAAAcAFAASABQAHQAaABkAHAAZABQAEAAKAAIABgAIAAoACwD+//z/+P/0//j/8v/x//P/7v/2/wEA9//v//D/7//r/+z/6v/f/9r/2f/R/8z/2P/b/9r/5P/m/97/6P/x/+//7v/q//X/AAADAAgAAgD9/wgACwAIABUAFwAQABcAGgAPAA0ADwANABIADQAQABoAEgATABkAGAAUAAQA/f8IAAoA//8LACEAGAAMABUADwD6//j/8f/0/wAA9P/s/+7/9/8DAAQA///3//P/9////wQADgARAAYA+P/4//z/AgAIAAMABQAAAPv/AAAAAAAAAAD3/+//8f/1//v/AgD1/+D/3//i/+f/5//t//r/AQD9//j/AgD///7/BAAAAAkABgD3/wAACgAOABIACwAJABsAGgAMAA0ABQD7//z/8f/g/+P/8f/4//j/+P8AAAIA7//o//L/6//z//f/7//6/wQAAAAAAAAAAgAKAAwACwAEAAkAEQAMAAwACwADAAwAFwAZABcAEgAMABMAEgAMABUACQD1//f//f///woACwD///v/AAD8/wAA+f/p/+//9f/z//f/9f/2//3/+P8LABgADwAMABUADgAGAA0AGwAhABoADwAJAAYABgAMAAIA9v/2//z//f/8//j/+P/+/wAA+////wAABAAMAAwACAAIAAIA9//z/+3/5P/x//j/7//w/+v/7P/r/+f/6f/0/wAACAAQABAADgAEAAAACAAIAAgABwALABEABgAAAPL/7//7//j/7//r/+X/5f/x//P/7P/r/+v/6//z//3/+//4//f/8v/r/+P/5//5/wMADAAQAAcACQAMAAwACwAFAAYADwARABQAHQAcAA4ADgAXABoAEwAEAAkAFAAZABUAEAAQABEAGAAgACEAIgAeAB0AGgAMAAwAEAAFAAAA+f/8/wIA+v/6/wMABAD9//f/7//y/wAA+v/m/+f/9f8AAPn/8//5//z//P/2/+v/5//l/+L/4//j/9//0f/O/9P/0P/Q/9z/2//R/9z/5v/o/+//9f/z//X/+f8AAAkAEAARAA0AEwAVAA8AEgAaABcAFAAhACUAGwAVABgAGQAYAB4AGQAIAAIAAAAOABkAGAAdAB0AIQAiACEAIgAcABIAFgAPAAsADQAAAAAABAD///X/9v/2//X/+f/1//D/8//s/+P/6f/r/+b/6f/t//j//v/7/wMA/f/r//v/AwAAAAAAAAD9/+z/4//j/+P/3//a/+L/7f/p/+j/7v/y//f//P/1/+v/7P/x/wEADgAKAAcACwAPABEADAARABQAFgAdABgAIwAqAB8AHQAdAB0AIQAVABAAFgAYABIACQALAAoAAgD5//T/7P/r//L/+f////7//v8DAAUA+//3/wQACAAAAAAA9//w//b//v8MAAYAAAAAAAAAAAABABIAFgAFAAkACgAHAAkABAAAAAAA/v/r//H////q/9n/4v/g/9v/5//s/+v/8/8FAAwABAAIABMAGAAdABkAGQAZABMACgAIAAkAEAAMAAMABAD9//T/8P/1//H/7P/y/+r/6P/1//z//P/8//f/9P/0//P/7v/1//f/8P/z//T/9P/w//D/9f/4//n/AAD8//X/7v/q//T//f8JAAYA+f/8/wgABwALAA0ACQALAA0ABwAAAAAA+v/5/wAABgD8//b/AgAMABkAEgACAA8AGgAbACgAKAAiACUAJgAlACoAHQAWACAAFwAOABcAFAAMABAAFAAVABUAGQASABEADgALABAADgAFAPj/+P/7/+z/6P/j/9T/1P/X/9b/0//Z/+T/4v/a/93/5//t/+b/5P/u//P/+P/9/wAA/P/9//v/9//6//3/+f/4//j/9P/+/wMA+///////+//9//n/+/8DAAQA/P/+/w8ADgAGAAsADgAVAA4ADwAZABUACwAEAAkADQAJAAAAAAD9////BAD8//7/AwAAAAwAEQASABgAFwAKAAcAEAAQABAABQAAAAYABwAAAPn/+P/4//T/9P/0/+r/9f/6//P//v////j//P/5//D/8P/v/+r/7v/3//f/7v/o/+r/8/8AAAAABAD9//T/BAAOAAcAAAD9//v/BwAIAAAABgAOABEADwAJAAoAEAARAAUAAAAJAAsA/P/z//T/8v/r//T/AAAHAAwAFQAOAAkAEQAJAAgACQACAAUACgAAAPn//P8BAP7/9f/u//P/7//q//P/+P/0//T/+P/5//3/+v/6//7/9v/v//7/AQD7//P/7//4//z/8//w//v/+v/0//z/CAAIAAgACAAHAAoACwAEAAkAFAARAAwACwADAAUACAAJAAwAAQAFAAkAAAAAAAQABAAQABMACAALAAoABwAPABUAFAAVABkAGAATABAAEgAYABcAEQAUABEACAANAAUAAAD///r/9f/2//n/9/8AAAAA8//w//T/7P/n/+b/4P/h/+r/6P/b/+P/7P/l/+X/5P/d/+D/2//d/+f/5//o//X/9//1/wAA/v8AAAkAAQACAAEA9//5/wEACwAQAAkADAAUABQAFQAUABUAEAARAAkABQAIAAkADwAWAB0AGQAZAB0AGAAaAB4AGwAPAA0AEgAHAAMACAAMABEAEAASABMACQAJAAUAAwAIAAEA/P/0//T/8//u//T/9//w//X//f/y/+v/7P/m/+r/9f/x/+f/7f/9/wYACQAEAP3/AAAEAAQAAwD9/wAACgAQAAoAAAD9/wAACQAMAAsABAD//wMA///+/wgAAAD4//L/7P/x//T/6P/Z/+P/7P/k/9//0v/S/9f/1v/Y/9v/2//p//v/+v/w//D/+f8BAA8AFgAaABUAGgAeABkAGAAhACkAJgAlAB8AFAASABcAHgApACcAHQAdACYAKQAjABMACwANAAwACgABAPH/7//5//H/6//r/+z/6//t//j/BwAFAAAA+P/5/wEABQAJAAcACQAFAAEA/P8DAAgAAwADAPb/6f/s/+D/6f/1/+//+P/8//j/+P/4//j/+P/6//v/7//n/+v/9P/9//z/+P/5//b/8//0//H/7//3//z//P8AAAUACQAGAAQADQAEAAEADAAMAAQA8f/t//z/BgAAAP3/BQAMAAwADAAIAAMAAAD8//3/+v/u/+v/7P/o/+7/+f/3//T/8//w//f/9f/q/+b/8/8DAAQA/P8BAA0ACwAFAAYAEgAYABYAFAAZACEAHAAPAA0AEgANAA8ADAADAAcACAAMAAwADAASABUAFAAWABwAHQAhABoAGAAhABwAHgAgABUAGAAfABgADgAMAAkAAAAAAAMA9P/5/wgABAD5/+3/6//y/wAAAAD8//D/5//u/+X/3P/o/+r/3P/T/9b/4P/i/93/2//i/+D/4f/k/+X/8P/z//D/9P/6/wEA/P/5/wAA/f///wAA+P/4//3//P/8//z//P/8//z///8DAAgACAD///P//f8FAAUADAAJAAcADAAJAAMABAD+//f/8v/v//H//v8KAP7/9P8AABIAEgAHABAAFQAVACEAJQAXAA0ADAAIAA0AFQANAAcACAAIAAgABQADAAgAAwD8/wEA/v/v/+3/8v/2//v/AAAAAAAA9//0//n//v8AAPb/6f/p/+//7//8/wQAAAAIABEACQALABYAGQAWABEADQAMAAcA//8CAAsACwAHAAkAAgD5/wIADQAGAAAABQAIAP//9f8AAAUA/v/0//j/AAAAAPv/9v/z//f/AQAEAAYADAAIAAAAAAAAAAAA+P/s/+3/9f/8//z/8f/v//r/+//5///////5//f//v8EAAMADAAUAAoA///8////CQANAAYAAAADAAwAEAAWABEAAAD3/wUADAABAAAAAwAEABAADwAHAAcA/f///////P/9////BAAAAP3/BAD+//n//v/7//7/9P/r//P/+P/r/+j/8P/i/+T/+P///wIACgAQAAkAAAAAAP////8MAAoABwAIAAcACQAAAPT/5v/k/+3/8P/u/+r/8P/6/wAAAAD8//3/AAD8/wQADQALAAEA9f/0//D/6//w/+//7P/+/wgA9//u//D/9P8GAAgAAAD8/wIADwAXABkAGgAhAB8AHAAeABwAGgAjADIANQAqACUAJQAVAA8AGAAZABQAEAARABUAEgAHAAEA/f///wEA9P/w/+//7P/q/+f/5v/e/9v/5v/k/+r//P/y/+3/+v/u/+f/5v/h/+7/AAD6/+z/7//w//v/BwALAPv/9P/6//T/9/8AAAAAAAD7//L/+P/7/+3/8P/z/+T/6v/0//T/AgABAP3/CAADAAIAEwAVABUAHAAZAA4ACAAAAP//EQARAAMA+f/7/wcABAD///7/CwAJAPn///8FAAUAEwAVABAABwD2//z/BAD8//r/CQAKAAMADwAZABQAGgAXAA8AEQAOAAgA/f8EABAADAADAAAAAAABAAsACADz/+j/9f/8//n//P8AAPv//v/4/+7/8v/2//7/AQD1//D/9P/5/wEA///8//v/9v8AAAwAAgDw//D/8//2//3/9f/3/wEAAgD5//j/+P/0//3/BAADAP//+/8AAAgABQAAAAMACAADABAAHQAQAA4AEAAIABAAGgARABUAIQAdABwAEAD/////CQAQAA4ACQD+//P/9P/u/+b/6f/s/+v/7v/w/+z/7P/j/+T/5v/d/9z/7P8AAPr/6f/t//v/+f/0//n//P/9//r/+/8GAAgACAAIAAQAAAAJABEAFwAdAAwACwAYABQACwARAAwABAD//wMADQANABEAEAAPAAIA/f/4//T/AgAHAPz/8v/5/wgACwD///X/8P/0/+7/5//t//D/7v/s//T/8P/y//z/+P/4/wIADwAVAAwABAD8/wEADAACAPv/BQABAOv/6v/7/wEA/f////7/+/8AAAcABAAAAAEABgAHAAIACgAOAAEAAwAEAAAAAQAEAAQADAAQAAMA//8EAAAABAAMAAMABgAVABkAFwAQAAgACAALABUAAgD5/wYAAAD8//z//P/+/wwAFgAUABYAEwAHAPz/8//+/wkA///v//b//P/s/+f/8f/t/+//+v/1//X/7v/n/+7/+P/4////CAABAPv//v/3//P/9f/t/+f/7P/v/+z/8v/8/wEA/f8AAAgACAAEAAcACAD///z/+//1//b/+P/6/wAA/f/0//7/DQALAAcACAD+//b//v8GAAwABQD7//T/+v8CAAMABgAHAAAABgAMABAAFAAVABMAEgATAAoADwAPAAUABwAFAAMACQAHABAAEgACAAEABAADAAQAAAAHABEABgAMABsAFQAHAA8AFgAXAB0AFQAMABEADwAGAAQABAACAPv/9//8/wAAAAAAAAUACAAAAPz/+v/4//X/9P/t/+f/6P/s//b/8f/y//H/5v/g/+H/5P/i/+T/6//r/9//3f/v//X/8f/t/+j/5//w//j/8//8/wUAAQAAAPr/6f/t//j/8P/n/+j/8f/1/wAAAQD4//v/+v/3/wsAGQAUABYAGAASABEAGgAcABAA/v8CAA0ABwAKABIAFQASAAMA9//+/wMABAAEAA0AEAARAA8ADQAUABMACwAEAP7/+//9//v//v8AAAEABQAAAPv/AAAAAAMACAAIAA4AFwAmACcAHgAbABMADwAYABkAGgAhABwAHgAZAAcA+v/3//n/8P/w//j/+P/5//7/AAD4//P/9//8//z/AAD8//j/9//t/+X/4f/b/9L/2v/k/9P/yv/N/9D/4//s/+L/1v/d/+3/8//0//j/AAADAPr/8//8/wEACQANAAsAEAAQABUADgD//wIACQAGAAAA+f/6/wYABQAAAAkACwAOABcAGgAVAAoABwAOABgAHQAhACEAHAAYABMADwAHAAUACgAAAAAACAAIAA0AEAAJAAEAAAABAA0AGAAgACYAJQAbAAwA+//6//v/8//m/9//3//n/+v/4v/k/+r/8//y/+3/6//u//T/+P/9/wAA+//x//H/9f/y/+7/9v/5/+3/3v/l//D/6v/w/wEA+f/3/wQA+P/r//z/CAAEAAMAAAAAAAAABQAHAP3//f/8//n/AAAFAAkADQAKAAgACgAQAAoA/f/4//n/AQAKAAsABgADAAcACAAOABwAJQAmAB8ADAAEAAoABQAGAAYAAgATABkAEAARAA8ADQASAA0ADQAEAP7/CwAMABEAFAAPAAsABQD9////AAAFAA0AAQD8/wEACAAHAPz//P8KAAwACgD///v/EAAUAAwAEAADAP3/AQD7//T/9v/8//j/8P/0/+3/5v/f/9v/4//g/9z/1v/e/+f/3f/S/9n/3//e/9//3//c/93/4P/a/+X/9f/z//f/BAAKAA4ABAD5//v/AwAIAPr/8P/8/wcADwAPAAgACwANAAQABAANABEADwADAPr/AgAOABQADAAAAAQA//8CAAwAAAD9/wQACwAPABMAHAAhACYAKQAaABUAGwAdAB0AGwAVABUAGAAaABcAEAARABkAJQAiABQADQAMABAAEAAMAAwAAADx//D/7f/r/+z/5f/i/+f/5//o//D/5//f/+b/6P/0//f/6P/v//z/8//w//X/8////wAA7f/w/wEAAQD7/wEADQAKAAEA///5//r//v/1//r/CAALAAMABAADAAAAAgAFAAEAAAAAAAMABAAAAAAA+////wgADwATABUAFAARAAgABAD///3/9//n//X//f/r/+b/6//r//D/9P/6/wEA///6//f//f8HAAgAEAAMAAAADAATAAkACQAEAPr/+v8AAPz//f8AAAEACgASAAwACwAVABIACgALABUADwADAAUACQAFAPz/9P/5/wAA/f/8/wAAAAD///X/7//v/+j/6v/s/+v/7//s//H//v8AAAAA+f/8/wYABgD+//T//P8EAP///f8AAPf/9/8BAAcABQAAAAAAAAD8//7/AAD7//X/+P/+//b/8P/w//D//v8IAAkADQAIAAIACQAQAA0ADwAVABMADAAMAAwADQATABcAFwATAB0AIQAZABkAHQAVAAoAEQAGAPP/+//9//j//f8AAAAA+v/5//T/8f/1//D/7//z//D/6//s//D/7v/q/+7/8P/y//T/8//0//3/BAD///z/+//1//b/9v/z//v/BwAEAAAACwAXABkAGgAfABcAEQANABAAGQAUABAACgABAAEAAwD6//r/AwABAPj/+f8AAAAABgAFAP7/BQAJAAQABwAIAAQA///w/+b/6P/j/93/4//d/93/4P/V/9T/4P/p/+v/6//h/+L/8f/1//D/5P/j//f/8P/v//D/5f/6/wEAAQAQABQAFgAeACgAJwAgACMAKgA3AD0AKQAdACIAJQAgABcAHgAmAB0AIgAnAB4AGQAQAAwADAANAAoA///x/+n/8v/0//f/AAAMABYADAD+//3/AQD7//n/BQAJAP3/+P/3/+//7//p/97/2v/d/+P/3//m/+j/3v/m/+v/5//m/+H/6f/p/+j///8AAPj/8//1//H/7P/8/wAAAgABAPz//f8AAPv/7f/u//b/+v///wAAAAAEAAAAAAAIABMAFwAIAAoADAAPABEAEwAcAB0AGQAZAB4AIQAXAAQAAAANABUADQATAB4AFwAXAB4AHgAkACIAFAAMAA8AFAAZABkAEwAJAP3/9f/2//f/8P/w/+//8P/4//3//P8CAPv/8v/1//P/9P/0//T/7//s/+r/4P/Y/9b/1P/T/93/5v/s//P/5v/k//P/8v/x//X/8f/w/+z/7//w//X/CgALAAgACAAHAAoADQAGAP3//P8EAAgABwADAAYABAD0//z/BAADAAwADAARABMAAwAAAP3/+P8HAA8AAQADABAADAANAAoAAwAOABYAEQARAA0AEwAZAAsAAwD///z//P/+/wAAAAADAAQABAAIAAcA+v/6//z////9//P//f8EAAMADAAMAAwACwABAAEA+v/v//X/BQAFAAAAAAADAP///v8KABQAEwANAAYA/f/8/wAACQAMAAYA/v/9//v/AQAIAAgACAAAAPz/AgAIAAoACwAFAAAA8v/v//T/5//j/9z/xv/Q/93/4f/i/9r/4f/u/wMADAACAAAA+P/3/wMA9v/v////+v/w/+v/8f/9//b//v8OAA8ABwAAAAYACQAAAAkAEAALAA4AEQAaABkAEAAXACEAHgAUABEAFgAhACUAHgAhACoAIQAVABUAGQAZABkAFwAMAAAABgAPAAMA9v/v//D/+f8FAAcAAADy//H/9//7//3/8f/v//j/8v/l/97/4f/i/93/4v/j/+P/3//o//X/+f8DAAcA+v/9/wwABgD+//j//P/7//P/7//x//T/9P/x/+//8//4/+z/3//u//n/+P/6//3/+f/6//3/9f/w//T//f8AAAAA///7/wAAAwD2//P/+P/0//n/AQD4//H//f8AAAAAAgAHAA8AGQAdACMAKwAmACMALwAkABUAGAAVABQAGQAdABIAEwAaABUACQD+//z//P/8/wQAFgAXAAkAAwAHABAACgD6//7/AQD8//3/+//+/wAA+f/t/+P/5v/q//L//P/8/wEAAgD7/wgAGgARAAoAFgAaABgAGgASAAgACAAHAAAA+P/r/+T/3//e/+f/8f/5//b/7P/m/+n/4f/j/+//7//0//z/8v/q/+3/7v/i/+v/7//p//T/6//t//3/AAD6/wAADQAUABIADQAMABAAFAARAA8ABQD///r/+/8GAAYA+v/7//3//P8HAAsADwAVAAsACQASAB8AJgAhABQADAARABEADwANABIADQAJAAcADAAQAAcACQAMAAUA/f8AAAMA+f/+/wQA/P8AAP7/8//9/wUAAQD///b/9v/9//T/8P/4//L/+f8IAAcACQACAPz/AgAFAPf/+v////f/+v/7//b//P/6//T//v8BAPv/+v8BAAUAAQAAAP3/7v/q/+//9P/v/+H/3//e/9r/5v/q/+b/6P/j/+f/9P/z/+v/5f/l//D/+P8AAP7//P8DAAAACQAVAA8AGwAfABUAFwAaABIAEAAYAB4AIQAdABwAFQANAA4AEwAYABIADwAVAA4ACQAMAAYAAgD///b/9f8CAAgABAANABYAGgAXABMADQAOABIACQAEAAAAAAAFAA0AAwD7/wAACAACAP//BAAAAAAAAAD1/+//8P/6/wAA8//v//b/AAAAAPz/9v/u/+n/6v/0/+3/3//l/+j/3//j/+L/2P/Z/+P/6v/r/+7/9v8AAAAA+P/v//j/BADt/+P/7f/y//f/+P/4/wAADQAWABIADQASABAAEwAYABYAFAARABAAGwAbABQAFgARAAoAEwAVABUAFAAVAB0AFgAKABAAEwADAAAA/v/x/+v/7P/2/wwADwANAAYAAAALAAQA8f/z//T/9f8BAAMA/v/0/+3/7f/2//n/+P/8//z/+P8AAAgAAAD5//j/+f8JAAoAAAANABAADAAMAAwADgATABMACgAEAAAAAAAAAPj/AAAJAP7/+f/+//b/8P/w//D/9P/5//7/AAD5//3/CwAHAAAABwAIAAAA/P/4/////v/0//j/AAD7//D/7//w//T/7f/n/+7/+P///wIABAADAAcADAADAPz/+//y//f///////T/6v/2//z/+P/0/wQACwAAAAIAAQABAAUABgAJAP//9P/z//X/+f///wAAAgAFAAAACwAVABQADwAHAAoAFQAYABEAEAAUABUADAAIAA0AEAAKAAIACgASAA0ADAAJAAQADAARABAACgAIAAYAAwAFAAAAAAD9//T/9P/5//f/+v/6/+3/9P8IAPz/7//w/+f/6P/q/9j/zP/R/9X/7P/9//j//P/8//3/AAD//wUAFgALAAAABgANAAEA9P/r/+f/5//n/+f/6//1//7/BwAMAAwACAATABgADQAEAP7//P///wAAAAD8//j/AQAJAAYABQAJABMAHgAXABQAGQAYABUAGgAdABYAFQAQAAkABgD9/wYAGQAPAAMABgAVABYABAD///P/8f/8/wAA9//r/+z/6//s//X/8//i//D/9v/r//j//P/4//7/AAABAAgAEgAWAAsA/f8DAAwABgD+//b/9P/y/+7/9f/8////DAAQABEAGwAiABgADgAXABQACwAUABUACAAEAP//9//6////AAD+//T/5//v//j/9P/1///////5/+z/5//z/+7/4P/e/+j/8P/1//j/8f/w/+v/5v/r/+v/8P/r/97/4P/k/+H/3//q//n/AAADAAAABwAWABgAGgAWAA8AFAASABIAGQAVAAkADQAgAB4AEwAVABIAEAARABMAGQAYAB4AIQAdABYADwATABQACgAKAA0AAAD8//z//f8AAAAABgAJAAUABgAJAAQA/f/4////CgANAAsABwANABUACAD//wUA+/8EABMA+f/3//7/+f/7//r/9P/t/97/1v/L/8j/3P/U/8//4//o/+f/2f/B/9H/6f/f/9X/1v/Z/+f/8v/4//z/+f/v/+3/9v8GABMACwALABoAIQAaABgAHQAdACQAMQAwAC8AMwAvACsAJwAWAAwADAAMAAsABgACAP//9//1/wEAEgAaAAsACgAQAAsABQD+/wUACAALAAoA/P/5/wQAAgD6//n//f/7/wEABQD9/wAAAAD8//f/8//u/+j/3//h/+b/6//s/+f/7P/1//j/+P/3//L/+f/+//X/8/8AAAAA+//0//v/+P/s//b/9f/3//b/6//w//3//P/+/wAAAgAQABcADAADABMAGQAUAAsACAAWAB0AFAANABEAHAAaABUAGQAYABMAEAARABAADwAGAAYADAAIAAQABAACAPr/8f/x//b//f8DAAQA/f/8/wAA9//7/wYAAQADAAwABwD9//z//P/v/+j/8f/u/+3/8P/j/97/4v/n/+f/7P/0/+3/4f/m/+T/3P/l/+f/7v/w/+//+f/7//j//v8AAAoAFgAfACYAIgAhACYALwAyACQAFAAOAA4AFAASAAYAAwANAAcACwAPAAcAEgATAA8AFwAdABUAFQAdABEAAQD///H/7f/w//L/+P/4//T/6//n/+n/6//m/+z//v/8//f/+f/w/+P/3v/b/+L/7//w//r/+v/3////BAAEAAQAAwAFAAkABwD///H/8//x/+v/8P/w//v/CwALABAAFQAKAAYA/v/8/wAA/P/8/wEAAwABABEAGwASABMAGQAVABUAGAAPABMAEgAJAAUA9f/r/+//7P/w/wEACAAIAAkADwAPAAkABwAPABQAFQAQAAIA9P/r//P/8v/x//r/AAD+//T/8P/0//P/6f/o/+z/6v/x//X/8P/s//D/+f/9//v/9//6//7/AwAAAPT/+/8IAAMAAAAAAPv/AAAOAA4ADgAYABYAGAAiACAAGQAeABwAHgAXAAwAEAAUABkAIQAYABEAIQAkACEAIAAYAAwAAAAHAAwAAwD7//n/9f/u//H/6//m/+v/6//o/+//8P/q/+j/7f/n/+L/4v/a/+L/5//n/+v/4P/d/+n/5P/m//P/7P/i/+f/5//k//L/+P/6//z/AAAIAAUAAQD5/wAACAADAAQACgATABMADQAPABQAGQAVAAwABgD8/wMAEQAVABUAEgAQABQAFQAMAA0AFQAaAB4AGgAQABUAHQAaABEADAAMAAgADQAKAAkADAABAAcADwD6//v/BAD2//D/9v/4//r//f/4/+r/4//n/+f/4v/Z/97/6v/s//T//P/3//P/+P/8//T/7//w/+//8P/u/+j/6f/4/wEA+P/x//j/9//z//z/AAABAAwAEgAMAA0AEAAMAAwAEwAbAB4AJwAjABgAGgARAAUACAANABEADgAEAAUAAAD7/wUADQAEAAQADQARAA4ABwAIAAoAEAAOAAEAAAAAAPz//P/2/+z/5//x//b///8AAAAACAAMAAEA+f8DAAoADQAKAAMA8//r/+j/3v/l//H/7v/y//H/5//q/+//8P/z//z/+P/5//3/+//4/wMACQAHAAsAEAAVABAADAANAAsABwAHAP///P/8/wAABAADAPz/9//5//3/+/8AAAgABwAPABEACwAAAAEACQAIABEAFgAPAAgACAAMAAgA+////w8ADgAFAAIA/f////7/8f/w/+//6//r/+b/4v/p//X/7v/q//P/9P/z/+r/4//q//H/7f/r//D//v8DAAgADAANABUADQAJABYAFQARABoACwAAAPj/7P/6/wYABgD9//z//P/6//T/9P/3/wUABgD8/wgAFAARAAgACgAQAA4ABAAMABAABwACAAEADQATABEAAwD2//b//f/8/wEA9//s//n//f8FAAgACwANAAwAEAALAAEAAwAQAA4ADQAXABEAAAALABAAAgD7//j/+f/3//z/AwACAPb/8//w/+r/7f/v//H/9f/y//H/+//5//j/9P/w////AwD4/+z/7f/w/+3/6//s/+f/6P/5//z/+P8AAAIAAAAOACIAJwAdABkAFAARABUAEwAPABUAGgATAAYAAgAQABAADAAMAA4AGAAXABAAAwD8/wAAAAD0//T/8//w//f/9v/1/////v/8//3/9P/0//n/+//u/+b/9P/3//P/8v/n/+j/6v/j/+7/9P/1//n/+f8BAAoADQALAA0AFAAJAP//AgACAP7/+f/6/wYACQADAAkAAQD+/wUAAgAKABYADgAPABUAEAAQABAACgAJAA4AEwATAAoABAAEAAAA/P/9//v/+P/4//n/AQAHAAkABAAEAAcAAwD5//X/+f////7//P/6//f/AAD9//P/9v/8//X/7f/s/+v/8f/1/+n/4//s//D/8//n/+P/4v/p//f/+P/8//3/AAD8//7/EgAZABwAJAAZABAAFAAVABAAEQAaAB0AHgAiAB8AHQAfACkAJgAaAA8AEgAYAA0ABAD+//z//f/5//X/8//w//T/+f/w/+z/8v/0//T/9v8CAAEA/P8AAP///P/8//T/8P/8/wYACQAEAP3/9//v//j/AAD1//z/9//2//r/7f/n/+f/4//v//L/6f/v//n/AAD9/////f/3//7////9//r/8f/v//D/7//z//j/AwAIAAIAAAD//wMACQAIAAUABgAMABAADAACAPv/8v8AABAABAABAAsADQAIAAQABAAOABYAEQAEABEADwAAAAYADAAQABAABgAGAA4ACgAJABAADgAGAPr/8P/9/wMA+v/y/+//8f/5//3//v8EAAAAAAD2//H///////3/AwABAAAAAwAAAAAABQABAPb/+/8CAAMA/P8CAP//9/8EAAcA+v/t/+3/+P/0//D/+//5//f//P8AAAQABAAKAAwABAD+//n/+v8AAA4AEQAGAAUAAgABAAMA+//9/xIAFQARAAwABAAJABEADwANABQAEAAIAAUA/f/4//T/9P/5//f/9P/z/+z/7v/0/+7/4//s/+//5//0/wQA///1//7/AgANABwAHQAYABUAFAANAP//AAADAPz/AgAIAAgADAANABYAEQANABEAEQAbAB4AGQAZAB0AEwAMAAUAAAAAAPf/8v/9/wQABwAEAAAABgANAAoAAAAGAA8AAAD6/wsAEAAIAP//AgAHAAIA/f/1//H/7P/k/+b/5P/Z/9j/2//j/+f/3//j/+//7//w/+P/4P/n/+j/9P/5//b/7//n/+r/9//5//P/6//y//f/6v/h/+v/8//3//j//P8MAAcAAAANAA0AAAAEAAkABwAPABgAFQAPAAwADQATABMADgALAA8AEQANAAgADAAMAAwACwAGAAQABQAOABEAEQAIAPz/BgASAA4ABgADAAYACAALAA0AEAAVAAYAAAAEAAQACwAJAP7//v8HAAUAAAAIAAcABQAHAPr/8//2//v/+v/w/+//8P/1//L/6//z//L/7//y//n/CgAJAAAABAD6//v/BgD4//3/FAAMAAMACwAIAAgADQALAAgABwAAAPr/BAAGAAAAAQD6//X/9//0//r//f/7/wAA/v/7/wAAAwAEAPr/+v/8/wAADgAPAAUABAAAAPn/AAAAAPX/7v/q/+7/7v/n/+v/5P/m//D/7//x//r/+//2//P/9//1//P/9P/r//D/7//4/wIABQANABYAHQAaABEAFAAeACAAFgAQABAACAALAAwAFgAeABQAFgAjACUAHwAVAA4ADQAdACAAFQARABQAGQANAAkADAAFAAMA+P/y//j//P/4/+r/7v/5//D/6v/u//D/7f/n//L/8P/n/+z/6//s/+n/6v/2//b/7f/k/9//3//l//L/8//u//T/9v/1//3/+/8EAAsAAAD8//z/9f/5/wIA+v/6/wIACAAMABEAFAAQABcAGAATABoAGQAMABcAIQAZAA4AAQD7/wAADgANAAAA+P////3/7//1/wEA/v8GABEABwAMAAcAAAAHAAQAAAD7//j/AAAEAPv/+/8KAAoAAwAIAP//+f/7//H/8v/y//H/+v8FAAoAAAD9/wAAAQADAP7//v8CAAQAAAAGABAACAD7//j//v8AAAAADQAVAAgADwAKAPj//f/2//b//v8CAAEA9v/0//H/7//w/+f/9v/5/+L/6v/1//P/8v/v//D/7//w//T/+f/9/woAEAAHAAIADQAVABEADAAIAAMABgAMAAgADgAFAPz/AAD5//j/9P/6/wAA9f/1//r///8AAP//BwAEAAAACAAIAAEA+/8AAAUAAgAKAA0ACQAAAPT///8JAAUA/f////7//v8EAAAAAAAEAAAAAQD9//v/CwAHAAgAEgACAAAACAADAAUADQACAPv///8AAAAA/f/7/wgACwD6//r/AwAMABIACQD+//n/+/8IAAsACAAGAAUACQARABQACQAIAAQACwAZAA8ADQAPAAQABgAFAPz/AgAIAAQAAAAFAAwABgAFAAoAAQDs/+b/6//v//j/8//h/+b/6//u//j/9f/0/+7/5//o/+//8P/w//7/AgD3//T/8f/v//f//f/4//n/+//z//X/+f/1//b/+f/4//j/8P/m//T/AAD8/wQACgAQAB4AKQAnABkADAAMABEADgAEAPX/8P/4//j/+P/4//T/8//w//f/BAAHAAAA/f8HAAgAAQADAAkAEQAXABgAEgAQABMAGAAZAB0AGQAQABAACwAGAAMA/P/3//v//v/x//f/BAD7//n//f8CAAMACAAMAAAAAgAMAAQA/P/+/wUA+f/l/+X/6//r//T/BwAEAPz/BgALAAMADQAOAA4ADwAGAPr/8P/0//P/6f/q//j///////b/8//0//P/8P/v//b/+P8BAA8ACAANABEAEgAdABUADAARABQADwAUAA4A/P8EAAcA+f/8/wAAAAAAAAAA+P/r//T/AwAEAAEA9P/s//T/7v/m/+L/5//t/+v/7P/r/+v/8P/4//P/8f8BAAEABQAPAAMA+f/4/wAAAAAAAAwAFQAUAAoAAAAAAAIACwANAAcAAwD6//r/+//3//n/9/////7///8QAB4AGwANAAcACQADAAAAAAAAAAMABAADAAUACAAIAAYABAAOAA4ACwANAAwABAAOAB4AFQAPAAoABAD9//z//P/y/+v/9v8AAPz/AgABAPn/+P/1//D/8//8/wAACAD9//L/9f/x//T//P/6//D/9/8EAAcA/v/4////AAD4//7//P/w//D/7P/r//L/+v8EAAYABgAGAAYABgAAAP3/8v/y/wgACgAEAAwACQAIAAUA+v/o/+f/9f/3//r/AwANAA8ACAALABAADQAMABEACgD//woADwAMAAgA/v/5//v//f8AAAAAAAAMABIAGgAcABgAFwAMAAkABwAAAAAACAAKAP7/9v/8//n/9P/7//n/8v/x//r/AgD6//L/+f8AAAMABAADAPz/+f8CAAMA/v/8//z//P/8/wkAFQAPAAgABgD9//f/+//6//X/7f/x//n/7//t//X/+v8BAP3/AAADAPn/+P/4//n/BQAHAAMABAAEAAUADgAOAAsAFAAMAAQACAABAPz/+v/y//r//f/8/wAABAAIAP//+P/+////8v/y//L/7v/0//T/9P/z/+//8f/0//X//f8DAAcACQAAAAMAAwD7//f/8//0/+b/4P/1//n/9P8AAAQAAAAGAA0ACwAHAAsADAAPABEADAANABkAGAAUABQADQARABQACQARAB0AGQAZABMADQAYABUAEgAWABQAEgAPABUAEAARABQACAD7/+7/7f/z//T/9//8//j/7v/n/+7/7v/r/+z/6//v//D/7//w//n/BQABAAIAAAD0/wMAAgDw//f/7P/j//L/9//0//T/9f/9/wYABgAAAAQACAAIAA0ACgAAAPT/+f/9//z//f/4//D/4v/q/+7/5v/p/+L/3//t//D/8//0//T/DAATABEAFQAWABwAGAAPABgAGQAVAA8ADgAUAAYA9v/4//7/9/8CAAQABAD//+7/8v/6//3/CAAVABQAEgATABoAGAAVAA0AAQACAAwABwACAAgABAAAAAgADAAGAAsAEAAJAAoADQAIAAgABAAAAAMA+f/o/+n/6v/p//z/AAD0//T/8//w/+//8f/0//T/8//3//j/+//9//z/BAD//wIADwARABgAFwARABMAFgAMAAwABgD7//7/AAD5//r///8AAP3/9f/3//T/7f/m/+H/6f/x/+7/9f8AAP3/+P/4/wEADgARAA8ACQAIAAMA+f/4//D/7//w/+r/7//8//n/7v/q//L/9f/z/wMAEgAYAAcAAAAGAP7/9v/7/wAAAAADAAAADwAZAA0ADwAOAA4AEgAHAP3//P8EAAwABwAKAAoAAAAFAAcAAAADAAQA/P/9/wAA9f/3//z/9P/5//v/8//4//f//v8NAAYAAAAPAAoABgAVAAgA/P8AAPv//v8DAPr/+f////7/AAAPABEAEAAUABUAGQAYABEACQD7//H/+/8AAP3/+P/4//L/7P/y//T/9f/8//f/8v/8/wAACQAQAAsACAAHAAMAAwD6//v/AAAAAAwAEQADAPL//v8FAAIABwACAPz//f/8/wAA///+/wUA+P/w/wIA/f/2/wMAAAAAAAQAAAABAAIA9f/s/+3/+v/9//z/AAAAAAQABAAKAA0AFQAdABgACgAEAAwAEAD8//D/9P/s//H//v8DAAEAAAD9/wAA/P/9/wAA+f/7//r/+v/7/+///P8CAPT/AAAIAPr/9f/7////AAD6//T/+P/3/+//9v/1//D/+f///wAAAAAAAAAA/P/8//f//P8GAAsAFQAPAAUAAAAHAAwAAgAAAAUAAgAAAAAABQAHAP3/+f/0//n/AAAFAAkABgAFAA0AFwAZABkAFQALAAcA/v///wUAAwAHAAgABgD5//j/CAAMAAEA/P/0//H/9f/z//T/+v8AAPf/6//h/+H/8/////f/8//0//f//P/8/wUABwD5//v/AAD3//f/CAAOAAQABAAAAAAACgANABMAEQAIAA0AGAASAAwAFQATAAYABgAPAA8ACAAAAAMAAQD8/wQABwD6//v/BgAKAAoA/P/3//z/9f/v//D/7//2//z/9P/t/+v/8P/+/wAABwARAAYABQAHAAUACQAEAPr/+P/x/+//8P/r//H/+f/2//X/+//7/+//6v/z//j/9P/1//7/AAAQABkADAAEAAcADAAQAAwAAwAEAAQAAwD//wMAAAD7/wMAAAD4//7/DgAJAP3/BwAUABUAEgATAB0AGQAQABEACAD//wEACAAOAAQA9f/+/xAAEAAWAB4AHAAYABEABwABAP3//P/1//P/+f/3//r//P//////+/8AAAAAAAD0/93/2P/f/9//3f/Y/9n/6//0//T/+P/4//n/AgD8//3/DwABAPv/+v/z//j/+P/+/wMA///7////AAACAAQABwAJAAMABQANAAwADQAHAP3/CAAQAA0ACAAIABEAFAAJAP7//P/7//X/9v/8/wAAAAD0//X//P/2//X/+v/z/+//7f/n/+f/6//s//D/8P/3////AgAEAAYADQABAPT/+P8HABAACwAFAPz/9v/+//7/+P/0//T//v8FABAAFAANABAAGwAdAB0AFgAQABYAEwASABQADwAXAB4ABgD7/wcADAAMAAwADAAFAP//AgAFAP//+P/4//z/BAANABAACgAAAPv///8DAAQA/v/4//3/+//+/wQA/f/1//T/8//3//z/+f/3//n/9//0//r//P/+/wEA+//w//b//f/8//v/8v/w//j//v8DAAEAAgABAAAAFQAcAAkABAABAPv///////b/7f/q//X/BAAIAP3/+P/2//T////+//v/AAAEAAQABAACAPr/+P8CAAwADAAKAAQACAADAPf/+f/v/+j/AAAIAAAAAwABAPn/+P/5//3/AQAFAAoADQAJAA0AEgAEAAQAEAAGAPv//P/3/wIA/P/t//v/9f/3/wAA9v/1//7/+f/8/wEAAAD7//b/AAD8//T/+f/2//b/AAAFAAAABQAJAAQAAAAEAA0AEQAQABIAFQAZACIAFwATABkAFAAMABIAFAAGAP//BAAPAA8A///0//n/9//v//f//P/2//3/AQD9//z/+f/4//T/7//j/9P/0//b/+T/8P/1//P/9f/3////CQAHAAkABAD+/wYAAgD//wgADwAJAA0AEQAFAPj//f8OAAsABwAMAAwAAwAAAAAA+//1/+r/6f/s/+v/8P/v/+j/9/8AAO//9/8CAPr//P8KAAwADAAQABYAHgAhACEAIAAWAAwAEAAQABQAFQAGAAAAAAAAAAAAAAADABAADQAJAAAA+f/8//j///////D/6v/w/wAADAAEAAQABwD//wIACAD3//D/+P/4//j/9P/0/wEABwD//wIAAQD6/wAA/f/9//L/4//j/93/2//f/97/4v/u/+j/3v/q//j/+P/w//v/AAD9/wQADQAUABUAEgAMAA0ACwAJAA0AEgAXABoAFgAWACQAIwAUAAgADQALAAgADwAPAAkABQD+//j/AAAAAPz/AgAIAAIACAANAAsAEAANAAgAAwD8//3/AQAFAAEAAAAAAAMA///0//T/+P/9/wAABQABAAQABgDz/+7/AQAJAP///v8DAP///P/9//r/9f/w//b//P/4//3/AAAAAAAA///6//L/8f///wMAAAAIAAIAAQAKAA0ACQD+//7/BwAFAAAAAAAFAA0ACgD+/+3/8v8BAAcABQAAAAAA///3//P/9P/0//L/7v/2//n/7P/r//X//f8AAAAA+P/z//b//v8EAAQA/f/8/wYADAAFAP7//v8DAAMABwAMAA0AAwD9/wAA+v/w/+z/9/8FAAkAAAADAAQABAAJAAcAAwAFAAIADgAXAA0AEAANAAcACQAEAPT/+P/8//T/9//7//3/+P/w//T/+f/+/wgABAD+//b/9v/9//H/7//0/+7/+v8FAAMABgAKAAAA+//9//z//f8AAAoACQD5//X//P/5//r/BAAAAAAACAADAAQAAgD+//3/CAARAAYAAAANABoAFwAVABMADgAJAAoADQAFAAAABAADAPb//P8MAAgAAQD+//v/AAAAAAgAGQATABIAFAAPABAABAABAAYA/P8AAAcA/P8CAA4AAQD+//v/7P/x//j/9P/9/wgAAgAAAPn/9P///wgABQADAAQA/P/5/wUA/P/z//T/9/8CAAEA/f/5//T/9f/8//D/5//w//P/7v/2//X/8//8//3/9//v/+v/9f/7/+3/8P/7/wAAAwAMAAgABAAKAAsACAATABkACwAEAAcAEQALAPv/+P/3//T//v8KAAsAAQD9//z/AAAEAAQAAwD9//X/8//1/+7/7f/8/wAA7//s//b/+f///wEABwADAPz/AwAHAAAADwAfABQAEwAbABYAFwAdABYADAAMAAwAEgATAAkAEwAXAAgADwAOAAQAAwAAAAQAAwD3//b/9f/r/+//8P/w/+j/1f/Y/+X/5//o/+7/8P/y//v//f8DAA0AEAAMAA4AGAAWAAsAAwD6//X/7//1/wQA+v8AAA4AAQAEAAUA9f/6//r/7//1//f/9P/y//H/9v/7//3//P8AAAAA+P/4/wMABwABAAAACgALAAEAAgAQABAACAANAAsABgADAAYACQADAPj/AgAEAPz//f8CAAkACAAIAAoADQAMAA0AAAAAAAAAAgAPAAUA+v8AAAAAAwAEAAQABwAAAAsAFgALAAIABgALAA0ACQAEAAAAAAAIAPv/7/8AAAIAAAD6/+f/8v8AAPj/9P/5//b/9f/7//7/BgADAPj//P8EAAMAAAANABMACAANAA0A/v///wAA9P/r/+z/6//s//L/9v/8//r/9P/0/+z/6//w//D/9//9//z//v8DAAEAAAAEAPz/+f/9/wIACQD+//X/9f8DABcAFQAMABEADwAOABgAFgAKAAgABQAEAP7/9P/5//f/+f/8//T/7////wQA7//u//j/9P/0//T/9P/z/+7/9v8CAAQAAAADAAQAAAD8//f/+/8EAAwAFgAcACEAIQAlAC4AKAAmACMAGAAIAAUACgD///j/AwAEAPv//f/6//r/+//z/+v/9P8GAA0ACwAIAAIAAgAKAA4ABwAGAAkACwANAAAA8//6/wAA+f/x//D/6//o//r/AAD8//P/6//x/+3/3P/V/9b/2P/h/+r/7//0//L/5f/k/+r/7P/3//3//P/5//f/BAAHAAQAAgD5//n/9////woA+P/y//3/AAAKAAQAAwAQABIAGAAWABQAHAAdACEAJQAaABUAGQAZABcAEwAeACYAGgAMABIAGAAUABQADAAFAAQABAAEAAcADAALAP//AwAMAP7/AAAFAAEA/f/5//D/4//s/+//6//0//f/8//0//b//P/0//D/9P/p/+T/6P/o//L//f/5//v/+f/v//X/9//t/+T/3f/l//D/7f/r//L/AAAAAPf/+f/9/wIAAgAAAAIACgANAAgADAAMAAcACAAHAAsAFAAXAB0AHQAhABwADAASABoAEAANABEAEAARAAoA/f/8/wAAAAAEAAMABQAKABEAFgAOAAUABwAIAAMAAAAAAAAAAQAEAAYACQAEAAAAAAD9/wAAAAD4/+r/6P/j/9r/4f/v//z/AAADAP///P/9//r/+f8AAPf/9v/9//P/8f/5//f/+/8DAAQABAAEAAQAAAADAAMA+v/6//z//v/+//H/9f///wcAFQAQAAcAAwAGAA4ACQAJABMAEgAJAP3/+P8FAAEA/P/8//X/9P/w//P/7v/f/+P/7P/r/+v/5f/u////AgAFAP3//P8AAPz/9//z/+3/5f/u//j/+P/1//D/8P/w//r/AAD7/wYACwAHAAgACgAXACUAJQAhABwAGQAaACEAGgAHABIAEwAEAAgAAwAAAAsAEQAHAPz/AgASABUAFAAhACEAEwARAA8AAwABAAUAAwABAPn/8P/0/+7/4v/q/+v/7f/x/+z/8P///wsACAD///3/+//w/+3//v8GAAAAAAD5//j/AAAAAAQABgAOAAgAAQD+//X/+v8AAAMADgAPABMAGgAWAAgAAwACAPz/AwAAAPP/9f/5//7/AAD4//z/9v/5/wQA/P/0//r/AAD5//r/+//1//H/6f/f/+L/4//o//f//P/4/wMABgD2//b//P8DAAgADAABAPf/AQAJAAcADQARAA8AGAAVAAcACQAMAAsAAwD2//j/AgAHAAkACwANAAYABwAZAB0AHwAhABEABAAKABUAFAAIAAIAAAD///r/+P/3/+3/7v/w/+v/5//n/+3/7//p/+j/9f8GAAIA/P8EAAMAAAAAAPv//v8AAPn/+//6//D/8P/4//j/+f8CAAMAAAAOABcAEQANAAgABAAEAA4AEAARAA4ADQAXABcAEQAQABAAAwD8//b/7f/r/+z/6//v/+3/5//n/+L/4P/2/wUA/f/+/wAAAAADAAEA+f/r/+3////4/+7/8/8AABAACAAAAAQABAD7/+7/7P/w//D/+P8AAAoACgADAAgACAAPACUAJwAXABgAIQAhACQAIwARABAADwACAAYABgD9//7/BwARAA0AAQD7//7/+f/v/+7/4f/Y/+P/5f/h/+7/9P/4//f/9P8AAP//BgAMAAYAEAAGAPz/AAD7//j//v8AAP//+f/7//v/8P/w//T/AQACAP3/CAAEAAAAAAAAAAMACAAIAAQACAABAP3/AgAGAAcAAAACAAsABQAAAAUADQARABIAHQAYABQAEgAMAAwABAAEAAIA+//2/+v/8v/4/+7/+v/9//z/AAAAAAAA+/8AAAAA6v/e/+L/4//z//D/4v/w//3//P8GAA8ABAD5//f/AAAEAAQA///9/wEABQABAAAA/v/8//3/AwADAPb/9/8CAAMABQD//+3/7//s//P/AAD6//r/AAABAA4ADAAJAA4ABAAEAAAAAQANAAsACQAOAAkACAAFAAAAAwAEAAgADgAcACAAFQAVABQAGgAlAB8AFAANAAYAAAABAAwACAAAAP7/+P/8/wAAAAAEAAQAAwAAAAAA/v/6/+//6v/w/+//8f/0//v/+v/7/wEA/v/7/wIABAAEAAMA9v/u/+z/8v/0//P/9v///wQAAAAAAAAA/P/9//r/+P/2//L/+v8AAP3//P8AAPz/AQD9//j/AwALAA8AEQAQAAwAFQAjACQAGQALAP3/9f/x//D/6f/f/+f/7f/7/wAA+v/2//L//P8HAAUAAAAAAAQA+v/0//H/7P///wQACQAOAP3//f8MAAIA/P8DAAsADAANAAcABQANAAAA/f8AAAIADwAPAAoABQADAAcADAAJAAAA/P/2//f/CgAHAP7/CAARAAoAAAAAAPP/6//r/+z/8f/r/+j/9P8AAAAAAwAAAPz/AQADAPT/6//0//P/9////wAA/P/z/+r/5v/h/+H/8f///wAAAAD9//z//f/2//D/9v/4//r///8CAA0AHAAdAB0AFwAMABoAGQAJAAEA/v/7/wYADQADAAQAAwAGABAAFwAaABQADwAVABEABAADAP//9/8AAAEA7v/0/wIA9v/w//f//f/7//j/+f/9//3/BQAHAP3/AgAEAAMABAD//wIACgAMAAEA+P/7/wYADQADAPT/9P/5//f//P8DAAQABAABAAAABAD///n//f8CAAoADgARABAAEQAQAA0AEAARABcAHgASAAIADQAXAA0ADAAIAPz/+P/+/wAA///8/wgACAAAAAcADAAMAAcA+v/1/wQA/f/o/+n/3v/W/9r/1//f/+j/8v/4//H/8P/t/+3/9P/w/+//8P/w//D/8P/u/+v/+f8FAP7/AQAMABAAEQAQABEADwAJAP///v8DAAQABAAEAAQAAwD0//r/CwADAP//CAAOAAQA/f8DAAQA+v/6/wIABQALAAoABgATABkAEQAMAAwADAATABEAAAD7//3//P/9//z//f8AAPb/9f/6//3/+P/t/+j/4//r//3/AAAAAAAABgAIAAgABgAAAAAAAAD9//z/AQD9//H/+f8EAAMACAD///f//f/7//n//P/1/+7/8v/0//L/6f/n/+v/+P/9/wcAFAAaABMABwAOABEACQAAAAAAAAAAAAcAFgAWAAsAAwD6//T/AQAVAA8ACAAIAAkADgARABAAEQAQABQAHAAnAC0AJQAfAB0AEgAJAAAA8v/o/+v/+P/4//P/9P/q/+X/8//+////8v/r//D/9P/0/+7/6//r/+z/6f/j/+z/9f/r/+z/6f/d/9v/4f/i/+f/7//v//b/AwAEAAkAEgANAAAAAAASABIAEgAcACEAHQAUABUAGgAeAB0AHwAgABUAHgAqACIAHQAdABwAFwALAAAA9//w//P/9P/z//D/5v/v//n/+f8AAAYA+v/u//v/+f/w//n/9v/o/+n/6v/m/+j/5P/f/9//4//s//T/9P/7/wEA/v/7////AAAAAAQACAAMAAwADgAaABsADgAMAA8AEQAIAAQADAAMAAcACwATABMADwAVAAsABwAVABQAEAAPAAQAAAAFAAAAAwD8/+//+P8AAPz/9//5//3/+P/w/+//9f8GAAwAAAD8//b/9v8EAAAA+P/w//X//f/1/+//6//y/////v/1//b/+f/1//T/8f/r/+z/7//l/+T/5//f/+X/9v/z/+7/9f/u/+7//v8HAA8AGAATAAIAAQASAB0AGQAVABUAIQAjABIACQAKAA0ABQAGABEAFAAbABkAEAAXABgAEQATABUAEQAUABoAIQAcABYADQAHAAcA///5//v/AAADAPz/AgAHAP7/BAAGAPf/9v/5//T/8P/n/+L/3f/b/+H/4//n//P/7v/q/+z/6v/s/+r/9P/z/+v/9v/4//v/AAD5//z/AAD9/wgAEgALAAAABwAXABkAHAAaABkAJAAjABUABgD//wAAAAD+//X/7P/w//n/+P8AAAMA/P/y//H/+P/0//j//P8BAAkAFAAgABYABQAJABAADQAFAPz//P/2/+n/6f/s/+3/8f/p/+z//P/0//D/+f/2//X/AAADAP7/CAALAP3/AAAMAAcA+f/0//r//v8CAAIA/P8AAAMADQAQAA0AEAAJAAEAAAABABAAFwAJAAAAAAAFAA4ADgD9//v/BgALAA0AAgD4//3/CQAHAAQABAAFAAsADQAGAAMACAAEAAAA+//3//n/9f/t//f/AAD9/wAACAASAB4AGwALAAEAAAAAAAAA+P/g/9v/4//j/+L/3//o//P/5//o/wAACAAMABAAEQAQABEADQAHAAcA/P/5/wEA+P/1//f///8IAAEA9//1//3/BgAJAAEA+P/1//3//P/2//L/7//w//D/7//9/wEA+//+/wUACQAHAAgACAAIAAgACAAAAAAADgAPAAYAAwAEAAMACQAQABAAFAAVABkAHQAXABYAGgAXABQAEwAKAAQABwAAAPz//P/+////8v/z//z/+f/+/wwACAAIAAYA+v8AAP3/9//0/+b/3//i/+v/6//n//T//f/9/wEA+//5/wAA9v/v//T//v///+//7f/w//H/9v/q/+b/7//0//P/7//x//3/CAAPAA8ABwASABIADAAWABgAFAAPAAsADwARABEACgAHABQAGAAPAAwABgAGABAADAAFAAEAAAD9//z/+P/0//r//v8CAAYACQAFAAAAAwAAAAAAAAD9/wcABgAEAA8ACQD9//z//P/8//3/AAD6//H/8f/1//T/8f/o/9//6//5//D/6f/7/wEACgAVAA8ABQAAAAAAAAD8//z/9P/y//7////2//P/9P/0//j/8v/w/+3/7//+////9v/2/wIAFwAVAAIAAQADAAAAAQD6/+3/7v/6/wQAAAAAAAQABAAEAAIAAAAPABcADQAQAAkADQAaABYADwALABAAFwAOAAsADQAEAAgAEQAOAAAA+////woACgAHAAkAAwAIAAcABQAOABEADwAVABYABgAAAAMA+f/z//T/5//l/+7/8P/u/+j/6v/w//P/AAAIAA0ACQABAPT/6v/+/wwABQADAAwADAAGAAAAAQAGAAYAAgAKABAACQD8//P/9P/y//D/7v/q/+//AAAFAAAA+f/z//r/BQD7//T/+f/3//n/9f/t/+v/4//a/9z/4P/l/+f/6f/x//T/9v8DAPz/5v/p//f/AwAIAP///v8DAAQABwAMABQACgD5//X/+/8HAA4ACQAKABQADQANAA8ACAAVAB4AFAAcACIAJAAjABUAGQAdABIADQASABYAEQAIAAsABgAAAP3/9////wkABgAFAAkABgARABkAFQAYABAABwACAPv//v8AAP//+f/4//j/9f/v//H/AwANAAMAAAD+//7/AwABAPX/5P/s//D/6f/h/97/4v/t//D/9f8AAAMABQAIAAcA/P/z//X/7v/f/+j/8P/r/+f/2f/f//n/+v/6/wgADQAOAB4AKgAZAAcADwAUABAADwAIAAAAAgAIAAQABwAIAAQADwAMAAMADQADAPL/8v/7/wAABAD///P/9P/y/+//8P/v//X/AgAIABAAEQAKAAQACwAJAAAA+f/9/wIA8f/v//7/CQAMAAAA//8DAP7/CQALAPr/9P/8//z/8P/l/+H/3//q//f/8v/1/wAAAAAFAAcABQAIAAEAAwAOABEAEAARAAQABAAIAA8AGwAWABQAEwAFAPj//P8AAP3/BgAYABUAAQD+/wkAAAD+/wUA/P/9/wgADQAQAAoABwAHAPz/8v/o/+7/AAAIAAIA+//3/wMADQAAAPn/8v/r//D/8//1/+v/5P/u//H/+f/+//X/9P/w/+P/6P/3//z/9v/1//n/+f8DAP7/+P/8/+//7v8MABkAEwAXABkAGwAeABgAIQAXAAMADwANAAAAAgADAAkAEwAVABEABAAAAAsAEAACAPv///8AAPv/8//8//z/+P/5//7/AQAGAAgA+//s//X/AwAAAPz//P/8//z/+//1//j/AgAIAAIA8P/w/wEACAACAPf/7f/2//b/8//4//z/BAAHAPr/AQAbABEABQAAAPr/CQANAAAABAACAAEACQAHAAgACgASABkAEgAUABUACgD///3/AgACAP3//v8BAPn/9P/w//X/+P/y/+j/4v/y/wQA///1//f/+f/7//T/9P/0//X/+f/5/wcAEQAFAAMA/P/4//z/7//v//7//v/8//3//P8AAPj//f8FAAEA+f/x//7/FAAMAAYAFAAMAAgAEQAPAAsABAAAAAoADQADAPj/AAADAPf/9f/5//f//f8NAAwAAAAAAAcAEQAPAAAA+P8FAAQA8//x//r/AAAAAAAAAAD///b/9f/5//b/8//0//H/7P/z//j/7v/z//7//P8EAP3/+/8LAAwAFAAcAA8ADQAXABEACwAMAAoA///+/wwADAANAA8AAAD8//3//P/9//n/9//8//z/+P/t/93/8f8CAP//AwD///v/AwD9//n/BQD9//T/AgAFAPz///8AAAAABAD8//n/AAD///3/AwD//+//5//t/////f/3//P/6v/2/wMAAwAIABMAFwAgACUAHQAUABUABQD8/wEA/f8AAAkAAQADAAgABAAVABsADQANAAsAAgAAAP7/+P/w//T/+f/+/wUAAQABAAUA/v/+/wQAAAD9//v/+P/5/////f/z/+7/+v/6//P/AAAJAA0ACwAAAPv/9P/7/wgAAQAAAAAAAAAKAAYABgAPABEADAABAAIACAAQAAwAAgAAAAQAAwAJABgAFAAJAAgACAAAAAQAAwD5//n/9P/x//b/6v/m//D/5//p//n/8f/r//T/+P/6//3/+P/4//z/9P/w//b/+P/5//z/7//t//H/7//0//j/+P/5//3//P/9//r/9f/z//v//f/z//b//P///wsACwAFAAYACwATABkAFAARABYAHwAfABUADQAQABkAFQAYABUADAAMAA0AEAAJAAsABwD4//z/9f/w//z//f/8//3/+v/x//H/9//4//j//P8AAPf/9f/9//v/9v/z//T/9P/0//f/AAADAAQACAAHAAEAAwAOABIABwD//xAAGAALAAIA+f/2/wcAAAD1/wAA9v/z/wAAAAAAAPz/AgADAP//BAD8//r/BAADAAAA+//z//3//f/6/wYACwANAAgABAARABkADgAHAAoACwAGABAAFgAQABgAHQAUAA8ADAAMAAoA/P/8/wMA8v/v//f/6//n/+f/5//m/9//4//u//P/8f/n//n/+v/w/wAA+//z/////P/u/+T/3//n//H/7v/s/+r/6P/v/+3/7/8AAP3//f8WAB0AFwAbABMACgASABYAEQARABAADQAMAA0AEQAPAAkACgAPABEADQAMABAAEQAQABAACAADAAQABQD8//b/AwAIAAkACwACAAgACwAKABoAHAAPAAgA/f/3//j/7f/v//v/+//0//z/AgDy/+f/4//f/9//3//n/+7/8v/0//T/8P/v/+z/9v8LAA8ABAAAAP//+v8FAAwADAAEAAUAEQARAA4A/f/w/wAADQAMAAkABwANAAsABAAXABkAAwAFABIACQAIAAQA/f8EAAkAEwAaAA0A///5//f/+/8AAAQABAAJAAwADgAWAAcA//8BAPr/9f/g/8n/1P/Z/9D/z//U/9v/5f/r/+v/8//4//P/9v/9//3/DAANAAQAAQD//wsAEAAMAAgACAAIAAYAAAD0/+z/6P/q//D/+P/3//T/+f/5/wgACQABAAsACQAPACEAFwAMAAwABwAMABIADQAMAAwADAAUABoAHQAeACkAJgAiACYAFAAPABEADAAaACYAHwAXABYAGgATAAQADQASAAgAAAD3/+3/4v/s/+7/4P/m/+3/5P/f/+P/7P/m/+n/6v/n//P//P/6//f/+f/z//n/+//4//b/9f/5//b/8P/y//j/9P/4/wAA+v/4//b/9f/8//f/8v/4//j/8P/v/+z/8f/0//b/AgAAAPj/+//9//j/+f/8//3/AQADAPz/BQAiACQAGQAVABAAEQAaABcADgAMAA4AFgAdABoAFQAMAP//+P/4//n//f/4//D/9f8AAAAAAwADAPX/8v8AAAIAAAD///j/+P///wkABgD4////CwAMAA0ACAD+//7/DgAVABAAEAARABYAGQAZABoAIwAkABcADQAIAA0ACwAEABEAEQALAA8AEQAKAAAA+P/r/+f/6P/u/+3/4//o/+3/6P/o/9z/zv/T/9z/3v/a/+X/8P/6//v/7f/v//D/6//y//n//v8AAPn/+v/+//X/9//8//j/AgAHAPz/8v/5//z/8/8AAAkABwAMAAIAAAD+//n/BgADAAEACgAQAA0ABAAAAAsAFgAaABUAEgAlACgAIQAlACkAIQAYACAAJAARAA4ADwAKABQAFQAVABAADQAQAAIA9f/2//v//f/8//3/+P/w//D///////7/AAD5//f/6v/m/+v/8//9//z//v8FAAAA8v/y//T/9//5//j//f8AAPr/+v8BAP3/8v/0/wAAAwAEAAMABQACAPX/7//v/+j/6f/0/wAA/f/0/wEABwD+//z/9f/1//z/+v/4//X/6//o/+z/6//s//T/AgABAAQACgADAAwAFAALAP//AwAQAAsAAAADAAYADAAFAAAADQAGAPr/+f/+/wQADAAJAAsAEAAQABEAFAAOAAAAAwD///P/9//7/wIAEAADAPf/7v/z////+f/8/wQAAAACAAwAAAD4/wYABAD0/wAACgAFAAMACgAYAB0AGQAfAB8AEQAKAAcACgAPABEAEAARABAADAAIAA4ABwD9//z///8BAPn/9P/4//3/AAD///v//v8AAP7/9v/z//T/7//x//n/+P8AAAAA8v/6//j/6f/j/9//4//j/+P/5P/r//r/+v/3//7/AwAHAAAA/P8CAAkABwABAAEABwAJAAEA/P/5/wAACgAMAA4AEAAHAAUADQADAPj/AwD7/+r/8//4//v/AgD5//H//v8AAAMACAADAAAABAD8//n//P/0//r/AwAEAAwAEQARABYAEgAJAAoADQAJAAgACAAAAAQADAAAAPX/7f/s//b/9v/2//3//P8AAP///v8FAAsAEgAKAPv/9f/t/+v/8P/4//3/AAAAAP//9//z//f/+//9//z/CQAPAAgADgAIAAIABwAHAA8ADgAPABoAEgANABcAFgAMAAUAAwAEAAAA/P/8/wAAAAABAAQA/f8AAAEA9P/4//X/7P/w/+//8f/0//X//f8EAAwABgADAAgAAAD3/+7/8v/5//b/9P/y/+n/6v/3//j/7//y//j/8f/y//T/9v/+/woAFAAUABAAEAAJAP3/AAAHAAoAEAANAAwAEAAMAAMACgARABAADgABAAIABAAHAAgAAAAFAAcAAwAFAAEAAAAAAAIABQD9/wAACQANABYAEQANABUAGwAOAPr/+//9//f/6v/n/+f/6v/9//z/+f8DAAQAAAADAPz/8v/x//X/+f/3//7/AAACAA8AFQAFAPj//v8HAAMA9//+/wAAAAADAAQA9//w//v/+//3/+7/4P/h/+P/5v/w//T//v8AAAAA/v/1//L/6v/j/+P/3//b/9//4//d/+T/9v/4//j/+P/7/woAEQAQABYAGAAaAB0AHQAfACgAJAAgAC4AKQAhABoACQAJAAcADQASAA0ADAAMABEAFAAQABcAFAD3//L//v8DAP//9P/0//7/DgAQAAoABgD4//f/AAD9/wAAAAD3//D/7//r/+z/6v/k/+f/+P8DAAQA/P/4/wkAGwAVAA8AFAASABAAEQANAAwADAD+/wAACQAIAAMA8//v//P/8P/z//3/9//1////AAADAAAA+v8CAAQA/f/4//j//v////v/8//n/+v/6P/s/wMABwD8/wEABAD9//f//P8GAAMA/P/9/wMACQAMAA0AEAAHAP7/BQAMAAkABAD5//j//P/y//f//f/x/+j/5//q/+z/5P/n//v/CQANAAoACAAFAAYACQAHAAkA/P/5/wAA+v/5////AAAGABIAAwD4/wMAAAD9/wkA8//p//v/+f/6//3/+P/8/wQAAAD3//z/DwAeAB8ADQAEAAEA+P8EABAABgAFAAgAAQALABAACAALABcAGgAKAAAABAAEAAQAAQD0/+7/+v/9/wAACAD///n//f/7//b/9f8AAAsADQAEAAAACQAFAO//9v/6//X/CAALAAAAAwAUAB4AIAASABMAGgANAAUAAwALAAYA//8JAAUA/f8EAP3//v8AAPj/AAAJAAQAAAD7//n//f8BAAMA/v/3/9//3P/u/+z/5//t/+7/7P/w/+//8P/v//P/9f/n/9//6P/s//H/9v/4//j/+v8IABIAAAAAABUACAABABIAEgAHAAMABwAOABgAFQADAAYAEQALABkAIwAeABsAEgAMAAQA/P8BAP3/7f/9/wwACgADAPT/5//r/+v/7P/v/+T/3//m/+f/6v/v/+3/5//0/+7/6v8AAP3/+v8HAAAA7P/1/wAA+f/4/wEAAwAAAAcAEwAdABkACgALABEAFQAZABMACgAIAAoAHQAnABEABAAHABEADwAHAAkAFAARAAwAFQASAA0ADAANABAAEAALAAgACQAPAA4ACQAFAAAA/f/4//3/AAAAAAAABwAFAAYADAAJAAQAAAD2//L//v8AAPb/7P/r/+z/6//z//D/5//o//P/9f/e/+P/+f/y//L/+P/w/+f/5//i/97/6v/4//b/8P/z//H/7//w/+//7P/x//T/9f/9/wIABwACAPz/BAD///n/BwAMAA8AGAAKAAIACAAEAAQACAARABMAAgD9/wAAAQAHAAgACwAcACUAHAAZAB4AGwAbABwAEwANAAkAAAAEABEAFAAQABEADAD///z//P/8/wIABAAAAAAA//8DAAYA8v/r//n//f/8//3/AAABAAQACgACAPP/7//z//H/7P/r//D/7//s//H/9f/w/+r/7v/w//D/7P/z//n/+P/4//n/BQARABQADAAQABQAEQALAAQAAwAGAA4ACQAKAAsAAwARAB4AEAANAA8ABgAEAAwAFQAcABsAFQAYAA0A+//5/wIACgADAPf/8//3//z//f/4//P/4f/h/+f/4P/f/97/4f/k/+L/6//r/+P/4//j/+r/8//w/+f/7f/3//z/AwAJAAcABAAKAA4AEwAXABoAEgAQABUAFAAVABQAEAASABYAEgAQABQAFQAUAB0AKwAiABIAEAARAA0AAAD4//z/+f/4/wAA+v/0/wAABAADAPn/7//z//D/8//4//P/8f/7//f/4f/Y/+P/7//w/+//8P/v/+z/9/8AAAYA/v/z//v/9v/z//z/8//x//r/9v/9/////P/8/wIABQAAAAUADQARABYAGQAaACAAIQAfABUAFQAUABEAFQAMAAEAAQAHAAgACAAFAAAAAAAIAAcA/v/1//b/AQAEAAEA/f/8//T/9f8GAAYABQAGAPz/AAALAAcAAAAEAAgADQALAA8AFQANAA8ADwAIAAgACAAAAPz//f/6//H/6P/p/+z/7v/w/+z/6//w/+7/5f/b/9f/3//p/+z/7v/0//z//f/8//f/9P/0//f/AgAAAPL/7P/r/+j/7P/x//P/7//6/wMABAAEAAcADAAMAAwADQARAAkACgALAAcADgAVAAoAAAAEAAgABwAEAAwAEQASABkAEwAJAAwAEQAQAAoAAgAFAAAA+f/6/wAA/v/w//z/AAD9/wcADQALAAQA/P8BAAcADwAdAB0AIQAbABsALAApABkAEQAOAAUAAAAAAAAA///1/+//+f/6//v/CgAQAA0ABwAAAPb/9/8CAPz/9v/v/+j/5//r/+z/9f/9//b/7v/z//r/8//q/+P/5v/o//D/+f/2/+7/8//5//b/7//n/+j/6v/s/+b/3//e/+D/5//v//D/7//2//n/9//9//X/+P8OABcAGwAgACYANAA0ACYAJQAmACUAHwAdABsAGAAdABcAEAAVABQAEQAJAP//AQAGAAkABQABAPb/7P/w//3/AAD2//T/9P///wgABwALABAABQAAAAAAAAD///L/9P8BAPf/9f8AAP3/+P8BAA0ABAD5//z/AQAAAAUAEAAUABUABgD8//v/8f/w/+7/6v/x//j//P8DAPP/5//r/+b/6f/t//P/8v/o//H/+P/r/+z/8P/v//H/9f/6/+3/5P/2//n//P8FAAcABAAKAA0ACwARABgAFgAMAA0AFAAQAAwAFQAXAAsABgAOABEACQADAAQAAAAGAAYABwAWABkAGQAZABgAHQAhACMAKQAZABYAFwAJAP3/8f/y//j/9P/1//z/9//0//7/BwAGAAAA/v/4//n/AAD9/wAA///+/wgAAwABAAkA///4//z/8//w//T/6v/h/+X/6v/u//f/+f/s/93/3P/f/+f/6f/d/9n/4P/m/+//7P/a/9f/2//h/+v/8v/0//b///8AAAMADAAGAPr/+f/+/wAAAAD+//7/BwAPABkAHQAYABMAEAAQAAcABQAMAAwAEwAlADMAOwA0AC0AJQAXABQAFwAcACEAGgAdACcAJQAlABQABQAMAAUA+f/4//j/+f/8//j/+P/3//r/+//y/+7/9//1/+P/4//s//H/+//6//n///8CAAgA/v/4/wAABAAKAAwADgAOAAEAAAD+//X/7P/s/+//6//l/93/4v/s//X/+f/3//z/AwAJAAwADQASABQADAADAP3//f/1/+v/8f/9//v/8v/4//3/+/8BAAUA/f8AAAgACAABAPD/9P/1/+P/7P8AAPr/9/8AAPz/+P/4//L//P8RABcAGQAYABYAEAAOABoAHgAcAB8AFgARABcACwD7/+//7P/0/+7/7f/3//X/9/8EAAwADAATAB0AGAAWAB4AHAAVAAwAAQDy/+7/9//0//T/+P/x/+v/9v8GAAYAAAACAAcAEAAQAAcAAAABAAMA//8DAAIA/f///wQACAD//+j/6//1//L/7f/r/+//8P/v//T/+P/8//b/7//w/+//8f/q/+b/6P/n/97/0f/U/9z/4f/j/+f/8v/3//z/AwANABoAHQAYABsAHQAdAB8AJQAgAA0AFAAiABYAEgAcAB0AHgAaABgAFwAJAAsAEQALAA4ADwAFAAQAAwAJABAADQAEAPz//P8BAAMAAAD///v///8AAAAAAAAEAAAA/f/6/+v/5f/i/+j/8v/0//T/8P/0//3/9f/p/+j/8P/0//j/AwAAAAAAAAAAAAAAAAAFAAAA+v/1//T/8P/2/wAAAAABAAkABwADAAYABwD5/+v/8//4//j/8//2////BgD///H/8v/3////AAD///7/BQAQABUAFAAVABIADAASAB0AHAAUAA8ADQARAAwA/P/6//r/9//8//j/+P/9//v///8GAAoACwAAAPX/8P/4/wQA+//0//v/AAD5//n/8P/p//3/CAAAAAQADQAKAAkADQAMAA4AFAAOAAsACQAAAAEACAABAAMABgD5//v/AAD6//v/BgAQAAsACAAPAA4ACgACAP//BwAMAAwABwD1//H/+//9//r/9//8//n/9P/4//j/8//2//b/7P/v//b/8P/z//f/AAADAAAA///1//X/+f/2//H/7P/r/+//8P/v//D/9v////7//v8DAAYADAAMAAwAFQAYAA0AEAAbABMAEAAOAAgADAAMAPv/9P///wQABAAEAAEAAAAOABQAIQApABwAGQAXAAwACgAVAA8ACQAFAP3/9P/1//f/7v/z//j/7v/t//b///8AAPT/8P/5//3/+v/4//b/9P/v/+T/3//e/9v/1v/j//L/8//1//v//v8HAAAA7//5/wQABQAPAA8ADAAKAAcACQAEAAcAEAAHAPz/AgADAAYABQD6//j/9f/0//j/7//s//b/9v/u//D/7//z//H/6P/n/+z//v8EAP//BAARABkAIwAnABgACAAQABAAAgABAAoACwAFAAUAEQAWAA0ACAAQABUAFQAhACYAJwAsAB8AFAAWAAkA/P/3/+7/7P/n/9z/4//t//L//v/+//j/BgAQAAsAFgAbAAYACwAVABEAEQAMABEAGAAIAP7/+//y/+n/8//u/+f/7//r/+f/6f/y/+v/4v/w//D/5v/y//D/6//r/+j/7P/r/+3/8v/0//b/AgAIAAwADAADAAYAFAARAAsADQAOABUAEQARABAACAATABIAAwAAAAAAAAACAAQAAAD4//P/+v8AAAAA///6//X/9P/x/+//9P/4//f/8//1/wIABwACAAgABAAHABAACAAAAAYABgD//wQACwAOABcAFgAIABkAJgAbABsAHAAXABIADwAUAA8AAAD4//P/+f/1//H/+//x/+3/AQD///f/AAD7//T/AAACAPH/6f/i/9v/3v/f/9v/2//a/9L/4f/y/+z/8f8AAPr/9//1//P//f8AAPz/AwATABkACADz//L//P8AAAAAAAD8/wIAAgACABIAIQAbABwAFgAHABMAGAAOAA4AEQAQAA4ACAAIABMAGQAYABkAEgATABsAFAANAA8AFAANAAsACAD1//3/AgD6//f//f8EAAEA/P/9/wAAAAAEABEAGAAJAAIABQD+/wEADAD8/+//8f/0/+z/6P/v/+3/6v/y//X/8//9//r/7v/s//X/AQAFAP//+P/1//D/8P/0//P/9f/6//3/+f/6/wAA/f/0//j/AAAAAAUAAgABAAYACQAAAPf//f/z/+P/5P/o/+3/7//m/+T/7v/t/+v/9P/0//r/CwAIAP//DQAXABEAEQAKAAAABAD6//X/AwADAAkAFgAOAA4AFQANAAwAEgAUABQABgAKABoAEwANAAkACwAZACUAGwAOAAcACgANAAoABAAGAAwACAAIAA0ACwAPABUACwAJABIAGQASABAAEQAQABAAAwD0//D/9//4//v//f/5//T/9f/9/wYADQALAAQA+f/t/+v/6//s/+b/5P/s/+X/2//T/9L/0v/V/9v/1v/X/+j/6//n/+f/4f/q//H/7P/o/+7/AAAIAAgACAAHAAIAAAAAAP7//P8AAP3//P8FAAcACQAFAP7/+P/w//X/AgAMABEAFQAPAA4AGAAXABQAFQAPAAsAFAAQAAMABAAKABQAHAAlACEAGQAZABkAGQAYABQADwAKAAIACQANAA4AGgAeABgAGgAXABcAJAAjABgAEwAKAAgAAgD0//j/8//s//7/CQAAAP3/AgD1/+f/8v/9/+7/4//o/+X/3P/c/+D/2//h/+H/0v/X/+T/5v/k/+j/5v/r//b/9v/w/+z/7//v/+z/+P8CAAUACwAKAAoAFAAYAB0AEwAHAAMAAAAAAPj///8HAPf/8//4//D/9f/4//P/9f/z//n//v/1//f/9f/r//b////x//n/AQD+//z///8DAAgADAAWABwADgAPACAAIwAWABUAEQATAB0AHAAZABkAGQAYABEAEwATAAwADwAYABQADAAHAAoAAgD3/wIA/v/s//j/BAD8/wEACAAJAAUA+P/9/wIACwAfABsACAD8//3/BQABAAIAAADw//X//f/y/+7/9f/t/+T/7//0/+v/5f/i/+n/7//z//T/6//t/+//6//s/+n/5//o/+f/5//v//X/7v/z//b/7f/2/wAA//8GAAkA/v8DAAkADAAMAAQAAAACABQAGgAYAB0AFQAWACIAGgAVABEAAAAHAAwA/v/8/wcADQAMAAwADAAOABIADQAPABEAEwAdACEAIQARAA4AFQALAAwAFQAUABwAHQAVAA8ABwACAAAABgAHAPz/9P/u/+r/8P/v/+v/3//c/97/2P/U/87/0f/T/9X/5f/v/+v/5f/l/+//6//l/+7/8P/o/97/4P/d/9b/3v/k/+P/8P/4//L/6//s//P/AAAHAAIA/v8AAAoAEgAcAB0AHQAYABQAFQAUAA0AEQAeABkAHwAlACkAKgAuAC0AKgAyADgAMgAoACAAFgARAAwAAwD8/wMABwD8/wAAAgD8//3/+f/4/wAAAwD1//f/BAAKAA8ADwADAPj/+P/z/+v/7P/q/+j/7v/w/+//9f/5//P/8P/v//L//v8AAAAA///5//X/8P/s/+f/7P/1//L/7//v//P/AAANABgAFgAQABUACgAGABIADwATABUAEgAKAAAAAwAAAAAABAAAAAkAEwAKAP//9//t/+f/7//4//j/+P/4//j/9f/q//X/9v/v/+z/8P/z/+r/7v/s/97/6P/4//T/AAARABAADAD9//z/DAAHAPz///8AAAMACwAMAAcAAwAAAAEAAwD//xIAGQAMAA0ADAAEAAAA/P8DAAkACQAMAP///v8EAP3/8//w//D/8P/x/wAADgATABUAFQARAAgADQAQAAwAEwATAA4ACgAEAAcACAAMABEAEAAKAAIABwAPABAAEwAVABEACQAAAAAABQAJAAUA/v/8//3/+f/1/+z/5//i/9//5f/n/+H/6/8AAAYA9P/n//j//P/9/wEABAADAAQAAAD0/+j/7v/4//j//P/3//P/9v/3//D/9P/9//j/AAAAAPj/AgAJAAgACAD//wAABgD9//n/+P8BAAMAAAAAAAEABQABAP7/+f/4//z/BAADAAUACAARABQAGQAcABQAHAAZABAADAABAP3/CAALAAMA/P///wAAAAADAAQAAgABAAsACwAHAAwABwAAAAcA/f/0//7/AAACAAsACQAAAAAA/v/x//P/+P/0//r/AgACAPT/5P/o/+3/5//v//D/6//r/+b/6f/0/+7/5f/u//D/7//4//j/9P///wUAAwAIAAsABgANAAEAAAAMAAgACAAOAA8ACgAFAAUADQACAPj/AAADAAAAAQAKAAMAAQAHAAgACAAMAAwADQAWABoAHwAhABYADAAMAAwAEAAMAAgAAwAAAAMA//8BAP3/AAALAAkABAAEAAgAAgD5//P/9f/x/+//8P/w//D/7P/n/+3/7v/t//j/9v/z//T/8f/o/+P/5//n/+7/8//n/+3/+P/3//7/BAAAAPz/BQAMAAYAAwAFAA4AHAAYAA0AEAANAAcADgAUAAcA/v/8/wAACwAJAAQADAARABAAEgAUAAwACAATAA8ACwANAAgACQARABQADwATABIABgAEAAAA9P/0//f/7//q/+f/5//n/+f/6f/y//j/+P/8/wAABAD///3/AQAFAAEAAAD9/wAA/f/8//f/7//v//L//P/6//X/9P/0//T//P/9/wEABAAFAAoADwAPAAsAEAANAAgADQAQAAsABwAKAAwADAAJAAcACAAEAAgADQAMAA0ACgAIAAYAAAD1//T/8P/n/+L/3v/Y/9j/2//b/9r/3v/f/+b/6//n/+z/6//s//P/+//9//n/+P/4//j//f8FAAkADgAZAB8AJAApACoAKQAuADYAMgAuAC0AJwAkABwAFgASAA0ACAAEAAMAAAD8//7/AAD///n/+P/4//T/9P/0/+//8P/u/+v/7P/r/+7/8//3//z//P8AAAUACQANAAoACAAIAAgABQAAAAAAAAAAAAAAAAAIAA0ADgARABAAFAAYABUAFQAUAA8ACgAGAAEAAAD+//j/+P/z//D/9f/5//7/AAABAAcACAALAAwACAANABEADwALAAYABAACAP3//P/8//j/+P/4//j/+P/4//r//f/8//3//P8AAAQABAAEAAMABAABAAAA/v/8//n/+P/0/+//7//r/+z/6//s/+v/6//r/+v/8P/v//D/9P/0//T/9P/0//T/8//4//j/+P/8//3//P/+/wAAAAD9////AAAAAAAAAAAAAAAAAAAAAAAAAAAAAAAAAwAEAAMABAAEAAQABAAEAAQABAAEAAQABAADAAQAAgAAAAAAAgABAAIABQADAAQAAwAEAAQABAAEAAQABAAEAAQABAAAAAAAAAAAAAAAAAAAAAAAAAAAAAAAAAAAAAAAAAAAAAAAAAAAAAAAAAAAAAAAAAADAAQAAwAAAAAAAAAAAAAAAAAAAAAAAAAAAAAAAAAAAAAAAAAAAAAAAAAAAAAAAAAAAAAAAAAAAAAAAAAAAAAAAAAAAAAAAAAAAAAAAAAAAAAAAAAAAAAAAAAAAAAAAAABAAQABAAEAAQABAAEAAQABAAEAAQABAADAAQAAgAAAAAAAAAAAAAAAAAAAAAAAAAAAAAAAAAAAAAAAAAAAAAAAAD8//z//P/8//z//P/8//z//P8AAAAAAAAAAAAAAAAAAAAAAAAAAAAABAAEAAQAAwAAAAAAAAAAAAAAAAADAAQAAwAEAAMABAADAAQAAAA=\" type=\"audio/wav\" />\n",
              "                    Your browser does not support the audio element.\n",
              "                </audio>\n",
              "              "
            ],
            "text/plain": [
              "<IPython.lib.display.Audio object>"
            ]
          },
          "execution_count": 21,
          "metadata": {},
          "output_type": "execute_result"
        }
      ],
      "source": [
        "ipd.Audio(data, rate= sampling_rate)"
      ]
    },
    {
      "cell_type": "code",
      "execution_count": null,
      "metadata": {
        "id": "kiHXDR_kxFDs"
      },
      "outputs": [],
      "source": [
        "data_resampled = librosa.resample(y = data, orig_sr=sampling_rate, target_sr=sampling_rate//4)"
      ]
    },
    {
      "cell_type": "code",
      "execution_count": null,
      "metadata": {
        "colab": {
          "base_uri": "https://localhost:8080/"
        },
        "id": "0O8NawKnxyon",
        "outputId": "c6ac2195-0eaf-4be5-de74-43cc1ebe9562"
      },
      "outputs": [
        {
          "name": "stdout",
          "output_type": "stream",
          "text": [
            "19520\n"
          ]
        }
      ],
      "source": [
        "print(len(data_resampled))"
      ]
    },
    {
      "cell_type": "code",
      "execution_count": null,
      "metadata": {
        "colab": {
          "base_uri": "https://localhost:8080/",
          "height": 52
        },
        "id": "d3sFKmgXyG4C",
        "outputId": "637f57f1-e5a0-4ee2-fd44-05ba8b88513e"
      },
      "outputs": [
        {
          "data": {
            "text/html": [
              "\n",
              "                <audio  controls=\"controls\" >\n",
              "                    <source src=\"data:audio/wav;base64,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\" type=\"audio/wav\" />\n",
              "                    Your browser does not support the audio element.\n",
              "                </audio>\n",
              "              "
            ],
            "text/plain": [
              "<IPython.lib.display.Audio object>"
            ]
          },
          "execution_count": 29,
          "metadata": {},
          "output_type": "execute_result"
        }
      ],
      "source": [
        "ipd.Audio(data_resampled, rate= sampling_rate//4)\n"
      ]
    },
    {
      "cell_type": "code",
      "execution_count": null,
      "metadata": {
        "colab": {
          "base_uri": "https://localhost:8080/"
        },
        "id": "DFnvun4O4zPl",
        "outputId": "d51072aa-f129-4b39-88e1-392e3ea995e6"
      },
      "outputs": [
        {
          "name": "stdout",
          "output_type": "stream",
          "text": [
            "tf.Tensor(-1.4760971400606334e+38, shape=(), dtype=float64)\n"
          ]
        }
      ],
      "source": [
        "W = np.random.rand(128,128)\n",
        "det_W = tf.linalg.det(W)\n",
        "print(det_W)"
      ]
    },
    {
      "cell_type": "code",
      "execution_count": null,
      "metadata": {
        "colab": {
          "base_uri": "https://localhost:8080/"
        },
        "id": "wwxVGe-RKQhA",
        "outputId": "c6b2cf9b-7614-44fa-c5a7-843e3d54bd2a"
      },
      "outputs": [
        {
          "name": "stdout",
          "output_type": "stream",
          "text": [
            "None\n",
            "2\n"
          ]
        }
      ],
      "source": [
        "raw_audio_data_input = tf.keras.Input(shape=(58112,))\n",
        "print(raw_audio_data_input.shape[0])\n",
        "audio_test = tf.squeeze(raw_audio_data_input, axis =0)\n",
        "print(len(raw_audio_data_input.shape))\n"
      ]
    },
    {
      "cell_type": "markdown",
      "source": [
        "#predict test"
      ],
      "metadata": {
        "id": "0Gp7U_labgn1"
      }
    },
    {
      "cell_type": "code",
      "source": [
        "class audio_data_preprocessing_transformed_predict():\n",
        "  def m4a_to_wav(self, m4a_folder_name, wav_folder_name):\n",
        "    dir_path = os.getcwd()\n",
        "    m4a_folder_path = os.path.join(dir_path, m4a_folder_name)\n",
        "    wav_folder_path = os.path.join(dir_path, wav_folder_name)\n",
        "\n",
        "    for file_name in os.listdir(m4a_folder_path):\n",
        "      file_path = os.path.join(m4a_folder_path, file_name)\n",
        "      if os.path.isdir(file_path) != True:\n",
        "        audio_m4a = AudioSegment.from_file(file_path, format='m4a')\n",
        "\n",
        "        wav_file_path = os.path.join(wav_folder_name, file_name)\n",
        "        audio_m4a.export(wav_file_path, format='wav')\n",
        "      else:\n",
        "        pass;\n",
        "  def Mel_spectrogram(self,wav_folder_name, frame_length, frame_stride, n_mels):\n",
        "    mel_spectrogram_list = []\n",
        "    dir_name = os.getcwd()\n",
        "    wav_folder_path = os.path.join(dir_name, wav_folder_name)\n",
        "    for file_name in os.listdir(wav_folder_path):\n",
        "      wav_file_path = os.path.join(wav_folder_path, file_name)\n",
        "      if os.path.isdir(wav_file_path) != True:\n",
        "        data, sampling_rate = librosa.load(wav_file_path)\n",
        "        n_fft = int(round(sampling_rate * frame_length))\n",
        "        stride = int(round(sampling_rate * frame_stride))\n",
        "      else:\n",
        "        pass;\n",
        "\n",
        "      mel_spectrogram = librosa.feature.melspectrogram(y=data, sr=sampling_rate, n_fft=n_fft,\n",
        "                                                      hop_length = stride,n_mels = n_mels )\n",
        "      mel_spectrogram_list.append(mel_spectrogram)\n",
        "\n",
        "    return mel_spectrogram_list\n",
        "  def mel_spectrogram_list_pad(self,Mel_spectrogram_list, embedding_dim):\n",
        "    length_list = []\n",
        "    for mel_spectrogram in Mel_spectrogram_list:\n",
        "      #print(mel_spectrogram.shape)\n",
        "      length_list.append(mel_spectrogram.shape[1])\n",
        "    max_length = max(length_list)\n",
        "    mel_spectrogram_list = []\n",
        "    for mel_spectrogram in Mel_spectrogram_list:\n",
        "      if max_length > embedding_dim:\n",
        "\n",
        "        mel_spectrogram = np.pad(mel_spectrogram, pad_width = ((0,0), (0,max_length - mel_spectrogram.shape[1])),\n",
        "              mode = 'constant', constant_values=0)\n",
        "        mel_spectrogram_list.append(mel_spectrogram)\n",
        "      else:\n",
        "        mel_spectrogram = np.pad(mel_spectrogram, pad_width = ((0,0), (0,embedding_dim - mel_spectrogram.shape[1])),\n",
        "              mode = 'constant', constant_values=0)\n",
        "        mel_spectrogram_list.append(mel_spectrogram)\n",
        "\n",
        "    return mel_spectrogram_list\n",
        "  def mel_spectrogram_to_numpy(self,mel_spectrogram_list):\n",
        "    n_of_mel_spectrogram = len(mel_spectrogram_list)\n",
        "    mel_spectrogram_numpy = np.zeros((n_of_mel_spectrogram, mel_spectrogram_list[0].shape[0], mel_spectrogram_list[0].shape[1]))\n",
        "    for i, mel_spectrogram in enumerate(mel_spectrogram_list):\n",
        "      mel_spectrogram_numpy[i][:][:] = mel_spectrogram\n",
        "\n",
        "    return mel_spectrogram_numpy\n",
        "\n",
        "  def call(self,m4a_folder_name, wav_folder_name, frame_length, frame_stride, n_mels, embedding_dim):\n",
        "\n",
        "    self.m4a_to_wav(m4a_folder_name, wav_folder_name)\n",
        "    mel_spectrogram_list = self.Mel_spectrogram(wav_folder_name, frame_length, frame_stride, n_mels)\n",
        "    mel_spectrogram_list = self.mel_spectrogram_list_pad(mel_spectrogram_list, embedding_dim)\n",
        "    mel_spectrogram = self.mel_spectrogram_to_numpy(mel_spectrogram_list)\n",
        "    return mel_spectrogram\n"
      ],
      "metadata": {
        "id": "3LIo65cQb4yE"
      },
      "execution_count": null,
      "outputs": []
    },
    {
      "cell_type": "code",
      "source": [
        "loaded_model = load_model('/content/drive/MyDrive/glow_model/waveglow_9', custom_objects={\n",
        "    'Invertible_Convolution_3': Invertible_Convolution_3,\n",
        "    'WaveNet_3': WaveNet_3,\n",
        "    'Affine_Coupling_Layer': Affine_Coupling_Layer,\n",
        "    'WaveGlow3': WaveGlow3\n",
        "})"
      ],
      "metadata": {
        "id": "Wpwu0uWE5Oyj"
      },
      "execution_count": null,
      "outputs": []
    },
    {
      "cell_type": "code",
      "source": [
        "audio_preprocessing_predict = audio_data_preprocessing_transformed_predict()\n",
        "mel_spectrogram_test = audio_preprocessing_predict.call('m4a_folder', 'wav_folder', 0.025, 0.010, 80, 846)\n",
        "#mel_sample = tf.tile(mel_spectrogram_test,[8,1,1])"
      ],
      "metadata": {
        "id": "85LTg-XPb9V6",
        "colab": {
          "base_uri": "https://localhost:8080/"
        },
        "outputId": "48697127-df55-4098-92e0-b603ed3abe8b"
      },
      "execution_count": null,
      "outputs": [
        {
          "output_type": "stream",
          "name": "stderr",
          "text": [
            "<ipython-input-21-af4431281f99>:23: UserWarning: PySoundFile failed. Trying audioread instead.\n",
            "  data, sampling_rate = librosa.load(wav_file_path)\n",
            "/usr/local/lib/python3.10/dist-packages/librosa/core/audio.py:184: FutureWarning: librosa.core.audio.__audioread_load\n",
            "\tDeprecated as of librosa version 0.10.0.\n",
            "\tIt will be removed in librosa version 1.0.\n",
            "  y, sr_native = __audioread_load(path, offset, duration, dtype)\n"
          ]
        }
      ]
    },
    {
      "cell_type": "code",
      "source": [
        "raw_audio_data_test = raw_audio_preprocessing.call('wav_folder')"
      ],
      "metadata": {
        "colab": {
          "base_uri": "https://localhost:8080/"
        },
        "id": "p3jiZZuSeUfK",
        "outputId": "4a7ed4b6-281d-4f72-d8b2-47df6a386f3a"
      },
      "execution_count": null,
      "outputs": [
        {
          "output_type": "stream",
          "name": "stdout",
          "text": [
            "sampling_rate:2756\n"
          ]
        },
        {
          "output_type": "stream",
          "name": "stderr",
          "text": [
            "<ipython-input-28-f7f7d56f84f0>:13: UserWarning: PySoundFile failed. Trying audioread instead.\n",
            "  data, sampling_rate = librosa.load(wav_file_path)\n",
            "/usr/local/lib/python3.10/dist-packages/librosa/core/audio.py:184: FutureWarning: librosa.core.audio.__audioread_load\n",
            "\tDeprecated as of librosa version 0.10.0.\n",
            "\tIt will be removed in librosa version 1.0.\n",
            "  y, sr_native = __audioread_load(path, offset, duration, dtype)\n"
          ]
        }
      ]
    },
    {
      "cell_type": "code",
      "source": [
        "mel_test = tf.tile(mel_spectrogram_test, [32,1,1])\n",
        "raw_audio_test = tf.tile(raw_audio_data_test, [32,1])\n",
        "\n",
        "print(mel_test.shape)\n",
        "print(raw_audio_test.shape)"
      ],
      "metadata": {
        "colab": {
          "base_uri": "https://localhost:8080/"
        },
        "id": "77KdZOJ8cnKi",
        "outputId": "3cb2b0ec-30d9-4df7-9b1a-402f337afef9"
      },
      "execution_count": null,
      "outputs": [
        {
          "output_type": "stream",
          "name": "stdout",
          "text": [
            "(32, 80, 846)\n",
            "(32, 27072)\n"
          ]
        }
      ]
    },
    {
      "cell_type": "code",
      "source": [
        "loss, output= loaded_model((raw_audio_test,mel_test))"
      ],
      "metadata": {
        "id": "J91An6Zu5yKf"
      },
      "execution_count": null,
      "outputs": []
    },
    {
      "cell_type": "code",
      "source": [
        "print(output.shape)"
      ],
      "metadata": {
        "colab": {
          "base_uri": "https://localhost:8080/"
        },
        "id": "53zYaWL057D3",
        "outputId": "122707c1-bb4e-49e1-c963-a5569671e50c"
      },
      "execution_count": null,
      "outputs": [
        {
          "output_type": "stream",
          "name": "stdout",
          "text": [
            "(32, 3384, 8)\n"
          ]
        }
      ]
    },
    {
      "cell_type": "code",
      "source": [
        "output_refine = output[:1,:,:]\n",
        "print(output_refine.shape)"
      ],
      "metadata": {
        "colab": {
          "base_uri": "https://localhost:8080/"
        },
        "id": "5VngUBd16CHn",
        "outputId": "7f33538f-1365-4fdb-baaa-da8bdd997924"
      },
      "execution_count": null,
      "outputs": [
        {
          "output_type": "stream",
          "name": "stdout",
          "text": [
            "(1, 3384, 8)\n"
          ]
        }
      ]
    },
    {
      "cell_type": "code",
      "source": [
        "mean = np.mean(output_refine)\n",
        "stddev = np.std(output_refine)"
      ],
      "metadata": {
        "id": "XghaA_tf7otF"
      },
      "execution_count": null,
      "outputs": []
    },
    {
      "cell_type": "code",
      "source": [
        "z = tf.random.normal(shape= output_refine.shape, mean=mean, stddev=stddev)"
      ],
      "metadata": {
        "id": "nyir8Cnb47aA"
      },
      "execution_count": null,
      "outputs": []
    },
    {
      "cell_type": "code",
      "source": [
        "audio_sample = loaded_model.reverse(z, mel_spectrogram_test)\n",
        "sampling_rate = 2756"
      ],
      "metadata": {
        "id": "Cv-jOQmX6R9j"
      },
      "execution_count": null,
      "outputs": []
    },
    {
      "cell_type": "code",
      "source": [
        "print(audio_sample.shape)\n",
        "final_audio = tf.reshape(audio_sample, [1,audio_sample.shape[1] * audio_sample.shape[2]])[0]\n",
        "print(final_audio.shape)"
      ],
      "metadata": {
        "colab": {
          "base_uri": "https://localhost:8080/"
        },
        "id": "HvvlNOAMdE6d",
        "outputId": "e9478978-42c6-4396-94ad-3d3f6197cf14"
      },
      "execution_count": null,
      "outputs": [
        {
          "output_type": "stream",
          "name": "stdout",
          "text": [
            "(1, 3384, 8)\n",
            "(27072,)\n"
          ]
        }
      ]
    },
    {
      "cell_type": "code",
      "source": [
        "ipd.Audio(final_audio, rate=3000)\n"
      ],
      "metadata": {
        "colab": {
          "base_uri": "https://localhost:8080/",
          "height": 52
        },
        "id": "W5T7sX1qdYij",
        "outputId": "d7b3b3c7-dbe2-4409-aeb1-fc97fd3574cb"
      },
      "execution_count": null,
      "outputs": [
        {
          "output_type": "execute_result",
          "data": {
            "text/plain": [
              "<IPython.lib.display.Audio object>"
            ],
            "text/html": [
              "\n",
              "                <audio  controls=\"controls\" >\n",
              "                    <source src=\"data:audio/wav;base64,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\" type=\"audio/wav\" />\n",
              "                    Your browser does not support the audio element.\n",
              "                </audio>\n",
              "              "
            ]
          },
          "metadata": {},
          "execution_count": 73
        }
      ]
    },
    {
      "cell_type": "code",
      "source": [
        "loaded_model.summary()"
      ],
      "metadata": {
        "colab": {
          "base_uri": "https://localhost:8080/"
        },
        "id": "GASq1AQH7gRa",
        "outputId": "fb21617e-7d25-4b02-9a7d-ede33b26ffeb"
      },
      "execution_count": null,
      "outputs": [
        {
          "output_type": "stream",
          "name": "stdout",
          "text": [
            "Model: \"wave_glow3\"\n",
            "_________________________________________________________________\n",
            " Layer (type)                Output Shape              Param #   \n",
            "=================================================================\n",
            " up_sampling1d (UpSampling1D  multiple                 0         \n",
            " )                                                               \n",
            "                                                                 \n",
            " invertible__convolution_3 (  multiple                 64        \n",
            " Invertible_Convolution_3)                                       \n",
            "                                                                 \n",
            " invertible__convolution_3_1  multiple                 64        \n",
            "  (Invertible_Convolution_3)                                     \n",
            "                                                                 \n",
            " invertible__convolution_3_2  multiple                 64        \n",
            "  (Invertible_Convolution_3)                                     \n",
            "                                                                 \n",
            " invertible__convolution_3_3  multiple                 64        \n",
            "  (Invertible_Convolution_3)                                     \n",
            "                                                                 \n",
            " invertible__convolution_3_4  multiple                 64        \n",
            "  (Invertible_Convolution_3)                                     \n",
            "                                                                 \n",
            " invertible__convolution_3_5  multiple                 64        \n",
            "  (Invertible_Convolution_3)                                     \n",
            "                                                                 \n",
            " invertible__convolution_3_6  multiple                 64        \n",
            "  (Invertible_Convolution_3)                                     \n",
            "                                                                 \n",
            " invertible__convolution_3_7  multiple                 64        \n",
            "  (Invertible_Convolution_3)                                     \n",
            "                                                                 \n",
            " invertible__convolution_3_8  multiple                 64        \n",
            "  (Invertible_Convolution_3)                                     \n",
            "                                                                 \n",
            " invertible__convolution_3_9  multiple                 64        \n",
            "  (Invertible_Convolution_3)                                     \n",
            "                                                                 \n",
            " invertible__convolution_3_1  multiple                 64        \n",
            " 0 (Invertible_Convolution_3                                     \n",
            " )                                                               \n",
            "                                                                 \n",
            " invertible__convolution_3_1  multiple                 64        \n",
            " 1 (Invertible_Convolution_3                                     \n",
            " )                                                               \n",
            "                                                                 \n",
            " affine__coupling__layer (Af  multiple                 536872    \n",
            " fine_Coupling_Layer)                                            \n",
            "                                                                 \n",
            " affine__coupling__layer_1 (  multiple                 536872    \n",
            " Affine_Coupling_Layer)                                          \n",
            "                                                                 \n",
            " affine__coupling__layer_2 (  multiple                 536872    \n",
            " Affine_Coupling_Layer)                                          \n",
            "                                                                 \n",
            " affine__coupling__layer_3 (  multiple                 536872    \n",
            " Affine_Coupling_Layer)                                          \n",
            "                                                                 \n",
            " affine__coupling__layer_4 (  multiple                 536872    \n",
            " Affine_Coupling_Layer)                                          \n",
            "                                                                 \n",
            " affine__coupling__layer_5 (  multiple                 536872    \n",
            " Affine_Coupling_Layer)                                          \n",
            "                                                                 \n",
            " affine__coupling__layer_6 (  multiple                 536872    \n",
            " Affine_Coupling_Layer)                                          \n",
            "                                                                 \n",
            " affine__coupling__layer_7 (  multiple                 536872    \n",
            " Affine_Coupling_Layer)                                          \n",
            "                                                                 \n",
            " affine__coupling__layer_8 (  multiple                 536872    \n",
            " Affine_Coupling_Layer)                                          \n",
            "                                                                 \n",
            " affine__coupling__layer_9 (  multiple                 536872    \n",
            " Affine_Coupling_Layer)                                          \n",
            "                                                                 \n",
            " affine__coupling__layer_10   multiple                 536872    \n",
            " (Affine_Coupling_Layer)                                         \n",
            "                                                                 \n",
            " affine__coupling__layer_11   multiple                 536872    \n",
            " (Affine_Coupling_Layer)                                         \n",
            "                                                                 \n",
            "=================================================================\n",
            "Total params: 6,443,232\n",
            "Trainable params: 6,443,232\n",
            "Non-trainable params: 0\n",
            "_________________________________________________________________\n"
          ]
        }
      ]
    },
    {
      "cell_type": "code",
      "source": [
        "ipd.Audio(raw_audio_data[0,:],rate =3000)"
      ],
      "metadata": {
        "colab": {
          "base_uri": "https://localhost:8080/",
          "height": 52
        },
        "id": "5wRMahRPdfp4",
        "outputId": "51ac738c-e37b-4ace-947f-5dcc42814784"
      },
      "execution_count": null,
      "outputs": [
        {
          "output_type": "execute_result",
          "data": {
            "text/plain": [
              "<IPython.lib.display.Audio object>"
            ],
            "text/html": [
              "\n",
              "                <audio  controls=\"controls\" >\n",
              "                    <source src=\"data:audio/wav;base64,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\" type=\"audio/wav\" />\n",
              "                    Your browser does not support the audio element.\n",
              "                </audio>\n",
              "              "
            ]
          },
          "metadata": {},
          "execution_count": 12
        }
      ]
    },
    {
      "cell_type": "code",
      "source": [
        "raw_test = raw_audio_data[:1,:]\n",
        "print(raw_test.shape)"
      ],
      "metadata": {
        "colab": {
          "base_uri": "https://localhost:8080/"
        },
        "id": "emQEWtohHzgz",
        "outputId": "eb394ead-80f4-43c7-b0e1-99c4c7861288"
      },
      "execution_count": null,
      "outputs": [
        {
          "output_type": "stream",
          "name": "stdout",
          "text": [
            "(1, 27072)\n"
          ]
        }
      ]
    },
    {
      "cell_type": "code",
      "source": [
        "raw_1 = tf.reshape(raw_test,[1,3384,8])"
      ],
      "metadata": {
        "id": "wTxsJJ1n7uZ6"
      },
      "execution_count": null,
      "outputs": []
    },
    {
      "cell_type": "code",
      "source": [
        "raw_2 = tf.reshape(raw_1,[1,27072])"
      ],
      "metadata": {
        "id": "fspSaNa872OQ"
      },
      "execution_count": null,
      "outputs": []
    },
    {
      "cell_type": "code",
      "source": [
        "raw_3 = raw_2[0,:]\n",
        "print(raw_3.shape)"
      ],
      "metadata": {
        "colab": {
          "base_uri": "https://localhost:8080/"
        },
        "id": "nWITKe97754j",
        "outputId": "a7350681-70d7-45ff-8199-bff623468c70"
      },
      "execution_count": null,
      "outputs": [
        {
          "output_type": "stream",
          "name": "stdout",
          "text": [
            "(27072,)\n"
          ]
        }
      ]
    },
    {
      "cell_type": "code",
      "source": [
        "ipd.Audio(raw_3,rate=3000)"
      ],
      "metadata": {
        "colab": {
          "base_uri": "https://localhost:8080/",
          "height": 52
        },
        "id": "FBadhN1v7907",
        "outputId": "ffe61c6f-80c0-44cd-df3a-deabf91c2952"
      },
      "execution_count": null,
      "outputs": [
        {
          "output_type": "execute_result",
          "data": {
            "text/plain": [
              "<IPython.lib.display.Audio object>"
            ],
            "text/html": [
              "\n",
              "                <audio  controls=\"controls\" >\n",
              "                    <source src=\"data:audio/wav;base64,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\" type=\"audio/wav\" />\n",
              "                    Your browser does not support the audio element.\n",
              "                </audio>\n",
              "              "
            ]
          },
          "metadata": {},
          "execution_count": 20
        }
      ]
    },
    {
      "cell_type": "code",
      "source": [
        "import torch\n",
        "waveglow = torch.hub.load('nvidia/DeepLearningExamples:torchhub', 'nvidia_waveglow')"
      ],
      "metadata": {
        "colab": {
          "base_uri": "https://localhost:8080/"
        },
        "id": "PhF2Kx18CikB",
        "outputId": "576bbbc4-1b2e-43ef-b84c-a8a87bb3cab7"
      },
      "execution_count": null,
      "outputs": [
        {
          "output_type": "stream",
          "name": "stderr",
          "text": [
            "/usr/local/lib/python3.10/dist-packages/torch/hub.py:286: UserWarning: You are about to download and run code from an untrusted repository. In a future release, this won't be allowed. To add the repository to your trusted list, change the command to {calling_fn}(..., trust_repo=False) and a command prompt will appear asking for an explicit confirmation of trust, or load(..., trust_repo=True), which will assume that the prompt is to be answered with 'yes'. You can also use load(..., trust_repo='check') which will only prompt for confirmation if the repo is not already trusted. This will eventually be the default behaviour\n",
            "  warnings.warn(\n",
            "Downloading: \"https://github.com/nvidia/DeepLearningExamples/zipball/torchhub\" to /root/.cache/torch/hub/torchhub.zip\n",
            "/root/.cache/torch/hub/nvidia_DeepLearningExamples_torchhub/PyTorch/Classification/ConvNets/image_classification/models/common.py:13: UserWarning: pytorch_quantization module not found, quantization will not be available\n",
            "  warnings.warn(\n",
            "/root/.cache/torch/hub/nvidia_DeepLearningExamples_torchhub/PyTorch/Classification/ConvNets/image_classification/models/efficientnet.py:17: UserWarning: pytorch_quantization module not found, quantization will not be available\n",
            "  warnings.warn(\n",
            "Downloading checkpoint from https://api.ngc.nvidia.com/v2/models/nvidia/waveglow_ckpt_fp32/versions/19.09.0/files/nvidia_waveglowpyt_fp32_20190427\n"
          ]
        }
      ]
    },
    {
      "cell_type": "code",
      "source": [
        "print(mel_spectrogram.shape)\n",
        "mel = torch.tensor(mel_spectrogram[:1,:,:], dtype=torch.float64)"
      ],
      "metadata": {
        "colab": {
          "base_uri": "https://localhost:8080/"
        },
        "id": "SOyc3aV_DSTs",
        "outputId": "65dd3b32-942b-43ed-b8e3-c28ffcfdf7ba"
      },
      "execution_count": null,
      "outputs": [
        {
          "output_type": "stream",
          "name": "stdout",
          "text": [
            "(1206, 80, 949)\n"
          ]
        }
      ]
    },
    {
      "cell_type": "code",
      "source": [
        "with torch.no_grad():\n",
        "    audio = waveglow.infer(mel)"
      ],
      "metadata": {
        "colab": {
          "base_uri": "https://localhost:8080/",
          "height": 334
        },
        "id": "zAns2ztXDIAS",
        "outputId": "c822c342-dce2-45b5-bb38-8488db76a06e"
      },
      "execution_count": null,
      "outputs": [
        {
          "output_type": "error",
          "ename": "RuntimeError",
          "evalue": "ignored",
          "traceback": [
            "\u001b[0;31m---------------------------------------------------------------------------\u001b[0m",
            "\u001b[0;31mRuntimeError\u001b[0m                              Traceback (most recent call last)",
            "\u001b[0;32m<ipython-input-27-19d56321f576>\u001b[0m in \u001b[0;36m<cell line: 1>\u001b[0;34m()\u001b[0m\n\u001b[1;32m      1\u001b[0m \u001b[0;32mwith\u001b[0m \u001b[0mtorch\u001b[0m\u001b[0;34m.\u001b[0m\u001b[0mno_grad\u001b[0m\u001b[0;34m(\u001b[0m\u001b[0;34m)\u001b[0m\u001b[0;34m:\u001b[0m\u001b[0;34m\u001b[0m\u001b[0;34m\u001b[0m\u001b[0m\n\u001b[0;32m----> 2\u001b[0;31m     \u001b[0maudio\u001b[0m \u001b[0;34m=\u001b[0m \u001b[0mwaveglow\u001b[0m\u001b[0;34m.\u001b[0m\u001b[0minfer\u001b[0m\u001b[0;34m(\u001b[0m\u001b[0mmel\u001b[0m\u001b[0;34m)\u001b[0m\u001b[0;34m\u001b[0m\u001b[0;34m\u001b[0m\u001b[0m\n\u001b[0m",
            "\u001b[0;32m~/.cache/torch/hub/nvidia_DeepLearningExamples_torchhub/PyTorch/SpeechSynthesis/Tacotron2/waveglow/model.py\u001b[0m in \u001b[0;36minfer\u001b[0;34m(self, spect, sigma)\u001b[0m\n\u001b[1;32m    234\u001b[0m     \u001b[0;32mdef\u001b[0m \u001b[0minfer\u001b[0m\u001b[0;34m(\u001b[0m\u001b[0mself\u001b[0m\u001b[0;34m,\u001b[0m \u001b[0mspect\u001b[0m\u001b[0;34m,\u001b[0m \u001b[0msigma\u001b[0m\u001b[0;34m=\u001b[0m\u001b[0;36m1.0\u001b[0m\u001b[0;34m)\u001b[0m\u001b[0;34m:\u001b[0m\u001b[0;34m\u001b[0m\u001b[0;34m\u001b[0m\u001b[0m\n\u001b[1;32m    235\u001b[0m \u001b[0;34m\u001b[0m\u001b[0m\n\u001b[0;32m--> 236\u001b[0;31m         \u001b[0mspect\u001b[0m \u001b[0;34m=\u001b[0m \u001b[0mself\u001b[0m\u001b[0;34m.\u001b[0m\u001b[0mupsample\u001b[0m\u001b[0;34m(\u001b[0m\u001b[0mspect\u001b[0m\u001b[0;34m)\u001b[0m\u001b[0;34m\u001b[0m\u001b[0;34m\u001b[0m\u001b[0m\n\u001b[0m\u001b[1;32m    237\u001b[0m         \u001b[0;31m# trim conv artifacts. maybe pad spec to kernel multiple\u001b[0m\u001b[0;34m\u001b[0m\u001b[0;34m\u001b[0m\u001b[0m\n\u001b[1;32m    238\u001b[0m         \u001b[0mtime_cutoff\u001b[0m \u001b[0;34m=\u001b[0m \u001b[0mself\u001b[0m\u001b[0;34m.\u001b[0m\u001b[0mupsample\u001b[0m\u001b[0;34m.\u001b[0m\u001b[0mkernel_size\u001b[0m\u001b[0;34m[\u001b[0m\u001b[0;36m0\u001b[0m\u001b[0;34m]\u001b[0m \u001b[0;34m-\u001b[0m \u001b[0mself\u001b[0m\u001b[0;34m.\u001b[0m\u001b[0mupsample\u001b[0m\u001b[0;34m.\u001b[0m\u001b[0mstride\u001b[0m\u001b[0;34m[\u001b[0m\u001b[0;36m0\u001b[0m\u001b[0;34m]\u001b[0m\u001b[0;34m\u001b[0m\u001b[0;34m\u001b[0m\u001b[0m\n",
            "\u001b[0;32m/usr/local/lib/python3.10/dist-packages/torch/nn/modules/module.py\u001b[0m in \u001b[0;36m_call_impl\u001b[0;34m(self, *args, **kwargs)\u001b[0m\n\u001b[1;32m   1499\u001b[0m                 \u001b[0;32mor\u001b[0m \u001b[0m_global_backward_pre_hooks\u001b[0m \u001b[0;32mor\u001b[0m \u001b[0m_global_backward_hooks\u001b[0m\u001b[0;34m\u001b[0m\u001b[0;34m\u001b[0m\u001b[0m\n\u001b[1;32m   1500\u001b[0m                 or _global_forward_hooks or _global_forward_pre_hooks):\n\u001b[0;32m-> 1501\u001b[0;31m             \u001b[0;32mreturn\u001b[0m \u001b[0mforward_call\u001b[0m\u001b[0;34m(\u001b[0m\u001b[0;34m*\u001b[0m\u001b[0margs\u001b[0m\u001b[0;34m,\u001b[0m \u001b[0;34m**\u001b[0m\u001b[0mkwargs\u001b[0m\u001b[0;34m)\u001b[0m\u001b[0;34m\u001b[0m\u001b[0;34m\u001b[0m\u001b[0m\n\u001b[0m\u001b[1;32m   1502\u001b[0m         \u001b[0;31m# Do not call functions when jit is used\u001b[0m\u001b[0;34m\u001b[0m\u001b[0;34m\u001b[0m\u001b[0m\n\u001b[1;32m   1503\u001b[0m         \u001b[0mfull_backward_hooks\u001b[0m\u001b[0;34m,\u001b[0m \u001b[0mnon_full_backward_hooks\u001b[0m \u001b[0;34m=\u001b[0m \u001b[0;34m[\u001b[0m\u001b[0;34m]\u001b[0m\u001b[0;34m,\u001b[0m \u001b[0;34m[\u001b[0m\u001b[0;34m]\u001b[0m\u001b[0;34m\u001b[0m\u001b[0;34m\u001b[0m\u001b[0m\n",
            "\u001b[0;32m/usr/local/lib/python3.10/dist-packages/torch/nn/modules/conv.py\u001b[0m in \u001b[0;36mforward\u001b[0;34m(self, input, output_size)\u001b[0m\n\u001b[1;32m    799\u001b[0m             \u001b[0minput\u001b[0m\u001b[0;34m,\u001b[0m \u001b[0moutput_size\u001b[0m\u001b[0;34m,\u001b[0m \u001b[0mself\u001b[0m\u001b[0;34m.\u001b[0m\u001b[0mstride\u001b[0m\u001b[0;34m,\u001b[0m \u001b[0mself\u001b[0m\u001b[0;34m.\u001b[0m\u001b[0mpadding\u001b[0m\u001b[0;34m,\u001b[0m \u001b[0mself\u001b[0m\u001b[0;34m.\u001b[0m\u001b[0mkernel_size\u001b[0m\u001b[0;34m,\u001b[0m  \u001b[0;31m# type: ignore[arg-type]\u001b[0m\u001b[0;34m\u001b[0m\u001b[0;34m\u001b[0m\u001b[0m\n\u001b[1;32m    800\u001b[0m             num_spatial_dims, self.dilation)  # type: ignore[arg-type]\n\u001b[0;32m--> 801\u001b[0;31m         return F.conv_transpose1d(\n\u001b[0m\u001b[1;32m    802\u001b[0m             \u001b[0minput\u001b[0m\u001b[0;34m,\u001b[0m \u001b[0mself\u001b[0m\u001b[0;34m.\u001b[0m\u001b[0mweight\u001b[0m\u001b[0;34m,\u001b[0m \u001b[0mself\u001b[0m\u001b[0;34m.\u001b[0m\u001b[0mbias\u001b[0m\u001b[0;34m,\u001b[0m \u001b[0mself\u001b[0m\u001b[0;34m.\u001b[0m\u001b[0mstride\u001b[0m\u001b[0;34m,\u001b[0m \u001b[0mself\u001b[0m\u001b[0;34m.\u001b[0m\u001b[0mpadding\u001b[0m\u001b[0;34m,\u001b[0m\u001b[0;34m\u001b[0m\u001b[0;34m\u001b[0m\u001b[0m\n\u001b[1;32m    803\u001b[0m             output_padding, self.groups, self.dilation)\n",
            "\u001b[0;31mRuntimeError\u001b[0m: expected scalar type Double but found Float"
          ]
        }
      ]
    }
  ],
  "metadata": {
    "accelerator": "GPU",
    "colab": {
      "collapsed_sections": [
        "vb3y56PnvRiK",
        "VbrVQ1b1vV4y",
        "tSymFrYDPFEe",
        "zuYT6QwkvYGt",
        "CRtO6Xx7eMIs",
        "CFI8aoWswHNC",
        "h5ah1h34w6Mq",
        "SVdB148mCgj2",
        "KpIxJ0ThPeCF",
        "HLSYhAeSTo3d",
        "gwCSmIANUt2Z",
        "B_n2HOhLCfF5",
        "z1lclk_YT1dG",
        "ycfGcpySxEGc",
        "0Gp7U_labgn1"
      ],
      "machine_shape": "hm",
      "provenance": [],
      "gpuType": "T4",
      "authorship_tag": "ABX9TyP3T0TSnzOYY9O/lkesrE+l",
      "include_colab_link": true
    },
    "kernelspec": {
      "display_name": "Python 3",
      "name": "python3"
    },
    "language_info": {
      "name": "python"
    }
  },
  "nbformat": 4,
  "nbformat_minor": 0
}
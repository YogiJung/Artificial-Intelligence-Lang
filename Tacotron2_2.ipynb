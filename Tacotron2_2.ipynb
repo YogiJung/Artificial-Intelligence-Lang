{
  "cells": [
    {
      "cell_type": "markdown",
      "metadata": {
        "id": "view-in-github",
        "colab_type": "text"
      },
      "source": [
        "<a href=\"https://colab.research.google.com/github/YogiJungHoonYeon/Artificial-Intelligence-Lang/blob/main/Tacotron2_2.ipynb\" target=\"_parent\"><img src=\"https://colab.research.google.com/assets/colab-badge.svg\" alt=\"Open In Colab\"/></a>"
      ]
    },
    {
      "cell_type": "markdown",
      "metadata": {
        "id": "EiSH43LOJ7EM"
      },
      "source": [
        "#!pip"
      ]
    },
    {
      "cell_type": "code",
      "execution_count": null,
      "metadata": {
        "id": "ZyZPPWJ8J8ZC",
        "colab": {
          "base_uri": "https://localhost:8080/"
        },
        "outputId": "803811a3-ca91-4368-f806-9ecf64a5dcdf"
      },
      "outputs": [
        {
          "output_type": "stream",
          "name": "stdout",
          "text": [
            "Collecting ffmpeg\n",
            "  Downloading ffmpeg-1.4.tar.gz (5.1 kB)\n",
            "  Preparing metadata (setup.py) ... \u001b[?25l\u001b[?25hdone\n",
            "Building wheels for collected packages: ffmpeg\n",
            "  Building wheel for ffmpeg (setup.py) ... \u001b[?25l\u001b[?25hdone\n",
            "  Created wheel for ffmpeg: filename=ffmpeg-1.4-py3-none-any.whl size=6082 sha256=ddb051b9470f71804da12404f60c8123a06a1db1ef0f0bc9d0c85e292fe22d7b\n",
            "  Stored in directory: /root/.cache/pip/wheels/8e/7a/69/cd6aeb83b126a7f04cbe7c9d929028dc52a6e7d525ff56003a\n",
            "Successfully built ffmpeg\n",
            "Installing collected packages: ffmpeg\n",
            "Successfully installed ffmpeg-1.4\n",
            "Collecting pydub\n",
            "  Downloading pydub-0.25.1-py2.py3-none-any.whl (32 kB)\n",
            "Installing collected packages: pydub\n",
            "Successfully installed pydub-0.25.1\n",
            "Collecting jamo\n",
            "  Downloading jamo-0.4.1-py3-none-any.whl (9.5 kB)\n",
            "Installing collected packages: jamo\n",
            "Successfully installed jamo-0.4.1\n"
          ]
        }
      ],
      "source": [
        "!pip install ffmpeg\n",
        "!pip install pydub\n",
        "!pip install jamo"
      ]
    },
    {
      "cell_type": "markdown",
      "metadata": {
        "id": "hkji2aYQJye9"
      },
      "source": [
        "#modules"
      ]
    },
    {
      "cell_type": "code",
      "execution_count": null,
      "metadata": {
        "id": "5qefaQTnJ6CO"
      },
      "outputs": [],
      "source": [
        "import os\n",
        "import numpy as np\n",
        "import tensorflow as tf\n",
        "import matplotlib.pyplot as plt\n",
        "from tensorflow.keras.models import Model\n",
        "from tensorflow.keras.callbacks import ModelCheckpoint, TensorBoard\n",
        "import re\n",
        "import pandas as pd\n",
        "from jamo import h2j, j2hcj\n",
        "from scipy.io import wavfile #입력\n",
        "import IPython.display as ipd #출력\n",
        "from pydub import AudioSegment #m4a -> wave file\n",
        "import librosa\n",
        "import csv\n",
        "import unicodedata\n",
        "\n",
        "\n"
      ]
    },
    {
      "cell_type": "markdown",
      "source": [
        "#Data_Preprocessing_New"
      ],
      "metadata": {
        "id": "dKj7JAAS5jGP"
      }
    },
    {
      "cell_type": "code",
      "source": [
        "from google.colab import drive\n",
        "\n",
        "drive.mount('/content/drive')"
      ],
      "metadata": {
        "id": "9hsrn_6C5mBS",
        "colab": {
          "base_uri": "https://localhost:8080/"
        },
        "outputId": "507d8c74-6b8a-4ccd-ce3f-ea50baac18fb"
      },
      "execution_count": null,
      "outputs": [
        {
          "output_type": "stream",
          "name": "stdout",
          "text": [
            "Mounted at /content/drive\n"
          ]
        }
      ]
    },
    {
      "cell_type": "code",
      "source": [
        "dataset_path = '/content/drive/MyDrive/wav_datasets/'\n",
        "csv_path = 'Data3.csv'\n",
        "def make_xlsx(dataset_path,csv_path):\n",
        "  file_name_list = []\n",
        "  for file_name in os.listdir(dataset_path):\n",
        "    file_name = file_name.replace('.wav','')\n",
        "    file_name_edit = unicodedata.normalize('NFC', file_name)\n",
        "    file_name_list.append(file_name_edit)\n",
        "  csv_data_frame_temp = pd.DataFrame(file_name_list,columns=['sentence'])\n",
        "  csv_data_frame_temp.to_csv(csv_path,index=False,encoding='utf-8-sig')\n",
        "\n",
        "\n",
        "\n",
        "\n",
        "\n",
        "\n",
        "make_xlsx(dataset_path,csv_path)\n"
      ],
      "metadata": {
        "id": "EHLWYYON542W"
      },
      "execution_count": null,
      "outputs": []
    },
    {
      "cell_type": "markdown",
      "metadata": {
        "id": "0fqMQHrhzjZ5"
      },
      "source": [
        "#mkdir"
      ]
    },
    {
      "cell_type": "code",
      "execution_count": null,
      "metadata": {
        "id": "Xj2ZWM9i02_n"
      },
      "outputs": [],
      "source": [
        "os.mkdir('m4a_folder')\n",
        "os.mkdir('wav_folder')"
      ]
    },
    {
      "cell_type": "markdown",
      "metadata": {
        "id": "n8ZYzzqTOCu0"
      },
      "source": [
        "#word_embedding"
      ]
    },
    {
      "cell_type": "code",
      "execution_count": null,
      "metadata": {
        "id": "vatEW_mlOFih"
      },
      "outputs": [],
      "source": [
        "class ko_embedding():\n",
        "  def word_preprocessing(self,sentences):\n",
        "\n",
        "    stop_words = ['/', '\"', \"'\", '`', '@', '#', '$', '%', '^', '&', '*', '()', '(', ')', '_', '-', '+', '=', '<', '>']\n",
        "    vocab = []\n",
        "    filter = re.compile('[a-zA-Z0-9]')\n",
        "\n",
        "    for index, sentence in enumerate(sentences):\n",
        "      if index == 0:\n",
        "        print('첫번 째 sentence:{}'.format(sentence))\n",
        "      joined_sentence = '|'.join(sentence[0])\n",
        "\n",
        "\n",
        "      jamo_str = j2hcj(h2j(joined_sentence))\n",
        "\n",
        "      for stop_word in stop_words:\n",
        "        jamo_str = jamo_str.replace(stop_word,'')\n",
        "\n",
        "      jamo_str = list(jamo_str)\n",
        "\n",
        "      filter_list = filter.findall(sentence[0])\n",
        "      for filtered_word in filter_list:\n",
        "        jamo_str.remove(filtered_word)\n",
        "\n",
        "\n",
        "\n",
        "      vocab.append(jamo_str) #len(vocab) = number of words => [[문장1], [문장2], [문장3] ...]\n",
        "\n",
        "    return vocab\n",
        "\n",
        "\n",
        "\n",
        "\n",
        "  def dict_make(self):\n",
        "    initial = ['ㄱ', 'ㄴ', 'ㄷ', 'ㄹ', 'ㅁ', 'ㅂ', 'ㅅ', 'ㅇ', 'ㅈ' ,'ㅊ','ㅋ', 'ㅌ','ㅍ','ㅎ','ㄲ','ㅃ','ㅉ','ㅆ','ㄸ'] #19\n",
        "    neutral = ['ㅏ','ㅐ','ㅑ','ㅒ','ㅓ','ㅔ','ㅕ','ㅖ','ㅗ','ㅘ','ㅙ','ㅚ','ㅛ','ㅜ','ㅝ','ㅞ','ㅟ','ㅠ','ㅡ','ㅢ','ㅣ'] #21\n",
        "    final = ['ㄱ','ㄲ','ㄳ','ㄴ','ㄵ','ㄶ','ㄷ','ㄹ','ㄺ','ㄻ','ㄼ','ㄽ','ㄾ','ㄿ','ㅀ','ㅁ','ㅂ','ㅄ','ㅅ','ㅆ','ㅇ','ㅈ','ㅊ','ㅋ','ㅌ','ㅍ','ㅎ',' '] #28\n",
        "\n",
        "    initial_dict = {}\n",
        "    neutral_dict = {}\n",
        "    final_dict = {}\n",
        "    added_dict = {}\n",
        "    for index, value in enumerate(initial):\n",
        "      initial_dict[value] = index\n",
        "    for index, value in enumerate(neutral):\n",
        "      neutral_dict[value] = index + len(initial)\n",
        "    for index, value in enumerate(final):\n",
        "      final_dict[value] = index + len(initial) + len(neutral)\n",
        "\n",
        "    added_dict['?'] = 71\n",
        "    added_dict['!'] = 72\n",
        "    added_dict['~'] = 73\n",
        "    added_dict['..'] = 74\n",
        "    added_dict['.'] = 75\n",
        "    added_dict[','] = 76\n",
        "    return initial_dict, neutral_dict, final_dict, added_dict\n",
        "\n",
        "  #[['ㅇ', 'ㅏ', 'ㄴ', '|', 'ㄴ', 'ㅕ', 'ㅇ', '|', ' ', '|', 'ㅇ', 'ㅣ', '|'\n",
        "  #, 'ㄹ', 'ㅏ', '|', 'ㄱ', 'ㅗ', '|', ' ', '|', 'ㅁ', 'ㅏ', 'ㄹ', '|', 'ㅎ', 'ㅐ', '|', 'ㄷ', 'ㅗ', '|', ' ', '|'\n",
        "  #, 'ㄷ', 'ㅙ', '|', 'ㅇ', 'ㅛ', '|', '?', '|', '!', '|', '~', '|', '!', '|', ' ', '|', '|', '|', '|', '|', '|']]\n",
        "  def word_embedding(self,vocab):\n",
        "    initial_dict,neutral_dict,final_dict,added_dict = self.dict_make()\n",
        "    encoded_vocab = []\n",
        "\n",
        "    for sentence in vocab:\n",
        "      i = 1\n",
        "      sentence_vocab = []\n",
        "      for character in sentence:\n",
        "\n",
        "        if character == '|' :\n",
        "          i = 1\n",
        "          continue;\n",
        "        if character == ' ':\n",
        "          i = 1\n",
        "          sentence_vocab.append(final_dict[character])\n",
        "          continue;\n",
        "        if character == '?' or character == '!' or character == '..' or character== '.' or character=='~' or character==',':\n",
        "          sentence_vocab.append(added_dict[character])\n",
        "          continue;\n",
        "\n",
        "        if i == 1:\n",
        "          sentence_vocab.append(initial_dict[character])\n",
        "        if i == 2:\n",
        "          sentence_vocab.append(neutral_dict[character])\n",
        "        if i == 3:\n",
        "          sentence_vocab.append(final_dict[character])\n",
        "        i  = i + 1\n",
        "        if i % 4 == 0:\n",
        "          i = 1\n",
        "\n",
        "      encoded_vocab.append(sentence_vocab)\n",
        "\n",
        "    return encoded_vocab\n",
        "\n",
        "\n",
        "\n",
        "  def final_word_embedding(self,encoded_vocab,embedding_dim):\n",
        "\n",
        "    length_list = []\n",
        "    vocab_list = []\n",
        "    for encoded_sentence in encoded_vocab:\n",
        "      encoded_sentence.insert(0, 68) #<sos>\n",
        "      encoded_sentence.append(69) #<eos>\n",
        "      length_list.append(len(encoded_sentence))\n",
        "    max_length = max(length_list)\n",
        "\n",
        "    for encoded_sentence in encoded_vocab:\n",
        "      for _ in range(max_length - len(encoded_sentence)):\n",
        "        encoded_sentence.append(70) #<pad>\n",
        "      vocab_list.append(encoded_sentence)\n",
        "\n",
        "    word_vec = np.zeros(shape=(len(encoded_vocab), max_length, embedding_dim))\n",
        "\n",
        "    for k, encoded_sentence in enumerate(vocab_list):\n",
        "\n",
        "      for m, i in enumerate(encoded_sentence):\n",
        "\n",
        "        word_vec[k,m,i] = 1\n",
        "\n",
        "    return word_vec\n",
        "\n",
        "\n",
        "\n",
        "\n",
        "\n",
        "  def call(self,sentence_list):\n",
        "    vocab = self.word_preprocessing(sentence_list)\n",
        "\n",
        "    vocab = self.word_embedding(vocab)\n",
        "    word_vec = self.final_word_embedding(vocab,128)\n",
        "    word_vec = np.asarray(word_vec)\n",
        "    return word_vec\n",
        "\n",
        "\n",
        "\n"
      ]
    },
    {
      "cell_type": "markdown",
      "metadata": {
        "id": "ktQO6y09OQYz"
      },
      "source": [
        "#mel-spectrogram"
      ]
    },
    {
      "cell_type": "code",
      "execution_count": null,
      "metadata": {
        "id": "jzM872X-OR5j"
      },
      "outputs": [],
      "source": [
        "def m4a_to_wav(m4a_folder_name, wav_folder_name):\n",
        "  dir_path = os.getcwd()\n",
        "\n",
        "  m4a_folder_path = os.path.join(dir_path, m4a_folder_name)\n",
        "  wav_folder_path = os.path.join(dir_path, wav_folder_name)\n",
        "\n",
        "  for file_name in os.listdir(m4a_folder_path):\n",
        "    file_path = os.path.join(m4a_folder_path, file_name)\n",
        "    if os.path.isdir(file_path) != True:\n",
        "      audio_m4a = AudioSegment.from_file(file_path, format='m4a')\n",
        "\n",
        "      wav_file_path = os.path.join(wav_folder_name, file_name)\n",
        "      audio_m4a.export(wav_file_path, format='wav')\n",
        "    else:\n",
        "      pass;\n",
        "\n",
        "\n",
        "def Mel_spectrogram(wav_folder_name, frame_length, frame_stride, n_mels):\n",
        "  mel_spectrogram_list = []\n",
        "  dir_name = os.getcwd()\n",
        "  wav_folder_path = os.path.join(dir_name, wav_folder_name)\n",
        "  for index, file_name in enumerate(os.listdir(wav_folder_path)):\n",
        "    if index ==0:\n",
        "      print('첫 번째 mel_spectrogram:{}'.format(file_name))\n",
        "    wav_file_path = os.path.join(wav_folder_path, file_name)\n",
        "    if os.path.isdir(wav_file_path) != True:\n",
        "      #print('wav_file_path in Mel_spctrogram def:{}'.format(wav_file_path))\n",
        "      data, sampling_rate = librosa.load(wav_file_path)\n",
        "      n_fft = int(round(sampling_rate * frame_length))\n",
        "      stride = int(round(sampling_rate * frame_stride))\n",
        "    else:\n",
        "      pass;\n",
        "\n",
        "    mel_spectrogram = librosa.feature.melspectrogram(y=data, sr=sampling_rate, n_fft=n_fft,\n",
        "                                                     hop_length = stride) #n_mels = n_channels\n",
        "    mel_spectrogram_list.append(mel_spectrogram)\n",
        "\n",
        "  return mel_spectrogram_list\n",
        "\n",
        "def mel_spectrogram_list_pad(Mel_spectrogram_list, embedding_dim):\n",
        "  length_list = []\n",
        "  for mel_spectrogram in Mel_spectrogram_list:\n",
        "    length_list.append(mel_spectrogram.shape[1])\n",
        "  max_length = max(length_list)\n",
        "  mel_spectrogram_list = []\n",
        "  for mel_spectrogram in Mel_spectrogram_list:\n",
        "    if max_length > embedding_dim:\n",
        "\n",
        "      mel_spectrogram = np.pad(mel_spectrogram, pad_width = ((0,0), (0,max_length - mel_spectrogram.shape[1])),\n",
        "            mode = 'constant', constant_values=0)\n",
        "      mel_spectrogram_list.append(mel_spectrogram)\n",
        "    else:\n",
        "      mel_spectrogram = np.pad(mel_spectrogram, pad_width = ((0,0), (0,embedding_dim - mel_spectrogram.shape[1])),\n",
        "            mode = 'constant', constant_values=0)\n",
        "      mel_spectrogram_list.append(mel_spectrogram)\n",
        "\n",
        "  return mel_spectrogram_list\n",
        "\n",
        "def mel_spectrogram_to_numpy(mel_spectrogram_list):\n",
        "  n_of_mel_spectrogram = len(mel_spectrogram_list)\n",
        "  mel_spectrogram_numpy = np.zeros((n_of_mel_spectrogram, mel_spectrogram_list[0].shape[0], mel_spectrogram_list[0].shape[1]))\n",
        "  for i, mel_spectrogram in enumerate(mel_spectrogram_list):\n",
        "    mel_spectrogram_numpy[i][:][:] = mel_spectrogram\n",
        "\n",
        "  return mel_spectrogram_numpy\n"
      ]
    },
    {
      "cell_type": "code",
      "execution_count": null,
      "metadata": {
        "id": "zMcK-yc4Oq22"
      },
      "outputs": [],
      "source": [
        "class audio_data_preprocessing():\n",
        "  def call(m4a_folder_name, wav_folder_name, frame_length, frame_stride, n_mels, embedding_dim):\n",
        "    #m4a_to_wav(m4a_folder_name, wav_folder_name)\n",
        "    mel_spectrogram_list = Mel_spectrogram(wav_folder_name, frame_length, frame_stride, n_mels)\n",
        "    mel_spectrogram_list = mel_spectrogram_list_pad(mel_spectrogram_list, embedding_dim)\n",
        "    mel_spectrogram = mel_spectrogram_to_numpy(mel_spectrogram_list)\n",
        "    return mel_spectrogram"
      ]
    },
    {
      "cell_type": "code",
      "execution_count": null,
      "metadata": {
        "id": "riZrYSVN4GZs"
      },
      "outputs": [],
      "source": [
        "class audio_data_preprocessing_transformed():\n",
        "  def m4a_to_wav(self, m4a_folder_name, wav_folder_name):\n",
        "    dir_path = os.getcwd()\n",
        "    m4a_folder_path = os.path.join(dir_path, m4a_folder_name)\n",
        "    wav_folder_path = os.path.join(dir_path, wav_folder_name)\n",
        "\n",
        "    for file_name in os.listdir(m4a_folder_path):\n",
        "      file_path = os.path.join(m4a_folder_path, file_name)\n",
        "      if os.path.isdir(file_path) != True:\n",
        "        audio_m4a = AudioSegment.from_file(file_path, format='m4a')\n",
        "\n",
        "        wav_file_path = os.path.join(wav_folder_name, file_name)\n",
        "        audio_m4a.export(wav_file_path, format='wav')\n",
        "      else:\n",
        "        pass;\n",
        "  def Mel_spectrogram(self,wav_folder_name, frame_length, frame_stride, n_mels):\n",
        "    mel_spectrogram_list = []\n",
        "    dir_name = os.getcwd()\n",
        "    wav_folder_path = os.path.join(dir_name, wav_folder_name)\n",
        "    for file_name in os.listdir(wav_folder_path):\n",
        "      wav_file_path = os.path.join(wav_folder_path, file_name)\n",
        "      if os.path.isdir(wav_file_path) != True:\n",
        "        data, sampling_rate = librosa.load(wav_file_path)\n",
        "        n_fft = int(round(sampling_rate * frame_length))\n",
        "        stride = int(round(sampling_rate * frame_stride))\n",
        "      else:\n",
        "        pass;\n",
        "\n",
        "      mel_spectrogram = librosa.feature.melspectrogram(y=data, sr=sampling_rate, n_fft=n_fft,\n",
        "                                                      hop_length = stride,n_mels = n_mels ) #n_mels = n_channels\n",
        "      mel_spectrogram_list.append(mel_spectrogram)\n",
        "\n",
        "    return mel_spectrogram_list\n",
        "  def mel_spectrogram_list_pad(self,Mel_spectrogram_list, embedding_dim):\n",
        "    length_list = []\n",
        "    for mel_spectrogram in Mel_spectrogram_list:\n",
        "      length_list.append(mel_spectrogram.shape[1])\n",
        "    max_length = max(length_list)\n",
        "    mel_spectrogram_list = []\n",
        "    for mel_spectrogram in Mel_spectrogram_list:\n",
        "      if max_length > embedding_dim:\n",
        "\n",
        "        mel_spectrogram = np.pad(mel_spectrogram, pad_width = ((0,0), (0,max_length - mel_spectrogram.shape[1])),\n",
        "              mode = 'constant', constant_values=0)\n",
        "        mel_spectrogram_list.append(mel_spectrogram)\n",
        "      else:\n",
        "        mel_spectrogram = np.pad(mel_spectrogram, pad_width = ((0,0), (0,embedding_dim - mel_spectrogram.shape[1])),\n",
        "              mode = 'constant', constant_values=0)\n",
        "        mel_spectrogram_list.append(mel_spectrogram)\n",
        "\n",
        "    return mel_spectrogram_list\n",
        "  def mel_spectrogram_to_numpy(self,mel_spectrogram_list):\n",
        "    n_of_mel_spectrogram = len(mel_spectrogram_list)\n",
        "    mel_spectrogram_numpy = np.zeros((n_of_mel_spectrogram, mel_spectrogram_list[0].shape[0], mel_spectrogram_list[0].shape[1]))\n",
        "    for i, mel_spectrogram in enumerate(mel_spectrogram_list):\n",
        "      mel_spectrogram_numpy[i][:][:] = mel_spectrogram\n",
        "\n",
        "    return mel_spectrogram_numpy\n",
        "\n",
        "  def call(self,m4a_folder_name, wav_folder_name, frame_length, frame_stride, n_mels, embedding_dim):\n",
        "\n",
        "    self.m4a_to_wav(m4a_folder_name, wav_folder_name)\n",
        "    mel_spectrogram_list = self.Mel_spectrogram(wav_folder_name, frame_length, frame_stride, n_mels)\n",
        "    mel_spectrogram_list = self.mel_spectrogram_list_pad(mel_spectrogram_list, embedding_dim)\n",
        "    mel_spectrogram = self.mel_spectrogram_to_numpy(mel_spectrogram_list)\n",
        "    return mel_spectrogram\n",
        "\n"
      ]
    },
    {
      "cell_type": "markdown",
      "metadata": {
        "id": "qiaMFD34Oza2"
      },
      "source": [
        "#Preprocessing"
      ]
    },
    {
      "cell_type": "code",
      "execution_count": null,
      "metadata": {
        "id": "18dqjInEOyp_",
        "colab": {
          "base_uri": "https://localhost:8080/"
        },
        "outputId": "749a5b38-b550-48d0-be0f-2fe55dc201ce"
      },
      "outputs": [
        {
          "output_type": "stream",
          "name": "stdout",
          "text": [
            "첫번 째 sentence:['추웠던겨울은가고']\n",
            "첫 번째 mel_spectrogram:추웠던겨울은가고.wav\n"
          ]
        }
      ],
      "source": [
        "class train_data_generation():\n",
        "  def call(m4a_folder_name, wav_folder_name, frame_length, frame_stride, n_mels,csv_file_name,embedding_dim):\n",
        "    ko = ko_embedding()\n",
        "    sentence_list = []\n",
        "    df = pd.read_csv(csv_file_name)\n",
        "    for i in range(df.size):\n",
        "      sentence_list.append([df['sentence'][i]])\n",
        "\n",
        "    word_vec = ko.call(sentence_list)\n",
        "    word_vec = tf.cast(word_vec, tf.dtypes.float32)\n",
        "    mel_spectrogram = audio_data_preprocessing.call(m4a_folder_name, wav_folder_name, frame_length, frame_stride, n_mels,\n",
        "                                                    embedding_dim)\n",
        "\n",
        "    return word_vec, mel_spectrogram\n",
        "\n",
        "\n",
        "word_vec, mel_spectrogram = train_data_generation.call('m4a_folder','/content/drive/MyDrive/wav_datasets/', 0.025, 0.010\n",
        "                                                       , 80, 'Data3.csv',454 )"
      ]
    },
    {
      "cell_type": "code",
      "source": [
        "print('word_vec.shape:{}, mel_spectrogram.shape:{}'.format(word_vec.shape, mel_spectrogram.shape))"
      ],
      "metadata": {
        "colab": {
          "base_uri": "https://localhost:8080/"
        },
        "id": "SgSzidWvDlit",
        "outputId": "882cc62d-3d8d-4d1f-af69-82e7aa63a3e2"
      },
      "execution_count": null,
      "outputs": [
        {
          "output_type": "stream",
          "name": "stdout",
          "text": [
            "word_vec.shape:(103, 94, 128), mel_spectrogram.shape:(103, 128, 846)\n"
          ]
        }
      ]
    },
    {
      "cell_type": "markdown",
      "metadata": {
        "id": "bemSOkmvO_w1"
      },
      "source": [
        "# Model_modules"
      ]
    },
    {
      "cell_type": "code",
      "execution_count": null,
      "metadata": {
        "id": "fLDI0OMTPBDZ"
      },
      "outputs": [],
      "source": [
        "from tensorflow.keras.activations import tanh, softmax\n",
        "from tensorflow.random import uniform\n",
        "from tensorflow.keras.layers import Conv1D, BatchNormalization, Bidirectional, Dense, LSTM\n",
        "from tensorflow.keras.models import Model,model_from_json\n",
        "from tensorflow.keras.losses import MeanSquaredError, Loss\n",
        "from tensorflow.keras.optimizers import Adam\n",
        "from tensorflow.keras.callbacks import EarlyStopping\n",
        "\n"
      ]
    },
    {
      "cell_type": "markdown",
      "metadata": {
        "id": "BONnogRjPMpP"
      },
      "source": [
        "# Model"
      ]
    },
    {
      "cell_type": "code",
      "execution_count": null,
      "metadata": {
        "colab": {
          "base_uri": "https://localhost:8080/"
        },
        "id": "AXpt1pswzGmS",
        "outputId": "b8b9dfd9-4a71-403a-8377-7dc9e8eb7417"
      },
      "outputs": [
        {
          "output_type": "stream",
          "name": "stdout",
          "text": [
            "mel_spectrogram:(103, 128, 846), word_vec:(103, 94, 128)\n"
          ]
        }
      ],
      "source": [
        "print('mel_spectrogram:{}, word_vec:{}'.format(mel_spectrogram.shape, word_vec.shape))"
      ]
    },
    {
      "cell_type": "code",
      "execution_count": null,
      "metadata": {
        "id": "tvvk5tH7fC5a",
        "colab": {
          "base_uri": "https://localhost:8080/"
        },
        "outputId": "8cf4b3aa-af4a-40f5-c5a4-e2cf0e58a7b3"
      },
      "outputs": [
        {
          "output_type": "stream",
          "name": "stdout",
          "text": [
            "(96, 128, 94)\n"
          ]
        }
      ],
      "source": [
        "class Encoder(Model):\n",
        "    def __init__(self):\n",
        "        super(Encoder, self).__init__()\n",
        "        self.conv1d_1 = Conv1D(filters=16, kernel_size=5, padding = 'same')\n",
        "        self.conv1d_2 = Conv1D(filters = 64, kernel_size=5, padding= 'same')\n",
        "        self.conv1d_3 = Conv1D(filters=32, kernel_size=5,padding='same')\n",
        "\n",
        "        self.batch_norm_1 = BatchNormalization()\n",
        "        self.batch_norm_2 = BatchNormalization()\n",
        "        self.batch_norm_3 = BatchNormalization()\n",
        "        self.bi_lstm = Bidirectional(LSTM(units=64, return_sequences=True))\n",
        "        #mel_spectrogram C//2 = E_L\n",
        "\n",
        "\n",
        "\n",
        "    def call(self, word_vec):\n",
        "\n",
        "        first = self.conv1d_1(word_vec)\n",
        "        first_batch = self.batch_norm_1(first)\n",
        "\n",
        "        second = self.conv1d_2(first_batch)\n",
        "        second_batch = self.batch_norm_2(second)\n",
        "\n",
        "        third = self.conv1d_3(second_batch)\n",
        "        third_batch = self.batch_norm_3(third)\n",
        "\n",
        "        hidden = self.bi_lstm(third)\n",
        "        return hidden\n",
        "\n",
        "\n",
        "class Attention(Model):\n",
        "  def __init__(self, attention_dim):\n",
        "    super(Attention, self).__init__()\n",
        "\n",
        "\n",
        "    self.linear_after_lstm = Dense(units = attention_dim)\n",
        "    self.linear_hidden = Dense(units = attention_dim)\n",
        "    self.linear_filter = Dense(units = attention_dim)\n",
        "    #self.linear_location_sensitive = Dense(units = attention_dim, activation = 'relu')\n",
        "    #self.conv1D = Conv1D(filters = attention_dim, kernel_size = 1)\n",
        "    self.v = Dense(units = 1)\n",
        "\n",
        "\n",
        "\n",
        "\n",
        "\n",
        "  def call(self, time, hidden, after_lstm, attention_score):\n",
        "    if time==0:\n",
        "\n",
        "\n",
        "      value_e = self.v(tanh(self.linear_hidden(tf.transpose(hidden, perm=[0,2,1]))))\n",
        "\n",
        "      attention_score = tf.transpose(softmax(value_e), perm=[0,2,1])\n",
        "\n",
        "      return attention_score\n",
        "\n",
        "    else:\n",
        "\n",
        "      #after_filtered = self.conv1D(attention_score) #(B,T,C) 1,1,atten_dim\n",
        "\n",
        "      value_e = self.v(tanh(self.linear_filter(tf.transpose(attention_score,perm=[0,2,1]))\n",
        "      + self.linear_hidden(tf.transpose(hidden, perm=[0,2,1]))\n",
        "       + self.linear_filter(tf.transpose(attention_score,perm=[0,2,1]))))\n",
        "      attention_score_result = tf.transpose(softmax(value_e), perm=[0,2,1])\n",
        "\n",
        "      return attention_score_result\n",
        "\n",
        "\n",
        "\n",
        "\n",
        "class Decoder(Model):\n",
        "  def __init__(self):\n",
        "    super(Decoder,self).__init__()\n",
        "    self.prenet_1 = Dense(units = 64)\n",
        "    self.prenet_2 = Dense(units = 128, activation = 'relu')\n",
        "    #D_L = mel_shape C\n",
        "    self.LSTM_1 = LSTM(units = 64 , return_sequences=True)\n",
        "    self.LSTM_2 = LSTM(units = 128, activation = 'tanh', return_sequences=True)\n",
        "  def prenet(self, previous_decoder):\n",
        "    output_1 = self.prenet_1(previous_decoder)\n",
        "    output_2 = self.prenet_2(output_1)\n",
        "    return output_2\n",
        "\n",
        "\n",
        "\n",
        "  def call(self,previous_decoder, hidden,attention_score):\n",
        "    context_vector = tf.multiply(attention_score, hidden)\n",
        "\n",
        "    after_prenet = self.prenet(previous_decoder)\n",
        "\n",
        "    lstm_input_1 = tf.concat([context_vector, tf.transpose(after_prenet, perm=[0,2,1])],axis = -1)\n",
        "\n",
        "    after_lstm_1 = self.LSTM_1(lstm_input_1)\n",
        "\n",
        "\n",
        "    lstm_input_2 = tf.concat([context_vector, after_lstm_1],axis = -1)\n",
        "    after_lstm_2 = self.LSTM_2(lstm_input_2)\n",
        "\n",
        "    return after_lstm_2\n",
        "\n",
        "\n",
        "class Tacotron2(Model):\n",
        "  def __init__(self, attention_dim, mel_spectrogram_shape, batch_size,training = True):\n",
        "    super(Tacotron2, self).__init__()\n",
        "\n",
        "\n",
        "    self.encoder = Encoder()\n",
        "    self.attention = Attention(attention_dim)\n",
        "    self.decoder = Decoder()\n",
        "\n",
        "    self.stop_dense = Dense(units = 1, activation = 'sigmoid')\n",
        "    self.mel_spectrogram_dense = Dense(units = 1)\n",
        "\n",
        "    self.conv1D_1 = Conv1D(filters = 16, kernel_size = 31,  padding ='same')\n",
        "    self.conv1D_2 = Conv1D(filters = 32, kernel_size = 31,  padding ='same')\n",
        "    self.conv1D_3 = Conv1D(filters = 64, kernel_size = 31,  padding ='same')\n",
        "    self.conv1D_4 = Conv1D(filters = 128, kernel_size = 31,  padding ='same')\n",
        "\n",
        "\n",
        "\n",
        "    self.mel_shape = mel_spectrogram_shape\n",
        "    self.training = training\n",
        "    self.batch_size = batch_size\n",
        "\n",
        "  def post_net(self, predicted_mel_spectrogram):\n",
        "    conv_1 = self.conv1D_1(predicted_mel_spectrogram)\n",
        "    conv_2 = self.conv1D_2(conv_1)\n",
        "    conv_3 = self.conv1D_3(conv_2)\n",
        "    conv_4 = self.conv1D_4(conv_3)\n",
        "    return conv_4\n",
        "\n",
        "  @tf.function\n",
        "  def stop_cal(self,training , stop_threshold , stop_index, time,stop_prob):\n",
        "    if tf.equal(training, False) and tf.greater(stop_prob , stop_threshold) and tf.equal(stop_index, 0):\n",
        "      stop_index = time\n",
        "    return stop_index\n",
        "\n",
        "\n",
        "\n",
        "\n",
        "  def call(self, inputs):\n",
        "    word_vec = inputs #B,T,C\n",
        "\n",
        "    hidden = self.encoder.call(word_vec)\n",
        "\n",
        "\n",
        "    attention_score_list = 0\n",
        "    after_lstm_list = 0\n",
        "    previous_decoder_list = []\n",
        "\n",
        "    stop_threshold = tf.constant(0.5, dtype = tf.float32)\n",
        "\n",
        "\n",
        "    stop_list = []\n",
        "    stop_index = 0\n",
        "\n",
        "    time_step = 0\n",
        "    load_value = self.mel_shape[1] // 100\n",
        "\n",
        "\n",
        "    mel_init = np.random.normal(size=[self.batch_size, self.mel_shape[2], 1])\n",
        "\n",
        "\n",
        "\n",
        "\n",
        "    for time in range(self.mel_shape[1]):\n",
        "\n",
        "      if time==0:\n",
        "\n",
        "        attention_score = self.attention.call(time, hidden, None, None)\n",
        "\n",
        "\n",
        "\n",
        "        after_lstm = self.decoder.call(mel_init, hidden, attention_score)\n",
        "\n",
        "\n",
        "      else:\n",
        "\n",
        "        attention_score = self.attention.call(time, hidden, after_lstm_list,attention_score_list)\n",
        "\n",
        "\n",
        "        after_lstm = self.decoder.call(previous_decoder_list[-1], hidden, attention_score)\n",
        "\n",
        "      predicted_mel_spectrogram_frame = self.mel_spectrogram_dense(tf.transpose(after_lstm,perm=[0,2,1]))\n",
        "\n",
        "      attention_score_list = attention_score\n",
        "      after_lstm_list = after_lstm\n",
        "\n",
        "\n",
        "\n",
        "      previous_decoder_list.append(predicted_mel_spectrogram_frame)\n",
        "\n",
        "      stop_prob_lstm = tf.expand_dims(tf.reduce_sum(tf.transpose(after_lstm,perm=[0,2,1]), axis = [0,1]), axis = 0)\n",
        "      stop_prob = self.stop_dense(stop_prob_lstm)\n",
        "\n",
        "      stop_list.append(stop_prob)\n",
        "\n",
        "      stop_index = self.stop_cal(self.training, stop_threshold, stop_index, time,stop_prob)\n",
        "\n",
        "      if time != 0:\n",
        "\n",
        "        if time % (load_value * 20) ==0:\n",
        "          print('=' * (time_step),'>', '-' * (100 - (time_step)))\n",
        "      if time_step < 101 and (time % load_value) == 0 :\n",
        "        time_step = time_step + 1\n",
        "\n",
        "\n",
        "\n",
        "    predicted_mel_spectrogram = tf.concat(previous_decoder_list, axis=-1)\n",
        "    if self.training == False:\n",
        "      predicted_mel_spectrogram = tf.where(tf.range(predicted_mel_spectrogram.shape[-1]) >= stop_index, 0, predicted_mel_spectrogram)\n",
        "\n",
        "    output = self.post_net(tf.transpose(predicted_mel_spectrogram, perm=[0,2,1]))\n",
        "\n",
        "    output = tf.transpose(output, perm = [0,2,1])\n",
        "\n",
        "    stop_train = tf.concat(stop_list,axis = -1) #(1,mel_temporal)\n",
        "\n",
        "\n",
        "    return output, stop_train\n",
        "\n",
        "\n",
        "\n",
        "def make_train_set(batch_size, mel_temporal, word_vec, mel_spectrogram):\n",
        "  batch_value = (word_vec.shape[0] // batch_size) * batch_size\n",
        "  word_vec_refine = word_vec[:batch_value,:,:]\n",
        "  mel_spectrogram_refine = mel_spectrogram[:batch_value,:,:]\n",
        "\n",
        "  word_vec_transpose = tf.transpose(word_vec_refine, perm=[0,2,1])\n",
        "  train_inputs = word_vec_transpose\n",
        "  stop_target = np.zeros(shape=(1, mel_temporal))\n",
        "  stop_target[0,-1] = 1\n",
        "  stop_target = np.tile(stop_target,[batch_value,1,1])\n",
        "\n",
        "  train_targets = (mel_spectrogram_refine,stop_target)\n",
        "\n",
        "  train_build = word_vec_transpose[:batch_size,:,:]\n",
        "  return train_inputs, train_targets,batch_size, mel_temporal,train_build\n",
        "train_inputs, train_targets, batch_size, mel_temporal,train_build = make_train_set(batch_size = 16, mel_temporal = mel_spectrogram.shape[-1], word_vec = word_vec,\n",
        "                                                                       mel_spectrogram = mel_spectrogram)\n",
        "\n",
        "tacotron2 = Tacotron2(attention_dim = 64, mel_spectrogram_shape = (batch_size,mel_temporal,128),batch_size = batch_size)\n",
        "\n",
        "learning_rate = 1e-3\n",
        "optimizer = Adam(learning_rate = learning_rate)\n",
        "tacotron2.compile(optimizer = optimizer,loss=MeanSquaredError(), metrics=['mse'])\n",
        "print(train_inputs.shape)\n",
        "\n",
        "\n",
        "\n"
      ]
    },
    {
      "cell_type": "code",
      "source": [
        "print('build 시작')\n",
        "_ = tacotron2(train_build)"
      ],
      "metadata": {
        "id": "yMptspTM_fzg"
      },
      "execution_count": null,
      "outputs": []
    },
    {
      "cell_type": "markdown",
      "source": [
        "#Model Training and Save (August 1st)\n",
        "\n"
      ],
      "metadata": {
        "id": "qmhRLd7RESkZ"
      }
    },
    {
      "cell_type": "code",
      "source": [
        "#early_stopping = EarlyStopping(monitor='val_loss', patience=3, restore_best_weights=True)\n",
        "tacotron2.fit(train_inputs, train_targets, epochs=1, batch_size=batch_size, verbose=1, shuffle=True)"
      ],
      "metadata": {
        "colab": {
          "base_uri": "https://localhost:8080/"
        },
        "id": "eFnCCeY6ERf2",
        "outputId": "bfd6b439-a60c-4a0f-d2ad-f1e16ed6d367"
      },
      "execution_count": null,
      "outputs": [
        {
          "output_type": "stream",
          "name": "stdout",
          "text": [
            "==================== > --------------------------------------------------------------------------------\n",
            "======================================== > ------------------------------------------------------------\n",
            "============================================================ > ----------------------------------------\n",
            "================================================================================ > --------------------\n",
            "==================================================================================================== > \n"
          ]
        },
        {
          "output_type": "stream",
          "name": "stderr",
          "text": [
            "WARNING:tensorflow:Gradients do not exist for variables ['tacotron2_7/batch_normalization_23/gamma:0', 'tacotron2_7/batch_normalization_23/beta:0'] when minimizing the loss. If you're using `model.compile()`, did you forget to provide a `loss` argument?\n",
            "WARNING:tensorflow:Gradients do not exist for variables ['tacotron2_7/batch_normalization_23/gamma:0', 'tacotron2_7/batch_normalization_23/beta:0'] when minimizing the loss. If you're using `model.compile()`, did you forget to provide a `loss` argument?\n"
          ]
        },
        {
          "output_type": "stream",
          "name": "stdout",
          "text": [
            "==================== > --------------------------------------------------------------------------------\n",
            "======================================== > ------------------------------------------------------------\n",
            "============================================================ > ----------------------------------------\n",
            "================================================================================ > --------------------\n",
            "==================================================================================================== > \n"
          ]
        },
        {
          "output_type": "stream",
          "name": "stderr",
          "text": [
            "WARNING:tensorflow:Gradients do not exist for variables ['tacotron2_7/batch_normalization_23/gamma:0', 'tacotron2_7/batch_normalization_23/beta:0'] when minimizing the loss. If you're using `model.compile()`, did you forget to provide a `loss` argument?\n",
            "WARNING:tensorflow:Gradients do not exist for variables ['tacotron2_7/batch_normalization_23/gamma:0', 'tacotron2_7/batch_normalization_23/beta:0'] when minimizing the loss. If you're using `model.compile()`, did you forget to provide a `loss` argument?\n"
          ]
        },
        {
          "output_type": "stream",
          "name": "stdout",
          "text": [
            "6/6 [==============================] - 2315s 7s/step - loss: 1.0703 - output_1_loss: 0.0716 - output_2_loss: 0.9987 - output_1_mse: 0.0716 - output_2_mse: 0.9987\n"
          ]
        },
        {
          "output_type": "execute_result",
          "data": {
            "text/plain": [
              "<keras.callbacks.History at 0x7c178ca62200>"
            ]
          },
          "metadata": {},
          "execution_count": 23
        }
      ]
    },
    {
      "cell_type": "code",
      "source": [
        "model_json = tacotron2.to_json()\n",
        "with open('tacotron2_model.json', 'w') as json_file:\n",
        "    json_file.write(model_json)"
      ],
      "metadata": {
        "id": "DEY2TvVRBaod"
      },
      "execution_count": null,
      "outputs": []
    },
    {
      "cell_type": "code",
      "source": [
        "# 가중치를 저장\n",
        "tacotron2.save_weights('tacotron2_model_weights.h5')"
      ],
      "metadata": {
        "id": "YvO-dMQSBfVJ"
      },
      "execution_count": null,
      "outputs": []
    },
    {
      "cell_type": "markdown",
      "source": [
        "#Model Training and Save (August 2nd)"
      ],
      "metadata": {
        "id": "6z9-omgr-NqO"
      }
    },
    {
      "cell_type": "code",
      "source": [
        "# 모델 아키텍처를 로드할 때 사용자 정의 클래스 등록\n",
        "with open('/content/drive/MyDrive/tacotron2_model_save/tacotron2_model.json', 'r') as json_file:\n",
        "    model_json = json_file.read()\n",
        "\n",
        "#custom_objects 매개변수에 Tacotron2 클래스 등록\n",
        "tacotron3 = model_from_json(model_json, custom_objects={'Tacotron2': Tacotron2,\n",
        "                                                   'Encoder':Encoder, 'Decoder':Decoder, 'Attention':Attention})\n",
        "\n",
        "#Tacotron2 class 가 이전에 정의되어야 함"
      ],
      "metadata": {
        "id": "AOo1t2ZZ-U8t"
      },
      "execution_count": null,
      "outputs": []
    },
    {
      "cell_type": "code",
      "source": [
        "# 가중치를 로드\n",
        "_ = tacotron3(train_build)\n",
        "tacotron3.load_weights('/content/drive/MyDrive/tacotron2_model_save/tacotron2_model_weights.h5')"
      ],
      "metadata": {
        "colab": {
          "base_uri": "https://localhost:8080/"
        },
        "id": "8ves3hlT-Y3B",
        "outputId": "41275b27-4931-4194-fd22-3d7992fd50fd"
      },
      "execution_count": null,
      "outputs": [
        {
          "output_type": "stream",
          "name": "stdout",
          "text": [
            "==================== > --------------------------------------------------------------------------------\n",
            "======================================== > ------------------------------------------------------------\n",
            "============================================================ > ----------------------------------------\n",
            "================================================================================ > --------------------\n",
            "==================================================================================================== > \n"
          ]
        }
      ]
    },
    {
      "cell_type": "code",
      "source": [
        "learning_rate = 1e-3\n",
        "optimizer = Adam(learning_rate = learning_rate)\n",
        "tacotron3.compile(optimizer = optimizer,loss=MeanSquaredError(), metrics=['mse'])"
      ],
      "metadata": {
        "id": "FGnYJi-GAR9V"
      },
      "execution_count": null,
      "outputs": []
    },
    {
      "cell_type": "code",
      "source": [
        "tacotron3.fit(train_inputs, train_targets, epochs=1, batch_size=batch_size, verbose=1, shuffle=True)"
      ],
      "metadata": {
        "colab": {
          "base_uri": "https://localhost:8080/"
        },
        "id": "Gb4VAGSd-Sjm",
        "outputId": "a9af228c-2dc0-4a5b-bd79-626a07c0a98f"
      },
      "execution_count": null,
      "outputs": [
        {
          "output_type": "stream",
          "name": "stdout",
          "text": [
            "==================== > --------------------------------------------------------------------------------\n",
            "======================================== > ------------------------------------------------------------\n",
            "============================================================ > ----------------------------------------\n",
            "================================================================================ > --------------------\n",
            "==================================================================================================== > \n"
          ]
        },
        {
          "output_type": "stream",
          "name": "stderr",
          "text": [
            "WARNING:tensorflow:Gradients do not exist for variables ['tacotron2_1/batch_normalization_5/gamma:0', 'tacotron2_1/batch_normalization_5/beta:0'] when minimizing the loss. If you're using `model.compile()`, did you forget to provide a `loss` argument?\n",
            "WARNING:tensorflow:Gradients do not exist for variables ['tacotron2_1/batch_normalization_5/gamma:0', 'tacotron2_1/batch_normalization_5/beta:0'] when minimizing the loss. If you're using `model.compile()`, did you forget to provide a `loss` argument?\n"
          ]
        },
        {
          "output_type": "stream",
          "name": "stdout",
          "text": [
            "==================== > --------------------------------------------------------------------------------\n",
            "======================================== > ------------------------------------------------------------\n",
            "============================================================ > ----------------------------------------\n",
            "================================================================================ > --------------------\n",
            "==================================================================================================== > \n"
          ]
        },
        {
          "output_type": "stream",
          "name": "stderr",
          "text": [
            "WARNING:tensorflow:Gradients do not exist for variables ['tacotron2_1/batch_normalization_5/gamma:0', 'tacotron2_1/batch_normalization_5/beta:0'] when minimizing the loss. If you're using `model.compile()`, did you forget to provide a `loss` argument?\n",
            "WARNING:tensorflow:Gradients do not exist for variables ['tacotron2_1/batch_normalization_5/gamma:0', 'tacotron2_1/batch_normalization_5/beta:0'] when minimizing the loss. If you're using `model.compile()`, did you forget to provide a `loss` argument?\n"
          ]
        },
        {
          "output_type": "stream",
          "name": "stdout",
          "text": [
            "6/6 [==============================] - 2382s 7s/step - loss: 0.0834 - output_1_loss: 0.0784 - output_2_loss: 0.0051 - output_1_mse: 0.0784 - output_2_mse: 0.0051\n"
          ]
        },
        {
          "output_type": "execute_result",
          "data": {
            "text/plain": [
              "<keras.callbacks.History at 0x7a32078e87c0>"
            ]
          },
          "metadata": {},
          "execution_count": 24
        }
      ]
    },
    {
      "cell_type": "code",
      "source": [
        "model_json = tacotron3.to_json()\n",
        "with open('tacotron2_model.json', 'w') as json_file:\n",
        "    json_file.write(model_json)\n"
      ],
      "metadata": {
        "id": "02danhGdBo48"
      },
      "execution_count": null,
      "outputs": []
    },
    {
      "cell_type": "code",
      "source": [
        "# 가중치를 저장\n",
        "tacotron3.save_weights('tacotron2_model_weights.h5')"
      ],
      "metadata": {
        "id": "_UE0JjLdBoxV"
      },
      "execution_count": null,
      "outputs": []
    },
    {
      "cell_type": "code",
      "source": [
        "import shutil\n",
        "#os.mkdir('tacotron2_model_save_2')\n",
        "shutil.copy('tacotron2_model.json', 'tacotron2_model_save_2/')\n",
        "shutil.copy('tacotron2_model_weights.h5', 'tacotron2_model_save_2/')\n",
        "\n",
        "shutil.copytree('tacotron2_model_save_2/', '/content/drive/MyDrive/tacotron2_model_save_2/')\n",
        "# 현재 작업 디렉토리에 있는 Tacotron2 폴더를 구글 드라이브로 복사\n",
        "#shutil.copytree('tacotron2_model', '/content/drive/MyDrive/tacotron2_model2')"
      ],
      "metadata": {
        "colab": {
          "base_uri": "https://localhost:8080/",
          "height": 35
        },
        "id": "tlgSFUQYBn2a",
        "outputId": "3ffb3912-064f-474c-b4b3-6b1814fe9a1e"
      },
      "execution_count": null,
      "outputs": [
        {
          "output_type": "execute_result",
          "data": {
            "text/plain": [
              "'/content/drive/MyDrive/tacotron2_model_save_2/'"
            ],
            "application/vnd.google.colaboratory.intrinsic+json": {
              "type": "string"
            }
          },
          "metadata": {},
          "execution_count": 31
        }
      ]
    },
    {
      "cell_type": "markdown",
      "source": [
        "#Model Training and Save(August 2nd -2)"
      ],
      "metadata": {
        "id": "DHh68Xr-KivZ"
      }
    },
    {
      "cell_type": "code",
      "source": [
        "with open('/content/drive/MyDrive/tacotron2_model_save_2/tacotron2_model.json', 'r') as json_file:\n",
        "    model_json = json_file.read()"
      ],
      "metadata": {
        "id": "9xk5lVThKh41"
      },
      "execution_count": null,
      "outputs": []
    },
    {
      "cell_type": "code",
      "source": [
        "tacotron3 = model_from_json(model_json, custom_objects={'Tacotron2': Tacotron2,\n",
        "                                                   'Encoder':Encoder, 'Decoder':Decoder, 'Attention':Attention})\n",
        "_ = tacotron3(train_build)\n",
        "tacotron3.load_weights('/content/drive/MyDrive/tacotron2_model_save_2/tacotron2_model_weights.h5')"
      ],
      "metadata": {
        "colab": {
          "base_uri": "https://localhost:8080/"
        },
        "id": "8P1N9SfLLQ-J",
        "outputId": "2b35e410-3670-4599-fa79-a5febd3f743d"
      },
      "execution_count": null,
      "outputs": [
        {
          "output_type": "stream",
          "name": "stderr",
          "text": [
            "WARNING:tensorflow:5 out of the last 5 calls to <function Tacotron2.stop_cal at 0x7ff595e204c0> triggered tf.function retracing. Tracing is expensive and the excessive number of tracings could be due to (1) creating @tf.function repeatedly in a loop, (2) passing tensors with different shapes, (3) passing Python objects instead of tensors. For (1), please define your @tf.function outside of the loop. For (2), @tf.function has reduce_retracing=True option that can avoid unnecessary retracing. For (3), please refer to https://www.tensorflow.org/guide/function#controlling_retracing and https://www.tensorflow.org/api_docs/python/tf/function for  more details.\n",
            "WARNING:tensorflow:6 out of the last 6 calls to <function Tacotron2.stop_cal at 0x7ff595e204c0> triggered tf.function retracing. Tracing is expensive and the excessive number of tracings could be due to (1) creating @tf.function repeatedly in a loop, (2) passing tensors with different shapes, (3) passing Python objects instead of tensors. For (1), please define your @tf.function outside of the loop. For (2), @tf.function has reduce_retracing=True option that can avoid unnecessary retracing. For (3), please refer to https://www.tensorflow.org/guide/function#controlling_retracing and https://www.tensorflow.org/api_docs/python/tf/function for  more details.\n"
          ]
        },
        {
          "output_type": "stream",
          "name": "stdout",
          "text": [
            "==================== > --------------------------------------------------------------------------------\n",
            "======================================== > ------------------------------------------------------------\n",
            "============================================================ > ----------------------------------------\n",
            "================================================================================ > --------------------\n",
            "==================================================================================================== > \n"
          ]
        }
      ]
    },
    {
      "cell_type": "code",
      "source": [
        "learning_rate = 1e-3\n",
        "optimizer = Adam(learning_rate = learning_rate)\n",
        "tacotron3.compile(optimizer = optimizer,loss=MeanSquaredError(), metrics=['mse'])"
      ],
      "metadata": {
        "id": "Ry9LTN9TLZZZ"
      },
      "execution_count": null,
      "outputs": []
    },
    {
      "cell_type": "code",
      "source": [
        "tacotron3.fit(train_inputs, train_targets, epochs=1, batch_size=batch_size, verbose=1, shuffle=True)"
      ],
      "metadata": {
        "colab": {
          "base_uri": "https://localhost:8080/"
        },
        "id": "VjlByhFXLdC8",
        "outputId": "cb4e1a80-ceec-4a5c-dbf9-ca31da377467"
      },
      "execution_count": null,
      "outputs": [
        {
          "output_type": "stream",
          "name": "stdout",
          "text": [
            "==================== > --------------------------------------------------------------------------------\n",
            "======================================== > ------------------------------------------------------------\n",
            "============================================================ > ----------------------------------------\n",
            "================================================================================ > --------------------\n",
            "==================================================================================================== > \n"
          ]
        },
        {
          "output_type": "stream",
          "name": "stderr",
          "text": [
            "WARNING:tensorflow:Gradients do not exist for variables ['tacotron2_1/batch_normalization_5/gamma:0', 'tacotron2_1/batch_normalization_5/beta:0'] when minimizing the loss. If you're using `model.compile()`, did you forget to provide a `loss` argument?\n",
            "WARNING:tensorflow:Gradients do not exist for variables ['tacotron2_1/batch_normalization_5/gamma:0', 'tacotron2_1/batch_normalization_5/beta:0'] when minimizing the loss. If you're using `model.compile()`, did you forget to provide a `loss` argument?\n"
          ]
        },
        {
          "output_type": "stream",
          "name": "stdout",
          "text": [
            "==================== > --------------------------------------------------------------------------------\n",
            "======================================== > ------------------------------------------------------------\n",
            "============================================================ > ----------------------------------------\n",
            "================================================================================ > --------------------\n",
            "==================================================================================================== > \n"
          ]
        },
        {
          "output_type": "stream",
          "name": "stderr",
          "text": [
            "WARNING:tensorflow:Gradients do not exist for variables ['tacotron2_1/batch_normalization_5/gamma:0', 'tacotron2_1/batch_normalization_5/beta:0'] when minimizing the loss. If you're using `model.compile()`, did you forget to provide a `loss` argument?\n",
            "WARNING:tensorflow:Gradients do not exist for variables ['tacotron2_1/batch_normalization_5/gamma:0', 'tacotron2_1/batch_normalization_5/beta:0'] when minimizing the loss. If you're using `model.compile()`, did you forget to provide a `loss` argument?\n"
          ]
        },
        {
          "output_type": "stream",
          "name": "stdout",
          "text": [
            "6/6 [==============================] - 2387s 7s/step - loss: 0.0733 - output_1_loss: 0.0721 - output_2_loss: 0.0012 - output_1_mse: 0.0721 - output_2_mse: 0.0012\n"
          ]
        },
        {
          "output_type": "execute_result",
          "data": {
            "text/plain": [
              "<keras.callbacks.History at 0x7ff4935cbcd0>"
            ]
          },
          "metadata": {},
          "execution_count": 17
        }
      ]
    },
    {
      "cell_type": "code",
      "source": [
        "model_json = tacotron3.to_json()\n",
        "with open('tacotron2_model.json', 'w') as json_file:\n",
        "    json_file.write(model_json)\n"
      ],
      "metadata": {
        "id": "ZO3ZP1z_VKAi"
      },
      "execution_count": null,
      "outputs": []
    },
    {
      "cell_type": "code",
      "source": [
        "tacotron3.save_weights('tacotron2_model_weights.h5')"
      ],
      "metadata": {
        "id": "QYcbod8dVQ5-"
      },
      "execution_count": null,
      "outputs": []
    },
    {
      "cell_type": "markdown",
      "source": [
        "#Model Training"
      ],
      "metadata": {
        "id": "OkRkAsmSwRb5"
      }
    },
    {
      "cell_type": "code",
      "source": [
        "def model_save_and_move(model_name,architecture_name,weights_name,save_folder_name,google_drive_save):\n",
        "  model_json = model_name.to_json()\n",
        "  with open(architecture_name, 'w') as json_file:\n",
        "    json_file.write(model_json)\n",
        "  model_name.save_weights(weights_name)\n",
        "  os.mkdir(save_folder_name)\n",
        "  shutil.copy(architecture_name, save_folder_name)\n",
        "  shutil.copy(weights_name, save_folder_name)\n",
        "  shutil.copytree(save_folder_name, google_drive_save)"
      ],
      "metadata": {
        "id": "1BA4WZI5C91i"
      },
      "execution_count": null,
      "outputs": []
    },
    {
      "cell_type": "code",
      "source": [
        "model_json = tacotron2.to_json()\n",
        "with open('tacotron2_model.json', 'w') as json_file:\n",
        "    json_file.write(model_json)\n"
      ],
      "metadata": {
        "id": "sdFufXYdWcdm"
      },
      "execution_count": null,
      "outputs": []
    },
    {
      "cell_type": "code",
      "source": [
        "# 가중치를 저장\n",
        "tacotron2.save_weights('tacotron2_model_weights.h5')"
      ],
      "metadata": {
        "id": "GT3iyGBMWluc"
      },
      "execution_count": null,
      "outputs": []
    },
    {
      "cell_type": "code",
      "source": [
        "# 모델 아키텍처를 로드할 때 사용자 정의 클래스 등록\n",
        "with open('tacotron2_model.json', 'r') as json_file:\n",
        "    model_json = json_file.read()\n",
        "\n",
        "# custom_objects 매개변수에 Tacotron2 클래스 등록\n",
        "tacotron3 = model_from_json(model_json, custom_objects={'Tacotron2': Tacotron2,\n",
        "                                                        'Encoder':Encoder, 'Decoder':Decoder, 'Attention':Attention})\n"
      ],
      "metadata": {
        "id": "MO6eU6tFWowX"
      },
      "execution_count": null,
      "outputs": []
    },
    {
      "cell_type": "code",
      "source": [
        "# 가중치를 로드\n",
        "_ = tacotron3(train_build)\n",
        "tacotron3.load_weights('tacotron2_model_weights.h5')"
      ],
      "metadata": {
        "colab": {
          "base_uri": "https://localhost:8080/"
        },
        "id": "mWzgFomqWt8q",
        "outputId": "95d5fa6c-f12d-45f2-cdb7-c2d99c375c1f"
      },
      "execution_count": null,
      "outputs": [
        {
          "output_type": "stream",
          "name": "stderr",
          "text": [
            "WARNING:tensorflow:5 out of the last 5 calls to <function Tacotron2.stop_cal at 0x77fa018d3490> triggered tf.function retracing. Tracing is expensive and the excessive number of tracings could be due to (1) creating @tf.function repeatedly in a loop, (2) passing tensors with different shapes, (3) passing Python objects instead of tensors. For (1), please define your @tf.function outside of the loop. For (2), @tf.function has reduce_retracing=True option that can avoid unnecessary retracing. For (3), please refer to https://www.tensorflow.org/guide/function#controlling_retracing and https://www.tensorflow.org/api_docs/python/tf/function for  more details.\n",
            "WARNING:tensorflow:6 out of the last 6 calls to <function Tacotron2.stop_cal at 0x77fa018d3490> triggered tf.function retracing. Tracing is expensive and the excessive number of tracings could be due to (1) creating @tf.function repeatedly in a loop, (2) passing tensors with different shapes, (3) passing Python objects instead of tensors. For (1), please define your @tf.function outside of the loop. For (2), @tf.function has reduce_retracing=True option that can avoid unnecessary retracing. For (3), please refer to https://www.tensorflow.org/guide/function#controlling_retracing and https://www.tensorflow.org/api_docs/python/tf/function for  more details.\n"
          ]
        },
        {
          "output_type": "stream",
          "name": "stdout",
          "text": [
            "==================== > --------------------------------------------------------------------------------\n",
            "======================================== > ------------------------------------------------------------\n",
            "============================================================ > ----------------------------------------\n",
            "================================================================================ > --------------------\n",
            "==================================================================================================== > \n"
          ]
        }
      ]
    },
    {
      "cell_type": "code",
      "source": [
        "import shutil\n",
        "\n",
        "# 현재 작업 디렉토리에 있는 Tacotron2 폴더를 구글 드라이브로 복사\n",
        "shutil.copytree('tacotron2_model', '/content/drive/MyDrive/tacotron2_model2')"
      ],
      "metadata": {
        "id": "B_5PIVdCX2ZR",
        "colab": {
          "base_uri": "https://localhost:8080/",
          "height": 35
        },
        "outputId": "d5bf4d5f-d219-4501-98bc-b4b43bb4fd90"
      },
      "execution_count": null,
      "outputs": [
        {
          "output_type": "execute_result",
          "data": {
            "text/plain": [
              "'/content/drive/MyDrive/tacotron2_model2'"
            ],
            "application/vnd.google.colaboratory.intrinsic+json": {
              "type": "string"
            }
          },
          "metadata": {},
          "execution_count": 17
        }
      ]
    },
    {
      "cell_type": "markdown",
      "metadata": {
        "id": "KyGEYZIOynH0"
      },
      "source": [
        "#Model_load and Predict"
      ]
    },
    {
      "cell_type": "code",
      "source": [
        "train_inputs = word_vec_transpose\n",
        "#stop_target = np.zeros(shape=(1, mel_temporal))\n",
        "#stop_target[0,-1] = 1\n",
        "#train_targets = (mel_spectrogram,stop_target)\n",
        "batch_size = 32\n",
        "tacotron2.compile(optimizer = optimizer,loss=MeanSquaredError(), metrics=['mse'])\n",
        "tacotron2.fit(train_inputs, train_targets, epochs=10, batch_size=batch_size, verbose=1, shuffle=True)"
      ],
      "metadata": {
        "id": "be4UTHCcRxui",
        "colab": {
          "base_uri": "https://localhost:8080/"
        },
        "outputId": "33d1fc83-2a99-479b-f493-bb630e855b61"
      },
      "execution_count": null,
      "outputs": [
        {
          "output_type": "stream",
          "name": "stdout",
          "text": [
            "Epoch 1/10\n",
            "==================== > --------------------------------------------------------------------------------\n",
            "======================================== > ------------------------------------------------------------\n",
            "============================================================ > ----------------------------------------\n",
            "================================================================================ > --------------------\n",
            "==================================================================================================== > \n",
            "==================== > --------------------------------------------------------------------------------\n",
            "======================================== > ------------------------------------------------------------\n",
            "============================================================ > ----------------------------------------\n",
            "================================================================================ > --------------------\n",
            "==================================================================================================== > \n"
          ]
        }
      ]
    },
    {
      "cell_type": "code",
      "source": [
        "tacotron2.save('tacotron2_model',save_format='tf')\n",
        "print('save 끝 ')"
      ],
      "metadata": {
        "id": "yw4x0HfMwQ8W"
      },
      "execution_count": null,
      "outputs": []
    },
    {
      "cell_type": "code",
      "execution_count": null,
      "metadata": {
        "id": "Li63eZY32T9s"
      },
      "outputs": [],
      "source": [
        "from tensorflow.keras.models import load_model\n",
        "\n",
        "#loaded_tacotron2 = load_model('tacotron2_model')\n",
        "\n",
        "loaded_model = load_model('/content/drive/MyDrive/tacotron2_model2', custom_objects={\n",
        "    'Encoder': 'Encoder',\n",
        "    'Attention': 'Attention',\n",
        "    'Decoder': 'Decoder',\n",
        "    'Tacotron2': 'Tacotron2'\n",
        "})\n",
        "\n",
        "\n",
        "\n",
        "\n",
        "\n",
        "\n",
        "\n",
        "\n"
      ]
    },
    {
      "cell_type": "code",
      "source": [
        "checkpoint_callback = ModelCheckpoint(\n",
        "    filepath='check_point_tacotron2',  # 저장될 파일 경로와 이름 형식\n",
        "    save_freq=,  # 'epoch'로 설정하면 매 에포크마다 저장됩니다.\n",
        "    save_best_only=True,  # True로 설정하면 개선된 모델만 저장합니다.\n",
        "    monitor='손실_또는_평가_지표',  # 모니터링할 지표 설정\n",
        "    mode='auto',  # 'min', 'max', 또는 'auto'로 설정하여 지표가 최소화 또는 최대화되는지 결정\n",
        "    verbose=1  # 1로 설정하면 저장이 발생할 때마다 메시지가 출력됩니다.\n",
        ")"
      ],
      "metadata": {
        "id": "iOSodP1PjxVN"
      },
      "execution_count": null,
      "outputs": []
    },
    {
      "cell_type": "code",
      "execution_count": null,
      "metadata": {
        "id": "BFOwnNH6VllD"
      },
      "outputs": [],
      "source": [
        "loaded_tacotron2.training = False\n",
        "loaded_tacotron2.summary()"
      ]
    },
    {
      "cell_type": "code",
      "execution_count": null,
      "metadata": {
        "id": "pTv3dLXbbROE"
      },
      "outputs": [],
      "source": [
        "sentence_list = ['처음은안녕하세요']\n",
        "word_vec_predict = ko_embedding.call(sentence_list)\n",
        "word_vec_predict = tf.cast(word_vec_predict, tf.dtypes.float32)\n",
        "print(word_vec_predict.shape)"
      ]
    },
    {
      "cell_type": "code",
      "execution_count": null,
      "metadata": {
        "id": "VGlrgs3AwJGe"
      },
      "outputs": [],
      "source": [
        "batch_size = 3\n",
        "word_vec_predict_batch = tf.tile(word_vec_predict, [batch_size, 1, 1])\n",
        "print(word_vec_predict_batch.shape)\n"
      ]
    },
    {
      "cell_type": "code",
      "execution_count": null,
      "metadata": {
        "id": "fC2NInZ2fuv5"
      },
      "outputs": [],
      "source": [
        "\n",
        "output, _ = loaded_tacotron2.predict(word_vec_predict_batch)\n"
      ]
    },
    {
      "cell_type": "code",
      "execution_count": null,
      "metadata": {
        "id": "S8a47GlywS5_"
      },
      "outputs": [],
      "source": [
        "print(output.shape)"
      ]
    },
    {
      "cell_type": "code",
      "execution_count": null,
      "metadata": {
        "id": "yu1WXhx_0BwY"
      },
      "outputs": [],
      "source": [
        "'''\n",
        "odel: \"tacotron2\"\n",
        "_________________________________________________________________\n",
        " Layer (type)                Output Shape              Param #\n",
        "=================================================================\n",
        " encoder (Encoder)           multiple                  596392\n",
        "\n",
        " attention (Attention)       multiple                  131713\n",
        "\n",
        " decoder (Decoder)           multiple                  3214080\n",
        "\n",
        " dense_6 (Dense)             multiple                  513\n",
        "\n",
        " dense_7 (Dense)             multiple                  513\n",
        "\n",
        " conv1d_4 (Conv1D)           multiple                  63504\n",
        "\n",
        " conv1d_5 (Conv1D)           multiple                  15904\n",
        "\n",
        " conv1d_6 (Conv1D)           multiple                  63552\n",
        "\n",
        " conv1d_7 (Conv1D)           multiple                  254080\n",
        "\n",
        " batch_normalization_3 (Batc  multiple                 0\n",
        " hNormalization)\n",
        "\n",
        "=================================================================\n",
        "Total params: 4,340,251\n",
        "Trainable params: 4,340,139\n",
        "Non-trainable params: 112\n",
        "____________________________\n",
        "'''\n"
      ]
    },
    {
      "cell_type": "code",
      "source": [
        "tacotron2.summary()"
      ],
      "metadata": {
        "colab": {
          "base_uri": "https://localhost:8080/"
        },
        "id": "SUHzIzqhW8tX",
        "outputId": "9c913dfa-45d1-434c-e7d3-c5518eb74460"
      },
      "execution_count": null,
      "outputs": [
        {
          "output_type": "stream",
          "name": "stdout",
          "text": [
            "Model: \"tacotron2_5\"\n",
            "_________________________________________________________________\n",
            " Layer (type)                Output Shape              Param #   \n",
            "=================================================================\n",
            " encoder_5 (Encoder)         multiple                  0 (unused)\n",
            "                                                                 \n",
            " attention_4 (Attention)     multiple                  0 (unused)\n",
            "                                                                 \n",
            " decoder_4 (Decoder)         multiple                  0 (unused)\n",
            "                                                                 \n",
            " dense_38 (Dense)            multiple                  129       \n",
            "                                                                 \n",
            " dense_39 (Dense)            multiple                  129       \n",
            "                                                                 \n",
            " conv1d_27 (Conv1D)          multiple                  127008    \n",
            "                                                                 \n",
            " conv1d_28 (Conv1D)          multiple                  63552     \n",
            "                                                                 \n",
            " conv1d_29 (Conv1D)          multiple                  254080    \n",
            "                                                                 \n",
            "=================================================================\n",
            "Total params: 731,571\n",
            "Trainable params: 731,571\n",
            "Non-trainable params: 0\n",
            "_________________________________________________________________\n"
          ]
        }
      ]
    },
    {
      "cell_type": "markdown",
      "source": [
        "#Model Test Predict\n"
      ],
      "metadata": {
        "id": "C0x4G1hMVlOh"
      }
    },
    {
      "cell_type": "code",
      "source": [
        "ko = ko_embedding()\n",
        "word_vec_t = ko.call([['처음은 안녕하세요']])\n",
        "word_vec_transpose = tf.transpose(word_vec_t, perm=[0,2,1])\n",
        "#word_vec_transpose = tf.tile(word_vec_transpose, [batch_size,1,1 ])\n",
        "print(word_vec_transpose.shape)"
      ],
      "metadata": {
        "colab": {
          "base_uri": "https://localhost:8080/"
        },
        "id": "TjHQmnBTVkBO",
        "outputId": "121e5a76-78b5-4ac9-a7db-30e3a7163136"
      },
      "execution_count": null,
      "outputs": [
        {
          "output_type": "stream",
          "name": "stdout",
          "text": [
            "첫번 째 sentence:['처음은 안녕하세요']\n",
            "(16, 128, 23)\n"
          ]
        }
      ]
    },
    {
      "cell_type": "code",
      "source": [
        "final = np.pad(word_vec_transpose, pad_width = ((0,0),(0,0), (0,71)),\n",
        "            mode = 'constant', constant_values=0)\n",
        "print(final.shape)"
      ],
      "metadata": {
        "colab": {
          "base_uri": "https://localhost:8080/"
        },
        "id": "rVLTP5uyWTFM",
        "outputId": "68b32741-d4b8-4552-ce92-5a41230b0853"
      },
      "execution_count": null,
      "outputs": [
        {
          "output_type": "stream",
          "name": "stdout",
          "text": [
            "(16, 128, 94)\n"
          ]
        }
      ]
    },
    {
      "cell_type": "code",
      "source": [
        "with open('/content/drive/MyDrive/tacotron2_model_save_3/tacotron2_model.json', 'r') as json_file:\n",
        "    model_json = json_file.read()"
      ],
      "metadata": {
        "id": "yU4m2kGJacBc"
      },
      "execution_count": null,
      "outputs": []
    },
    {
      "cell_type": "code",
      "source": [
        "tacotron3 = model_from_json(model_json, custom_objects={'Tacotron2': Tacotron2,\n",
        "                                                   'Encoder':Encoder, 'Decoder':Decoder, 'Attention':Attention})\n",
        "_ = tacotron3(train_build)\n",
        "tacotron3.load_weights('/content/drive/MyDrive/tacotron2_model_save_3/tacotron2_model_weights.h5')"
      ],
      "metadata": {
        "colab": {
          "base_uri": "https://localhost:8080/"
        },
        "id": "snusJgw-ae-F",
        "outputId": "d5a05d0b-8c04-44a0-9116-dc2dbea384e0"
      },
      "execution_count": null,
      "outputs": [
        {
          "output_type": "stream",
          "name": "stderr",
          "text": [
            "WARNING:tensorflow:5 out of the last 5 calls to <function Tacotron2.stop_cal at 0x79471a11d1b0> triggered tf.function retracing. Tracing is expensive and the excessive number of tracings could be due to (1) creating @tf.function repeatedly in a loop, (2) passing tensors with different shapes, (3) passing Python objects instead of tensors. For (1), please define your @tf.function outside of the loop. For (2), @tf.function has reduce_retracing=True option that can avoid unnecessary retracing. For (3), please refer to https://www.tensorflow.org/guide/function#controlling_retracing and https://www.tensorflow.org/api_docs/python/tf/function for  more details.\n",
            "WARNING:tensorflow:6 out of the last 6 calls to <function Tacotron2.stop_cal at 0x79471a11d1b0> triggered tf.function retracing. Tracing is expensive and the excessive number of tracings could be due to (1) creating @tf.function repeatedly in a loop, (2) passing tensors with different shapes, (3) passing Python objects instead of tensors. For (1), please define your @tf.function outside of the loop. For (2), @tf.function has reduce_retracing=True option that can avoid unnecessary retracing. For (3), please refer to https://www.tensorflow.org/guide/function#controlling_retracing and https://www.tensorflow.org/api_docs/python/tf/function for  more details.\n"
          ]
        },
        {
          "output_type": "stream",
          "name": "stdout",
          "text": [
            "==================== > --------------------------------------------------------------------------------\n",
            "======================================== > ------------------------------------------------------------\n",
            "============================================================ > ----------------------------------------\n",
            "================================================================================ > --------------------\n",
            "==================================================================================================== > \n"
          ]
        }
      ]
    },
    {
      "cell_type": "code",
      "source": [
        "tacotron3.training = True"
      ],
      "metadata": {
        "id": "btosU7XoXBun"
      },
      "execution_count": null,
      "outputs": []
    },
    {
      "cell_type": "code",
      "source": [
        "mel, stop = tacotron3.predict(final,batch_size = 16)"
      ],
      "metadata": {
        "colab": {
          "base_uri": "https://localhost:8080/"
        },
        "id": "iaT_ReOZXFbs",
        "outputId": "47699464-1fca-49d5-f143-29c03bbb8296"
      },
      "execution_count": null,
      "outputs": [
        {
          "output_type": "stream",
          "name": "stdout",
          "text": [
            "==================== > --------------------------------------------------------------------------------\n",
            "======================================== > ------------------------------------------------------------\n",
            "============================================================ > ----------------------------------------\n",
            "================================================================================ > --------------------\n",
            "==================================================================================================== > \n",
            "1/1 [==============================] - 670s 670s/step\n"
          ]
        }
      ]
    },
    {
      "cell_type": "code",
      "source": [
        "print(mel[:1].shape)\n",
        "mel_test = mel[0]\n",
        "print(mel_test.shape)"
      ],
      "metadata": {
        "colab": {
          "base_uri": "https://localhost:8080/"
        },
        "id": "zf1SGKZodntE",
        "outputId": "9e78f058-8585-45bb-ed3c-bf6d10b3d01e"
      },
      "execution_count": null,
      "outputs": [
        {
          "output_type": "stream",
          "name": "stdout",
          "text": [
            "(1, 128, 846)\n",
            "(128, 846)\n"
          ]
        }
      ]
    },
    {
      "cell_type": "markdown",
      "metadata": {
        "id": "cn4MSJdqyisY"
      },
      "source": [
        "#Audio File TransFormation"
      ]
    },
    {
      "cell_type": "code",
      "execution_count": null,
      "metadata": {
        "id": "_WLn2DmXwVug",
        "colab": {
          "base_uri": "https://localhost:8080/",
          "height": 423
        },
        "outputId": "70794fe2-ea1a-4f3a-f776-2ab0b9e3ca1f"
      },
      "outputs": [
        {
          "output_type": "execute_result",
          "data": {
            "text/plain": [
              "<matplotlib.collections.QuadMesh at 0x794719dd2380>"
            ]
          },
          "metadata": {},
          "execution_count": 35
        },
        {
          "output_type": "display_data",
          "data": {
            "text/plain": [
              "<Figure size 640x480 with 1 Axes>"
            ],
            "image/png": "[encoded data removed]"
          },
          "metadata": {}
        }
      ],
      "source": [
        "S_db = librosa.amplitude_to_db(np.abs(mel_test), ref=np.max)\n",
        "librosa.display.specshow(S_db)\n",
        "\n"
      ]
    },
    {
      "cell_type": "code",
      "execution_count": null,
      "metadata": {
        "id": "otznhIu7xC7M"
      },
      "outputs": [],
      "source": [
        "import soundfile as sf\n",
        "inv_mel_spectrogram = librosa.feature.inverse.mel_to_audio(S_db)\n",
        "\n",
        "sf.write('stereo_file1.wav', inv_mel_spectrogram, 12000, 'PCM_24')"
      ]
    },
    {
      "cell_type": "code",
      "execution_count": null,
      "metadata": {
        "id": "L4beK9rQxQdU"
      },
      "outputs": [],
      "source": [
        "file_list = []\n",
        "for i in os.listdir('wav_folder'):\n",
        "  file_list.append(i)\n",
        "\n",
        "file_path = os.path.join('wav_folder', file_list[0])\n",
        "frequency, data = wavfile.read(file_path)\n",
        "ipd.Audio(data, rate=frequency)"
      ]
    },
    {
      "cell_type": "code",
      "source": [],
      "metadata": {
        "id": "U5mIWzNoeptB"
      },
      "execution_count": null,
      "outputs": []
    }
  ],
  "metadata": {
    "colab": {
      "collapsed_sections": [
        "EiSH43LOJ7EM",
        "hkji2aYQJye9",
        "dKj7JAAS5jGP",
        "0fqMQHrhzjZ5",
        "n8ZYzzqTOCu0",
        "ktQO6y09OQYz",
        "qiaMFD34Oza2",
        "bemSOkmvO_w1",
        "BONnogRjPMpP",
        "qmhRLd7RESkZ",
        "6z9-omgr-NqO",
        "DHh68Xr-KivZ",
        "OkRkAsmSwRb5",
        "KyGEYZIOynH0",
        "C0x4G1hMVlOh",
        "cn4MSJdqyisY"
      ],
      "provenance": [],
      "gpuType": "A100",
      "machine_shape": "hm",
      "authorship_tag": "ABX9TyMheQC9RFStqAjUBXIcqVrM",
      "include_colab_link": true
    },
    "kernelspec": {
      "display_name": "Python 3",
      "name": "python3"
    },
    "language_info": {
      "name": "python"
    },
    "accelerator": "GPU"
  },
  "nbformat": 4,
  "nbformat_minor": 0
}
{
  "nbformat": 4,
  "nbformat_minor": 0,
  "metadata": {
    "colab": {
      "provenance": [],
      "authorship_tag": "ABX9TyMKkmTmm20h7ta4gjAZouLm",
      "include_colab_link": true
    },
    "kernelspec": {
      "name": "python3",
      "display_name": "Python 3"
    },
    "language_info": {
      "name": "python"
    }
  },
  "cells": [
    {
      "cell_type": "markdown",
      "metadata": {
        "id": "view-in-github",
        "colab_type": "text"
      },
      "source": [
        "<a href=\"https://colab.research.google.com/github/YogiJungHoonYeon/Artificial-Intelligence-Lang/blob/main/Conv2D.ipynb\" target=\"_parent\"><img src=\"https://colab.research.google.com/assets/colab-badge.svg\" alt=\"Open In Colab\"/></a>"
      ]
    },
    {
      "cell_type": "code",
      "execution_count": null,
      "metadata": {
        "id": "BLZXOGZSYJxp"
      },
      "outputs": [],
      "source": [
        "#Input.shape(1,28,28,1)\n",
        "import numpy as np\n",
        "import matplotlib.pyplot as plt\n",
        "import random\n",
        "\n",
        "def make_kernel(kernel_size):\n",
        "  kernel = np.random.rand(kernel_size, kernel_size)\n",
        "  return kernel\n",
        "\n",
        "def black_white_conv_(input, kernel_size,i=0 ):\n",
        "  #input(n,28,28,1)\n",
        "  size = (28 - kernel_size) + 1\n",
        "  output_array  = np.zeros((size, size))\n",
        "  kernel = make_kernel(kernel_size)\n",
        "  length = kernel.shape[0]\n",
        "  n_of_picture = input[0]\n",
        "  for i in range(n_of_picture):\n",
        "    for j in range(28):\n",
        "      for m in range(28):\n",
        "        result = input[i,m:m+length,j:j+length] * kernel #(3,3) * (3,3)\n",
        "        result = np.array(result)\n",
        "        result = result.mean()\n",
        "        output_array[m,j] = result\n",
        "  return output_array\n",
        "\n"
      ]
    }
  ]
}
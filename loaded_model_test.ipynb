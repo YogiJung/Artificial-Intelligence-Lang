{
  "nbformat": 4,
  "nbformat_minor": 0,
  "metadata": {
    "colab": {
      "provenance": [],
      "gpuType": "V100",
      "authorship_tag": "ABX9TyMBStBhZHZ4y2MOIMUgcHSx",
      "include_colab_link": true
    },
    "kernelspec": {
      "name": "python3",
      "display_name": "Python 3"
    },
    "language_info": {
      "name": "python"
    }
  },
  "cells": [
    {
      "cell_type": "markdown",
      "metadata": {
        "id": "view-in-github",
        "colab_type": "text"
      },
      "source": [
        "<a href=\"https://colab.research.google.com/github/YogiJungHoonYeon/Artificial-Intelligence-Lang/blob/main/loaded_model_test.ipynb\" target=\"_parent\"><img src=\"https://colab.research.google.com/assets/colab-badge.svg\" alt=\"Open In Colab\"/></a>"
      ]
    },
    {
      "cell_type": "code",
      "execution_count": null,
      "metadata": {
        "colab": {
          "base_uri": "https://localhost:8080/"
        },
        "id": "v0m_pJ1dY89S",
        "outputId": "34b58a2a-7ce3-433a-8018-85ca17545c91"
      },
      "outputs": [
        {
          "output_type": "stream",
          "name": "stdout",
          "text": [
            "Mounted at /content/drive\n"
          ]
        }
      ],
      "source": [
        "from google.colab import drive\n",
        "\n",
        "drive.mount('/content/drive')"
      ]
    },
    {
      "cell_type": "code",
      "source": [
        "from tensorflow.keras.activations import tanh, softmax\n",
        "from tensorflow.random import uniform\n",
        "from tensorflow.keras.layers import Conv1D, BatchNormalization, Bidirectional, Dense, LSTM\n",
        "from tensorflow.keras.models import Model,load_model\n",
        "from tensorflow.keras.losses import MeanSquaredError, Loss\n",
        "from tensorflow.keras.optimizers import Adam\n",
        "import tensorflow as tf\n",
        "import os"
      ],
      "metadata": {
        "id": "UQMMDALLZQeQ"
      },
      "execution_count": null,
      "outputs": []
    },
    {
      "cell_type": "code",
      "source": [
        "import librosa\n",
        "\n",
        "audio_list = []\n",
        "for file_name in os.listdir('/content/drive/MyDrive/wav_datasets/'):\n",
        "  audio_list.append(file_name)\n",
        "\n",
        "file_path = os.path.join('/content/drive/MyDrive/wav_datasets/',audio_list[0])\n",
        "y, sr = librosa.load(file_path)\n",
        "# mel spectrogram 계산\n",
        "mel_spectrogram = librosa.feature.melspectrogram(y=y, sr=sr, n_mels=64)\n",
        "\n",
        "\n",
        "# mel spectrogram의 shape 출력\n",
        "print(mel_spectrogram.shape)\n"
      ],
      "metadata": {
        "colab": {
          "base_uri": "https://localhost:8080/"
        },
        "id": "32ZDNOYZ5EpR",
        "outputId": "527295a3-8dc8-4b3d-e4af-dcb994b0017e"
      },
      "execution_count": null,
      "outputs": [
        {
          "output_type": "stream",
          "name": "stdout",
          "text": [
            "(64, 100)\n"
          ]
        }
      ]
    },
    {
      "cell_type": "code",
      "source": [
        "model = load_model('drive/MyDrive/tacotron2_model')\n"
      ],
      "metadata": {
        "id": "CsT9IrArZY4P"
      },
      "execution_count": null,
      "outputs": []
    },
    {
      "cell_type": "code",
      "source": [
        "word_vec_test = tf.random.normal(shape=(1,26,512))\n",
        "model.training = False"
      ],
      "metadata": {
        "id": "VQ1_g9mkb66B"
      },
      "execution_count": null,
      "outputs": []
    },
    {
      "cell_type": "code",
      "source": [
        "output, _ = model.predict(word_vec_test)"
      ],
      "metadata": {
        "colab": {
          "base_uri": "https://localhost:8080/"
        },
        "id": "3HJhOX0pcH30",
        "outputId": "88616728-653f-49a9-8b7f-7b887ca20be3"
      },
      "execution_count": null,
      "outputs": [
        {
          "output_type": "stream",
          "name": "stdout",
          "text": [
            "1/1 [==============================] - 116s 116s/step\n"
          ]
        }
      ]
    },
    {
      "cell_type": "code",
      "source": [
        "print(output.shape)"
      ],
      "metadata": {
        "id": "wQk0OwKQelr8",
        "outputId": "4f287f68-3b91-43fb-bec9-e6d95cd60908",
        "colab": {
          "base_uri": "https://localhost:8080/"
        }
      },
      "execution_count": null,
      "outputs": [
        {
          "output_type": "stream",
          "name": "stdout",
          "text": [
            "(1, 128, 454)\n"
          ]
        }
      ]
    },
    {
      "cell_type": "code",
      "source": [
        "stop_list = []\n",
        "for i in range(454):\n",
        "  normal = tf.random.normal(shape=(1,1))\n",
        "  stop_list.append(normal)\n",
        "#print(len(stop_list))\n",
        "stop_train = tf.concat(stop_list,axis = -1)\n",
        "\n",
        "print(stop_train.shape)"
      ],
      "metadata": {
        "colab": {
          "base_uri": "https://localhost:8080/"
        },
        "id": "XlL_wjmB1lAM",
        "outputId": "5896dc3a-04ef-4ad8-f957-11f0da371177"
      },
      "execution_count": null,
      "outputs": [
        {
          "output_type": "stream",
          "name": "stdout",
          "text": [
            "(1, 454)\n"
          ]
        }
      ]
    }
  ]
}